{
 "cells": [
  {
   "cell_type": "code",
   "execution_count": 1,
   "metadata": {},
   "outputs": [],
   "source": [
    "import ee\n",
    "import geemap"
   ]
  },
  {
   "cell_type": "code",
   "execution_count": 2,
   "metadata": {},
   "outputs": [],
   "source": [
    "ee.Initialize()"
   ]
  },
  {
   "cell_type": "code",
   "execution_count": 3,
   "metadata": {},
   "outputs": [],
   "source": [
    "from datetime import datetime"
   ]
  },
  {
   "cell_type": "code",
   "execution_count": 4,
   "metadata": {},
   "outputs": [],
   "source": [
    "Map = geemap.Map()"
   ]
  },
  {
   "cell_type": "code",
   "execution_count": 5,
   "metadata": {},
   "outputs": [],
   "source": [
    "def sen2_print(s2_collection):\n",
    "  '''\n",
    "  prints the important properites of sentienel 2 data collection\n",
    "  '''\n",
    "  print('CLOUDY_PIXEL_PERCENTAGE  :',s2_collection.aggregate_array('CLOUDY_PIXEL_PERCENTAGE').getInfo())\n",
    "  print('VEGETATION_PERCENTAGE    :',s2_collection.aggregate_array('VEGETATION_PERCENTAGE').getInfo())\n",
    "  print('NOT_VEGETATED_PERCENTAGE :',s2_collection.aggregate_array('NOT_VEGETATED_PERCENTAGE').getInfo())\n",
    "\n",
    "  # print('SENSOR_QUCLOUD_COVERAGE_ASSESSMENTALITY :',s2_collection.aggregate_array('CLOUD_COVERAGE_ASSESSMENT').getInfo())\n",
    "  # print('GENERATION_TIME          :',s2_collection.aggregate_array('GENERATION_TIME').getInfo())\n",
    "  # print('SENSING_ORBIT_NUMBER     :',s2_collection.aggregate_array('SENSING_ORBIT_NUMBER').getInfo())\n",
    "  print('NODATA_PIXEL_PERCENTAGE  :',s2_collection.aggregate_array('NODATA_PIXEL_PERCENTAGE').getInfo())\n",
    "  # print('DATATAKE_TYPE            :',s2_collection.aggregate_array('DATATAKE_TYPE').getInfo())\n",
    "  # print('SENSING_ORBIT_NUMBER     :',s2_collection.aggregate_array('SENSING_ORBIT_NUMBER').getInfo())\n",
    "  print('SNOW_ICE_PERCENTAGE      :',s2_collection.aggregate_array('SNOW_ICE_PERCENTAGE').getInfo())\n",
    "  # print('THIN_CIRRUS_PERCENTAGE   :',s2_collection.aggregate_array('THIN_CIRRUS_PERCENTAGE').getInfo())\n",
    "  print('WATER_PERCENTAGE         :',s2_collection.aggregate_array('WATER_PERCENTAGE').getInfo())\n",
    "  print('Date                     :',milsec2date(s2_collection.aggregate_array('system:time_start').getInfo()))\n",
    "  # print('system:band_names        :',s2_collection.aggregate_array('system:band_names').getInfo())"
   ]
  },
  {
   "cell_type": "markdown",
   "metadata": {},
   "source": []
  },
  {
   "cell_type": "code",
   "execution_count": 6,
   "metadata": {},
   "outputs": [],
   "source": [
    "s2 = ee.ImageCollection(\"COPERNICUS/S2_HARMONIZED\")"
   ]
  },
  {
   "cell_type": "code",
   "execution_count": 7,
   "metadata": {},
   "outputs": [],
   "source": [
    "import rois"
   ]
  },
  {
   "cell_type": "code",
   "execution_count": 8,
   "metadata": {},
   "outputs": [
    {
     "name": "stdout",
     "output_type": "stream",
     "text": [
      "48\n"
     ]
    }
   ],
   "source": [
    "from rois import ROIS\n",
    "rois = ROIS()\n",
    "date_range = ('2017-05-20','2017-08-10')\n",
    "s2 = ee.ImageCollection('COPERNICUS/S2_HARMONIZED') \\\n",
    "    .filterDate(date_range[0],date_range[1]) \\\n",
    "    .filterBounds(rois.abudhabi)\n",
    "print(s2.size().getInfo())"
   ]
  },
  {
   "cell_type": "code",
   "execution_count": 9,
   "metadata": {},
   "outputs": [
    {
     "name": "stdout",
     "output_type": "stream",
     "text": [
      "0\n"
     ]
    }
   ],
   "source": [
    "date_range = ('2017-05-20','2017-08-10')\n",
    "s2 = ee.ImageCollection('COPERNICUS/S2_SR_HARMONIZED') \\\n",
    "                      .filterDate(date_range[0], date_range[1]) \\\n",
    "                      .filter(ee.Filter.lt('CLOUDY_PIXEL_PERCENTAGE',10)) \\\n",
    "                      .filter(ee.Filter.lt('SNOW_ICE_PERCENTAGE',10)) \\\n",
    "                      .filterBounds(rois.rio)\n",
    "print(s2.size().getInfo())"
   ]
  },
  {
   "cell_type": "code",
   "execution_count": 17,
   "metadata": {},
   "outputs": [
    {
     "name": "stdout",
     "output_type": "stream",
     "text": [
      "ROI name: abudhabi\n",
      "248\n",
      "ROI name: abudhabi_buffed\n",
      "248\n",
      "ROI name: aguasclaras\n",
      "80\n",
      "ROI name: aguasclaras_buffed\n",
      "162\n",
      "ROI name: aguasclaras_adj_goiania\n",
      "31\n",
      "ROI name: beihai\n",
      "64\n",
      "ROI name: beihai_buffed\n",
      "64\n",
      "ROI name: beihai_adj_gaoqiazhen\n",
      "64\n",
      "ROI name: beirut\n",
      "54\n",
      "ROI name: beirut_adj_tripoli\n",
      "107\n",
      "ROI name: bercy\n",
      "106\n",
      "ROI name: bercy_buffed_paris\n",
      "106\n",
      "ROI name: bordeaux\n",
      "53\n",
      "ROI name: bordeaux_buffed\n",
      "100\n",
      "ROI name: brasilia\n",
      "108\n",
      "ROI name: brasilia_buffed\n",
      "216\n",
      "ROI name: chongqing\n",
      "60\n",
      "ROI name: chongqing_adj\n",
      "61\n",
      "ROI name: cupertino\n",
      "52\n",
      "ROI name: cupertino_buffed\n",
      "104\n",
      "ROI name: cupertino_adj_losangles\n",
      "108\n",
      "ROI name: dubai\n",
      "54\n",
      "ROI name: dubai_buffed\n",
      "162\n",
      "ROI name: dubai_adj_sharje\n",
      "107\n",
      "ROI name: hongkong\n",
      "202\n",
      "ROI name: hongkong_adj\n",
      "202\n",
      "ROI name: lasvegas\n",
      "101\n",
      "ROI name: lasvegas_buffed\n",
      "101\n",
      "ROI name: milano\n",
      "53\n",
      "ROI name: milano_buffed\n",
      "106\n",
      "ROI name: montpellier\n",
      "53\n",
      "ROI name: montpellier_buffed\n",
      "53\n",
      "ROI name: mumbai\n",
      "29\n",
      "ROI name: mumbai_buffed\n",
      "58\n",
      "ROI name: nantes\n",
      "208\n",
      "ROI name: nantes_buffed\n",
      "210\n",
      "ROI name: norcia\n",
      "52\n",
      "ROI name: paris\n",
      "106\n",
      "ROI name: paris_buffed\n",
      "213\n",
      "ROI name: pisa\n",
      "214\n",
      "ROI name: pisa_adj\n",
      "76\n",
      "ROI name: rennes\n",
      "210\n",
      "ROI name: rio\n",
      "30\n",
      "ROI name: saclay_e\n",
      "213\n",
      "ROI name: saclay_w\n",
      "213\n",
      "ROI name: valencia\n",
      "111\n",
      "ROI name: valencia_buffed\n",
      "111\n"
     ]
    }
   ],
   "source": [
    "import rois\n",
    "rois = rois.ROIS()\n",
    "\n",
    "for name, roi in rois:\n",
    "  print('ROI name:',name)\n",
    "  date_range = ('2017-01-01','2017-12-31')\n",
    "  s2 = ee.ImageCollection('COPERNICUS/S2_HARMONIZED') \\\n",
    "                        .filterDate(date_range[0], date_range[1]) \\\n",
    "                        .filterBounds(roi)#.filter(ee.Filter.contains('.geo', roi)) \n",
    "  # s2 = ee.ImageCollection('COPERNICUS/S2_HARMONIZED') \\\n",
    "  #                       .filterDate(date_range[0], date_range[1]) \\\n",
    "  #                       .filterBounds(roi)\n",
    "  print(s2.size().getInfo())\n"
   ]
  },
  {
   "cell_type": "code",
   "execution_count": 33,
   "metadata": {},
   "outputs": [],
   "source": [
    "# Function to get the Ratio of ones to total pixels\n",
    "def get_mask_ones_ratio(mask:ee.Image, scale = 100, in_percentage = True, rescale_attempts = 5):\n",
    "    \"\"\"\n",
    "    Function to get the percentage or the ratio of ones to total pixels in an Earth Engine image mask.\n",
    "\n",
    "    Args:\n",
    "    -----\n",
    "        `mask` (ee.Image): An Earth Engine image mask.\n",
    "        `scale` (int, optional): The scale to use for reducing the image. Defaults to 30.\n",
    "        `in_percentage` (bool, optional): Whether to return the ratio or the percentage. Defaults to True.\n",
    "        `rescale_attempts` (int, optional): Number of times to rescale the mask if reducer raised a too many pixel error.\n",
    "\n",
    "    Returns:\n",
    "    --------\n",
    "        float: The ratio of ones to total pixels in the mask.\n",
    "    \"\"\"\n",
    "    # Compute the number of ones and total number of pixels in the mask\n",
    "    #band_name = mask.bandNames().getInfo()[0]\n",
    "    \n",
    "    for i in range(rescale_attempts):\n",
    "        try:\n",
    "            print('trying..')\n",
    "            stats = mask.reduceRegion(\n",
    "                reducer=ee.Reducer.sum().combine(\n",
    "                    reducer2=ee.Reducer.count(),\n",
    "                    sharedInputs=True\n",
    "                ),\n",
    "                geometry=mask.geometry(),\n",
    "                scale=scale,\n",
    "                maxPixels=1e9)\n",
    "            stats.getInfo()\n",
    "            print('try ended')\n",
    "            break\n",
    "        except:\n",
    "            scale = scale * 10\n",
    "            print(f\"Scale was too Small -> Rescaling mask to {scale}m \")\n",
    "            \n",
    "    # Extract the number of ones and total number of pixels from the result\n",
    "    print('we here')\n",
    "    ones = stats.get(stats.keys().get(1))\n",
    "    total = stats.get(stats.keys().get(0))\n",
    "\n",
    "    # Compute the ratio of ones to total pixels\n",
    "    ratio = ee.Number(ones).divide(total)\n",
    "    \n",
    "\n",
    "    # Return the ratio\n",
    "    return ratio.multiply(100) if in_percentage else ratio\n",
    "\n",
    "\n",
    "# Function to get the Ratio of Nulls to total pixels that an roi could have\n",
    "def get_not_nulls_ratio(image:ee.Image, roi:ee.Geometry ,scale = 100, in_percentage = True, rescale_attempts = 5) -> ee.Number:\n",
    "    \"\"\"\n",
    "        Calculates the ratio of not null null values to total pixels that an ROI (Region of Interest) could have for a given image.\n",
    "        \n",
    "        Args:\n",
    "        -----\n",
    "        - image (ee.Image): The image for which the nulls ratio needs to be calculated.\n",
    "        - roi (ee.Geometry): The region of interest for which the nulls ratio needs to be calculated.\n",
    "        - scale (int, optional): The scale at which to perform the reduction. Defaults to 30.\n",
    "        \n",
    "        Returns:\n",
    "        --------\n",
    "        - ratio (ee.Number): The ratio of not null null values to total pixels for the given ROI and image.\n",
    "    \"\"\"\n",
    "\n",
    "    # Creates a 1 & 0 mask of the image, 0 on null areas, and 1 for pixels with values\n",
    "    # th clip is really important since, mask() method goes over boundries.\n",
    "    mask = image.mask().select(0).clip(roi)\n",
    "    # Return the ratio\n",
    "    return get_mask_ones_ratio(mask, scale = scale, in_percentage = in_percentage, rescale_attempts = rescale_attempts)"
   ]
  },
  {
   "cell_type": "code",
   "execution_count": 34,
   "metadata": {},
   "outputs": [
    {
     "name": "stdout",
     "output_type": "stream",
     "text": [
      "trying..\n",
      "Scale was too Small -> Rescaling mask to 1.0m \n",
      "trying..\n",
      "try ended\n",
      "we here\n",
      "Attempt 0 with Scale of 10 failed. Trying again with scale of 100 \n"
     ]
    }
   ],
   "source": [
    "img = s2.first()\n",
    "get_not_nulls_ratio(img,roi,scale=0.1).getInfo()\n",
    "\n",
    "scale = 10\n",
    "for i in range(10):\n",
    "    try:\n",
    "        img_pix_dict = img.reduceRegion(reducer=ee.Reducer.count(),geometry= roi,scale=scale).getInfo()\n",
    "        break\n",
    "    except:\n",
    "        print(f'Attempt {i} with Scale of {scale} failed. Trying again with scale of {scale*10} ')\n",
    "        scale = scale*10\n",
    "        "
   ]
  },
  {
   "cell_type": "code",
   "execution_count": 11,
   "metadata": {},
   "outputs": [
    {
     "name": "stdout",
     "output_type": "stream",
     "text": [
      "Finding TOA images\n",
      "23\n",
      "33\n"
     ]
    }
   ],
   "source": [
    "date_range1 = ('2017-05-20','2017-08-10')\n",
    "date_range2 = ('2021-05-20','2021-08-10')\n",
    "roi = rois.bercy\n",
    "SR = False\n",
    "if SR:\n",
    "    print('Finding SR images')\n",
    "    s2_1 = ee.ImageCollection('COPERNICUS/S2_SR_HARMONIZED') \\\n",
    "                        .filterDate(date_range1[0], date_range1[1]) \\\n",
    "                        .filter(ee.Filter.lt('CLOUDY_PIXEL_PERCENTAGE',10)) \\\n",
    "                        .filter(ee.Filter.lt('SNOW_ICE_PERCENTAGE',10)) \\\n",
    "                        .filterBounds(roi).sort('CLOUDY_PIXEL_PERCENTAGE', True)\n",
    "    print(s2_1.size().getInfo())\n",
    "\n",
    "    s2_2 = ee.ImageCollection('COPERNICUS/S2_SR_HARMONIZED') \\\n",
    "                        .filterDate(date_range2[0], date_range2[1]) \\\n",
    "                        .filter(ee.Filter.lt('CLOUDY_PIXEL_PERCENTAGE',10)) \\\n",
    "                        .filter(ee.Filter.lt('SNOW_ICE_PERCENTAGE',10)) \\\n",
    "                        .filterBounds(roi).sort('CLOUDY_PIXEL_PERCENTAGE', True)\n",
    "    print(s2_2.size().getInfo())\n",
    "else:\n",
    "    print('Finding TOA images')\n",
    "    s2_1 = ee.ImageCollection('COPERNICUS/S2_HARMONIZED') \\\n",
    "        .filterDate(date_range1[0],date_range1[1]) \\\n",
    "        .filterBounds(roi).sort('CLOUDY_PIXEL_PERCENTAGE', True)\n",
    "    print(s2_1.size().getInfo())\n",
    "    \n",
    "    s2_2 = ee.ImageCollection('COPERNICUS/S2_HARMONIZED') \\\n",
    "        .filterDate(date_range2[0],date_range2[1]) \\\n",
    "        .filterBounds(roi).sort('CLOUDY_PIXEL_PERCENTAGE', True)\n",
    "    print(s2_2.size().getInfo())\n",
    "        "
   ]
  },
  {
   "cell_type": "code",
   "execution_count": 12,
   "metadata": {},
   "outputs": [],
   "source": [
    "vis_params_s2 = {\n",
    "  'min': 0.04,\n",
    "  'max': 0.4,\n",
    "  'bands': ['B4', 'B3', 'B2'],\n",
    "}"
   ]
  },
  {
   "cell_type": "code",
   "execution_count": 13,
   "metadata": {},
   "outputs": [],
   "source": [
    "left_layer = geemap.ee_tile_layer(s2_1.first().clip(roi).multiply(0.0001), vis_params_s2, 'S2_1')\n",
    "right_layer = geemap.ee_tile_layer(s2_2.first().clip(roi).multiply(0.0001), vis_params_s2, 'S2_2')"
   ]
  },
  {
   "cell_type": "code",
   "execution_count": 14,
   "metadata": {},
   "outputs": [
    {
     "data": {
      "application/vnd.jupyter.widget-view+json": {
       "model_id": "cff69d0157d94c008f70202be4678526",
       "version_major": 2,
       "version_minor": 0
      },
      "text/plain": [
       "Map(center=[20, 0], controls=(ZoomControl(options=['position', 'zoom_in_text', 'zoom_in_title', 'zoom_out_text…"
      ]
     },
     "metadata": {},
     "output_type": "display_data"
    }
   ],
   "source": [
    "Map = geemap.Map(zoom=12)\n",
    "Map.centerObject(roi)\n",
    "Map.split_map(left_layer, right_layer)\n",
    "Map"
   ]
  },
  {
   "cell_type": "code",
   "execution_count": 15,
   "metadata": {},
   "outputs": [
    {
     "name": "stdout",
     "output_type": "stream",
     "text": [
      "CLOUDY_PIXEL_PERCENTAGE  : [100, 100, 99.9691, 99.8747, 99.6752, 99.2618, 98.5313, 95.1893, 92.2023, 90.6016, 90.0605, 87.9752, 87.8637, 86.353, 82.8295, 76.2768, 75.1655, 71.0818, 69.9768, 69.2295, 68.5597, 67.0051, 65.6219, 53.8, 53.2012, 45.4239, 41.6293, 38.1371, 10.0658, 4.2792, 1.6607, 0.0282, 0]\n",
      "VEGETATION_PERCENTAGE    : []\n",
      "NOT_VEGETATED_PERCENTAGE : []\n",
      "NODATA_PIXEL_PERCENTAGE  : []\n",
      "SNOW_ICE_PERCENTAGE      : []\n",
      "WATER_PERCENTAGE         : []\n"
     ]
    },
    {
     "ename": "NameError",
     "evalue": "name 'milsec2date' is not defined",
     "output_type": "error",
     "traceback": [
      "\u001b[1;31m---------------------------------------------------------------------------\u001b[0m",
      "\u001b[1;31mNameError\u001b[0m                                 Traceback (most recent call last)",
      "Cell \u001b[1;32mIn[15], line 1\u001b[0m\n\u001b[1;32m----> 1\u001b[0m sen2_print(s2_2\u001b[39m.\u001b[39;49msort(\u001b[39m'\u001b[39;49m\u001b[39mCLOUDY_PIXEL_PERCENTAGE\u001b[39;49m\u001b[39m'\u001b[39;49m, \u001b[39mFalse\u001b[39;49;00m))\n",
      "Cell \u001b[1;32mIn[5], line 18\u001b[0m, in \u001b[0;36msen2_print\u001b[1;34m(s2_collection)\u001b[0m\n\u001b[0;32m     16\u001b[0m \u001b[39m# print('THIN_CIRRUS_PERCENTAGE   :',s2_collection.aggregate_array('THIN_CIRRUS_PERCENTAGE').getInfo())\u001b[39;00m\n\u001b[0;32m     17\u001b[0m \u001b[39mprint\u001b[39m(\u001b[39m'\u001b[39m\u001b[39mWATER_PERCENTAGE         :\u001b[39m\u001b[39m'\u001b[39m,s2_collection\u001b[39m.\u001b[39maggregate_array(\u001b[39m'\u001b[39m\u001b[39mWATER_PERCENTAGE\u001b[39m\u001b[39m'\u001b[39m)\u001b[39m.\u001b[39mgetInfo())\n\u001b[1;32m---> 18\u001b[0m \u001b[39mprint\u001b[39m(\u001b[39m'\u001b[39m\u001b[39mDate                     :\u001b[39m\u001b[39m'\u001b[39m,milsec2date(s2_collection\u001b[39m.\u001b[39maggregate_array(\u001b[39m'\u001b[39m\u001b[39msystem:time_start\u001b[39m\u001b[39m'\u001b[39m)\u001b[39m.\u001b[39mgetInfo()))\n",
      "\u001b[1;31mNameError\u001b[0m: name 'milsec2date' is not defined"
     ]
    }
   ],
   "source": [
    "sen2_print(s2_2.sort('CLOUDY_PIXEL_PERCENTAGE', False))"
   ]
  },
  {
   "cell_type": "code",
   "execution_count": null,
   "metadata": {},
   "outputs": [
    {
     "ename": "AttributeError",
     "evalue": "'Image' object has no attribute 'correctLandsat'",
     "output_type": "error",
     "traceback": [
      "\u001b[1;31m---------------------------------------------------------------------------\u001b[0m",
      "\u001b[1;31mAttributeError\u001b[0m                            Traceback (most recent call last)",
      "Cell \u001b[1;32mIn[151], line 11\u001b[0m\n\u001b[0;32m      8\u001b[0m aot \u001b[39m=\u001b[39m atm_corr\u001b[39m.\u001b[39mselect(\u001b[39m'\u001b[39m\u001b[39maot\u001b[39m\u001b[39m'\u001b[39m)\n\u001b[0;32m     10\u001b[0m \u001b[39m# Apply FLAASH Atmospheric Correction\u001b[39;00m\n\u001b[1;32m---> 11\u001b[0m corrected \u001b[39m=\u001b[39m ee\u001b[39m.\u001b[39;49mImage(ee\u001b[39m.\u001b[39;49mAlgorithms\u001b[39m.\u001b[39;49mLandsat\u001b[39m.\u001b[39;49msimpleCloudScore(image))\u001b[39m.\u001b[39;49mselect([\u001b[39m'\u001b[39;49m\u001b[39mB2\u001b[39;49m\u001b[39m'\u001b[39;49m, \u001b[39m'\u001b[39;49m\u001b[39mB3\u001b[39;49m\u001b[39m'\u001b[39;49m, \u001b[39m'\u001b[39;49m\u001b[39mB4\u001b[39;49m\u001b[39m'\u001b[39;49m, \u001b[39m'\u001b[39;49m\u001b[39mB8\u001b[39;49m\u001b[39m'\u001b[39;49m, \u001b[39m'\u001b[39;49m\u001b[39mQA60\u001b[39;49m\u001b[39m'\u001b[39;49m]) \\\n\u001b[0;32m     12\u001b[0m     \u001b[39m.\u001b[39;49mdivide(\u001b[39m10000\u001b[39;49m) \\\n\u001b[0;32m     13\u001b[0m     \u001b[39m.\u001b[39;49mreproject(\u001b[39m'\u001b[39;49m\u001b[39mEPSG:4326\u001b[39;49m\u001b[39m'\u001b[39;49m, \u001b[39mNone\u001b[39;49;00m, \u001b[39m10\u001b[39;49m) \\\n\u001b[0;32m     14\u001b[0m     \u001b[39m.\u001b[39;49munmask() \\\n\u001b[0;32m     15\u001b[0m     \u001b[39m.\u001b[39;49mmultiply(\u001b[39m10000\u001b[39;49m) \\\n\u001b[0;32m     16\u001b[0m     \u001b[39m.\u001b[39;49muint16() \\\n\u001b[0;32m     17\u001b[0m     \u001b[39m.\u001b[39;49mcorrectLandsat(atm_corr, \u001b[39m'\u001b[39m\u001b[39mTOA\u001b[39m\u001b[39m'\u001b[39m, \u001b[39m0.025\u001b[39m)\n\u001b[0;32m     19\u001b[0m \u001b[39m# Display the Results\u001b[39;00m\n\u001b[0;32m     20\u001b[0m Map \u001b[39m=\u001b[39m geemap\u001b[39m.\u001b[39mMap()\n",
      "\u001b[1;31mAttributeError\u001b[0m: 'Image' object has no attribute 'correctLandsat'"
     ]
    }
   ],
   "source": [
    "\n",
    "# Define a Sentinel-2 Image\n",
    "image = ee.Image('COPERNICUS/S2_SR/20210101T001239_20210101T001237_T55HPJ')\n",
    "\n",
    "# Define the Parameters for FLAASH Atmospheric Correction\n",
    "atm_corr = ee.Image('users/samsammurphy/public/FLAASH_parameters')\n",
    "h2o = atm_corr.select('h2o')\n",
    "o3 = atm_corr.select('o3')\n",
    "aot = atm_corr.select('aot')\n",
    "\n",
    "# Apply FLAASH Atmospheric Correction\n",
    "corrected = ee.Image(ee.Algorithms.Landsat.simpleCloudScore(image)).select(['B2', 'B3', 'B4', 'B8', 'QA60']) \\\n",
    "    .divide(10000) \\\n",
    "    .reproject('EPSG:4326', None, 10) \\\n",
    "    .unmask() \\\n",
    "    .multiply(10000) \\\n",
    "    .uint16() \\\n",
    "    .correctLandsat(atm_corr, 'TOA', 0.025)\n",
    "\n",
    "# Display the Results\n",
    "Map = geemap.Map()\n",
    "Map.centerObject(image, 10)\n",
    "Map.addLayer(image, {'bands': ['B4', 'B3', 'B2'], 'min': 0, 'max': 3000}, 'Original Image')\n",
    "Map.addLayer(corrected, {'bands': ['B4', 'B3', 'B2'], 'min': 0, 'max': 3000}, 'Corrected Image')\n",
    "Map.addLayerControl()\n",
    "Map\n"
   ]
  },
  {
   "cell_type": "code",
   "execution_count": null,
   "metadata": {},
   "outputs": [],
   "source": []
  }
 ],
 "metadata": {
  "kernelspec": {
   "display_name": "geemap",
   "language": "python",
   "name": "python3"
  },
  "language_info": {
   "codemirror_mode": {
    "name": "ipython",
    "version": 3
   },
   "file_extension": ".py",
   "mimetype": "text/x-python",
   "name": "python",
   "nbconvert_exporter": "python",
   "pygments_lexer": "ipython3",
   "version": "3.9.16"
  },
  "orig_nbformat": 4
 },
 "nbformat": 4,
 "nbformat_minor": 2
}
