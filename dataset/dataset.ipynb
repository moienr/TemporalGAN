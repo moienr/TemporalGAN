{
 "cells": [
  {
   "cell_type": "code",
   "execution_count": 25,
   "metadata": {},
   "outputs": [],
   "source": [
    "import ee\n",
    "import geemap"
   ]
  },
  {
   "cell_type": "code",
   "execution_count": 26,
   "metadata": {},
   "outputs": [],
   "source": [
    "ee.Initialize()"
   ]
  },
  {
   "cell_type": "code",
   "execution_count": 27,
   "metadata": {},
   "outputs": [],
   "source": [
    "from datetime import datetime"
   ]
  },
  {
   "cell_type": "code",
   "execution_count": 28,
   "metadata": {},
   "outputs": [],
   "source": [
    "Map = geemap.Map()"
   ]
  },
  {
   "cell_type": "code",
   "execution_count": 29,
   "metadata": {},
   "outputs": [],
   "source": [
    "def milsec2date(millsec_list: list, no_duplicate = False)->list:\n",
    "  '''\n",
    "  Input\n",
    "  ---\n",
    "  this function takes `imgcollection.aggregate_array('system:time_start')` which is a list of milliseconds dates as input\n",
    "\n",
    "  Reutrns\n",
    "  ---\n",
    "  * Defult: a list of dates in GEE date string format\n",
    "  * No_duplicate: returns the list of dates but removes the duplicates\n",
    "    '''\n",
    "  if no_duplicate:\n",
    "    date = [datetime.fromtimestamp(t/1000.0).strftime('%Y-%m-%d') for t in millsec_list]\n",
    "    date_no_duplicate = list(dict.fromkeys(date))\n",
    "    return  date_no_duplicate\n",
    "  else:\n",
    "    date = [datetime.fromtimestamp(t/1000.0).strftime('%Y-%m-%d') for t in millsec_list] \n",
    "    return date"
   ]
  },
  {
   "cell_type": "code",
   "execution_count": 30,
   "metadata": {},
   "outputs": [],
   "source": [
    "def sen2_print(s2_collection):\n",
    "  '''\n",
    "  prints the important properites of sentienel 2 data collection\n",
    "  '''\n",
    "  print('CLOUD_SHADOW_PERCENTAGE  :',s2_collection.aggregate_array('CLOUD_SHADOW_PERCENTAGE').getInfo())\n",
    "  print('VEGETATION_PERCENTAGE    :',s2_collection.aggregate_array('VEGETATION_PERCENTAGE').getInfo())\n",
    "  print('NOT_VEGETATED_PERCENTAGE :',s2_collection.aggregate_array('NOT_VEGETATED_PERCENTAGE').getInfo())\n",
    "\n",
    "  # print('SENSOR_QUCLOUD_COVERAGE_ASSESSMENTALITY :',s2_collection.aggregate_array('CLOUD_COVERAGE_ASSESSMENT').getInfo())\n",
    "  # print('GENERATION_TIME          :',s2_collection.aggregate_array('GENERATION_TIME').getInfo())\n",
    "  # print('SENSING_ORBIT_NUMBER     :',s2_collection.aggregate_array('SENSING_ORBIT_NUMBER').getInfo())\n",
    "  print('NODATA_PIXEL_PERCENTAGE  :',s2_collection.aggregate_array('NODATA_PIXEL_PERCENTAGE').getInfo())\n",
    "  # print('DATATAKE_TYPE            :',s2_collection.aggregate_array('DATATAKE_TYPE').getInfo())\n",
    "  # print('SENSING_ORBIT_NUMBER     :',s2_collection.aggregate_array('SENSING_ORBIT_NUMBER').getInfo())\n",
    "  print('SNOW_ICE_PERCENTAGE      :',s2_collection.aggregate_array('SNOW_ICE_PERCENTAGE').getInfo())\n",
    "  # print('THIN_CIRRUS_PERCENTAGE   :',s2_collection.aggregate_array('THIN_CIRRUS_PERCENTAGE').getInfo())\n",
    "  print('WATER_PERCENTAGE         :',s2_collection.aggregate_array('WATER_PERCENTAGE').getInfo())\n",
    "  print('Date                     :',milsec2date(s2_collection.aggregate_array('system:time_start').getInfo()))\n",
    "  # print('system:band_names        :',s2_collection.aggregate_array('system:band_names').getInfo())"
   ]
  },
  {
   "cell_type": "code",
   "execution_count": 31,
   "metadata": {},
   "outputs": [],
   "source": [
    "s2 = ee.ImageCollection(\"COPERNICUS/S2_HARMONIZED\")"
   ]
  },
  {
   "cell_type": "code",
   "execution_count": null,
   "metadata": {},
   "outputs": [],
   "source": [
    "import rois"
   ]
  },
  {
   "cell_type": "code",
   "execution_count": null,
   "metadata": {},
   "outputs": [],
   "source": [
    "date_range = ('2017-05-20','2017-08-10')\n",
    "s2 = ee.ImageCollection('COPERNICUS/S2_HARMONIZED') \\\n",
    "    .filterDate(date_range[0],date_range[1]) \\\n",
    "    .filterBounds(rois.ROI)\n",
    "s2.size()"
   ]
  },
  {
   "cell_type": "code",
   "execution_count": 62,
   "metadata": {},
   "outputs": [
    {
     "ename": "EEException",
     "evalue": "Invalid GeoJSON geometry.",
     "output_type": "error",
     "traceback": [
      "\u001b[1;31m---------------------------------------------------------------------------\u001b[0m",
      "\u001b[1;31mEEException\u001b[0m                               Traceback (most recent call last)",
      "Cell \u001b[1;32mIn[62], line 3\u001b[0m\n\u001b[0;32m      1\u001b[0m \u001b[39mimport\u001b[39;00m \u001b[39mrois\u001b[39;00m\n\u001b[0;32m      2\u001b[0m date_range \u001b[39m=\u001b[39m (\u001b[39m'\u001b[39m\u001b[39m2017-05-20\u001b[39m\u001b[39m'\u001b[39m,\u001b[39m'\u001b[39m\u001b[39m2017-08-10\u001b[39m\u001b[39m'\u001b[39m)\n\u001b[1;32m----> 3\u001b[0m s2 \u001b[39m=\u001b[39m ee\u001b[39m.\u001b[39;49mImageCollection(\u001b[39m'\u001b[39;49m\u001b[39mCOPERNICUS/S2_HARMONIZED\u001b[39;49m\u001b[39m'\u001b[39;49m) \\\n\u001b[0;32m      4\u001b[0m                       \u001b[39m.\u001b[39;49mfilterDate(date_range[\u001b[39m0\u001b[39;49m], date_range[\u001b[39m1\u001b[39;49m]) \\\n\u001b[0;32m      5\u001b[0m                       \u001b[39m.\u001b[39;49mfilterBounds(rois)\n\u001b[0;32m      6\u001b[0m s2\u001b[39m.\u001b[39msize()\n",
      "File \u001b[1;32mc:\\Users\\moi3n\\miniconda3\\envs\\geemap\\lib\\site-packages\\ee\\collection.py:99\u001b[0m, in \u001b[0;36mCollection.filterBounds\u001b[1;34m(self, geometry)\u001b[0m\n\u001b[0;32m     80\u001b[0m \u001b[39mdef\u001b[39;00m \u001b[39mfilterBounds\u001b[39m(\u001b[39mself\u001b[39m, geometry):\n\u001b[0;32m     81\u001b[0m \u001b[39m  \u001b[39m\u001b[39m\"\"\"Shortcut to add a geometry filter to a collection.\u001b[39;00m\n\u001b[0;32m     82\u001b[0m \n\u001b[0;32m     83\u001b[0m \u001b[39m  Items in the collection with a footprint that fails to intersect\u001b[39;00m\n\u001b[1;32m   (...)\u001b[0m\n\u001b[0;32m     97\u001b[0m \u001b[39m    The filtered collection.\u001b[39;00m\n\u001b[0;32m     98\u001b[0m \u001b[39m  \"\"\"\u001b[39;00m\n\u001b[1;32m---> 99\u001b[0m   \u001b[39mreturn\u001b[39;00m \u001b[39mself\u001b[39m\u001b[39m.\u001b[39mfilter(\u001b[39mfilter\u001b[39;49m\u001b[39m.\u001b[39;49mFilter\u001b[39m.\u001b[39;49mgeometry(geometry))\n",
      "File \u001b[1;32mc:\\Users\\moi3n\\miniconda3\\envs\\geemap\\lib\\site-packages\\ee\\filter.py:284\u001b[0m, in \u001b[0;36mFilter.geometry\u001b[1;34m(geometry, opt_errorMargin)\u001b[0m\n\u001b[0;32m    267\u001b[0m \u001b[39m\u001b[39m\u001b[39m\"\"\"Filter on intersection with geometry.\u001b[39;00m\n\u001b[0;32m    268\u001b[0m \n\u001b[0;32m    269\u001b[0m \u001b[39mItems in the collection with a footprint that fails to intersect\u001b[39;00m\n\u001b[1;32m   (...)\u001b[0m\n\u001b[0;32m    279\u001b[0m \u001b[39m  The constructed filter.\u001b[39;00m\n\u001b[0;32m    280\u001b[0m \u001b[39m\"\"\"\u001b[39;00m\n\u001b[0;32m    281\u001b[0m \u001b[39m# Invoke geometry promotion then manually promote to a Feature.\u001b[39;00m\n\u001b[0;32m    282\u001b[0m args \u001b[39m=\u001b[39m {\n\u001b[0;32m    283\u001b[0m     \u001b[39m'\u001b[39m\u001b[39mleftField\u001b[39m\u001b[39m'\u001b[39m: \u001b[39m'\u001b[39m\u001b[39m.all\u001b[39m\u001b[39m'\u001b[39m,\n\u001b[1;32m--> 284\u001b[0m     \u001b[39m'\u001b[39m\u001b[39mrightValue\u001b[39m\u001b[39m'\u001b[39m: apifunction\u001b[39m.\u001b[39;49mApiFunction\u001b[39m.\u001b[39;49mcall_(\u001b[39m'\u001b[39;49m\u001b[39mFeature\u001b[39;49m\u001b[39m'\u001b[39;49m, geometry)\n\u001b[0;32m    285\u001b[0m }\n\u001b[0;32m    286\u001b[0m \u001b[39mif\u001b[39;00m opt_errorMargin \u001b[39mis\u001b[39;00m \u001b[39mnot\u001b[39;00m \u001b[39mNone\u001b[39;00m:\n\u001b[0;32m    287\u001b[0m   args[\u001b[39m'\u001b[39m\u001b[39mmaxError\u001b[39m\u001b[39m'\u001b[39m] \u001b[39m=\u001b[39m opt_errorMargin\n",
      "File \u001b[1;32mc:\\Users\\moi3n\\miniconda3\\envs\\geemap\\lib\\site-packages\\ee\\apifunction.py:81\u001b[0m, in \u001b[0;36mApiFunction.call_\u001b[1;34m(cls, name, *args, **kwargs)\u001b[0m\n\u001b[0;32m     68\u001b[0m \u001b[39m@classmethod\u001b[39m\n\u001b[0;32m     69\u001b[0m \u001b[39mdef\u001b[39;00m \u001b[39mcall_\u001b[39m(\u001b[39mcls\u001b[39m, name, \u001b[39m*\u001b[39margs, \u001b[39m*\u001b[39m\u001b[39m*\u001b[39mkwargs):\n\u001b[0;32m     70\u001b[0m \u001b[39m  \u001b[39m\u001b[39m\"\"\"Call a named API function with positional and keyword arguments.\u001b[39;00m\n\u001b[0;32m     71\u001b[0m \n\u001b[0;32m     72\u001b[0m \u001b[39m  Args:\u001b[39;00m\n\u001b[1;32m   (...)\u001b[0m\n\u001b[0;32m     79\u001b[0m \u001b[39m    a recognized return type, the returned value will be cast to that type.\u001b[39;00m\n\u001b[0;32m     80\u001b[0m \u001b[39m  \"\"\"\u001b[39;00m\n\u001b[1;32m---> 81\u001b[0m   \u001b[39mreturn\u001b[39;00m \u001b[39mcls\u001b[39m\u001b[39m.\u001b[39mlookup(name)\u001b[39m.\u001b[39mcall(\u001b[39m*\u001b[39margs, \u001b[39m*\u001b[39m\u001b[39m*\u001b[39mkwargs)\n",
      "File \u001b[1;32mc:\\Users\\moi3n\\miniconda3\\envs\\geemap\\lib\\site-packages\\ee\\function.py:67\u001b[0m, in \u001b[0;36mFunction.call\u001b[1;34m(self, *args, **kwargs)\u001b[0m\n\u001b[0;32m     55\u001b[0m \u001b[39mdef\u001b[39;00m \u001b[39mcall\u001b[39m(\u001b[39mself\u001b[39m, \u001b[39m*\u001b[39margs, \u001b[39m*\u001b[39m\u001b[39m*\u001b[39mkwargs):\n\u001b[0;32m     56\u001b[0m \u001b[39m  \u001b[39m\u001b[39m\"\"\"Calls the function with the given positional and keyword arguments.\u001b[39;00m\n\u001b[0;32m     57\u001b[0m \n\u001b[0;32m     58\u001b[0m \u001b[39m  Args:\u001b[39;00m\n\u001b[1;32m   (...)\u001b[0m\n\u001b[0;32m     65\u001b[0m \u001b[39m    to that type.\u001b[39;00m\n\u001b[0;32m     66\u001b[0m \u001b[39m  \"\"\"\u001b[39;00m\n\u001b[1;32m---> 67\u001b[0m   \u001b[39mreturn\u001b[39;00m \u001b[39mself\u001b[39;49m\u001b[39m.\u001b[39;49mapply(\u001b[39mself\u001b[39;49m\u001b[39m.\u001b[39;49mnameArgs(args, kwargs))\n",
      "File \u001b[1;32mc:\\Users\\moi3n\\miniconda3\\envs\\geemap\\lib\\site-packages\\ee\\function.py:80\u001b[0m, in \u001b[0;36mFunction.apply\u001b[1;34m(self, named_args)\u001b[0m\n\u001b[0;32m     69\u001b[0m \u001b[39mdef\u001b[39;00m \u001b[39mapply\u001b[39m(\u001b[39mself\u001b[39m, named_args):\n\u001b[0;32m     70\u001b[0m \u001b[39m  \u001b[39m\u001b[39m\"\"\"Calls the function with a dictionary of named arguments.\u001b[39;00m\n\u001b[0;32m     71\u001b[0m \n\u001b[0;32m     72\u001b[0m \u001b[39m  Args:\u001b[39;00m\n\u001b[1;32m   (...)\u001b[0m\n\u001b[0;32m     78\u001b[0m \u001b[39m    to that type.\u001b[39;00m\n\u001b[0;32m     79\u001b[0m \u001b[39m  \"\"\"\u001b[39;00m\n\u001b[1;32m---> 80\u001b[0m   result \u001b[39m=\u001b[39m computedobject\u001b[39m.\u001b[39mComputedObject(\u001b[39mself\u001b[39m, \u001b[39mself\u001b[39;49m\u001b[39m.\u001b[39;49mpromoteArgs(named_args))\n\u001b[0;32m     81\u001b[0m   \u001b[39mreturn\u001b[39;00m Function\u001b[39m.\u001b[39m_promoter(result, \u001b[39mself\u001b[39m\u001b[39m.\u001b[39mgetReturnType())\n",
      "File \u001b[1;32mc:\\Users\\moi3n\\miniconda3\\envs\\geemap\\lib\\site-packages\\ee\\function.py:107\u001b[0m, in \u001b[0;36mFunction.promoteArgs\u001b[1;34m(self, args)\u001b[0m\n\u001b[0;32m    105\u001b[0m name \u001b[39m=\u001b[39m spec[\u001b[39m'\u001b[39m\u001b[39mname\u001b[39m\u001b[39m'\u001b[39m]\n\u001b[0;32m    106\u001b[0m \u001b[39mif\u001b[39;00m name \u001b[39min\u001b[39;00m args:\n\u001b[1;32m--> 107\u001b[0m   promoted_args[name] \u001b[39m=\u001b[39m Function\u001b[39m.\u001b[39;49m_promoter(args[name], spec[\u001b[39m'\u001b[39;49m\u001b[39mtype\u001b[39;49m\u001b[39m'\u001b[39;49m])\n\u001b[0;32m    108\u001b[0m \u001b[39melif\u001b[39;00m \u001b[39mnot\u001b[39;00m spec\u001b[39m.\u001b[39mget(\u001b[39m'\u001b[39m\u001b[39moptional\u001b[39m\u001b[39m'\u001b[39m):\n\u001b[0;32m    109\u001b[0m   \u001b[39mraise\u001b[39;00m ee_exception\u001b[39m.\u001b[39mEEException(\n\u001b[0;32m    110\u001b[0m       \u001b[39m'\u001b[39m\u001b[39mRequired argument (\u001b[39m\u001b[39m%s\u001b[39;00m\u001b[39m) missing to function: \u001b[39m\u001b[39m%s\u001b[39;00m\u001b[39m'\u001b[39m\n\u001b[0;32m    111\u001b[0m       \u001b[39m%\u001b[39m (name, \u001b[39mself\u001b[39m\u001b[39m.\u001b[39mname))\n",
      "File \u001b[1;32mc:\\Users\\moi3n\\miniconda3\\envs\\geemap\\lib\\site-packages\\ee\\__init__.py:239\u001b[0m, in \u001b[0;36m_Promote\u001b[1;34m(arg, klass)\u001b[0m\n\u001b[0;32m    237\u001b[0m     \u001b[39mreturn\u001b[39;00m ApiFunction\u001b[39m.\u001b[39mcall_(\u001b[39m'\u001b[39m\u001b[39mCollection.geometry\u001b[39m\u001b[39m'\u001b[39m, arg)\n\u001b[0;32m    238\u001b[0m   \u001b[39melse\u001b[39;00m:\n\u001b[1;32m--> 239\u001b[0m     \u001b[39mreturn\u001b[39;00m Geometry(arg)\n\u001b[0;32m    240\u001b[0m \u001b[39melif\u001b[39;00m klass \u001b[39min\u001b[39;00m (\u001b[39m'\u001b[39m\u001b[39mFeatureCollection\u001b[39m\u001b[39m'\u001b[39m, \u001b[39m'\u001b[39m\u001b[39mCollection\u001b[39m\u001b[39m'\u001b[39m):\n\u001b[0;32m    241\u001b[0m   \u001b[39m# For now Collection is synonymous with FeatureCollection.\u001b[39;00m\n\u001b[0;32m    242\u001b[0m   \u001b[39mif\u001b[39;00m \u001b[39misinstance\u001b[39m(arg, Collection):\n",
      "File \u001b[1;32mc:\\Users\\moi3n\\miniconda3\\envs\\geemap\\lib\\site-packages\\ee\\computedobject.py:31\u001b[0m, in \u001b[0;36mComputedObjectMetaclass.__call__\u001b[1;34m(cls, *args, **kwargs)\u001b[0m\n\u001b[0;32m     29\u001b[0m   \u001b[39mreturn\u001b[39;00m args[\u001b[39m0\u001b[39m]\n\u001b[0;32m     30\u001b[0m \u001b[39melse\u001b[39;00m:\n\u001b[1;32m---> 31\u001b[0m   \u001b[39mreturn\u001b[39;00m \u001b[39mtype\u001b[39m\u001b[39m.\u001b[39m\u001b[39m__call__\u001b[39m(\u001b[39mcls\u001b[39m, \u001b[39m*\u001b[39margs, \u001b[39m*\u001b[39m\u001b[39m*\u001b[39mkwargs)\n",
      "File \u001b[1;32mc:\\Users\\moi3n\\miniconda3\\envs\\geemap\\lib\\site-packages\\ee\\geometry.py:86\u001b[0m, in \u001b[0;36mGeometry.__init__\u001b[1;34m(self, geo_json, opt_proj, opt_geodesic, opt_evenOdd)\u001b[0m\n\u001b[0;32m     83\u001b[0m   geo_json \u001b[39m=\u001b[39m geo_json\u001b[39m.\u001b[39mencode()\n\u001b[0;32m     85\u001b[0m \u001b[39mif\u001b[39;00m \u001b[39mnot\u001b[39;00m Geometry\u001b[39m.\u001b[39m_isValidGeometry(geo_json):\n\u001b[1;32m---> 86\u001b[0m   \u001b[39mraise\u001b[39;00m ee_exception\u001b[39m.\u001b[39mEEException(\u001b[39m'\u001b[39m\u001b[39mInvalid GeoJSON geometry.\u001b[39m\u001b[39m'\u001b[39m)\n\u001b[0;32m     88\u001b[0m \u001b[39msuper\u001b[39m(Geometry, \u001b[39mself\u001b[39m)\u001b[39m.\u001b[39m\u001b[39m__init__\u001b[39m(\u001b[39mNone\u001b[39;00m, \u001b[39mNone\u001b[39;00m)\n\u001b[0;32m     90\u001b[0m \u001b[39m# The type of the geometry.\u001b[39;00m\n",
      "\u001b[1;31mEEException\u001b[0m: Invalid GeoJSON geometry."
     ]
    }
   ],
   "source": [
    "date_range = ('2017-05-20','2017-08-10')\n",
    "s2 = ee.ImageCollection('COPERNICUS/S2_HARMONIZED') \\\n",
    "                      .filterDate(date_range[0], date_range[1]) \\\n",
    "                      .filterBounds(rois)\n",
    "s2.size()"
   ]
  },
  {
   "cell_type": "code",
   "execution_count": 58,
   "metadata": {},
   "outputs": [
    {
     "data": {
      "text/html": [
       "<div><style>:root {\n",
       "  --font-color-primary: var(--jp-content-font-color0, rgba(0, 0, 0, 1));\n",
       "  --font-color-secondary: var(--jp-content-font-color2, rgba(0, 0, 0, 0.6));\n",
       "  --font-color-accent: rgba(123, 31, 162, 1);\n",
       "  --border-color: var(--jp-border-color2, #e0e0e0);\n",
       "  --background-color: var(--jp-layout-color0, white);\n",
       "  --background-color-row-even: var(--jp-layout-color1, white);\n",
       "  --background-color-row-odd: var(--jp-layout-color2, #eeeeee);\n",
       "}\n",
       "\n",
       "html[theme=\"dark\"],\n",
       "body[data-theme=\"dark\"],\n",
       "body.vscode-dark {\n",
       "  --font-color-primary: rgba(255, 255, 255, 1);\n",
       "  --font-color-secondary: rgba(255, 255, 255, 0.6);\n",
       "  --font-color-accent: rgb(173, 132, 190);\n",
       "  --border-color: #2e2e2e;\n",
       "  --background-color: #111111;\n",
       "  --background-color-row-even: #111111;\n",
       "  --background-color-row-odd: #313131;\n",
       "}\n",
       "\n",
       ".ee {\n",
       "  padding: 1em;\n",
       "  line-height: 1.5em;\n",
       "  min-width: 300px;\n",
       "  max-width: 1200px;\n",
       "  overflow-y: scroll;\n",
       "  max-height: 600px;\n",
       "  border: 1px solid var(--border-color);\n",
       "  font-family: monospace;\n",
       "}\n",
       "\n",
       ".ee li {\n",
       "  list-style-type: none;\n",
       "}\n",
       "\n",
       ".ee ul {\n",
       "  padding-left: 1.5em !important;\n",
       "  margin: 0;\n",
       "}\n",
       "\n",
       ".ee > ul {\n",
       "  padding-left: 0 !important;\n",
       "}\n",
       "\n",
       ".ee-open,\n",
       ".ee-shut {\n",
       "  color: var(--font-color-secondary);\n",
       "  cursor: pointer;\n",
       "  margin: 0;\n",
       "}\n",
       "\n",
       ".ee-open:hover,\n",
       ".ee-shut:hover {\n",
       "  color: var(--font-color-primary);\n",
       "}\n",
       "\n",
       ".ee-k {\n",
       "  color: var(--font-color-accent);\n",
       "  margin-right: 6px;\n",
       "}\n",
       "\n",
       ".ee-v {\n",
       "  color: var(--font-color-primary);\n",
       "}\n",
       "\n",
       ".ee-toggle {\n",
       "  display: none;\n",
       "}\n",
       "\n",
       ".ee-shut + ul {\n",
       "  display: none;\n",
       "}\n",
       "\n",
       ".ee-open + ul {\n",
       "  display: block;\n",
       "}\n",
       "\n",
       ".ee-shut::before {\n",
       "  display: inline-block;\n",
       "  content: \"▼\";\n",
       "  margin-right: 6px;\n",
       "  transform: rotate(-90deg);\n",
       "  transition: transform 0.2s;\n",
       "}\n",
       "\n",
       ".ee-open::before {\n",
       "  transform: rotate(0deg);\n",
       "  display: inline-block;\n",
       "  content: \"▼\";\n",
       "  margin-right: 6px;\n",
       "  transition: transform 0.2s;\n",
       "}\n",
       "</style><div class='ee'><ul><li><span class='ee-v'>0</span></li></ul></div><script>function toggleHeader() {\n",
       "    const parent = this.parentElement;\n",
       "    parent.className = parent.className === \"ee-open\" ? \"ee-shut\" : \"ee-open\";\n",
       "}\n",
       "\n",
       "for (let c of document.getElementsByClassName(\"ee-toggle\")) {\n",
       "    c.onclick = toggleHeader;\n",
       "}</script></div>"
      ],
      "text/plain": [
       "<ee.ee_number.Number at 0x209a4e2f640>"
      ]
     },
     "execution_count": 58,
     "metadata": {},
     "output_type": "execute_result"
    }
   ],
   "source": [
    "date_range = ('2017-05-20','2017-08-10')\n",
    "s2 = ee.ImageCollection('COPERNICUS/S2_SR_HARMONIZED') \\\n",
    "                      .filterDate(date_range[0], date_range[1]) \\\n",
    "                      .filter(ee.Filter.lt('CLOUDY_PIXEL_PERCENTAGE',10)) \\\n",
    "                      .filter(ee.Filter.lt('SNOW_ICE_PERCENTAGE',10)) \\\n",
    "                      .filterBounds(rois.rio)\n",
    "s2.size()"
   ]
  },
  {
   "cell_type": "code",
   "execution_count": 41,
   "metadata": {},
   "outputs": [
    {
     "data": {
      "application/vnd.jupyter.widget-view+json": {
       "model_id": "060c639861d24571b0ad4e72573b1f60",
       "version_major": 2,
       "version_minor": 0
      },
      "text/plain": [
       "Map(center=[37.420001025890286, -122.08399996417683], controls=(WidgetControl(options=['position', 'transparen…"
      ]
     },
     "metadata": {},
     "output_type": "display_data"
    }
   ],
   "source": [
    "# Initialize Earth Engine\n",
    "ee.Initialize()\n",
    "\n",
    "# Define the ROI (Region of Interest)\n",
    "roi = ee.Geometry.Point([-122.084, 37.42]).buffer(1000)\n",
    "\n",
    "# Define the date range\n",
    "start_date = '2021-01-01'\n",
    "end_date = '2021-12-31'\n",
    "\n",
    "# Load Sentinel-2 data for the ROI and date range\n",
    "collection = ee.ImageCollection('COPERNICUS/S2_SR') \\\n",
    "    .filterBounds(rois.rio) \\\n",
    "    .filterDate(start_date, end_date)\n",
    "\n",
    "# Select the bands to visualize\n",
    "bands = ['B4', 'B3', 'B2']\n",
    "\n",
    "# Create a median composite image\n",
    "image = collection.median().select(bands)\n",
    "\n",
    "# Set visualization parameters for the image\n",
    "viz_params = {'bands': bands, 'min': 0, 'max': 3000}\n",
    "\n",
    "# Create a Map instance\n",
    "Map = geemap.Map()\n",
    "\n",
    "# Add the image to the Map\n",
    "Map.addLayer(image, viz_params, 'Sentinel-2')\n",
    "\n",
    "# Add the ROI to the Map\n",
    "Map.addLayer(roi, {'color': 'red'}, 'ROI')\n",
    "\n",
    "# Display the Map\n",
    "Map.centerObject(roi, 12)\n",
    "Map.addLayerControl()\n",
    "Map"
   ]
  },
  {
   "cell_type": "code",
   "execution_count": 42,
   "metadata": {},
   "outputs": [
    {
     "name": "stdout",
     "output_type": "stream",
     "text": [
      "CLOUD_SHADOW_PERCENTAGE  : [0.088712, 0.247935, 0.373204, 0.028447, 0.02504, 0.022233, 0.025916, 0.052273, 0, 0.000786, 1.601096, 0.060647, 0.031924, 0.041548, 0.906603, 0.943759, 0.045962, 0.138271, 0.238762, 1.268828, 0.037276, 0.156559, 0.047299, 2.526806, 0.329783, 0.05719, 0.272474, 1.996696, 0.003623, 0.213417, 0.641033, 1.093062, 2.035723, 0.642174, 0.001516, 0.07575, 1.716371, 0.118925, 0.040076, 1.191675, 0.054064, 1.452882, 2.468953, 1.460606, 0.19904, 0.113507, 0.023198, 1.239754, 0.222939, 0.004127, 0.054917, 1.440536, 0.07286, 0.276349, 0, 0, 0.414015, 0.007225, 0.000179, 0.003006, 0.000116, 0.017021, 0, 0.621329, 0, 0.148132, 0.021088, 0.031622, 0.381041, 0.099207, 0.287381, 1.083288, 0.828637]\n",
      "VEGETATION_PERCENTAGE    : [3.749158, 15.457872, 9.416382, 27.746645, 6.508834, 26.548102, 20.768043, 1.376445, 0, 1.186114, 10.833184, 3.706451, 24.770588, 3.42564, 20.830637, 15.453044, 24.79527, 19.48252, 25.548872, 17.675065, 0.335142, 17.204528, 28.025195, 16.859227, 27.192914, 0.682443, 1.853882, 12.60535, 0.000949, 25.458738, 23.845647, 3.345616, 4.343144, 2.745389, 0.003769, 26.396367, 18.430857, 24.013036, 0.535609, 19.565234, 22.866178, 16.475263, 13.972628, 10.240686, 17.760924, 22.108386, 17.359306, 2.640071, 9.809062, 0.051005, 12.59944, 14.304206, 11.844291, 2.725966, 0.000143, 0, 36.305067, 4.113306, 0.007561, 0.311054, 0.16982, 0.596076, 6.3e-05, 15.269196, 0, 4.92853, 27.518687, 1.299647, 8.011489, 12.858734, 5.874924, 8.526542, 15.920617]\n",
      "NOT_VEGETATED_PERCENTAGE : [0.59459, 4.053832, 4.082717, 7.462168, 1.11338, 8.247036, 6.785323, 0.763136, 0, 0.40682, 2.868594, 1.562905, 7.083381, 0.935198, 6.875551, 6.116625, 7.459196, 5.750757, 7.291519, 3.900908, 0.024582, 7.224973, 7.000574, 5.379494, 7.192995, 0.11496, 0.542656, 4.608924, 3e-06, 7.642659, 7.466943, 2.338718, 2.064691, 0.427643, 0.001165, 7.80654, 6.086358, 8.803743, 0.340593, 10.295201, 11.460702, 10.189153, 9.749842, 8.993106, 12.141489, 12.322009, 16.25627, 1.483701, 8.622012, 0.017877, 10.133414, 8.060912, 8.447142, 2.327909, 0.000388, 2e-05, 12.52176, 1.658064, 0.012269, 0.057813, 0.091994, 0.15697, 0.000458, 5.999034, 0, 3.248854, 7.831803, 0.913637, 2.250666, 7.475161, 3.252982, 3.366675, 6.786268]\n",
      "NODATA_PIXEL_PERCENTAGE  : [0, 0, 0, 7e-06, 0, 3e-06, 0, 0, 0, 0, 1.7e-05, 0, 0, 2.990564, 0, 0, 0, 0, 0, 3.6e-05, 0, 0, 0, 0, 0, 0, 0, 3e-05, 0, 0, 0, 0, 0, 3e-06, 0, 0, 1.7e-05, 0, 0, 0, 0, 0, 0, 0, 0, 0, 0, 3e-06, 0, 0, 0, 0, 0, 0, 0, 0, 65.831542, 16.099933, 0, 0, 0, 0, 0, 3.6e-05, 0, 0, 1e-05, 0, 0, 0, 0, 1e-05, 0]\n",
      "SNOW_ICE_PERCENTAGE      : [1.06627, 0.000703, 0.023384, 0.00144, 0.000362, 0.001208, 0.000936, 0.034257, 0, 0.625247, 1.355812, 0.664596, 0.001755, 0.0013, 0.001374, 0.006088, 0.01079, 0.005819, 0.021748, 0.179953, 1.95498, 0.002724, 0.046403, 0.118238, 0.006745, 1.113503, 0.240978, 0.3577, 0, 0.025816, 0.022478, 0.135252, 1.7359, 4.702274, 0.753465, 0.025146, 0.017385, 0.00722, 0.335178, 0.016606, 0.005531, 0.048938, 0.055269, 0.010358, 0.021513, 0.00145, 0.009456, 3.972057, 0.000571, 0.792894, 0.009356, 0.00857, 0.020999, 0.059575, 1.224256, 0.018324, 0.003068, 0.001151, 1.850873, 0.036055, 0.213161, 0.088689, 0.000956, 0.034778, 0, 0.003942, 0.002445, 0.011257, 0.332584, 0.000919, 0.392344, 1.785631, 0.004927]\n",
      "WATER_PERCENTAGE         : [19.309448, 45.719728, 48.669687, 54.23246, 14.286137, 63.097125, 58.125699, 36.962527, 0, 0.781733, 29.938626, 2.330278, 16.348015, 24.139525, 62.939674, 50.712931, 27.509692, 60.19882, 63.793778, 26.775092, 24.980162, 46.415707, 63.363278, 58.90283, 64.136004, 11.001178, 13.961062, 6.651691, 1.764311, 60.26383, 63.658315, 57.086575, 19.179018, 1.965929, 0.64449, 64.160812, 45.076621, 60.301298, 4.966311, 63.289386, 64.154941, 59.192491, 32.634121, 58.635163, 63.575131, 55.263829, 64.087576, 48.671597, 9.055007, 0.505791, 41.896656, 62.070072, 38.626438, 52.674556, 0.189674, 0.056367, 8.523939, 18.307379, 0.111061, 1.96922, 17.320509, 19.039267, 0.095521, 62.798929, 0, 41.531408, 64.121461, 49.489352, 41.833219, 24.248596, 27.403525, 45.738938, 61.948407]\n",
      "Date                     : ['2021-01-03', '2021-01-08', '2021-01-13', '2021-01-18', '2021-01-23', '2021-01-28', '2021-02-02', '2021-02-07', '2021-02-12', '2021-02-17', '2021-02-22', '2021-02-27', '2021-03-04', '2021-03-09', '2021-03-14', '2021-03-19', '2021-03-24', '2021-03-29', '2021-04-03', '2021-04-08', '2021-04-13', '2021-04-18', '2021-04-23', '2021-04-28', '2021-05-03', '2021-05-08', '2021-05-13', '2021-05-18', '2021-05-23', '2021-05-28', '2021-06-02', '2021-06-07', '2021-06-12', '2021-06-17', '2021-06-22', '2021-07-02', '2021-07-07', '2021-07-12', '2021-07-17', '2021-07-22', '2021-07-27', '2021-08-01', '2021-08-06', '2021-08-11', '2021-08-16', '2021-08-21', '2021-08-26', '2021-08-31', '2021-09-05', '2021-09-10', '2021-09-15', '2021-09-20', '2021-09-25', '2021-09-30', '2021-10-05', '2021-10-10', '2021-10-15', '2021-10-15', '2021-10-20', '2021-10-25', '2021-10-30', '2021-11-04', '2021-11-09', '2021-11-14', '2021-11-19', '2021-11-24', '2021-11-29', '2021-12-04', '2021-12-09', '2021-12-14', '2021-12-19', '2021-12-24', '2021-12-29']\n"
     ]
    }
   ],
   "source": [
    "sen2_print(collection)"
   ]
  },
  {
   "cell_type": "code",
   "execution_count": null,
   "metadata": {},
   "outputs": [],
   "source": []
  }
 ],
 "metadata": {
  "kernelspec": {
   "display_name": "geemap",
   "language": "python",
   "name": "python3"
  },
  "language_info": {
   "codemirror_mode": {
    "name": "ipython",
    "version": 3
   },
   "file_extension": ".py",
   "mimetype": "text/x-python",
   "name": "python",
   "nbconvert_exporter": "python",
   "pygments_lexer": "ipython3",
   "version": "3.9.16"
  },
  "orig_nbformat": 4
 },
 "nbformat": 4,
 "nbformat_minor": 2
}
