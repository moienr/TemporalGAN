{
 "cells": [
  {
   "cell_type": "code",
   "execution_count": 1,
   "metadata": {},
   "outputs": [],
   "source": [
    "import ee\n",
    "import geemap"
   ]
  },
  {
   "cell_type": "code",
   "execution_count": 2,
   "metadata": {},
   "outputs": [],
   "source": [
    "ee.Initialize()"
   ]
  },
  {
   "cell_type": "code",
   "execution_count": 3,
   "metadata": {},
   "outputs": [],
   "source": [
    "from datetime import datetime"
   ]
  },
  {
   "cell_type": "code",
   "execution_count": 4,
   "metadata": {},
   "outputs": [],
   "source": [
    "Map = geemap.Map()"
   ]
  },
  {
   "cell_type": "code",
   "execution_count": 5,
   "metadata": {},
   "outputs": [],
   "source": [
    "def milsec2date(millsec_list: list, no_duplicate = False)->list:\n",
    "  '''\n",
    "  Input\n",
    "  ---\n",
    "  this function takes `imgcollection.aggregate_array('system:time_start')` which is a list of milliseconds dates as input\n",
    "\n",
    "  Reutrns\n",
    "  ---\n",
    "  * Defult: a list of dates in GEE date string format\n",
    "  * No_duplicate: returns the list of dates but removes the duplicates\n",
    "    '''\n",
    "  if no_duplicate:\n",
    "    date = [datetime.fromtimestamp(t/1000.0).strftime('%Y-%m-%d') for t in millsec_list]\n",
    "    date_no_duplicate = list(dict.fromkeys(date))\n",
    "    return  date_no_duplicate\n",
    "  else:\n",
    "    date = [datetime.fromtimestamp(t/1000.0).strftime('%Y-%m-%d') for t in millsec_list] \n",
    "    return date"
   ]
  },
  {
   "cell_type": "code",
   "execution_count": 127,
   "metadata": {},
   "outputs": [],
   "source": [
    "def sen2_print(s2_collection):\n",
    "  '''\n",
    "  prints the important properites of sentienel 2 data collection\n",
    "  '''\n",
    "  print('CLOUDY_PIXEL_PERCENTAGE  :',s2_collection.aggregate_array('CLOUDY_PIXEL_PERCENTAGE').getInfo())\n",
    "  print('VEGETATION_PERCENTAGE    :',s2_collection.aggregate_array('VEGETATION_PERCENTAGE').getInfo())\n",
    "  print('NOT_VEGETATED_PERCENTAGE :',s2_collection.aggregate_array('NOT_VEGETATED_PERCENTAGE').getInfo())\n",
    "\n",
    "  # print('SENSOR_QUCLOUD_COVERAGE_ASSESSMENTALITY :',s2_collection.aggregate_array('CLOUD_COVERAGE_ASSESSMENT').getInfo())\n",
    "  # print('GENERATION_TIME          :',s2_collection.aggregate_array('GENERATION_TIME').getInfo())\n",
    "  # print('SENSING_ORBIT_NUMBER     :',s2_collection.aggregate_array('SENSING_ORBIT_NUMBER').getInfo())\n",
    "  print('NODATA_PIXEL_PERCENTAGE  :',s2_collection.aggregate_array('NODATA_PIXEL_PERCENTAGE').getInfo())\n",
    "  # print('DATATAKE_TYPE            :',s2_collection.aggregate_array('DATATAKE_TYPE').getInfo())\n",
    "  # print('SENSING_ORBIT_NUMBER     :',s2_collection.aggregate_array('SENSING_ORBIT_NUMBER').getInfo())\n",
    "  print('SNOW_ICE_PERCENTAGE      :',s2_collection.aggregate_array('SNOW_ICE_PERCENTAGE').getInfo())\n",
    "  # print('THIN_CIRRUS_PERCENTAGE   :',s2_collection.aggregate_array('THIN_CIRRUS_PERCENTAGE').getInfo())\n",
    "  print('WATER_PERCENTAGE         :',s2_collection.aggregate_array('WATER_PERCENTAGE').getInfo())\n",
    "  print('Date                     :',milsec2date(s2_collection.aggregate_array('system:time_start').getInfo()))\n",
    "  # print('system:band_names        :',s2_collection.aggregate_array('system:band_names').getInfo())"
   ]
  },
  {
   "cell_type": "markdown",
   "metadata": {},
   "source": []
  },
  {
   "cell_type": "code",
   "execution_count": 7,
   "metadata": {},
   "outputs": [],
   "source": [
    "s2 = ee.ImageCollection(\"COPERNICUS/S2_HARMONIZED\")"
   ]
  },
  {
   "cell_type": "code",
   "execution_count": 8,
   "metadata": {},
   "outputs": [],
   "source": [
    "import rois"
   ]
  },
  {
   "cell_type": "code",
   "execution_count": 21,
   "metadata": {},
   "outputs": [
    {
     "name": "stdout",
     "output_type": "stream",
     "text": [
      "48\n"
     ]
    }
   ],
   "source": [
    "from rois import ROIS\n",
    "rois = ROIS()\n",
    "date_range = ('2017-05-20','2017-08-10')\n",
    "s2 = ee.ImageCollection('COPERNICUS/S2_HARMONIZED') \\\n",
    "    .filterDate(date_range[0],date_range[1]) \\\n",
    "    .filterBounds(rois.abudhabi)\n",
    "print(s2.size().getInfo())"
   ]
  },
  {
   "cell_type": "code",
   "execution_count": 22,
   "metadata": {},
   "outputs": [
    {
     "name": "stdout",
     "output_type": "stream",
     "text": [
      "0\n"
     ]
    }
   ],
   "source": [
    "date_range = ('2017-05-20','2017-08-10')\n",
    "s2 = ee.ImageCollection('COPERNICUS/S2_SR_HARMONIZED') \\\n",
    "                      .filterDate(date_range[0], date_range[1]) \\\n",
    "                      .filter(ee.Filter.lt('CLOUDY_PIXEL_PERCENTAGE',10)) \\\n",
    "                      .filter(ee.Filter.lt('SNOW_ICE_PERCENTAGE',10)) \\\n",
    "                      .filterBounds(rois.rio)\n",
    "print(s2.size().getInfo())"
   ]
  },
  {
   "cell_type": "code",
   "execution_count": 154,
   "metadata": {},
   "outputs": [
    {
     "name": "stdout",
     "output_type": "stream",
     "text": [
      "ROI name: abudhabi\n",
      "577\n",
      "ROI name: abudhabi_buffed\n",
      "580\n",
      "ROI name: aguasclaras\n",
      "122\n",
      "ROI name: aguasclaras_buffed\n",
      "218\n",
      "ROI name: aguasclaras_adj_goiania\n",
      "73\n",
      "ROI name: beihai\n",
      "146\n",
      "ROI name: beihai_buffed\n",
      "146\n",
      "ROI name: beihai_adj_gaoqiazhen\n",
      "146\n",
      "ROI name: beirut\n",
      "72\n",
      "ROI name: beirut_adj_tripoli\n",
      "142\n",
      "ROI name: bercy\n",
      "145\n",
      "ROI name: bercy_buffed_paris\n",
      "145\n",
      "ROI name: bordeaux\n",
      "74\n",
      "ROI name: bordeaux_buffed\n",
      "144\n",
      "ROI name: brasilia\n",
      "145\n",
      "ROI name: brasilia_buffed\n",
      "290\n",
      "ROI name: chongqing\n",
      "144\n",
      "ROI name: chongqing_adj\n",
      "144\n",
      "ROI name: cupertino\n",
      "72\n",
      "ROI name: cupertino_buffed\n",
      "143\n",
      "ROI name: cupertino_adj_losangles\n",
      "144\n",
      "ROI name: dubai\n",
      "73\n",
      "ROI name: dubai_buffed\n"
     ]
    },
    {
     "ename": "EEException",
     "evalue": "The caller does not have permission",
     "output_type": "error",
     "traceback": [
      "\u001b[1;31m---------------------------------------------------------------------------\u001b[0m",
      "\u001b[1;31mHttpError\u001b[0m                                 Traceback (most recent call last)",
      "File \u001b[1;32mc:\\Users\\moi3n\\miniconda3\\envs\\geemap\\lib\\site-packages\\ee\\data.py:329\u001b[0m, in \u001b[0;36m_execute_cloud_call\u001b[1;34m(call, num_retries)\u001b[0m\n\u001b[0;32m    328\u001b[0m \u001b[39mtry\u001b[39;00m:\n\u001b[1;32m--> 329\u001b[0m   \u001b[39mreturn\u001b[39;00m call\u001b[39m.\u001b[39;49mexecute(num_retries\u001b[39m=\u001b[39;49mnum_retries)\n\u001b[0;32m    330\u001b[0m \u001b[39mexcept\u001b[39;00m googleapiclient\u001b[39m.\u001b[39merrors\u001b[39m.\u001b[39mHttpError \u001b[39mas\u001b[39;00m e:\n",
      "File \u001b[1;32mc:\\Users\\moi3n\\miniconda3\\envs\\geemap\\lib\\site-packages\\googleapiclient\\_helpers.py:130\u001b[0m, in \u001b[0;36mpositional.<locals>.positional_decorator.<locals>.positional_wrapper\u001b[1;34m(*args, **kwargs)\u001b[0m\n\u001b[0;32m    129\u001b[0m         logger\u001b[39m.\u001b[39mwarning(message)\n\u001b[1;32m--> 130\u001b[0m \u001b[39mreturn\u001b[39;00m wrapped(\u001b[39m*\u001b[39margs, \u001b[39m*\u001b[39m\u001b[39m*\u001b[39mkwargs)\n",
      "File \u001b[1;32mc:\\Users\\moi3n\\miniconda3\\envs\\geemap\\lib\\site-packages\\googleapiclient\\http.py:938\u001b[0m, in \u001b[0;36mHttpRequest.execute\u001b[1;34m(self, http, num_retries)\u001b[0m\n\u001b[0;32m    937\u001b[0m \u001b[39mif\u001b[39;00m resp\u001b[39m.\u001b[39mstatus \u001b[39m>\u001b[39m\u001b[39m=\u001b[39m \u001b[39m300\u001b[39m:\n\u001b[1;32m--> 938\u001b[0m     \u001b[39mraise\u001b[39;00m HttpError(resp, content, uri\u001b[39m=\u001b[39m\u001b[39mself\u001b[39m\u001b[39m.\u001b[39muri)\n\u001b[0;32m    939\u001b[0m \u001b[39mreturn\u001b[39;00m \u001b[39mself\u001b[39m\u001b[39m.\u001b[39mpostproc(resp, content)\n",
      "\u001b[1;31mHttpError\u001b[0m: <HttpError 403 when requesting https://earthengine.googleapis.com/v1alpha/projects/earthengine-legacy/value:compute?prettyPrint=false&alt=json returned \"The caller does not have permission\". Details: \"The caller does not have permission\">",
      "\nDuring handling of the above exception, another exception occurred:\n",
      "\u001b[1;31mEEException\u001b[0m                               Traceback (most recent call last)",
      "Cell \u001b[1;32mIn[154], line 13\u001b[0m\n\u001b[0;32m      7\u001b[0m s2 \u001b[39m=\u001b[39m ee\u001b[39m.\u001b[39mImageCollection(\u001b[39m'\u001b[39m\u001b[39mCOPERNICUS/S2_SR_HARMONIZED\u001b[39m\u001b[39m'\u001b[39m) \\\n\u001b[0;32m      8\u001b[0m                       \u001b[39m.\u001b[39mfilterDate(date_range[\u001b[39m0\u001b[39m], date_range[\u001b[39m1\u001b[39m]) \\\n\u001b[0;32m      9\u001b[0m                       \u001b[39m.\u001b[39mfilterBounds(roi)\u001b[39m#.filter(ee.Filter.contains('.geo', roi)) \u001b[39;00m\n\u001b[0;32m     10\u001b[0m \u001b[39m# s2 = ee.ImageCollection('COPERNICUS/S2_HARMONIZED') \\\u001b[39;00m\n\u001b[0;32m     11\u001b[0m \u001b[39m#                       .filterDate(date_range[0], date_range[1]) \\\u001b[39;00m\n\u001b[0;32m     12\u001b[0m \u001b[39m#                       .filterBounds(roi)\u001b[39;00m\n\u001b[1;32m---> 13\u001b[0m \u001b[39mprint\u001b[39m(s2\u001b[39m.\u001b[39;49msize()\u001b[39m.\u001b[39;49mgetInfo())\n",
      "File \u001b[1;32mc:\\Users\\moi3n\\miniconda3\\envs\\geemap\\lib\\site-packages\\ee\\computedobject.py:96\u001b[0m, in \u001b[0;36mComputedObject.getInfo\u001b[1;34m(self)\u001b[0m\n\u001b[0;32m     90\u001b[0m \u001b[39mdef\u001b[39;00m \u001b[39mgetInfo\u001b[39m(\u001b[39mself\u001b[39m):\n\u001b[0;32m     91\u001b[0m \u001b[39m  \u001b[39m\u001b[39m\"\"\"Fetch and return information about this object.\u001b[39;00m\n\u001b[0;32m     92\u001b[0m \n\u001b[0;32m     93\u001b[0m \u001b[39m  Returns:\u001b[39;00m\n\u001b[0;32m     94\u001b[0m \u001b[39m    The object can evaluate to anything.\u001b[39;00m\n\u001b[0;32m     95\u001b[0m \u001b[39m  \"\"\"\u001b[39;00m\n\u001b[1;32m---> 96\u001b[0m   \u001b[39mreturn\u001b[39;00m data\u001b[39m.\u001b[39;49mcomputeValue(\u001b[39mself\u001b[39;49m)\n",
      "File \u001b[1;32mc:\\Users\\moi3n\\miniconda3\\envs\\geemap\\lib\\site-packages\\ee\\data.py:898\u001b[0m, in \u001b[0;36mcomputeValue\u001b[1;34m(obj)\u001b[0m\n\u001b[0;32m    895\u001b[0m body \u001b[39m=\u001b[39m {\u001b[39m'\u001b[39m\u001b[39mexpression\u001b[39m\u001b[39m'\u001b[39m: serializer\u001b[39m.\u001b[39mencode(obj, for_cloud_api\u001b[39m=\u001b[39m\u001b[39mTrue\u001b[39;00m)}\n\u001b[0;32m    896\u001b[0m _maybe_populate_workload_tag(body)\n\u001b[1;32m--> 898\u001b[0m \u001b[39mreturn\u001b[39;00m _execute_cloud_call(\n\u001b[0;32m    899\u001b[0m     _get_cloud_api_resource()\u001b[39m.\u001b[39;49mprojects()\u001b[39m.\u001b[39;49mvalue()\u001b[39m.\u001b[39;49mcompute(\n\u001b[0;32m    900\u001b[0m         body\u001b[39m=\u001b[39;49mbody,\n\u001b[0;32m    901\u001b[0m         project\u001b[39m=\u001b[39;49m_get_projects_path(),\n\u001b[0;32m    902\u001b[0m         prettyPrint\u001b[39m=\u001b[39;49m\u001b[39mFalse\u001b[39;49;00m))[\u001b[39m'\u001b[39m\u001b[39mresult\u001b[39m\u001b[39m'\u001b[39m]\n",
      "File \u001b[1;32mc:\\Users\\moi3n\\miniconda3\\envs\\geemap\\lib\\site-packages\\ee\\data.py:331\u001b[0m, in \u001b[0;36m_execute_cloud_call\u001b[1;34m(call, num_retries)\u001b[0m\n\u001b[0;32m    329\u001b[0m   \u001b[39mreturn\u001b[39;00m call\u001b[39m.\u001b[39mexecute(num_retries\u001b[39m=\u001b[39mnum_retries)\n\u001b[0;32m    330\u001b[0m \u001b[39mexcept\u001b[39;00m googleapiclient\u001b[39m.\u001b[39merrors\u001b[39m.\u001b[39mHttpError \u001b[39mas\u001b[39;00m e:\n\u001b[1;32m--> 331\u001b[0m   \u001b[39mraise\u001b[39;00m _translate_cloud_exception(e)\n",
      "\u001b[1;31mEEException\u001b[0m: The caller does not have permission"
     ]
    }
   ],
   "source": [
    "import rois\n",
    "rois = rois.ROIS()\n",
    "\n",
    "for name, roi in rois:\n",
    "  print('ROI name:',name)\n",
    "  date_range = ('2019-01-01','2019-12-31')\n",
    "  s2 = ee.ImageCollection('COPERNICUS/S2_SR_HARMONIZED') \\\n",
    "                        .filterDate(date_range[0], date_range[1]) \\\n",
    "                        .filterBounds(roi)#.filter(ee.Filter.contains('.geo', roi)) \n",
    "  # s2 = ee.ImageCollection('COPERNICUS/S2_HARMONIZED') \\\n",
    "  #                       .filterDate(date_range[0], date_range[1]) \\\n",
    "  #                       .filterBounds(roi)\n",
    "  print(s2.size().getInfo())\n"
   ]
  },
  {
   "cell_type": "code",
   "execution_count": 141,
   "metadata": {},
   "outputs": [
    {
     "name": "stdout",
     "output_type": "stream",
     "text": [
      "Finding TOA images\n",
      "23\n",
      "33\n"
     ]
    }
   ],
   "source": [
    "date_range1 = ('2017-05-20','2017-08-10')\n",
    "date_range2 = ('2021-05-20','2021-08-10')\n",
    "roi = rois.bercy\n",
    "SR = False\n",
    "if SR:\n",
    "    print('Finding SR images')\n",
    "    s2_1 = ee.ImageCollection('COPERNICUS/S2_SR_HARMONIZED') \\\n",
    "                        .filterDate(date_range1[0], date_range1[1]) \\\n",
    "                        .filter(ee.Filter.lt('CLOUDY_PIXEL_PERCENTAGE',10)) \\\n",
    "                        .filter(ee.Filter.lt('SNOW_ICE_PERCENTAGE',10)) \\\n",
    "                        .filterBounds(roi).sort('CLOUDY_PIXEL_PERCENTAGE', True)\n",
    "    print(s2_1.size().getInfo())\n",
    "\n",
    "    s2_2 = ee.ImageCollection('COPERNICUS/S2_SR_HARMONIZED') \\\n",
    "                        .filterDate(date_range2[0], date_range2[1]) \\\n",
    "                        .filter(ee.Filter.lt('CLOUDY_PIXEL_PERCENTAGE',10)) \\\n",
    "                        .filter(ee.Filter.lt('SNOW_ICE_PERCENTAGE',10)) \\\n",
    "                        .filterBounds(roi).sort('CLOUDY_PIXEL_PERCENTAGE', True)\n",
    "    print(s2_2.size().getInfo())\n",
    "else:\n",
    "    print('Finding TOA images')\n",
    "    s2_1 = ee.ImageCollection('COPERNICUS/S2_HARMONIZED') \\\n",
    "        .filterDate(date_range1[0],date_range1[1]) \\\n",
    "        .filterBounds(roi).sort('CLOUDY_PIXEL_PERCENTAGE', True)\n",
    "    print(s2_1.size().getInfo())\n",
    "    \n",
    "    s2_2 = ee.ImageCollection('COPERNICUS/S2_HARMONIZED') \\\n",
    "        .filterDate(date_range2[0],date_range2[1]) \\\n",
    "        .filterBounds(roi).sort('CLOUDY_PIXEL_PERCENTAGE', True)\n",
    "    print(s2_2.size().getInfo())\n",
    "        "
   ]
  },
  {
   "cell_type": "code",
   "execution_count": 148,
   "metadata": {},
   "outputs": [],
   "source": [
    "vis_params_s2 = {\n",
    "  'min': 0.04,\n",
    "  'max': 0.4,\n",
    "  'bands': ['B4', 'B3', 'B2'],\n",
    "}"
   ]
  },
  {
   "cell_type": "code",
   "execution_count": 149,
   "metadata": {},
   "outputs": [],
   "source": [
    "left_layer = geemap.ee_tile_layer(s2_1.first().clip(roi).multiply(0.0001), vis_params_s2, 'S2_1')\n",
    "right_layer = geemap.ee_tile_layer(s2_2.first().clip(roi).multiply(0.0001), vis_params_s2, 'S2_2')"
   ]
  },
  {
   "cell_type": "code",
   "execution_count": 150,
   "metadata": {},
   "outputs": [
    {
     "data": {
      "application/vnd.jupyter.widget-view+json": {
       "model_id": "c2638a9bf7fd4ef08e05db46180b3d81",
       "version_major": 2,
       "version_minor": 0
      },
      "text/plain": [
       "Map(center=[20, 0], controls=(ZoomControl(options=['position', 'zoom_in_text', 'zoom_in_title', 'zoom_out_text…"
      ]
     },
     "metadata": {},
     "output_type": "display_data"
    }
   ],
   "source": [
    "Map = geemap.Map(zoom=12)\n",
    "Map.centerObject(roi)\n",
    "Map.split_map(left_layer, right_layer)\n",
    "Map"
   ]
  },
  {
   "cell_type": "code",
   "execution_count": 130,
   "metadata": {},
   "outputs": [
    {
     "name": "stdout",
     "output_type": "stream",
     "text": [
      "CLOUDY_PIXEL_PERCENTAGE  : [100, 100, 99.9691, 99.8747, 99.6752, 99.2618, 98.5313, 95.1893, 92.2023, 90.6016, 90.0605, 87.9752, 87.8637, 86.353, 82.8295, 76.2768, 75.1655, 71.0818, 69.9768, 69.2295, 68.5597, 67.0051, 65.6219, 53.8, 53.2012, 45.4239, 41.6293, 38.1371, 10.0658, 4.2792, 1.6607, 0.0282, 0]\n",
      "VEGETATION_PERCENTAGE    : []\n",
      "NOT_VEGETATED_PERCENTAGE : []\n",
      "NODATA_PIXEL_PERCENTAGE  : []\n",
      "SNOW_ICE_PERCENTAGE      : []\n",
      "WATER_PERCENTAGE         : []\n",
      "Date                     : ['2021-06-27', '2021-07-27', '2021-05-20', '2021-06-22', '2021-06-12', '2021-06-04', '2021-07-14', '2021-07-24', '2021-08-03', '2021-07-07', '2021-07-17', '2021-06-17', '2021-07-12', '2021-06-29', '2021-08-06', '2021-05-23', '2021-06-19', '2021-07-04', '2021-06-24', '2021-06-02', '2021-07-09', '2021-05-28', '2021-05-25', '2021-06-09', '2021-07-29', '2021-08-01', '2021-08-08', '2021-07-02', '2021-05-30', '2021-06-07', '2021-07-19', '2021-07-22', '2021-06-14']\n"
     ]
    }
   ],
   "source": [
    "sen2_print(s2_2.sort('CLOUDY_PIXEL_PERCENTAGE', False))"
   ]
  },
  {
   "cell_type": "code",
   "execution_count": 151,
   "metadata": {},
   "outputs": [
    {
     "ename": "AttributeError",
     "evalue": "'Image' object has no attribute 'correctLandsat'",
     "output_type": "error",
     "traceback": [
      "\u001b[1;31m---------------------------------------------------------------------------\u001b[0m",
      "\u001b[1;31mAttributeError\u001b[0m                            Traceback (most recent call last)",
      "Cell \u001b[1;32mIn[151], line 11\u001b[0m\n\u001b[0;32m      8\u001b[0m aot \u001b[39m=\u001b[39m atm_corr\u001b[39m.\u001b[39mselect(\u001b[39m'\u001b[39m\u001b[39maot\u001b[39m\u001b[39m'\u001b[39m)\n\u001b[0;32m     10\u001b[0m \u001b[39m# Apply FLAASH Atmospheric Correction\u001b[39;00m\n\u001b[1;32m---> 11\u001b[0m corrected \u001b[39m=\u001b[39m ee\u001b[39m.\u001b[39;49mImage(ee\u001b[39m.\u001b[39;49mAlgorithms\u001b[39m.\u001b[39;49mLandsat\u001b[39m.\u001b[39;49msimpleCloudScore(image))\u001b[39m.\u001b[39;49mselect([\u001b[39m'\u001b[39;49m\u001b[39mB2\u001b[39;49m\u001b[39m'\u001b[39;49m, \u001b[39m'\u001b[39;49m\u001b[39mB3\u001b[39;49m\u001b[39m'\u001b[39;49m, \u001b[39m'\u001b[39;49m\u001b[39mB4\u001b[39;49m\u001b[39m'\u001b[39;49m, \u001b[39m'\u001b[39;49m\u001b[39mB8\u001b[39;49m\u001b[39m'\u001b[39;49m, \u001b[39m'\u001b[39;49m\u001b[39mQA60\u001b[39;49m\u001b[39m'\u001b[39;49m]) \\\n\u001b[0;32m     12\u001b[0m     \u001b[39m.\u001b[39;49mdivide(\u001b[39m10000\u001b[39;49m) \\\n\u001b[0;32m     13\u001b[0m     \u001b[39m.\u001b[39;49mreproject(\u001b[39m'\u001b[39;49m\u001b[39mEPSG:4326\u001b[39;49m\u001b[39m'\u001b[39;49m, \u001b[39mNone\u001b[39;49;00m, \u001b[39m10\u001b[39;49m) \\\n\u001b[0;32m     14\u001b[0m     \u001b[39m.\u001b[39;49munmask() \\\n\u001b[0;32m     15\u001b[0m     \u001b[39m.\u001b[39;49mmultiply(\u001b[39m10000\u001b[39;49m) \\\n\u001b[0;32m     16\u001b[0m     \u001b[39m.\u001b[39;49muint16() \\\n\u001b[0;32m     17\u001b[0m     \u001b[39m.\u001b[39;49mcorrectLandsat(atm_corr, \u001b[39m'\u001b[39m\u001b[39mTOA\u001b[39m\u001b[39m'\u001b[39m, \u001b[39m0.025\u001b[39m)\n\u001b[0;32m     19\u001b[0m \u001b[39m# Display the Results\u001b[39;00m\n\u001b[0;32m     20\u001b[0m Map \u001b[39m=\u001b[39m geemap\u001b[39m.\u001b[39mMap()\n",
      "\u001b[1;31mAttributeError\u001b[0m: 'Image' object has no attribute 'correctLandsat'"
     ]
    }
   ],
   "source": [
    "\n",
    "# Define a Sentinel-2 Image\n",
    "image = ee.Image('COPERNICUS/S2_SR/20210101T001239_20210101T001237_T55HPJ')\n",
    "\n",
    "# Define the Parameters for FLAASH Atmospheric Correction\n",
    "atm_corr = ee.Image('users/samsammurphy/public/FLAASH_parameters')\n",
    "h2o = atm_corr.select('h2o')\n",
    "o3 = atm_corr.select('o3')\n",
    "aot = atm_corr.select('aot')\n",
    "\n",
    "# Apply FLAASH Atmospheric Correction\n",
    "corrected = ee.Image(ee.Algorithms.Landsat.simpleCloudScore(image)).select(['B2', 'B3', 'B4', 'B8', 'QA60']) \\\n",
    "    .divide(10000) \\\n",
    "    .reproject('EPSG:4326', None, 10) \\\n",
    "    .unmask() \\\n",
    "    .multiply(10000) \\\n",
    "    .uint16() \\\n",
    "    .correctLandsat(atm_corr, 'TOA', 0.025)\n",
    "\n",
    "# Display the Results\n",
    "Map = geemap.Map()\n",
    "Map.centerObject(image, 10)\n",
    "Map.addLayer(image, {'bands': ['B4', 'B3', 'B2'], 'min': 0, 'max': 3000}, 'Original Image')\n",
    "Map.addLayer(corrected, {'bands': ['B4', 'B3', 'B2'], 'min': 0, 'max': 3000}, 'Corrected Image')\n",
    "Map.addLayerControl()\n",
    "Map\n"
   ]
  },
  {
   "cell_type": "code",
   "execution_count": null,
   "metadata": {},
   "outputs": [],
   "source": []
  }
 ],
 "metadata": {
  "kernelspec": {
   "display_name": "geemap",
   "language": "python",
   "name": "python3"
  },
  "language_info": {
   "codemirror_mode": {
    "name": "ipython",
    "version": 3
   },
   "file_extension": ".py",
   "mimetype": "text/x-python",
   "name": "python",
   "nbconvert_exporter": "python",
   "pygments_lexer": "ipython3",
   "version": "3.9.16"
  },
  "orig_nbformat": 4
 },
 "nbformat": 4,
 "nbformat_minor": 2
}
