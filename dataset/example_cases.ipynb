{
 "cells": [
  {
   "attachments": {},
   "cell_type": "markdown",
   "metadata": {},
   "source": [
    "# ShowCase Exapmles\n",
    "this is a file that contains codes that were removed but are importat, since they were used to test some theories"
   ]
  },
  {
   "cell_type": "code",
   "execution_count": null,
   "metadata": {},
   "outputs": [],
   "source": [
    "from utils.utils import *\n",
    "from utils.ee_utils import *\n",
    "import ee\n",
    "import geemap\n",
    "from rois import ROIS\n",
    "rois = ROIS()"
   ]
  },
  {
   "cell_type": "code",
   "execution_count": null,
   "metadata": {},
   "outputs": [],
   "source": [
    "ee.Initialize()\n",
    "Map = geemap.Map()"
   ]
  },
  {
   "attachments": {},
   "cell_type": "markdown",
   "metadata": {},
   "source": [
    "## High cloud cover results in false snow_cover result in sentinel 2 images\n",
    "\n",
    "For exapmle in this case, we are testing an image in summer in paris, but as you can see we are seeing a high snow/ice coverege and that is because "
   ]
  },
  {
   "cell_type": "code",
   "execution_count": null,
   "metadata": {},
   "outputs": [],
   "source": [
    "roi = rois.bercy\n",
    "\n",
    "s2_test_col = ee.ImageCollection('COPERNICUS/S2_SR') \\\n",
    "                    .filterDate('2021-05-17', '2021-05-19') \\\n",
    "                    .filterBounds(roi)\n",
    "                    \n",
    "sen2_print(s2_test_col)\n",
    "s2_test_img = s2_test_col.first()\n",
    "\n",
    "scl = s2_test_img.select('SCL')\n",
    "mask = scl.eq(11)\n",
    "\n",
    "Map = geemap.Map()\n",
    "Map.addLayer(s2_test_img, {'bands': ['B4', 'B3', 'B2'], 'min': 0, 'max': 3000}, 'Sentinel-2 Image', True)\n",
    "Map.addLayer(mask.updateMask(mask), {'palette': 'blue'}, 'Water Mask')\n",
    "Map.centerObject(roi, zoom=10)\n",
    "Map.addLayerControl()\n",
    "Map\n"
   ]
  }
 ],
 "metadata": {
  "language_info": {
   "name": "python"
  },
  "orig_nbformat": 4
 },
 "nbformat": 4,
 "nbformat_minor": 2
}
