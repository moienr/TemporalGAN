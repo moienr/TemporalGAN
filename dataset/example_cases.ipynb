{
 "cells": [
  {
   "attachments": {},
   "cell_type": "markdown",
   "metadata": {},
   "source": [
    "# ShowCase Exapmles\n",
    "this is a file that contains codes that were removed but are importat, since they were used to test some theories"
   ]
  },
  {
   "cell_type": "code",
   "execution_count": 33,
   "metadata": {},
   "outputs": [],
   "source": [
    "from utils.utils import *\n",
    "from utils.ee_utils import *\n",
    "from utils.utils import TextColors as tc\n",
    "import ee\n",
    "import geemap\n",
    "from rois import ROIS\n",
    "rois = ROIS()"
   ]
  },
  {
   "cell_type": "code",
   "execution_count": 2,
   "metadata": {},
   "outputs": [],
   "source": [
    "ee.Initialize()\n",
    "Map = geemap.Map()"
   ]
  },
  {
   "attachments": {},
   "cell_type": "markdown",
   "metadata": {},
   "source": [
    "## High cloud cover results in false snow_cover result in sentinel 2 images\n",
    "\n",
    "For exapmle in this case, we are testing an image in summer in paris, but as you can see we are seeing a high snow/ice coverege and that is because there is a high snow covege."
   ]
  },
  {
   "cell_type": "code",
   "execution_count": null,
   "metadata": {},
   "outputs": [],
   "source": [
    "# Overwrite the default print function to for a consicise print\n",
    "sen1 = lambda s2_collection: ee_property_printer(s2_collection, propertie_name_list=['system:time_start','platform_number',\n",
    "                                                                                                    'relativeOrbitNumber_start', 'orbitProperties_pass',\n",
    "                                                                                                    'cycleNumber'], first_is_t_in_millis=True)"
   ]
  },
  {
   "cell_type": "code",
   "execution_count": 3,
   "metadata": {},
   "outputs": [
    {
     "name": "stdout",
     "output_type": "stream",
     "text": [
      "system:time_start---------> ['2021-05-18']\n",
      "roi_cloud_cover-----------> []\n",
      "CLOUDY_PIXEL_PERCENTAGE---> [70.48862]\n",
      "CLOUD_SHADOW_PERCENTAGE---> [0.703129]\n",
      "VEGETATION_PERCENTAGE-----> [12.594715]\n",
      "NOT_VEGETATED_PERCENTAGE--> [1.311284]\n",
      "CLOUD_COVERAGE_ASSESSMENT-> [70.48862]\n",
      "GENERATION_TIME-----------> [1621347252000]\n",
      "SENSING_ORBIT_NUMBER------> [94]\n",
      "NODATA_PIXEL_PERCENTAGE---> [26.389542]\n",
      "DATATAKE_TYPE-------------> ['INS-NOBS']\n",
      "SENSING_ORBIT_NUMBER------> [94]\n",
      "SNOW_ICE_PERCENTAGE-------> [9.749825]\n",
      "THIN_CIRRUS_PERCENTAGE----> [2.360785]\n",
      "WATER_PERCENTAGE----------> [0.127259]\n",
      "system:band_names---------> [['B1', 'B2', 'B3', 'B4', 'B5', 'B6', 'B7', 'B8', 'B8A', 'B9', 'B11', 'B12', 'AOT', 'WVP', 'SCL', 'TCI_R', 'TCI_G', 'TCI_B', 'MSK_CLDPRB', 'MSK_SNWPRB', 'QA10', 'QA20', 'QA60']]\n"
     ]
    },
    {
     "data": {
      "application/vnd.jupyter.widget-view+json": {
       "model_id": "c100e9f457ba4c20bc4b40b592674b71",
       "version_major": 2,
       "version_minor": 0
      },
      "text/plain": [
       "Map(center=[48.843641547684896, 2.380256652833762], controls=(WidgetControl(options=['position', 'transparent_…"
      ]
     },
     "metadata": {},
     "output_type": "display_data"
    }
   ],
   "source": [
    "roi = rois.bercy\n",
    "\n",
    "s2_test_col = ee.ImageCollection('COPERNICUS/S2_SR') \\\n",
    "                    .filterDate('2021-05-17', '2021-05-19') \\\n",
    "                    .filterBounds(roi)\n",
    "                    \n",
    "sen2_print(s2_test_col)\n",
    "s2_test_img = s2_test_col.first()\n",
    "\n",
    "scl = s2_test_img.select('SCL')\n",
    "mask = scl.eq(11)\n",
    "\n",
    "Map = geemap.Map()\n",
    "Map.addLayer(s2_test_img, {'bands': ['B4', 'B3', 'B2'], 'min': 0, 'max': 3000}, 'Sentinel-2 Image', True)\n",
    "Map.addLayer(mask.updateMask(mask), {'palette': 'blue'}, 'Water Mask')\n",
    "Map.centerObject(roi, zoom=10)\n",
    "Map.addLayerControl()\n",
    "Map\n"
   ]
  },
  {
   "attachments": {},
   "cell_type": "markdown",
   "metadata": {},
   "source": [
    "## Sentinel 1A and 1B, Tandem Orbit \n",
    "sentinel 1a and 1b orbits result in a pretty simmilar, becuse of the short Spatial BaseLine.\n",
    "\n",
    "- Although I still don't know, how can you determine whether two, realtive orbit numbers are tandem or not. -> <span style=\"color: #FF1111;\">More Research Needed</span>\n",
    "\n",
    "### Hmmm Interesting...\n",
    "\n",
    "Well, Look ate the dates `AB BA AB BA ...` and each with `1 day` diffrence, and more interesting, "
   ]
  },
  {
   "cell_type": "code",
   "execution_count": 12,
   "metadata": {},
   "outputs": [
    {
     "name": "stdout",
     "output_type": "stream",
     "text": [
      "◍◍Finding S2\n",
      "◍Single scene coverege was fount!\n",
      "◍◍Finding S1\n",
      "mean date:  2021-07-21\n",
      "final date range:  2021-06-21 2021-08-21\n",
      "Snowy days       :  []\n",
      "Snowy days Buffed:  []\n",
      "◍checking for DESCENDING single scene\n",
      "Mosiac Covers 93.96914404374861 percent of the roi.\n",
      "Mosaic Coverege Accepted\n",
      "Mosaic Coverege Accepted\n",
      "collection size before removing snowy dates:  20\n",
      "collection size after removing snowy dates:  20\n",
      "◍Collection Found!\n"
     ]
    }
   ],
   "source": [
    "roi = rois.paris\n",
    "s2_col,s1_col = s1s2(roi,date = ('2021-07-15', '2021-08-15'),priority_path = 'DESCENDING',max_cloud = 100,max_snow = 100,month_span = 1,retry_days=0)"
   ]
  },
  {
   "cell_type": "code",
   "execution_count": 27,
   "metadata": {},
   "outputs": [
    {
     "name": "stdout",
     "output_type": "stream",
     "text": [
      "system:time_start---------------> ['2021-06-25', '2021-06-26', '2021-07-01', '2021-07-02', '2021-07-07', '2021-07-08', '2021-07-13', '2021-07-14', '2021-07-19', '2021-07-20', '2021-07-25', '2021-07-26', '2021-07-31', '2021-08-01', '2021-08-06', '2021-08-07', '2021-08-12', '2021-08-13', '2021-08-18', '2021-08-19']\n",
      "orbitProperties_pass------------> ['DESCENDING', 'DESCENDING', 'DESCENDING', 'DESCENDING', 'DESCENDING', 'DESCENDING', 'DESCENDING', 'DESCENDING', 'DESCENDING', 'DESCENDING', 'DESCENDING', 'DESCENDING', 'DESCENDING', 'DESCENDING', 'DESCENDING', 'DESCENDING', 'DESCENDING', 'DESCENDING', 'DESCENDING', 'DESCENDING']\n",
      "resolution----------------------> ['H', 'H', 'H', 'H', 'H', 'H', 'H', 'H', 'H', 'H', 'H', 'H', 'H', 'H', 'H', 'H', 'H', 'H', 'H', 'H']\n",
      "resolution_meters---------------> [10, 10, 10, 10, 10, 10, 10, 10, 10, 10, 10, 10, 10, 10, 10, 10, 10, 10, 10, 10]\n",
      "platform_number-----------------> ['B', 'A', 'A', 'B', 'B', 'A', 'A', 'B', 'B', 'A', 'A', 'B', 'B', 'A', 'A', 'B', 'B', 'A', 'A', 'B']\n",
      "productType---------------------> ['GRD', 'GRD', 'GRD', 'GRD', 'GRD', 'GRD', 'GRD', 'GRD', 'GRD', 'GRD', 'GRD', 'GRD', 'GRD', 'GRD', 'GRD', 'GRD', 'GRD', 'GRD', 'GRD', 'GRD']\n",
      "orbitNumber_start---------------> [27509, 38507, 38580, 27611, 27684, 38682, 38755, 27786, 27859, 38857, 38930, 27961, 28034, 39032, 39105, 28136, 28209, 39207, 39280, 28311]\n",
      "orbitNumber_stop----------------> [27509, 38507, 38580, 27611, 27684, 38682, 38755, 27786, 27859, 38857, 38930, 27961, 28034, 39032, 39105, 28136, 28209, 39207, 39280, 28311]\n",
      "transmitterReceiverPolarisation-> [['VV', 'VH'], ['VV', 'VH'], ['VV', 'VH'], ['VV', 'VH'], ['VV', 'VH'], ['VV', 'VH'], ['VV', 'VH'], ['VV', 'VH'], ['VV', 'VH'], ['VV', 'VH'], ['VV', 'VH'], ['VV', 'VH'], ['VV', 'VH'], ['VV', 'VH'], ['VV', 'VH'], ['VV', 'VH'], ['VV', 'VH'], ['VV', 'VH'], ['VV', 'VH'], ['VV', 'VH']]\n",
      "system:band_names---------------> [['VV', 'VH', 'angle', 'VV_lin'], ['VV', 'VH', 'angle', 'VV_lin'], ['VV', 'VH', 'angle', 'VV_lin'], ['VV', 'VH', 'angle', 'VV_lin'], ['VV', 'VH', 'angle', 'VV_lin'], ['VV', 'VH', 'angle', 'VV_lin'], ['VV', 'VH', 'angle', 'VV_lin'], ['VV', 'VH', 'angle', 'VV_lin'], ['VV', 'VH', 'angle', 'VV_lin'], ['VV', 'VH', 'angle', 'VV_lin'], ['VV', 'VH', 'angle', 'VV_lin'], ['VV', 'VH', 'angle', 'VV_lin'], ['VV', 'VH', 'angle', 'VV_lin'], ['VV', 'VH', 'angle', 'VV_lin'], ['VV', 'VH', 'angle', 'VV_lin'], ['VV', 'VH', 'angle', 'VV_lin'], ['VV', 'VH', 'angle', 'VV_lin'], ['VV', 'VH', 'angle', 'VV_lin'], ['VV', 'VH', 'angle', 'VV_lin'], ['VV', 'VH', 'angle', 'VV_lin']]\n",
      "instrumentMode------------------> ['IW', 'IW', 'IW', 'IW', 'IW', 'IW', 'IW', 'IW', 'IW', 'IW', 'IW', 'IW', 'IW', 'IW', 'IW', 'IW', 'IW', 'IW', 'IW', 'IW']\n",
      "relativeOrbitNumber_stop--------> [8, 110, 8, 110, 8, 110, 8, 110, 8, 110, 8, 110, 8, 110, 8, 110, 8, 110, 8, 110]\n",
      "relativeOrbitNumber_start-------> [8, 110, 8, 110, 8, 110, 8, 110, 8, 110, 8, 110, 8, 110, 8, 110, 8, 110, 8, 110]\n",
      "cycleNumber---------------------> [164, 234, 235, 164, 165, 235, 236, 165, 166, 236, 237, 166, 167, 237, 238, 167, 168, 238, 239, 168]\n"
     ]
    }
   ],
   "source": [
    "sen1_print(s1_col.sort('system:time_start'))"
   ]
  },
  {
   "cell_type": "code",
   "execution_count": 24,
   "metadata": {},
   "outputs": [
    {
     "name": "stdout",
     "output_type": "stream",
     "text": [
      "system:time_start---------------> ['2021-06-26', '2021-07-01', '2021-07-08', '2021-07-13', '2021-07-20', '2021-07-25', '2021-08-01', '2021-08-06', '2021-08-13', '2021-08-18']\n",
      "orbitProperties_pass------------> ['DESCENDING', 'DESCENDING', 'DESCENDING', 'DESCENDING', 'DESCENDING', 'DESCENDING', 'DESCENDING', 'DESCENDING', 'DESCENDING', 'DESCENDING']\n",
      "resolution----------------------> ['H', 'H', 'H', 'H', 'H', 'H', 'H', 'H', 'H', 'H']\n",
      "resolution_meters---------------> [10, 10, 10, 10, 10, 10, 10, 10, 10, 10]\n",
      "platform_number-----------------> ['A', 'A', 'A', 'A', 'A', 'A', 'A', 'A', 'A', 'A']\n",
      "productType---------------------> ['GRD', 'GRD', 'GRD', 'GRD', 'GRD', 'GRD', 'GRD', 'GRD', 'GRD', 'GRD']\n",
      "orbitNumber_start---------------> [38507, 38580, 38682, 38755, 38857, 38930, 39032, 39105, 39207, 39280]\n",
      "orbitNumber_stop----------------> [38507, 38580, 38682, 38755, 38857, 38930, 39032, 39105, 39207, 39280]\n",
      "transmitterReceiverPolarisation-> [['VV', 'VH'], ['VV', 'VH'], ['VV', 'VH'], ['VV', 'VH'], ['VV', 'VH'], ['VV', 'VH'], ['VV', 'VH'], ['VV', 'VH'], ['VV', 'VH'], ['VV', 'VH']]\n",
      "system:band_names---------------> [['VV', 'VH', 'angle', 'VV_lin'], ['VV', 'VH', 'angle', 'VV_lin'], ['VV', 'VH', 'angle', 'VV_lin'], ['VV', 'VH', 'angle', 'VV_lin'], ['VV', 'VH', 'angle', 'VV_lin'], ['VV', 'VH', 'angle', 'VV_lin'], ['VV', 'VH', 'angle', 'VV_lin'], ['VV', 'VH', 'angle', 'VV_lin'], ['VV', 'VH', 'angle', 'VV_lin'], ['VV', 'VH', 'angle', 'VV_lin']]\n",
      "instrumentMode------------------> ['IW', 'IW', 'IW', 'IW', 'IW', 'IW', 'IW', 'IW', 'IW', 'IW']\n",
      "relativeOrbitNumber_stop--------> [110, 8, 110, 8, 110, 8, 110, 8, 110, 8]\n",
      "relativeOrbitNumber_start-------> [110, 8, 110, 8, 110, 8, 110, 8, 110, 8]\n",
      "cycleNumber---------------------> [234, 235, 235, 236, 236, 237, 237, 238, 238, 239]\n"
     ]
    }
   ],
   "source": [
    "sen1_print(s1_col.filter(ee.Filter.eq('platform_number', 'A')).sort('system:time_start'))"
   ]
  },
  {
   "cell_type": "code",
   "execution_count": 25,
   "metadata": {},
   "outputs": [
    {
     "name": "stdout",
     "output_type": "stream",
     "text": [
      "system:time_start---------------> ['2021-06-25', '2021-07-02', '2021-07-07', '2021-07-14', '2021-07-19', '2021-07-26', '2021-07-31', '2021-08-07', '2021-08-12', '2021-08-19']\n",
      "orbitProperties_pass------------> ['DESCENDING', 'DESCENDING', 'DESCENDING', 'DESCENDING', 'DESCENDING', 'DESCENDING', 'DESCENDING', 'DESCENDING', 'DESCENDING', 'DESCENDING']\n",
      "resolution----------------------> ['H', 'H', 'H', 'H', 'H', 'H', 'H', 'H', 'H', 'H']\n",
      "resolution_meters---------------> [10, 10, 10, 10, 10, 10, 10, 10, 10, 10]\n",
      "platform_number-----------------> ['B', 'B', 'B', 'B', 'B', 'B', 'B', 'B', 'B', 'B']\n",
      "productType---------------------> ['GRD', 'GRD', 'GRD', 'GRD', 'GRD', 'GRD', 'GRD', 'GRD', 'GRD', 'GRD']\n",
      "orbitNumber_start---------------> [27509, 27611, 27684, 27786, 27859, 27961, 28034, 28136, 28209, 28311]\n",
      "orbitNumber_stop----------------> [27509, 27611, 27684, 27786, 27859, 27961, 28034, 28136, 28209, 28311]\n",
      "transmitterReceiverPolarisation-> [['VV', 'VH'], ['VV', 'VH'], ['VV', 'VH'], ['VV', 'VH'], ['VV', 'VH'], ['VV', 'VH'], ['VV', 'VH'], ['VV', 'VH'], ['VV', 'VH'], ['VV', 'VH']]\n",
      "system:band_names---------------> [['VV', 'VH', 'angle', 'VV_lin'], ['VV', 'VH', 'angle', 'VV_lin'], ['VV', 'VH', 'angle', 'VV_lin'], ['VV', 'VH', 'angle', 'VV_lin'], ['VV', 'VH', 'angle', 'VV_lin'], ['VV', 'VH', 'angle', 'VV_lin'], ['VV', 'VH', 'angle', 'VV_lin'], ['VV', 'VH', 'angle', 'VV_lin'], ['VV', 'VH', 'angle', 'VV_lin'], ['VV', 'VH', 'angle', 'VV_lin']]\n",
      "instrumentMode------------------> ['IW', 'IW', 'IW', 'IW', 'IW', 'IW', 'IW', 'IW', 'IW', 'IW']\n",
      "relativeOrbitNumber_stop--------> [8, 110, 8, 110, 8, 110, 8, 110, 8, 110]\n",
      "relativeOrbitNumber_start-------> [8, 110, 8, 110, 8, 110, 8, 110, 8, 110]\n",
      "cycleNumber---------------------> [164, 164, 165, 165, 166, 166, 167, 167, 168, 168]\n"
     ]
    }
   ],
   "source": [
    "sen1_print(s1_col.filter(ee.Filter.eq('platform_number', 'B')).sort('system:time_start'))"
   ]
  },
  {
   "cell_type": "code",
   "execution_count": 34,
   "metadata": {},
   "outputs": [
    {
     "name": "stdout",
     "output_type": "stream",
     "text": [
      "\u001b[1m Relative orbit number 8:  \u001b[0m\n",
      "system:time_start---------------> ['2021-06-25', '2021-07-01', '2021-07-07', '2021-07-13', '2021-07-19', '2021-07-25', '2021-07-31', '2021-08-06', '2021-08-12', '2021-08-18']\n",
      "orbitProperties_pass------------> ['DESCENDING', 'DESCENDING', 'DESCENDING', 'DESCENDING', 'DESCENDING', 'DESCENDING', 'DESCENDING', 'DESCENDING', 'DESCENDING', 'DESCENDING']\n",
      "resolution----------------------> ['H', 'H', 'H', 'H', 'H', 'H', 'H', 'H', 'H', 'H']\n",
      "resolution_meters---------------> [10, 10, 10, 10, 10, 10, 10, 10, 10, 10]\n",
      "platform_number-----------------> ['B', 'A', 'B', 'A', 'B', 'A', 'B', 'A', 'B', 'A']\n",
      "productType---------------------> ['GRD', 'GRD', 'GRD', 'GRD', 'GRD', 'GRD', 'GRD', 'GRD', 'GRD', 'GRD']\n",
      "orbitNumber_start---------------> [27509, 38580, 27684, 38755, 27859, 38930, 28034, 39105, 28209, 39280]\n",
      "orbitNumber_stop----------------> [27509, 38580, 27684, 38755, 27859, 38930, 28034, 39105, 28209, 39280]\n",
      "transmitterReceiverPolarisation-> [['VV', 'VH'], ['VV', 'VH'], ['VV', 'VH'], ['VV', 'VH'], ['VV', 'VH'], ['VV', 'VH'], ['VV', 'VH'], ['VV', 'VH'], ['VV', 'VH'], ['VV', 'VH']]\n",
      "system:band_names---------------> [['VV', 'VH', 'angle', 'VV_lin'], ['VV', 'VH', 'angle', 'VV_lin'], ['VV', 'VH', 'angle', 'VV_lin'], ['VV', 'VH', 'angle', 'VV_lin'], ['VV', 'VH', 'angle', 'VV_lin'], ['VV', 'VH', 'angle', 'VV_lin'], ['VV', 'VH', 'angle', 'VV_lin'], ['VV', 'VH', 'angle', 'VV_lin'], ['VV', 'VH', 'angle', 'VV_lin'], ['VV', 'VH', 'angle', 'VV_lin']]\n",
      "instrumentMode------------------> ['IW', 'IW', 'IW', 'IW', 'IW', 'IW', 'IW', 'IW', 'IW', 'IW']\n",
      "relativeOrbitNumber_stop--------> [8, 8, 8, 8, 8, 8, 8, 8, 8, 8]\n",
      "relativeOrbitNumber_start-------> [8, 8, 8, 8, 8, 8, 8, 8, 8, 8]\n",
      "cycleNumber---------------------> [164, 235, 165, 236, 166, 237, 167, 238, 168, 239]\n",
      "\u001b[1m Relative orbit number 110:  \u001b[0m\n",
      "system:time_start---------------> ['2021-06-26', '2021-07-02', '2021-07-08', '2021-07-14', '2021-07-20', '2021-07-26', '2021-08-01', '2021-08-07', '2021-08-13', '2021-08-19']\n",
      "orbitProperties_pass------------> ['DESCENDING', 'DESCENDING', 'DESCENDING', 'DESCENDING', 'DESCENDING', 'DESCENDING', 'DESCENDING', 'DESCENDING', 'DESCENDING', 'DESCENDING']\n",
      "resolution----------------------> ['H', 'H', 'H', 'H', 'H', 'H', 'H', 'H', 'H', 'H']\n",
      "resolution_meters---------------> [10, 10, 10, 10, 10, 10, 10, 10, 10, 10]\n",
      "platform_number-----------------> ['A', 'B', 'A', 'B', 'A', 'B', 'A', 'B', 'A', 'B']\n",
      "productType---------------------> ['GRD', 'GRD', 'GRD', 'GRD', 'GRD', 'GRD', 'GRD', 'GRD', 'GRD', 'GRD']\n",
      "orbitNumber_start---------------> [38507, 27611, 38682, 27786, 38857, 27961, 39032, 28136, 39207, 28311]\n",
      "orbitNumber_stop----------------> [38507, 27611, 38682, 27786, 38857, 27961, 39032, 28136, 39207, 28311]\n",
      "transmitterReceiverPolarisation-> [['VV', 'VH'], ['VV', 'VH'], ['VV', 'VH'], ['VV', 'VH'], ['VV', 'VH'], ['VV', 'VH'], ['VV', 'VH'], ['VV', 'VH'], ['VV', 'VH'], ['VV', 'VH']]\n",
      "system:band_names---------------> [['VV', 'VH', 'angle', 'VV_lin'], ['VV', 'VH', 'angle', 'VV_lin'], ['VV', 'VH', 'angle', 'VV_lin'], ['VV', 'VH', 'angle', 'VV_lin'], ['VV', 'VH', 'angle', 'VV_lin'], ['VV', 'VH', 'angle', 'VV_lin'], ['VV', 'VH', 'angle', 'VV_lin'], ['VV', 'VH', 'angle', 'VV_lin'], ['VV', 'VH', 'angle', 'VV_lin'], ['VV', 'VH', 'angle', 'VV_lin']]\n",
      "instrumentMode------------------> ['IW', 'IW', 'IW', 'IW', 'IW', 'IW', 'IW', 'IW', 'IW', 'IW']\n",
      "relativeOrbitNumber_stop--------> [110, 110, 110, 110, 110, 110, 110, 110, 110, 110]\n",
      "relativeOrbitNumber_start-------> [110, 110, 110, 110, 110, 110, 110, 110, 110, 110]\n",
      "cycleNumber---------------------> [234, 164, 235, 165, 236, 166, 237, 167, 238, 168]\n"
     ]
    }
   ],
   "source": [
    "print(tc.BOLD,'Relative orbit number 8: ',tc.ENDC)\n",
    "sen1_print(s1_col.filter(ee.Filter.eq('relativeOrbitNumber_start', ee.Number(8))).sort('system:time_start'))\n",
    "print(tc.BOLD,'Relative orbit number 110: ',tc.ENDC)\n",
    "sen1_print(s1_col.filter(ee.Filter.eq('relativeOrbitNumber_start', ee.Number(110))).sort('system:time_start'))"
   ]
  },
  {
   "cell_type": "code",
   "execution_count": 19,
   "metadata": {},
   "outputs": [],
   "source": [
    "vis_params_s1_bright = {\n",
    "    'min': -10,\n",
    "    'max': 10,\n",
    "    'bands': ['VV_db']\n",
    "}"
   ]
  },
  {
   "cell_type": "code",
   "execution_count": 20,
   "metadata": {},
   "outputs": [],
   "source": [
    "s1_col = s1_col.map(toLinear)"
   ]
  },
  {
   "cell_type": "code",
   "execution_count": 21,
   "metadata": {},
   "outputs": [],
   "source": [
    "s1a = toDb(s1_col.filter(ee.Filter.eq('platform_number', 'A')).mean().clip(roi))\n",
    "s1b = toDb(s1_col.filter(ee.Filter.eq('platform_number', 'B')).mean().clip(roi))\n",
    "left_layer = geemap.ee_tile_layer(s1a, vis_params_s1_bright, 'S1a')\n",
    "right_layer = geemap.ee_tile_layer(s1b, vis_params_s1_bright, 'S1b')"
   ]
  },
  {
   "cell_type": "code",
   "execution_count": 22,
   "metadata": {},
   "outputs": [
    {
     "data": {
      "text/plain": [
       "['system:footprint', 'system:bands', 'system:band_names']"
      ]
     },
     "execution_count": 22,
     "metadata": {},
     "output_type": "execute_result"
    }
   ],
   "source": [
    "s1a.propertyNames().getInfo()"
   ]
  },
  {
   "cell_type": "code",
   "execution_count": 9,
   "metadata": {},
   "outputs": [
    {
     "data": {
      "application/vnd.jupyter.widget-view+json": {
       "model_id": "5712557cf7b64dc0954b3fe53e88a174",
       "version_major": 2,
       "version_minor": 0
      },
      "text/plain": [
       "Map(center=[20, 0], controls=(ZoomControl(options=['position', 'zoom_in_text', 'zoom_in_title', 'zoom_out_text…"
      ]
     },
     "metadata": {},
     "output_type": "display_data"
    }
   ],
   "source": [
    "Map = geemap.Map(zoom=12)\n",
    "Map.centerObject(roi)\n",
    "Map.split_map(left_layer, right_layer)\n",
    "Map"
   ]
  },
  {
   "cell_type": "code",
   "execution_count": null,
   "metadata": {},
   "outputs": [],
   "source": []
  }
 ],
 "metadata": {
  "kernelspec": {
   "display_name": "geemap",
   "language": "python",
   "name": "python3"
  },
  "language_info": {
   "codemirror_mode": {
    "name": "ipython",
    "version": 3
   },
   "file_extension": ".py",
   "mimetype": "text/x-python",
   "name": "python",
   "nbconvert_exporter": "python",
   "pygments_lexer": "ipython3",
   "version": "3.9.16"
  },
  "orig_nbformat": 4
 },
 "nbformat": 4,
 "nbformat_minor": 2
}
