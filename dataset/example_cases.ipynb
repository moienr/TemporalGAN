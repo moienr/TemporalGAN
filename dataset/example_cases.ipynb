{
 "cells": [
  {
   "attachments": {},
   "cell_type": "markdown",
   "metadata": {},
   "source": [
    "# ShowCase Exapmles\n",
    "this is a file that contains codes that were removed but are importat, since they were used to test some theories"
   ]
  },
  {
   "cell_type": "code",
   "execution_count": 33,
   "metadata": {},
   "outputs": [],
   "source": [
    "from utils.utils import *\n",
    "from utils.ee_utils import *\n",
    "from utils.utils import TextColors as tc\n",
    "import ee\n",
    "import geemap\n",
    "from rois import ROIS\n",
    "rois = ROIS()"
   ]
  },
  {
   "cell_type": "code",
   "execution_count": 2,
   "metadata": {},
   "outputs": [],
   "source": [
    "ee.Initialize()\n",
    "Map = geemap.Map()"
   ]
  },
  {
   "attachments": {},
   "cell_type": "markdown",
   "metadata": {},
   "source": [
    "## High cloud cover results in false snow_cover result in sentinel 2 images\n",
    "\n",
    "For exapmle in this case, we are testing an image in summer in paris, but as you can see we are seeing a high snow/ice coverege and that is because there is a high snow covege."
   ]
  },
  {
   "cell_type": "code",
   "execution_count": 36,
   "metadata": {},
   "outputs": [
    {
     "name": "stdout",
     "output_type": "stream",
     "text": [
      "system:time_start---------> ['2021-05-18']\n",
      "roi_cloud_cover-----------> []\n",
      "CLOUDY_PIXEL_PERCENTAGE---> [70.48862]\n",
      "CLOUD_SHADOW_PERCENTAGE---> [0.703129]\n",
      "VEGETATION_PERCENTAGE-----> [12.594715]\n",
      "NOT_VEGETATED_PERCENTAGE--> [1.311284]\n",
      "CLOUD_COVERAGE_ASSESSMENT-> [70.48862]\n",
      "GENERATION_TIME-----------> [1621347252000]\n",
      "SENSING_ORBIT_NUMBER------> [94]\n",
      "NODATA_PIXEL_PERCENTAGE---> [26.389542]\n",
      "DATATAKE_TYPE-------------> ['INS-NOBS']\n",
      "SENSING_ORBIT_NUMBER------> [94]\n",
      "SNOW_ICE_PERCENTAGE-------> [9.749825]\n",
      "THIN_CIRRUS_PERCENTAGE----> [2.360785]\n",
      "WATER_PERCENTAGE----------> [0.127259]\n",
      "system:band_names---------> [['B1', 'B2', 'B3', 'B4', 'B5', 'B6', 'B7', 'B8', 'B8A', 'B9', 'B11', 'B12', 'AOT', 'WVP', 'SCL', 'TCI_R', 'TCI_G', 'TCI_B', 'MSK_CLDPRB', 'MSK_SNWPRB', 'QA10', 'QA20', 'QA60']]\n"
     ]
    },
    {
     "data": {
      "application/vnd.jupyter.widget-view+json": {
       "model_id": "09a64d36f08d4157ab5f7da620b73d2a",
       "version_major": 2,
       "version_minor": 0
      },
      "text/plain": [
       "Map(center=[48.843641547684896, 2.380256652833762], controls=(WidgetControl(options=['position', 'transparent_…"
      ]
     },
     "metadata": {},
     "output_type": "display_data"
    }
   ],
   "source": [
    "roi = rois.bercy\n",
    "\n",
    "s2_test_col = ee.ImageCollection('COPERNICUS/S2_SR') \\\n",
    "                    .filterDate('2021-05-17', '2021-05-19') \\\n",
    "                    .filterBounds(roi)\n",
    "                    \n",
    "sen2_print(s2_test_col)\n",
    "s2_test_img = s2_test_col.first()\n",
    "\n",
    "scl = s2_test_img.select('SCL')\n",
    "mask = scl.eq(11)\n",
    "\n",
    "Map = geemap.Map()\n",
    "Map.addLayer(s2_test_img, {'bands': ['B4', 'B3', 'B2'], 'min': 0, 'max': 3000}, 'Sentinel-2 Image', True)\n",
    "Map.addLayer(mask.updateMask(mask), {'palette': 'blue'}, 'Water Mask')\n",
    "Map.centerObject(roi, zoom=10)\n",
    "Map.addLayerControl()\n",
    "Map\n"
   ]
  },
  {
   "attachments": {},
   "cell_type": "markdown",
   "metadata": {},
   "source": [
    "## Sentinel 1A and 1B, Tandem Orbit \n",
    "sentinel 1a and 1b orbits result in a pretty simmilar, becuse of the short Spatial BaseLine.\n",
    "\n",
    "- Although I still don't know, how can you determine whether two, realtive orbit numbers are tandem or not. -> <span style=\"color: #FF1111;\">More Research Needed</span>\n",
    "\n",
    "<span style=\"color: #11FF11;\">Found The Answer - Read The Cells Below</span>\n"
   ]
  },
  {
   "cell_type": "code",
   "execution_count": 83,
   "metadata": {},
   "outputs": [],
   "source": [
    "# Overwrite the default print function to for a consicise print\n",
    "sen1_print = lambda s2_collection: ee_property_printer(s2_collection, propertie_name_list=['system:time_start','platform_number',\n",
    "                                                                                                    'relativeOrbitNumber_start', 'orbitProperties_pass',\n",
    "                                                                                                    'cycleNumber'], first_is_t_in_millis=True)"
   ]
  },
  {
   "cell_type": "code",
   "execution_count": 51,
   "metadata": {},
   "outputs": [
    {
     "name": "stdout",
     "output_type": "stream",
     "text": [
      "◍◍Finding S2\n",
      "◍Single scene coverege was fount!\n",
      "◍◍Finding S1\n",
      "mean date:  2021-07-21\n",
      "final date range:  2021-06-21 2021-08-21\n",
      "Snowy days       :  []\n",
      "Snowy days Buffed:  []\n",
      "◍checking for DESCENDING single scene\n",
      "Mosiac Covers 93.96914404374861 percent of the roi.\n",
      "Mosaic Coverege Accepted\n",
      "Mosaic Coverege Accepted\n",
      "collection size before removing snowy dates:  20\n",
      "collection size after removing snowy dates:  20\n",
      "◍Collection Found!\n"
     ]
    }
   ],
   "source": [
    "roi = rois.paris\n",
    "s2_col,s1_col = s1s2(roi,date = ('2021-07-15', '2021-08-15'),priority_path = 'DESCENDING',max_cloud = 100,max_snow = 100,month_span = 1,retry_days=0)"
   ]
  },
  {
   "cell_type": "code",
   "execution_count": 84,
   "metadata": {},
   "outputs": [
    {
     "data": {
      "text/html": [
       "<style type=\"text/css\">\n",
       "#T_3683b th {\n",
       "  text-align: left;\n",
       "}\n",
       "#T_3683b_row0_col0, #T_3683b_row0_col1, #T_3683b_row0_col2, #T_3683b_row0_col3, #T_3683b_row0_col4, #T_3683b_row0_col5, #T_3683b_row0_col6, #T_3683b_row0_col7, #T_3683b_row0_col8, #T_3683b_row0_col9, #T_3683b_row0_col10, #T_3683b_row0_col11, #T_3683b_row0_col12, #T_3683b_row0_col13, #T_3683b_row0_col14, #T_3683b_row0_col15, #T_3683b_row0_col16, #T_3683b_row0_col17, #T_3683b_row0_col18, #T_3683b_row0_col19, #T_3683b_row0_col20, #T_3683b_row1_col0, #T_3683b_row1_col1, #T_3683b_row1_col2, #T_3683b_row1_col3, #T_3683b_row1_col4, #T_3683b_row1_col5, #T_3683b_row1_col6, #T_3683b_row1_col7, #T_3683b_row1_col8, #T_3683b_row1_col9, #T_3683b_row1_col10, #T_3683b_row1_col11, #T_3683b_row1_col12, #T_3683b_row1_col13, #T_3683b_row1_col14, #T_3683b_row1_col15, #T_3683b_row1_col16, #T_3683b_row1_col17, #T_3683b_row1_col18, #T_3683b_row1_col19, #T_3683b_row1_col20, #T_3683b_row2_col0, #T_3683b_row2_col1, #T_3683b_row2_col2, #T_3683b_row2_col3, #T_3683b_row2_col4, #T_3683b_row2_col5, #T_3683b_row2_col6, #T_3683b_row2_col7, #T_3683b_row2_col8, #T_3683b_row2_col9, #T_3683b_row2_col10, #T_3683b_row2_col11, #T_3683b_row2_col12, #T_3683b_row2_col13, #T_3683b_row2_col14, #T_3683b_row2_col15, #T_3683b_row2_col16, #T_3683b_row2_col17, #T_3683b_row2_col18, #T_3683b_row2_col19, #T_3683b_row2_col20, #T_3683b_row3_col0, #T_3683b_row3_col1, #T_3683b_row3_col2, #T_3683b_row3_col3, #T_3683b_row3_col4, #T_3683b_row3_col5, #T_3683b_row3_col6, #T_3683b_row3_col7, #T_3683b_row3_col8, #T_3683b_row3_col9, #T_3683b_row3_col10, #T_3683b_row3_col11, #T_3683b_row3_col12, #T_3683b_row3_col13, #T_3683b_row3_col14, #T_3683b_row3_col15, #T_3683b_row3_col16, #T_3683b_row3_col17, #T_3683b_row3_col18, #T_3683b_row3_col19, #T_3683b_row3_col20, #T_3683b_row4_col0, #T_3683b_row4_col1, #T_3683b_row4_col2, #T_3683b_row4_col3, #T_3683b_row4_col4, #T_3683b_row4_col5, #T_3683b_row4_col6, #T_3683b_row4_col7, #T_3683b_row4_col8, #T_3683b_row4_col9, #T_3683b_row4_col10, #T_3683b_row4_col11, #T_3683b_row4_col12, #T_3683b_row4_col13, #T_3683b_row4_col14, #T_3683b_row4_col15, #T_3683b_row4_col16, #T_3683b_row4_col17, #T_3683b_row4_col18, #T_3683b_row4_col19, #T_3683b_row4_col20 {\n",
       "  text-align: left;\n",
       "}\n",
       "</style>\n",
       "<table id=\"T_3683b\">\n",
       "  <thead>\n",
       "    <tr>\n",
       "      <th class=\"blank level0\" >&nbsp;</th>\n",
       "      <th id=\"T_3683b_level0_col0\" class=\"col_heading level0 col0\" >Property</th>\n",
       "      <th id=\"T_3683b_level0_col1\" class=\"col_heading level0 col1\" >0</th>\n",
       "      <th id=\"T_3683b_level0_col2\" class=\"col_heading level0 col2\" >1</th>\n",
       "      <th id=\"T_3683b_level0_col3\" class=\"col_heading level0 col3\" >2</th>\n",
       "      <th id=\"T_3683b_level0_col4\" class=\"col_heading level0 col4\" >3</th>\n",
       "      <th id=\"T_3683b_level0_col5\" class=\"col_heading level0 col5\" >4</th>\n",
       "      <th id=\"T_3683b_level0_col6\" class=\"col_heading level0 col6\" >5</th>\n",
       "      <th id=\"T_3683b_level0_col7\" class=\"col_heading level0 col7\" >6</th>\n",
       "      <th id=\"T_3683b_level0_col8\" class=\"col_heading level0 col8\" >7</th>\n",
       "      <th id=\"T_3683b_level0_col9\" class=\"col_heading level0 col9\" >8</th>\n",
       "      <th id=\"T_3683b_level0_col10\" class=\"col_heading level0 col10\" >9</th>\n",
       "      <th id=\"T_3683b_level0_col11\" class=\"col_heading level0 col11\" >10</th>\n",
       "      <th id=\"T_3683b_level0_col12\" class=\"col_heading level0 col12\" >11</th>\n",
       "      <th id=\"T_3683b_level0_col13\" class=\"col_heading level0 col13\" >12</th>\n",
       "      <th id=\"T_3683b_level0_col14\" class=\"col_heading level0 col14\" >13</th>\n",
       "      <th id=\"T_3683b_level0_col15\" class=\"col_heading level0 col15\" >14</th>\n",
       "      <th id=\"T_3683b_level0_col16\" class=\"col_heading level0 col16\" >15</th>\n",
       "      <th id=\"T_3683b_level0_col17\" class=\"col_heading level0 col17\" >16</th>\n",
       "      <th id=\"T_3683b_level0_col18\" class=\"col_heading level0 col18\" >17</th>\n",
       "      <th id=\"T_3683b_level0_col19\" class=\"col_heading level0 col19\" >18</th>\n",
       "      <th id=\"T_3683b_level0_col20\" class=\"col_heading level0 col20\" >19</th>\n",
       "    </tr>\n",
       "  </thead>\n",
       "  <tbody>\n",
       "    <tr>\n",
       "      <th id=\"T_3683b_level0_row0\" class=\"row_heading level0 row0\" >0</th>\n",
       "      <td id=\"T_3683b_row0_col0\" class=\"data row0 col0\" >system:time_start</td>\n",
       "      <td id=\"T_3683b_row0_col1\" class=\"data row0 col1\" >2021-06-25</td>\n",
       "      <td id=\"T_3683b_row0_col2\" class=\"data row0 col2\" >2021-06-26</td>\n",
       "      <td id=\"T_3683b_row0_col3\" class=\"data row0 col3\" >2021-07-01</td>\n",
       "      <td id=\"T_3683b_row0_col4\" class=\"data row0 col4\" >2021-07-02</td>\n",
       "      <td id=\"T_3683b_row0_col5\" class=\"data row0 col5\" >2021-07-07</td>\n",
       "      <td id=\"T_3683b_row0_col6\" class=\"data row0 col6\" >2021-07-08</td>\n",
       "      <td id=\"T_3683b_row0_col7\" class=\"data row0 col7\" >2021-07-13</td>\n",
       "      <td id=\"T_3683b_row0_col8\" class=\"data row0 col8\" >2021-07-14</td>\n",
       "      <td id=\"T_3683b_row0_col9\" class=\"data row0 col9\" >2021-07-19</td>\n",
       "      <td id=\"T_3683b_row0_col10\" class=\"data row0 col10\" >2021-07-20</td>\n",
       "      <td id=\"T_3683b_row0_col11\" class=\"data row0 col11\" >2021-07-25</td>\n",
       "      <td id=\"T_3683b_row0_col12\" class=\"data row0 col12\" >2021-07-26</td>\n",
       "      <td id=\"T_3683b_row0_col13\" class=\"data row0 col13\" >2021-07-31</td>\n",
       "      <td id=\"T_3683b_row0_col14\" class=\"data row0 col14\" >2021-08-01</td>\n",
       "      <td id=\"T_3683b_row0_col15\" class=\"data row0 col15\" >2021-08-06</td>\n",
       "      <td id=\"T_3683b_row0_col16\" class=\"data row0 col16\" >2021-08-07</td>\n",
       "      <td id=\"T_3683b_row0_col17\" class=\"data row0 col17\" >2021-08-12</td>\n",
       "      <td id=\"T_3683b_row0_col18\" class=\"data row0 col18\" >2021-08-13</td>\n",
       "      <td id=\"T_3683b_row0_col19\" class=\"data row0 col19\" >2021-08-18</td>\n",
       "      <td id=\"T_3683b_row0_col20\" class=\"data row0 col20\" >2021-08-19</td>\n",
       "    </tr>\n",
       "    <tr>\n",
       "      <th id=\"T_3683b_level0_row1\" class=\"row_heading level0 row1\" >1</th>\n",
       "      <td id=\"T_3683b_row1_col0\" class=\"data row1 col0\" >platform_number</td>\n",
       "      <td id=\"T_3683b_row1_col1\" class=\"data row1 col1\" >B</td>\n",
       "      <td id=\"T_3683b_row1_col2\" class=\"data row1 col2\" >A</td>\n",
       "      <td id=\"T_3683b_row1_col3\" class=\"data row1 col3\" >A</td>\n",
       "      <td id=\"T_3683b_row1_col4\" class=\"data row1 col4\" >B</td>\n",
       "      <td id=\"T_3683b_row1_col5\" class=\"data row1 col5\" >B</td>\n",
       "      <td id=\"T_3683b_row1_col6\" class=\"data row1 col6\" >A</td>\n",
       "      <td id=\"T_3683b_row1_col7\" class=\"data row1 col7\" >A</td>\n",
       "      <td id=\"T_3683b_row1_col8\" class=\"data row1 col8\" >B</td>\n",
       "      <td id=\"T_3683b_row1_col9\" class=\"data row1 col9\" >B</td>\n",
       "      <td id=\"T_3683b_row1_col10\" class=\"data row1 col10\" >A</td>\n",
       "      <td id=\"T_3683b_row1_col11\" class=\"data row1 col11\" >A</td>\n",
       "      <td id=\"T_3683b_row1_col12\" class=\"data row1 col12\" >B</td>\n",
       "      <td id=\"T_3683b_row1_col13\" class=\"data row1 col13\" >B</td>\n",
       "      <td id=\"T_3683b_row1_col14\" class=\"data row1 col14\" >A</td>\n",
       "      <td id=\"T_3683b_row1_col15\" class=\"data row1 col15\" >A</td>\n",
       "      <td id=\"T_3683b_row1_col16\" class=\"data row1 col16\" >B</td>\n",
       "      <td id=\"T_3683b_row1_col17\" class=\"data row1 col17\" >B</td>\n",
       "      <td id=\"T_3683b_row1_col18\" class=\"data row1 col18\" >A</td>\n",
       "      <td id=\"T_3683b_row1_col19\" class=\"data row1 col19\" >A</td>\n",
       "      <td id=\"T_3683b_row1_col20\" class=\"data row1 col20\" >B</td>\n",
       "    </tr>\n",
       "    <tr>\n",
       "      <th id=\"T_3683b_level0_row2\" class=\"row_heading level0 row2\" >2</th>\n",
       "      <td id=\"T_3683b_row2_col0\" class=\"data row2 col0\" >relativeOrbitNumber_start</td>\n",
       "      <td id=\"T_3683b_row2_col1\" class=\"data row2 col1\" >8</td>\n",
       "      <td id=\"T_3683b_row2_col2\" class=\"data row2 col2\" >110</td>\n",
       "      <td id=\"T_3683b_row2_col3\" class=\"data row2 col3\" >8</td>\n",
       "      <td id=\"T_3683b_row2_col4\" class=\"data row2 col4\" >110</td>\n",
       "      <td id=\"T_3683b_row2_col5\" class=\"data row2 col5\" >8</td>\n",
       "      <td id=\"T_3683b_row2_col6\" class=\"data row2 col6\" >110</td>\n",
       "      <td id=\"T_3683b_row2_col7\" class=\"data row2 col7\" >8</td>\n",
       "      <td id=\"T_3683b_row2_col8\" class=\"data row2 col8\" >110</td>\n",
       "      <td id=\"T_3683b_row2_col9\" class=\"data row2 col9\" >8</td>\n",
       "      <td id=\"T_3683b_row2_col10\" class=\"data row2 col10\" >110</td>\n",
       "      <td id=\"T_3683b_row2_col11\" class=\"data row2 col11\" >8</td>\n",
       "      <td id=\"T_3683b_row2_col12\" class=\"data row2 col12\" >110</td>\n",
       "      <td id=\"T_3683b_row2_col13\" class=\"data row2 col13\" >8</td>\n",
       "      <td id=\"T_3683b_row2_col14\" class=\"data row2 col14\" >110</td>\n",
       "      <td id=\"T_3683b_row2_col15\" class=\"data row2 col15\" >8</td>\n",
       "      <td id=\"T_3683b_row2_col16\" class=\"data row2 col16\" >110</td>\n",
       "      <td id=\"T_3683b_row2_col17\" class=\"data row2 col17\" >8</td>\n",
       "      <td id=\"T_3683b_row2_col18\" class=\"data row2 col18\" >110</td>\n",
       "      <td id=\"T_3683b_row2_col19\" class=\"data row2 col19\" >8</td>\n",
       "      <td id=\"T_3683b_row2_col20\" class=\"data row2 col20\" >110</td>\n",
       "    </tr>\n",
       "    <tr>\n",
       "      <th id=\"T_3683b_level0_row3\" class=\"row_heading level0 row3\" >3</th>\n",
       "      <td id=\"T_3683b_row3_col0\" class=\"data row3 col0\" >orbitProperties_pass</td>\n",
       "      <td id=\"T_3683b_row3_col1\" class=\"data row3 col1\" >DESCENDING</td>\n",
       "      <td id=\"T_3683b_row3_col2\" class=\"data row3 col2\" >DESCENDING</td>\n",
       "      <td id=\"T_3683b_row3_col3\" class=\"data row3 col3\" >DESCENDING</td>\n",
       "      <td id=\"T_3683b_row3_col4\" class=\"data row3 col4\" >DESCENDING</td>\n",
       "      <td id=\"T_3683b_row3_col5\" class=\"data row3 col5\" >DESCENDING</td>\n",
       "      <td id=\"T_3683b_row3_col6\" class=\"data row3 col6\" >DESCENDING</td>\n",
       "      <td id=\"T_3683b_row3_col7\" class=\"data row3 col7\" >DESCENDING</td>\n",
       "      <td id=\"T_3683b_row3_col8\" class=\"data row3 col8\" >DESCENDING</td>\n",
       "      <td id=\"T_3683b_row3_col9\" class=\"data row3 col9\" >DESCENDING</td>\n",
       "      <td id=\"T_3683b_row3_col10\" class=\"data row3 col10\" >DESCENDING</td>\n",
       "      <td id=\"T_3683b_row3_col11\" class=\"data row3 col11\" >DESCENDING</td>\n",
       "      <td id=\"T_3683b_row3_col12\" class=\"data row3 col12\" >DESCENDING</td>\n",
       "      <td id=\"T_3683b_row3_col13\" class=\"data row3 col13\" >DESCENDING</td>\n",
       "      <td id=\"T_3683b_row3_col14\" class=\"data row3 col14\" >DESCENDING</td>\n",
       "      <td id=\"T_3683b_row3_col15\" class=\"data row3 col15\" >DESCENDING</td>\n",
       "      <td id=\"T_3683b_row3_col16\" class=\"data row3 col16\" >DESCENDING</td>\n",
       "      <td id=\"T_3683b_row3_col17\" class=\"data row3 col17\" >DESCENDING</td>\n",
       "      <td id=\"T_3683b_row3_col18\" class=\"data row3 col18\" >DESCENDING</td>\n",
       "      <td id=\"T_3683b_row3_col19\" class=\"data row3 col19\" >DESCENDING</td>\n",
       "      <td id=\"T_3683b_row3_col20\" class=\"data row3 col20\" >DESCENDING</td>\n",
       "    </tr>\n",
       "    <tr>\n",
       "      <th id=\"T_3683b_level0_row4\" class=\"row_heading level0 row4\" >4</th>\n",
       "      <td id=\"T_3683b_row4_col0\" class=\"data row4 col0\" >cycleNumber</td>\n",
       "      <td id=\"T_3683b_row4_col1\" class=\"data row4 col1\" >164</td>\n",
       "      <td id=\"T_3683b_row4_col2\" class=\"data row4 col2\" >234</td>\n",
       "      <td id=\"T_3683b_row4_col3\" class=\"data row4 col3\" >235</td>\n",
       "      <td id=\"T_3683b_row4_col4\" class=\"data row4 col4\" >164</td>\n",
       "      <td id=\"T_3683b_row4_col5\" class=\"data row4 col5\" >165</td>\n",
       "      <td id=\"T_3683b_row4_col6\" class=\"data row4 col6\" >235</td>\n",
       "      <td id=\"T_3683b_row4_col7\" class=\"data row4 col7\" >236</td>\n",
       "      <td id=\"T_3683b_row4_col8\" class=\"data row4 col8\" >165</td>\n",
       "      <td id=\"T_3683b_row4_col9\" class=\"data row4 col9\" >166</td>\n",
       "      <td id=\"T_3683b_row4_col10\" class=\"data row4 col10\" >236</td>\n",
       "      <td id=\"T_3683b_row4_col11\" class=\"data row4 col11\" >237</td>\n",
       "      <td id=\"T_3683b_row4_col12\" class=\"data row4 col12\" >166</td>\n",
       "      <td id=\"T_3683b_row4_col13\" class=\"data row4 col13\" >167</td>\n",
       "      <td id=\"T_3683b_row4_col14\" class=\"data row4 col14\" >237</td>\n",
       "      <td id=\"T_3683b_row4_col15\" class=\"data row4 col15\" >238</td>\n",
       "      <td id=\"T_3683b_row4_col16\" class=\"data row4 col16\" >167</td>\n",
       "      <td id=\"T_3683b_row4_col17\" class=\"data row4 col17\" >168</td>\n",
       "      <td id=\"T_3683b_row4_col18\" class=\"data row4 col18\" >238</td>\n",
       "      <td id=\"T_3683b_row4_col19\" class=\"data row4 col19\" >239</td>\n",
       "      <td id=\"T_3683b_row4_col20\" class=\"data row4 col20\" >168</td>\n",
       "    </tr>\n",
       "  </tbody>\n",
       "</table>\n"
      ],
      "text/plain": [
       "<pandas.io.formats.style.Styler at 0x22dec940760>"
      ]
     },
     "execution_count": 84,
     "metadata": {},
     "output_type": "execute_result"
    }
   ],
   "source": [
    "sen1_print(s1_col.sort('system:time_start'))"
   ]
  },
  {
   "cell_type": "code",
   "execution_count": 85,
   "metadata": {},
   "outputs": [
    {
     "data": {
      "text/html": [
       "<style type=\"text/css\">\n",
       "#T_b159b th {\n",
       "  text-align: left;\n",
       "}\n",
       "#T_b159b_row0_col0, #T_b159b_row0_col1, #T_b159b_row0_col2, #T_b159b_row0_col3, #T_b159b_row0_col4, #T_b159b_row0_col5, #T_b159b_row0_col6, #T_b159b_row0_col7, #T_b159b_row0_col8, #T_b159b_row0_col9, #T_b159b_row0_col10, #T_b159b_row1_col0, #T_b159b_row1_col1, #T_b159b_row1_col2, #T_b159b_row1_col3, #T_b159b_row1_col4, #T_b159b_row1_col5, #T_b159b_row1_col6, #T_b159b_row1_col7, #T_b159b_row1_col8, #T_b159b_row1_col9, #T_b159b_row1_col10, #T_b159b_row2_col0, #T_b159b_row2_col1, #T_b159b_row2_col2, #T_b159b_row2_col3, #T_b159b_row2_col4, #T_b159b_row2_col5, #T_b159b_row2_col6, #T_b159b_row2_col7, #T_b159b_row2_col8, #T_b159b_row2_col9, #T_b159b_row2_col10, #T_b159b_row3_col0, #T_b159b_row3_col1, #T_b159b_row3_col2, #T_b159b_row3_col3, #T_b159b_row3_col4, #T_b159b_row3_col5, #T_b159b_row3_col6, #T_b159b_row3_col7, #T_b159b_row3_col8, #T_b159b_row3_col9, #T_b159b_row3_col10, #T_b159b_row4_col0, #T_b159b_row4_col1, #T_b159b_row4_col2, #T_b159b_row4_col3, #T_b159b_row4_col4, #T_b159b_row4_col5, #T_b159b_row4_col6, #T_b159b_row4_col7, #T_b159b_row4_col8, #T_b159b_row4_col9, #T_b159b_row4_col10 {\n",
       "  text-align: left;\n",
       "}\n",
       "</style>\n",
       "<table id=\"T_b159b\">\n",
       "  <thead>\n",
       "    <tr>\n",
       "      <th class=\"blank level0\" >&nbsp;</th>\n",
       "      <th id=\"T_b159b_level0_col0\" class=\"col_heading level0 col0\" >Property</th>\n",
       "      <th id=\"T_b159b_level0_col1\" class=\"col_heading level0 col1\" >0</th>\n",
       "      <th id=\"T_b159b_level0_col2\" class=\"col_heading level0 col2\" >1</th>\n",
       "      <th id=\"T_b159b_level0_col3\" class=\"col_heading level0 col3\" >2</th>\n",
       "      <th id=\"T_b159b_level0_col4\" class=\"col_heading level0 col4\" >3</th>\n",
       "      <th id=\"T_b159b_level0_col5\" class=\"col_heading level0 col5\" >4</th>\n",
       "      <th id=\"T_b159b_level0_col6\" class=\"col_heading level0 col6\" >5</th>\n",
       "      <th id=\"T_b159b_level0_col7\" class=\"col_heading level0 col7\" >6</th>\n",
       "      <th id=\"T_b159b_level0_col8\" class=\"col_heading level0 col8\" >7</th>\n",
       "      <th id=\"T_b159b_level0_col9\" class=\"col_heading level0 col9\" >8</th>\n",
       "      <th id=\"T_b159b_level0_col10\" class=\"col_heading level0 col10\" >9</th>\n",
       "    </tr>\n",
       "  </thead>\n",
       "  <tbody>\n",
       "    <tr>\n",
       "      <th id=\"T_b159b_level0_row0\" class=\"row_heading level0 row0\" >0</th>\n",
       "      <td id=\"T_b159b_row0_col0\" class=\"data row0 col0\" >system:time_start</td>\n",
       "      <td id=\"T_b159b_row0_col1\" class=\"data row0 col1\" >2021-06-26</td>\n",
       "      <td id=\"T_b159b_row0_col2\" class=\"data row0 col2\" >2021-07-01</td>\n",
       "      <td id=\"T_b159b_row0_col3\" class=\"data row0 col3\" >2021-07-08</td>\n",
       "      <td id=\"T_b159b_row0_col4\" class=\"data row0 col4\" >2021-07-13</td>\n",
       "      <td id=\"T_b159b_row0_col5\" class=\"data row0 col5\" >2021-07-20</td>\n",
       "      <td id=\"T_b159b_row0_col6\" class=\"data row0 col6\" >2021-07-25</td>\n",
       "      <td id=\"T_b159b_row0_col7\" class=\"data row0 col7\" >2021-08-01</td>\n",
       "      <td id=\"T_b159b_row0_col8\" class=\"data row0 col8\" >2021-08-06</td>\n",
       "      <td id=\"T_b159b_row0_col9\" class=\"data row0 col9\" >2021-08-13</td>\n",
       "      <td id=\"T_b159b_row0_col10\" class=\"data row0 col10\" >2021-08-18</td>\n",
       "    </tr>\n",
       "    <tr>\n",
       "      <th id=\"T_b159b_level0_row1\" class=\"row_heading level0 row1\" >1</th>\n",
       "      <td id=\"T_b159b_row1_col0\" class=\"data row1 col0\" >platform_number</td>\n",
       "      <td id=\"T_b159b_row1_col1\" class=\"data row1 col1\" >A</td>\n",
       "      <td id=\"T_b159b_row1_col2\" class=\"data row1 col2\" >A</td>\n",
       "      <td id=\"T_b159b_row1_col3\" class=\"data row1 col3\" >A</td>\n",
       "      <td id=\"T_b159b_row1_col4\" class=\"data row1 col4\" >A</td>\n",
       "      <td id=\"T_b159b_row1_col5\" class=\"data row1 col5\" >A</td>\n",
       "      <td id=\"T_b159b_row1_col6\" class=\"data row1 col6\" >A</td>\n",
       "      <td id=\"T_b159b_row1_col7\" class=\"data row1 col7\" >A</td>\n",
       "      <td id=\"T_b159b_row1_col8\" class=\"data row1 col8\" >A</td>\n",
       "      <td id=\"T_b159b_row1_col9\" class=\"data row1 col9\" >A</td>\n",
       "      <td id=\"T_b159b_row1_col10\" class=\"data row1 col10\" >A</td>\n",
       "    </tr>\n",
       "    <tr>\n",
       "      <th id=\"T_b159b_level0_row2\" class=\"row_heading level0 row2\" >2</th>\n",
       "      <td id=\"T_b159b_row2_col0\" class=\"data row2 col0\" >relativeOrbitNumber_start</td>\n",
       "      <td id=\"T_b159b_row2_col1\" class=\"data row2 col1\" >110</td>\n",
       "      <td id=\"T_b159b_row2_col2\" class=\"data row2 col2\" >8</td>\n",
       "      <td id=\"T_b159b_row2_col3\" class=\"data row2 col3\" >110</td>\n",
       "      <td id=\"T_b159b_row2_col4\" class=\"data row2 col4\" >8</td>\n",
       "      <td id=\"T_b159b_row2_col5\" class=\"data row2 col5\" >110</td>\n",
       "      <td id=\"T_b159b_row2_col6\" class=\"data row2 col6\" >8</td>\n",
       "      <td id=\"T_b159b_row2_col7\" class=\"data row2 col7\" >110</td>\n",
       "      <td id=\"T_b159b_row2_col8\" class=\"data row2 col8\" >8</td>\n",
       "      <td id=\"T_b159b_row2_col9\" class=\"data row2 col9\" >110</td>\n",
       "      <td id=\"T_b159b_row2_col10\" class=\"data row2 col10\" >8</td>\n",
       "    </tr>\n",
       "    <tr>\n",
       "      <th id=\"T_b159b_level0_row3\" class=\"row_heading level0 row3\" >3</th>\n",
       "      <td id=\"T_b159b_row3_col0\" class=\"data row3 col0\" >orbitProperties_pass</td>\n",
       "      <td id=\"T_b159b_row3_col1\" class=\"data row3 col1\" >DESCENDING</td>\n",
       "      <td id=\"T_b159b_row3_col2\" class=\"data row3 col2\" >DESCENDING</td>\n",
       "      <td id=\"T_b159b_row3_col3\" class=\"data row3 col3\" >DESCENDING</td>\n",
       "      <td id=\"T_b159b_row3_col4\" class=\"data row3 col4\" >DESCENDING</td>\n",
       "      <td id=\"T_b159b_row3_col5\" class=\"data row3 col5\" >DESCENDING</td>\n",
       "      <td id=\"T_b159b_row3_col6\" class=\"data row3 col6\" >DESCENDING</td>\n",
       "      <td id=\"T_b159b_row3_col7\" class=\"data row3 col7\" >DESCENDING</td>\n",
       "      <td id=\"T_b159b_row3_col8\" class=\"data row3 col8\" >DESCENDING</td>\n",
       "      <td id=\"T_b159b_row3_col9\" class=\"data row3 col9\" >DESCENDING</td>\n",
       "      <td id=\"T_b159b_row3_col10\" class=\"data row3 col10\" >DESCENDING</td>\n",
       "    </tr>\n",
       "    <tr>\n",
       "      <th id=\"T_b159b_level0_row4\" class=\"row_heading level0 row4\" >4</th>\n",
       "      <td id=\"T_b159b_row4_col0\" class=\"data row4 col0\" >cycleNumber</td>\n",
       "      <td id=\"T_b159b_row4_col1\" class=\"data row4 col1\" >234</td>\n",
       "      <td id=\"T_b159b_row4_col2\" class=\"data row4 col2\" >235</td>\n",
       "      <td id=\"T_b159b_row4_col3\" class=\"data row4 col3\" >235</td>\n",
       "      <td id=\"T_b159b_row4_col4\" class=\"data row4 col4\" >236</td>\n",
       "      <td id=\"T_b159b_row4_col5\" class=\"data row4 col5\" >236</td>\n",
       "      <td id=\"T_b159b_row4_col6\" class=\"data row4 col6\" >237</td>\n",
       "      <td id=\"T_b159b_row4_col7\" class=\"data row4 col7\" >237</td>\n",
       "      <td id=\"T_b159b_row4_col8\" class=\"data row4 col8\" >238</td>\n",
       "      <td id=\"T_b159b_row4_col9\" class=\"data row4 col9\" >238</td>\n",
       "      <td id=\"T_b159b_row4_col10\" class=\"data row4 col10\" >239</td>\n",
       "    </tr>\n",
       "  </tbody>\n",
       "</table>\n"
      ],
      "text/plain": [
       "<pandas.io.formats.style.Styler at 0x22dec9cf4c0>"
      ]
     },
     "execution_count": 85,
     "metadata": {},
     "output_type": "execute_result"
    }
   ],
   "source": [
    "sen1_print(s1_col.filter(ee.Filter.eq('platform_number', 'A')).sort('system:time_start'))"
   ]
  },
  {
   "cell_type": "code",
   "execution_count": 86,
   "metadata": {},
   "outputs": [
    {
     "data": {
      "text/html": [
       "<style type=\"text/css\">\n",
       "#T_a3233 th {\n",
       "  text-align: left;\n",
       "}\n",
       "#T_a3233_row0_col0, #T_a3233_row0_col1, #T_a3233_row0_col2, #T_a3233_row0_col3, #T_a3233_row0_col4, #T_a3233_row0_col5, #T_a3233_row0_col6, #T_a3233_row0_col7, #T_a3233_row0_col8, #T_a3233_row0_col9, #T_a3233_row0_col10, #T_a3233_row1_col0, #T_a3233_row1_col1, #T_a3233_row1_col2, #T_a3233_row1_col3, #T_a3233_row1_col4, #T_a3233_row1_col5, #T_a3233_row1_col6, #T_a3233_row1_col7, #T_a3233_row1_col8, #T_a3233_row1_col9, #T_a3233_row1_col10, #T_a3233_row2_col0, #T_a3233_row2_col1, #T_a3233_row2_col2, #T_a3233_row2_col3, #T_a3233_row2_col4, #T_a3233_row2_col5, #T_a3233_row2_col6, #T_a3233_row2_col7, #T_a3233_row2_col8, #T_a3233_row2_col9, #T_a3233_row2_col10, #T_a3233_row3_col0, #T_a3233_row3_col1, #T_a3233_row3_col2, #T_a3233_row3_col3, #T_a3233_row3_col4, #T_a3233_row3_col5, #T_a3233_row3_col6, #T_a3233_row3_col7, #T_a3233_row3_col8, #T_a3233_row3_col9, #T_a3233_row3_col10, #T_a3233_row4_col0, #T_a3233_row4_col1, #T_a3233_row4_col2, #T_a3233_row4_col3, #T_a3233_row4_col4, #T_a3233_row4_col5, #T_a3233_row4_col6, #T_a3233_row4_col7, #T_a3233_row4_col8, #T_a3233_row4_col9, #T_a3233_row4_col10 {\n",
       "  text-align: left;\n",
       "}\n",
       "</style>\n",
       "<table id=\"T_a3233\">\n",
       "  <thead>\n",
       "    <tr>\n",
       "      <th class=\"blank level0\" >&nbsp;</th>\n",
       "      <th id=\"T_a3233_level0_col0\" class=\"col_heading level0 col0\" >Property</th>\n",
       "      <th id=\"T_a3233_level0_col1\" class=\"col_heading level0 col1\" >0</th>\n",
       "      <th id=\"T_a3233_level0_col2\" class=\"col_heading level0 col2\" >1</th>\n",
       "      <th id=\"T_a3233_level0_col3\" class=\"col_heading level0 col3\" >2</th>\n",
       "      <th id=\"T_a3233_level0_col4\" class=\"col_heading level0 col4\" >3</th>\n",
       "      <th id=\"T_a3233_level0_col5\" class=\"col_heading level0 col5\" >4</th>\n",
       "      <th id=\"T_a3233_level0_col6\" class=\"col_heading level0 col6\" >5</th>\n",
       "      <th id=\"T_a3233_level0_col7\" class=\"col_heading level0 col7\" >6</th>\n",
       "      <th id=\"T_a3233_level0_col8\" class=\"col_heading level0 col8\" >7</th>\n",
       "      <th id=\"T_a3233_level0_col9\" class=\"col_heading level0 col9\" >8</th>\n",
       "      <th id=\"T_a3233_level0_col10\" class=\"col_heading level0 col10\" >9</th>\n",
       "    </tr>\n",
       "  </thead>\n",
       "  <tbody>\n",
       "    <tr>\n",
       "      <th id=\"T_a3233_level0_row0\" class=\"row_heading level0 row0\" >0</th>\n",
       "      <td id=\"T_a3233_row0_col0\" class=\"data row0 col0\" >system:time_start</td>\n",
       "      <td id=\"T_a3233_row0_col1\" class=\"data row0 col1\" >2021-06-25</td>\n",
       "      <td id=\"T_a3233_row0_col2\" class=\"data row0 col2\" >2021-07-02</td>\n",
       "      <td id=\"T_a3233_row0_col3\" class=\"data row0 col3\" >2021-07-07</td>\n",
       "      <td id=\"T_a3233_row0_col4\" class=\"data row0 col4\" >2021-07-14</td>\n",
       "      <td id=\"T_a3233_row0_col5\" class=\"data row0 col5\" >2021-07-19</td>\n",
       "      <td id=\"T_a3233_row0_col6\" class=\"data row0 col6\" >2021-07-26</td>\n",
       "      <td id=\"T_a3233_row0_col7\" class=\"data row0 col7\" >2021-07-31</td>\n",
       "      <td id=\"T_a3233_row0_col8\" class=\"data row0 col8\" >2021-08-07</td>\n",
       "      <td id=\"T_a3233_row0_col9\" class=\"data row0 col9\" >2021-08-12</td>\n",
       "      <td id=\"T_a3233_row0_col10\" class=\"data row0 col10\" >2021-08-19</td>\n",
       "    </tr>\n",
       "    <tr>\n",
       "      <th id=\"T_a3233_level0_row1\" class=\"row_heading level0 row1\" >1</th>\n",
       "      <td id=\"T_a3233_row1_col0\" class=\"data row1 col0\" >platform_number</td>\n",
       "      <td id=\"T_a3233_row1_col1\" class=\"data row1 col1\" >B</td>\n",
       "      <td id=\"T_a3233_row1_col2\" class=\"data row1 col2\" >B</td>\n",
       "      <td id=\"T_a3233_row1_col3\" class=\"data row1 col3\" >B</td>\n",
       "      <td id=\"T_a3233_row1_col4\" class=\"data row1 col4\" >B</td>\n",
       "      <td id=\"T_a3233_row1_col5\" class=\"data row1 col5\" >B</td>\n",
       "      <td id=\"T_a3233_row1_col6\" class=\"data row1 col6\" >B</td>\n",
       "      <td id=\"T_a3233_row1_col7\" class=\"data row1 col7\" >B</td>\n",
       "      <td id=\"T_a3233_row1_col8\" class=\"data row1 col8\" >B</td>\n",
       "      <td id=\"T_a3233_row1_col9\" class=\"data row1 col9\" >B</td>\n",
       "      <td id=\"T_a3233_row1_col10\" class=\"data row1 col10\" >B</td>\n",
       "    </tr>\n",
       "    <tr>\n",
       "      <th id=\"T_a3233_level0_row2\" class=\"row_heading level0 row2\" >2</th>\n",
       "      <td id=\"T_a3233_row2_col0\" class=\"data row2 col0\" >relativeOrbitNumber_start</td>\n",
       "      <td id=\"T_a3233_row2_col1\" class=\"data row2 col1\" >8</td>\n",
       "      <td id=\"T_a3233_row2_col2\" class=\"data row2 col2\" >110</td>\n",
       "      <td id=\"T_a3233_row2_col3\" class=\"data row2 col3\" >8</td>\n",
       "      <td id=\"T_a3233_row2_col4\" class=\"data row2 col4\" >110</td>\n",
       "      <td id=\"T_a3233_row2_col5\" class=\"data row2 col5\" >8</td>\n",
       "      <td id=\"T_a3233_row2_col6\" class=\"data row2 col6\" >110</td>\n",
       "      <td id=\"T_a3233_row2_col7\" class=\"data row2 col7\" >8</td>\n",
       "      <td id=\"T_a3233_row2_col8\" class=\"data row2 col8\" >110</td>\n",
       "      <td id=\"T_a3233_row2_col9\" class=\"data row2 col9\" >8</td>\n",
       "      <td id=\"T_a3233_row2_col10\" class=\"data row2 col10\" >110</td>\n",
       "    </tr>\n",
       "    <tr>\n",
       "      <th id=\"T_a3233_level0_row3\" class=\"row_heading level0 row3\" >3</th>\n",
       "      <td id=\"T_a3233_row3_col0\" class=\"data row3 col0\" >orbitProperties_pass</td>\n",
       "      <td id=\"T_a3233_row3_col1\" class=\"data row3 col1\" >DESCENDING</td>\n",
       "      <td id=\"T_a3233_row3_col2\" class=\"data row3 col2\" >DESCENDING</td>\n",
       "      <td id=\"T_a3233_row3_col3\" class=\"data row3 col3\" >DESCENDING</td>\n",
       "      <td id=\"T_a3233_row3_col4\" class=\"data row3 col4\" >DESCENDING</td>\n",
       "      <td id=\"T_a3233_row3_col5\" class=\"data row3 col5\" >DESCENDING</td>\n",
       "      <td id=\"T_a3233_row3_col6\" class=\"data row3 col6\" >DESCENDING</td>\n",
       "      <td id=\"T_a3233_row3_col7\" class=\"data row3 col7\" >DESCENDING</td>\n",
       "      <td id=\"T_a3233_row3_col8\" class=\"data row3 col8\" >DESCENDING</td>\n",
       "      <td id=\"T_a3233_row3_col9\" class=\"data row3 col9\" >DESCENDING</td>\n",
       "      <td id=\"T_a3233_row3_col10\" class=\"data row3 col10\" >DESCENDING</td>\n",
       "    </tr>\n",
       "    <tr>\n",
       "      <th id=\"T_a3233_level0_row4\" class=\"row_heading level0 row4\" >4</th>\n",
       "      <td id=\"T_a3233_row4_col0\" class=\"data row4 col0\" >cycleNumber</td>\n",
       "      <td id=\"T_a3233_row4_col1\" class=\"data row4 col1\" >164</td>\n",
       "      <td id=\"T_a3233_row4_col2\" class=\"data row4 col2\" >164</td>\n",
       "      <td id=\"T_a3233_row4_col3\" class=\"data row4 col3\" >165</td>\n",
       "      <td id=\"T_a3233_row4_col4\" class=\"data row4 col4\" >165</td>\n",
       "      <td id=\"T_a3233_row4_col5\" class=\"data row4 col5\" >166</td>\n",
       "      <td id=\"T_a3233_row4_col6\" class=\"data row4 col6\" >166</td>\n",
       "      <td id=\"T_a3233_row4_col7\" class=\"data row4 col7\" >167</td>\n",
       "      <td id=\"T_a3233_row4_col8\" class=\"data row4 col8\" >167</td>\n",
       "      <td id=\"T_a3233_row4_col9\" class=\"data row4 col9\" >168</td>\n",
       "      <td id=\"T_a3233_row4_col10\" class=\"data row4 col10\" >168</td>\n",
       "    </tr>\n",
       "  </tbody>\n",
       "</table>\n"
      ],
      "text/plain": [
       "<pandas.io.formats.style.Styler at 0x22dec9636a0>"
      ]
     },
     "execution_count": 86,
     "metadata": {},
     "output_type": "execute_result"
    }
   ],
   "source": [
    "sen1_print(s1_col.filter(ee.Filter.eq('platform_number', 'B')).sort('system:time_start'))"
   ]
  },
  {
   "cell_type": "code",
   "execution_count": 87,
   "metadata": {},
   "outputs": [
    {
     "name": "stdout",
     "output_type": "stream",
     "text": [
      "\u001b[1m Relative orbit number 8:  \u001b[0m\n",
      "\u001b[1m Relative orbit number 110:  \u001b[0m\n"
     ]
    },
    {
     "data": {
      "text/html": [
       "<style type=\"text/css\">\n",
       "#T_53564 th {\n",
       "  text-align: left;\n",
       "}\n",
       "#T_53564_row0_col0, #T_53564_row0_col1, #T_53564_row0_col2, #T_53564_row0_col3, #T_53564_row0_col4, #T_53564_row0_col5, #T_53564_row0_col6, #T_53564_row0_col7, #T_53564_row0_col8, #T_53564_row0_col9, #T_53564_row0_col10, #T_53564_row1_col0, #T_53564_row1_col1, #T_53564_row1_col2, #T_53564_row1_col3, #T_53564_row1_col4, #T_53564_row1_col5, #T_53564_row1_col6, #T_53564_row1_col7, #T_53564_row1_col8, #T_53564_row1_col9, #T_53564_row1_col10, #T_53564_row2_col0, #T_53564_row2_col1, #T_53564_row2_col2, #T_53564_row2_col3, #T_53564_row2_col4, #T_53564_row2_col5, #T_53564_row2_col6, #T_53564_row2_col7, #T_53564_row2_col8, #T_53564_row2_col9, #T_53564_row2_col10, #T_53564_row3_col0, #T_53564_row3_col1, #T_53564_row3_col2, #T_53564_row3_col3, #T_53564_row3_col4, #T_53564_row3_col5, #T_53564_row3_col6, #T_53564_row3_col7, #T_53564_row3_col8, #T_53564_row3_col9, #T_53564_row3_col10, #T_53564_row4_col0, #T_53564_row4_col1, #T_53564_row4_col2, #T_53564_row4_col3, #T_53564_row4_col4, #T_53564_row4_col5, #T_53564_row4_col6, #T_53564_row4_col7, #T_53564_row4_col8, #T_53564_row4_col9, #T_53564_row4_col10 {\n",
       "  text-align: left;\n",
       "}\n",
       "</style>\n",
       "<table id=\"T_53564\">\n",
       "  <thead>\n",
       "    <tr>\n",
       "      <th class=\"blank level0\" >&nbsp;</th>\n",
       "      <th id=\"T_53564_level0_col0\" class=\"col_heading level0 col0\" >Property</th>\n",
       "      <th id=\"T_53564_level0_col1\" class=\"col_heading level0 col1\" >0</th>\n",
       "      <th id=\"T_53564_level0_col2\" class=\"col_heading level0 col2\" >1</th>\n",
       "      <th id=\"T_53564_level0_col3\" class=\"col_heading level0 col3\" >2</th>\n",
       "      <th id=\"T_53564_level0_col4\" class=\"col_heading level0 col4\" >3</th>\n",
       "      <th id=\"T_53564_level0_col5\" class=\"col_heading level0 col5\" >4</th>\n",
       "      <th id=\"T_53564_level0_col6\" class=\"col_heading level0 col6\" >5</th>\n",
       "      <th id=\"T_53564_level0_col7\" class=\"col_heading level0 col7\" >6</th>\n",
       "      <th id=\"T_53564_level0_col8\" class=\"col_heading level0 col8\" >7</th>\n",
       "      <th id=\"T_53564_level0_col9\" class=\"col_heading level0 col9\" >8</th>\n",
       "      <th id=\"T_53564_level0_col10\" class=\"col_heading level0 col10\" >9</th>\n",
       "    </tr>\n",
       "  </thead>\n",
       "  <tbody>\n",
       "    <tr>\n",
       "      <th id=\"T_53564_level0_row0\" class=\"row_heading level0 row0\" >0</th>\n",
       "      <td id=\"T_53564_row0_col0\" class=\"data row0 col0\" >system:time_start</td>\n",
       "      <td id=\"T_53564_row0_col1\" class=\"data row0 col1\" >2021-06-26</td>\n",
       "      <td id=\"T_53564_row0_col2\" class=\"data row0 col2\" >2021-07-02</td>\n",
       "      <td id=\"T_53564_row0_col3\" class=\"data row0 col3\" >2021-07-08</td>\n",
       "      <td id=\"T_53564_row0_col4\" class=\"data row0 col4\" >2021-07-14</td>\n",
       "      <td id=\"T_53564_row0_col5\" class=\"data row0 col5\" >2021-07-20</td>\n",
       "      <td id=\"T_53564_row0_col6\" class=\"data row0 col6\" >2021-07-26</td>\n",
       "      <td id=\"T_53564_row0_col7\" class=\"data row0 col7\" >2021-08-01</td>\n",
       "      <td id=\"T_53564_row0_col8\" class=\"data row0 col8\" >2021-08-07</td>\n",
       "      <td id=\"T_53564_row0_col9\" class=\"data row0 col9\" >2021-08-13</td>\n",
       "      <td id=\"T_53564_row0_col10\" class=\"data row0 col10\" >2021-08-19</td>\n",
       "    </tr>\n",
       "    <tr>\n",
       "      <th id=\"T_53564_level0_row1\" class=\"row_heading level0 row1\" >1</th>\n",
       "      <td id=\"T_53564_row1_col0\" class=\"data row1 col0\" >platform_number</td>\n",
       "      <td id=\"T_53564_row1_col1\" class=\"data row1 col1\" >A</td>\n",
       "      <td id=\"T_53564_row1_col2\" class=\"data row1 col2\" >B</td>\n",
       "      <td id=\"T_53564_row1_col3\" class=\"data row1 col3\" >A</td>\n",
       "      <td id=\"T_53564_row1_col4\" class=\"data row1 col4\" >B</td>\n",
       "      <td id=\"T_53564_row1_col5\" class=\"data row1 col5\" >A</td>\n",
       "      <td id=\"T_53564_row1_col6\" class=\"data row1 col6\" >B</td>\n",
       "      <td id=\"T_53564_row1_col7\" class=\"data row1 col7\" >A</td>\n",
       "      <td id=\"T_53564_row1_col8\" class=\"data row1 col8\" >B</td>\n",
       "      <td id=\"T_53564_row1_col9\" class=\"data row1 col9\" >A</td>\n",
       "      <td id=\"T_53564_row1_col10\" class=\"data row1 col10\" >B</td>\n",
       "    </tr>\n",
       "    <tr>\n",
       "      <th id=\"T_53564_level0_row2\" class=\"row_heading level0 row2\" >2</th>\n",
       "      <td id=\"T_53564_row2_col0\" class=\"data row2 col0\" >relativeOrbitNumber_start</td>\n",
       "      <td id=\"T_53564_row2_col1\" class=\"data row2 col1\" >110</td>\n",
       "      <td id=\"T_53564_row2_col2\" class=\"data row2 col2\" >110</td>\n",
       "      <td id=\"T_53564_row2_col3\" class=\"data row2 col3\" >110</td>\n",
       "      <td id=\"T_53564_row2_col4\" class=\"data row2 col4\" >110</td>\n",
       "      <td id=\"T_53564_row2_col5\" class=\"data row2 col5\" >110</td>\n",
       "      <td id=\"T_53564_row2_col6\" class=\"data row2 col6\" >110</td>\n",
       "      <td id=\"T_53564_row2_col7\" class=\"data row2 col7\" >110</td>\n",
       "      <td id=\"T_53564_row2_col8\" class=\"data row2 col8\" >110</td>\n",
       "      <td id=\"T_53564_row2_col9\" class=\"data row2 col9\" >110</td>\n",
       "      <td id=\"T_53564_row2_col10\" class=\"data row2 col10\" >110</td>\n",
       "    </tr>\n",
       "    <tr>\n",
       "      <th id=\"T_53564_level0_row3\" class=\"row_heading level0 row3\" >3</th>\n",
       "      <td id=\"T_53564_row3_col0\" class=\"data row3 col0\" >orbitProperties_pass</td>\n",
       "      <td id=\"T_53564_row3_col1\" class=\"data row3 col1\" >DESCENDING</td>\n",
       "      <td id=\"T_53564_row3_col2\" class=\"data row3 col2\" >DESCENDING</td>\n",
       "      <td id=\"T_53564_row3_col3\" class=\"data row3 col3\" >DESCENDING</td>\n",
       "      <td id=\"T_53564_row3_col4\" class=\"data row3 col4\" >DESCENDING</td>\n",
       "      <td id=\"T_53564_row3_col5\" class=\"data row3 col5\" >DESCENDING</td>\n",
       "      <td id=\"T_53564_row3_col6\" class=\"data row3 col6\" >DESCENDING</td>\n",
       "      <td id=\"T_53564_row3_col7\" class=\"data row3 col7\" >DESCENDING</td>\n",
       "      <td id=\"T_53564_row3_col8\" class=\"data row3 col8\" >DESCENDING</td>\n",
       "      <td id=\"T_53564_row3_col9\" class=\"data row3 col9\" >DESCENDING</td>\n",
       "      <td id=\"T_53564_row3_col10\" class=\"data row3 col10\" >DESCENDING</td>\n",
       "    </tr>\n",
       "    <tr>\n",
       "      <th id=\"T_53564_level0_row4\" class=\"row_heading level0 row4\" >4</th>\n",
       "      <td id=\"T_53564_row4_col0\" class=\"data row4 col0\" >cycleNumber</td>\n",
       "      <td id=\"T_53564_row4_col1\" class=\"data row4 col1\" >234</td>\n",
       "      <td id=\"T_53564_row4_col2\" class=\"data row4 col2\" >164</td>\n",
       "      <td id=\"T_53564_row4_col3\" class=\"data row4 col3\" >235</td>\n",
       "      <td id=\"T_53564_row4_col4\" class=\"data row4 col4\" >165</td>\n",
       "      <td id=\"T_53564_row4_col5\" class=\"data row4 col5\" >236</td>\n",
       "      <td id=\"T_53564_row4_col6\" class=\"data row4 col6\" >166</td>\n",
       "      <td id=\"T_53564_row4_col7\" class=\"data row4 col7\" >237</td>\n",
       "      <td id=\"T_53564_row4_col8\" class=\"data row4 col8\" >167</td>\n",
       "      <td id=\"T_53564_row4_col9\" class=\"data row4 col9\" >238</td>\n",
       "      <td id=\"T_53564_row4_col10\" class=\"data row4 col10\" >168</td>\n",
       "    </tr>\n",
       "  </tbody>\n",
       "</table>\n"
      ],
      "text/plain": [
       "<pandas.io.formats.style.Styler at 0x22dec9405b0>"
      ]
     },
     "execution_count": 87,
     "metadata": {},
     "output_type": "execute_result"
    }
   ],
   "source": [
    "print(tc.BOLD,'Relative orbit number 8: ',tc.ENDC)\n",
    "sen1_print(s1_col.filter(ee.Filter.eq('relativeOrbitNumber_start', ee.Number(8))).sort('system:time_start'))\n",
    "print(tc.BOLD,'Relative orbit number 110: ',tc.ENDC)\n",
    "sen1_print(s1_col.filter(ee.Filter.eq('relativeOrbitNumber_start', ee.Number(110))).sort('system:time_start'))"
   ]
  },
  {
   "cell_type": "code",
   "execution_count": 88,
   "metadata": {},
   "outputs": [],
   "source": [
    "vis_params_s1_bright = {\n",
    "    'min': -10,\n",
    "    'max': 10,\n",
    "    'bands': ['VV_db']\n",
    "}"
   ]
  },
  {
   "cell_type": "code",
   "execution_count": 89,
   "metadata": {},
   "outputs": [],
   "source": [
    "s1_col = s1_col.map(toLinear)"
   ]
  },
  {
   "cell_type": "code",
   "execution_count": 90,
   "metadata": {},
   "outputs": [],
   "source": [
    "s1a = toDb(s1_col.filter(ee.Filter.eq('platform_number', 'A')).mean().clip(roi))\n",
    "s1b = toDb(s1_col.filter(ee.Filter.eq('platform_number', 'B')).mean().clip(roi))\n",
    "left_layer = geemap.ee_tile_layer(s1a, vis_params_s1_bright, 'S1a')\n",
    "right_layer = geemap.ee_tile_layer(s1b, vis_params_s1_bright, 'S1b')"
   ]
  },
  {
   "cell_type": "code",
   "execution_count": 91,
   "metadata": {},
   "outputs": [
    {
     "data": {
      "text/plain": [
       "['system:footprint', 'system:bands', 'system:band_names']"
      ]
     },
     "execution_count": 91,
     "metadata": {},
     "output_type": "execute_result"
    }
   ],
   "source": [
    "s1a.propertyNames().getInfo()"
   ]
  },
  {
   "cell_type": "code",
   "execution_count": 92,
   "metadata": {},
   "outputs": [
    {
     "data": {
      "application/vnd.jupyter.widget-view+json": {
       "model_id": "0b4dd55b65ca449cab67a0d9c993db5f",
       "version_major": 2,
       "version_minor": 0
      },
      "text/plain": [
       "Map(center=[20, 0], controls=(ZoomControl(options=['position', 'zoom_in_text', 'zoom_in_title', 'zoom_out_text…"
      ]
     },
     "metadata": {},
     "output_type": "display_data"
    }
   ],
   "source": [
    "Map = geemap.Map(zoom=12)\n",
    "Map.centerObject(roi)\n",
    "Map.split_map(left_layer, right_layer)\n",
    "Map"
   ]
  },
  {
   "cell_type": "code",
   "execution_count": null,
   "metadata": {},
   "outputs": [],
   "source": []
  }
 ],
 "metadata": {
  "kernelspec": {
   "display_name": "geemap",
   "language": "python",
   "name": "python3"
  },
  "language_info": {
   "codemirror_mode": {
    "name": "ipython",
    "version": 3
   },
   "file_extension": ".py",
   "mimetype": "text/x-python",
   "name": "python",
   "nbconvert_exporter": "python",
   "pygments_lexer": "ipython3",
   "version": "3.9.16"
  },
  "orig_nbformat": 4
 },
 "nbformat": 4,
 "nbformat_minor": 2
}
