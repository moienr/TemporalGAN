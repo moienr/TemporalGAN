{
 "cells": [
  {
   "cell_type": "code",
   "execution_count": 1,
   "id": "1f72fae9",
   "metadata": {
    "execution": {
     "iopub.execute_input": "2023-04-15T15:13:15.946120Z",
     "iopub.status.busy": "2023-04-15T15:13:15.945306Z",
     "iopub.status.idle": "2023-04-15T15:13:15.958374Z",
     "shell.execute_reply": "2023-04-15T15:13:15.957275Z"
    },
    "papermill": {
     "duration": 0.024138,
     "end_time": "2023-04-15T15:13:15.961454",
     "exception": false,
     "start_time": "2023-04-15T15:13:15.937316",
     "status": "completed"
    },
    "tags": []
   },
   "outputs": [
    {
     "data": {
      "text/plain": [
       "True"
      ]
     },
     "execution_count": 1,
     "metadata": {},
     "output_type": "execute_result"
    }
   ],
   "source": [
    "import os\n",
    "IN_KAGGLE = 'KAGGLE_URL_BASE' in os.environ\n",
    "IN_KAGGLE"
   ]
  },
  {
   "cell_type": "code",
   "execution_count": 2,
   "id": "91676736",
   "metadata": {
    "execution": {
     "iopub.execute_input": "2023-04-15T15:13:15.973062Z",
     "iopub.status.busy": "2023-04-15T15:13:15.972794Z",
     "iopub.status.idle": "2023-04-15T15:13:23.551277Z",
     "shell.execute_reply": "2023-04-15T15:13:23.550047Z"
    },
    "papermill": {
     "duration": 7.587148,
     "end_time": "2023-04-15T15:13:23.553886",
     "exception": false,
     "start_time": "2023-04-15T15:13:15.966738",
     "status": "completed"
    },
    "tags": []
   },
   "outputs": [
    {
     "name": "stdout",
     "output_type": "stream",
     "text": [
      "Cloning into 'TemporalGAN'...\r\n",
      "remote: Enumerating objects: 1311, done.\u001b[K\r\n",
      "remote: Counting objects: 100% (222/222), done.\u001b[K\r\n",
      "remote: Compressing objects: 100% (101/101), done.\u001b[K\r\n",
      "remote: Total 1311 (delta 127), reused 212 (delta 117), pack-reused 1089\u001b[K\r\n",
      "Receiving objects: 100% (1311/1311), 85.01 MiB | 22.06 MiB/s, done.\r\n",
      "Resolving deltas: 100% (859/859), done.\r\n"
     ]
    }
   ],
   "source": [
    "if IN_KAGGLE:\n",
    "    from kaggle_secrets import UserSecretsClient\n",
    "    user_secrets = UserSecretsClient()\n",
    "    secret_value = user_secrets.get_secret(\"gittoken2\")\n",
    "\n",
    "    !git clone https://{secret_value}@github.com/moienr/TemporalGAN.git"
   ]
  },
  {
   "cell_type": "code",
   "execution_count": 3,
   "id": "ec4f1636",
   "metadata": {
    "execution": {
     "iopub.execute_input": "2023-04-15T15:13:23.569479Z",
     "iopub.status.busy": "2023-04-15T15:13:23.569121Z",
     "iopub.status.idle": "2023-04-15T15:13:23.575690Z",
     "shell.execute_reply": "2023-04-15T15:13:23.574658Z"
    },
    "papermill": {
     "duration": 0.016938,
     "end_time": "2023-04-15T15:13:23.577915",
     "exception": false,
     "start_time": "2023-04-15T15:13:23.560977",
     "status": "completed"
    },
    "tags": []
   },
   "outputs": [
    {
     "name": "stdout",
     "output_type": "stream",
     "text": [
      "path found...\n"
     ]
    }
   ],
   "source": [
    "if IN_KAGGLE:\n",
    "    import time\n",
    "    import os\n",
    "    sleep_time = 5\n",
    "    while not os.path.exists(\"/kaggle/working/TemporalGAN\"):\n",
    "        print(\"didn't find the path, wating {sleep_time} more seconds...\")\n",
    "        time.sleep(sleep_time)\n",
    "    print(\"path found...\")\n",
    "    import sys\n",
    "    sys.path.append(\"/kaggle/working/TemporalGAN\")"
   ]
  },
  {
   "cell_type": "code",
   "execution_count": 4,
   "id": "83284c46",
   "metadata": {
    "execution": {
     "iopub.execute_input": "2023-04-15T15:13:23.593019Z",
     "iopub.status.busy": "2023-04-15T15:13:23.592183Z",
     "iopub.status.idle": "2023-04-15T15:13:25.798881Z",
     "shell.execute_reply": "2023-04-15T15:13:25.797900Z"
    },
    "papermill": {
     "duration": 2.216743,
     "end_time": "2023-04-15T15:13:25.801315",
     "exception": false,
     "start_time": "2023-04-15T15:13:23.584572",
     "status": "completed"
    },
    "tags": []
   },
   "outputs": [
    {
     "data": {
      "text/plain": [
       "'1.13.0'"
      ]
     },
     "execution_count": 4,
     "metadata": {},
     "output_type": "execute_result"
    }
   ],
   "source": [
    "import torch\n",
    "torch.__version__"
   ]
  },
  {
   "cell_type": "code",
   "execution_count": 5,
   "id": "9f58ca88",
   "metadata": {
    "execution": {
     "iopub.execute_input": "2023-04-15T15:13:25.818178Z",
     "iopub.status.busy": "2023-04-15T15:13:25.816302Z",
     "iopub.status.idle": "2023-04-15T15:13:26.464351Z",
     "shell.execute_reply": "2023-04-15T15:13:26.463372Z"
    },
    "papermill": {
     "duration": 0.658309,
     "end_time": "2023-04-15T15:13:26.466725",
     "exception": false,
     "start_time": "2023-04-15T15:13:25.808416",
     "status": "completed"
    },
    "tags": []
   },
   "outputs": [
    {
     "data": {
      "text/plain": [
       "2"
      ]
     },
     "execution_count": 5,
     "metadata": {},
     "output_type": "execute_result"
    }
   ],
   "source": [
    "\n",
    "import numpy as np\n",
    "from torch.utils.data import Dataset\n",
    "from glob import glob\n",
    "from skimage import io\n",
    "import os\n",
    "from torchvision import datasets, transforms\n",
    "import matplotlib\n",
    "import os\n",
    "os.cpu_count()"
   ]
  },
  {
   "cell_type": "code",
   "execution_count": 6,
   "id": "124ea1bf",
   "metadata": {
    "execution": {
     "iopub.execute_input": "2023-04-15T15:13:26.482140Z",
     "iopub.status.busy": "2023-04-15T15:13:26.481832Z",
     "iopub.status.idle": "2023-04-15T15:13:26.545240Z",
     "shell.execute_reply": "2023-04-15T15:13:26.544287Z"
    },
    "papermill": {
     "duration": 0.073576,
     "end_time": "2023-04-15T15:13:26.547378",
     "exception": false,
     "start_time": "2023-04-15T15:13:26.473802",
     "status": "completed"
    },
    "tags": []
   },
   "outputs": [
    {
     "data": {
      "text/plain": [
       "'cuda'"
      ]
     },
     "execution_count": 6,
     "metadata": {},
     "output_type": "execute_result"
    }
   ],
   "source": [
    "DEVICE = \"cuda\" if torch.cuda.is_available() else \"cpu\"\n",
    "DEVICE"
   ]
  },
  {
   "cell_type": "code",
   "execution_count": 7,
   "id": "58c18918",
   "metadata": {
    "execution": {
     "iopub.execute_input": "2023-04-15T15:13:26.563789Z",
     "iopub.status.busy": "2023-04-15T15:13:26.562809Z",
     "iopub.status.idle": "2023-04-15T15:13:26.712100Z",
     "shell.execute_reply": "2023-04-15T15:13:26.711076Z"
    },
    "papermill": {
     "duration": 0.160128,
     "end_time": "2023-04-15T15:13:26.714747",
     "exception": false,
     "start_time": "2023-04-15T15:13:26.554619",
     "status": "completed"
    },
    "tags": []
   },
   "outputs": [],
   "source": [
    "from dataset.data_loaders import *\n",
    "from dataset.utils.plot_utils import plot_s1s2_tensors, save_s1s2_tensors_plot\n",
    "#from config import *\n",
    "from train_utils import *"
   ]
  },
  {
   "cell_type": "code",
   "execution_count": 8,
   "id": "23e1c625",
   "metadata": {
    "execution": {
     "iopub.execute_input": "2023-04-15T15:13:26.732476Z",
     "iopub.status.busy": "2023-04-15T15:13:26.730879Z",
     "iopub.status.idle": "2023-04-15T15:13:26.752579Z",
     "shell.execute_reply": "2023-04-15T15:13:26.751669Z"
    },
    "papermill": {
     "duration": 0.03286,
     "end_time": "2023-04-15T15:13:26.754826",
     "exception": false,
     "start_time": "2023-04-15T15:13:26.721966",
     "status": "completed"
    },
    "tags": []
   },
   "outputs": [],
   "source": [
    "from temporalgan.temporal_gan_v3_gen import Generator as GeneratorV3\n",
    "from temporalgan.temporal_gan_v2_1_gen import Generator as GeneratorV2_1\n",
    "from temporalgan.temporal_gan_v2_2_gen import Generator as GeneratorV2_2\n",
    "from temporalgan.temporal_gan_v2_3_gen import Generator as GeneratorV2_3\n",
    "from temporalgan.temporal_gan_v1_gen import Generator as GeneratorV1\n",
    "from temporalgan.temporal_gan_v2_disc import Discriminator as DiscriminatorV2\n",
    "from temporalgan.temporal_gan_v1_disc import Discriminator as DiscriminatorV1\n",
    "from temporalgan.lossfunciton.loss_function import WeightedL1Loss"
   ]
  },
  {
   "cell_type": "code",
   "execution_count": 9,
   "id": "d1af1342",
   "metadata": {
    "execution": {
     "iopub.execute_input": "2023-04-15T15:13:26.772661Z",
     "iopub.status.busy": "2023-04-15T15:13:26.772372Z",
     "iopub.status.idle": "2023-04-15T15:13:26.776936Z",
     "shell.execute_reply": "2023-04-15T15:13:26.775851Z"
    },
    "papermill": {
     "duration": 0.015129,
     "end_time": "2023-04-15T15:13:26.779034",
     "exception": false,
     "start_time": "2023-04-15T15:13:26.763905",
     "status": "completed"
    },
    "tags": []
   },
   "outputs": [],
   "source": [
    "import torch.nn as nn\n",
    "import torch.optim as optim\n",
    "from torch.utils.data import DataLoader"
   ]
  },
  {
   "cell_type": "code",
   "execution_count": 10,
   "id": "bd1a4234",
   "metadata": {
    "execution": {
     "iopub.execute_input": "2023-04-15T15:13:26.795246Z",
     "iopub.status.busy": "2023-04-15T15:13:26.794205Z",
     "iopub.status.idle": "2023-04-15T15:13:26.800764Z",
     "shell.execute_reply": "2023-04-15T15:13:26.799834Z"
    },
    "papermill": {
     "duration": 0.017041,
     "end_time": "2023-04-15T15:13:26.802987",
     "exception": false,
     "start_time": "2023-04-15T15:13:26.785946",
     "status": "completed"
    },
    "tags": []
   },
   "outputs": [],
   "source": [
    "if IN_KAGGLE:\n",
    "    s1_t1_dir_train= \"/kaggle/input/s1s2-2021-v2/2021/s1_imgs/train\"\n",
    "    s2_t1_dir_train= \"/kaggle/input/s1s2-2021-v2/2021/s2_imgs/train\"\n",
    "    s1_t2_dir_train= \"/kaggle/input/s1s2-2019-v2/2019/s1_imgs/train\"\n",
    "    s2_t2_dir_train= \"/kaggle/input/s1s2-2019-v2/2019/s2_imgs/train\"\n",
    "    s1_t1_dir_test = \"/kaggle/input/s1s2-2021-v2/2021/s1_imgs/test\"\n",
    "    s2_t1_dir_test = \"/kaggle/input/s1s2-2021-v2/2021/s2_imgs/test\"\n",
    "    s1_t2_dir_test = \"/kaggle/input/s1s2-2019-v2/2019/s1_imgs/test\"\n",
    "    s2_t2_dir_test = \"/kaggle/input/s1s2-2019-v2/2019/s2_imgs/test\"\n",
    "else:\n",
    "    s1_t1_dir_train=\"E:\\\\s1s2\\\\s1s2_patched_light\\\\s1s2_patched_extra_light\\\\2021\\\\s1_imgs\\\\test\"\n",
    "    s2_t1_dir_train=\"E:\\\\s1s2\\\\s1s2_patched_light\\\\s1s2_patched_extra_light\\\\2021\\\\s2_imgs\\\\test\"\n",
    "    s1_t2_dir_train=\"E:\\\\s1s2\\\\s1s2_patched_light\\\\s1s2_patched_extra_light\\\\2019\\\\s1_imgs\\\\test\"\n",
    "    s2_t2_dir_train=\"E:\\\\s1s2\\\\s1s2_patched_light\\\\s1s2_patched_extra_light\\\\2019\\\\s2_imgs\\\\test\"\n",
    "    s1_t1_dir_test=\"E:\\\\s1s2\\\\s1s2_patched_light\\\\s1s2_patched_extra_light\\\\2021\\\\s1_imgs\\\\test\"\n",
    "    s2_t1_dir_test=\"E:\\\\s1s2\\\\s1s2_patched_light\\\\s1s2_patched_extra_light\\\\2021\\\\s2_imgs\\\\test\"\n",
    "    s1_t2_dir_test=\"E:\\\\s1s2\\\\s1s2_patched_light\\\\s1s2_patched_extra_light\\\\2019\\\\s1_imgs\\\\test\"\n",
    "    s2_t2_dir_test=\"E:\\\\s1s2\\\\s1s2_patched_light\\\\s1s2_patched_extra_light\\\\2019\\\\s2_imgs\\\\test\""
   ]
  },
  {
   "cell_type": "code",
   "execution_count": 11,
   "id": "473645d4",
   "metadata": {
    "execution": {
     "iopub.execute_input": "2023-04-15T15:13:26.819220Z",
     "iopub.status.busy": "2023-04-15T15:13:26.817760Z",
     "iopub.status.idle": "2023-04-15T15:13:26.824723Z",
     "shell.execute_reply": "2023-04-15T15:13:26.823802Z"
    },
    "papermill": {
     "duration": 0.016799,
     "end_time": "2023-04-15T15:13:26.826737",
     "exception": false,
     "start_time": "2023-04-15T15:13:26.809938",
     "status": "completed"
    },
    "tags": []
   },
   "outputs": [],
   "source": [
    "TWO_WAY_DATASET = True if IN_KAGGLE else False\n",
    "INPUT_CHANGE_MAP = True if IN_KAGGLE else False\n",
    "S2_INCHANNELS = 12 if INPUT_CHANGE_MAP else 6\n",
    "S1_INCHANNELS = 7 if INPUT_CHANGE_MAP else 1\n",
    "\n",
    "LEARNING_RATE = 2e-4\n",
    "BATCH_SIZE = 2\n",
    "NUM_WORKERS = 1 if IN_KAGGLE else 8\n",
    "IMAGE_SIZE = 256\n",
    "WEIGHTED_LOSS = True\n",
    "L1_LAMBDA = 100\n",
    "NUM_EPOCHS = 30 if IN_KAGGLE else 2\n",
    "\n",
    "LOAD_MODEL = False\n",
    "SAVE_MODEL = True if IN_KAGGLE else False\n",
    "SAVE_MODEL_EVERY_EPOCH = 10\n",
    "SAVE_EXAMPLE_PLOTS = True\n",
    "EXAMPLES_TO_PLOT = [1,32,64,128,256,512,1024] if IN_KAGGLE else [1,2]\n",
    "CHECKPOINT_DISC = \"disc.pth.tar\"\n",
    "CHECKPOINT_GEN = \"gen.pth.tar\"\n",
    "\n"
   ]
  },
  {
   "cell_type": "code",
   "execution_count": 12,
   "id": "58485ee1",
   "metadata": {
    "execution": {
     "iopub.execute_input": "2023-04-15T15:13:26.842417Z",
     "iopub.status.busy": "2023-04-15T15:13:26.841555Z",
     "iopub.status.idle": "2023-04-15T15:13:26.846228Z",
     "shell.execute_reply": "2023-04-15T15:13:26.845364Z"
    },
    "papermill": {
     "duration": 0.01455,
     "end_time": "2023-04-15T15:13:26.848143",
     "exception": false,
     "start_time": "2023-04-15T15:13:26.833593",
     "status": "completed"
    },
    "tags": []
   },
   "outputs": [],
   "source": [
    "import gc"
   ]
  },
  {
   "cell_type": "code",
   "execution_count": 13,
   "id": "ce6f896f",
   "metadata": {
    "execution": {
     "iopub.execute_input": "2023-04-15T15:13:26.863618Z",
     "iopub.status.busy": "2023-04-15T15:13:26.863322Z",
     "iopub.status.idle": "2023-04-15T15:13:26.875064Z",
     "shell.execute_reply": "2023-04-15T15:13:26.874067Z"
    },
    "papermill": {
     "duration": 0.02188,
     "end_time": "2023-04-15T15:13:26.877116",
     "exception": false,
     "start_time": "2023-04-15T15:13:26.855236",
     "status": "completed"
    },
    "tags": []
   },
   "outputs": [],
   "source": [
    "def main():\n",
    "    disc = DiscriminatorV1(s2_in_channels=S2_INCHANNELS, s1_in_channels=S1_INCHANNELS).to(DEVICE)\n",
    "#     gen = GeneratorV2(s2_in_channels=S2_INCHANNELS, s1_in_channels= S1_INCHANNELS, features=64,pam_downsample=2).to(DEVICE)\n",
    "    gen = GeneratorV1(s2_in_channels=S2_INCHANNELS, s1_in_channels= S1_INCHANNELS, features=64).to(DEVICE)\n",
    "#     gen = GeneratorV2_3(s2_in_channels=S2_INCHANNELS, s1_in_channels= S1_INCHANNELS, features=64).to(DEVICE)\n",
    "    opt_disc = optim.Adam(disc.parameters(), lr=LEARNING_RATE, betas=(0.5, 0.999),)\n",
    "    opt_gen = optim.Adam(gen.parameters(), lr=LEARNING_RATE, betas=(0.5, 0.999))\n",
    "    BCE = nn.BCEWithLogitsLoss()\n",
    "    if WEIGHTED_LOSS:\n",
    "        L1_LOSS = WeightedL1Loss(change_weight=5)\n",
    "    else:\n",
    "        L1_LOSS = nn.L1Loss()\n",
    "\n",
    "    if LOAD_MODEL:\n",
    "        load_checkpoint(\n",
    "            CHECKPOINT_GEN, gen, opt_gen, LEARNING_RATE,\n",
    "        )\n",
    "        load_checkpoint(\n",
    "            CHECKPOINT_DISC, disc, opt_disc, LEARNING_RATE,\n",
    "        )\n",
    "\n",
    "    transform = transforms.Compose([S2S1Normalize(),myToTensor(dtype=torch.float32)])\n",
    "\n",
    "\n",
    "    train_dataset = Sen12Dataset(s1_t1_dir=s1_t1_dir_train,\n",
    "                                 s2_t1_dir=s2_t1_dir_train,\n",
    "                                 s1_t2_dir=s1_t2_dir_train,\n",
    "                                 s2_t2_dir=s2_t2_dir_train,\n",
    "                                 transform=transform,\n",
    "                                 two_way=TWO_WAY_DATASET)\n",
    "    \n",
    "    train_loader = DataLoader(\n",
    "        train_dataset,\n",
    "        batch_size=BATCH_SIZE,\n",
    "        shuffle=True,\n",
    "        num_workers=NUM_WORKERS,\n",
    "    )\n",
    "    g_scaler = torch.cuda.amp.GradScaler()\n",
    "    d_scaler = torch.cuda.amp.GradScaler()\n",
    "#     val_dataset = MapDataset(root_dir=VAL_DIR)\n",
    "#     val_loader = DataLoader(val_dataset, batch_size=1, shuffle=False)\n",
    "\n",
    "    for epoch in range(1, NUM_EPOCHS+1):\n",
    "        print(\"\\n\\n\" , end=\"\")\n",
    "        print(f\"Epoch: {epoch}\")\n",
    "        print(\"\")\n",
    "        train_fn(\n",
    "            disc, gen, train_loader, opt_disc, opt_gen,\n",
    "            L1_LOSS, BCE, g_scaler, d_scaler, weighted_loss= WEIGHTED_LOSS,\n",
    "            cm_input=INPUT_CHANGE_MAP, grad_clip=False)\n",
    "\n",
    "        if SAVE_MODEL and epoch % SAVE_MODEL_EVERY_EPOCH == 0:\n",
    "            save_checkpoint(epoch,gen, opt_gen, filename=CHECKPOINT_GEN)\n",
    "            save_checkpoint(epoch,disc, opt_disc, filename=CHECKPOINT_DISC)\n",
    "\n",
    "\n",
    "        if SAVE_EXAMPLE_PLOTS:\n",
    "            for img_i in EXAMPLES_TO_PLOT:\n",
    "                save_some_examples(gen, train_dataset, epoch, folder=\"evaluation_plots\",cm_input=INPUT_CHANGE_MAP, img_indx=img_i)\n",
    "\n",
    "            \n",
    "        gc.collect()\n",
    "        torch.cuda.empty_cache()\n",
    "            \n",
    "    return gen\n"
   ]
  },
  {
   "cell_type": "code",
   "execution_count": 14,
   "id": "9e54a934",
   "metadata": {
    "execution": {
     "iopub.execute_input": "2023-04-15T15:13:26.892568Z",
     "iopub.status.busy": "2023-04-15T15:13:26.891781Z",
     "iopub.status.idle": "2023-04-15T17:02:21.996816Z",
     "shell.execute_reply": "2023-04-15T17:02:21.995610Z"
    },
    "papermill": {
     "duration": 6535.11581,
     "end_time": "2023-04-15T17:02:21.999813",
     "exception": false,
     "start_time": "2023-04-15T15:13:26.884003",
     "status": "completed"
    },
    "tags": []
   },
   "outputs": [
    {
     "name": "stdout",
     "output_type": "stream",
     "text": [
      "\n",
      "\n",
      "Epoch: 1\n",
      "\n"
     ]
    },
    {
     "name": "stderr",
     "output_type": "stream",
     "text": [
      "100%|██████████| 1326/1326 [04:32<00:00,  4.86it/s, D_fake_mean=0.147, D_real_mean=0.827, G_loss_mean=24.2, L1_mean=20.7]\n"
     ]
    },
    {
     "name": "stdout",
     "output_type": "stream",
     "text": [
      "\n",
      "\n",
      "Epoch: 2\n",
      "\n"
     ]
    },
    {
     "name": "stderr",
     "output_type": "stream",
     "text": [
      "100%|██████████| 1326/1326 [03:32<00:00,  6.23it/s, D_fake_mean=0.0179, D_real_mean=0.969, G_loss_mean=25.5, L1_mean=18.8]\n"
     ]
    },
    {
     "name": "stdout",
     "output_type": "stream",
     "text": [
      "\n",
      "\n",
      "Epoch: 3\n",
      "\n"
     ]
    },
    {
     "name": "stderr",
     "output_type": "stream",
     "text": [
      "100%|██████████| 1326/1326 [03:30<00:00,  6.31it/s, D_fake_mean=0.02, D_real_mean=0.967, G_loss_mean=27, L1_mean=19]\n"
     ]
    },
    {
     "name": "stdout",
     "output_type": "stream",
     "text": [
      "\n",
      "\n",
      "Epoch: 4\n",
      "\n"
     ]
    },
    {
     "name": "stderr",
     "output_type": "stream",
     "text": [
      "100%|██████████| 1326/1326 [03:30<00:00,  6.30it/s, D_fake_mean=0.0183, D_real_mean=0.961, G_loss_mean=26.8, L1_mean=19]\n"
     ]
    },
    {
     "name": "stdout",
     "output_type": "stream",
     "text": [
      "\n",
      "\n",
      "Epoch: 5\n",
      "\n"
     ]
    },
    {
     "name": "stderr",
     "output_type": "stream",
     "text": [
      "100%|██████████| 1326/1326 [03:30<00:00,  6.30it/s, D_fake_mean=0.0192, D_real_mean=0.951, G_loss_mean=27.2, L1_mean=19.2]\n"
     ]
    },
    {
     "name": "stdout",
     "output_type": "stream",
     "text": [
      "\n",
      "\n",
      "Epoch: 6\n",
      "\n"
     ]
    },
    {
     "name": "stderr",
     "output_type": "stream",
     "text": [
      "100%|██████████| 1326/1326 [03:30<00:00,  6.30it/s, D_fake_mean=0.0268, D_real_mean=0.927, G_loss_mean=26, L1_mean=18.8]\n"
     ]
    },
    {
     "name": "stdout",
     "output_type": "stream",
     "text": [
      "\n",
      "\n",
      "Epoch: 7\n",
      "\n"
     ]
    },
    {
     "name": "stderr",
     "output_type": "stream",
     "text": [
      "100%|██████████| 1326/1326 [03:30<00:00,  6.30it/s, D_fake_mean=0.0315, D_real_mean=0.914, G_loss_mean=25.6, L1_mean=19.1]\n"
     ]
    },
    {
     "name": "stdout",
     "output_type": "stream",
     "text": [
      "\n",
      "\n",
      "Epoch: 8\n",
      "\n"
     ]
    },
    {
     "name": "stderr",
     "output_type": "stream",
     "text": [
      "100%|██████████| 1326/1326 [03:30<00:00,  6.30it/s, D_fake_mean=0.0555, D_real_mean=0.876, G_loss_mean=24.1, L1_mean=18.7]\n"
     ]
    },
    {
     "name": "stdout",
     "output_type": "stream",
     "text": [
      "\n",
      "\n",
      "Epoch: 9\n",
      "\n"
     ]
    },
    {
     "name": "stderr",
     "output_type": "stream",
     "text": [
      "100%|██████████| 1326/1326 [03:30<00:00,  6.31it/s, D_fake_mean=0.055, D_real_mean=0.877, G_loss_mean=23.6, L1_mean=18.6]\n"
     ]
    },
    {
     "name": "stdout",
     "output_type": "stream",
     "text": [
      "\n",
      "\n",
      "Epoch: 10\n",
      "\n"
     ]
    },
    {
     "name": "stderr",
     "output_type": "stream",
     "text": [
      "100%|██████████| 1326/1326 [03:30<00:00,  6.29it/s, D_fake_mean=0.0605, D_real_mean=0.888, G_loss_mean=23.2, L1_mean=18.5]\n"
     ]
    },
    {
     "name": "stdout",
     "output_type": "stream",
     "text": [
      "=> Saving checkpoint\n",
      "=> Saving checkpoint\n",
      "\n",
      "\n",
      "Epoch: 11\n",
      "\n"
     ]
    },
    {
     "name": "stderr",
     "output_type": "stream",
     "text": [
      "100%|██████████| 1326/1326 [03:32<00:00,  6.25it/s, D_fake_mean=0.0788, D_real_mean=0.844, G_loss_mean=23.1, L1_mean=18.8]\n"
     ]
    },
    {
     "name": "stdout",
     "output_type": "stream",
     "text": [
      "\n",
      "\n",
      "Epoch: 12\n",
      "\n"
     ]
    },
    {
     "name": "stderr",
     "output_type": "stream",
     "text": [
      "100%|██████████| 1326/1326 [03:30<00:00,  6.31it/s, D_fake_mean=0.0973, D_real_mean=0.817, G_loss_mean=22.3, L1_mean=18.8]\n"
     ]
    },
    {
     "name": "stdout",
     "output_type": "stream",
     "text": [
      "\n",
      "\n",
      "Epoch: 13\n",
      "\n"
     ]
    },
    {
     "name": "stderr",
     "output_type": "stream",
     "text": [
      "100%|██████████| 1326/1326 [03:30<00:00,  6.29it/s, D_fake_mean=0.0793, D_real_mean=0.838, G_loss_mean=22.5, L1_mean=18.8]\n"
     ]
    },
    {
     "name": "stdout",
     "output_type": "stream",
     "text": [
      "\n",
      "\n",
      "Epoch: 14\n",
      "\n"
     ]
    },
    {
     "name": "stderr",
     "output_type": "stream",
     "text": [
      "100%|██████████| 1326/1326 [03:30<00:00,  6.29it/s, D_fake_mean=0.0933, D_real_mean=0.822, G_loss_mean=22.3, L1_mean=18.8]\n"
     ]
    },
    {
     "name": "stdout",
     "output_type": "stream",
     "text": [
      "\n",
      "\n",
      "Epoch: 15\n",
      "\n"
     ]
    },
    {
     "name": "stderr",
     "output_type": "stream",
     "text": [
      "100%|██████████| 1326/1326 [03:30<00:00,  6.29it/s, D_fake_mean=0.085, D_real_mean=0.824, G_loss_mean=22.4, L1_mean=18.7]\n"
     ]
    },
    {
     "name": "stdout",
     "output_type": "stream",
     "text": [
      "\n",
      "\n",
      "Epoch: 16\n",
      "\n"
     ]
    },
    {
     "name": "stderr",
     "output_type": "stream",
     "text": [
      "100%|██████████| 1326/1326 [03:31<00:00,  6.28it/s, D_fake_mean=0.101, D_real_mean=0.81, G_loss_mean=22, L1_mean=18.5]\n"
     ]
    },
    {
     "name": "stdout",
     "output_type": "stream",
     "text": [
      "\n",
      "\n",
      "Epoch: 17\n",
      "\n"
     ]
    },
    {
     "name": "stderr",
     "output_type": "stream",
     "text": [
      "100%|██████████| 1326/1326 [03:30<00:00,  6.29it/s, D_fake_mean=0.127, D_real_mean=0.783, G_loss_mean=21.4, L1_mean=18.3]\n"
     ]
    },
    {
     "name": "stdout",
     "output_type": "stream",
     "text": [
      "\n",
      "\n",
      "Epoch: 18\n",
      "\n"
     ]
    },
    {
     "name": "stderr",
     "output_type": "stream",
     "text": [
      "100%|██████████| 1326/1326 [03:31<00:00,  6.27it/s, D_fake_mean=0.121, D_real_mean=0.79, G_loss_mean=21.5, L1_mean=18.4]\n"
     ]
    },
    {
     "name": "stdout",
     "output_type": "stream",
     "text": [
      "\n",
      "\n",
      "Epoch: 19\n",
      "\n"
     ]
    },
    {
     "name": "stderr",
     "output_type": "stream",
     "text": [
      "100%|██████████| 1326/1326 [03:32<00:00,  6.25it/s, D_fake_mean=0.123, D_real_mean=0.783, G_loss_mean=21.4, L1_mean=18.4]\n"
     ]
    },
    {
     "name": "stdout",
     "output_type": "stream",
     "text": [
      "\n",
      "\n",
      "Epoch: 20\n",
      "\n"
     ]
    },
    {
     "name": "stderr",
     "output_type": "stream",
     "text": [
      "100%|██████████| 1326/1326 [03:31<00:00,  6.27it/s, D_fake_mean=0.125, D_real_mean=0.784, G_loss_mean=21.6, L1_mean=18.5]\n"
     ]
    },
    {
     "name": "stdout",
     "output_type": "stream",
     "text": [
      "=> Saving checkpoint\n",
      "=> Saving checkpoint\n",
      "\n",
      "\n",
      "Epoch: 21\n",
      "\n"
     ]
    },
    {
     "name": "stderr",
     "output_type": "stream",
     "text": [
      "100%|██████████| 1326/1326 [03:32<00:00,  6.23it/s, D_fake_mean=0.133, D_real_mean=0.775, G_loss_mean=21.1, L1_mean=18.2]\n"
     ]
    },
    {
     "name": "stdout",
     "output_type": "stream",
     "text": [
      "\n",
      "\n",
      "Epoch: 22\n",
      "\n"
     ]
    },
    {
     "name": "stderr",
     "output_type": "stream",
     "text": [
      "100%|██████████| 1326/1326 [03:33<00:00,  6.22it/s, D_fake_mean=0.0997, D_real_mean=0.818, G_loss_mean=22, L1_mean=18.6]\n"
     ]
    },
    {
     "name": "stdout",
     "output_type": "stream",
     "text": [
      "\n",
      "\n",
      "Epoch: 23\n",
      "\n"
     ]
    },
    {
     "name": "stderr",
     "output_type": "stream",
     "text": [
      "100%|██████████| 1326/1326 [03:32<00:00,  6.23it/s, D_fake_mean=0.0964, D_real_mean=0.811, G_loss_mean=22.2, L1_mean=18.6]\n"
     ]
    },
    {
     "name": "stdout",
     "output_type": "stream",
     "text": [
      "\n",
      "\n",
      "Epoch: 24\n",
      "\n"
     ]
    },
    {
     "name": "stderr",
     "output_type": "stream",
     "text": [
      "100%|██████████| 1326/1326 [03:32<00:00,  6.25it/s, D_fake_mean=0.131, D_real_mean=0.767, G_loss_mean=21.3, L1_mean=18.2]\n"
     ]
    },
    {
     "name": "stdout",
     "output_type": "stream",
     "text": [
      "\n",
      "\n",
      "Epoch: 25\n",
      "\n"
     ]
    },
    {
     "name": "stderr",
     "output_type": "stream",
     "text": [
      "100%|██████████| 1326/1326 [03:32<00:00,  6.23it/s, D_fake_mean=0.128, D_real_mean=0.774, G_loss_mean=21.2, L1_mean=18.2]\n"
     ]
    },
    {
     "name": "stdout",
     "output_type": "stream",
     "text": [
      "\n",
      "\n",
      "Epoch: 26\n",
      "\n"
     ]
    },
    {
     "name": "stderr",
     "output_type": "stream",
     "text": [
      "100%|██████████| 1326/1326 [03:32<00:00,  6.24it/s, D_fake_mean=0.14, D_real_mean=0.76, G_loss_mean=20.8, L1_mean=18]\n"
     ]
    },
    {
     "name": "stdout",
     "output_type": "stream",
     "text": [
      "\n",
      "\n",
      "Epoch: 27\n",
      "\n"
     ]
    },
    {
     "name": "stderr",
     "output_type": "stream",
     "text": [
      "100%|██████████| 1326/1326 [03:32<00:00,  6.24it/s, D_fake_mean=0.139, D_real_mean=0.761, G_loss_mean=20.6, L1_mean=17.9]\n"
     ]
    },
    {
     "name": "stdout",
     "output_type": "stream",
     "text": [
      "\n",
      "\n",
      "Epoch: 28\n",
      "\n"
     ]
    },
    {
     "name": "stderr",
     "output_type": "stream",
     "text": [
      "100%|██████████| 1326/1326 [03:33<00:00,  6.22it/s, D_fake_mean=0.156, D_real_mean=0.747, G_loss_mean=20.4, L1_mean=17.8]\n"
     ]
    },
    {
     "name": "stdout",
     "output_type": "stream",
     "text": [
      "\n",
      "\n",
      "Epoch: 29\n",
      "\n"
     ]
    },
    {
     "name": "stderr",
     "output_type": "stream",
     "text": [
      "100%|██████████| 1326/1326 [03:33<00:00,  6.22it/s, D_fake_mean=0.138, D_real_mean=0.764, G_loss_mean=20.6, L1_mean=17.8]\n"
     ]
    },
    {
     "name": "stdout",
     "output_type": "stream",
     "text": [
      "\n",
      "\n",
      "Epoch: 30\n",
      "\n"
     ]
    },
    {
     "name": "stderr",
     "output_type": "stream",
     "text": [
      "100%|██████████| 1326/1326 [03:32<00:00,  6.24it/s, D_fake_mean=0.133, D_real_mean=0.77, G_loss_mean=20.7, L1_mean=17.8]\n"
     ]
    },
    {
     "name": "stdout",
     "output_type": "stream",
     "text": [
      "=> Saving checkpoint\n",
      "=> Saving checkpoint\n"
     ]
    }
   ],
   "source": [
    "matplotlib.use('Agg') # This refrains matplot lib form showing the plotted resualts below the cell\n",
    "gen_model = main()"
   ]
  },
  {
   "cell_type": "code",
   "execution_count": 15,
   "id": "57bdf200",
   "metadata": {
    "execution": {
     "iopub.execute_input": "2023-04-15T17:02:27.865307Z",
     "iopub.status.busy": "2023-04-15T17:02:27.864721Z",
     "iopub.status.idle": "2023-04-15T17:02:27.871258Z",
     "shell.execute_reply": "2023-04-15T17:02:27.870230Z"
    },
    "papermill": {
     "duration": 2.481985,
     "end_time": "2023-04-15T17:02:27.873385",
     "exception": false,
     "start_time": "2023-04-15T17:02:25.391400",
     "status": "completed"
    },
    "tags": []
   },
   "outputs": [],
   "source": [
    "# transform = transforms.Compose([S2S1Normalize(),myToTensor(dtype=torch.float32)])\n",
    "# train_dataset = Sen12Dataset(s1_t1_dir=s1_t1_dir_train,\n",
    "#                              s2_t1_dir=s2_t1_dir_train,\n",
    "#                              s1_t2_dir=s1_t2_dir_train,\n",
    "#                              s2_t2_dir=s2_t2_dir_train,\n",
    "#                              transform=transform,\n",
    "#                              two_way=TWO_WAY_DATASET)\n",
    "# #plt.imshow(train_dataset[0][-1][0])\n",
    "\n",
    "# plt.imshow(torch.permute(train_dataset[123][4],(1,2,0))[:,:,0])\n",
    "# plt.colorbar()\n",
    "# plt.show()"
   ]
  },
  {
   "cell_type": "code",
   "execution_count": 16,
   "id": "0d291a43",
   "metadata": {
    "execution": {
     "iopub.execute_input": "2023-04-15T17:02:32.476019Z",
     "iopub.status.busy": "2023-04-15T17:02:32.475646Z",
     "iopub.status.idle": "2023-04-15T17:02:33.934582Z",
     "shell.execute_reply": "2023-04-15T17:02:33.933533Z"
    },
    "papermill": {
     "duration": 3.786669,
     "end_time": "2023-04-15T17:02:33.937317",
     "exception": false,
     "start_time": "2023-04-15T17:02:30.150648",
     "status": "completed"
    },
    "tags": []
   },
   "outputs": [],
   "source": [
    "transform = transforms.Compose([S2S1Normalize(),myToTensor()])\n",
    "test_dataset = Sen12Dataset(s1_t1_dir=s1_t1_dir_test,\n",
    "                            s2_t1_dir=s2_t1_dir_test,\n",
    "                            s1_t2_dir=s1_t2_dir_test,\n",
    "                            s2_t2_dir=s2_t2_dir_test,\n",
    "                            transform=transform,\n",
    "                            two_way=TWO_WAY_DATASET)\n",
    "test_loader = DataLoader(\n",
    "        test_dataset,\n",
    "        batch_size=BATCH_SIZE,\n",
    "        shuffle=False,\n",
    "        num_workers=NUM_WORKERS,\n",
    "    )"
   ]
  },
  {
   "cell_type": "code",
   "execution_count": 17,
   "id": "18736afc",
   "metadata": {
    "execution": {
     "iopub.execute_input": "2023-04-15T17:02:38.454512Z",
     "iopub.status.busy": "2023-04-15T17:02:38.454137Z",
     "iopub.status.idle": "2023-04-15T17:02:38.458799Z",
     "shell.execute_reply": "2023-04-15T17:02:38.457650Z"
    },
    "papermill": {
     "duration": 2.252605,
     "end_time": "2023-04-15T17:02:38.461473",
     "exception": false,
     "start_time": "2023-04-15T17:02:36.208868",
     "status": "completed"
    },
    "tags": []
   },
   "outputs": [],
   "source": [
    "# save_some_examples(gen_model, test_dataset, NUM_EPOCHS, folder=\"evaluation\",cm_input=INPUT_CHANGE_MAP, img_indx=2)"
   ]
  },
  {
   "cell_type": "code",
   "execution_count": 18,
   "id": "40632d2d",
   "metadata": {
    "execution": {
     "iopub.execute_input": "2023-04-15T17:02:43.537949Z",
     "iopub.status.busy": "2023-04-15T17:02:43.537577Z",
     "iopub.status.idle": "2023-04-15T17:02:43.550793Z",
     "shell.execute_reply": "2023-04-15T17:02:43.549876Z"
    },
    "papermill": {
     "duration": 2.308297,
     "end_time": "2023-04-15T17:02:43.552903",
     "exception": false,
     "start_time": "2023-04-15T17:02:41.244606",
     "status": "completed"
    },
    "tags": []
   },
   "outputs": [],
   "source": [
    "def eval_fn(gen, loader, ssim, psnr):\n",
    "    gen.eval()\n",
    "    loop = tqdm(loader, leave=True)\n",
    "    weighted_ssim_list = []\n",
    "    normal_ssim_list = []\n",
    "    weighted_psnr_list = []\n",
    "    normal_psnr_list = []\n",
    "    \n",
    "    for idx, (s2t2,s1t2,s2t1,s1t1,cm,rcm,s1cm) in enumerate(loop):\n",
    "        s2t2,s1t2,s2t1,s1t1,cm,rcm,s1cm = s2t2.to(DEVICE),s1t2.to(DEVICE),s2t1.to(DEVICE),s1t1.to(DEVICE),cm.to(DEVICE),rcm.to(DEVICE),s1cm.to(DEVICE)\n",
    "        s2t2,s1t2,s2t1,s1t1,cm,rcm,s1cm = s2t2.to(torch.float32),s1t2.to(torch.float32),s2t1.to(torch.float32),s1t1.to(torch.float32),cm.to(torch.float32),rcm.to(torch.float32),s1cm.to(torch.float32)\n",
    "        if INPUT_CHANGE_MAP:\n",
    "            s2t2 = torch.cat((s2t2, cm), dim=1)\n",
    "            s1t1 = torch.cat((s1t1, rcm), dim=1)\n",
    "        preds = gen(s2t2, s1t1)\n",
    "        \n",
    "        weighted_ssim = ssim((s1t2, preds), s1cm)\n",
    "        weighted_ssim_list.append(weighted_ssim)\n",
    "        normal_ssim = ssim((s1t2, preds))\n",
    "        normal_ssim_list.append(normal_ssim)\n",
    "        weighted_psnr = psnr((s1t2, preds), s1cm)\n",
    "        weighted_psnr_list.append(weighted_psnr)\n",
    "        normal_psnr = psnr((s1t2, preds))\n",
    "        normal_psnr_list.append(normal_psnr)\n",
    "\n",
    "\n",
    "        if idx % 10 == 0:\n",
    "            loop.set_postfix(\n",
    "                wssim_mean = torch.tensor(weighted_ssim_list).mean().item(),\n",
    "                ssim_mean = torch.tensor(normal_ssim_list).mean().item(),\n",
    "                wpsnr_mean = torch.tensor(weighted_psnr_list).mean().item(),\n",
    "                psnr_mean = torch.tensor(normal_psnr_list).mean().item(),\n",
    "            )\n",
    "    print(\"wssim_mean: \" , torch.tensor(weighted_ssim_list).mean().item())\n",
    "    print(\"ssim_mean: \" , torch.tensor(normal_ssim_list).mean().item())\n",
    "    print(\"wpsnr_mean: \" , torch.tensor(weighted_psnr_list).mean().item())\n",
    "    print(\"psnr_mean: \" , torch.tensor(normal_psnr_list).mean().item())"
   ]
  },
  {
   "cell_type": "code",
   "execution_count": 19,
   "id": "79b18583",
   "metadata": {
    "execution": {
     "iopub.execute_input": "2023-04-15T17:02:48.407100Z",
     "iopub.status.busy": "2023-04-15T17:02:48.406733Z",
     "iopub.status.idle": "2023-04-15T17:02:48.411973Z",
     "shell.execute_reply": "2023-04-15T17:02:48.410877Z"
    },
    "papermill": {
     "duration": 2.330111,
     "end_time": "2023-04-15T17:02:48.414001",
     "exception": false,
     "start_time": "2023-04-15T17:02:46.083890",
     "status": "completed"
    },
    "tags": []
   },
   "outputs": [],
   "source": [
    "from eval_metrics import ssim\n",
    "from eval_metrics.psnr import wpsnr\n",
    "wssim = ssim.WSSIM(data_range=1.0)"
   ]
  },
  {
   "cell_type": "code",
   "execution_count": 20,
   "id": "925c19b5",
   "metadata": {
    "execution": {
     "iopub.execute_input": "2023-04-15T17:02:53.230004Z",
     "iopub.status.busy": "2023-04-15T17:02:53.229647Z",
     "iopub.status.idle": "2023-04-15T17:05:53.735666Z",
     "shell.execute_reply": "2023-04-15T17:05:53.734281Z"
    },
    "papermill": {
     "duration": 182.820094,
     "end_time": "2023-04-15T17:05:53.741969",
     "exception": false,
     "start_time": "2023-04-15T17:02:50.921875",
     "status": "completed"
    },
    "tags": []
   },
   "outputs": [
    {
     "name": "stderr",
     "output_type": "stream",
     "text": [
      "100%|██████████| 677/677 [03:00<00:00,  3.75it/s, psnr_mean=14.5, ssim_mean=0.352, wpsnr_mean=11.9, wssim_mean=0.298]"
     ]
    },
    {
     "name": "stdout",
     "output_type": "stream",
     "text": [
      "wssim_mean:  0.2972009778022766\n",
      "ssim_mean:  0.35103586316108704\n",
      "wpsnr_mean:  11.855791091918945\n",
      "psnr_mean:  14.514896392822266\n"
     ]
    },
    {
     "name": "stderr",
     "output_type": "stream",
     "text": [
      "\n"
     ]
    }
   ],
   "source": [
    "eval_fn(gen_model, test_loader, wssim, wpsnr)"
   ]
  },
  {
   "cell_type": "code",
   "execution_count": 21,
   "id": "d3bf19d1",
   "metadata": {
    "execution": {
     "iopub.execute_input": "2023-04-15T17:05:58.307988Z",
     "iopub.status.busy": "2023-04-15T17:05:58.307508Z",
     "iopub.status.idle": "2023-04-15T17:05:58.312406Z",
     "shell.execute_reply": "2023-04-15T17:05:58.311300Z"
    },
    "papermill": {
     "duration": 2.276195,
     "end_time": "2023-04-15T17:05:58.314622",
     "exception": false,
     "start_time": "2023-04-15T17:05:56.038427",
     "status": "completed"
    },
    "tags": []
   },
   "outputs": [],
   "source": [
    "# save_some_examples(gen_model, test_dataset, 10, folder=\"evaluation\",cm_input=INPUT_CHANGE_MAP, img_indx=2)"
   ]
  },
  {
   "cell_type": "code",
   "execution_count": 22,
   "id": "d46fd92d",
   "metadata": {
    "execution": {
     "iopub.execute_input": "2023-04-15T17:06:02.967222Z",
     "iopub.status.busy": "2023-04-15T17:06:02.966838Z",
     "iopub.status.idle": "2023-04-15T17:06:08.682920Z",
     "shell.execute_reply": "2023-04-15T17:06:08.681711Z"
    },
    "papermill": {
     "duration": 8.089435,
     "end_time": "2023-04-15T17:06:08.685235",
     "exception": false,
     "start_time": "2023-04-15T17:06:00.595800",
     "status": "completed"
    },
    "tags": []
   },
   "outputs": [
    {
     "name": "stdout",
     "output_type": "stream",
     "text": [
      "  adding: kaggle/working/evaluation_plots/ (stored 0%)\r\n",
      "  adding: kaggle/working/evaluation_plots/epoc_1_img1.png (deflated 2%)\r\n",
      "  adding: kaggle/working/evaluation_plots/epoc_8_img1.png (deflated 2%)\r\n",
      "  adding: kaggle/working/evaluation_plots/epoc_12_img128.png (deflated 2%)\r\n",
      "  adding: kaggle/working/evaluation_plots/epoc_5_img128.png (deflated 2%)\r\n",
      "  adding: kaggle/working/evaluation_plots/epoc_15_img1.png (deflated 2%)\r\n",
      "  adding: kaggle/working/evaluation_plots/epoc_7_img1024.png (deflated 2%)\r\n",
      "  adding: kaggle/working/evaluation_plots/epoc_3_img1024.png (deflated 2%)\r\n",
      "  adding: kaggle/working/evaluation_plots/epoc_8_img512.png (deflated 2%)\r\n",
      "  adding: kaggle/working/evaluation_plots/epoc_10_img128.png (deflated 2%)\r\n",
      "  adding: kaggle/working/evaluation_plots/epoc_5_img1.png (deflated 2%)\r\n",
      "  adding: kaggle/working/evaluation_plots/epoc_13_img1024.png (deflated 2%)\r\n",
      "  adding: kaggle/working/evaluation_plots/epoc_4_img128.png (deflated 2%)\r\n",
      "  adding: kaggle/working/evaluation_plots/epoc_28_img1024.png (deflated 2%)\r\n",
      "  adding: kaggle/working/evaluation_plots/epoc_27_img32.png (deflated 2%)\r\n",
      "  adding: kaggle/working/evaluation_plots/epoc_2_img64.png (deflated 2%)\r\n",
      "  adding: kaggle/working/evaluation_plots/epoc_8_img128.png (deflated 2%)\r\n",
      "  adding: kaggle/working/evaluation_plots/epoc_7_img32.png (deflated 2%)\r\n",
      "  adding: kaggle/working/evaluation_plots/epoc_21_img1024.png (deflated 2%)\r\n",
      "  adding: kaggle/working/evaluation_plots/epoc_23_img32.png (deflated 2%)\r\n",
      "  adding: kaggle/working/evaluation_plots/epoc_20_img256.png (deflated 2%)\r\n",
      "  adding: kaggle/working/evaluation_plots/epoc_17_img128.png (deflated 2%)\r\n",
      "  adding: kaggle/working/evaluation_plots/epoc_14_img64.png (deflated 2%)\r\n",
      "  adding: kaggle/working/evaluation_plots/epoc_10_img1.png (deflated 2%)\r\n",
      "  adding: kaggle/working/evaluation_plots/epoc_22_img128.png (deflated 2%)\r\n",
      "  adding: kaggle/working/evaluation_plots/epoc_30_img128.png (deflated 2%)\r\n",
      "  adding: kaggle/working/evaluation_plots/epoc_23_img1.png (deflated 2%)\r\n",
      "  adding: kaggle/working/evaluation_plots/epoc_6_img1.png (deflated 2%)\r\n",
      "  adding: kaggle/working/evaluation_plots/epoc_15_img64.png (deflated 2%)\r\n",
      "  adding: kaggle/working/evaluation_plots/epoc_4_img512.png (deflated 2%)\r\n",
      "  adding: kaggle/working/evaluation_plots/epoc_12_img1.png (deflated 2%)\r\n",
      "  adding: kaggle/working/evaluation_plots/epoc_24_img1.png (deflated 2%)\r\n",
      "  adding: kaggle/working/evaluation_plots/epoc_24_img64.png (deflated 2%)\r\n",
      "  adding: kaggle/working/evaluation_plots/epoc_15_img256.png (deflated 2%)\r\n",
      "  adding: kaggle/working/evaluation_plots/epoc_8_img256.png (deflated 2%)\r\n",
      "  adding: kaggle/working/evaluation_plots/epoc_13_img512.png (deflated 2%)\r\n",
      "  adding: kaggle/working/evaluation_plots/epoc_14_img512.png (deflated 2%)\r\n",
      "  adding: kaggle/working/evaluation_plots/epoc_17_img256.png (deflated 2%)\r\n",
      "  adding: kaggle/working/evaluation_plots/epoc_4_img32.png (deflated 2%)\r\n",
      "  adding: kaggle/working/evaluation_plots/epoc_17_img64.png (deflated 2%)\r\n",
      "  adding: kaggle/working/evaluation_plots/epoc_25_img128.png (deflated 2%)\r\n",
      "  adding: kaggle/working/evaluation_plots/epoc_20_img32.png (deflated 2%)\r\n",
      "  adding: kaggle/working/evaluation_plots/epoc_24_img32.png (deflated 2%)\r\n",
      "  adding: kaggle/working/evaluation_plots/epoc_6_img1024.png (deflated 2%)\r\n",
      "  adding: kaggle/working/evaluation_plots/epoc_3_img256.png (deflated 2%)\r\n",
      "  adding: kaggle/working/evaluation_plots/epoc_9_img32.png (deflated 2%)\r\n",
      "  adding: kaggle/working/evaluation_plots/epoc_10_img64.png (deflated 3%)\r\n",
      "  adding: kaggle/working/evaluation_plots/epoc_27_img512.png (deflated 2%)\r\n",
      "  adding: kaggle/working/evaluation_plots/epoc_21_img64.png (deflated 2%)\r\n",
      "  adding: kaggle/working/evaluation_plots/epoc_21_img32.png (deflated 2%)\r\n",
      "  adding: kaggle/working/evaluation_plots/epoc_1_img64.png (deflated 2%)\r\n",
      "  adding: kaggle/working/evaluation_plots/epoc_30_img1.png (deflated 2%)\r\n",
      "  adding: kaggle/working/evaluation_plots/epoc_21_img256.png (deflated 2%)\r\n",
      "  adding: kaggle/working/evaluation_plots/epoc_10_img1024.png (deflated 2%)\r\n",
      "  adding: kaggle/working/evaluation_plots/epoc_6_img128.png (deflated 2%)\r\n",
      "  adding: kaggle/working/evaluation_plots/epoc_12_img256.png (deflated 2%)\r\n",
      "  adding: kaggle/working/evaluation_plots/epoc_29_img1024.png (deflated 2%)\r\n",
      "  adding: kaggle/working/evaluation_plots/epoc_22_img1024.png (deflated 2%)\r\n",
      "  adding: kaggle/working/evaluation_plots/epoc_12_img32.png (deflated 2%)\r\n",
      "  adding: kaggle/working/evaluation_plots/epoc_17_img32.png (deflated 2%)\r\n",
      "  adding: kaggle/working/evaluation_plots/epoc_28_img512.png (deflated 2%)\r\n",
      "  adding: kaggle/working/evaluation_plots/epoc_29_img1.png (deflated 2%)\r\n",
      "  adding: kaggle/working/evaluation_plots/epoc_15_img1024.png (deflated 2%)\r\n",
      "  adding: kaggle/working/evaluation_plots/epoc_5_img64.png (deflated 4%)\r\n",
      "  adding: kaggle/working/evaluation_plots/epoc_13_img1.png (deflated 2%)\r\n",
      "  adding: kaggle/working/evaluation_plots/epoc_7_img128.png (deflated 2%)\r\n",
      "  adding: kaggle/working/evaluation_plots/epoc_11_img1.png (deflated 2%)\r\n",
      "  adding: kaggle/working/evaluation_plots/epoc_21_img512.png (deflated 2%)\r\n",
      "  adding: kaggle/working/evaluation_plots/epoc_6_img256.png (deflated 2%)\r\n",
      "  adding: kaggle/working/evaluation_plots/epoc_11_img512.png (deflated 2%)\r\n",
      "  adding: kaggle/working/evaluation_plots/epoc_1_img256.png (deflated 2%)\r\n",
      "  adding: kaggle/working/evaluation_plots/epoc_29_img32.png (deflated 2%)\r\n",
      "  adding: kaggle/working/evaluation_plots/epoc_9_img512.png (deflated 2%)\r\n",
      "  adding: kaggle/working/evaluation_plots/epoc_18_img256.png (deflated 2%)\r\n",
      "  adding: kaggle/working/evaluation_plots/epoc_17_img512.png (deflated 2%)\r\n",
      "  adding: kaggle/working/evaluation_plots/epoc_26_img1024.png (deflated 2%)\r\n",
      "  adding: kaggle/working/evaluation_plots/epoc_23_img64.png (deflated 2%)\r\n",
      "  adding: kaggle/working/evaluation_plots/epoc_22_img256.png (deflated 2%)\r\n",
      "  adding: kaggle/working/evaluation_plots/epoc_16_img512.png (deflated 2%)\r\n",
      "  adding: kaggle/working/evaluation_plots/epoc_26_img128.png (deflated 2%)\r\n",
      "  adding: kaggle/working/evaluation_plots/epoc_13_img64.png (deflated 2%)\r\n",
      "  adding: kaggle/working/evaluation_plots/epoc_25_img256.png (deflated 2%)\r\n",
      "  adding: kaggle/working/evaluation_plots/epoc_14_img256.png (deflated 2%)\r\n",
      "  adding: kaggle/working/evaluation_plots/epoc_23_img256.png (deflated 2%)\r\n",
      "  adding: kaggle/working/evaluation_plots/epoc_9_img64.png (deflated 2%)\r\n",
      "  adding: kaggle/working/evaluation_plots/epoc_23_img512.png (deflated 2%)\r\n",
      "  adding: kaggle/working/evaluation_plots/epoc_26_img32.png (deflated 2%)\r\n",
      "  adding: kaggle/working/evaluation_plots/epoc_24_img128.png (deflated 2%)\r\n",
      "  adding: kaggle/working/evaluation_plots/epoc_20_img512.png (deflated 2%)\r\n",
      "  adding: kaggle/working/evaluation_plots/epoc_7_img512.png (deflated 2%)\r\n",
      "  adding: kaggle/working/evaluation_plots/epoc_24_img512.png (deflated 2%)\r\n",
      "  adding: kaggle/working/evaluation_plots/epoc_19_img256.png (deflated 2%)\r\n",
      "  adding: kaggle/working/evaluation_plots/epoc_19_img1.png (deflated 2%)\r\n",
      "  adding: kaggle/working/evaluation_plots/epoc_12_img1024.png (deflated 2%)\r\n",
      "  adding: kaggle/working/evaluation_plots/epoc_8_img32.png (deflated 2%)\r\n",
      "  adding: kaggle/working/evaluation_plots/epoc_26_img512.png (deflated 2%)\r\n",
      "  adding: kaggle/working/evaluation_plots/epoc_8_img1024.png (deflated 2%)\r\n",
      "  adding: kaggle/working/evaluation_plots/epoc_10_img512.png (deflated 2%)\r\n",
      "  adding: kaggle/working/evaluation_plots/epoc_29_img128.png (deflated 2%)\r\n",
      "  adding: kaggle/working/evaluation_plots/epoc_14_img32.png (deflated 2%)\r\n",
      "  adding: kaggle/working/evaluation_plots/epoc_15_img512.png (deflated 2%)\r\n",
      "  adding: kaggle/working/evaluation_plots/epoc_28_img256.png (deflated 2%)\r\n",
      "  adding: kaggle/working/evaluation_plots/epoc_28_img128.png (deflated 2%)\r\n",
      "  adding: kaggle/working/evaluation_plots/epoc_14_img128.png (deflated 2%)\r\n",
      "  adding: kaggle/working/evaluation_plots/epoc_8_img64.png (deflated 2%)\r\n",
      "  adding: kaggle/working/evaluation_plots/epoc_2_img1.png (deflated 2%)\r\n",
      "  adding: kaggle/working/evaluation_plots/epoc_4_img1.png (deflated 2%)\r\n",
      "  adding: kaggle/working/evaluation_plots/epoc_29_img64.png (deflated 2%)\r\n",
      "  adding: kaggle/working/evaluation_plots/epoc_25_img1.png (deflated 2%)\r\n",
      "  adding: kaggle/working/evaluation_plots/epoc_18_img128.png (deflated 2%)\r\n",
      "  adding: kaggle/working/evaluation_plots/epoc_2_img128.png (deflated 2%)\r\n",
      "  adding: kaggle/working/evaluation_plots/epoc_7_img64.png (deflated 4%)\r\n",
      "  adding: kaggle/working/evaluation_plots/epoc_4_img64.png (deflated 2%)\r\n",
      "  adding: kaggle/working/evaluation_plots/epoc_28_img1.png (deflated 2%)\r\n",
      "  adding: kaggle/working/evaluation_plots/epoc_11_img1024.png (deflated 2%)\r\n",
      "  adding: kaggle/working/evaluation_plots/epoc_16_img128.png (deflated 2%)\r\n",
      "  adding: kaggle/working/evaluation_plots/epoc_9_img1.png (deflated 2%)\r\n",
      "  adding: kaggle/working/evaluation_plots/epoc_29_img512.png (deflated 2%)\r\n",
      "  adding: kaggle/working/evaluation_plots/epoc_20_img64.png (deflated 2%)\r\n",
      "  adding: kaggle/working/evaluation_plots/epoc_12_img512.png (deflated 2%)\r\n",
      "  adding: kaggle/working/evaluation_plots/epoc_4_img256.png (deflated 1%)\r\n",
      "  adding: kaggle/working/evaluation_plots/epoc_12_img64.png (deflated 2%)\r\n",
      "  adding: kaggle/working/evaluation_plots/epoc_30_img64.png (deflated 2%)\r\n",
      "  adding: kaggle/working/evaluation_plots/epoc_1_img32.png (deflated 2%)\r\n",
      "  adding: kaggle/working/evaluation_plots/epoc_24_img256.png (deflated 2%)\r\n",
      "  adding: kaggle/working/evaluation_plots/epoc_25_img64.png (deflated 2%)\r\n",
      "  adding: kaggle/working/evaluation_plots/epoc_18_img512.png (deflated 1%)\r\n",
      "  adding: kaggle/working/evaluation_plots/epoc_18_img1.png (deflated 2%)\r\n",
      "  adding: kaggle/working/evaluation_plots/epoc_2_img32.png (deflated 2%)\r\n",
      "  adding: kaggle/working/evaluation_plots/epoc_10_img32.png (deflated 2%)\r\n",
      "  adding: kaggle/working/evaluation_plots/epoc_1_img512.png (deflated 2%)\r\n",
      "  adding: kaggle/working/evaluation_plots/epoc_27_img1024.png (deflated 2%)\r\n",
      "  adding: kaggle/working/evaluation_plots/epoc_25_img32.png (deflated 2%)\r\n",
      "  adding: kaggle/working/evaluation_plots/epoc_5_img1024.png (deflated 2%)\r\n",
      "  adding: kaggle/working/evaluation_plots/epoc_19_img64.png (deflated 2%)\r\n",
      "  adding: kaggle/working/evaluation_plots/epoc_28_img64.png (deflated 3%)\r\n",
      "  adding: kaggle/working/evaluation_plots/epoc_22_img64.png (deflated 2%)\r\n",
      "  adding: kaggle/working/evaluation_plots/epoc_24_img1024.png (deflated 3%)\r\n",
      "  adding: kaggle/working/evaluation_plots/epoc_30_img512.png (deflated 2%)\r\n",
      "  adding: kaggle/working/evaluation_plots/epoc_3_img64.png (deflated 2%)\r\n",
      "  adding: kaggle/working/evaluation_plots/epoc_30_img32.png (deflated 2%)\r\n",
      "  adding: kaggle/working/evaluation_plots/epoc_1_img128.png (deflated 2%)\r\n",
      "  adding: kaggle/working/evaluation_plots/epoc_5_img512.png (deflated 2%)\r\n",
      "  adding: kaggle/working/evaluation_plots/epoc_19_img512.png (deflated 2%)\r\n",
      "  adding: kaggle/working/evaluation_plots/epoc_27_img64.png (deflated 2%)\r\n",
      "  adding: kaggle/working/evaluation_plots/epoc_11_img64.png (deflated 2%)\r\n",
      "  adding: kaggle/working/evaluation_plots/epoc_6_img32.png (deflated 2%)\r\n",
      "  adding: kaggle/working/evaluation_plots/epoc_16_img32.png (deflated 2%)\r\n",
      "  adding: kaggle/working/evaluation_plots/epoc_25_img512.png (deflated 2%)\r\n",
      "  adding: kaggle/working/evaluation_plots/epoc_3_img32.png (deflated 2%)\r\n",
      "  adding: kaggle/working/evaluation_plots/epoc_26_img64.png (deflated 2%)\r\n",
      "  adding: kaggle/working/evaluation_plots/epoc_23_img128.png (deflated 2%)\r\n",
      "  adding: kaggle/working/evaluation_plots/epoc_11_img128.png (deflated 2%)\r\n",
      "  adding: kaggle/working/evaluation_plots/epoc_16_img1.png (deflated 2%)\r\n",
      "  adding: kaggle/working/evaluation_plots/epoc_6_img512.png (deflated 2%)\r\n",
      "  adding: kaggle/working/evaluation_plots/epoc_16_img256.png (deflated 2%)\r\n",
      "  adding: kaggle/working/evaluation_plots/epoc_20_img1.png (deflated 2%)\r\n",
      "  adding: kaggle/working/evaluation_plots/epoc_3_img128.png (deflated 2%)\r\n",
      "  adding: kaggle/working/evaluation_plots/epoc_4_img1024.png (deflated 2%)\r\n",
      "  adding: kaggle/working/evaluation_plots/epoc_22_img1.png (deflated 2%)\r\n",
      "  adding: kaggle/working/evaluation_plots/epoc_2_img512.png (deflated 2%)\r\n",
      "  adding: kaggle/working/evaluation_plots/epoc_7_img256.png (deflated 2%)\r\n",
      "  adding: kaggle/working/evaluation_plots/epoc_2_img1024.png (deflated 2%)\r\n",
      "  adding: kaggle/working/evaluation_plots/epoc_13_img256.png (deflated 2%)\r\n",
      "  adding: kaggle/working/evaluation_plots/epoc_18_img1024.png (deflated 2%)\r\n",
      "  adding: kaggle/working/evaluation_plots/epoc_5_img32.png (deflated 3%)\r\n",
      "  adding: kaggle/working/evaluation_plots/epoc_30_img256.png (deflated 2%)\r\n",
      "  adding: kaggle/working/evaluation_plots/epoc_9_img256.png (deflated 2%)\r\n",
      "  adding: kaggle/working/evaluation_plots/epoc_27_img256.png (deflated 2%)\r\n",
      "  adding: kaggle/working/evaluation_plots/epoc_14_img1024.png (deflated 2%)\r\n",
      "  adding: kaggle/working/evaluation_plots/epoc_20_img1024.png (deflated 2%)\r\n",
      "  adding: kaggle/working/evaluation_plots/epoc_2_img256.png (deflated 2%)\r\n",
      "  adding: kaggle/working/evaluation_plots/epoc_26_img1.png (deflated 2%)\r\n",
      "  adding: kaggle/working/evaluation_plots/epoc_16_img1024.png (deflated 2%)\r\n",
      "  adding: kaggle/working/evaluation_plots/epoc_9_img128.png (deflated 2%)\r\n",
      "  adding: kaggle/working/evaluation_plots/epoc_22_img512.png (deflated 2%)\r\n",
      "  adding: kaggle/working/evaluation_plots/epoc_18_img32.png (deflated 2%)\r\n",
      "  adding: kaggle/working/evaluation_plots/epoc_7_img1.png (deflated 2%)\r\n",
      "  adding: kaggle/working/evaluation_plots/epoc_14_img1.png (deflated 2%)\r\n",
      "  adding: kaggle/working/evaluation_plots/epoc_19_img128.png (deflated 2%)\r\n",
      "  adding: kaggle/working/evaluation_plots/epoc_30_img1024.png (deflated 2%)\r\n",
      "  adding: kaggle/working/evaluation_plots/epoc_26_img256.png (deflated 2%)\r\n",
      "  adding: kaggle/working/evaluation_plots/epoc_19_img32.png (deflated 2%)\r\n",
      "  adding: kaggle/working/evaluation_plots/epoc_11_img256.png (deflated 2%)\r\n",
      "  adding: kaggle/working/evaluation_plots/epoc_3_img1.png (deflated 2%)\r\n",
      "  adding: kaggle/working/evaluation_plots/epoc_9_img1024.png (deflated 2%)\r\n",
      "  adding: kaggle/working/evaluation_plots/epoc_13_img128.png (deflated 2%)\r\n",
      "  adding: kaggle/working/evaluation_plots/epoc_5_img256.png (deflated 2%)\r\n",
      "  adding: kaggle/working/evaluation_plots/epoc_20_img128.png (deflated 2%)\r\n",
      "  adding: kaggle/working/evaluation_plots/epoc_11_img32.png (deflated 2%)\r\n",
      "  adding: kaggle/working/evaluation_plots/epoc_29_img256.png (deflated 2%)\r\n",
      "  adding: kaggle/working/evaluation_plots/epoc_21_img128.png (deflated 2%)\r\n",
      "  adding: kaggle/working/evaluation_plots/epoc_17_img1024.png (deflated 2%)\r\n",
      "  adding: kaggle/working/evaluation_plots/epoc_22_img32.png (deflated 2%)\r\n",
      "  adding: kaggle/working/evaluation_plots/epoc_18_img64.png (deflated 2%)\r\n",
      "  adding: kaggle/working/evaluation_plots/epoc_28_img32.png (deflated 2%)\r\n",
      "  adding: kaggle/working/evaluation_plots/epoc_27_img1.png (deflated 2%)\r\n",
      "  adding: kaggle/working/evaluation_plots/epoc_3_img512.png (deflated 1%)\r\n",
      "  adding: kaggle/working/evaluation_plots/epoc_27_img128.png (deflated 2%)\r\n",
      "  adding: kaggle/working/evaluation_plots/epoc_19_img1024.png (deflated 2%)\r\n",
      "  adding: kaggle/working/evaluation_plots/epoc_15_img128.png (deflated 2%)\r\n",
      "  adding: kaggle/working/evaluation_plots/epoc_1_img1024.png (deflated 2%)\r\n",
      "  adding: kaggle/working/evaluation_plots/epoc_17_img1.png (deflated 2%)\r\n",
      "  adding: kaggle/working/evaluation_plots/epoc_16_img64.png (deflated 2%)\r\n",
      "  adding: kaggle/working/evaluation_plots/epoc_21_img1.png (deflated 2%)\r\n",
      "  adding: kaggle/working/evaluation_plots/epoc_10_img256.png (deflated 2%)\r\n",
      "  adding: kaggle/working/evaluation_plots/epoc_15_img32.png (deflated 2%)\r\n",
      "  adding: kaggle/working/evaluation_plots/epoc_6_img64.png (deflated 4%)\r\n",
      "  adding: kaggle/working/evaluation_plots/epoc_13_img32.png (deflated 2%)\r\n",
      "  adding: kaggle/working/evaluation_plots/epoc_23_img1024.png (deflated 2%)\r\n",
      "  adding: kaggle/working/evaluation_plots/epoc_25_img1024.png (deflated 2%)\r\n"
     ]
    }
   ],
   "source": [
    "!zip -r /kaggle/working/evalplot.zip  /kaggle/working/evaluation_plots/"
   ]
  },
  {
   "cell_type": "code",
   "execution_count": 23,
   "id": "3b2ad72a",
   "metadata": {
    "execution": {
     "iopub.execute_input": "2023-04-15T17:06:13.335839Z",
     "iopub.status.busy": "2023-04-15T17:06:13.335304Z",
     "iopub.status.idle": "2023-04-15T17:06:13.342780Z",
     "shell.execute_reply": "2023-04-15T17:06:13.341759Z"
    },
    "papermill": {
     "duration": 2.369155,
     "end_time": "2023-04-15T17:06:13.344957",
     "exception": false,
     "start_time": "2023-04-15T17:06:10.975802",
     "status": "completed"
    },
    "tags": []
   },
   "outputs": [
    {
     "data": {
      "text/html": [
       "<a href='/kaggle/working/evalplot.zip' target='_blank'>/kaggle/working/evalplot.zip</a><br>"
      ],
      "text/plain": [
       "/kaggle/working/evalplot.zip"
      ]
     },
     "execution_count": 23,
     "metadata": {},
     "output_type": "execute_result"
    }
   ],
   "source": [
    "from IPython.display import FileLink\n",
    "FileLink(r'/kaggle/working/evalplot.zip')"
   ]
  },
  {
   "cell_type": "code",
   "execution_count": null,
   "id": "7a8ecb48",
   "metadata": {
    "papermill": {
     "duration": 2.281136,
     "end_time": "2023-04-15T17:06:18.001576",
     "exception": false,
     "start_time": "2023-04-15T17:06:15.720440",
     "status": "completed"
    },
    "tags": []
   },
   "outputs": [],
   "source": []
  }
 ],
 "metadata": {
  "kernelspec": {
   "display_name": "Python 3",
   "language": "python",
   "name": "python3"
  },
  "language_info": {
   "codemirror_mode": {
    "name": "ipython",
    "version": 3
   },
   "file_extension": ".py",
   "mimetype": "text/x-python",
   "name": "python",
   "nbconvert_exporter": "python",
   "pygments_lexer": "ipython3",
   "version": "3.7.12"
  },
  "papermill": {
   "default_parameters": {},
   "duration": 6796.484045,
   "end_time": "2023-04-15T17:06:23.559137",
   "environment_variables": {},
   "exception": null,
   "input_path": "__notebook__.ipynb",
   "output_path": "__notebook__.ipynb",
   "parameters": {},
   "start_time": "2023-04-15T15:13:07.075092",
   "version": "2.4.0"
  }
 },
 "nbformat": 4,
 "nbformat_minor": 5
}
