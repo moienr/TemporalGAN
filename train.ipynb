{
 "cells": [
  {
   "cell_type": "code",
   "execution_count": 1,
   "id": "bba2199c",
   "metadata": {
    "execution": {
     "iopub.execute_input": "2023-04-30T14:55:45.658150Z",
     "iopub.status.busy": "2023-04-30T14:55:45.657687Z",
     "iopub.status.idle": "2023-04-30T14:55:45.676476Z",
     "shell.execute_reply": "2023-04-30T14:55:45.675473Z"
    },
    "papermill": {
     "duration": 0.04011,
     "end_time": "2023-04-30T14:55:45.678691",
     "exception": false,
     "start_time": "2023-04-30T14:55:45.638581",
     "status": "completed"
    },
    "tags": []
   },
   "outputs": [
    {
     "data": {
      "text/plain": [
       "False"
      ]
     },
     "execution_count": 1,
     "metadata": {},
     "output_type": "execute_result"
    }
   ],
   "source": [
    "import os\n",
    "IN_KAGGLE = 'KAGGLE_URL_BASE' in os.environ\n",
    "IN_KAGGLE"
   ]
  },
  {
   "cell_type": "code",
   "execution_count": 2,
   "id": "9947f833",
   "metadata": {
    "execution": {
     "iopub.execute_input": "2023-04-30T14:55:45.692858Z",
     "iopub.status.busy": "2023-04-30T14:55:45.691938Z",
     "iopub.status.idle": "2023-04-30T14:55:51.413394Z",
     "shell.execute_reply": "2023-04-30T14:55:51.412198Z"
    },
    "papermill": {
     "duration": 5.731111,
     "end_time": "2023-04-30T14:55:51.416099",
     "exception": false,
     "start_time": "2023-04-30T14:55:45.684988",
     "status": "completed"
    },
    "tags": []
   },
   "outputs": [],
   "source": [
    "if IN_KAGGLE:\n",
    "    from kaggle_secrets import UserSecretsClient\n",
    "    user_secrets = UserSecretsClient()\n",
    "    secret_value = user_secrets.get_secret(\"gittoken2\")\n",
    "\n",
    "    !git clone https://{secret_value}@github.com/moienr/TemporalGAN.git"
   ]
  },
  {
   "cell_type": "code",
   "execution_count": 3,
   "id": "077022a0",
   "metadata": {
    "execution": {
     "iopub.execute_input": "2023-04-30T14:55:51.433606Z",
     "iopub.status.busy": "2023-04-30T14:55:51.432629Z",
     "iopub.status.idle": "2023-04-30T14:55:51.441277Z",
     "shell.execute_reply": "2023-04-30T14:55:51.440340Z"
    },
    "papermill": {
     "duration": 0.019579,
     "end_time": "2023-04-30T14:55:51.443391",
     "exception": false,
     "start_time": "2023-04-30T14:55:51.423812",
     "status": "completed"
    },
    "tags": []
   },
   "outputs": [],
   "source": [
    "if IN_KAGGLE:\n",
    "    import time\n",
    "    import os\n",
    "    sleep_time = 5\n",
    "    while not os.path.exists(\"/kaggle/working/TemporalGAN\"):\n",
    "        print(\"didn't find the path, wating {sleep_time} more seconds...\")\n",
    "        time.sleep(sleep_time)\n",
    "    print(\"path found...\")\n",
    "    import sys\n",
    "    sys.path.append(\"/kaggle/working/TemporalGAN\")"
   ]
  },
  {
   "cell_type": "code",
   "execution_count": 4,
   "id": "c3f610ad",
   "metadata": {
    "execution": {
     "iopub.execute_input": "2023-04-30T14:55:51.459171Z",
     "iopub.status.busy": "2023-04-30T14:55:51.458891Z",
     "iopub.status.idle": "2023-04-30T14:55:53.538689Z",
     "shell.execute_reply": "2023-04-30T14:55:53.537693Z"
    },
    "papermill": {
     "duration": 2.090241,
     "end_time": "2023-04-30T14:55:53.540993",
     "exception": false,
     "start_time": "2023-04-30T14:55:51.450752",
     "status": "completed"
    },
    "tags": []
   },
   "outputs": [
    {
     "name": "stderr",
     "output_type": "stream",
     "text": [
      "c:\\Users\\moi3n\\miniconda3\\envs\\pytorchGPU\\lib\\site-packages\\tqdm\\auto.py:21: TqdmWarning: IProgress not found. Please update jupyter and ipywidgets. See https://ipywidgets.readthedocs.io/en/stable/user_install.html\n",
      "  from .autonotebook import tqdm as notebook_tqdm\n"
     ]
    },
    {
     "data": {
      "text/plain": [
       "'1.13.1'"
      ]
     },
     "execution_count": 4,
     "metadata": {},
     "output_type": "execute_result"
    }
   ],
   "source": [
    "import torch\n",
    "torch.__version__"
   ]
  },
  {
   "cell_type": "code",
   "execution_count": 5,
   "id": "8823446a",
   "metadata": {
    "execution": {
     "iopub.execute_input": "2023-04-30T14:55:53.558852Z",
     "iopub.status.busy": "2023-04-30T14:55:53.557476Z",
     "iopub.status.idle": "2023-04-30T14:55:54.218333Z",
     "shell.execute_reply": "2023-04-30T14:55:54.217377Z"
    },
    "papermill": {
     "duration": 0.672011,
     "end_time": "2023-04-30T14:55:54.220732",
     "exception": false,
     "start_time": "2023-04-30T14:55:53.548721",
     "status": "completed"
    },
    "tags": []
   },
   "outputs": [
    {
     "data": {
      "text/plain": [
       "20"
      ]
     },
     "execution_count": 5,
     "metadata": {},
     "output_type": "execute_result"
    }
   ],
   "source": [
    "import numpy as np\n",
    "from torch.utils.data import Dataset\n",
    "from glob import glob\n",
    "from skimage import io\n",
    "import os\n",
    "from torchvision import datasets, transforms\n",
    "import matplotlib\n",
    "import os\n",
    "import gc\n",
    "import random\n",
    "from datetime import date, datetime\n",
    "import json\n",
    "\n",
    "os.cpu_count()"
   ]
  },
  {
   "cell_type": "code",
   "execution_count": 6,
   "id": "aa919ac3",
   "metadata": {},
   "outputs": [],
   "source": [
    "# create a folder called 'results' in the current directory if it doesn't exist\n",
    "if not os.path.exists('results'):\n",
    "    os.mkdir('results')"
   ]
  },
  {
   "cell_type": "code",
   "execution_count": 7,
   "id": "c37ac144",
   "metadata": {},
   "outputs": [
    {
     "name": "stdout",
     "output_type": "stream",
     "text": [
      "Current Date and Time: 2023-05-06 20:19:47\n"
     ]
    }
   ],
   "source": [
    "# Format the date and time\n",
    "now = datetime.now()\n",
    "start_string = now.strftime(\"%Y-%m-%d %H:%M:%S\")\n",
    "print(\"Current Date and Time:\", start_string)"
   ]
  },
  {
   "cell_type": "code",
   "execution_count": 8,
   "id": "4215f564",
   "metadata": {
    "execution": {
     "iopub.execute_input": "2023-04-30T14:55:54.238508Z",
     "iopub.status.busy": "2023-04-30T14:55:54.237000Z",
     "iopub.status.idle": "2023-04-30T14:55:54.302850Z",
     "shell.execute_reply": "2023-04-30T14:55:54.301690Z"
    },
    "papermill": {
     "duration": 0.076554,
     "end_time": "2023-04-30T14:55:54.305037",
     "exception": false,
     "start_time": "2023-04-30T14:55:54.228483",
     "status": "completed"
    },
    "tags": []
   },
   "outputs": [
    {
     "data": {
      "text/plain": [
       "'cuda'"
      ]
     },
     "execution_count": 8,
     "metadata": {},
     "output_type": "execute_result"
    }
   ],
   "source": [
    "DEVICE = \"cuda\" if torch.cuda.is_available() else \"cpu\"\n",
    "DEVICE"
   ]
  },
  {
   "cell_type": "code",
   "execution_count": 9,
   "id": "4e7f7de0",
   "metadata": {
    "execution": {
     "iopub.execute_input": "2023-04-30T14:55:54.322194Z",
     "iopub.status.busy": "2023-04-30T14:55:54.321300Z",
     "iopub.status.idle": "2023-04-30T14:55:54.482187Z",
     "shell.execute_reply": "2023-04-30T14:55:54.481168Z"
    },
    "papermill": {
     "duration": 0.172192,
     "end_time": "2023-04-30T14:55:54.484924",
     "exception": false,
     "start_time": "2023-04-30T14:55:54.312732",
     "status": "completed"
    },
    "tags": []
   },
   "outputs": [],
   "source": [
    "from dataset.data_loaders import *\n",
    "from dataset.utils.plot_utils import plot_s1s2_tensors, save_s1s2_tensors_plot\n",
    "#from config import *\n",
    "from train_utils import *"
   ]
  },
  {
   "cell_type": "code",
   "execution_count": 10,
   "id": "0ae9a73e",
   "metadata": {
    "execution": {
     "iopub.execute_input": "2023-04-30T14:55:54.503412Z",
     "iopub.status.busy": "2023-04-30T14:55:54.502511Z",
     "iopub.status.idle": "2023-04-30T14:55:54.537921Z",
     "shell.execute_reply": "2023-04-30T14:55:54.536930Z"
    },
    "papermill": {
     "duration": 0.04641,
     "end_time": "2023-04-30T14:55:54.540289",
     "exception": false,
     "start_time": "2023-04-30T14:55:54.493879",
     "status": "completed"
    },
    "tags": []
   },
   "outputs": [],
   "source": [
    "from temporalgan.gen_v3 import Generator as GeneratorV3\n",
    "from temporalgan.gen_v2_1 import Generator as GeneratorV2_1\n",
    "from temporalgan.gen_v2_2 import Generator as GeneratorV2_2\n",
    "from temporalgan.gen_v2_3 import Generator as GeneratorV2_3\n",
    "from temporalgan.gen_v1_1 import Generator as GeneratorV1_1\n",
    "from temporalgan.gen_v1_2 import Generator as GeneratorV1_2\n",
    "from temporalgan.gen_v1_3 import Generator as GeneratorV1_3\n",
    "from temporalgan.gen_v1_4 import Generator as GeneratorV1_4\n",
    "from temporalgan.gen_v1_5 import Generator as GeneratorV1_5\n",
    "from temporalgan.gen_v1_6 import Generator as GeneratorV1_6\n",
    "from temporalgan.gen_v1_7 import Generator as GeneratorV1_7\n",
    "from temporalgan.disc_v2 import Discriminator as DiscriminatorV2\n",
    "from temporalgan.disc_v1 import Discriminator as DiscriminatorV1\n",
    "from eval_metrics.loss_function import WeightedL1Loss, reverse_map"
   ]
  },
  {
   "cell_type": "code",
   "execution_count": 11,
   "id": "ddaa152e",
   "metadata": {
    "execution": {
     "iopub.execute_input": "2023-04-30T14:55:54.557601Z",
     "iopub.status.busy": "2023-04-30T14:55:54.556646Z",
     "iopub.status.idle": "2023-04-30T14:55:54.561840Z",
     "shell.execute_reply": "2023-04-30T14:55:54.560937Z"
    },
    "papermill": {
     "duration": 0.015922,
     "end_time": "2023-04-30T14:55:54.563928",
     "exception": false,
     "start_time": "2023-04-30T14:55:54.548006",
     "status": "completed"
    },
    "tags": []
   },
   "outputs": [],
   "source": [
    "import torch.nn as nn\n",
    "import torch.optim as optim\n",
    "from torch.utils.data import DataLoader"
   ]
  },
  {
   "cell_type": "code",
   "execution_count": 12,
   "id": "d939fdd8",
   "metadata": {
    "execution": {
     "iopub.execute_input": "2023-04-30T14:55:54.580593Z",
     "iopub.status.busy": "2023-04-30T14:55:54.580069Z",
     "iopub.status.idle": "2023-04-30T14:55:54.586261Z",
     "shell.execute_reply": "2023-04-30T14:55:54.585281Z"
    },
    "papermill": {
     "duration": 0.017024,
     "end_time": "2023-04-30T14:55:54.588449",
     "exception": false,
     "start_time": "2023-04-30T14:55:54.571425",
     "status": "completed"
    },
    "tags": []
   },
   "outputs": [],
   "source": [
    "if IN_KAGGLE:\n",
    "    s1_t1_dir_train= \"/kaggle/input/s1s2-2021-v2/2021/s1_imgs/train\"\n",
    "    s2_t1_dir_train= \"/kaggle/input/s1s2-2021-v2/2021/s2_imgs/train\"\n",
    "    s1_t2_dir_train= \"/kaggle/input/s1s2-2019-v2/2019/s1_imgs/train\"\n",
    "    s2_t2_dir_train= \"/kaggle/input/s1s2-2019-v2/2019/s2_imgs/train\"\n",
    "    s1_t1_dir_test = \"/kaggle/input/s1s2-2021-v2/2021/s1_imgs/test\"\n",
    "    s2_t1_dir_test = \"/kaggle/input/s1s2-2021-v2/2021/s2_imgs/test\"\n",
    "    s1_t2_dir_test = \"/kaggle/input/s1s2-2019-v2/2019/s1_imgs/test\"\n",
    "    s2_t2_dir_test = \"/kaggle/input/s1s2-2019-v2/2019/s2_imgs/test\"\n",
    "else:\n",
    "    s1_t1_dir_train=\"E:\\\\s1s2\\\\s1s2_patched_light\\\\s1s2_patched_extra_light\\\\2021\\\\s1_imgs\\\\test\"\n",
    "    s2_t1_dir_train=\"E:\\\\s1s2\\\\s1s2_patched_light\\\\s1s2_patched_extra_light\\\\2021\\\\s2_imgs\\\\test\"\n",
    "    s1_t2_dir_train=\"E:\\\\s1s2\\\\s1s2_patched_light\\\\s1s2_patched_extra_light\\\\2019\\\\s1_imgs\\\\test\"\n",
    "    s2_t2_dir_train=\"E:\\\\s1s2\\\\s1s2_patched_light\\\\s1s2_patched_extra_light\\\\2019\\\\s2_imgs\\\\test\"\n",
    "    s1_t1_dir_test=\"E:\\\\s1s2\\\\s1s2_patched_light\\\\s1s2_patched_extra_light\\\\2021\\\\s1_imgs\\\\test\"\n",
    "    s2_t1_dir_test=\"E:\\\\s1s2\\\\s1s2_patched_light\\\\s1s2_patched_extra_light\\\\2021\\\\s2_imgs\\\\test\"\n",
    "    s1_t2_dir_test=\"E:\\\\s1s2\\\\s1s2_patched_light\\\\s1s2_patched_extra_light\\\\2019\\\\s1_imgs\\\\test\"\n",
    "    s2_t2_dir_test=\"E:\\\\s1s2\\\\s1s2_patched_light\\\\s1s2_patched_extra_light\\\\2019\\\\s2_imgs\\\\test\""
   ]
  },
  {
   "cell_type": "code",
   "execution_count": 13,
   "id": "cf785756",
   "metadata": {
    "execution": {
     "iopub.execute_input": "2023-04-30T14:55:54.604745Z",
     "iopub.status.busy": "2023-04-30T14:55:54.604428Z",
     "iopub.status.idle": "2023-04-30T14:55:54.610944Z",
     "shell.execute_reply": "2023-04-30T14:55:54.609961Z"
    },
    "papermill": {
     "duration": 0.017131,
     "end_time": "2023-04-30T14:55:54.613120",
     "exception": false,
     "start_time": "2023-04-30T14:55:54.595989",
     "status": "completed"
    },
    "tags": []
   },
   "outputs": [],
   "source": [
    "TWO_WAY_DATASET = True if IN_KAGGLE else False\n",
    "INPUT_CHANGE_MAP = True if IN_KAGGLE else False\n",
    "S2_INCHANNELS = 12 if INPUT_CHANGE_MAP else 6\n",
    "S1_INCHANNELS = 7 if INPUT_CHANGE_MAP else 1\n",
    "\n",
    "LEARNING_RATE = 2e-4\n",
    "BATCH_SIZE = 4 if IN_KAGGLE else 1\n",
    "NUM_WORKERS = 2 if IN_KAGGLE else 8\n",
    "IMAGE_SIZE = 256\n",
    "WEIGHTED_LOSS = True\n",
    "L1_LAMBDA = 100\n",
    "CHANGED_L1_WEIGHT = 5\n",
    "NUM_EPOCHS = 10 if IN_KAGGLE else 1\n",
    "\n",
    "LOAD_MODEL = False\n",
    "SAVE_MODEL = True if IN_KAGGLE else False\n",
    "SAVE_MODEL_EVERY_EPOCH = 10\n",
    "SAVE_EXAMPLE_PLOTS = True\n",
    "EXAMPLES_TO_PLOT = [1,32,64,128,256,512,1024] if IN_KAGGLE else [1,2]\n",
    "CHECKPOINT_DISC = \"disc.pth.tar\"\n",
    "CHECKPOINT_GEN = \"gen.pth.tar\"\n",
    "\n",
    "RANDOM_SEED = 75"
   ]
  },
  {
   "cell_type": "code",
   "execution_count": 14,
   "id": "9bed3e8d",
   "metadata": {
    "execution": {
     "iopub.execute_input": "2023-04-30T14:55:54.630301Z",
     "iopub.status.busy": "2023-04-30T14:55:54.629998Z",
     "iopub.status.idle": "2023-04-30T14:55:54.641716Z",
     "shell.execute_reply": "2023-04-30T14:55:54.640587Z"
    },
    "papermill": {
     "duration": 0.02302,
     "end_time": "2023-04-30T14:55:54.643975",
     "exception": false,
     "start_time": "2023-04-30T14:55:54.620955",
     "status": "completed"
    },
    "tags": []
   },
   "outputs": [],
   "source": [
    "def main():\n",
    "    disc = DiscriminatorV1(s2_in_channels=S2_INCHANNELS, s1_in_channels=S1_INCHANNELS).to(DEVICE)\n",
    "#     gen = GeneratorV2(s2_in_channels=S2_INCHANNELS, s1_in_channels= S1_INCHANNELS, features=64,pam_downsample=2).to(DEVICE)\n",
    "    gen = GeneratorV1_3(s2_in_channels=S2_INCHANNELS, s1_in_channels= S1_INCHANNELS, features=64).to(DEVICE)\n",
    "#     gen = GeneratorV2_3(s2_in_channels=S2_INCHANNELS, s1_in_channels= S1_INCHANNELS, features=64).to(DEVICE)\n",
    "    opt_disc = optim.Adam(disc.parameters(), lr=LEARNING_RATE, betas=(0.5, 0.999),)\n",
    "    opt_gen = optim.Adam(gen.parameters(), lr=LEARNING_RATE, betas=(0.5, 0.999))\n",
    "    BCE = nn.BCEWithLogitsLoss()\n",
    "    if WEIGHTED_LOSS:\n",
    "        L1_LOSS = WeightedL1Loss(change_weight=CHANGED_L1_WEIGHT)\n",
    "    else:\n",
    "        L1_LOSS = nn.L1Loss()\n",
    "\n",
    "    if LOAD_MODEL:\n",
    "        load_checkpoint(\n",
    "            CHECKPOINT_GEN, gen, opt_gen, LEARNING_RATE,\n",
    "        )\n",
    "        load_checkpoint(\n",
    "            CHECKPOINT_DISC, disc, opt_disc, LEARNING_RATE,\n",
    "        )\n",
    "\n",
    "    transform = transforms.Compose([S2S1Normalize(),myToTensor(dtype=torch.float32)])\n",
    "\n",
    "\n",
    "    train_dataset = Sen12Dataset(s1_t1_dir=s1_t1_dir_train,\n",
    "                                 s2_t1_dir=s2_t1_dir_train,\n",
    "                                 s1_t2_dir=s1_t2_dir_train,\n",
    "                                 s2_t2_dir=s2_t2_dir_train,\n",
    "                                 transform=transform,\n",
    "                                 two_way=TWO_WAY_DATASET)\n",
    "    \n",
    "    train_loader = DataLoader(\n",
    "        train_dataset,\n",
    "        batch_size=BATCH_SIZE,\n",
    "        shuffle=True,\n",
    "        num_workers=NUM_WORKERS,\n",
    "    )\n",
    "    g_scaler = torch.cuda.amp.GradScaler()\n",
    "    d_scaler = torch.cuda.amp.GradScaler()\n",
    "#     val_dataset = MapDataset(root_dir=VAL_DIR)\n",
    "#     val_loader = DataLoader(val_dataset, batch_size=1, shuffle=False)\n",
    "\n",
    "    for epoch in range(1, NUM_EPOCHS+1):\n",
    "        print(\"\\n\\n\" , end=\"\")\n",
    "        print(f\"Epoch: {epoch}\")\n",
    "        print(\"\")\n",
    "        train_fn(\n",
    "            disc, gen, train_loader, opt_disc, opt_gen,\n",
    "            L1_LOSS, BCE, g_scaler, d_scaler, weighted_loss= WEIGHTED_LOSS,\n",
    "            cm_input=INPUT_CHANGE_MAP, grad_clip=False)\n",
    "\n",
    "        if SAVE_MODEL and epoch % SAVE_MODEL_EVERY_EPOCH == 0:\n",
    "            save_checkpoint(epoch,gen, opt_gen, filename=CHECKPOINT_GEN)\n",
    "            save_checkpoint(epoch,disc, opt_disc, filename=CHECKPOINT_DISC)\n",
    "\n",
    "\n",
    "        if SAVE_EXAMPLE_PLOTS:\n",
    "            for img_i in EXAMPLES_TO_PLOT:\n",
    "                save_some_examples(gen, train_dataset, epoch, folder=\"train_evaluation_plots\",cm_input=INPUT_CHANGE_MAP, img_indx=img_i)\n",
    "\n",
    "            \n",
    "        gc.collect()\n",
    "        torch.cuda.empty_cache()\n",
    "            \n",
    "    return gen\n"
   ]
  },
  {
   "cell_type": "code",
   "execution_count": 15,
   "id": "2a4ed9d7",
   "metadata": {
    "execution": {
     "iopub.execute_input": "2023-04-30T14:55:54.661662Z",
     "iopub.status.busy": "2023-04-30T14:55:54.660067Z",
     "iopub.status.idle": "2023-04-30T14:55:54.667708Z",
     "shell.execute_reply": "2023-04-30T14:55:54.666806Z"
    },
    "papermill": {
     "duration": 0.018269,
     "end_time": "2023-04-30T14:55:54.669787",
     "exception": false,
     "start_time": "2023-04-30T14:55:54.651518",
     "status": "completed"
    },
    "tags": []
   },
   "outputs": [],
   "source": [
    "torch.manual_seed(RANDOM_SEED)\n",
    "random.seed(RANDOM_SEED)\n",
    "np.random.seed(RANDOM_SEED)"
   ]
  },
  {
   "cell_type": "code",
   "execution_count": 16,
   "id": "21731ad7",
   "metadata": {
    "execution": {
     "iopub.execute_input": "2023-04-30T14:55:54.686725Z",
     "iopub.status.busy": "2023-04-30T14:55:54.685939Z",
     "iopub.status.idle": "2023-04-30T15:39:32.919770Z",
     "shell.execute_reply": "2023-04-30T15:39:32.918508Z"
    },
    "papermill": {
     "duration": 2618.245415,
     "end_time": "2023-04-30T15:39:32.922754",
     "exception": false,
     "start_time": "2023-04-30T14:55:54.677339",
     "status": "completed"
    },
    "tags": []
   },
   "outputs": [
    {
     "name": "stdout",
     "output_type": "stream",
     "text": [
      "\n",
      "\n",
      "Epoch: 1\n",
      "\n"
     ]
    },
    {
     "name": "stderr",
     "output_type": "stream",
     "text": [
      "100%|██████████| 4/4 [00:08<00:00,  2.13s/it, D_fake_mean=0.501, D_real_mean=0.497, G_loss_mean=24.5, L1_mean=23.5]\n"
     ]
    }
   ],
   "source": [
    "#matplotlib.use('Agg') # This refrains matplot lib form showing the plotted resualts below the cell\n",
    "gen_model = main()"
   ]
  },
  {
   "cell_type": "code",
   "execution_count": 17,
   "id": "f96402e1",
   "metadata": {
    "execution": {
     "iopub.execute_input": "2023-04-30T15:39:34.197389Z",
     "iopub.status.busy": "2023-04-30T15:39:34.196925Z",
     "iopub.status.idle": "2023-04-30T15:39:34.202446Z",
     "shell.execute_reply": "2023-04-30T15:39:34.201528Z"
    },
    "papermill": {
     "duration": 0.648158,
     "end_time": "2023-04-30T15:39:34.206879",
     "exception": false,
     "start_time": "2023-04-30T15:39:33.558721",
     "status": "completed"
    },
    "tags": []
   },
   "outputs": [],
   "source": [
    "# transform = transforms.Compose([S2S1Normalize(),myToTensor(dtype=torch.float32)])\n",
    "# train_dataset = Sen12Dataset(s1_t1_dir=s1_t1_dir_train,\n",
    "#                              s2_t1_dir=s2_t1_dir_train,\n",
    "#                              s1_t2_dir=s1_t2_dir_train,\n",
    "#                              s2_t2_dir=s2_t2_dir_train,\n",
    "#                              transform=transform,\n",
    "#                              two_way=TWO_WAY_DATASET)\n",
    "# #plt.imshow(train_dataset[0][-1][0])\n",
    "\n",
    "# plt.imshow(torch.permute(train_dataset[123][4],(1,2,0))[:,:,0])\n",
    "# plt.colorbar()\n",
    "# plt.show()"
   ]
  },
  {
   "cell_type": "code",
   "execution_count": 18,
   "id": "be518687",
   "metadata": {
    "execution": {
     "iopub.execute_input": "2023-04-30T15:39:35.197719Z",
     "iopub.status.busy": "2023-04-30T15:39:35.197327Z",
     "iopub.status.idle": "2023-04-30T15:39:36.081142Z",
     "shell.execute_reply": "2023-04-30T15:39:36.080076Z"
    },
    "papermill": {
     "duration": 1.306093,
     "end_time": "2023-04-30T15:39:36.083756",
     "exception": false,
     "start_time": "2023-04-30T15:39:34.777663",
     "status": "completed"
    },
    "tags": []
   },
   "outputs": [],
   "source": [
    "transform = transforms.Compose([S2S1Normalize(),myToTensor()])\n",
    "test_dataset = Sen12Dataset(s1_t1_dir=s1_t1_dir_test,\n",
    "                            s2_t1_dir=s2_t1_dir_test,\n",
    "                            s1_t2_dir=s1_t2_dir_test,\n",
    "                            s2_t2_dir=s2_t2_dir_test,\n",
    "                            transform=transform,\n",
    "                            two_way=TWO_WAY_DATASET)\n",
    "test_loader = DataLoader(\n",
    "        test_dataset,\n",
    "        batch_size=BATCH_SIZE,\n",
    "        shuffle=False,\n",
    "        num_workers=NUM_WORKERS,\n",
    "    )"
   ]
  },
  {
   "cell_type": "code",
   "execution_count": 19,
   "id": "61d8323c",
   "metadata": {
    "execution": {
     "iopub.execute_input": "2023-04-30T15:39:36.811726Z",
     "iopub.status.busy": "2023-04-30T15:39:36.811325Z",
     "iopub.status.idle": "2023-04-30T15:39:36.815770Z",
     "shell.execute_reply": "2023-04-30T15:39:36.814688Z"
    },
    "papermill": {
     "duration": 0.369627,
     "end_time": "2023-04-30T15:39:36.817931",
     "exception": false,
     "start_time": "2023-04-30T15:39:36.448304",
     "status": "completed"
    },
    "tags": []
   },
   "outputs": [],
   "source": [
    "# save_some_examples(gen_model, test_dataset, NUM_EPOCHS, folder=\"evaluation\",cm_input=INPUT_CHANGE_MAP, img_indx=2)"
   ]
  },
  {
   "cell_type": "code",
   "execution_count": 36,
   "id": "d5ba4fa7",
   "metadata": {
    "execution": {
     "iopub.execute_input": "2023-04-30T15:39:37.594566Z",
     "iopub.status.busy": "2023-04-30T15:39:37.593854Z",
     "iopub.status.idle": "2023-04-30T15:39:37.607261Z",
     "shell.execute_reply": "2023-04-30T15:39:37.606159Z"
    },
    "papermill": {
     "duration": 0.376792,
     "end_time": "2023-04-30T15:39:37.609543",
     "exception": false,
     "start_time": "2023-04-30T15:39:37.232751",
     "status": "completed"
    },
    "tags": []
   },
   "outputs": [],
   "source": [
    "def eval_fn(gen, loader, ssim, psnr):\n",
    "    gen.eval()\n",
    "    loop = tqdm(loader, leave=True)\n",
    "    weighted_ssim_list = []\n",
    "    normal_ssim_list = []\n",
    "    weighted_psnr_list = []\n",
    "    normal_psnr_list = []\n",
    "    reverse_weighted_ssim_list = []\n",
    "    reverse_weighted_psnr_list = []\n",
    "    \n",
    "    for idx, (s2t2,s1t2,s2t1,s1t1,cm,rcm,s1cm) in enumerate(loop):\n",
    "        s2t2,s1t2,s2t1,s1t1,cm,rcm,s1cm = s2t2.to(DEVICE),s1t2.to(DEVICE),s2t1.to(DEVICE),s1t1.to(DEVICE),cm.to(DEVICE),rcm.to(DEVICE),s1cm.to(DEVICE)\n",
    "        s2t2,s1t2,s2t1,s1t1,cm,rcm,s1cm = s2t2.to(torch.float32),s1t2.to(torch.float32),s2t1.to(torch.float32),s1t1.to(torch.float32),cm.to(torch.float32),rcm.to(torch.float32),s1cm.to(torch.float32)\n",
    "        if INPUT_CHANGE_MAP:\n",
    "            s2t2 = torch.cat((s2t2, cm), dim=1)\n",
    "            s1t1 = torch.cat((s1t1, rcm), dim=1)\n",
    "        preds = gen(s2t2, s1t1)\n",
    "        \n",
    "        s1cm_reversed = reverse_map(s1cm)\n",
    "        \n",
    "        weighted_ssim = ssim((s1t2, preds), s1cm)\n",
    "        weighted_ssim_list.append(weighted_ssim)\n",
    "        reverse_weighted_ssim = ssim((s1t2, preds), s1cm_reversed)\n",
    "        reverse_weighted_ssim_list.append(reverse_weighted_ssim)\n",
    "        normal_ssim = ssim((s1t2, preds))\n",
    "        normal_ssim_list.append(normal_ssim)\n",
    "        \n",
    "        weighted_psnr = psnr((s1t2, preds), s1cm)\n",
    "        weighted_psnr_list.append(weighted_psnr)\n",
    "        reverse_weighted_psnr = psnr((s1t2, preds), s1cm_reversed)\n",
    "        reverse_weighted_psnr_list.append(reverse_weighted_psnr)\n",
    "        normal_psnr = psnr((s1t2, preds))\n",
    "        normal_psnr_list.append(normal_psnr)\n",
    "\n",
    "\n",
    "        if idx % 10 == 0:\n",
    "            loop.set_postfix(\n",
    "                wssim_mean = torch.tensor(weighted_ssim_list).mean().item(),\n",
    "                ssim_mean = torch.tensor(normal_ssim_list).mean().item(),\n",
    "                rwssim_mean = torch.tensor(reverse_weighted_ssim_list).mean().item(),\n",
    "                wpsnr_mean = torch.tensor(weighted_psnr_list).mean().item(),\n",
    "                psnr_mean = torch.tensor(normal_psnr_list).mean().item(),\n",
    "                rwpsnr_mean = torch.tensor(reverse_weighted_psnr_list).mean().item(),\n",
    "                \n",
    "            )\n",
    "\n",
    "    \n",
    "    eval_dict = {\"SSIM\":{}, \"PSNR\":{}}\n",
    "    \n",
    "    eval_dict[\"SSIM\"][\"cwssim_mean\"] = torch.tensor(weighted_ssim_list).mean().item()\n",
    "    eval_dict[\"SSIM\"][\"ssim_mean\"] = torch.tensor(normal_ssim_list).mean().item()\n",
    "    eval_dict[\"SSIM\"][\"rcwssim_mean\"] = torch.tensor(reverse_weighted_ssim_list).mean().item()\n",
    "    eval_dict[\"PSNR\"][\"cwpsnr_mean\"] = torch.tensor(weighted_psnr_list).mean().item()\n",
    "    eval_dict[\"PSNR\"][\"psnr_mean\"] = torch.tensor(normal_psnr_list).mean().item()\n",
    "    eval_dict[\"PSNR\"][\"rcwpsnr_mean\"] = torch.tensor(reverse_weighted_psnr_list).mean().item()\n",
    "    \n",
    "    return eval_dict\n",
    "    \n",
    "    "
   ]
  },
  {
   "cell_type": "code",
   "execution_count": 37,
   "id": "cbd26d99",
   "metadata": {
    "execution": {
     "iopub.execute_input": "2023-04-30T15:39:38.321561Z",
     "iopub.status.busy": "2023-04-30T15:39:38.321199Z",
     "iopub.status.idle": "2023-04-30T15:39:38.326065Z",
     "shell.execute_reply": "2023-04-30T15:39:38.325031Z"
    },
    "papermill": {
     "duration": 0.365274,
     "end_time": "2023-04-30T15:39:38.328108",
     "exception": false,
     "start_time": "2023-04-30T15:39:37.962834",
     "status": "completed"
    },
    "tags": []
   },
   "outputs": [],
   "source": [
    "from eval_metrics import ssim\n",
    "from eval_metrics.psnr import wpsnr\n",
    "wssim = ssim.WSSIM(data_range=1.0)"
   ]
  },
  {
   "cell_type": "code",
   "execution_count": 38,
   "id": "0082cd66",
   "metadata": {
    "execution": {
     "iopub.execute_input": "2023-04-30T15:39:39.160456Z",
     "iopub.status.busy": "2023-04-30T15:39:39.160080Z",
     "iopub.status.idle": "2023-04-30T15:41:05.097825Z",
     "shell.execute_reply": "2023-04-30T15:41:05.096398Z"
    },
    "papermill": {
     "duration": 86.381906,
     "end_time": "2023-04-30T15:41:05.101154",
     "exception": false,
     "start_time": "2023-04-30T15:39:38.719248",
     "status": "completed"
    },
    "tags": []
   },
   "outputs": [
    {
     "name": "stderr",
     "output_type": "stream",
     "text": [
      "100%|██████████| 4/4 [00:03<00:00,  1.29it/s, psnr_mean=10.9, rwpsnr_mean=10.9, rwssim_mean=0.0419, ssim_mean=0.0417, wpsnr_mean=10.3, wssim_mean=0.0374]\n"
     ]
    },
    {
     "data": {
      "text/plain": [
       "{'SSIM': {'cwssim_mean': 0.03583896532654762,\n",
       "  'ssim_mean': 0.038676079362630844,\n",
       "  'rcwssim_mean': 0.03877362608909607},\n",
       " 'PSNR': {'cwpsnr_mean': 10.312036514282227,\n",
       "  'psnr_mean': 10.557168006896973,\n",
       "  'rcwpsnr_mean': 10.566269874572754}}"
      ]
     },
     "execution_count": 38,
     "metadata": {},
     "output_type": "execute_result"
    }
   ],
   "source": [
    "eval_results = eval_fn(gen_model, test_loader, wssim, wpsnr)\n",
    "eval_results"
   ]
  },
  {
   "cell_type": "code",
   "execution_count": 39,
   "id": "7ffa1060",
   "metadata": {},
   "outputs": [
    {
     "name": "stdout",
     "output_type": "stream",
     "text": [
      "Current Date and Time: 2023-05-06 20:22:14\n",
      "File Name: D_2023_05_06_T_20_22\n"
     ]
    }
   ],
   "source": [
    "# Format the date and time\n",
    "now = datetime.now()\n",
    "finish_string = now.strftime(\"%Y-%m-%d %H:%M:%S\")\n",
    "file_name = now.strftime(\"D_%Y_%m_%d_T_%H_%M\")\n",
    "print(\"Current Date and Time:\", finish_string)\n",
    "print(\"File Name:\", file_name)"
   ]
  },
  {
   "cell_type": "code",
   "execution_count": 40,
   "id": "7a627929",
   "metadata": {},
   "outputs": [],
   "source": [
    "log_json = {}\n",
    "log_json[\"Time\"] = {\"Start\": start_string, \"Finish\": finish_string}\n",
    "log_json[\"IN_KAGGLE\"] = IN_KAGGLE\n",
    "log_json[\"TWO_WAY_DATASET\"] = TWO_WAY_DATASET\n",
    "log_json[\"INPUT_CHANGE_MAP\"] = INPUT_CHANGE_MAP\n",
    "log_json[\"S2_INCHANNELS\"] = S2_INCHANNELS\n",
    "log_json[\"S1_INCHANNELS\"] = S1_INCHANNELS\n",
    "log_json[\"LEARNING_RATE\"] = LEARNING_RATE\n",
    "log_json[\"BATCH_SIZE\"] = BATCH_SIZE\n",
    "log_json[\"NUM_WORKERS\"] = NUM_WORKERS\n",
    "log_json[\"IMAGE_SIZE\"] = IMAGE_SIZE\n",
    "log_json[\"WEIGHTED_LOSS\"] = WEIGHTED_LOSS\n",
    "log_json[\"L1_LAMBDA\"] = L1_LAMBDA\n",
    "log_json[\"CHANGED_L1_WEIGHT\"] = CHANGED_L1_WEIGHT\n",
    "log_json[\"NUM_EPOCHS\"] = NUM_EPOCHS\n",
    "log_json[\"LOAD_MODEL\"] = LOAD_MODEL\n",
    "log_json[\"SAVE_MODEL\"] = SAVE_MODEL\n",
    "log_json[\"SAVE_MODEL_EVERY_EPOCH\"] = SAVE_MODEL_EVERY_EPOCH\n",
    "log_json[\"SAVE_EXAMPLE_PLOTS\"] = SAVE_EXAMPLE_PLOTS\n",
    "log_json[\"EXAMPLES_TO_PLOT\"] = EXAMPLES_TO_PLOT\n",
    "log_json[\"CHECKPOINT_DISC\"] = CHECKPOINT_DISC\n",
    "log_json[\"CHECKPOINT_GEN\"] = CHECKPOINT_GEN\n",
    "log_json[\"RANDOM_SEED\"] = RANDOM_SEED\n",
    "log_json[\"Eval\"] = {\"Results\": eval_results}\n",
    "\n",
    "with open(f\"results/RUN_{file_name}.json\", \"w\") as fp:\n",
    "    json.dump(log_json, fp, indent=4)"
   ]
  },
  {
   "cell_type": "code",
   "execution_count": null,
   "id": "94cd217c",
   "metadata": {
    "execution": {
     "iopub.execute_input": "2023-04-30T15:41:05.916805Z",
     "iopub.status.busy": "2023-04-30T15:41:05.915541Z",
     "iopub.status.idle": "2023-04-30T15:41:05.921035Z",
     "shell.execute_reply": "2023-04-30T15:41:05.919947Z"
    },
    "papermill": {
     "duration": 0.443305,
     "end_time": "2023-04-30T15:41:05.923333",
     "exception": false,
     "start_time": "2023-04-30T15:41:05.480028",
     "status": "completed"
    },
    "tags": []
   },
   "outputs": [],
   "source": [
    "# import shutil\n",
    "# shutil.rmtree(\"test_evaluation_plots\")"
   ]
  },
  {
   "cell_type": "code",
   "execution_count": 26,
   "id": "7e74796e",
   "metadata": {
    "execution": {
     "iopub.execute_input": "2023-04-30T15:41:06.679600Z",
     "iopub.status.busy": "2023-04-30T15:41:06.679219Z",
     "iopub.status.idle": "2023-04-30T15:44:05.082724Z",
     "shell.execute_reply": "2023-04-30T15:44:05.081440Z"
    },
    "papermill": {
     "duration": 178.783143,
     "end_time": "2023-04-30T15:44:05.085322",
     "exception": false,
     "start_time": "2023-04-30T15:41:06.302179",
     "status": "completed"
    },
    "tags": []
   },
   "outputs": [
    {
     "name": "stderr",
     "output_type": "stream",
     "text": [
      "'zip' is not recognized as an internal or external command,\n",
      "operable program or batch file.\n"
     ]
    }
   ],
   "source": [
    "for img_i in range(1,len(test_dataset)//2, 2):\n",
    "    save_some_examples(gen_model, test_dataset, NUM_EPOCHS, folder=\"test_evaluation_plots_1\",cm_input=INPUT_CHANGE_MAP, img_indx=img_i)\n",
    "!zip -r /kaggle/working/test_evalplot1.zip  /kaggle/working/test_evaluation_plots_1/"
   ]
  },
  {
   "cell_type": "code",
   "execution_count": 27,
   "id": "dd49244a",
   "metadata": {
    "execution": {
     "iopub.execute_input": "2023-04-30T15:44:05.871658Z",
     "iopub.status.busy": "2023-04-30T15:44:05.870507Z",
     "iopub.status.idle": "2023-04-30T15:47:06.708720Z",
     "shell.execute_reply": "2023-04-30T15:47:06.707391Z"
    },
    "papermill": {
     "duration": 181.228779,
     "end_time": "2023-04-30T15:47:06.711277",
     "exception": false,
     "start_time": "2023-04-30T15:44:05.482498",
     "status": "completed"
    },
    "tags": []
   },
   "outputs": [
    {
     "name": "stderr",
     "output_type": "stream",
     "text": [
      "'zip' is not recognized as an internal or external command,\n",
      "operable program or batch file.\n"
     ]
    }
   ],
   "source": [
    "for img_i in range((len(test_dataset)//2)+1,len(test_dataset), 2):\n",
    "    save_some_examples(gen_model, test_dataset, NUM_EPOCHS, folder=\"test_evaluation_plots_2\",cm_input=INPUT_CHANGE_MAP, img_indx=img_i)\n",
    "!zip -r /kaggle/working/test_evalplot2.zip  /kaggle/working/test_evaluation_plots_2/"
   ]
  },
  {
   "cell_type": "code",
   "execution_count": 28,
   "id": "c1a57879",
   "metadata": {
    "execution": {
     "iopub.execute_input": "2023-04-30T15:47:07.507468Z",
     "iopub.status.busy": "2023-04-30T15:47:07.507056Z",
     "iopub.status.idle": "2023-04-30T15:47:07.512306Z",
     "shell.execute_reply": "2023-04-30T15:47:07.511172Z"
    },
    "papermill": {
     "duration": 0.402926,
     "end_time": "2023-04-30T15:47:07.514939",
     "exception": false,
     "start_time": "2023-04-30T15:47:07.112013",
     "status": "completed"
    },
    "tags": []
   },
   "outputs": [],
   "source": [
    "# !zip -r /kaggle/working/train_evalplot.zip  /kaggle/working/train_evaluation_plots/"
   ]
  },
  {
   "cell_type": "code",
   "execution_count": 29,
   "id": "20d85cce",
   "metadata": {
    "execution": {
     "iopub.execute_input": "2023-04-30T15:47:08.349477Z",
     "iopub.status.busy": "2023-04-30T15:47:08.349103Z",
     "iopub.status.idle": "2023-04-30T15:47:08.353723Z",
     "shell.execute_reply": "2023-04-30T15:47:08.352568Z"
    },
    "papermill": {
     "duration": 0.457039,
     "end_time": "2023-04-30T15:47:08.356041",
     "exception": false,
     "start_time": "2023-04-30T15:47:07.899002",
     "status": "completed"
    },
    "tags": []
   },
   "outputs": [],
   "source": [
    "# from IPython.display import FileLink\n",
    "# FileLink(r'/kaggle/working/evalplot.zip')"
   ]
  },
  {
   "cell_type": "code",
   "execution_count": 30,
   "id": "2b8a3660",
   "metadata": {
    "execution": {
     "iopub.execute_input": "2023-04-30T15:47:09.144481Z",
     "iopub.status.busy": "2023-04-30T15:47:09.143544Z",
     "iopub.status.idle": "2023-04-30T15:47:09.149340Z",
     "shell.execute_reply": "2023-04-30T15:47:09.148227Z"
    },
    "papermill": {
     "duration": 0.403022,
     "end_time": "2023-04-30T15:47:09.151467",
     "exception": false,
     "start_time": "2023-04-30T15:47:08.748445",
     "status": "completed"
    },
    "tags": []
   },
   "outputs": [],
   "source": [
    "# def eval_graph_fn(gen, loader, ssim, psnr):\n",
    "#     gen.eval()\n",
    "#     loop = tqdm(loader, leave=True)\n",
    "    \n",
    "#     wssim_ratio_list = []\n",
    "#     wpsnr_ratio_list = []\n",
    "#     s1cm_mean_list   = []\n",
    "    \n",
    "#     for idx, (s2t2,s1t2,s2t1,s1t1,cm,rcm,s1cm) in enumerate(loop):\n",
    "#         s2t2,s1t2,s2t1,s1t1,cm,rcm,s1cm = s2t2.to(DEVICE),s1t2.to(DEVICE),s2t1.to(DEVICE),s1t1.to(DEVICE),cm.to(DEVICE),rcm.to(DEVICE),s1cm.to(DEVICE)\n",
    "#         s2t2,s1t2,s2t1,s1t1,cm,rcm,s1cm = s2t2.to(torch.float32),s1t2.to(torch.float32),s2t1.to(torch.float32),s1t1.to(torch.float32),cm.to(torch.float32),rcm.to(torch.float32),s1cm.to(torch.float32)\n",
    "#         if INPUT_CHANGE_MAP:\n",
    "#             s2t2 = torch.cat((s2t2, cm), dim=1)\n",
    "#             s1t1 = torch.cat((s1t1, rcm), dim=1)\n",
    "#         preds = gen(s2t2, s1t1)\n",
    "        \n",
    "#         s1t2_list = s1t2.to(\"cpu\").chunk(s1t2.size(0))\n",
    "#         preds_list = preds.to(\"cpu\").chunk(preds.size(0))\n",
    "#         s1cm_list = s1cm.to(\"cpu\").chunk(s1cm.size(0))\n",
    "        \n",
    "        \n",
    "#         wssim_ratio_batch_list = [ssim((s1t2, preds), s1cm)/ssim((s1t2, preds)) for s1t2, preds, s1cm in zip(s1t2_list, preds_list, s1cm_list)]\n",
    "#         wpsnr_ratio_batch_list = [psnr((s1t2, preds))-psnr((s1t2, preds), s1cm) for s1t2, preds, s1cm in zip(s1t2_list, preds_list, s1cm_list)]\n",
    "#         s1cm_mean_batch_list   = [s1cm.mean() for s1cm in s1cm_list]\n",
    "        \n",
    "#         wssim_ratio_list = wssim_ratio_list + wssim_ratio_batch_list\n",
    "#         wpsnr_ratio_list = wpsnr_ratio_list + wpsnr_ratio_batch_list\n",
    "#         s1cm_mean_list   = s1cm_mean_list   + s1cm_mean_batch_list  \n",
    "    \n",
    "#     return wssim_ratio_list, wpsnr_ratio_list, s1cm_mean_list"
   ]
  },
  {
   "cell_type": "code",
   "execution_count": 31,
   "id": "8a7d5a53",
   "metadata": {
    "execution": {
     "iopub.execute_input": "2023-04-30T15:47:10.000385Z",
     "iopub.status.busy": "2023-04-30T15:47:09.999997Z",
     "iopub.status.idle": "2023-04-30T15:47:10.004633Z",
     "shell.execute_reply": "2023-04-30T15:47:10.003592Z"
    },
    "papermill": {
     "duration": 0.406385,
     "end_time": "2023-04-30T15:47:10.006754",
     "exception": false,
     "start_time": "2023-04-30T15:47:09.600369",
     "status": "completed"
    },
    "tags": []
   },
   "outputs": [],
   "source": [
    "# ssim_ratio_list, wpsnr_ratio_list, s1cm_mean_list = eval_graph_fn(gen_model, test_loader, wssim, wpsnr)"
   ]
  },
  {
   "cell_type": "code",
   "execution_count": 32,
   "id": "f3d58ed7",
   "metadata": {
    "execution": {
     "iopub.execute_input": "2023-04-30T15:47:10.787489Z",
     "iopub.status.busy": "2023-04-30T15:47:10.786496Z",
     "iopub.status.idle": "2023-04-30T15:47:10.791582Z",
     "shell.execute_reply": "2023-04-30T15:47:10.790334Z"
    },
    "papermill": {
     "duration": 0.396377,
     "end_time": "2023-04-30T15:47:10.793702",
     "exception": false,
     "start_time": "2023-04-30T15:47:10.397325",
     "status": "completed"
    },
    "tags": []
   },
   "outputs": [],
   "source": [
    "# plt.plot(ssim_ratio_list,s1cm_mean_list)"
   ]
  },
  {
   "cell_type": "code",
   "execution_count": null,
   "id": "7e2278e8",
   "metadata": {
    "papermill": {
     "duration": 0.455571,
     "end_time": "2023-04-30T15:47:11.636361",
     "exception": false,
     "start_time": "2023-04-30T15:47:11.180790",
     "status": "completed"
    },
    "tags": []
   },
   "outputs": [],
   "source": []
  }
 ],
 "metadata": {
  "kernelspec": {
   "display_name": "Python 3",
   "language": "python",
   "name": "python3"
  },
  "language_info": {
   "codemirror_mode": {
    "name": "ipython",
    "version": 3
   },
   "file_extension": ".py",
   "mimetype": "text/x-python",
   "name": "python",
   "nbconvert_exporter": "python",
   "pygments_lexer": "ipython3",
   "version": "3.9.16"
  },
  "papermill": {
   "default_parameters": {},
   "duration": 3098.292391,
   "end_time": "2023-04-30T15:47:15.057687",
   "environment_variables": {},
   "exception": null,
   "input_path": "__notebook__.ipynb",
   "output_path": "__notebook__.ipynb",
   "parameters": {},
   "start_time": "2023-04-30T14:55:36.765296",
   "version": "2.4.0"
  }
 },
 "nbformat": 4,
 "nbformat_minor": 5
}
