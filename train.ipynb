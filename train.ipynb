{
 "cells": [
  {
   "cell_type": "code",
   "execution_count": 1,
   "id": "d7e52243",
   "metadata": {
    "execution": {
     "iopub.execute_input": "2023-04-25T19:49:59.499607Z",
     "iopub.status.busy": "2023-04-25T19:49:59.499090Z",
     "iopub.status.idle": "2023-04-25T19:49:59.513406Z",
     "shell.execute_reply": "2023-04-25T19:49:59.512286Z"
    },
    "papermill": {
     "duration": 0.02554,
     "end_time": "2023-04-25T19:49:59.516599",
     "exception": false,
     "start_time": "2023-04-25T19:49:59.491059",
     "status": "completed"
    },
    "tags": []
   },
   "outputs": [
    {
     "data": {
      "text/plain": [
       "True"
      ]
     },
     "execution_count": 1,
     "metadata": {},
     "output_type": "execute_result"
    }
   ],
   "source": [
    "import os\n",
    "IN_KAGGLE = 'KAGGLE_URL_BASE' in os.environ\n",
    "IN_KAGGLE"
   ]
  },
  {
   "cell_type": "code",
   "execution_count": 2,
   "id": "46959320",
   "metadata": {
    "execution": {
     "iopub.execute_input": "2023-04-25T19:49:59.528911Z",
     "iopub.status.busy": "2023-04-25T19:49:59.528615Z",
     "iopub.status.idle": "2023-04-25T19:50:09.350871Z",
     "shell.execute_reply": "2023-04-25T19:50:09.349583Z"
    },
    "papermill": {
     "duration": 9.831541,
     "end_time": "2023-04-25T19:50:09.353724",
     "exception": false,
     "start_time": "2023-04-25T19:49:59.522183",
     "status": "completed"
    },
    "tags": []
   },
   "outputs": [
    {
     "name": "stdout",
     "output_type": "stream",
     "text": [
      "Cloning into 'TemporalGAN'...\r\n",
      "remote: Enumerating objects: 1429, done.\u001b[K\r\n",
      "remote: Counting objects: 100% (340/340), done.\u001b[K\r\n",
      "remote: Compressing objects: 100% (183/183), done.\u001b[K\r\n",
      "remote: Total 1429 (delta 204), reused 282 (delta 153), pack-reused 1089\u001b[K\r\n",
      "Receiving objects: 100% (1429/1429), 85.23 MiB | 13.59 MiB/s, done.\r\n",
      "Resolving deltas: 100% (936/936), done.\r\n"
     ]
    }
   ],
   "source": [
    "if IN_KAGGLE:\n",
    "    from kaggle_secrets import UserSecretsClient\n",
    "    user_secrets = UserSecretsClient()\n",
    "    secret_value = user_secrets.get_secret(\"gittoken2\")\n",
    "\n",
    "    !git clone https://{secret_value}@github.com/moienr/TemporalGAN.git"
   ]
  },
  {
   "cell_type": "code",
   "execution_count": 3,
   "id": "501a9883",
   "metadata": {
    "execution": {
     "iopub.execute_input": "2023-04-25T19:50:09.369714Z",
     "iopub.status.busy": "2023-04-25T19:50:09.369377Z",
     "iopub.status.idle": "2023-04-25T19:50:09.375883Z",
     "shell.execute_reply": "2023-04-25T19:50:09.374816Z"
    },
    "papermill": {
     "duration": 0.017411,
     "end_time": "2023-04-25T19:50:09.378416",
     "exception": false,
     "start_time": "2023-04-25T19:50:09.361005",
     "status": "completed"
    },
    "tags": []
   },
   "outputs": [
    {
     "name": "stdout",
     "output_type": "stream",
     "text": [
      "path found...\n"
     ]
    }
   ],
   "source": [
    "if IN_KAGGLE:\n",
    "    import time\n",
    "    import os\n",
    "    sleep_time = 5\n",
    "    while not os.path.exists(\"/kaggle/working/TemporalGAN\"):\n",
    "        print(\"didn't find the path, wating {sleep_time} more seconds...\")\n",
    "        time.sleep(sleep_time)\n",
    "    print(\"path found...\")\n",
    "    import sys\n",
    "    sys.path.append(\"/kaggle/working/TemporalGAN\")"
   ]
  },
  {
   "cell_type": "code",
   "execution_count": 4,
   "id": "1d90acaf",
   "metadata": {
    "execution": {
     "iopub.execute_input": "2023-04-25T19:50:09.395402Z",
     "iopub.status.busy": "2023-04-25T19:50:09.393632Z",
     "iopub.status.idle": "2023-04-25T19:50:11.450318Z",
     "shell.execute_reply": "2023-04-25T19:50:11.449282Z"
    },
    "papermill": {
     "duration": 2.067377,
     "end_time": "2023-04-25T19:50:11.452703",
     "exception": false,
     "start_time": "2023-04-25T19:50:09.385326",
     "status": "completed"
    },
    "tags": []
   },
   "outputs": [
    {
     "data": {
      "text/plain": [
       "'1.13.0'"
      ]
     },
     "execution_count": 4,
     "metadata": {},
     "output_type": "execute_result"
    }
   ],
   "source": [
    "import torch\n",
    "torch.__version__"
   ]
  },
  {
   "cell_type": "code",
   "execution_count": 5,
   "id": "f93e56a7",
   "metadata": {
    "execution": {
     "iopub.execute_input": "2023-04-25T19:50:11.469430Z",
     "iopub.status.busy": "2023-04-25T19:50:11.468278Z",
     "iopub.status.idle": "2023-04-25T19:50:12.081317Z",
     "shell.execute_reply": "2023-04-25T19:50:12.080289Z"
    },
    "papermill": {
     "duration": 0.623836,
     "end_time": "2023-04-25T19:50:12.083829",
     "exception": false,
     "start_time": "2023-04-25T19:50:11.459993",
     "status": "completed"
    },
    "tags": []
   },
   "outputs": [
    {
     "data": {
      "text/plain": [
       "2"
      ]
     },
     "execution_count": 5,
     "metadata": {},
     "output_type": "execute_result"
    }
   ],
   "source": [
    "import numpy as np\n",
    "from torch.utils.data import Dataset\n",
    "from glob import glob\n",
    "from skimage import io\n",
    "import os\n",
    "from torchvision import datasets, transforms\n",
    "import matplotlib\n",
    "import os\n",
    "import gc\n",
    "import random\n",
    "os.cpu_count()"
   ]
  },
  {
   "cell_type": "code",
   "execution_count": 6,
   "id": "788e891b",
   "metadata": {
    "execution": {
     "iopub.execute_input": "2023-04-25T19:50:12.099747Z",
     "iopub.status.busy": "2023-04-25T19:50:12.099421Z",
     "iopub.status.idle": "2023-04-25T19:50:12.156624Z",
     "shell.execute_reply": "2023-04-25T19:50:12.155546Z"
    },
    "papermill": {
     "duration": 0.067749,
     "end_time": "2023-04-25T19:50:12.158908",
     "exception": false,
     "start_time": "2023-04-25T19:50:12.091159",
     "status": "completed"
    },
    "tags": []
   },
   "outputs": [
    {
     "data": {
      "text/plain": [
       "'cuda'"
      ]
     },
     "execution_count": 6,
     "metadata": {},
     "output_type": "execute_result"
    }
   ],
   "source": [
    "DEVICE = \"cuda\" if torch.cuda.is_available() else \"cpu\"\n",
    "DEVICE"
   ]
  },
  {
   "cell_type": "code",
   "execution_count": 7,
   "id": "79f6345e",
   "metadata": {
    "execution": {
     "iopub.execute_input": "2023-04-25T19:50:12.174951Z",
     "iopub.status.busy": "2023-04-25T19:50:12.174644Z",
     "iopub.status.idle": "2023-04-25T19:50:12.313484Z",
     "shell.execute_reply": "2023-04-25T19:50:12.312407Z"
    },
    "papermill": {
     "duration": 0.149826,
     "end_time": "2023-04-25T19:50:12.316202",
     "exception": false,
     "start_time": "2023-04-25T19:50:12.166376",
     "status": "completed"
    },
    "tags": []
   },
   "outputs": [],
   "source": [
    "from dataset.data_loaders import *\n",
    "from dataset.utils.plot_utils import plot_s1s2_tensors, save_s1s2_tensors_plot\n",
    "#from config import *\n",
    "from train_utils import *"
   ]
  },
  {
   "cell_type": "code",
   "execution_count": 8,
   "id": "6710fbcd",
   "metadata": {
    "execution": {
     "iopub.execute_input": "2023-04-25T19:50:12.342770Z",
     "iopub.status.busy": "2023-04-25T19:50:12.342260Z",
     "iopub.status.idle": "2023-04-25T19:50:12.407540Z",
     "shell.execute_reply": "2023-04-25T19:50:12.405132Z"
    },
    "papermill": {
     "duration": 0.08507,
     "end_time": "2023-04-25T19:50:12.410428",
     "exception": false,
     "start_time": "2023-04-25T19:50:12.325358",
     "status": "completed"
    },
    "tags": []
   },
   "outputs": [],
   "source": [
    "from temporalgan.gen_v3 import Generator as GeneratorV3\n",
    "from temporalgan.gen_v2_1 import Generator as GeneratorV2_1\n",
    "from temporalgan.gen_v2_2 import Generator as GeneratorV2_2\n",
    "from temporalgan.gen_v2_3 import Generator as GeneratorV2_3\n",
    "from temporalgan.gen_v1_1 import Generator as GeneratorV1_1\n",
    "from temporalgan.gen_v1_2 import Generator as GeneratorV1_2\n",
    "from temporalgan.gen_v1_3 import Generator as GeneratorV1_3\n",
    "from temporalgan.gen_v1_4 import Generator as GeneratorV1_4\n",
    "from temporalgan.gen_v1_5 import Generator as GeneratorV1_5\n",
    "from temporalgan.gen_v1_6 import Generator as GeneratorV1_6\n",
    "from temporalgan.gen_v1_7 import Generator as GeneratorV1_7\n",
    "from temporalgan.disc_v2 import Discriminator as DiscriminatorV2\n",
    "from temporalgan.disc_v1 import Discriminator as DiscriminatorV1\n",
    "from eval_metrics.loss_function import WeightedL1Loss"
   ]
  },
  {
   "cell_type": "code",
   "execution_count": 9,
   "id": "f20a84ef",
   "metadata": {
    "execution": {
     "iopub.execute_input": "2023-04-25T19:50:12.442816Z",
     "iopub.status.busy": "2023-04-25T19:50:12.441865Z",
     "iopub.status.idle": "2023-04-25T19:50:12.450920Z",
     "shell.execute_reply": "2023-04-25T19:50:12.449682Z"
    },
    "papermill": {
     "duration": 0.03047,
     "end_time": "2023-04-25T19:50:12.453049",
     "exception": false,
     "start_time": "2023-04-25T19:50:12.422579",
     "status": "completed"
    },
    "tags": []
   },
   "outputs": [],
   "source": [
    "import torch.nn as nn\n",
    "import torch.optim as optim\n",
    "from torch.utils.data import DataLoader"
   ]
  },
  {
   "cell_type": "code",
   "execution_count": 10,
   "id": "dab56bd6",
   "metadata": {
    "execution": {
     "iopub.execute_input": "2023-04-25T19:50:12.476876Z",
     "iopub.status.busy": "2023-04-25T19:50:12.476128Z",
     "iopub.status.idle": "2023-04-25T19:50:12.486089Z",
     "shell.execute_reply": "2023-04-25T19:50:12.485024Z"
    },
    "papermill": {
     "duration": 0.026516,
     "end_time": "2023-04-25T19:50:12.489522",
     "exception": false,
     "start_time": "2023-04-25T19:50:12.463006",
     "status": "completed"
    },
    "tags": []
   },
   "outputs": [],
   "source": [
    "if IN_KAGGLE:\n",
    "    s1_t1_dir_train= \"/kaggle/input/s1s2-2021-v2/2021/s1_imgs/train\"\n",
    "    s2_t1_dir_train= \"/kaggle/input/s1s2-2021-v2/2021/s2_imgs/train\"\n",
    "    s1_t2_dir_train= \"/kaggle/input/s1s2-2019-v2/2019/s1_imgs/train\"\n",
    "    s2_t2_dir_train= \"/kaggle/input/s1s2-2019-v2/2019/s2_imgs/train\"\n",
    "    s1_t1_dir_test = \"/kaggle/input/s1s2-2021-v2/2021/s1_imgs/test\"\n",
    "    s2_t1_dir_test = \"/kaggle/input/s1s2-2021-v2/2021/s2_imgs/test\"\n",
    "    s1_t2_dir_test = \"/kaggle/input/s1s2-2019-v2/2019/s1_imgs/test\"\n",
    "    s2_t2_dir_test = \"/kaggle/input/s1s2-2019-v2/2019/s2_imgs/test\"\n",
    "else:\n",
    "    s1_t1_dir_train=\"E:\\\\s1s2\\\\s1s2_patched_light\\\\s1s2_patched_extra_light\\\\2021\\\\s1_imgs\\\\test\"\n",
    "    s2_t1_dir_train=\"E:\\\\s1s2\\\\s1s2_patched_light\\\\s1s2_patched_extra_light\\\\2021\\\\s2_imgs\\\\test\"\n",
    "    s1_t2_dir_train=\"E:\\\\s1s2\\\\s1s2_patched_light\\\\s1s2_patched_extra_light\\\\2019\\\\s1_imgs\\\\test\"\n",
    "    s2_t2_dir_train=\"E:\\\\s1s2\\\\s1s2_patched_light\\\\s1s2_patched_extra_light\\\\2019\\\\s2_imgs\\\\test\"\n",
    "    s1_t1_dir_test=\"E:\\\\s1s2\\\\s1s2_patched_light\\\\s1s2_patched_extra_light\\\\2021\\\\s1_imgs\\\\test\"\n",
    "    s2_t1_dir_test=\"E:\\\\s1s2\\\\s1s2_patched_light\\\\s1s2_patched_extra_light\\\\2021\\\\s2_imgs\\\\test\"\n",
    "    s1_t2_dir_test=\"E:\\\\s1s2\\\\s1s2_patched_light\\\\s1s2_patched_extra_light\\\\2019\\\\s1_imgs\\\\test\"\n",
    "    s2_t2_dir_test=\"E:\\\\s1s2\\\\s1s2_patched_light\\\\s1s2_patched_extra_light\\\\2019\\\\s2_imgs\\\\test\""
   ]
  },
  {
   "cell_type": "code",
   "execution_count": 11,
   "id": "8c605e52",
   "metadata": {
    "execution": {
     "iopub.execute_input": "2023-04-25T19:50:12.517887Z",
     "iopub.status.busy": "2023-04-25T19:50:12.517567Z",
     "iopub.status.idle": "2023-04-25T19:50:12.524519Z",
     "shell.execute_reply": "2023-04-25T19:50:12.523408Z"
    },
    "papermill": {
     "duration": 0.021437,
     "end_time": "2023-04-25T19:50:12.526784",
     "exception": false,
     "start_time": "2023-04-25T19:50:12.505347",
     "status": "completed"
    },
    "tags": []
   },
   "outputs": [],
   "source": [
    "TWO_WAY_DATASET = True if IN_KAGGLE else False\n",
    "INPUT_CHANGE_MAP = True if IN_KAGGLE else False\n",
    "S2_INCHANNELS = 12 if INPUT_CHANGE_MAP else 6\n",
    "S1_INCHANNELS = 7 if INPUT_CHANGE_MAP else 1\n",
    "\n",
    "LEARNING_RATE = 2e-4\n",
    "BATCH_SIZE = 4 if IN_KAGGLE else 1\n",
    "NUM_WORKERS = 2 if IN_KAGGLE else 8\n",
    "IMAGE_SIZE = 256\n",
    "WEIGHTED_LOSS = True\n",
    "L1_LAMBDA = 100\n",
    "NUM_EPOCHS = 10 if IN_KAGGLE else 2\n",
    "\n",
    "LOAD_MODEL = False\n",
    "SAVE_MODEL = True if IN_KAGGLE else False\n",
    "SAVE_MODEL_EVERY_EPOCH = 10\n",
    "SAVE_EXAMPLE_PLOTS = True\n",
    "EXAMPLES_TO_PLOT = [1,32,64,128,256,512,1024] if IN_KAGGLE else [1,2]\n",
    "CHECKPOINT_DISC = \"disc.pth.tar\"\n",
    "CHECKPOINT_GEN = \"gen.pth.tar\"\n",
    "\n",
    "RANDOM_SEED = 42"
   ]
  },
  {
   "cell_type": "code",
   "execution_count": 12,
   "id": "103cd968",
   "metadata": {
    "execution": {
     "iopub.execute_input": "2023-04-25T19:50:12.543476Z",
     "iopub.status.busy": "2023-04-25T19:50:12.543152Z",
     "iopub.status.idle": "2023-04-25T19:50:12.554904Z",
     "shell.execute_reply": "2023-04-25T19:50:12.553886Z"
    },
    "papermill": {
     "duration": 0.022684,
     "end_time": "2023-04-25T19:50:12.557062",
     "exception": false,
     "start_time": "2023-04-25T19:50:12.534378",
     "status": "completed"
    },
    "tags": []
   },
   "outputs": [],
   "source": [
    "def main():\n",
    "    disc = DiscriminatorV1(s2_in_channels=S2_INCHANNELS, s1_in_channels=S1_INCHANNELS).to(DEVICE)\n",
    "#     gen = GeneratorV2(s2_in_channels=S2_INCHANNELS, s1_in_channels= S1_INCHANNELS, features=64,pam_downsample=2).to(DEVICE)\n",
    "    gen = GeneratorV1_7(s2_in_channels=S2_INCHANNELS, s1_in_channels= S1_INCHANNELS, features=64).to(DEVICE)\n",
    "#     gen = GeneratorV2_3(s2_in_channels=S2_INCHANNELS, s1_in_channels= S1_INCHANNELS, features=64).to(DEVICE)\n",
    "    opt_disc = optim.Adam(disc.parameters(), lr=LEARNING_RATE, betas=(0.5, 0.999),)\n",
    "    opt_gen = optim.Adam(gen.parameters(), lr=LEARNING_RATE, betas=(0.5, 0.999))\n",
    "    BCE = nn.BCEWithLogitsLoss()\n",
    "    if WEIGHTED_LOSS:\n",
    "        L1_LOSS = WeightedL1Loss(change_weight=5)\n",
    "    else:\n",
    "        L1_LOSS = nn.L1Loss()\n",
    "\n",
    "    if LOAD_MODEL:\n",
    "        load_checkpoint(\n",
    "            CHECKPOINT_GEN, gen, opt_gen, LEARNING_RATE,\n",
    "        )\n",
    "        load_checkpoint(\n",
    "            CHECKPOINT_DISC, disc, opt_disc, LEARNING_RATE,\n",
    "        )\n",
    "\n",
    "    transform = transforms.Compose([S2S1Normalize(),myToTensor(dtype=torch.float32)])\n",
    "\n",
    "\n",
    "    train_dataset = Sen12Dataset(s1_t1_dir=s1_t1_dir_train,\n",
    "                                 s2_t1_dir=s2_t1_dir_train,\n",
    "                                 s1_t2_dir=s1_t2_dir_train,\n",
    "                                 s2_t2_dir=s2_t2_dir_train,\n",
    "                                 transform=transform,\n",
    "                                 two_way=TWO_WAY_DATASET)\n",
    "    \n",
    "    train_loader = DataLoader(\n",
    "        train_dataset,\n",
    "        batch_size=BATCH_SIZE,\n",
    "        shuffle=True,\n",
    "        num_workers=NUM_WORKERS,\n",
    "    )\n",
    "    g_scaler = torch.cuda.amp.GradScaler()\n",
    "    d_scaler = torch.cuda.amp.GradScaler()\n",
    "#     val_dataset = MapDataset(root_dir=VAL_DIR)\n",
    "#     val_loader = DataLoader(val_dataset, batch_size=1, shuffle=False)\n",
    "\n",
    "    for epoch in range(1, NUM_EPOCHS+1):\n",
    "        print(\"\\n\\n\" , end=\"\")\n",
    "        print(f\"Epoch: {epoch}\")\n",
    "        print(\"\")\n",
    "        train_fn(\n",
    "            disc, gen, train_loader, opt_disc, opt_gen,\n",
    "            L1_LOSS, BCE, g_scaler, d_scaler, weighted_loss= WEIGHTED_LOSS,\n",
    "            cm_input=INPUT_CHANGE_MAP, grad_clip=False)\n",
    "\n",
    "        if SAVE_MODEL and epoch % SAVE_MODEL_EVERY_EPOCH == 0:\n",
    "            save_checkpoint(epoch,gen, opt_gen, filename=CHECKPOINT_GEN)\n",
    "            save_checkpoint(epoch,disc, opt_disc, filename=CHECKPOINT_DISC)\n",
    "\n",
    "\n",
    "        if SAVE_EXAMPLE_PLOTS:\n",
    "            for img_i in EXAMPLES_TO_PLOT:\n",
    "                save_some_examples(gen, train_dataset, epoch, folder=\"train_evaluation_plots\",cm_input=INPUT_CHANGE_MAP, img_indx=img_i)\n",
    "\n",
    "            \n",
    "        gc.collect()\n",
    "        torch.cuda.empty_cache()\n",
    "            \n",
    "    return gen\n"
   ]
  },
  {
   "cell_type": "code",
   "execution_count": 13,
   "id": "e10199ff",
   "metadata": {
    "execution": {
     "iopub.execute_input": "2023-04-25T19:50:12.573674Z",
     "iopub.status.busy": "2023-04-25T19:50:12.573381Z",
     "iopub.status.idle": "2023-04-25T19:50:12.581311Z",
     "shell.execute_reply": "2023-04-25T19:50:12.580344Z"
    },
    "papermill": {
     "duration": 0.019216,
     "end_time": "2023-04-25T19:50:12.583568",
     "exception": false,
     "start_time": "2023-04-25T19:50:12.564352",
     "status": "completed"
    },
    "tags": []
   },
   "outputs": [],
   "source": [
    "torch.manual_seed(RANDOM_SEED)\n",
    "random.seed(RANDOM_SEED)\n",
    "np.random.seed(RANDOM_SEED)"
   ]
  },
  {
   "cell_type": "code",
   "execution_count": 14,
   "id": "46c4f6c7",
   "metadata": {
    "execution": {
     "iopub.execute_input": "2023-04-25T19:50:12.599624Z",
     "iopub.status.busy": "2023-04-25T19:50:12.599314Z",
     "iopub.status.idle": "2023-04-25T20:36:12.741027Z",
     "shell.execute_reply": "2023-04-25T20:36:12.739738Z"
    },
    "papermill": {
     "duration": 2760.152919,
     "end_time": "2023-04-25T20:36:12.743829",
     "exception": false,
     "start_time": "2023-04-25T19:50:12.590910",
     "status": "completed"
    },
    "tags": []
   },
   "outputs": [
    {
     "name": "stdout",
     "output_type": "stream",
     "text": [
      "\n",
      "\n",
      "Epoch: 1\n",
      "\n"
     ]
    },
    {
     "name": "stderr",
     "output_type": "stream",
     "text": [
      "100%|██████████| 663/663 [04:36<00:00,  2.40it/s, D_fake_mean=0.388, D_real_mean=0.572, G_loss_mean=19, L1_mean=17.9]\n"
     ]
    },
    {
     "name": "stdout",
     "output_type": "stream",
     "text": [
      "\n",
      "\n",
      "Epoch: 2\n",
      "\n"
     ]
    },
    {
     "name": "stderr",
     "output_type": "stream",
     "text": [
      "100%|██████████| 663/663 [04:30<00:00,  2.45it/s, D_fake_mean=0.355, D_real_mean=0.6, G_loss_mean=18.4, L1_mean=17.1]\n"
     ]
    },
    {
     "name": "stdout",
     "output_type": "stream",
     "text": [
      "\n",
      "\n",
      "Epoch: 3\n",
      "\n"
     ]
    },
    {
     "name": "stderr",
     "output_type": "stream",
     "text": [
      "100%|██████████| 663/663 [04:30<00:00,  2.45it/s, D_fake_mean=0.357, D_real_mean=0.597, G_loss_mean=18.1, L1_mean=16.9]\n"
     ]
    },
    {
     "name": "stdout",
     "output_type": "stream",
     "text": [
      "\n",
      "\n",
      "Epoch: 4\n",
      "\n"
     ]
    },
    {
     "name": "stderr",
     "output_type": "stream",
     "text": [
      "100%|██████████| 663/663 [04:30<00:00,  2.45it/s, D_fake_mean=0.367, D_real_mean=0.59, G_loss_mean=17.9, L1_mean=16.7]\n"
     ]
    },
    {
     "name": "stdout",
     "output_type": "stream",
     "text": [
      "\n",
      "\n",
      "Epoch: 5\n",
      "\n"
     ]
    },
    {
     "name": "stderr",
     "output_type": "stream",
     "text": [
      "100%|██████████| 663/663 [04:30<00:00,  2.45it/s, D_fake_mean=0.37, D_real_mean=0.585, G_loss_mean=17.7, L1_mean=16.6]\n"
     ]
    },
    {
     "name": "stdout",
     "output_type": "stream",
     "text": [
      "\n",
      "\n",
      "Epoch: 6\n",
      "\n"
     ]
    },
    {
     "name": "stderr",
     "output_type": "stream",
     "text": [
      "100%|██████████| 663/663 [04:30<00:00,  2.45it/s, D_fake_mean=0.376, D_real_mean=0.582, G_loss_mean=17.5, L1_mean=16.4]\n"
     ]
    },
    {
     "name": "stdout",
     "output_type": "stream",
     "text": [
      "\n",
      "\n",
      "Epoch: 7\n",
      "\n"
     ]
    },
    {
     "name": "stderr",
     "output_type": "stream",
     "text": [
      "100%|██████████| 663/663 [04:30<00:00,  2.45it/s, D_fake_mean=0.379, D_real_mean=0.579, G_loss_mean=17.2, L1_mean=16.1]\n"
     ]
    },
    {
     "name": "stdout",
     "output_type": "stream",
     "text": [
      "\n",
      "\n",
      "Epoch: 8\n",
      "\n"
     ]
    },
    {
     "name": "stderr",
     "output_type": "stream",
     "text": [
      "100%|██████████| 663/663 [04:30<00:00,  2.45it/s, D_fake_mean=0.378, D_real_mean=0.578, G_loss_mean=17, L1_mean=15.9]\n"
     ]
    },
    {
     "name": "stdout",
     "output_type": "stream",
     "text": [
      "\n",
      "\n",
      "Epoch: 9\n",
      "\n"
     ]
    },
    {
     "name": "stderr",
     "output_type": "stream",
     "text": [
      "100%|██████████| 663/663 [04:30<00:00,  2.45it/s, D_fake_mean=0.38, D_real_mean=0.576, G_loss_mean=16.7, L1_mean=15.6]\n"
     ]
    },
    {
     "name": "stdout",
     "output_type": "stream",
     "text": [
      "\n",
      "\n",
      "Epoch: 10\n",
      "\n"
     ]
    },
    {
     "name": "stderr",
     "output_type": "stream",
     "text": [
      "100%|██████████| 663/663 [04:30<00:00,  2.45it/s, D_fake_mean=0.381, D_real_mean=0.575, G_loss_mean=16.4, L1_mean=15.3]\n"
     ]
    },
    {
     "name": "stdout",
     "output_type": "stream",
     "text": [
      "=> Saving checkpoint\n",
      "=> Saving checkpoint\n"
     ]
    }
   ],
   "source": [
    "#matplotlib.use('Agg') # This refrains matplot lib form showing the plotted resualts below the cell\n",
    "gen_model = main()"
   ]
  },
  {
   "cell_type": "code",
   "execution_count": 15,
   "id": "e951a6aa",
   "metadata": {
    "execution": {
     "iopub.execute_input": "2023-04-25T20:36:13.653321Z",
     "iopub.status.busy": "2023-04-25T20:36:13.652896Z",
     "iopub.status.idle": "2023-04-25T20:36:13.658161Z",
     "shell.execute_reply": "2023-04-25T20:36:13.656955Z"
    },
    "papermill": {
     "duration": 0.551279,
     "end_time": "2023-04-25T20:36:13.660906",
     "exception": false,
     "start_time": "2023-04-25T20:36:13.109627",
     "status": "completed"
    },
    "tags": []
   },
   "outputs": [],
   "source": [
    "# transform = transforms.Compose([S2S1Normalize(),myToTensor(dtype=torch.float32)])\n",
    "# train_dataset = Sen12Dataset(s1_t1_dir=s1_t1_dir_train,\n",
    "#                              s2_t1_dir=s2_t1_dir_train,\n",
    "#                              s1_t2_dir=s1_t2_dir_train,\n",
    "#                              s2_t2_dir=s2_t2_dir_train,\n",
    "#                              transform=transform,\n",
    "#                              two_way=TWO_WAY_DATASET)\n",
    "# #plt.imshow(train_dataset[0][-1][0])\n",
    "\n",
    "# plt.imshow(torch.permute(train_dataset[123][4],(1,2,0))[:,:,0])\n",
    "# plt.colorbar()\n",
    "# plt.show()"
   ]
  },
  {
   "cell_type": "code",
   "execution_count": 16,
   "id": "7e93e9cd",
   "metadata": {
    "execution": {
     "iopub.execute_input": "2023-04-25T20:36:14.388470Z",
     "iopub.status.busy": "2023-04-25T20:36:14.387475Z",
     "iopub.status.idle": "2023-04-25T20:36:15.069432Z",
     "shell.execute_reply": "2023-04-25T20:36:15.068331Z"
    },
    "papermill": {
     "duration": 1.048075,
     "end_time": "2023-04-25T20:36:15.072155",
     "exception": false,
     "start_time": "2023-04-25T20:36:14.024080",
     "status": "completed"
    },
    "tags": []
   },
   "outputs": [],
   "source": [
    "transform = transforms.Compose([S2S1Normalize(),myToTensor()])\n",
    "test_dataset = Sen12Dataset(s1_t1_dir=s1_t1_dir_test,\n",
    "                            s2_t1_dir=s2_t1_dir_test,\n",
    "                            s1_t2_dir=s1_t2_dir_test,\n",
    "                            s2_t2_dir=s2_t2_dir_test,\n",
    "                            transform=transform,\n",
    "                            two_way=TWO_WAY_DATASET)\n",
    "test_loader = DataLoader(\n",
    "        test_dataset,\n",
    "        batch_size=BATCH_SIZE,\n",
    "        shuffle=False,\n",
    "        num_workers=NUM_WORKERS,\n",
    "    )"
   ]
  },
  {
   "cell_type": "code",
   "execution_count": 17,
   "id": "cbd32844",
   "metadata": {
    "execution": {
     "iopub.execute_input": "2023-04-25T20:36:15.868967Z",
     "iopub.status.busy": "2023-04-25T20:36:15.868262Z",
     "iopub.status.idle": "2023-04-25T20:36:15.873024Z",
     "shell.execute_reply": "2023-04-25T20:36:15.871836Z"
    },
    "papermill": {
     "duration": 0.43926,
     "end_time": "2023-04-25T20:36:15.875209",
     "exception": false,
     "start_time": "2023-04-25T20:36:15.435949",
     "status": "completed"
    },
    "tags": []
   },
   "outputs": [],
   "source": [
    "# save_some_examples(gen_model, test_dataset, NUM_EPOCHS, folder=\"evaluation\",cm_input=INPUT_CHANGE_MAP, img_indx=2)"
   ]
  },
  {
   "cell_type": "code",
   "execution_count": 18,
   "id": "87c41244",
   "metadata": {
    "execution": {
     "iopub.execute_input": "2023-04-25T20:36:16.621249Z",
     "iopub.status.busy": "2023-04-25T20:36:16.620850Z",
     "iopub.status.idle": "2023-04-25T20:36:16.634281Z",
     "shell.execute_reply": "2023-04-25T20:36:16.633273Z"
    },
    "papermill": {
     "duration": 0.389176,
     "end_time": "2023-04-25T20:36:16.636484",
     "exception": false,
     "start_time": "2023-04-25T20:36:16.247308",
     "status": "completed"
    },
    "tags": []
   },
   "outputs": [],
   "source": [
    "def eval_fn(gen, loader, ssim, psnr):\n",
    "    gen.eval()\n",
    "    loop = tqdm(loader, leave=True)\n",
    "    weighted_ssim_list = []\n",
    "    normal_ssim_list = []\n",
    "    weighted_psnr_list = []\n",
    "    normal_psnr_list = []\n",
    "    \n",
    "    for idx, (s2t2,s1t2,s2t1,s1t1,cm,rcm,s1cm) in enumerate(loop):\n",
    "        s2t2,s1t2,s2t1,s1t1,cm,rcm,s1cm = s2t2.to(DEVICE),s1t2.to(DEVICE),s2t1.to(DEVICE),s1t1.to(DEVICE),cm.to(DEVICE),rcm.to(DEVICE),s1cm.to(DEVICE)\n",
    "        s2t2,s1t2,s2t1,s1t1,cm,rcm,s1cm = s2t2.to(torch.float32),s1t2.to(torch.float32),s2t1.to(torch.float32),s1t1.to(torch.float32),cm.to(torch.float32),rcm.to(torch.float32),s1cm.to(torch.float32)\n",
    "        if INPUT_CHANGE_MAP:\n",
    "            s2t2 = torch.cat((s2t2, cm), dim=1)\n",
    "            s1t1 = torch.cat((s1t1, rcm), dim=1)\n",
    "        preds = gen(s2t2, s1t1)\n",
    "        \n",
    "        weighted_ssim = ssim((s1t2, preds), s1cm)\n",
    "        weighted_ssim_list.append(weighted_ssim)\n",
    "        normal_ssim = ssim((s1t2, preds))\n",
    "        normal_ssim_list.append(normal_ssim)\n",
    "        weighted_psnr = psnr((s1t2, preds), s1cm)\n",
    "        weighted_psnr_list.append(weighted_psnr)\n",
    "        normal_psnr = psnr((s1t2, preds))\n",
    "        normal_psnr_list.append(normal_psnr)\n",
    "\n",
    "\n",
    "        if idx % 10 == 0:\n",
    "            loop.set_postfix(\n",
    "                wssim_mean = torch.tensor(weighted_ssim_list).mean().item(),\n",
    "                ssim_mean = torch.tensor(normal_ssim_list).mean().item(),\n",
    "                wpsnr_mean = torch.tensor(weighted_psnr_list).mean().item(),\n",
    "                psnr_mean = torch.tensor(normal_psnr_list).mean().item(),\n",
    "            )\n",
    "    print(\"wssim_mean: \" , torch.tensor(weighted_ssim_list).mean().item())\n",
    "    print(\"ssim_mean: \" , torch.tensor(normal_ssim_list).mean().item())\n",
    "    print(\"wpsnr_mean: \" , torch.tensor(weighted_psnr_list).mean().item())\n",
    "    print(\"psnr_mean: \" , torch.tensor(normal_psnr_list).mean().item())"
   ]
  },
  {
   "cell_type": "code",
   "execution_count": 19,
   "id": "c73091eb",
   "metadata": {
    "execution": {
     "iopub.execute_input": "2023-04-25T20:36:17.447532Z",
     "iopub.status.busy": "2023-04-25T20:36:17.446275Z",
     "iopub.status.idle": "2023-04-25T20:36:17.451982Z",
     "shell.execute_reply": "2023-04-25T20:36:17.450917Z"
    },
    "papermill": {
     "duration": 0.448855,
     "end_time": "2023-04-25T20:36:17.454343",
     "exception": false,
     "start_time": "2023-04-25T20:36:17.005488",
     "status": "completed"
    },
    "tags": []
   },
   "outputs": [],
   "source": [
    "from eval_metrics import ssim\n",
    "from eval_metrics.psnr import wpsnr\n",
    "wssim = ssim.WSSIM(data_range=1.0)"
   ]
  },
  {
   "cell_type": "code",
   "execution_count": 20,
   "id": "0dc6d01b",
   "metadata": {
    "execution": {
     "iopub.execute_input": "2023-04-25T20:36:18.186514Z",
     "iopub.status.busy": "2023-04-25T20:36:18.186127Z",
     "iopub.status.idle": "2023-04-25T20:37:42.375493Z",
     "shell.execute_reply": "2023-04-25T20:37:42.374058Z"
    },
    "papermill": {
     "duration": 84.55935,
     "end_time": "2023-04-25T20:37:42.378742",
     "exception": false,
     "start_time": "2023-04-25T20:36:17.819392",
     "status": "completed"
    },
    "tags": []
   },
   "outputs": [
    {
     "name": "stderr",
     "output_type": "stream",
     "text": [
      "100%|██████████| 339/339 [01:24<00:00,  4.03it/s, psnr_mean=15.7, ssim_mean=0.397, wpsnr_mean=13, wssim_mean=0.343]"
     ]
    },
    {
     "name": "stdout",
     "output_type": "stream",
     "text": [
      "wssim_mean:  0.34100764989852905\n",
      "ssim_mean:  0.3938905596733093\n",
      "wpsnr_mean:  12.998411178588867\n",
      "psnr_mean:  15.741724014282227\n"
     ]
    },
    {
     "name": "stderr",
     "output_type": "stream",
     "text": [
      "\n"
     ]
    }
   ],
   "source": [
    "eval_fn(gen_model, test_loader, wssim, wpsnr)"
   ]
  },
  {
   "cell_type": "code",
   "execution_count": 21,
   "id": "215c8da7",
   "metadata": {
    "execution": {
     "iopub.execute_input": "2023-04-25T20:37:43.167560Z",
     "iopub.status.busy": "2023-04-25T20:37:43.166285Z",
     "iopub.status.idle": "2023-04-25T20:37:43.173079Z",
     "shell.execute_reply": "2023-04-25T20:37:43.172051Z"
    },
    "papermill": {
     "duration": 0.402835,
     "end_time": "2023-04-25T20:37:43.175351",
     "exception": false,
     "start_time": "2023-04-25T20:37:42.772516",
     "status": "completed"
    },
    "tags": []
   },
   "outputs": [],
   "source": [
    "# import shutil\n",
    "# shutil.rmtree(\"test_evaluation_plots\")"
   ]
  },
  {
   "cell_type": "code",
   "execution_count": 22,
   "id": "48c8f2a9",
   "metadata": {
    "execution": {
     "iopub.execute_input": "2023-04-25T20:37:43.962431Z",
     "iopub.status.busy": "2023-04-25T20:37:43.962010Z",
     "iopub.status.idle": "2023-04-25T20:40:56.340169Z",
     "shell.execute_reply": "2023-04-25T20:40:56.338806Z"
    },
    "papermill": {
     "duration": 192.777605,
     "end_time": "2023-04-25T20:40:56.343161",
     "exception": false,
     "start_time": "2023-04-25T20:37:43.565556",
     "status": "completed"
    },
    "tags": []
   },
   "outputs": [
    {
     "name": "stdout",
     "output_type": "stream",
     "text": [
      "  adding: kaggle/working/test_evaluation_plots_1/ (stored 0%)\r\n",
      "  adding: kaggle/working/test_evaluation_plots_1/epoc_10_img556.png (deflated 2%)\r\n",
      "  adding: kaggle/working/test_evaluation_plots_1/epoc_10_img16.png (deflated 2%)\r\n",
      "  adding: kaggle/working/test_evaluation_plots_1/epoc_10_img34.png (deflated 2%)\r\n",
      "  adding: kaggle/working/test_evaluation_plots_1/epoc_10_img114.png (deflated 2%)\r\n",
      "  adding: kaggle/working/test_evaluation_plots_1/epoc_10_img346.png (deflated 2%)\r\n",
      "  adding: kaggle/working/test_evaluation_plots_1/epoc_10_img378.png (deflated 2%)\r\n",
      "  adding: kaggle/working/test_evaluation_plots_1/epoc_10_img606.png (deflated 2%)\r\n",
      "  adding: kaggle/working/test_evaluation_plots_1/epoc_10_img390.png (deflated 2%)\r\n",
      "  adding: kaggle/working/test_evaluation_plots_1/epoc_10_img360.png (deflated 2%)\r\n",
      "  adding: kaggle/working/test_evaluation_plots_1/epoc_10_img436.png (deflated 2%)\r\n",
      "  adding: kaggle/working/test_evaluation_plots_1/epoc_10_img588.png (deflated 2%)\r\n",
      "  adding: kaggle/working/test_evaluation_plots_1/epoc_10_img116.png (deflated 2%)\r\n",
      "  adding: kaggle/working/test_evaluation_plots_1/epoc_10_img576.png (deflated 2%)\r\n",
      "  adding: kaggle/working/test_evaluation_plots_1/epoc_10_img500.png (deflated 2%)\r\n",
      "  adding: kaggle/working/test_evaluation_plots_1/epoc_10_img6.png (deflated 2%)\r\n",
      "  adding: kaggle/working/test_evaluation_plots_1/epoc_10_img376.png (deflated 2%)\r\n",
      "  adding: kaggle/working/test_evaluation_plots_1/epoc_10_img246.png (deflated 2%)\r\n",
      "  adding: kaggle/working/test_evaluation_plots_1/epoc_10_img642.png (deflated 2%)\r\n",
      "  adding: kaggle/working/test_evaluation_plots_1/epoc_10_img370.png (deflated 2%)\r\n",
      "  adding: kaggle/working/test_evaluation_plots_1/epoc_10_img372.png (deflated 2%)\r\n",
      "  adding: kaggle/working/test_evaluation_plots_1/epoc_10_img266.png (deflated 2%)\r\n",
      "  adding: kaggle/working/test_evaluation_plots_1/epoc_10_img508.png (deflated 2%)\r\n",
      "  adding: kaggle/working/test_evaluation_plots_1/epoc_10_img420.png (deflated 2%)\r\n",
      "  adding: kaggle/working/test_evaluation_plots_1/epoc_10_img4.png (deflated 2%)\r\n",
      "  adding: kaggle/working/test_evaluation_plots_1/epoc_10_img596.png (deflated 2%)\r\n",
      "  adding: kaggle/working/test_evaluation_plots_1/epoc_10_img258.png (deflated 2%)\r\n",
      "  adding: kaggle/working/test_evaluation_plots_1/epoc_10_img598.png (deflated 2%)\r\n",
      "  adding: kaggle/working/test_evaluation_plots_1/epoc_10_img456.png (deflated 2%)\r\n",
      "  adding: kaggle/working/test_evaluation_plots_1/epoc_10_img392.png (deflated 2%)\r\n",
      "  adding: kaggle/working/test_evaluation_plots_1/epoc_10_img198.png (deflated 2%)\r\n",
      "  adding: kaggle/working/test_evaluation_plots_1/epoc_10_img554.png (deflated 2%)\r\n",
      "  adding: kaggle/working/test_evaluation_plots_1/epoc_10_img468.png (deflated 2%)\r\n",
      "  adding: kaggle/working/test_evaluation_plots_1/epoc_10_img650.png (deflated 2%)\r\n",
      "  adding: kaggle/working/test_evaluation_plots_1/epoc_10_img130.png (deflated 2%)\r\n",
      "  adding: kaggle/working/test_evaluation_plots_1/epoc_10_img48.png (deflated 2%)\r\n",
      "  adding: kaggle/working/test_evaluation_plots_1/epoc_10_img502.png (deflated 2%)\r\n",
      "  adding: kaggle/working/test_evaluation_plots_1/epoc_10_img92.png (deflated 2%)\r\n",
      "  adding: kaggle/working/test_evaluation_plots_1/epoc_10_img28.png (deflated 2%)\r\n",
      "  adding: kaggle/working/test_evaluation_plots_1/epoc_10_img614.png (deflated 2%)\r\n",
      "  adding: kaggle/working/test_evaluation_plots_1/epoc_10_img636.png (deflated 2%)\r\n",
      "  adding: kaggle/working/test_evaluation_plots_1/epoc_10_img166.png (deflated 2%)\r\n",
      "  adding: kaggle/working/test_evaluation_plots_1/epoc_10_img150.png (deflated 2%)\r\n",
      "  adding: kaggle/working/test_evaluation_plots_1/epoc_10_img132.png (deflated 2%)\r\n",
      "  adding: kaggle/working/test_evaluation_plots_1/epoc_10_img388.png (deflated 2%)\r\n",
      "  adding: kaggle/working/test_evaluation_plots_1/epoc_10_img604.png (deflated 2%)\r\n",
      "  adding: kaggle/working/test_evaluation_plots_1/epoc_10_img366.png (deflated 2%)\r\n",
      "  adding: kaggle/working/test_evaluation_plots_1/epoc_10_img516.png (deflated 2%)\r\n",
      "  adding: kaggle/working/test_evaluation_plots_1/epoc_10_img546.png (deflated 2%)\r\n",
      "  adding: kaggle/working/test_evaluation_plots_1/epoc_10_img278.png (deflated 2%)\r\n",
      "  adding: kaggle/working/test_evaluation_plots_1/epoc_10_img472.png (deflated 2%)\r\n",
      "  adding: kaggle/working/test_evaluation_plots_1/epoc_10_img62.png (deflated 2%)\r\n",
      "  adding: kaggle/working/test_evaluation_plots_1/epoc_10_img338.png (deflated 2%)\r\n",
      "  adding: kaggle/working/test_evaluation_plots_1/epoc_10_img160.png (deflated 2%)\r\n",
      "  adding: kaggle/working/test_evaluation_plots_1/epoc_10_img446.png (deflated 2%)\r\n",
      "  adding: kaggle/working/test_evaluation_plots_1/epoc_10_img148.png (deflated 2%)\r\n",
      "  adding: kaggle/working/test_evaluation_plots_1/epoc_10_img282.png (deflated 2%)\r\n",
      "  adding: kaggle/working/test_evaluation_plots_1/epoc_10_img64.png (deflated 2%)\r\n",
      "  adding: kaggle/working/test_evaluation_plots_1/epoc_10_img90.png (deflated 2%)\r\n",
      "  adding: kaggle/working/test_evaluation_plots_1/epoc_10_img164.png (deflated 2%)\r\n",
      "  adding: kaggle/working/test_evaluation_plots_1/epoc_10_img110.png (deflated 2%)\r\n",
      "  adding: kaggle/working/test_evaluation_plots_1/epoc_10_img432.png (deflated 2%)\r\n",
      "  adding: kaggle/working/test_evaluation_plots_1/epoc_10_img32.png (deflated 2%)\r\n",
      "  adding: kaggle/working/test_evaluation_plots_1/epoc_10_img394.png (deflated 2%)\r\n",
      "  adding: kaggle/working/test_evaluation_plots_1/epoc_10_img424.png (deflated 2%)\r\n",
      "  adding: kaggle/working/test_evaluation_plots_1/epoc_10_img42.png (deflated 2%)\r\n",
      "  adding: kaggle/working/test_evaluation_plots_1/epoc_10_img146.png (deflated 2%)\r\n",
      "  adding: kaggle/working/test_evaluation_plots_1/epoc_10_img632.png (deflated 2%)\r\n",
      "  adding: kaggle/working/test_evaluation_plots_1/epoc_10_img208.png (deflated 2%)\r\n",
      "  adding: kaggle/working/test_evaluation_plots_1/epoc_10_img112.png (deflated 2%)\r\n",
      "  adding: kaggle/working/test_evaluation_plots_1/epoc_10_img108.png (deflated 2%)\r\n",
      "  adding: kaggle/working/test_evaluation_plots_1/epoc_10_img638.png (deflated 2%)\r\n",
      "  adding: kaggle/working/test_evaluation_plots_1/epoc_10_img222.png (deflated 2%)\r\n",
      "  adding: kaggle/working/test_evaluation_plots_1/epoc_10_img180.png (deflated 2%)\r\n",
      "  adding: kaggle/working/test_evaluation_plots_1/epoc_10_img362.png (deflated 2%)\r\n",
      "  adding: kaggle/working/test_evaluation_plots_1/epoc_10_img374.png (deflated 2%)\r\n",
      "  adding: kaggle/working/test_evaluation_plots_1/epoc_10_img592.png (deflated 2%)\r\n",
      "  adding: kaggle/working/test_evaluation_plots_1/epoc_10_img268.png (deflated 2%)\r\n",
      "  adding: kaggle/working/test_evaluation_plots_1/epoc_10_img428.png (deflated 2%)\r\n",
      "  adding: kaggle/working/test_evaluation_plots_1/epoc_10_img184.png (deflated 2%)\r\n",
      "  adding: kaggle/working/test_evaluation_plots_1/epoc_10_img320.png (deflated 2%)\r\n",
      "  adding: kaggle/working/test_evaluation_plots_1/epoc_10_img36.png (deflated 2%)\r\n",
      "  adding: kaggle/working/test_evaluation_plots_1/epoc_10_img380.png (deflated 2%)\r\n",
      "  adding: kaggle/working/test_evaluation_plots_1/epoc_10_img168.png (deflated 2%)\r\n",
      "  adding: kaggle/working/test_evaluation_plots_1/epoc_10_img476.png (deflated 2%)\r\n",
      "  adding: kaggle/working/test_evaluation_plots_1/epoc_10_img60.png (deflated 2%)\r\n",
      "  adding: kaggle/working/test_evaluation_plots_1/epoc_10_img14.png (deflated 2%)\r\n",
      "  adding: kaggle/working/test_evaluation_plots_1/epoc_10_img536.png (deflated 2%)\r\n",
      "  adding: kaggle/working/test_evaluation_plots_1/epoc_10_img450.png (deflated 2%)\r\n",
      "  adding: kaggle/working/test_evaluation_plots_1/epoc_10_img218.png (deflated 2%)\r\n",
      "  adding: kaggle/working/test_evaluation_plots_1/epoc_10_img154.png (deflated 2%)\r\n",
      "  adding: kaggle/working/test_evaluation_plots_1/epoc_10_img54.png (deflated 2%)\r\n",
      "  adding: kaggle/working/test_evaluation_plots_1/epoc_10_img566.png (deflated 2%)\r\n",
      "  adding: kaggle/working/test_evaluation_plots_1/epoc_10_img532.png (deflated 2%)\r\n",
      "  adding: kaggle/working/test_evaluation_plots_1/epoc_10_img438.png (deflated 2%)\r\n",
      "  adding: kaggle/working/test_evaluation_plots_1/epoc_10_img96.png (deflated 2%)\r\n",
      "  adding: kaggle/working/test_evaluation_plots_1/epoc_10_img414.png (deflated 2%)\r\n",
      "  adding: kaggle/working/test_evaluation_plots_1/epoc_10_img128.png (deflated 2%)\r\n",
      "  adding: kaggle/working/test_evaluation_plots_1/epoc_10_img228.png (deflated 2%)\r\n",
      "  adding: kaggle/working/test_evaluation_plots_1/epoc_10_img162.png (deflated 2%)\r\n",
      "  adding: kaggle/working/test_evaluation_plots_1/epoc_10_img408.png (deflated 2%)\r\n",
      "  adding: kaggle/working/test_evaluation_plots_1/epoc_10_img352.png (deflated 2%)\r\n",
      "  adding: kaggle/working/test_evaluation_plots_1/epoc_10_img382.png (deflated 2%)\r\n",
      "  adding: kaggle/working/test_evaluation_plots_1/epoc_10_img582.png (deflated 1%)\r\n",
      "  adding: kaggle/working/test_evaluation_plots_1/epoc_10_img260.png (deflated 2%)\r\n",
      "  adding: kaggle/working/test_evaluation_plots_1/epoc_10_img122.png (deflated 2%)\r\n",
      "  adding: kaggle/working/test_evaluation_plots_1/epoc_10_img58.png (deflated 2%)\r\n",
      "  adding: kaggle/working/test_evaluation_plots_1/epoc_10_img210.png (deflated 2%)\r\n",
      "  adding: kaggle/working/test_evaluation_plots_1/epoc_10_img220.png (deflated 2%)\r\n",
      "  adding: kaggle/working/test_evaluation_plots_1/epoc_10_img474.png (deflated 2%)\r\n",
      "  adding: kaggle/working/test_evaluation_plots_1/epoc_10_img398.png (deflated 2%)\r\n",
      "  adding: kaggle/working/test_evaluation_plots_1/epoc_10_img348.png (deflated 2%)\r\n",
      "  adding: kaggle/working/test_evaluation_plots_1/epoc_10_img526.png (deflated 2%)\r\n",
      "  adding: kaggle/working/test_evaluation_plots_1/epoc_10_img206.png (deflated 2%)\r\n",
      "  adding: kaggle/working/test_evaluation_plots_1/epoc_10_img434.png (deflated 2%)\r\n",
      "  adding: kaggle/working/test_evaluation_plots_1/epoc_10_img24.png (deflated 2%)\r\n",
      "  adding: kaggle/working/test_evaluation_plots_1/epoc_10_img104.png (deflated 2%)\r\n",
      "  adding: kaggle/working/test_evaluation_plots_1/epoc_10_img76.png (deflated 2%)\r\n",
      "  adding: kaggle/working/test_evaluation_plots_1/epoc_10_img624.png (deflated 2%)\r\n",
      "  adding: kaggle/working/test_evaluation_plots_1/epoc_10_img302.png (deflated 2%)\r\n",
      "  adding: kaggle/working/test_evaluation_plots_1/epoc_10_img144.png (deflated 2%)\r\n",
      "  adding: kaggle/working/test_evaluation_plots_1/epoc_10_img402.png (deflated 2%)\r\n",
      "  adding: kaggle/working/test_evaluation_plots_1/epoc_10_img478.png (deflated 2%)\r\n",
      "  adding: kaggle/working/test_evaluation_plots_1/epoc_10_img400.png (deflated 2%)\r\n",
      "  adding: kaggle/working/test_evaluation_plots_1/epoc_10_img186.png (deflated 2%)\r\n",
      "  adding: kaggle/working/test_evaluation_plots_1/epoc_10_img552.png (deflated 2%)\r\n",
      "  adding: kaggle/working/test_evaluation_plots_1/epoc_10_img94.png (deflated 2%)\r\n",
      "  adding: kaggle/working/test_evaluation_plots_1/epoc_10_img480.png (deflated 2%)\r\n",
      "  adding: kaggle/working/test_evaluation_plots_1/epoc_10_img124.png (deflated 2%)\r\n",
      "  adding: kaggle/working/test_evaluation_plots_1/epoc_10_img126.png (deflated 2%)\r\n",
      "  adding: kaggle/working/test_evaluation_plots_1/epoc_10_img530.png (deflated 2%)\r\n",
      "  adding: kaggle/working/test_evaluation_plots_1/epoc_10_img384.png (deflated 2%)\r\n",
      "  adding: kaggle/working/test_evaluation_plots_1/epoc_10_img310.png (deflated 2%)\r\n",
      "  adding: kaggle/working/test_evaluation_plots_1/epoc_10_img630.png (deflated 2%)\r\n",
      "  adding: kaggle/working/test_evaluation_plots_1/epoc_10_img178.png (deflated 2%)\r\n",
      "  adding: kaggle/working/test_evaluation_plots_1/epoc_10_img254.png (deflated 2%)\r\n",
      "  adding: kaggle/working/test_evaluation_plots_1/epoc_10_img640.png (deflated 2%)\r\n",
      "  adding: kaggle/working/test_evaluation_plots_1/epoc_10_img518.png (deflated 2%)\r\n",
      "  adding: kaggle/working/test_evaluation_plots_1/epoc_10_img174.png (deflated 2%)\r\n",
      "  adding: kaggle/working/test_evaluation_plots_1/epoc_10_img80.png (deflated 2%)\r\n",
      "  adding: kaggle/working/test_evaluation_plots_1/epoc_10_img88.png (deflated 3%)\r\n",
      "  adding: kaggle/working/test_evaluation_plots_1/epoc_10_img264.png (deflated 2%)\r\n",
      "  adding: kaggle/working/test_evaluation_plots_1/epoc_10_img586.png (deflated 2%)\r\n",
      "  adding: kaggle/working/test_evaluation_plots_1/epoc_10_img204.png (deflated 2%)\r\n",
      "  adding: kaggle/working/test_evaluation_plots_1/epoc_10_img250.png (deflated 2%)\r\n",
      "  adding: kaggle/working/test_evaluation_plots_1/epoc_10_img172.png (deflated 2%)\r\n",
      "  adding: kaggle/working/test_evaluation_plots_1/epoc_10_img200.png (deflated 2%)\r\n",
      "  adding: kaggle/working/test_evaluation_plots_1/epoc_10_img548.png (deflated 2%)\r\n",
      "  adding: kaggle/working/test_evaluation_plots_1/epoc_10_img574.png (deflated 2%)\r\n",
      "  adding: kaggle/working/test_evaluation_plots_1/epoc_10_img562.png (deflated 2%)\r\n",
      "  adding: kaggle/working/test_evaluation_plots_1/epoc_10_img226.png (deflated 2%)\r\n",
      "  adding: kaggle/working/test_evaluation_plots_1/epoc_10_img514.png (deflated 2%)\r\n",
      "  adding: kaggle/working/test_evaluation_plots_1/epoc_10_img216.png (deflated 2%)\r\n",
      "  adding: kaggle/working/test_evaluation_plots_1/epoc_10_img56.png (deflated 2%)\r\n",
      "  adding: kaggle/working/test_evaluation_plots_1/epoc_10_img18.png (deflated 2%)\r\n",
      "  adding: kaggle/working/test_evaluation_plots_1/epoc_10_img120.png (deflated 2%)\r\n",
      "  adding: kaggle/working/test_evaluation_plots_1/epoc_10_img490.png (deflated 2%)\r\n",
      "  adding: kaggle/working/test_evaluation_plots_1/epoc_10_img234.png (deflated 2%)\r\n",
      "  adding: kaggle/working/test_evaluation_plots_1/epoc_10_img332.png (deflated 2%)\r\n",
      "  adding: kaggle/working/test_evaluation_plots_1/epoc_10_img306.png (deflated 2%)\r\n",
      "  adding: kaggle/working/test_evaluation_plots_1/epoc_10_img494.png (deflated 2%)\r\n",
      "  adding: kaggle/working/test_evaluation_plots_1/epoc_10_img194.png (deflated 2%)\r\n",
      "  adding: kaggle/working/test_evaluation_plots_1/epoc_10_img528.png (deflated 2%)\r\n",
      "  adding: kaggle/working/test_evaluation_plots_1/epoc_10_img410.png (deflated 2%)\r\n",
      "  adding: kaggle/working/test_evaluation_plots_1/epoc_10_img344.png (deflated 2%)\r\n",
      "  adding: kaggle/working/test_evaluation_plots_1/epoc_10_img134.png (deflated 2%)\r\n",
      "  adding: kaggle/working/test_evaluation_plots_1/epoc_10_img314.png (deflated 2%)\r\n",
      "  adding: kaggle/working/test_evaluation_plots_1/epoc_10_img100.png (deflated 3%)\r\n",
      "  adding: kaggle/working/test_evaluation_plots_1/epoc_10_img202.png (deflated 2%)\r\n",
      "  adding: kaggle/working/test_evaluation_plots_1/epoc_10_img316.png (deflated 2%)\r\n",
      "  adding: kaggle/working/test_evaluation_plots_1/epoc_10_img86.png (deflated 2%)\r\n",
      "  adding: kaggle/working/test_evaluation_plots_1/epoc_10_img462.png (deflated 2%)\r\n",
      "  adding: kaggle/working/test_evaluation_plots_1/epoc_10_img140.png (deflated 2%)\r\n",
      "  adding: kaggle/working/test_evaluation_plots_1/epoc_10_img590.png (deflated 2%)\r\n",
      "  adding: kaggle/working/test_evaluation_plots_1/epoc_10_img664.png (deflated 2%)\r\n",
      "  adding: kaggle/working/test_evaluation_plots_1/epoc_10_img358.png (deflated 2%)\r\n",
      "  adding: kaggle/working/test_evaluation_plots_1/epoc_10_img558.png (deflated 2%)\r\n",
      "  adding: kaggle/working/test_evaluation_plots_1/epoc_10_img0.png (deflated 2%)\r\n",
      "  adding: kaggle/working/test_evaluation_plots_1/epoc_10_img252.png (deflated 2%)\r\n",
      "  adding: kaggle/working/test_evaluation_plots_1/epoc_10_img66.png (deflated 2%)\r\n",
      "  adding: kaggle/working/test_evaluation_plots_1/epoc_10_img22.png (deflated 2%)\r\n",
      "  adding: kaggle/working/test_evaluation_plots_1/epoc_10_img46.png (deflated 2%)\r\n",
      "  adding: kaggle/working/test_evaluation_plots_1/epoc_10_img648.png (deflated 2%)\r\n",
      "  adding: kaggle/working/test_evaluation_plots_1/epoc_10_img486.png (deflated 2%)\r\n",
      "  adding: kaggle/working/test_evaluation_plots_1/epoc_10_img584.png (deflated 2%)\r\n",
      "  adding: kaggle/working/test_evaluation_plots_1/epoc_10_img496.png (deflated 2%)\r\n",
      "  adding: kaggle/working/test_evaluation_plots_1/epoc_10_img318.png (deflated 2%)\r\n",
      "  adding: kaggle/working/test_evaluation_plots_1/epoc_10_img236.png (deflated 2%)\r\n",
      "  adding: kaggle/working/test_evaluation_plots_1/epoc_10_img40.png (deflated 2%)\r\n",
      "  adding: kaggle/working/test_evaluation_plots_1/epoc_10_img350.png (deflated 2%)\r\n",
      "  adding: kaggle/working/test_evaluation_plots_1/epoc_10_img326.png (deflated 2%)\r\n",
      "  adding: kaggle/working/test_evaluation_plots_1/epoc_10_img406.png (deflated 2%)\r\n",
      "  adding: kaggle/working/test_evaluation_plots_1/epoc_10_img52.png (deflated 2%)\r\n",
      "  adding: kaggle/working/test_evaluation_plots_1/epoc_10_img488.png (deflated 2%)\r\n",
      "  adding: kaggle/working/test_evaluation_plots_1/epoc_10_img364.png (deflated 2%)\r\n",
      "  adding: kaggle/working/test_evaluation_plots_1/epoc_10_img602.png (deflated 2%)\r\n",
      "  adding: kaggle/working/test_evaluation_plots_1/epoc_10_img570.png (deflated 2%)\r\n",
      "  adding: kaggle/working/test_evaluation_plots_1/epoc_10_img294.png (deflated 2%)\r\n",
      "  adding: kaggle/working/test_evaluation_plots_1/epoc_10_img322.png (deflated 2%)\r\n",
      "  adding: kaggle/working/test_evaluation_plots_1/epoc_10_img610.png (deflated 2%)\r\n",
      "  adding: kaggle/working/test_evaluation_plots_1/epoc_10_img430.png (deflated 2%)\r\n",
      "  adding: kaggle/working/test_evaluation_plots_1/epoc_10_img84.png (deflated 2%)\r\n",
      "  adding: kaggle/working/test_evaluation_plots_1/epoc_10_img70.png (deflated 2%)\r\n",
      "  adding: kaggle/working/test_evaluation_plots_1/epoc_10_img98.png (deflated 2%)\r\n",
      "  adding: kaggle/working/test_evaluation_plots_1/epoc_10_img464.png (deflated 2%)\r\n",
      "  adding: kaggle/working/test_evaluation_plots_1/epoc_10_img272.png (deflated 2%)\r\n",
      "  adding: kaggle/working/test_evaluation_plots_1/epoc_10_img422.png (deflated 2%)\r\n",
      "  adding: kaggle/working/test_evaluation_plots_1/epoc_10_img192.png (deflated 2%)\r\n",
      "  adding: kaggle/working/test_evaluation_plots_1/epoc_10_img542.png (deflated 2%)\r\n",
      "  adding: kaggle/working/test_evaluation_plots_1/epoc_10_img328.png (deflated 2%)\r\n",
      "  adding: kaggle/working/test_evaluation_plots_1/epoc_10_img270.png (deflated 2%)\r\n",
      "  adding: kaggle/working/test_evaluation_plots_1/epoc_10_img8.png (deflated 2%)\r\n",
      "  adding: kaggle/working/test_evaluation_plots_1/epoc_10_img2.png (deflated 2%)\r\n",
      "  adding: kaggle/working/test_evaluation_plots_1/epoc_10_img342.png (deflated 2%)\r\n",
      "  adding: kaggle/working/test_evaluation_plots_1/epoc_10_img656.png (deflated 2%)\r\n",
      "  adding: kaggle/working/test_evaluation_plots_1/epoc_10_img256.png (deflated 2%)\r\n",
      "  adding: kaggle/working/test_evaluation_plots_1/epoc_10_img600.png (deflated 2%)\r\n",
      "  adding: kaggle/working/test_evaluation_plots_1/epoc_10_img652.png (deflated 2%)\r\n",
      "  adding: kaggle/working/test_evaluation_plots_1/epoc_10_img670.png (deflated 2%)\r\n",
      "  adding: kaggle/working/test_evaluation_plots_1/epoc_10_img298.png (deflated 2%)\r\n",
      "  adding: kaggle/working/test_evaluation_plots_1/epoc_10_img188.png (deflated 2%)\r\n",
      "  adding: kaggle/working/test_evaluation_plots_1/epoc_10_img550.png (deflated 2%)\r\n",
      "  adding: kaggle/working/test_evaluation_plots_1/epoc_10_img340.png (deflated 2%)\r\n",
      "  adding: kaggle/working/test_evaluation_plots_1/epoc_10_img38.png (deflated 2%)\r\n",
      "  adding: kaggle/working/test_evaluation_plots_1/epoc_10_img444.png (deflated 2%)\r\n",
      "  adding: kaggle/working/test_evaluation_plots_1/epoc_10_img286.png (deflated 2%)\r\n",
      "  adding: kaggle/working/test_evaluation_plots_1/epoc_10_img152.png (deflated 2%)\r\n",
      "  adding: kaggle/working/test_evaluation_plots_1/epoc_10_img672.png (deflated 2%)\r\n",
      "  adding: kaggle/working/test_evaluation_plots_1/epoc_10_img674.png (deflated 2%)\r\n",
      "  adding: kaggle/working/test_evaluation_plots_1/epoc_10_img534.png (deflated 2%)\r\n",
      "  adding: kaggle/working/test_evaluation_plots_1/epoc_10_img248.png (deflated 2%)\r\n",
      "  adding: kaggle/working/test_evaluation_plots_1/epoc_10_img356.png (deflated 2%)\r\n",
      "  adding: kaggle/working/test_evaluation_plots_1/epoc_10_img176.png (deflated 2%)\r\n",
      "  adding: kaggle/working/test_evaluation_plots_1/epoc_10_img182.png (deflated 2%)\r\n",
      "  adding: kaggle/working/test_evaluation_plots_1/epoc_10_img668.png (deflated 2%)\r\n",
      "  adding: kaggle/working/test_evaluation_plots_1/epoc_10_img470.png (deflated 2%)\r\n",
      "  adding: kaggle/working/test_evaluation_plots_1/epoc_10_img232.png (deflated 2%)\r\n",
      "  adding: kaggle/working/test_evaluation_plots_1/epoc_10_img484.png (deflated 2%)\r\n",
      "  adding: kaggle/working/test_evaluation_plots_1/epoc_10_img628.png (deflated 2%)\r\n",
      "  adding: kaggle/working/test_evaluation_plots_1/epoc_10_img300.png (deflated 2%)\r\n",
      "  adding: kaggle/working/test_evaluation_plots_1/epoc_10_img608.png (deflated 2%)\r\n",
      "  adding: kaggle/working/test_evaluation_plots_1/epoc_10_img396.png (deflated 2%)\r\n",
      "  adding: kaggle/working/test_evaluation_plots_1/epoc_10_img290.png (deflated 2%)\r\n",
      "  adding: kaggle/working/test_evaluation_plots_1/epoc_10_img498.png (deflated 2%)\r\n",
      "  adding: kaggle/working/test_evaluation_plots_1/epoc_10_img506.png (deflated 2%)\r\n",
      "  adding: kaggle/working/test_evaluation_plots_1/epoc_10_img138.png (deflated 2%)\r\n",
      "  adding: kaggle/working/test_evaluation_plots_1/epoc_10_img68.png (deflated 2%)\r\n",
      "  adding: kaggle/working/test_evaluation_plots_1/epoc_10_img412.png (deflated 2%)\r\n",
      "  adding: kaggle/working/test_evaluation_plots_1/epoc_10_img504.png (deflated 2%)\r\n",
      "  adding: kaggle/working/test_evaluation_plots_1/epoc_10_img212.png (deflated 2%)\r\n",
      "  adding: kaggle/working/test_evaluation_plots_1/epoc_10_img296.png (deflated 2%)\r\n",
      "  adding: kaggle/working/test_evaluation_plots_1/epoc_10_img622.png (deflated 2%)\r\n",
      "  adding: kaggle/working/test_evaluation_plots_1/epoc_10_img564.png (deflated 2%)\r\n",
      "  adding: kaggle/working/test_evaluation_plots_1/epoc_10_img612.png (deflated 2%)\r\n",
      "  adding: kaggle/working/test_evaluation_plots_1/epoc_10_img618.png (deflated 2%)\r\n",
      "  adding: kaggle/working/test_evaluation_plots_1/epoc_10_img214.png (deflated 2%)\r\n",
      "  adding: kaggle/working/test_evaluation_plots_1/epoc_10_img50.png (deflated 2%)\r\n",
      "  adding: kaggle/working/test_evaluation_plots_1/epoc_10_img442.png (deflated 2%)\r\n",
      "  adding: kaggle/working/test_evaluation_plots_1/epoc_10_img482.png (deflated 2%)\r\n",
      "  adding: kaggle/working/test_evaluation_plots_1/epoc_10_img454.png (deflated 2%)\r\n",
      "  adding: kaggle/working/test_evaluation_plots_1/epoc_10_img230.png (deflated 2%)\r\n",
      "  adding: kaggle/working/test_evaluation_plots_1/epoc_10_img304.png (deflated 2%)\r\n",
      "  adding: kaggle/working/test_evaluation_plots_1/epoc_10_img626.png (deflated 2%)\r\n",
      "  adding: kaggle/working/test_evaluation_plots_1/epoc_10_img190.png (deflated 2%)\r\n",
      "  adding: kaggle/working/test_evaluation_plots_1/epoc_10_img74.png (deflated 2%)\r\n",
      "  adding: kaggle/working/test_evaluation_plots_1/epoc_10_img170.png (deflated 2%)\r\n",
      "  adding: kaggle/working/test_evaluation_plots_1/epoc_10_img568.png (deflated 2%)\r\n",
      "  adding: kaggle/working/test_evaluation_plots_1/epoc_10_img580.png (deflated 2%)\r\n",
      "  adding: kaggle/working/test_evaluation_plots_1/epoc_10_img452.png (deflated 2%)\r\n",
      "  adding: kaggle/working/test_evaluation_plots_1/epoc_10_img426.png (deflated 2%)\r\n",
      "  adding: kaggle/working/test_evaluation_plots_1/epoc_10_img654.png (deflated 2%)\r\n",
      "  adding: kaggle/working/test_evaluation_plots_1/epoc_10_img330.png (deflated 2%)\r\n",
      "  adding: kaggle/working/test_evaluation_plots_1/epoc_10_img276.png (deflated 2%)\r\n",
      "  adding: kaggle/working/test_evaluation_plots_1/epoc_10_img538.png (deflated 2%)\r\n",
      "  adding: kaggle/working/test_evaluation_plots_1/epoc_10_img620.png (deflated 2%)\r\n",
      "  adding: kaggle/working/test_evaluation_plots_1/epoc_10_img418.png (deflated 2%)\r\n",
      "  adding: kaggle/working/test_evaluation_plots_1/epoc_10_img522.png (deflated 1%)\r\n",
      "  adding: kaggle/working/test_evaluation_plots_1/epoc_10_img646.png (deflated 2%)\r\n",
      "  adding: kaggle/working/test_evaluation_plots_1/epoc_10_img312.png (deflated 2%)\r\n",
      "  adding: kaggle/working/test_evaluation_plots_1/epoc_10_img404.png (deflated 2%)\r\n",
      "  adding: kaggle/working/test_evaluation_plots_1/epoc_10_img26.png (deflated 2%)\r\n",
      "  adding: kaggle/working/test_evaluation_plots_1/epoc_10_img386.png (deflated 2%)\r\n",
      "  adding: kaggle/working/test_evaluation_plots_1/epoc_10_img644.png (deflated 2%)\r\n",
      "  adding: kaggle/working/test_evaluation_plots_1/epoc_10_img156.png (deflated 2%)\r\n",
      "  adding: kaggle/working/test_evaluation_plots_1/epoc_10_img544.png (deflated 2%)\r\n",
      "  adding: kaggle/working/test_evaluation_plots_1/epoc_10_img240.png (deflated 2%)\r\n",
      "  adding: kaggle/working/test_evaluation_plots_1/epoc_10_img354.png (deflated 2%)\r\n",
      "  adding: kaggle/working/test_evaluation_plots_1/epoc_10_img334.png (deflated 2%)\r\n",
      "  adding: kaggle/working/test_evaluation_plots_1/epoc_10_img82.png (deflated 2%)\r\n",
      "  adding: kaggle/working/test_evaluation_plots_1/epoc_10_img224.png (deflated 2%)\r\n",
      "  adding: kaggle/working/test_evaluation_plots_1/epoc_10_img118.png (deflated 2%)\r\n",
      "  adding: kaggle/working/test_evaluation_plots_1/epoc_10_img578.png (deflated 2%)\r\n",
      "  adding: kaggle/working/test_evaluation_plots_1/epoc_10_img142.png (deflated 2%)\r\n",
      "  adding: kaggle/working/test_evaluation_plots_1/epoc_10_img368.png (deflated 2%)\r\n",
      "  adding: kaggle/working/test_evaluation_plots_1/epoc_10_img280.png (deflated 2%)\r\n",
      "  adding: kaggle/working/test_evaluation_plots_1/epoc_10_img492.png (deflated 2%)\r\n",
      "  adding: kaggle/working/test_evaluation_plots_1/epoc_10_img416.png (deflated 2%)\r\n",
      "  adding: kaggle/working/test_evaluation_plots_1/epoc_10_img10.png (deflated 2%)\r\n",
      "  adding: kaggle/working/test_evaluation_plots_1/epoc_10_img44.png (deflated 2%)\r\n",
      "  adding: kaggle/working/test_evaluation_plots_1/epoc_10_img288.png (deflated 2%)\r\n",
      "  adding: kaggle/working/test_evaluation_plots_1/epoc_10_img660.png (deflated 2%)\r\n",
      "  adding: kaggle/working/test_evaluation_plots_1/epoc_10_img510.png (deflated 2%)\r\n",
      "  adding: kaggle/working/test_evaluation_plots_1/epoc_10_img106.png (deflated 2%)\r\n",
      "  adding: kaggle/working/test_evaluation_plots_1/epoc_10_img658.png (deflated 2%)\r\n",
      "  adding: kaggle/working/test_evaluation_plots_1/epoc_10_img78.png (deflated 4%)\r\n",
      "  adding: kaggle/working/test_evaluation_plots_1/epoc_10_img666.png (deflated 2%)\r\n",
      "  adding: kaggle/working/test_evaluation_plots_1/epoc_10_img572.png (deflated 2%)\r\n",
      "  adding: kaggle/working/test_evaluation_plots_1/epoc_10_img324.png (deflated 2%)\r\n",
      "  adding: kaggle/working/test_evaluation_plots_1/epoc_10_img244.png (deflated 2%)\r\n",
      "  adding: kaggle/working/test_evaluation_plots_1/epoc_10_img158.png (deflated 2%)\r\n",
      "  adding: kaggle/working/test_evaluation_plots_1/epoc_10_img448.png (deflated 2%)\r\n",
      "  adding: kaggle/working/test_evaluation_plots_1/epoc_10_img262.png (deflated 2%)\r\n",
      "  adding: kaggle/working/test_evaluation_plots_1/epoc_10_img560.png (deflated 2%)\r\n",
      "  adding: kaggle/working/test_evaluation_plots_1/epoc_10_img524.png (deflated 2%)\r\n",
      "  adding: kaggle/working/test_evaluation_plots_1/epoc_10_img676.png (deflated 2%)\r\n",
      "  adding: kaggle/working/test_evaluation_plots_1/epoc_10_img458.png (deflated 2%)\r\n",
      "  adding: kaggle/working/test_evaluation_plots_1/epoc_10_img136.png (deflated 2%)\r\n",
      "  adding: kaggle/working/test_evaluation_plots_1/epoc_10_img616.png (deflated 2%)\r\n",
      "  adding: kaggle/working/test_evaluation_plots_1/epoc_10_img308.png (deflated 2%)\r\n",
      "  adding: kaggle/working/test_evaluation_plots_1/epoc_10_img292.png (deflated 2%)\r\n",
      "  adding: kaggle/working/test_evaluation_plots_1/epoc_10_img512.png (deflated 2%)\r\n",
      "  adding: kaggle/working/test_evaluation_plots_1/epoc_10_img242.png (deflated 2%)\r\n",
      "  adding: kaggle/working/test_evaluation_plots_1/epoc_10_img336.png (deflated 2%)\r\n",
      "  adding: kaggle/working/test_evaluation_plots_1/epoc_10_img466.png (deflated 2%)\r\n",
      "  adding: kaggle/working/test_evaluation_plots_1/epoc_10_img440.png (deflated 2%)\r\n",
      "  adding: kaggle/working/test_evaluation_plots_1/epoc_10_img238.png (deflated 2%)\r\n",
      "  adding: kaggle/working/test_evaluation_plots_1/epoc_10_img540.png (deflated 2%)\r\n",
      "  adding: kaggle/working/test_evaluation_plots_1/epoc_10_img196.png (deflated 2%)\r\n",
      "  adding: kaggle/working/test_evaluation_plots_1/epoc_10_img72.png (deflated 2%)\r\n",
      "  adding: kaggle/working/test_evaluation_plots_1/epoc_10_img30.png (deflated 2%)\r\n",
      "  adding: kaggle/working/test_evaluation_plots_1/epoc_10_img594.png (deflated 1%)\r\n",
      "  adding: kaggle/working/test_evaluation_plots_1/epoc_10_img274.png (deflated 2%)\r\n",
      "  adding: kaggle/working/test_evaluation_plots_1/epoc_10_img20.png (deflated 2%)\r\n",
      "  adding: kaggle/working/test_evaluation_plots_1/epoc_10_img102.png (deflated 2%)\r\n",
      "  adding: kaggle/working/test_evaluation_plots_1/epoc_10_img634.png (deflated 2%)\r\n",
      "  adding: kaggle/working/test_evaluation_plots_1/epoc_10_img662.png (deflated 2%)\r\n",
      "  adding: kaggle/working/test_evaluation_plots_1/epoc_10_img12.png (deflated 2%)\r\n",
      "  adding: kaggle/working/test_evaluation_plots_1/epoc_10_img520.png (deflated 2%)\r\n",
      "  adding: kaggle/working/test_evaluation_plots_1/epoc_10_img460.png (deflated 2%)\r\n",
      "  adding: kaggle/working/test_evaluation_plots_1/epoc_10_img284.png (deflated 2%)\r\n"
     ]
    }
   ],
   "source": [
    "for img_i in range(0,len(test_dataset)//2, 2):\n",
    "    save_some_examples(gen_model, test_dataset, NUM_EPOCHS, folder=\"test_evaluation_plots_1\",cm_input=INPUT_CHANGE_MAP, img_indx=img_i)\n",
    "!zip -r /kaggle/working/test_evalplot1.zip  /kaggle/working/test_evaluation_plots_1/"
   ]
  },
  {
   "cell_type": "code",
   "execution_count": 23,
   "id": "56564975",
   "metadata": {
    "execution": {
     "iopub.execute_input": "2023-04-25T20:40:57.137779Z",
     "iopub.status.busy": "2023-04-25T20:40:57.137153Z",
     "iopub.status.idle": "2023-04-25T20:44:10.220109Z",
     "shell.execute_reply": "2023-04-25T20:44:10.218740Z"
    },
    "papermill": {
     "duration": 193.478602,
     "end_time": "2023-04-25T20:44:10.223134",
     "exception": false,
     "start_time": "2023-04-25T20:40:56.744532",
     "status": "completed"
    },
    "tags": []
   },
   "outputs": [
    {
     "name": "stdout",
     "output_type": "stream",
     "text": [
      "  adding: kaggle/working/test_evaluation_plots_2/ (stored 0%)\r\n",
      "  adding: kaggle/working/test_evaluation_plots_2/epoc_10_img907.png (deflated 2%)\r\n",
      "  adding: kaggle/working/test_evaluation_plots_2/epoc_10_img1117.png (deflated 2%)\r\n",
      "  adding: kaggle/working/test_evaluation_plots_2/epoc_10_img1187.png (deflated 2%)\r\n",
      "  adding: kaggle/working/test_evaluation_plots_2/epoc_10_img809.png (deflated 2%)\r\n",
      "  adding: kaggle/working/test_evaluation_plots_2/epoc_10_img793.png (deflated 2%)\r\n",
      "  adding: kaggle/working/test_evaluation_plots_2/epoc_10_img1343.png (deflated 2%)\r\n",
      "  adding: kaggle/working/test_evaluation_plots_2/epoc_10_img795.png (deflated 2%)\r\n",
      "  adding: kaggle/working/test_evaluation_plots_2/epoc_10_img681.png (deflated 2%)\r\n",
      "  adding: kaggle/working/test_evaluation_plots_2/epoc_10_img1087.png (deflated 2%)\r\n",
      "  adding: kaggle/working/test_evaluation_plots_2/epoc_10_img1305.png (deflated 2%)\r\n",
      "  adding: kaggle/working/test_evaluation_plots_2/epoc_10_img1175.png (deflated 2%)\r\n",
      "  adding: kaggle/working/test_evaluation_plots_2/epoc_10_img1075.png (deflated 2%)\r\n",
      "  adding: kaggle/working/test_evaluation_plots_2/epoc_10_img1083.png (deflated 2%)\r\n",
      "  adding: kaggle/working/test_evaluation_plots_2/epoc_10_img1249.png (deflated 2%)\r\n",
      "  adding: kaggle/working/test_evaluation_plots_2/epoc_10_img1295.png (deflated 2%)\r\n",
      "  adding: kaggle/working/test_evaluation_plots_2/epoc_10_img805.png (deflated 2%)\r\n",
      "  adding: kaggle/working/test_evaluation_plots_2/epoc_10_img949.png (deflated 2%)\r\n",
      "  adding: kaggle/working/test_evaluation_plots_2/epoc_10_img853.png (deflated 2%)\r\n",
      "  adding: kaggle/working/test_evaluation_plots_2/epoc_10_img869.png (deflated 2%)\r\n",
      "  adding: kaggle/working/test_evaluation_plots_2/epoc_10_img1093.png (deflated 2%)\r\n",
      "  adding: kaggle/working/test_evaluation_plots_2/epoc_10_img903.png (deflated 2%)\r\n",
      "  adding: kaggle/working/test_evaluation_plots_2/epoc_10_img939.png (deflated 2%)\r\n",
      "  adding: kaggle/working/test_evaluation_plots_2/epoc_10_img1069.png (deflated 2%)\r\n",
      "  adding: kaggle/working/test_evaluation_plots_2/epoc_10_img719.png (deflated 2%)\r\n",
      "  adding: kaggle/working/test_evaluation_plots_2/epoc_10_img1129.png (deflated 2%)\r\n",
      "  adding: kaggle/working/test_evaluation_plots_2/epoc_10_img879.png (deflated 2%)\r\n",
      "  adding: kaggle/working/test_evaluation_plots_2/epoc_10_img1009.png (deflated 2%)\r\n",
      "  adding: kaggle/working/test_evaluation_plots_2/epoc_10_img1159.png (deflated 2%)\r\n",
      "  adding: kaggle/working/test_evaluation_plots_2/epoc_10_img725.png (deflated 2%)\r\n",
      "  adding: kaggle/working/test_evaluation_plots_2/epoc_10_img847.png (deflated 2%)\r\n",
      "  adding: kaggle/working/test_evaluation_plots_2/epoc_10_img811.png (deflated 2%)\r\n",
      "  adding: kaggle/working/test_evaluation_plots_2/epoc_10_img991.png (deflated 2%)\r\n",
      "  adding: kaggle/working/test_evaluation_plots_2/epoc_10_img775.png (deflated 2%)\r\n",
      "  adding: kaggle/working/test_evaluation_plots_2/epoc_10_img1329.png (deflated 2%)\r\n",
      "  adding: kaggle/working/test_evaluation_plots_2/epoc_10_img691.png (deflated 2%)\r\n",
      "  adding: kaggle/working/test_evaluation_plots_2/epoc_10_img1161.png (deflated 2%)\r\n",
      "  adding: kaggle/working/test_evaluation_plots_2/epoc_10_img901.png (deflated 2%)\r\n",
      "  adding: kaggle/working/test_evaluation_plots_2/epoc_10_img1055.png (deflated 2%)\r\n",
      "  adding: kaggle/working/test_evaluation_plots_2/epoc_10_img1151.png (deflated 2%)\r\n",
      "  adding: kaggle/working/test_evaluation_plots_2/epoc_10_img1077.png (deflated 2%)\r\n",
      "  adding: kaggle/working/test_evaluation_plots_2/epoc_10_img851.png (deflated 2%)\r\n",
      "  adding: kaggle/working/test_evaluation_plots_2/epoc_10_img1275.png (deflated 1%)\r\n",
      "  adding: kaggle/working/test_evaluation_plots_2/epoc_10_img787.png (deflated 2%)\r\n",
      "  adding: kaggle/working/test_evaluation_plots_2/epoc_10_img741.png (deflated 2%)\r\n",
      "  adding: kaggle/working/test_evaluation_plots_2/epoc_10_img891.png (deflated 2%)\r\n",
      "  adding: kaggle/working/test_evaluation_plots_2/epoc_10_img1215.png (deflated 2%)\r\n",
      "  adding: kaggle/working/test_evaluation_plots_2/epoc_10_img881.png (deflated 2%)\r\n",
      "  adding: kaggle/working/test_evaluation_plots_2/epoc_10_img703.png (deflated 2%)\r\n",
      "  adding: kaggle/working/test_evaluation_plots_2/epoc_10_img1325.png (deflated 2%)\r\n",
      "  adding: kaggle/working/test_evaluation_plots_2/epoc_10_img1137.png (deflated 2%)\r\n",
      "  adding: kaggle/working/test_evaluation_plots_2/epoc_10_img1281.png (deflated 2%)\r\n",
      "  adding: kaggle/working/test_evaluation_plots_2/epoc_10_img917.png (deflated 2%)\r\n",
      "  adding: kaggle/working/test_evaluation_plots_2/epoc_10_img1023.png (deflated 2%)\r\n",
      "  adding: kaggle/working/test_evaluation_plots_2/epoc_10_img1177.png (deflated 2%)\r\n",
      "  adding: kaggle/working/test_evaluation_plots_2/epoc_10_img1273.png (deflated 2%)\r\n",
      "  adding: kaggle/working/test_evaluation_plots_2/epoc_10_img737.png (deflated 2%)\r\n",
      "  adding: kaggle/working/test_evaluation_plots_2/epoc_10_img1169.png (deflated 2%)\r\n",
      "  adding: kaggle/working/test_evaluation_plots_2/epoc_10_img753.png (deflated 2%)\r\n",
      "  adding: kaggle/working/test_evaluation_plots_2/epoc_10_img1133.png (deflated 2%)\r\n",
      "  adding: kaggle/working/test_evaluation_plots_2/epoc_10_img755.png (deflated 3%)\r\n",
      "  adding: kaggle/working/test_evaluation_plots_2/epoc_10_img1015.png (deflated 2%)\r\n",
      "  adding: kaggle/working/test_evaluation_plots_2/epoc_10_img1105.png (deflated 2%)\r\n",
      "  adding: kaggle/working/test_evaluation_plots_2/epoc_10_img1173.png (deflated 2%)\r\n",
      "  adding: kaggle/working/test_evaluation_plots_2/epoc_10_img759.png (deflated 2%)\r\n",
      "  adding: kaggle/working/test_evaluation_plots_2/epoc_10_img1335.png (deflated 2%)\r\n",
      "  adding: kaggle/working/test_evaluation_plots_2/epoc_10_img899.png (deflated 2%)\r\n",
      "  adding: kaggle/working/test_evaluation_plots_2/epoc_10_img1033.png (deflated 2%)\r\n",
      "  adding: kaggle/working/test_evaluation_plots_2/epoc_10_img771.png (deflated 2%)\r\n",
      "  adding: kaggle/working/test_evaluation_plots_2/epoc_10_img1307.png (deflated 2%)\r\n",
      "  adding: kaggle/working/test_evaluation_plots_2/epoc_10_img1301.png (deflated 2%)\r\n",
      "  adding: kaggle/working/test_evaluation_plots_2/epoc_10_img875.png (deflated 2%)\r\n",
      "  adding: kaggle/working/test_evaluation_plots_2/epoc_10_img1037.png (deflated 2%)\r\n",
      "  adding: kaggle/working/test_evaluation_plots_2/epoc_10_img1113.png (deflated 2%)\r\n",
      "  adding: kaggle/working/test_evaluation_plots_2/epoc_10_img1211.png (deflated 2%)\r\n",
      "  adding: kaggle/working/test_evaluation_plots_2/epoc_10_img999.png (deflated 2%)\r\n",
      "  adding: kaggle/working/test_evaluation_plots_2/epoc_10_img1051.png (deflated 2%)\r\n",
      "  adding: kaggle/working/test_evaluation_plots_2/epoc_10_img823.png (deflated 2%)\r\n",
      "  adding: kaggle/working/test_evaluation_plots_2/epoc_10_img1081.png (deflated 2%)\r\n",
      "  adding: kaggle/working/test_evaluation_plots_2/epoc_10_img1263.png (deflated 2%)\r\n",
      "  adding: kaggle/working/test_evaluation_plots_2/epoc_10_img971.png (deflated 2%)\r\n",
      "  adding: kaggle/working/test_evaluation_plots_2/epoc_10_img1115.png (deflated 2%)\r\n",
      "  adding: kaggle/working/test_evaluation_plots_2/epoc_10_img721.png (deflated 2%)\r\n",
      "  adding: kaggle/working/test_evaluation_plots_2/epoc_10_img873.png (deflated 2%)\r\n",
      "  adding: kaggle/working/test_evaluation_plots_2/epoc_10_img1041.png (deflated 2%)\r\n",
      "  adding: kaggle/working/test_evaluation_plots_2/epoc_10_img1259.png (deflated 2%)\r\n",
      "  adding: kaggle/working/test_evaluation_plots_2/epoc_10_img1245.png (deflated 2%)\r\n",
      "  adding: kaggle/working/test_evaluation_plots_2/epoc_10_img1067.png (deflated 2%)\r\n",
      "  adding: kaggle/working/test_evaluation_plots_2/epoc_10_img969.png (deflated 2%)\r\n",
      "  adding: kaggle/working/test_evaluation_plots_2/epoc_10_img1145.png (deflated 2%)\r\n",
      "  adding: kaggle/working/test_evaluation_plots_2/epoc_10_img1227.png (deflated 2%)\r\n",
      "  adding: kaggle/working/test_evaluation_plots_2/epoc_10_img1111.png (deflated 2%)\r\n",
      "  adding: kaggle/working/test_evaluation_plots_2/epoc_10_img1153.png (deflated 2%)\r\n",
      "  adding: kaggle/working/test_evaluation_plots_2/epoc_10_img1321.png (deflated 2%)\r\n",
      "  adding: kaggle/working/test_evaluation_plots_2/epoc_10_img1165.png (deflated 2%)\r\n",
      "  adding: kaggle/working/test_evaluation_plots_2/epoc_10_img1139.png (deflated 2%)\r\n",
      "  adding: kaggle/working/test_evaluation_plots_2/epoc_10_img799.png (deflated 2%)\r\n",
      "  adding: kaggle/working/test_evaluation_plots_2/epoc_10_img1197.png (deflated 2%)\r\n",
      "  adding: kaggle/working/test_evaluation_plots_2/epoc_10_img895.png (deflated 2%)\r\n",
      "  adding: kaggle/working/test_evaluation_plots_2/epoc_10_img1107.png (deflated 2%)\r\n",
      "  adding: kaggle/working/test_evaluation_plots_2/epoc_10_img683.png (deflated 2%)\r\n",
      "  adding: kaggle/working/test_evaluation_plots_2/epoc_10_img1183.png (deflated 2%)\r\n",
      "  adding: kaggle/working/test_evaluation_plots_2/epoc_10_img1239.png (deflated 2%)\r\n",
      "  adding: kaggle/working/test_evaluation_plots_2/epoc_10_img1277.png (deflated 2%)\r\n",
      "  adding: kaggle/working/test_evaluation_plots_2/epoc_10_img935.png (deflated 2%)\r\n",
      "  adding: kaggle/working/test_evaluation_plots_2/epoc_10_img707.png (deflated 2%)\r\n",
      "  adding: kaggle/working/test_evaluation_plots_2/epoc_10_img1061.png (deflated 2%)\r\n",
      "  adding: kaggle/working/test_evaluation_plots_2/epoc_10_img705.png (deflated 2%)\r\n",
      "  adding: kaggle/working/test_evaluation_plots_2/epoc_10_img1251.png (deflated 2%)\r\n",
      "  adding: kaggle/working/test_evaluation_plots_2/epoc_10_img1293.png (deflated 2%)\r\n",
      "  adding: kaggle/working/test_evaluation_plots_2/epoc_10_img855.png (deflated 2%)\r\n",
      "  adding: kaggle/working/test_evaluation_plots_2/epoc_10_img945.png (deflated 2%)\r\n",
      "  adding: kaggle/working/test_evaluation_plots_2/epoc_10_img1285.png (deflated 2%)\r\n",
      "  adding: kaggle/working/test_evaluation_plots_2/epoc_10_img1345.png (deflated 2%)\r\n",
      "  adding: kaggle/working/test_evaluation_plots_2/epoc_10_img933.png (deflated 2%)\r\n",
      "  adding: kaggle/working/test_evaluation_plots_2/epoc_10_img867.png (deflated 2%)\r\n",
      "  adding: kaggle/working/test_evaluation_plots_2/epoc_10_img1349.png (deflated 2%)\r\n",
      "  adding: kaggle/working/test_evaluation_plots_2/epoc_10_img1319.png (deflated 2%)\r\n",
      "  adding: kaggle/working/test_evaluation_plots_2/epoc_10_img1233.png (deflated 2%)\r\n",
      "  adding: kaggle/working/test_evaluation_plots_2/epoc_10_img1181.png (deflated 2%)\r\n",
      "  adding: kaggle/working/test_evaluation_plots_2/epoc_10_img1141.png (deflated 2%)\r\n",
      "  adding: kaggle/working/test_evaluation_plots_2/epoc_10_img953.png (deflated 2%)\r\n",
      "  adding: kaggle/working/test_evaluation_plots_2/epoc_10_img1203.png (deflated 2%)\r\n",
      "  adding: kaggle/working/test_evaluation_plots_2/epoc_10_img1003.png (deflated 2%)\r\n",
      "  adding: kaggle/working/test_evaluation_plots_2/epoc_10_img1019.png (deflated 2%)\r\n",
      "  adding: kaggle/working/test_evaluation_plots_2/epoc_10_img965.png (deflated 2%)\r\n",
      "  adding: kaggle/working/test_evaluation_plots_2/epoc_10_img959.png (deflated 2%)\r\n",
      "  adding: kaggle/working/test_evaluation_plots_2/epoc_10_img1063.png (deflated 2%)\r\n",
      "  adding: kaggle/working/test_evaluation_plots_2/epoc_10_img729.png (deflated 2%)\r\n",
      "  adding: kaggle/working/test_evaluation_plots_2/epoc_10_img757.png (deflated 2%)\r\n",
      "  adding: kaggle/working/test_evaluation_plots_2/epoc_10_img1007.png (deflated 2%)\r\n",
      "  adding: kaggle/working/test_evaluation_plots_2/epoc_10_img789.png (deflated 2%)\r\n",
      "  adding: kaggle/working/test_evaluation_plots_2/epoc_10_img1135.png (deflated 2%)\r\n",
      "  adding: kaggle/working/test_evaluation_plots_2/epoc_10_img1131.png (deflated 2%)\r\n",
      "  adding: kaggle/working/test_evaluation_plots_2/epoc_10_img693.png (deflated 2%)\r\n",
      "  adding: kaggle/working/test_evaluation_plots_2/epoc_10_img1287.png (deflated 2%)\r\n",
      "  adding: kaggle/working/test_evaluation_plots_2/epoc_10_img1091.png (deflated 2%)\r\n",
      "  adding: kaggle/working/test_evaluation_plots_2/epoc_10_img839.png (deflated 2%)\r\n",
      "  adding: kaggle/working/test_evaluation_plots_2/epoc_10_img677.png (deflated 2%)\r\n",
      "  adding: kaggle/working/test_evaluation_plots_2/epoc_10_img913.png (deflated 2%)\r\n",
      "  adding: kaggle/working/test_evaluation_plots_2/epoc_10_img1053.png (deflated 2%)\r\n",
      "  adding: kaggle/working/test_evaluation_plots_2/epoc_10_img841.png (deflated 2%)\r\n",
      "  adding: kaggle/working/test_evaluation_plots_2/epoc_10_img1013.png (deflated 2%)\r\n",
      "  adding: kaggle/working/test_evaluation_plots_2/epoc_10_img987.png (deflated 2%)\r\n",
      "  adding: kaggle/working/test_evaluation_plots_2/epoc_10_img1289.png (deflated 2%)\r\n",
      "  adding: kaggle/working/test_evaluation_plots_2/epoc_10_img1195.png (deflated 2%)\r\n",
      "  adding: kaggle/working/test_evaluation_plots_2/epoc_10_img711.png (deflated 2%)\r\n",
      "  adding: kaggle/working/test_evaluation_plots_2/epoc_10_img837.png (deflated 2%)\r\n",
      "  adding: kaggle/working/test_evaluation_plots_2/epoc_10_img687.png (deflated 2%)\r\n",
      "  adding: kaggle/working/test_evaluation_plots_2/epoc_10_img923.png (deflated 2%)\r\n",
      "  adding: kaggle/working/test_evaluation_plots_2/epoc_10_img767.png (deflated 2%)\r\n",
      "  adding: kaggle/working/test_evaluation_plots_2/epoc_10_img745.png (deflated 2%)\r\n",
      "  adding: kaggle/working/test_evaluation_plots_2/epoc_10_img815.png (deflated 2%)\r\n",
      "  adding: kaggle/working/test_evaluation_plots_2/epoc_10_img1059.png (deflated 2%)\r\n",
      "  adding: kaggle/working/test_evaluation_plots_2/epoc_10_img1235.png (deflated 2%)\r\n",
      "  adding: kaggle/working/test_evaluation_plots_2/epoc_10_img825.png (deflated 2%)\r\n",
      "  adding: kaggle/working/test_evaluation_plots_2/epoc_10_img1047.png (deflated 2%)\r\n",
      "  adding: kaggle/working/test_evaluation_plots_2/epoc_10_img1039.png (deflated 2%)\r\n",
      "  adding: kaggle/working/test_evaluation_plots_2/epoc_10_img983.png (deflated 2%)\r\n",
      "  adding: kaggle/working/test_evaluation_plots_2/epoc_10_img1189.png (deflated 2%)\r\n",
      "  adding: kaggle/working/test_evaluation_plots_2/epoc_10_img1021.png (deflated 2%)\r\n",
      "  adding: kaggle/working/test_evaluation_plots_2/epoc_10_img1207.png (deflated 2%)\r\n",
      "  adding: kaggle/working/test_evaluation_plots_2/epoc_10_img905.png (deflated 2%)\r\n",
      "  adding: kaggle/working/test_evaluation_plots_2/epoc_10_img1253.png (deflated 2%)\r\n",
      "  adding: kaggle/working/test_evaluation_plots_2/epoc_10_img723.png (deflated 2%)\r\n",
      "  adding: kaggle/working/test_evaluation_plots_2/epoc_10_img951.png (deflated 2%)\r\n",
      "  adding: kaggle/working/test_evaluation_plots_2/epoc_10_img1241.png (deflated 2%)\r\n",
      "  adding: kaggle/working/test_evaluation_plots_2/epoc_10_img931.png (deflated 2%)\r\n",
      "  adding: kaggle/working/test_evaluation_plots_2/epoc_10_img1229.png (deflated 2%)\r\n",
      "  adding: kaggle/working/test_evaluation_plots_2/epoc_10_img1079.png (deflated 2%)\r\n",
      "  adding: kaggle/working/test_evaluation_plots_2/epoc_10_img835.png (deflated 2%)\r\n",
      "  adding: kaggle/working/test_evaluation_plots_2/epoc_10_img797.png (deflated 2%)\r\n",
      "  adding: kaggle/working/test_evaluation_plots_2/epoc_10_img773.png (deflated 2%)\r\n",
      "  adding: kaggle/working/test_evaluation_plots_2/epoc_10_img1057.png (deflated 2%)\r\n",
      "  adding: kaggle/working/test_evaluation_plots_2/epoc_10_img979.png (deflated 2%)\r\n",
      "  adding: kaggle/working/test_evaluation_plots_2/epoc_10_img1193.png (deflated 2%)\r\n",
      "  adding: kaggle/working/test_evaluation_plots_2/epoc_10_img885.png (deflated 2%)\r\n",
      "  adding: kaggle/working/test_evaluation_plots_2/epoc_10_img1127.png (deflated 2%)\r\n",
      "  adding: kaggle/working/test_evaluation_plots_2/epoc_10_img1027.png (deflated 2%)\r\n",
      "  adding: kaggle/working/test_evaluation_plots_2/epoc_10_img679.png (deflated 2%)\r\n",
      "  adding: kaggle/working/test_evaluation_plots_2/epoc_10_img1209.png (deflated 2%)\r\n",
      "  adding: kaggle/working/test_evaluation_plots_2/epoc_10_img685.png (deflated 2%)\r\n",
      "  adding: kaggle/working/test_evaluation_plots_2/epoc_10_img1017.png (deflated 2%)\r\n",
      "  adding: kaggle/working/test_evaluation_plots_2/epoc_10_img1339.png (deflated 2%)\r\n",
      "  adding: kaggle/working/test_evaluation_plots_2/epoc_10_img981.png (deflated 2%)\r\n",
      "  adding: kaggle/working/test_evaluation_plots_2/epoc_10_img831.png (deflated 2%)\r\n",
      "  adding: kaggle/working/test_evaluation_plots_2/epoc_10_img791.png (deflated 2%)\r\n",
      "  adding: kaggle/working/test_evaluation_plots_2/epoc_10_img1025.png (deflated 2%)\r\n",
      "  adding: kaggle/working/test_evaluation_plots_2/epoc_10_img765.png (deflated 3%)\r\n",
      "  adding: kaggle/working/test_evaluation_plots_2/epoc_10_img733.png (deflated 2%)\r\n",
      "  adding: kaggle/working/test_evaluation_plots_2/epoc_10_img833.png (deflated 2%)\r\n",
      "  adding: kaggle/working/test_evaluation_plots_2/epoc_10_img1311.png (deflated 2%)\r\n",
      "  adding: kaggle/working/test_evaluation_plots_2/epoc_10_img1049.png (deflated 2%)\r\n",
      "  adding: kaggle/working/test_evaluation_plots_2/epoc_10_img1317.png (deflated 2%)\r\n",
      "  adding: kaggle/working/test_evaluation_plots_2/epoc_10_img1217.png (deflated 2%)\r\n",
      "  adding: kaggle/working/test_evaluation_plots_2/epoc_10_img1109.png (deflated 2%)\r\n",
      "  adding: kaggle/working/test_evaluation_plots_2/epoc_10_img781.png (deflated 2%)\r\n",
      "  adding: kaggle/working/test_evaluation_plots_2/epoc_10_img963.png (deflated 2%)\r\n",
      "  adding: kaggle/working/test_evaluation_plots_2/epoc_10_img743.png (deflated 2%)\r\n",
      "  adding: kaggle/working/test_evaluation_plots_2/epoc_10_img1097.png (deflated 2%)\r\n",
      "  adding: kaggle/working/test_evaluation_plots_2/epoc_10_img929.png (deflated 2%)\r\n",
      "  adding: kaggle/working/test_evaluation_plots_2/epoc_10_img1297.png (deflated 2%)\r\n",
      "  adding: kaggle/working/test_evaluation_plots_2/epoc_10_img1199.png (deflated 2%)\r\n",
      "  adding: kaggle/working/test_evaluation_plots_2/epoc_10_img941.png (deflated 2%)\r\n",
      "  adding: kaggle/working/test_evaluation_plots_2/epoc_10_img1001.png (deflated 2%)\r\n",
      "  adding: kaggle/working/test_evaluation_plots_2/epoc_10_img1005.png (deflated 2%)\r\n",
      "  adding: kaggle/working/test_evaluation_plots_2/epoc_10_img955.png (deflated 2%)\r\n",
      "  adding: kaggle/working/test_evaluation_plots_2/epoc_10_img1261.png (deflated 2%)\r\n",
      "  adding: kaggle/working/test_evaluation_plots_2/epoc_10_img1213.png (deflated 2%)\r\n",
      "  adding: kaggle/working/test_evaluation_plots_2/epoc_10_img1119.png (deflated 2%)\r\n",
      "  adding: kaggle/working/test_evaluation_plots_2/epoc_10_img989.png (deflated 2%)\r\n",
      "  adding: kaggle/working/test_evaluation_plots_2/epoc_10_img1205.png (deflated 2%)\r\n",
      "  adding: kaggle/working/test_evaluation_plots_2/epoc_10_img715.png (deflated 2%)\r\n",
      "  adding: kaggle/working/test_evaluation_plots_2/epoc_10_img1271.png (deflated 2%)\r\n",
      "  adding: kaggle/working/test_evaluation_plots_2/epoc_10_img1099.png (deflated 2%)\r\n",
      "  adding: kaggle/working/test_evaluation_plots_2/epoc_10_img1085.png (deflated 2%)\r\n",
      "  adding: kaggle/working/test_evaluation_plots_2/epoc_10_img763.png (deflated 2%)\r\n",
      "  adding: kaggle/working/test_evaluation_plots_2/epoc_10_img751.png (deflated 2%)\r\n",
      "  adding: kaggle/working/test_evaluation_plots_2/epoc_10_img1323.png (deflated 2%)\r\n",
      "  adding: kaggle/working/test_evaluation_plots_2/epoc_10_img915.png (deflated 2%)\r\n",
      "  adding: kaggle/working/test_evaluation_plots_2/epoc_10_img1071.png (deflated 2%)\r\n",
      "  adding: kaggle/working/test_evaluation_plots_2/epoc_10_img813.png (deflated 2%)\r\n",
      "  adding: kaggle/working/test_evaluation_plots_2/epoc_10_img1257.png (deflated 2%)\r\n",
      "  adding: kaggle/working/test_evaluation_plots_2/epoc_10_img761.png (deflated 2%)\r\n",
      "  adding: kaggle/working/test_evaluation_plots_2/epoc_10_img699.png (deflated 2%)\r\n",
      "  adding: kaggle/working/test_evaluation_plots_2/epoc_10_img709.png (deflated 2%)\r\n",
      "  adding: kaggle/working/test_evaluation_plots_2/epoc_10_img1029.png (deflated 2%)\r\n",
      "  adding: kaggle/working/test_evaluation_plots_2/epoc_10_img1299.png (deflated 2%)\r\n",
      "  adding: kaggle/working/test_evaluation_plots_2/epoc_10_img731.png (deflated 2%)\r\n",
      "  adding: kaggle/working/test_evaluation_plots_2/epoc_10_img1155.png (deflated 2%)\r\n",
      "  adding: kaggle/working/test_evaluation_plots_2/epoc_10_img1143.png (deflated 2%)\r\n",
      "  adding: kaggle/working/test_evaluation_plots_2/epoc_10_img1351.png (deflated 2%)\r\n",
      "  adding: kaggle/working/test_evaluation_plots_2/epoc_10_img1267.png (deflated 2%)\r\n",
      "  adding: kaggle/working/test_evaluation_plots_2/epoc_10_img817.png (deflated 2%)\r\n",
      "  adding: kaggle/working/test_evaluation_plots_2/epoc_10_img779.png (deflated 2%)\r\n",
      "  adding: kaggle/working/test_evaluation_plots_2/epoc_10_img1171.png (deflated 2%)\r\n",
      "  adding: kaggle/working/test_evaluation_plots_2/epoc_10_img1121.png (deflated 2%)\r\n",
      "  adding: kaggle/working/test_evaluation_plots_2/epoc_10_img695.png (deflated 2%)\r\n",
      "  adding: kaggle/working/test_evaluation_plots_2/epoc_10_img1103.png (deflated 2%)\r\n",
      "  adding: kaggle/working/test_evaluation_plots_2/epoc_10_img1279.png (deflated 2%)\r\n",
      "  adding: kaggle/working/test_evaluation_plots_2/epoc_10_img1201.png (deflated 2%)\r\n",
      "  adding: kaggle/working/test_evaluation_plots_2/epoc_10_img1313.png (deflated 2%)\r\n",
      "  adding: kaggle/working/test_evaluation_plots_2/epoc_10_img1045.png (deflated 2%)\r\n",
      "  adding: kaggle/working/test_evaluation_plots_2/epoc_10_img777.png (deflated 2%)\r\n",
      "  adding: kaggle/working/test_evaluation_plots_2/epoc_10_img717.png (deflated 2%)\r\n",
      "  adding: kaggle/working/test_evaluation_plots_2/epoc_10_img921.png (deflated 2%)\r\n",
      "  adding: kaggle/working/test_evaluation_plots_2/epoc_10_img739.png (deflated 2%)\r\n",
      "  adding: kaggle/working/test_evaluation_plots_2/epoc_10_img783.png (deflated 2%)\r\n",
      "  adding: kaggle/working/test_evaluation_plots_2/epoc_10_img1031.png (deflated 2%)\r\n",
      "  adding: kaggle/working/test_evaluation_plots_2/epoc_10_img697.png (deflated 2%)\r\n",
      "  adding: kaggle/working/test_evaluation_plots_2/epoc_10_img785.png (deflated 2%)\r\n",
      "  adding: kaggle/working/test_evaluation_plots_2/epoc_10_img909.png (deflated 2%)\r\n",
      "  adding: kaggle/working/test_evaluation_plots_2/epoc_10_img893.png (deflated 2%)\r\n",
      "  adding: kaggle/working/test_evaluation_plots_2/epoc_10_img1315.png (deflated 2%)\r\n",
      "  adding: kaggle/working/test_evaluation_plots_2/epoc_10_img827.png (deflated 2%)\r\n",
      "  adding: kaggle/working/test_evaluation_plots_2/epoc_10_img1065.png (deflated 2%)\r\n",
      "  adding: kaggle/working/test_evaluation_plots_2/epoc_10_img749.png (deflated 2%)\r\n",
      "  adding: kaggle/working/test_evaluation_plots_2/epoc_10_img1255.png (deflated 2%)\r\n",
      "  adding: kaggle/working/test_evaluation_plots_2/epoc_10_img911.png (deflated 2%)\r\n",
      "  adding: kaggle/working/test_evaluation_plots_2/epoc_10_img897.png (deflated 2%)\r\n",
      "  adding: kaggle/working/test_evaluation_plots_2/epoc_10_img1163.png (deflated 2%)\r\n",
      "  adding: kaggle/working/test_evaluation_plots_2/epoc_10_img943.png (deflated 2%)\r\n",
      "  adding: kaggle/working/test_evaluation_plots_2/epoc_10_img887.png (deflated 2%)\r\n",
      "  adding: kaggle/working/test_evaluation_plots_2/epoc_10_img807.png (deflated 2%)\r\n",
      "  adding: kaggle/working/test_evaluation_plots_2/epoc_10_img713.png (deflated 2%)\r\n",
      "  adding: kaggle/working/test_evaluation_plots_2/epoc_10_img1221.png (deflated 2%)\r\n",
      "  adding: kaggle/working/test_evaluation_plots_2/epoc_10_img1327.png (deflated 2%)\r\n",
      "  adding: kaggle/working/test_evaluation_plots_2/epoc_10_img1247.png (deflated 2%)\r\n",
      "  adding: kaggle/working/test_evaluation_plots_2/epoc_10_img859.png (deflated 2%)\r\n",
      "  adding: kaggle/working/test_evaluation_plots_2/epoc_10_img689.png (deflated 2%)\r\n",
      "  adding: kaggle/working/test_evaluation_plots_2/epoc_10_img747.png (deflated 2%)\r\n",
      "  adding: kaggle/working/test_evaluation_plots_2/epoc_10_img865.png (deflated 2%)\r\n",
      "  adding: kaggle/working/test_evaluation_plots_2/epoc_10_img1073.png (deflated 2%)\r\n",
      "  adding: kaggle/working/test_evaluation_plots_2/epoc_10_img1269.png (deflated 2%)\r\n",
      "  adding: kaggle/working/test_evaluation_plots_2/epoc_10_img829.png (deflated 2%)\r\n",
      "  adding: kaggle/working/test_evaluation_plots_2/epoc_10_img957.png (deflated 2%)\r\n",
      "  adding: kaggle/working/test_evaluation_plots_2/epoc_10_img975.png (deflated 2%)\r\n",
      "  adding: kaggle/working/test_evaluation_plots_2/epoc_10_img1283.png (deflated 2%)\r\n",
      "  adding: kaggle/working/test_evaluation_plots_2/epoc_10_img1089.png (deflated 2%)\r\n",
      "  adding: kaggle/working/test_evaluation_plots_2/epoc_10_img919.png (deflated 2%)\r\n",
      "  adding: kaggle/working/test_evaluation_plots_2/epoc_10_img1123.png (deflated 2%)\r\n",
      "  adding: kaggle/working/test_evaluation_plots_2/epoc_10_img1125.png (deflated 2%)\r\n",
      "  adding: kaggle/working/test_evaluation_plots_2/epoc_10_img871.png (deflated 2%)\r\n",
      "  adding: kaggle/working/test_evaluation_plots_2/epoc_10_img1191.png (deflated 2%)\r\n",
      "  adding: kaggle/working/test_evaluation_plots_2/epoc_10_img961.png (deflated 2%)\r\n",
      "  adding: kaggle/working/test_evaluation_plots_2/epoc_10_img1337.png (deflated 2%)\r\n",
      "  adding: kaggle/working/test_evaluation_plots_2/epoc_10_img849.png (deflated 2%)\r\n",
      "  adding: kaggle/working/test_evaluation_plots_2/epoc_10_img1309.png (deflated 2%)\r\n",
      "  adding: kaggle/working/test_evaluation_plots_2/epoc_10_img1167.png (deflated 2%)\r\n",
      "  adding: kaggle/working/test_evaluation_plots_2/epoc_10_img1011.png (deflated 2%)\r\n",
      "  adding: kaggle/working/test_evaluation_plots_2/epoc_10_img1231.png (deflated 2%)\r\n",
      "  adding: kaggle/working/test_evaluation_plots_2/epoc_10_img967.png (deflated 2%)\r\n",
      "  adding: kaggle/working/test_evaluation_plots_2/epoc_10_img1347.png (deflated 2%)\r\n",
      "  adding: kaggle/working/test_evaluation_plots_2/epoc_10_img845.png (deflated 2%)\r\n",
      "  adding: kaggle/working/test_evaluation_plots_2/epoc_10_img701.png (deflated 2%)\r\n",
      "  adding: kaggle/working/test_evaluation_plots_2/epoc_10_img1303.png (deflated 2%)\r\n",
      "  adding: kaggle/working/test_evaluation_plots_2/epoc_10_img993.png (deflated 2%)\r\n",
      "  adding: kaggle/working/test_evaluation_plots_2/epoc_10_img735.png (deflated 2%)\r\n",
      "  adding: kaggle/working/test_evaluation_plots_2/epoc_10_img1157.png (deflated 2%)\r\n",
      "  adding: kaggle/working/test_evaluation_plots_2/epoc_10_img937.png (deflated 2%)\r\n",
      "  adding: kaggle/working/test_evaluation_plots_2/epoc_10_img1291.png (deflated 2%)\r\n",
      "  adding: kaggle/working/test_evaluation_plots_2/epoc_10_img927.png (deflated 2%)\r\n",
      "  adding: kaggle/working/test_evaluation_plots_2/epoc_10_img769.png (deflated 2%)\r\n",
      "  adding: kaggle/working/test_evaluation_plots_2/epoc_10_img1333.png (deflated 2%)\r\n",
      "  adding: kaggle/working/test_evaluation_plots_2/epoc_10_img727.png (deflated 2%)\r\n",
      "  adding: kaggle/working/test_evaluation_plots_2/epoc_10_img947.png (deflated 2%)\r\n",
      "  adding: kaggle/working/test_evaluation_plots_2/epoc_10_img1219.png (deflated 2%)\r\n",
      "  adding: kaggle/working/test_evaluation_plots_2/epoc_10_img1353.png (deflated 2%)\r\n",
      "  adding: kaggle/working/test_evaluation_plots_2/epoc_10_img877.png (deflated 2%)\r\n",
      "  adding: kaggle/working/test_evaluation_plots_2/epoc_10_img985.png (deflated 2%)\r\n",
      "  adding: kaggle/working/test_evaluation_plots_2/epoc_10_img1179.png (deflated 2%)\r\n",
      "  adding: kaggle/working/test_evaluation_plots_2/epoc_10_img1223.png (deflated 2%)\r\n",
      "  adding: kaggle/working/test_evaluation_plots_2/epoc_10_img803.png (deflated 2%)\r\n",
      "  adding: kaggle/working/test_evaluation_plots_2/epoc_10_img1185.png (deflated 2%)\r\n",
      "  adding: kaggle/working/test_evaluation_plots_2/epoc_10_img997.png (deflated 2%)\r\n",
      "  adding: kaggle/working/test_evaluation_plots_2/epoc_10_img1149.png (deflated 2%)\r\n",
      "  adding: kaggle/working/test_evaluation_plots_2/epoc_10_img863.png (deflated 2%)\r\n",
      "  adding: kaggle/working/test_evaluation_plots_2/epoc_10_img857.png (deflated 2%)\r\n",
      "  adding: kaggle/working/test_evaluation_plots_2/epoc_10_img973.png (deflated 2%)\r\n",
      "  adding: kaggle/working/test_evaluation_plots_2/epoc_10_img861.png (deflated 2%)\r\n",
      "  adding: kaggle/working/test_evaluation_plots_2/epoc_10_img1265.png (deflated 2%)\r\n",
      "  adding: kaggle/working/test_evaluation_plots_2/epoc_10_img1101.png (deflated 2%)\r\n",
      "  adding: kaggle/working/test_evaluation_plots_2/epoc_10_img821.png (deflated 2%)\r\n",
      "  adding: kaggle/working/test_evaluation_plots_2/epoc_10_img1147.png (deflated 2%)\r\n",
      "  adding: kaggle/working/test_evaluation_plots_2/epoc_10_img1095.png (deflated 2%)\r\n",
      "  adding: kaggle/working/test_evaluation_plots_2/epoc_10_img843.png (deflated 2%)\r\n",
      "  adding: kaggle/working/test_evaluation_plots_2/epoc_10_img819.png (deflated 2%)\r\n",
      "  adding: kaggle/working/test_evaluation_plots_2/epoc_10_img1341.png (deflated 2%)\r\n",
      "  adding: kaggle/working/test_evaluation_plots_2/epoc_10_img1237.png (deflated 2%)\r\n",
      "  adding: kaggle/working/test_evaluation_plots_2/epoc_10_img801.png (deflated 2%)\r\n",
      "  adding: kaggle/working/test_evaluation_plots_2/epoc_10_img925.png (deflated 2%)\r\n",
      "  adding: kaggle/working/test_evaluation_plots_2/epoc_10_img1043.png (deflated 2%)\r\n",
      "  adding: kaggle/working/test_evaluation_plots_2/epoc_10_img889.png (deflated 2%)\r\n",
      "  adding: kaggle/working/test_evaluation_plots_2/epoc_10_img977.png (deflated 2%)\r\n",
      "  adding: kaggle/working/test_evaluation_plots_2/epoc_10_img1331.png (deflated 2%)\r\n",
      "  adding: kaggle/working/test_evaluation_plots_2/epoc_10_img1035.png (deflated 2%)\r\n",
      "  adding: kaggle/working/test_evaluation_plots_2/epoc_10_img995.png (deflated 2%)\r\n",
      "  adding: kaggle/working/test_evaluation_plots_2/epoc_10_img1225.png (deflated 2%)\r\n",
      "  adding: kaggle/working/test_evaluation_plots_2/epoc_10_img883.png (deflated 2%)\r\n",
      "  adding: kaggle/working/test_evaluation_plots_2/epoc_10_img1243.png (deflated 2%)\r\n"
     ]
    }
   ],
   "source": [
    "for img_i in range(len(test_dataset)//2,len(test_dataset), 2):\n",
    "    save_some_examples(gen_model, test_dataset, NUM_EPOCHS, folder=\"test_evaluation_plots_2\",cm_input=INPUT_CHANGE_MAP, img_indx=img_i)\n",
    "!zip -r /kaggle/working/test_evalplot2.zip  /kaggle/working/test_evaluation_plots_2/"
   ]
  },
  {
   "cell_type": "code",
   "execution_count": 24,
   "id": "8500b822",
   "metadata": {
    "execution": {
     "iopub.execute_input": "2023-04-25T20:44:11.035968Z",
     "iopub.status.busy": "2023-04-25T20:44:11.035555Z",
     "iopub.status.idle": "2023-04-25T20:44:11.040988Z",
     "shell.execute_reply": "2023-04-25T20:44:11.039830Z"
    },
    "papermill": {
     "duration": 0.413207,
     "end_time": "2023-04-25T20:44:11.043603",
     "exception": false,
     "start_time": "2023-04-25T20:44:10.630396",
     "status": "completed"
    },
    "tags": []
   },
   "outputs": [],
   "source": [
    "# !zip -r /kaggle/working/train_evalplot.zip  /kaggle/working/train_evaluation_plots/"
   ]
  },
  {
   "cell_type": "code",
   "execution_count": 25,
   "id": "74b6ef35",
   "metadata": {
    "execution": {
     "iopub.execute_input": "2023-04-25T20:44:11.920524Z",
     "iopub.status.busy": "2023-04-25T20:44:11.919292Z",
     "iopub.status.idle": "2023-04-25T20:44:11.925485Z",
     "shell.execute_reply": "2023-04-25T20:44:11.923940Z"
    },
    "papermill": {
     "duration": 0.470659,
     "end_time": "2023-04-25T20:44:11.928310",
     "exception": false,
     "start_time": "2023-04-25T20:44:11.457651",
     "status": "completed"
    },
    "tags": []
   },
   "outputs": [],
   "source": [
    "# from IPython.display import FileLink\n",
    "# FileLink(r'/kaggle/working/evalplot.zip')"
   ]
  },
  {
   "cell_type": "code",
   "execution_count": 26,
   "id": "a5925fbc",
   "metadata": {
    "execution": {
     "iopub.execute_input": "2023-04-25T20:44:12.746943Z",
     "iopub.status.busy": "2023-04-25T20:44:12.746554Z",
     "iopub.status.idle": "2023-04-25T20:44:12.752567Z",
     "shell.execute_reply": "2023-04-25T20:44:12.751363Z"
    },
    "papermill": {
     "duration": 0.423581,
     "end_time": "2023-04-25T20:44:12.755425",
     "exception": false,
     "start_time": "2023-04-25T20:44:12.331844",
     "status": "completed"
    },
    "tags": []
   },
   "outputs": [],
   "source": [
    "# def eval_graph_fn(gen, loader, ssim, psnr):\n",
    "#     gen.eval()\n",
    "#     loop = tqdm(loader, leave=True)\n",
    "    \n",
    "#     wssim_ratio_list = []\n",
    "#     wpsnr_ratio_list = []\n",
    "#     s1cm_mean_list   = []\n",
    "    \n",
    "#     for idx, (s2t2,s1t2,s2t1,s1t1,cm,rcm,s1cm) in enumerate(loop):\n",
    "#         s2t2,s1t2,s2t1,s1t1,cm,rcm,s1cm = s2t2.to(DEVICE),s1t2.to(DEVICE),s2t1.to(DEVICE),s1t1.to(DEVICE),cm.to(DEVICE),rcm.to(DEVICE),s1cm.to(DEVICE)\n",
    "#         s2t2,s1t2,s2t1,s1t1,cm,rcm,s1cm = s2t2.to(torch.float32),s1t2.to(torch.float32),s2t1.to(torch.float32),s1t1.to(torch.float32),cm.to(torch.float32),rcm.to(torch.float32),s1cm.to(torch.float32)\n",
    "#         if INPUT_CHANGE_MAP:\n",
    "#             s2t2 = torch.cat((s2t2, cm), dim=1)\n",
    "#             s1t1 = torch.cat((s1t1, rcm), dim=1)\n",
    "#         preds = gen(s2t2, s1t1)\n",
    "        \n",
    "#         s1t2_list = s1t2.to(\"cpu\").chunk(s1t2.size(0))\n",
    "#         preds_list = preds.to(\"cpu\").chunk(preds.size(0))\n",
    "#         s1cm_list = s1cm.to(\"cpu\").chunk(s1cm.size(0))\n",
    "        \n",
    "        \n",
    "#         wssim_ratio_batch_list = [ssim((s1t2, preds), s1cm)/ssim((s1t2, preds)) for s1t2, preds, s1cm in zip(s1t2_list, preds_list, s1cm_list)]\n",
    "#         wpsnr_ratio_batch_list = [psnr((s1t2, preds))-psnr((s1t2, preds), s1cm) for s1t2, preds, s1cm in zip(s1t2_list, preds_list, s1cm_list)]\n",
    "#         s1cm_mean_batch_list   = [s1cm.mean() for s1cm in s1cm_list]\n",
    "        \n",
    "#         wssim_ratio_list = wssim_ratio_list + wssim_ratio_batch_list\n",
    "#         wpsnr_ratio_list = wpsnr_ratio_list + wpsnr_ratio_batch_list\n",
    "#         s1cm_mean_list   = s1cm_mean_list   + s1cm_mean_batch_list  \n",
    "    \n",
    "#     return wssim_ratio_list, wpsnr_ratio_list, s1cm_mean_list"
   ]
  },
  {
   "cell_type": "code",
   "execution_count": 27,
   "id": "de205721",
   "metadata": {
    "execution": {
     "iopub.execute_input": "2023-04-25T20:44:13.646119Z",
     "iopub.status.busy": "2023-04-25T20:44:13.645091Z",
     "iopub.status.idle": "2023-04-25T20:44:13.650294Z",
     "shell.execute_reply": "2023-04-25T20:44:13.649252Z"
    },
    "papermill": {
     "duration": 0.479795,
     "end_time": "2023-04-25T20:44:13.652550",
     "exception": false,
     "start_time": "2023-04-25T20:44:13.172755",
     "status": "completed"
    },
    "tags": []
   },
   "outputs": [],
   "source": [
    "# ssim_ratio_list, wpsnr_ratio_list, s1cm_mean_list = eval_graph_fn(gen_model, test_loader, wssim, wpsnr)"
   ]
  },
  {
   "cell_type": "code",
   "execution_count": 28,
   "id": "29210ba4",
   "metadata": {
    "execution": {
     "iopub.execute_input": "2023-04-25T20:44:14.466024Z",
     "iopub.status.busy": "2023-04-25T20:44:14.465248Z",
     "iopub.status.idle": "2023-04-25T20:44:14.469874Z",
     "shell.execute_reply": "2023-04-25T20:44:14.468830Z"
    },
    "papermill": {
     "duration": 0.419069,
     "end_time": "2023-04-25T20:44:14.472128",
     "exception": false,
     "start_time": "2023-04-25T20:44:14.053059",
     "status": "completed"
    },
    "tags": []
   },
   "outputs": [],
   "source": [
    "# plt.plot(ssim_ratio_list,s1cm_mean_list)"
   ]
  },
  {
   "cell_type": "code",
   "execution_count": null,
   "id": "8e96c9fa",
   "metadata": {
    "papermill": {
     "duration": 0.404849,
     "end_time": "2023-04-25T20:44:15.280346",
     "exception": false,
     "start_time": "2023-04-25T20:44:14.875497",
     "status": "completed"
    },
    "tags": []
   },
   "outputs": [],
   "source": []
  }
 ],
 "metadata": {
  "kernelspec": {
   "display_name": "Python 3",
   "language": "python",
   "name": "python3"
  },
  "language_info": {
   "codemirror_mode": {
    "name": "ipython",
    "version": 3
   },
   "file_extension": ".py",
   "mimetype": "text/x-python",
   "name": "python",
   "nbconvert_exporter": "python",
   "pygments_lexer": "ipython3",
   "version": "3.7.12"
  },
  "papermill": {
   "default_parameters": {},
   "duration": 3268.217826,
   "end_time": "2023-04-25T20:44:18.783164",
   "environment_variables": {},
   "exception": null,
   "input_path": "__notebook__.ipynb",
   "output_path": "__notebook__.ipynb",
   "parameters": {},
   "start_time": "2023-04-25T19:49:50.565338",
   "version": "2.4.0"
  }
 },
 "nbformat": 4,
 "nbformat_minor": 5
}
