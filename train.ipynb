{
 "cells": [
  {
   "cell_type": "code",
   "execution_count": 1,
   "id": "99c87378",
   "metadata": {
    "execution": {
     "iopub.execute_input": "2023-04-14T11:50:51.145403Z",
     "iopub.status.busy": "2023-04-14T11:50:51.144920Z",
     "iopub.status.idle": "2023-04-14T11:50:51.158580Z",
     "shell.execute_reply": "2023-04-14T11:50:51.157513Z"
    },
    "papermill": {
     "duration": 0.02339,
     "end_time": "2023-04-14T11:50:51.161724",
     "exception": false,
     "start_time": "2023-04-14T11:50:51.138334",
     "status": "completed"
    },
    "tags": []
   },
   "outputs": [
    {
     "data": {
      "text/plain": [
       "True"
      ]
     },
     "execution_count": 1,
     "metadata": {},
     "output_type": "execute_result"
    }
   ],
   "source": [
    "import os\n",
    "IN_KAGGLE = 'KAGGLE_URL_BASE' in os.environ\n",
    "IN_KAGGLE"
   ]
  },
  {
   "cell_type": "code",
   "execution_count": 2,
   "id": "ba4b00e5",
   "metadata": {
    "execution": {
     "iopub.execute_input": "2023-04-14T11:50:51.171481Z",
     "iopub.status.busy": "2023-04-14T11:50:51.171220Z",
     "iopub.status.idle": "2023-04-14T11:50:57.223149Z",
     "shell.execute_reply": "2023-04-14T11:50:57.221908Z"
    },
    "papermill": {
     "duration": 6.059614,
     "end_time": "2023-04-14T11:50:57.225741",
     "exception": false,
     "start_time": "2023-04-14T11:50:51.166127",
     "status": "completed"
    },
    "tags": []
   },
   "outputs": [
    {
     "name": "stdout",
     "output_type": "stream",
     "text": [
      "Cloning into 'TemporalGAN'...\r\n",
      "remote: Enumerating objects: 1222, done.\u001b[K\r\n",
      "remote: Counting objects: 100% (133/133), done.\u001b[K\r\n",
      "remote: Compressing objects: 100% (100/100), done.\u001b[K\r\n",
      "remote: Total 1222 (delta 68), reused 91 (delta 31), pack-reused 1089\u001b[K\r\n",
      "Receiving objects: 100% (1222/1222), 84.99 MiB | 27.44 MiB/s, done.\r\n",
      "Resolving deltas: 100% (800/800), done.\r\n"
     ]
    }
   ],
   "source": [
    "if IN_KAGGLE:\n",
    "    from kaggle_secrets import UserSecretsClient\n",
    "    user_secrets = UserSecretsClient()\n",
    "    secret_value = user_secrets.get_secret(\"gittoken\")\n",
    "\n",
    "    !git clone https://{secret_value}@github.com/moienr/TemporalGAN.git"
   ]
  },
  {
   "cell_type": "code",
   "execution_count": 3,
   "id": "1cbc971f",
   "metadata": {
    "execution": {
     "iopub.execute_input": "2023-04-14T11:50:57.238555Z",
     "iopub.status.busy": "2023-04-14T11:50:57.238232Z",
     "iopub.status.idle": "2023-04-14T11:50:57.244759Z",
     "shell.execute_reply": "2023-04-14T11:50:57.243746Z"
    },
    "papermill": {
     "duration": 0.015412,
     "end_time": "2023-04-14T11:50:57.246894",
     "exception": false,
     "start_time": "2023-04-14T11:50:57.231482",
     "status": "completed"
    },
    "tags": []
   },
   "outputs": [
    {
     "name": "stdout",
     "output_type": "stream",
     "text": [
      "path found...\n"
     ]
    }
   ],
   "source": [
    "if IN_KAGGLE:\n",
    "    import time\n",
    "    import os\n",
    "    sleep_time = 5\n",
    "    while not os.path.exists(\"/kaggle/working/TemporalGAN\"):\n",
    "        print(\"didn't find the path, wating {sleep_time} more seconds...\")\n",
    "        time.sleep(sleep_time)\n",
    "    print(\"path found...\")\n",
    "    import sys\n",
    "    sys.path.append(\"/kaggle/working/TemporalGAN\")"
   ]
  },
  {
   "cell_type": "code",
   "execution_count": 4,
   "id": "05a629a4",
   "metadata": {
    "execution": {
     "iopub.execute_input": "2023-04-14T11:50:57.259935Z",
     "iopub.status.busy": "2023-04-14T11:50:57.259674Z",
     "iopub.status.idle": "2023-04-14T11:51:00.125185Z",
     "shell.execute_reply": "2023-04-14T11:51:00.124051Z"
    },
    "papermill": {
     "duration": 2.873856,
     "end_time": "2023-04-14T11:51:00.127286",
     "exception": false,
     "start_time": "2023-04-14T11:50:57.253430",
     "status": "completed"
    },
    "tags": []
   },
   "outputs": [
    {
     "data": {
      "text/plain": [
       "2"
      ]
     },
     "execution_count": 4,
     "metadata": {},
     "output_type": "execute_result"
    }
   ],
   "source": [
    "import torch\n",
    "import numpy as np\n",
    "from torch.utils.data import Dataset\n",
    "from glob import glob\n",
    "from skimage import io\n",
    "import os\n",
    "from torchvision import datasets, transforms\n",
    "import matplotlib\n",
    "import os\n",
    "os.cpu_count()"
   ]
  },
  {
   "cell_type": "code",
   "execution_count": 5,
   "id": "c6a6b77e",
   "metadata": {
    "execution": {
     "iopub.execute_input": "2023-04-14T11:51:00.140331Z",
     "iopub.status.busy": "2023-04-14T11:51:00.139794Z",
     "iopub.status.idle": "2023-04-14T11:51:00.202213Z",
     "shell.execute_reply": "2023-04-14T11:51:00.201210Z"
    },
    "papermill": {
     "duration": 0.071884,
     "end_time": "2023-04-14T11:51:00.205185",
     "exception": false,
     "start_time": "2023-04-14T11:51:00.133301",
     "status": "completed"
    },
    "tags": []
   },
   "outputs": [
    {
     "data": {
      "text/plain": [
       "'cuda'"
      ]
     },
     "execution_count": 5,
     "metadata": {},
     "output_type": "execute_result"
    }
   ],
   "source": [
    "DEVICE = \"cuda\" if torch.cuda.is_available() else \"cpu\"\n",
    "DEVICE"
   ]
  },
  {
   "cell_type": "code",
   "execution_count": 6,
   "id": "18456d71",
   "metadata": {
    "execution": {
     "iopub.execute_input": "2023-04-14T11:51:00.230725Z",
     "iopub.status.busy": "2023-04-14T11:51:00.230419Z",
     "iopub.status.idle": "2023-04-14T11:51:00.381181Z",
     "shell.execute_reply": "2023-04-14T11:51:00.380170Z"
    },
    "papermill": {
     "duration": 0.163711,
     "end_time": "2023-04-14T11:51:00.383526",
     "exception": false,
     "start_time": "2023-04-14T11:51:00.219815",
     "status": "completed"
    },
    "tags": []
   },
   "outputs": [],
   "source": [
    "from dataset.data_loaders import *\n",
    "from dataset.utils.plot_utils import plot_s1s2_tensors, save_s1s2_tensors_plot\n",
    "#from config import *\n",
    "from train_utils import *"
   ]
  },
  {
   "cell_type": "code",
   "execution_count": 7,
   "id": "4fe8aa76",
   "metadata": {
    "execution": {
     "iopub.execute_input": "2023-04-14T11:51:00.396491Z",
     "iopub.status.busy": "2023-04-14T11:51:00.396192Z",
     "iopub.status.idle": "2023-04-14T11:51:00.414496Z",
     "shell.execute_reply": "2023-04-14T11:51:00.413593Z"
    },
    "papermill": {
     "duration": 0.027081,
     "end_time": "2023-04-14T11:51:00.416599",
     "exception": false,
     "start_time": "2023-04-14T11:51:00.389518",
     "status": "completed"
    },
    "tags": []
   },
   "outputs": [],
   "source": [
    "from temporalgan.temporal_gan_v3_gen import Generator as GeneratorV3\n",
    "from temporalgan.temporal_gan_v2_gen import Generator as GeneratorV2\n",
    "from temporalgan.temporal_gan_v1_gen import Generator as GeneratorV1\n",
    "from temporalgan.temporal_gan_v2_disc import Discriminator as DiscriminatorV2\n",
    "from temporalgan.temporal_gan_v1_disc import Discriminator as DiscriminatorV1\n",
    "from temporalgan.lossfunciton.loss_function import WeightedL1Loss"
   ]
  },
  {
   "cell_type": "code",
   "execution_count": 8,
   "id": "3e23f9f5",
   "metadata": {
    "execution": {
     "iopub.execute_input": "2023-04-14T11:51:00.429139Z",
     "iopub.status.busy": "2023-04-14T11:51:00.428849Z",
     "iopub.status.idle": "2023-04-14T11:51:00.434679Z",
     "shell.execute_reply": "2023-04-14T11:51:00.433801Z"
    },
    "papermill": {
     "duration": 0.014424,
     "end_time": "2023-04-14T11:51:00.436679",
     "exception": false,
     "start_time": "2023-04-14T11:51:00.422255",
     "status": "completed"
    },
    "tags": []
   },
   "outputs": [],
   "source": [
    "import torch.nn as nn\n",
    "import torch.optim as optim\n",
    "from torch.utils.data import DataLoader"
   ]
  },
  {
   "cell_type": "code",
   "execution_count": 9,
   "id": "45567ccb",
   "metadata": {
    "execution": {
     "iopub.execute_input": "2023-04-14T11:51:00.449855Z",
     "iopub.status.busy": "2023-04-14T11:51:00.448984Z",
     "iopub.status.idle": "2023-04-14T11:51:00.455207Z",
     "shell.execute_reply": "2023-04-14T11:51:00.454355Z"
    },
    "papermill": {
     "duration": 0.014907,
     "end_time": "2023-04-14T11:51:00.457269",
     "exception": false,
     "start_time": "2023-04-14T11:51:00.442362",
     "status": "completed"
    },
    "tags": []
   },
   "outputs": [],
   "source": [
    "if IN_KAGGLE:\n",
    "    s1_t1_dir_train= \"/kaggle/input/s1s2-2021-v2/2021/s1_imgs/train\"\n",
    "    s2_t1_dir_train= \"/kaggle/input/s1s2-2021-v2/2021/s2_imgs/train\"\n",
    "    s1_t2_dir_train= \"/kaggle/input/s1s2-2019-v2/2019/s1_imgs/train\"\n",
    "    s2_t2_dir_train= \"/kaggle/input/s1s2-2019-v2/2019/s2_imgs/train\"\n",
    "    s1_t1_dir_test = \"/kaggle/input/s1s2-2021-v2/2021/s1_imgs/test\"\n",
    "    s2_t1_dir_test = \"/kaggle/input/s1s2-2021-v2/2021/s2_imgs/test\"\n",
    "    s1_t2_dir_test = \"/kaggle/input/s1s2-2019-v2/2019/s1_imgs/test\"\n",
    "    s2_t2_dir_test = \"/kaggle/input/s1s2-2019-v2/2019/s2_imgs/test\"\n",
    "else:\n",
    "    s1_t1_dir_train=\"E:\\\\s1s2\\\\s1s2_patched_light\\\\s1s2_patched_extra_light\\\\2021\\\\s1_imgs\\\\test\"\n",
    "    s2_t1_dir_train=\"E:\\\\s1s2\\\\s1s2_patched_light\\\\s1s2_patched_extra_light\\\\2021\\\\s2_imgs\\\\test\"\n",
    "    s1_t2_dir_train=\"E:\\\\s1s2\\\\s1s2_patched_light\\\\s1s2_patched_extra_light\\\\2019\\\\s1_imgs\\\\test\"\n",
    "    s2_t2_dir_train=\"E:\\\\s1s2\\\\s1s2_patched_light\\\\s1s2_patched_extra_light\\\\2019\\\\s2_imgs\\\\test\"\n",
    "    s1_t1_dir_test=\"E:\\\\s1s2\\\\s1s2_patched_light\\\\s1s2_patched_extra_light\\\\2021\\\\s1_imgs\\\\test\"\n",
    "    s2_t1_dir_test=\"E:\\\\s1s2\\\\s1s2_patched_light\\\\s1s2_patched_extra_light\\\\2021\\\\s2_imgs\\\\test\"\n",
    "    s1_t2_dir_test=\"E:\\\\s1s2\\\\s1s2_patched_light\\\\s1s2_patched_extra_light\\\\2019\\\\s1_imgs\\\\test\"\n",
    "    s2_t2_dir_test=\"E:\\\\s1s2\\\\s1s2_patched_light\\\\s1s2_patched_extra_light\\\\2019\\\\s2_imgs\\\\test\""
   ]
  },
  {
   "cell_type": "code",
   "execution_count": 10,
   "id": "a36152f8",
   "metadata": {
    "execution": {
     "iopub.execute_input": "2023-04-14T11:51:00.470127Z",
     "iopub.status.busy": "2023-04-14T11:51:00.469357Z",
     "iopub.status.idle": "2023-04-14T11:51:00.475945Z",
     "shell.execute_reply": "2023-04-14T11:51:00.475099Z"
    },
    "papermill": {
     "duration": 0.015038,
     "end_time": "2023-04-14T11:51:00.477966",
     "exception": false,
     "start_time": "2023-04-14T11:51:00.462928",
     "status": "completed"
    },
    "tags": []
   },
   "outputs": [],
   "source": [
    "TWO_WAY_DATASET = True if IN_KAGGLE else False\n",
    "INPUT_CHANGE_MAP = True if IN_KAGGLE else False\n",
    "S2_INCHANNELS = 12 if INPUT_CHANGE_MAP else 6\n",
    "S1_INCHANNELS = 7 if INPUT_CHANGE_MAP else 1\n",
    "LEARNING_RATE = 2e-4\n",
    "BATCH_SIZE = 1\n",
    "NUM_WORKERS = 1 if IN_KAGGLE else 8\n",
    "IMAGE_SIZE = 256\n",
    "WEIGHTED_LOSS = True\n",
    "L1_LAMBDA = 100\n",
    "NUM_EPOCHS = 10\n",
    "LOAD_MODEL = False\n",
    "SAVE_MODEL = True if IN_KAGGLE else False\n",
    "SAVE_EXAMPLE_PLOTS = True\n",
    "EXAMPLES_TO_PLOT = [1,32,64,128,256,512,1024] if IN_KAGGLE else [1,2]\n",
    "SAVE_MODEL_EVERY_EPOCH = 10\n",
    "CHECKPOINT_DISC = \"disc.pth.tar\"\n",
    "CHECKPOINT_GEN = \"gen.pth.tar\"\n",
    "\n"
   ]
  },
  {
   "cell_type": "code",
   "execution_count": 11,
   "id": "27d4e7e4",
   "metadata": {
    "execution": {
     "iopub.execute_input": "2023-04-14T11:51:00.490903Z",
     "iopub.status.busy": "2023-04-14T11:51:00.489981Z",
     "iopub.status.idle": "2023-04-14T11:51:00.494648Z",
     "shell.execute_reply": "2023-04-14T11:51:00.493762Z"
    },
    "papermill": {
     "duration": 0.013218,
     "end_time": "2023-04-14T11:51:00.496738",
     "exception": false,
     "start_time": "2023-04-14T11:51:00.483520",
     "status": "completed"
    },
    "tags": []
   },
   "outputs": [],
   "source": [
    "import gc"
   ]
  },
  {
   "cell_type": "code",
   "execution_count": 12,
   "id": "1edf1d72",
   "metadata": {
    "execution": {
     "iopub.execute_input": "2023-04-14T11:51:00.509550Z",
     "iopub.status.busy": "2023-04-14T11:51:00.508751Z",
     "iopub.status.idle": "2023-04-14T11:51:00.520166Z",
     "shell.execute_reply": "2023-04-14T11:51:00.519255Z"
    },
    "papermill": {
     "duration": 0.019833,
     "end_time": "2023-04-14T11:51:00.522178",
     "exception": false,
     "start_time": "2023-04-14T11:51:00.502345",
     "status": "completed"
    },
    "tags": []
   },
   "outputs": [],
   "source": [
    "def main():\n",
    "    disc = DiscriminatorV1(s2_in_channels=S2_INCHANNELS, s1_in_channels=S1_INCHANNELS).to(DEVICE)\n",
    "    gen = GeneratorV3(s2_in_channels=S2_INCHANNELS, s1_in_channels= S1_INCHANNELS, features=64,pam_downsample=2).to(DEVICE)\n",
    "    opt_disc = optim.Adam(disc.parameters(), lr=LEARNING_RATE, betas=(0.5, 0.999),)\n",
    "    opt_gen = optim.Adam(gen.parameters(), lr=LEARNING_RATE, betas=(0.5, 0.999))\n",
    "    BCE = nn.BCEWithLogitsLoss()\n",
    "    if WEIGHTED_LOSS:\n",
    "        L1_LOSS = WeightedL1Loss(change_weight=5)\n",
    "    else:\n",
    "        L1_LOSS = nn.L1Loss()\n",
    "\n",
    "    if LOAD_MODEL:\n",
    "        load_checkpoint(\n",
    "            CHECKPOINT_GEN, gen, opt_gen, LEARNING_RATE,\n",
    "        )\n",
    "        load_checkpoint(\n",
    "            CHECKPOINT_DISC, disc, opt_disc, LEARNING_RATE,\n",
    "        )\n",
    "\n",
    "    transform = transforms.Compose([S2S1Normalize(),myToTensor(dtype=torch.float32)])\n",
    "\n",
    "\n",
    "    train_dataset = Sen12Dataset(s1_t1_dir=s1_t1_dir_train,\n",
    "                                 s2_t1_dir=s2_t1_dir_train,\n",
    "                                 s1_t2_dir=s1_t2_dir_train,\n",
    "                                 s2_t2_dir=s2_t2_dir_train,\n",
    "                                 transform=transform,\n",
    "                                 two_way=TWO_WAY_DATASET)\n",
    "    \n",
    "    train_loader = DataLoader(\n",
    "        train_dataset,\n",
    "        batch_size=BATCH_SIZE,\n",
    "        shuffle=True,\n",
    "        num_workers=NUM_WORKERS,\n",
    "    )\n",
    "    g_scaler = torch.cuda.amp.GradScaler()\n",
    "    d_scaler = torch.cuda.amp.GradScaler()\n",
    "#     val_dataset = MapDataset(root_dir=VAL_DIR)\n",
    "#     val_loader = DataLoader(val_dataset, batch_size=1, shuffle=False)\n",
    "\n",
    "    for epoch in range(1, NUM_EPOCHS+1):\n",
    "        #print(f\"Epoch: {epoch}\")\n",
    "        train_fn(\n",
    "            disc, gen, train_loader, opt_disc, opt_gen, L1_LOSS, BCE, g_scaler, d_scaler, weighted_loss= WEIGHTED_LOSS, cm_input=INPUT_CHANGE_MAP\n",
    "        )\n",
    "\n",
    "        if SAVE_MODEL and epoch % SAVE_MODEL_EVERY_EPOCH == 0:\n",
    "            save_checkpoint(epoch,gen, opt_gen, filename=CHECKPOINT_GEN)\n",
    "            save_checkpoint(epoch,disc, opt_disc, filename=CHECKPOINT_DISC)\n",
    "\n",
    "\n",
    "        if SAVE_EXAMPLE_PLOTS:\n",
    "            for img_i in EXAMPLES_TO_PLOT:\n",
    "                save_some_examples(gen, train_dataset, epoch, folder=\"evaluation_plots\",cm_input=INPUT_CHANGE_MAP, img_indx=img_i)\n",
    "\n",
    "            \n",
    "        gc.collect()\n",
    "        torch.cuda.empty_cache()\n",
    "            \n",
    "    return gen\n"
   ]
  },
  {
   "cell_type": "code",
   "execution_count": 13,
   "id": "50b523b4",
   "metadata": {
    "execution": {
     "iopub.execute_input": "2023-04-14T11:51:00.534539Z",
     "iopub.status.busy": "2023-04-14T11:51:00.534013Z",
     "iopub.status.idle": "2023-04-14T14:34:12.017796Z",
     "shell.execute_reply": "2023-04-14T14:34:12.016699Z"
    },
    "papermill": {
     "duration": 9791.492753,
     "end_time": "2023-04-14T14:34:12.020428",
     "exception": false,
     "start_time": "2023-04-14T11:51:00.527675",
     "status": "completed"
    },
    "tags": []
   },
   "outputs": [
    {
     "name": "stderr",
     "output_type": "stream",
     "text": [
      "100%|██████████| 2652/2652 [16:07<00:00,  2.74it/s, D_fake=0.174, D_real=0.597, G_loss=79.9, L1=77.9]\n",
      "100%|██████████| 2652/2652 [16:22<00:00,  2.70it/s, D_fake=0.0629, D_real=0.978, G_loss=121, L1=118]\n",
      "100%|██████████| 2652/2652 [16:23<00:00,  2.70it/s, D_fake=0.00653, D_real=0.859, G_loss=77.2, L1=71.6]\n",
      "100%|██████████| 2652/2652 [16:23<00:00,  2.70it/s, D_fake=0.0184, D_real=0.854, G_loss=82.3, L1=77.6]\n",
      "100%|██████████| 2652/2652 [16:24<00:00,  2.69it/s, D_fake=0.00639, D_real=0.957, G_loss=111, L1=105]\n",
      "100%|██████████| 2652/2652 [16:25<00:00,  2.69it/s, D_fake=0.0133, D_real=0.938, G_loss=134, L1=129]\n",
      "100%|██████████| 2652/2652 [16:27<00:00,  2.69it/s, D_fake=0.0073, D_real=0.743, G_loss=135, L1=130]\n",
      "100%|██████████| 2652/2652 [16:01<00:00,  2.76it/s, D_fake=nan, D_real=0.998, G_loss=nan, L1=nan]\n",
      "100%|██████████| 2652/2652 [15:49<00:00,  2.79it/s, D_fake=nan, D_real=0.999, G_loss=nan, L1=nan]\n",
      "100%|██████████| 2652/2652 [15:50<00:00,  2.79it/s, D_fake=nan, D_real=0.999, G_loss=nan, L1=nan]\n"
     ]
    },
    {
     "name": "stdout",
     "output_type": "stream",
     "text": [
      "=> Saving checkpoint\n",
      "=> Saving checkpoint\n"
     ]
    }
   ],
   "source": [
    "matplotlib.use('Agg') # This refrains matplot lib form showing the plotted resualts below the cell\n",
    "gen_model = main()"
   ]
  },
  {
   "cell_type": "code",
   "execution_count": 14,
   "id": "5373dd9f",
   "metadata": {
    "execution": {
     "iopub.execute_input": "2023-04-14T14:34:15.082143Z",
     "iopub.status.busy": "2023-04-14T14:34:15.081629Z",
     "iopub.status.idle": "2023-04-14T14:34:16.187170Z",
     "shell.execute_reply": "2023-04-14T14:34:16.185960Z"
    },
    "papermill": {
     "duration": 2.580267,
     "end_time": "2023-04-14T14:34:16.189671",
     "exception": false,
     "start_time": "2023-04-14T14:34:13.609404",
     "status": "completed"
    },
    "tags": []
   },
   "outputs": [],
   "source": [
    "transform = transforms.Compose([S2S1Normalize(),myToTensor()])\n",
    "test_dataset = Sen12Dataset(s1_t1_dir=s1_t1_dir_test,\n",
    "                            s2_t1_dir=s2_t1_dir_test,\n",
    "                            s1_t2_dir=s1_t2_dir_test,\n",
    "                            s2_t2_dir=s2_t2_dir_test,\n",
    "                            transform=transform,\n",
    "                            two_way=TWO_WAY_DATASET)\n",
    "test_loader = DataLoader(\n",
    "        test_dataset,\n",
    "        batch_size=BATCH_SIZE,\n",
    "        shuffle=False,\n",
    "        num_workers=NUM_WORKERS,\n",
    "    )"
   ]
  },
  {
   "cell_type": "code",
   "execution_count": 15,
   "id": "25b9904b",
   "metadata": {
    "execution": {
     "iopub.execute_input": "2023-04-14T14:34:19.288842Z",
     "iopub.status.busy": "2023-04-14T14:34:19.288487Z",
     "iopub.status.idle": "2023-04-14T14:34:19.293613Z",
     "shell.execute_reply": "2023-04-14T14:34:19.292384Z"
    },
    "papermill": {
     "duration": 1.582089,
     "end_time": "2023-04-14T14:34:19.296516",
     "exception": false,
     "start_time": "2023-04-14T14:34:17.714427",
     "status": "completed"
    },
    "tags": []
   },
   "outputs": [],
   "source": [
    "# save_some_examples(gen_model, test_dataset, NUM_EPOCHS, folder=\"evaluation\",cm_input=INPUT_CHANGE_MAP, img_indx=2)"
   ]
  },
  {
   "cell_type": "code",
   "execution_count": 16,
   "id": "22dd180d",
   "metadata": {
    "execution": {
     "iopub.execute_input": "2023-04-14T14:34:22.346693Z",
     "iopub.status.busy": "2023-04-14T14:34:22.346075Z",
     "iopub.status.idle": "2023-04-14T14:34:22.358475Z",
     "shell.execute_reply": "2023-04-14T14:34:22.357564Z"
    },
    "papermill": {
     "duration": 1.541664,
     "end_time": "2023-04-14T14:34:22.360634",
     "exception": false,
     "start_time": "2023-04-14T14:34:20.818970",
     "status": "completed"
    },
    "tags": []
   },
   "outputs": [],
   "source": [
    "def eval_fn(gen, loader, ssim, psnr):\n",
    "    gen.eval()\n",
    "    loop = tqdm(loader, leave=True)\n",
    "    weighted_ssim_list = []\n",
    "    normal_ssim_list = []\n",
    "    weighted_psnr_list = []\n",
    "    normal_psnr_list = []\n",
    "    \n",
    "    for idx, (s2t2,s1t2,s2t1,s1t1,cm,rcm,s1cm) in enumerate(loop):\n",
    "        s2t2,s1t2,s2t1,s1t1,cm,rcm,s1cm = s2t2.to(DEVICE),s1t2.to(DEVICE),s2t1.to(DEVICE),s1t1.to(DEVICE),cm.to(DEVICE),rcm.to(DEVICE),s1cm.to(DEVICE)\n",
    "        s2t2,s1t2,s2t1,s1t1,cm,rcm,s1cm = s2t2.to(torch.float32),s1t2.to(torch.float32),s2t1.to(torch.float32),s1t1.to(torch.float32),cm.to(torch.float32),rcm.to(torch.float32),s1cm.to(torch.float32)\n",
    "        if INPUT_CHANGE_MAP:\n",
    "            s2t2 = torch.cat((s2t2, cm), dim=1)\n",
    "            s1t1 = torch.cat((s1t1, rcm), dim=1)\n",
    "        preds = gen(s2t2, s1t1)\n",
    "        \n",
    "        weighted_ssim = ssim((s1t2, preds), s1cm)\n",
    "        weighted_ssim_list.append(weighted_ssim)\n",
    "        normal_ssim = ssim((s1t2, preds))\n",
    "        normal_ssim_list.append(normal_ssim)\n",
    "        weighted_psnr = psnr((s1t2, preds), s1cm)\n",
    "        weighted_psnr_list.append(weighted_psnr)\n",
    "        normal_psnr = psnr((s1t2, preds))\n",
    "        normal_psnr_list.append(normal_psnr)\n",
    "\n",
    "\n",
    "        if idx % 1 == 0:\n",
    "            loop.set_postfix(\n",
    "                wssim_mean = torch.tensor(weighted_ssim_list).mean().item(),\n",
    "                ssim_mean = torch.tensor(normal_ssim_list).mean().item(),\n",
    "                wpsnr_mean = torch.tensor(weighted_psnr_list).mean().item(),\n",
    "                psnr_mean = torch.tensor(normal_psnr_list).mean().item(),\n",
    "            )\n",
    "        "
   ]
  },
  {
   "cell_type": "code",
   "execution_count": 17,
   "id": "fac1c6e5",
   "metadata": {
    "execution": {
     "iopub.execute_input": "2023-04-14T14:34:25.435143Z",
     "iopub.status.busy": "2023-04-14T14:34:25.434408Z",
     "iopub.status.idle": "2023-04-14T14:34:25.439539Z",
     "shell.execute_reply": "2023-04-14T14:34:25.438516Z"
    },
    "papermill": {
     "duration": 1.595488,
     "end_time": "2023-04-14T14:34:25.441570",
     "exception": false,
     "start_time": "2023-04-14T14:34:23.846082",
     "status": "completed"
    },
    "tags": []
   },
   "outputs": [],
   "source": [
    "from eval_metrics import ssim\n",
    "from eval_metrics.psnr import wpsnr\n",
    "wssim = ssim.WSSIM(data_range=1.0)"
   ]
  },
  {
   "cell_type": "code",
   "execution_count": 18,
   "id": "b6f23ba8",
   "metadata": {
    "execution": {
     "iopub.execute_input": "2023-04-14T14:34:28.314295Z",
     "iopub.status.busy": "2023-04-14T14:34:28.313912Z",
     "iopub.status.idle": "2023-04-14T14:36:41.490014Z",
     "shell.execute_reply": "2023-04-14T14:36:41.486999Z"
    },
    "papermill": {
     "duration": 134.579358,
     "end_time": "2023-04-14T14:36:41.492817",
     "exception": false,
     "start_time": "2023-04-14T14:34:26.913459",
     "status": "completed"
    },
    "tags": []
   },
   "outputs": [
    {
     "name": "stderr",
     "output_type": "stream",
     "text": [
      "100%|██████████| 1354/1354 [02:13<00:00, 10.17it/s, psnr_mean=nan, ssim_mean=nan, wpsnr_mean=nan, wssim_mean=nan]\n"
     ]
    }
   ],
   "source": [
    "eval_fn(gen_model, test_loader, wssim, wpsnr)"
   ]
  },
  {
   "cell_type": "code",
   "execution_count": null,
   "id": "9dc9c032",
   "metadata": {
    "papermill": {
     "duration": 1.943058,
     "end_time": "2023-04-14T14:36:45.173952",
     "exception": false,
     "start_time": "2023-04-14T14:36:43.230894",
     "status": "completed"
    },
    "tags": []
   },
   "outputs": [],
   "source": []
  }
 ],
 "metadata": {
  "kernelspec": {
   "display_name": "Python 3",
   "language": "python",
   "name": "python3"
  },
  "language_info": {
   "codemirror_mode": {
    "name": "ipython",
    "version": 3
   },
   "file_extension": ".py",
   "mimetype": "text/x-python",
   "name": "python",
   "nbconvert_exporter": "python",
   "pygments_lexer": "ipython3",
   "version": "3.7.12"
  },
  "papermill": {
   "default_parameters": {},
   "duration": 9967.352087,
   "end_time": "2023-04-14T14:36:49.717568",
   "environment_variables": {},
   "exception": null,
   "input_path": "__notebook__.ipynb",
   "output_path": "__notebook__.ipynb",
   "parameters": {},
   "start_time": "2023-04-14T11:50:42.365481",
   "version": "2.4.0"
  }
 },
 "nbformat": 4,
 "nbformat_minor": 5
}
