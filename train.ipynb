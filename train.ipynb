{
 "cells": [
  {
   "cell_type": "code",
   "execution_count": 1,
   "id": "e608f443",
   "metadata": {
    "execution": {
     "iopub.execute_input": "2023-04-29T22:34:45.227438Z",
     "iopub.status.busy": "2023-04-29T22:34:45.227058Z",
     "iopub.status.idle": "2023-04-29T22:34:45.240191Z",
     "shell.execute_reply": "2023-04-29T22:34:45.239145Z"
    },
    "papermill": {
     "duration": 0.024318,
     "end_time": "2023-04-29T22:34:45.243192",
     "exception": false,
     "start_time": "2023-04-29T22:34:45.218874",
     "status": "completed"
    },
    "tags": []
   },
   "outputs": [
    {
     "data": {
      "text/plain": [
       "True"
      ]
     },
     "execution_count": 1,
     "metadata": {},
     "output_type": "execute_result"
    }
   ],
   "source": [
    "import os\n",
    "IN_KAGGLE = 'KAGGLE_URL_BASE' in os.environ\n",
    "IN_KAGGLE"
   ]
  },
  {
   "cell_type": "code",
   "execution_count": 2,
   "id": "d3604b47",
   "metadata": {
    "execution": {
     "iopub.execute_input": "2023-04-29T22:34:45.256327Z",
     "iopub.status.busy": "2023-04-29T22:34:45.256069Z",
     "iopub.status.idle": "2023-04-29T22:34:50.436553Z",
     "shell.execute_reply": "2023-04-29T22:34:50.435330Z"
    },
    "papermill": {
     "duration": 5.189664,
     "end_time": "2023-04-29T22:34:50.439152",
     "exception": false,
     "start_time": "2023-04-29T22:34:45.249488",
     "status": "completed"
    },
    "tags": []
   },
   "outputs": [
    {
     "name": "stdout",
     "output_type": "stream",
     "text": [
      "Cloning into 'TemporalGAN'...\r\n",
      "remote: Enumerating objects: 1452, done.\u001b[K\r\n",
      "remote: Counting objects: 100% (363/363), done.\u001b[K\r\n",
      "remote: Compressing objects: 100% (204/204), done.\u001b[K\r\n",
      "remote: Total 1452 (delta 220), reused 289 (delta 155), pack-reused 1089\u001b[K\r\n",
      "Receiving objects: 100% (1452/1452), 85.25 MiB | 33.78 MiB/s, done.\r\n",
      "Resolving deltas: 100% (952/952), done.\r\n"
     ]
    }
   ],
   "source": [
    "if IN_KAGGLE:\n",
    "    from kaggle_secrets import UserSecretsClient\n",
    "    user_secrets = UserSecretsClient()\n",
    "    secret_value = user_secrets.get_secret(\"gittoken2\")\n",
    "\n",
    "    !git clone https://{secret_value}@github.com/moienr/TemporalGAN.git"
   ]
  },
  {
   "cell_type": "code",
   "execution_count": 3,
   "id": "a9f36a0a",
   "metadata": {
    "execution": {
     "iopub.execute_input": "2023-04-29T22:34:50.455781Z",
     "iopub.status.busy": "2023-04-29T22:34:50.455440Z",
     "iopub.status.idle": "2023-04-29T22:34:50.462159Z",
     "shell.execute_reply": "2023-04-29T22:34:50.461138Z"
    },
    "papermill": {
     "duration": 0.01759,
     "end_time": "2023-04-29T22:34:50.464414",
     "exception": false,
     "start_time": "2023-04-29T22:34:50.446824",
     "status": "completed"
    },
    "tags": []
   },
   "outputs": [
    {
     "name": "stdout",
     "output_type": "stream",
     "text": [
      "path found...\n"
     ]
    }
   ],
   "source": [
    "if IN_KAGGLE:\n",
    "    import time\n",
    "    import os\n",
    "    sleep_time = 5\n",
    "    while not os.path.exists(\"/kaggle/working/TemporalGAN\"):\n",
    "        print(\"didn't find the path, wating {sleep_time} more seconds...\")\n",
    "        time.sleep(sleep_time)\n",
    "    print(\"path found...\")\n",
    "    import sys\n",
    "    sys.path.append(\"/kaggle/working/TemporalGAN\")"
   ]
  },
  {
   "cell_type": "code",
   "execution_count": 4,
   "id": "6f2eaf7a",
   "metadata": {
    "execution": {
     "iopub.execute_input": "2023-04-29T22:34:50.480521Z",
     "iopub.status.busy": "2023-04-29T22:34:50.479681Z",
     "iopub.status.idle": "2023-04-29T22:34:52.811598Z",
     "shell.execute_reply": "2023-04-29T22:34:52.810464Z"
    },
    "papermill": {
     "duration": 2.342416,
     "end_time": "2023-04-29T22:34:52.813864",
     "exception": false,
     "start_time": "2023-04-29T22:34:50.471448",
     "status": "completed"
    },
    "tags": []
   },
   "outputs": [
    {
     "data": {
      "text/plain": [
       "'1.13.0'"
      ]
     },
     "execution_count": 4,
     "metadata": {},
     "output_type": "execute_result"
    }
   ],
   "source": [
    "import torch\n",
    "torch.__version__"
   ]
  },
  {
   "cell_type": "code",
   "execution_count": 5,
   "id": "9afbcf01",
   "metadata": {
    "execution": {
     "iopub.execute_input": "2023-04-29T22:34:52.833175Z",
     "iopub.status.busy": "2023-04-29T22:34:52.831829Z",
     "iopub.status.idle": "2023-04-29T22:34:53.626111Z",
     "shell.execute_reply": "2023-04-29T22:34:53.624950Z"
    },
    "papermill": {
     "duration": 0.806403,
     "end_time": "2023-04-29T22:34:53.628451",
     "exception": false,
     "start_time": "2023-04-29T22:34:52.822048",
     "status": "completed"
    },
    "tags": []
   },
   "outputs": [
    {
     "data": {
      "text/plain": [
       "2"
      ]
     },
     "execution_count": 5,
     "metadata": {},
     "output_type": "execute_result"
    }
   ],
   "source": [
    "import numpy as np\n",
    "from torch.utils.data import Dataset\n",
    "from glob import glob\n",
    "from skimage import io\n",
    "import os\n",
    "from torchvision import datasets, transforms\n",
    "import matplotlib\n",
    "import os\n",
    "import gc\n",
    "import random\n",
    "os.cpu_count()"
   ]
  },
  {
   "cell_type": "code",
   "execution_count": 6,
   "id": "2e6bfa89",
   "metadata": {
    "execution": {
     "iopub.execute_input": "2023-04-29T22:34:53.644816Z",
     "iopub.status.busy": "2023-04-29T22:34:53.644493Z",
     "iopub.status.idle": "2023-04-29T22:34:53.704768Z",
     "shell.execute_reply": "2023-04-29T22:34:53.703700Z"
    },
    "papermill": {
     "duration": 0.070966,
     "end_time": "2023-04-29T22:34:53.706889",
     "exception": false,
     "start_time": "2023-04-29T22:34:53.635923",
     "status": "completed"
    },
    "tags": []
   },
   "outputs": [
    {
     "data": {
      "text/plain": [
       "'cuda'"
      ]
     },
     "execution_count": 6,
     "metadata": {},
     "output_type": "execute_result"
    }
   ],
   "source": [
    "DEVICE = \"cuda\" if torch.cuda.is_available() else \"cpu\"\n",
    "DEVICE"
   ]
  },
  {
   "cell_type": "code",
   "execution_count": 7,
   "id": "5682606b",
   "metadata": {
    "execution": {
     "iopub.execute_input": "2023-04-29T22:34:53.722940Z",
     "iopub.status.busy": "2023-04-29T22:34:53.722654Z",
     "iopub.status.idle": "2023-04-29T22:34:53.895943Z",
     "shell.execute_reply": "2023-04-29T22:34:53.895051Z"
    },
    "papermill": {
     "duration": 0.184078,
     "end_time": "2023-04-29T22:34:53.898320",
     "exception": false,
     "start_time": "2023-04-29T22:34:53.714242",
     "status": "completed"
    },
    "tags": []
   },
   "outputs": [],
   "source": [
    "from dataset.data_loaders import *\n",
    "from dataset.utils.plot_utils import plot_s1s2_tensors, save_s1s2_tensors_plot\n",
    "#from config import *\n",
    "from train_utils import *"
   ]
  },
  {
   "cell_type": "code",
   "execution_count": 8,
   "id": "70534a6e",
   "metadata": {
    "execution": {
     "iopub.execute_input": "2023-04-29T22:34:53.915513Z",
     "iopub.status.busy": "2023-04-29T22:34:53.914963Z",
     "iopub.status.idle": "2023-04-29T22:34:53.948875Z",
     "shell.execute_reply": "2023-04-29T22:34:53.948025Z"
    },
    "papermill": {
     "duration": 0.044358,
     "end_time": "2023-04-29T22:34:53.950918",
     "exception": false,
     "start_time": "2023-04-29T22:34:53.906560",
     "status": "completed"
    },
    "tags": []
   },
   "outputs": [],
   "source": [
    "from temporalgan.gen_v3 import Generator as GeneratorV3\n",
    "from temporalgan.gen_v2_1 import Generator as GeneratorV2_1\n",
    "from temporalgan.gen_v2_2 import Generator as GeneratorV2_2\n",
    "from temporalgan.gen_v2_3 import Generator as GeneratorV2_3\n",
    "from temporalgan.gen_v1_1 import Generator as GeneratorV1_1\n",
    "from temporalgan.gen_v1_2 import Generator as GeneratorV1_2\n",
    "from temporalgan.gen_v1_3 import Generator as GeneratorV1_3\n",
    "from temporalgan.gen_v1_4 import Generator as GeneratorV1_4\n",
    "from temporalgan.gen_v1_5 import Generator as GeneratorV1_5\n",
    "from temporalgan.gen_v1_6 import Generator as GeneratorV1_6\n",
    "from temporalgan.gen_v1_7 import Generator as GeneratorV1_7\n",
    "from temporalgan.disc_v2 import Discriminator as DiscriminatorV2\n",
    "from temporalgan.disc_v1 import Discriminator as DiscriminatorV1\n",
    "from eval_metrics.loss_function import WeightedL1Loss"
   ]
  },
  {
   "cell_type": "code",
   "execution_count": 9,
   "id": "9246aeb0",
   "metadata": {
    "execution": {
     "iopub.execute_input": "2023-04-29T22:34:53.966888Z",
     "iopub.status.busy": "2023-04-29T22:34:53.966625Z",
     "iopub.status.idle": "2023-04-29T22:34:53.971059Z",
     "shell.execute_reply": "2023-04-29T22:34:53.970038Z"
    },
    "papermill": {
     "duration": 0.014802,
     "end_time": "2023-04-29T22:34:53.973171",
     "exception": false,
     "start_time": "2023-04-29T22:34:53.958369",
     "status": "completed"
    },
    "tags": []
   },
   "outputs": [],
   "source": [
    "import torch.nn as nn\n",
    "import torch.optim as optim\n",
    "from torch.utils.data import DataLoader"
   ]
  },
  {
   "cell_type": "code",
   "execution_count": 10,
   "id": "882787ee",
   "metadata": {
    "execution": {
     "iopub.execute_input": "2023-04-29T22:34:53.990849Z",
     "iopub.status.busy": "2023-04-29T22:34:53.990592Z",
     "iopub.status.idle": "2023-04-29T22:34:53.995929Z",
     "shell.execute_reply": "2023-04-29T22:34:53.994989Z"
    },
    "papermill": {
     "duration": 0.015601,
     "end_time": "2023-04-29T22:34:53.998146",
     "exception": false,
     "start_time": "2023-04-29T22:34:53.982545",
     "status": "completed"
    },
    "tags": []
   },
   "outputs": [],
   "source": [
    "if IN_KAGGLE:\n",
    "    s1_t1_dir_train= \"/kaggle/input/s1s2-2021-v2/2021/s1_imgs/train\"\n",
    "    s2_t1_dir_train= \"/kaggle/input/s1s2-2021-v2/2021/s2_imgs/train\"\n",
    "    s1_t2_dir_train= \"/kaggle/input/s1s2-2019-v2/2019/s1_imgs/train\"\n",
    "    s2_t2_dir_train= \"/kaggle/input/s1s2-2019-v2/2019/s2_imgs/train\"\n",
    "    s1_t1_dir_test = \"/kaggle/input/s1s2-2021-v2/2021/s1_imgs/test\"\n",
    "    s2_t1_dir_test = \"/kaggle/input/s1s2-2021-v2/2021/s2_imgs/test\"\n",
    "    s1_t2_dir_test = \"/kaggle/input/s1s2-2019-v2/2019/s1_imgs/test\"\n",
    "    s2_t2_dir_test = \"/kaggle/input/s1s2-2019-v2/2019/s2_imgs/test\"\n",
    "else:\n",
    "    s1_t1_dir_train=\"E:\\\\s1s2\\\\s1s2_patched_light\\\\s1s2_patched_extra_light\\\\2021\\\\s1_imgs\\\\test\"\n",
    "    s2_t1_dir_train=\"E:\\\\s1s2\\\\s1s2_patched_light\\\\s1s2_patched_extra_light\\\\2021\\\\s2_imgs\\\\test\"\n",
    "    s1_t2_dir_train=\"E:\\\\s1s2\\\\s1s2_patched_light\\\\s1s2_patched_extra_light\\\\2019\\\\s1_imgs\\\\test\"\n",
    "    s2_t2_dir_train=\"E:\\\\s1s2\\\\s1s2_patched_light\\\\s1s2_patched_extra_light\\\\2019\\\\s2_imgs\\\\test\"\n",
    "    s1_t1_dir_test=\"E:\\\\s1s2\\\\s1s2_patched_light\\\\s1s2_patched_extra_light\\\\2021\\\\s1_imgs\\\\test\"\n",
    "    s2_t1_dir_test=\"E:\\\\s1s2\\\\s1s2_patched_light\\\\s1s2_patched_extra_light\\\\2021\\\\s2_imgs\\\\test\"\n",
    "    s1_t2_dir_test=\"E:\\\\s1s2\\\\s1s2_patched_light\\\\s1s2_patched_extra_light\\\\2019\\\\s1_imgs\\\\test\"\n",
    "    s2_t2_dir_test=\"E:\\\\s1s2\\\\s1s2_patched_light\\\\s1s2_patched_extra_light\\\\2019\\\\s2_imgs\\\\test\""
   ]
  },
  {
   "cell_type": "code",
   "execution_count": 11,
   "id": "9b717254",
   "metadata": {
    "execution": {
     "iopub.execute_input": "2023-04-29T22:34:54.013747Z",
     "iopub.status.busy": "2023-04-29T22:34:54.013494Z",
     "iopub.status.idle": "2023-04-29T22:34:54.019747Z",
     "shell.execute_reply": "2023-04-29T22:34:54.018794Z"
    },
    "papermill": {
     "duration": 0.01637,
     "end_time": "2023-04-29T22:34:54.021832",
     "exception": false,
     "start_time": "2023-04-29T22:34:54.005462",
     "status": "completed"
    },
    "tags": []
   },
   "outputs": [],
   "source": [
    "TWO_WAY_DATASET = True if IN_KAGGLE else False\n",
    "INPUT_CHANGE_MAP = True if IN_KAGGLE else False\n",
    "S2_INCHANNELS = 12 if INPUT_CHANGE_MAP else 6\n",
    "S1_INCHANNELS = 7 if INPUT_CHANGE_MAP else 1\n",
    "\n",
    "LEARNING_RATE = 2e-4\n",
    "BATCH_SIZE = 4 if IN_KAGGLE else 1\n",
    "NUM_WORKERS = 2 if IN_KAGGLE else 8\n",
    "IMAGE_SIZE = 256\n",
    "WEIGHTED_LOSS = True\n",
    "L1_LAMBDA = 100\n",
    "NUM_EPOCHS = 10 if IN_KAGGLE else 2\n",
    "\n",
    "LOAD_MODEL = False\n",
    "SAVE_MODEL = True if IN_KAGGLE else False\n",
    "SAVE_MODEL_EVERY_EPOCH = 10\n",
    "SAVE_EXAMPLE_PLOTS = True\n",
    "EXAMPLES_TO_PLOT = [1,32,64,128,256,512,1024] if IN_KAGGLE else [1,2]\n",
    "CHECKPOINT_DISC = \"disc.pth.tar\"\n",
    "CHECKPOINT_GEN = \"gen.pth.tar\"\n",
    "\n",
    "RANDOM_SEED = 42"
   ]
  },
  {
   "cell_type": "code",
   "execution_count": 12,
   "id": "dc225099",
   "metadata": {
    "execution": {
     "iopub.execute_input": "2023-04-29T22:34:54.037489Z",
     "iopub.status.busy": "2023-04-29T22:34:54.037233Z",
     "iopub.status.idle": "2023-04-29T22:34:54.049147Z",
     "shell.execute_reply": "2023-04-29T22:34:54.048292Z"
    },
    "papermill": {
     "duration": 0.02216,
     "end_time": "2023-04-29T22:34:54.051185",
     "exception": false,
     "start_time": "2023-04-29T22:34:54.029025",
     "status": "completed"
    },
    "tags": []
   },
   "outputs": [],
   "source": [
    "def main():\n",
    "    disc = DiscriminatorV1(s2_in_channels=S2_INCHANNELS, s1_in_channels=S1_INCHANNELS).to(DEVICE)\n",
    "#     gen = GeneratorV2(s2_in_channels=S2_INCHANNELS, s1_in_channels= S1_INCHANNELS, features=64,pam_downsample=2).to(DEVICE)\n",
    "    gen = GeneratorV1_3(s2_in_channels=S2_INCHANNELS, s1_in_channels= S1_INCHANNELS, features=64).to(DEVICE)\n",
    "#     gen = GeneratorV2_3(s2_in_channels=S2_INCHANNELS, s1_in_channels= S1_INCHANNELS, features=64).to(DEVICE)\n",
    "    opt_disc = optim.Adam(disc.parameters(), lr=LEARNING_RATE, betas=(0.5, 0.999),)\n",
    "    opt_gen = optim.Adam(gen.parameters(), lr=LEARNING_RATE, betas=(0.5, 0.999))\n",
    "    BCE = nn.BCEWithLogitsLoss()\n",
    "    if WEIGHTED_LOSS:\n",
    "        L1_LOSS = WeightedL1Loss(change_weight=5)\n",
    "    else:\n",
    "        L1_LOSS = nn.L1Loss()\n",
    "\n",
    "    if LOAD_MODEL:\n",
    "        load_checkpoint(\n",
    "            CHECKPOINT_GEN, gen, opt_gen, LEARNING_RATE,\n",
    "        )\n",
    "        load_checkpoint(\n",
    "            CHECKPOINT_DISC, disc, opt_disc, LEARNING_RATE,\n",
    "        )\n",
    "\n",
    "    transform = transforms.Compose([S2S1Normalize(),myToTensor(dtype=torch.float32)])\n",
    "\n",
    "\n",
    "    train_dataset = Sen12Dataset(s1_t1_dir=s1_t1_dir_train,\n",
    "                                 s2_t1_dir=s2_t1_dir_train,\n",
    "                                 s1_t2_dir=s1_t2_dir_train,\n",
    "                                 s2_t2_dir=s2_t2_dir_train,\n",
    "                                 transform=transform,\n",
    "                                 two_way=TWO_WAY_DATASET)\n",
    "    \n",
    "    train_loader = DataLoader(\n",
    "        train_dataset,\n",
    "        batch_size=BATCH_SIZE,\n",
    "        shuffle=True,\n",
    "        num_workers=NUM_WORKERS,\n",
    "    )\n",
    "    g_scaler = torch.cuda.amp.GradScaler()\n",
    "    d_scaler = torch.cuda.amp.GradScaler()\n",
    "#     val_dataset = MapDataset(root_dir=VAL_DIR)\n",
    "#     val_loader = DataLoader(val_dataset, batch_size=1, shuffle=False)\n",
    "\n",
    "    for epoch in range(1, NUM_EPOCHS+1):\n",
    "        print(\"\\n\\n\" , end=\"\")\n",
    "        print(f\"Epoch: {epoch}\")\n",
    "        print(\"\")\n",
    "        train_fn(\n",
    "            disc, gen, train_loader, opt_disc, opt_gen,\n",
    "            L1_LOSS, BCE, g_scaler, d_scaler, weighted_loss= WEIGHTED_LOSS,\n",
    "            cm_input=INPUT_CHANGE_MAP, grad_clip=False)\n",
    "\n",
    "        if SAVE_MODEL and epoch % SAVE_MODEL_EVERY_EPOCH == 0:\n",
    "            save_checkpoint(epoch,gen, opt_gen, filename=CHECKPOINT_GEN)\n",
    "            save_checkpoint(epoch,disc, opt_disc, filename=CHECKPOINT_DISC)\n",
    "\n",
    "\n",
    "        if SAVE_EXAMPLE_PLOTS:\n",
    "            for img_i in EXAMPLES_TO_PLOT:\n",
    "                save_some_examples(gen, train_dataset, epoch, folder=\"train_evaluation_plots\",cm_input=INPUT_CHANGE_MAP, img_indx=img_i)\n",
    "\n",
    "            \n",
    "        gc.collect()\n",
    "        torch.cuda.empty_cache()\n",
    "            \n",
    "    return gen\n"
   ]
  },
  {
   "cell_type": "code",
   "execution_count": 13,
   "id": "4abda4be",
   "metadata": {
    "execution": {
     "iopub.execute_input": "2023-04-29T22:34:54.066796Z",
     "iopub.status.busy": "2023-04-29T22:34:54.066540Z",
     "iopub.status.idle": "2023-04-29T22:34:54.072897Z",
     "shell.execute_reply": "2023-04-29T22:34:54.072042Z"
    },
    "papermill": {
     "duration": 0.016403,
     "end_time": "2023-04-29T22:34:54.074913",
     "exception": false,
     "start_time": "2023-04-29T22:34:54.058510",
     "status": "completed"
    },
    "tags": []
   },
   "outputs": [],
   "source": [
    "torch.manual_seed(RANDOM_SEED)\n",
    "random.seed(RANDOM_SEED)\n",
    "np.random.seed(RANDOM_SEED)"
   ]
  },
  {
   "cell_type": "code",
   "execution_count": 14,
   "id": "4a475ee9",
   "metadata": {
    "execution": {
     "iopub.execute_input": "2023-04-29T22:34:54.091115Z",
     "iopub.status.busy": "2023-04-29T22:34:54.090352Z",
     "iopub.status.idle": "2023-04-29T23:18:24.622294Z",
     "shell.execute_reply": "2023-04-29T23:18:24.621170Z"
    },
    "papermill": {
     "duration": 2610.542752,
     "end_time": "2023-04-29T23:18:24.625135",
     "exception": false,
     "start_time": "2023-04-29T22:34:54.082383",
     "status": "completed"
    },
    "tags": []
   },
   "outputs": [
    {
     "name": "stdout",
     "output_type": "stream",
     "text": [
      "\n",
      "\n",
      "Epoch: 1\n",
      "\n"
     ]
    },
    {
     "name": "stderr",
     "output_type": "stream",
     "text": [
      "100%|██████████| 663/663 [04:22<00:00,  2.53it/s, D_fake_mean=0.377, D_real_mean=0.582, G_loss_mean=19.2, L1_mean=18.1]\n"
     ]
    },
    {
     "name": "stdout",
     "output_type": "stream",
     "text": [
      "\n",
      "\n",
      "Epoch: 2\n",
      "\n"
     ]
    },
    {
     "name": "stderr",
     "output_type": "stream",
     "text": [
      "100%|██████████| 663/663 [04:16<00:00,  2.59it/s, D_fake_mean=0.356, D_real_mean=0.6, G_loss_mean=18.4, L1_mean=17.2]\n"
     ]
    },
    {
     "name": "stdout",
     "output_type": "stream",
     "text": [
      "\n",
      "\n",
      "Epoch: 3\n",
      "\n"
     ]
    },
    {
     "name": "stderr",
     "output_type": "stream",
     "text": [
      "100%|██████████| 663/663 [04:15<00:00,  2.59it/s, D_fake_mean=0.362, D_real_mean=0.598, G_loss_mean=18.1, L1_mean=16.9]\n"
     ]
    },
    {
     "name": "stdout",
     "output_type": "stream",
     "text": [
      "\n",
      "\n",
      "Epoch: 4\n",
      "\n"
     ]
    },
    {
     "name": "stderr",
     "output_type": "stream",
     "text": [
      "100%|██████████| 663/663 [04:15<00:00,  2.59it/s, D_fake_mean=0.381, D_real_mean=0.589, G_loss_mean=17.6, L1_mean=16.5]\n"
     ]
    },
    {
     "name": "stdout",
     "output_type": "stream",
     "text": [
      "\n",
      "\n",
      "Epoch: 5\n",
      "\n"
     ]
    },
    {
     "name": "stderr",
     "output_type": "stream",
     "text": [
      "100%|██████████| 663/663 [04:15<00:00,  2.59it/s, D_fake_mean=0.376, D_real_mean=0.587, G_loss_mean=17.6, L1_mean=16.5]\n"
     ]
    },
    {
     "name": "stdout",
     "output_type": "stream",
     "text": [
      "\n",
      "\n",
      "Epoch: 6\n",
      "\n"
     ]
    },
    {
     "name": "stderr",
     "output_type": "stream",
     "text": [
      "100%|██████████| 663/663 [04:15<00:00,  2.59it/s, D_fake_mean=0.375, D_real_mean=0.583, G_loss_mean=17.5, L1_mean=16.4]\n"
     ]
    },
    {
     "name": "stdout",
     "output_type": "stream",
     "text": [
      "\n",
      "\n",
      "Epoch: 7\n",
      "\n"
     ]
    },
    {
     "name": "stderr",
     "output_type": "stream",
     "text": [
      "100%|██████████| 663/663 [04:15<00:00,  2.59it/s, D_fake_mean=0.376, D_real_mean=0.582, G_loss_mean=17.3, L1_mean=16.2]\n"
     ]
    },
    {
     "name": "stdout",
     "output_type": "stream",
     "text": [
      "\n",
      "\n",
      "Epoch: 8\n",
      "\n"
     ]
    },
    {
     "name": "stderr",
     "output_type": "stream",
     "text": [
      "100%|██████████| 663/663 [04:15<00:00,  2.59it/s, D_fake_mean=0.379, D_real_mean=0.581, G_loss_mean=17.1, L1_mean=16]\n"
     ]
    },
    {
     "name": "stdout",
     "output_type": "stream",
     "text": [
      "\n",
      "\n",
      "Epoch: 9\n",
      "\n"
     ]
    },
    {
     "name": "stderr",
     "output_type": "stream",
     "text": [
      "100%|██████████| 663/663 [04:15<00:00,  2.59it/s, D_fake_mean=0.377, D_real_mean=0.579, G_loss_mean=16.9, L1_mean=15.8]\n"
     ]
    },
    {
     "name": "stdout",
     "output_type": "stream",
     "text": [
      "\n",
      "\n",
      "Epoch: 10\n",
      "\n"
     ]
    },
    {
     "name": "stderr",
     "output_type": "stream",
     "text": [
      "100%|██████████| 663/663 [04:15<00:00,  2.59it/s, D_fake_mean=0.382, D_real_mean=0.577, G_loss_mean=16.6, L1_mean=15.5]\n"
     ]
    },
    {
     "name": "stdout",
     "output_type": "stream",
     "text": [
      "=> Saving checkpoint\n",
      "=> Saving checkpoint\n"
     ]
    }
   ],
   "source": [
    "#matplotlib.use('Agg') # This refrains matplot lib form showing the plotted resualts below the cell\n",
    "gen_model = main()"
   ]
  },
  {
   "cell_type": "code",
   "execution_count": 15,
   "id": "6d4ef2ea",
   "metadata": {
    "execution": {
     "iopub.execute_input": "2023-04-29T23:18:25.344857Z",
     "iopub.status.busy": "2023-04-29T23:18:25.344212Z",
     "iopub.status.idle": "2023-04-29T23:18:25.349189Z",
     "shell.execute_reply": "2023-04-29T23:18:25.348143Z"
    },
    "papermill": {
     "duration": 0.364741,
     "end_time": "2023-04-29T23:18:25.351398",
     "exception": false,
     "start_time": "2023-04-29T23:18:24.986657",
     "status": "completed"
    },
    "tags": []
   },
   "outputs": [],
   "source": [
    "# transform = transforms.Compose([S2S1Normalize(),myToTensor(dtype=torch.float32)])\n",
    "# train_dataset = Sen12Dataset(s1_t1_dir=s1_t1_dir_train,\n",
    "#                              s2_t1_dir=s2_t1_dir_train,\n",
    "#                              s1_t2_dir=s1_t2_dir_train,\n",
    "#                              s2_t2_dir=s2_t2_dir_train,\n",
    "#                              transform=transform,\n",
    "#                              two_way=TWO_WAY_DATASET)\n",
    "# #plt.imshow(train_dataset[0][-1][0])\n",
    "\n",
    "# plt.imshow(torch.permute(train_dataset[123][4],(1,2,0))[:,:,0])\n",
    "# plt.colorbar()\n",
    "# plt.show()"
   ]
  },
  {
   "cell_type": "code",
   "execution_count": 16,
   "id": "f229da81",
   "metadata": {
    "execution": {
     "iopub.execute_input": "2023-04-29T23:18:26.110191Z",
     "iopub.status.busy": "2023-04-29T23:18:26.108873Z",
     "iopub.status.idle": "2023-04-29T23:18:26.939779Z",
     "shell.execute_reply": "2023-04-29T23:18:26.938719Z"
    },
    "papermill": {
     "duration": 1.238824,
     "end_time": "2023-04-29T23:18:26.942466",
     "exception": false,
     "start_time": "2023-04-29T23:18:25.703642",
     "status": "completed"
    },
    "tags": []
   },
   "outputs": [],
   "source": [
    "transform = transforms.Compose([S2S1Normalize(),myToTensor()])\n",
    "test_dataset = Sen12Dataset(s1_t1_dir=s1_t1_dir_test,\n",
    "                            s2_t1_dir=s2_t1_dir_test,\n",
    "                            s1_t2_dir=s1_t2_dir_test,\n",
    "                            s2_t2_dir=s2_t2_dir_test,\n",
    "                            transform=transform,\n",
    "                            two_way=TWO_WAY_DATASET)\n",
    "test_loader = DataLoader(\n",
    "        test_dataset,\n",
    "        batch_size=BATCH_SIZE,\n",
    "        shuffle=False,\n",
    "        num_workers=NUM_WORKERS,\n",
    "    )"
   ]
  },
  {
   "cell_type": "code",
   "execution_count": 17,
   "id": "ab06b542",
   "metadata": {
    "execution": {
     "iopub.execute_input": "2023-04-29T23:18:27.687310Z",
     "iopub.status.busy": "2023-04-29T23:18:27.686883Z",
     "iopub.status.idle": "2023-04-29T23:18:27.692078Z",
     "shell.execute_reply": "2023-04-29T23:18:27.690815Z"
    },
    "papermill": {
     "duration": 0.398477,
     "end_time": "2023-04-29T23:18:27.694674",
     "exception": false,
     "start_time": "2023-04-29T23:18:27.296197",
     "status": "completed"
    },
    "tags": []
   },
   "outputs": [],
   "source": [
    "# save_some_examples(gen_model, test_dataset, NUM_EPOCHS, folder=\"evaluation\",cm_input=INPUT_CHANGE_MAP, img_indx=2)"
   ]
  },
  {
   "cell_type": "code",
   "execution_count": 18,
   "id": "521ab574",
   "metadata": {
    "execution": {
     "iopub.execute_input": "2023-04-29T23:18:28.467236Z",
     "iopub.status.busy": "2023-04-29T23:18:28.466404Z",
     "iopub.status.idle": "2023-04-29T23:18:28.479917Z",
     "shell.execute_reply": "2023-04-29T23:18:28.478958Z"
    },
    "papermill": {
     "duration": 0.381983,
     "end_time": "2023-04-29T23:18:28.482128",
     "exception": false,
     "start_time": "2023-04-29T23:18:28.100145",
     "status": "completed"
    },
    "tags": []
   },
   "outputs": [],
   "source": [
    "def eval_fn(gen, loader, ssim, psnr):\n",
    "    gen.eval()\n",
    "    loop = tqdm(loader, leave=True)\n",
    "    weighted_ssim_list = []\n",
    "    normal_ssim_list = []\n",
    "    weighted_psnr_list = []\n",
    "    normal_psnr_list = []\n",
    "    \n",
    "    for idx, (s2t2,s1t2,s2t1,s1t1,cm,rcm,s1cm) in enumerate(loop):\n",
    "        s2t2,s1t2,s2t1,s1t1,cm,rcm,s1cm = s2t2.to(DEVICE),s1t2.to(DEVICE),s2t1.to(DEVICE),s1t1.to(DEVICE),cm.to(DEVICE),rcm.to(DEVICE),s1cm.to(DEVICE)\n",
    "        s2t2,s1t2,s2t1,s1t1,cm,rcm,s1cm = s2t2.to(torch.float32),s1t2.to(torch.float32),s2t1.to(torch.float32),s1t1.to(torch.float32),cm.to(torch.float32),rcm.to(torch.float32),s1cm.to(torch.float32)\n",
    "        if INPUT_CHANGE_MAP:\n",
    "            s2t2 = torch.cat((s2t2, cm), dim=1)\n",
    "            s1t1 = torch.cat((s1t1, rcm), dim=1)\n",
    "        preds = gen(s2t2, s1t1)\n",
    "        \n",
    "        weighted_ssim = ssim((s1t2, preds), s1cm)\n",
    "        weighted_ssim_list.append(weighted_ssim)\n",
    "        normal_ssim = ssim((s1t2, preds))\n",
    "        normal_ssim_list.append(normal_ssim)\n",
    "        weighted_psnr = psnr((s1t2, preds), s1cm)\n",
    "        weighted_psnr_list.append(weighted_psnr)\n",
    "        normal_psnr = psnr((s1t2, preds))\n",
    "        normal_psnr_list.append(normal_psnr)\n",
    "\n",
    "\n",
    "        if idx % 10 == 0:\n",
    "            loop.set_postfix(\n",
    "                wssim_mean = torch.tensor(weighted_ssim_list).mean().item(),\n",
    "                ssim_mean = torch.tensor(normal_ssim_list).mean().item(),\n",
    "                wpsnr_mean = torch.tensor(weighted_psnr_list).mean().item(),\n",
    "                psnr_mean = torch.tensor(normal_psnr_list).mean().item(),\n",
    "            )\n",
    "    print(\"wssim_mean: \" , torch.tensor(weighted_ssim_list).mean().item())\n",
    "    print(\"ssim_mean: \" , torch.tensor(normal_ssim_list).mean().item())\n",
    "    print(\"wpsnr_mean: \" , torch.tensor(weighted_psnr_list).mean().item())\n",
    "    print(\"psnr_mean: \" , torch.tensor(normal_psnr_list).mean().item())"
   ]
  },
  {
   "cell_type": "code",
   "execution_count": 19,
   "id": "0b731aea",
   "metadata": {
    "execution": {
     "iopub.execute_input": "2023-04-29T23:18:29.243299Z",
     "iopub.status.busy": "2023-04-29T23:18:29.242910Z",
     "iopub.status.idle": "2023-04-29T23:18:29.248084Z",
     "shell.execute_reply": "2023-04-29T23:18:29.247012Z"
    },
    "papermill": {
     "duration": 0.360898,
     "end_time": "2023-04-29T23:18:29.250123",
     "exception": false,
     "start_time": "2023-04-29T23:18:28.889225",
     "status": "completed"
    },
    "tags": []
   },
   "outputs": [],
   "source": [
    "from eval_metrics import ssim\n",
    "from eval_metrics.psnr import wpsnr\n",
    "wssim = ssim.WSSIM(data_range=1.0)"
   ]
  },
  {
   "cell_type": "code",
   "execution_count": 20,
   "id": "9d695f10",
   "metadata": {
    "execution": {
     "iopub.execute_input": "2023-04-29T23:18:29.958862Z",
     "iopub.status.busy": "2023-04-29T23:18:29.958497Z",
     "iopub.status.idle": "2023-04-29T23:19:50.064361Z",
     "shell.execute_reply": "2023-04-29T23:19:50.062729Z"
    },
    "papermill": {
     "duration": 80.464116,
     "end_time": "2023-04-29T23:19:50.066650",
     "exception": false,
     "start_time": "2023-04-29T23:18:29.602534",
     "status": "completed"
    },
    "tags": []
   },
   "outputs": [
    {
     "name": "stderr",
     "output_type": "stream",
     "text": [
      "100%|██████████| 339/339 [01:20<00:00,  4.23it/s, psnr_mean=15.4, ssim_mean=0.367, wpsnr_mean=12.9, wssim_mean=0.317]"
     ]
    },
    {
     "name": "stdout",
     "output_type": "stream",
     "text": [
      "wssim_mean:  0.31508928537368774\n",
      "ssim_mean:  0.364223450422287\n",
      "wpsnr_mean:  12.865090370178223\n",
      "psnr_mean:  15.366618156433105\n"
     ]
    },
    {
     "name": "stderr",
     "output_type": "stream",
     "text": [
      "\n"
     ]
    }
   ],
   "source": [
    "eval_fn(gen_model, test_loader, wssim, wpsnr)"
   ]
  },
  {
   "cell_type": "code",
   "execution_count": 21,
   "id": "bf80960d",
   "metadata": {
    "execution": {
     "iopub.execute_input": "2023-04-29T23:19:50.907781Z",
     "iopub.status.busy": "2023-04-29T23:19:50.907389Z",
     "iopub.status.idle": "2023-04-29T23:19:50.912363Z",
     "shell.execute_reply": "2023-04-29T23:19:50.911262Z"
    },
    "papermill": {
     "duration": 0.472163,
     "end_time": "2023-04-29T23:19:50.914907",
     "exception": false,
     "start_time": "2023-04-29T23:19:50.442744",
     "status": "completed"
    },
    "tags": []
   },
   "outputs": [],
   "source": [
    "# import shutil\n",
    "# shutil.rmtree(\"test_evaluation_plots\")"
   ]
  },
  {
   "cell_type": "code",
   "execution_count": 22,
   "id": "e4266005",
   "metadata": {
    "execution": {
     "iopub.execute_input": "2023-04-29T23:19:51.693339Z",
     "iopub.status.busy": "2023-04-29T23:19:51.692157Z",
     "iopub.status.idle": "2023-04-29T23:22:47.394085Z",
     "shell.execute_reply": "2023-04-29T23:22:47.392872Z"
    },
    "papermill": {
     "duration": 176.120676,
     "end_time": "2023-04-29T23:22:47.396688",
     "exception": false,
     "start_time": "2023-04-29T23:19:51.276012",
     "status": "completed"
    },
    "tags": []
   },
   "outputs": [
    {
     "name": "stdout",
     "output_type": "stream",
     "text": [
      "  adding: kaggle/working/test_evaluation_plots_1/ (stored 0%)\r\n",
      "  adding: kaggle/working/test_evaluation_plots_1/epoc_10_img599.png (deflated 2%)\r\n",
      "  adding: kaggle/working/test_evaluation_plots_1/epoc_10_img183.png (deflated 2%)\r\n",
      "  adding: kaggle/working/test_evaluation_plots_1/epoc_10_img85.png (deflated 2%)\r\n",
      "  adding: kaggle/working/test_evaluation_plots_1/epoc_10_img173.png (deflated 2%)\r\n",
      "  adding: kaggle/working/test_evaluation_plots_1/epoc_10_img107.png (deflated 2%)\r\n",
      "  adding: kaggle/working/test_evaluation_plots_1/epoc_10_img225.png (deflated 2%)\r\n",
      "  adding: kaggle/working/test_evaluation_plots_1/epoc_10_img141.png (deflated 2%)\r\n",
      "  adding: kaggle/working/test_evaluation_plots_1/epoc_10_img31.png (deflated 2%)\r\n",
      "  adding: kaggle/working/test_evaluation_plots_1/epoc_10_img351.png (deflated 2%)\r\n",
      "  adding: kaggle/working/test_evaluation_plots_1/epoc_10_img337.png (deflated 2%)\r\n",
      "  adding: kaggle/working/test_evaluation_plots_1/epoc_10_img615.png (deflated 2%)\r\n",
      "  adding: kaggle/working/test_evaluation_plots_1/epoc_10_img499.png (deflated 2%)\r\n",
      "  adding: kaggle/working/test_evaluation_plots_1/epoc_10_img99.png (deflated 3%)\r\n",
      "  adding: kaggle/working/test_evaluation_plots_1/epoc_10_img251.png (deflated 2%)\r\n",
      "  adding: kaggle/working/test_evaluation_plots_1/epoc_10_img201.png (deflated 2%)\r\n",
      "  adding: kaggle/working/test_evaluation_plots_1/epoc_10_img331.png (deflated 2%)\r\n",
      "  adding: kaggle/working/test_evaluation_plots_1/epoc_10_img163.png (deflated 2%)\r\n",
      "  adding: kaggle/working/test_evaluation_plots_1/epoc_10_img579.png (deflated 2%)\r\n",
      "  adding: kaggle/working/test_evaluation_plots_1/epoc_10_img67.png (deflated 2%)\r\n",
      "  adding: kaggle/working/test_evaluation_plots_1/epoc_10_img573.png (deflated 2%)\r\n",
      "  adding: kaggle/working/test_evaluation_plots_1/epoc_10_img95.png (deflated 2%)\r\n",
      "  adding: kaggle/working/test_evaluation_plots_1/epoc_10_img275.png (deflated 2%)\r\n",
      "  adding: kaggle/working/test_evaluation_plots_1/epoc_10_img11.png (deflated 2%)\r\n",
      "  adding: kaggle/working/test_evaluation_plots_1/epoc_10_img303.png (deflated 2%)\r\n",
      "  adding: kaggle/working/test_evaluation_plots_1/epoc_10_img349.png (deflated 2%)\r\n",
      "  adding: kaggle/working/test_evaluation_plots_1/epoc_10_img69.png (deflated 2%)\r\n",
      "  adding: kaggle/working/test_evaluation_plots_1/epoc_10_img97.png (deflated 2%)\r\n",
      "  adding: kaggle/working/test_evaluation_plots_1/epoc_10_img89.png (deflated 2%)\r\n",
      "  adding: kaggle/working/test_evaluation_plots_1/epoc_10_img207.png (deflated 2%)\r\n",
      "  adding: kaggle/working/test_evaluation_plots_1/epoc_10_img591.png (deflated 2%)\r\n",
      "  adding: kaggle/working/test_evaluation_plots_1/epoc_10_img307.png (deflated 2%)\r\n",
      "  adding: kaggle/working/test_evaluation_plots_1/epoc_10_img135.png (deflated 2%)\r\n",
      "  adding: kaggle/working/test_evaluation_plots_1/epoc_10_img279.png (deflated 2%)\r\n",
      "  adding: kaggle/working/test_evaluation_plots_1/epoc_10_img209.png (deflated 2%)\r\n",
      "  adding: kaggle/working/test_evaluation_plots_1/epoc_10_img375.png (deflated 2%)\r\n",
      "  adding: kaggle/working/test_evaluation_plots_1/epoc_10_img169.png (deflated 2%)\r\n",
      "  adding: kaggle/working/test_evaluation_plots_1/epoc_10_img569.png (deflated 2%)\r\n",
      "  adding: kaggle/working/test_evaluation_plots_1/epoc_10_img329.png (deflated 2%)\r\n",
      "  adding: kaggle/working/test_evaluation_plots_1/epoc_10_img457.png (deflated 2%)\r\n",
      "  adding: kaggle/working/test_evaluation_plots_1/epoc_10_img21.png (deflated 2%)\r\n",
      "  adding: kaggle/working/test_evaluation_plots_1/epoc_10_img269.png (deflated 2%)\r\n",
      "  adding: kaggle/working/test_evaluation_plots_1/epoc_10_img541.png (deflated 2%)\r\n",
      "  adding: kaggle/working/test_evaluation_plots_1/epoc_10_img267.png (deflated 2%)\r\n",
      "  adding: kaggle/working/test_evaluation_plots_1/epoc_10_img663.png (deflated 2%)\r\n",
      "  adding: kaggle/working/test_evaluation_plots_1/epoc_10_img471.png (deflated 2%)\r\n",
      "  adding: kaggle/working/test_evaluation_plots_1/epoc_10_img343.png (deflated 2%)\r\n",
      "  adding: kaggle/working/test_evaluation_plots_1/epoc_10_img71.png (deflated 2%)\r\n",
      "  adding: kaggle/working/test_evaluation_plots_1/epoc_10_img53.png (deflated 2%)\r\n",
      "  adding: kaggle/working/test_evaluation_plots_1/epoc_10_img157.png (deflated 2%)\r\n",
      "  adding: kaggle/working/test_evaluation_plots_1/epoc_10_img465.png (deflated 2%)\r\n",
      "  adding: kaggle/working/test_evaluation_plots_1/epoc_10_img309.png (deflated 2%)\r\n",
      "  adding: kaggle/working/test_evaluation_plots_1/epoc_10_img603.png (deflated 2%)\r\n",
      "  adding: kaggle/working/test_evaluation_plots_1/epoc_10_img179.png (deflated 2%)\r\n",
      "  adding: kaggle/working/test_evaluation_plots_1/epoc_10_img299.png (deflated 2%)\r\n",
      "  adding: kaggle/working/test_evaluation_plots_1/epoc_10_img497.png (deflated 2%)\r\n",
      "  adding: kaggle/working/test_evaluation_plots_1/epoc_10_img505.png (deflated 2%)\r\n",
      "  adding: kaggle/working/test_evaluation_plots_1/epoc_10_img195.png (deflated 2%)\r\n",
      "  adding: kaggle/working/test_evaluation_plots_1/epoc_10_img213.png (deflated 2%)\r\n",
      "  adding: kaggle/working/test_evaluation_plots_1/epoc_10_img177.png (deflated 2%)\r\n",
      "  adding: kaggle/working/test_evaluation_plots_1/epoc_10_img657.png (deflated 2%)\r\n",
      "  adding: kaggle/working/test_evaluation_plots_1/epoc_10_img651.png (deflated 2%)\r\n",
      "  adding: kaggle/working/test_evaluation_plots_1/epoc_10_img381.png (deflated 2%)\r\n",
      "  adding: kaggle/working/test_evaluation_plots_1/epoc_10_img659.png (deflated 2%)\r\n",
      "  adding: kaggle/working/test_evaluation_plots_1/epoc_10_img265.png (deflated 2%)\r\n",
      "  adding: kaggle/working/test_evaluation_plots_1/epoc_10_img277.png (deflated 2%)\r\n",
      "  adding: kaggle/working/test_evaluation_plots_1/epoc_10_img371.png (deflated 2%)\r\n",
      "  adding: kaggle/working/test_evaluation_plots_1/epoc_10_img493.png (deflated 2%)\r\n",
      "  adding: kaggle/working/test_evaluation_plots_1/epoc_10_img567.png (deflated 2%)\r\n",
      "  adding: kaggle/working/test_evaluation_plots_1/epoc_10_img483.png (deflated 2%)\r\n",
      "  adding: kaggle/working/test_evaluation_plots_1/epoc_10_img61.png (deflated 2%)\r\n",
      "  adding: kaggle/working/test_evaluation_plots_1/epoc_10_img547.png (deflated 2%)\r\n",
      "  adding: kaggle/working/test_evaluation_plots_1/epoc_10_img441.png (deflated 2%)\r\n",
      "  adding: kaggle/working/test_evaluation_plots_1/epoc_10_img535.png (deflated 2%)\r\n",
      "  adding: kaggle/working/test_evaluation_plots_1/epoc_10_img447.png (deflated 2%)\r\n",
      "  adding: kaggle/working/test_evaluation_plots_1/epoc_10_img531.png (deflated 2%)\r\n",
      "  adding: kaggle/working/test_evaluation_plots_1/epoc_10_img271.png (deflated 2%)\r\n",
      "  adding: kaggle/working/test_evaluation_plots_1/epoc_10_img113.png (deflated 2%)\r\n",
      "  adding: kaggle/working/test_evaluation_plots_1/epoc_10_img123.png (deflated 2%)\r\n",
      "  adding: kaggle/working/test_evaluation_plots_1/epoc_10_img561.png (deflated 2%)\r\n",
      "  adding: kaggle/working/test_evaluation_plots_1/epoc_10_img13.png (deflated 2%)\r\n",
      "  adding: kaggle/working/test_evaluation_plots_1/epoc_10_img489.png (deflated 2%)\r\n",
      "  adding: kaggle/working/test_evaluation_plots_1/epoc_10_img17.png (deflated 2%)\r\n",
      "  adding: kaggle/working/test_evaluation_plots_1/epoc_10_img451.png (deflated 2%)\r\n",
      "  adding: kaggle/working/test_evaluation_plots_1/epoc_10_img199.png (deflated 2%)\r\n",
      "  adding: kaggle/working/test_evaluation_plots_1/epoc_10_img3.png (deflated 2%)\r\n",
      "  adding: kaggle/working/test_evaluation_plots_1/epoc_10_img621.png (deflated 2%)\r\n",
      "  adding: kaggle/working/test_evaluation_plots_1/epoc_10_img527.png (deflated 2%)\r\n",
      "  adding: kaggle/working/test_evaluation_plots_1/epoc_10_img215.png (deflated 2%)\r\n",
      "  adding: kaggle/working/test_evaluation_plots_1/epoc_10_img639.png (deflated 2%)\r\n",
      "  adding: kaggle/working/test_evaluation_plots_1/epoc_10_img595.png (deflated 2%)\r\n",
      "  adding: kaggle/working/test_evaluation_plots_1/epoc_10_img25.png (deflated 2%)\r\n",
      "  adding: kaggle/working/test_evaluation_plots_1/epoc_10_img323.png (deflated 2%)\r\n",
      "  adding: kaggle/working/test_evaluation_plots_1/epoc_10_img65.png (deflated 2%)\r\n",
      "  adding: kaggle/working/test_evaluation_plots_1/epoc_10_img437.png (deflated 2%)\r\n",
      "  adding: kaggle/working/test_evaluation_plots_1/epoc_10_img121.png (deflated 2%)\r\n",
      "  adding: kaggle/working/test_evaluation_plots_1/epoc_10_img575.png (deflated 2%)\r\n",
      "  adding: kaggle/working/test_evaluation_plots_1/epoc_10_img617.png (deflated 2%)\r\n",
      "  adding: kaggle/working/test_evaluation_plots_1/epoc_10_img463.png (deflated 2%)\r\n",
      "  adding: kaggle/working/test_evaluation_plots_1/epoc_10_img105.png (deflated 2%)\r\n",
      "  adding: kaggle/working/test_evaluation_plots_1/epoc_10_img15.png (deflated 2%)\r\n",
      "  adding: kaggle/working/test_evaluation_plots_1/epoc_10_img565.png (deflated 2%)\r\n",
      "  adding: kaggle/working/test_evaluation_plots_1/epoc_10_img7.png (deflated 2%)\r\n",
      "  adding: kaggle/working/test_evaluation_plots_1/epoc_10_img407.png (deflated 2%)\r\n",
      "  adding: kaggle/working/test_evaluation_plots_1/epoc_10_img167.png (deflated 2%)\r\n",
      "  adding: kaggle/working/test_evaluation_plots_1/epoc_10_img19.png (deflated 2%)\r\n",
      "  adding: kaggle/working/test_evaluation_plots_1/epoc_10_img363.png (deflated 2%)\r\n",
      "  adding: kaggle/working/test_evaluation_plots_1/epoc_10_img491.png (deflated 2%)\r\n",
      "  adding: kaggle/working/test_evaluation_plots_1/epoc_10_img597.png (deflated 2%)\r\n",
      "  adding: kaggle/working/test_evaluation_plots_1/epoc_10_img523.png (deflated 2%)\r\n",
      "  adding: kaggle/working/test_evaluation_plots_1/epoc_10_img139.png (deflated 2%)\r\n",
      "  adding: kaggle/working/test_evaluation_plots_1/epoc_10_img57.png (deflated 2%)\r\n",
      "  adding: kaggle/working/test_evaluation_plots_1/epoc_10_img453.png (deflated 2%)\r\n",
      "  adding: kaggle/working/test_evaluation_plots_1/epoc_10_img289.png (deflated 2%)\r\n",
      "  adding: kaggle/working/test_evaluation_plots_1/epoc_10_img193.png (deflated 2%)\r\n",
      "  adding: kaggle/working/test_evaluation_plots_1/epoc_10_img185.png (deflated 2%)\r\n",
      "  adding: kaggle/working/test_evaluation_plots_1/epoc_10_img485.png (deflated 2%)\r\n",
      "  adding: kaggle/working/test_evaluation_plots_1/epoc_10_img475.png (deflated 2%)\r\n",
      "  adding: kaggle/working/test_evaluation_plots_1/epoc_10_img581.png (deflated 2%)\r\n",
      "  adding: kaggle/working/test_evaluation_plots_1/epoc_10_img109.png (deflated 2%)\r\n",
      "  adding: kaggle/working/test_evaluation_plots_1/epoc_10_img115.png (deflated 2%)\r\n",
      "  adding: kaggle/working/test_evaluation_plots_1/epoc_10_img23.png (deflated 2%)\r\n",
      "  adding: kaggle/working/test_evaluation_plots_1/epoc_10_img313.png (deflated 2%)\r\n",
      "  adding: kaggle/working/test_evaluation_plots_1/epoc_10_img243.png (deflated 2%)\r\n",
      "  adding: kaggle/working/test_evaluation_plots_1/epoc_10_img305.png (deflated 2%)\r\n",
      "  adding: kaggle/working/test_evaluation_plots_1/epoc_10_img191.png (deflated 2%)\r\n",
      "  adding: kaggle/working/test_evaluation_plots_1/epoc_10_img559.png (deflated 2%)\r\n",
      "  adding: kaggle/working/test_evaluation_plots_1/epoc_10_img259.png (deflated 2%)\r\n",
      "  adding: kaggle/working/test_evaluation_plots_1/epoc_10_img519.png (deflated 2%)\r\n",
      "  adding: kaggle/working/test_evaluation_plots_1/epoc_10_img311.png (deflated 2%)\r\n",
      "  adding: kaggle/working/test_evaluation_plots_1/epoc_10_img321.png (deflated 2%)\r\n",
      "  adding: kaggle/working/test_evaluation_plots_1/epoc_10_img585.png (deflated 2%)\r\n",
      "  adding: kaggle/working/test_evaluation_plots_1/epoc_10_img355.png (deflated 2%)\r\n",
      "  adding: kaggle/working/test_evaluation_plots_1/epoc_10_img623.png (deflated 2%)\r\n",
      "  adding: kaggle/working/test_evaluation_plots_1/epoc_10_img77.png (deflated 3%)\r\n",
      "  adding: kaggle/working/test_evaluation_plots_1/epoc_10_img601.png (deflated 2%)\r\n",
      "  adding: kaggle/working/test_evaluation_plots_1/epoc_10_img1.png (deflated 2%)\r\n",
      "  adding: kaggle/working/test_evaluation_plots_1/epoc_10_img247.png (deflated 2%)\r\n",
      "  adding: kaggle/working/test_evaluation_plots_1/epoc_10_img653.png (deflated 2%)\r\n",
      "  adding: kaggle/working/test_evaluation_plots_1/epoc_10_img479.png (deflated 2%)\r\n",
      "  adding: kaggle/working/test_evaluation_plots_1/epoc_10_img605.png (deflated 2%)\r\n",
      "  adding: kaggle/working/test_evaluation_plots_1/epoc_10_img295.png (deflated 2%)\r\n",
      "  adding: kaggle/working/test_evaluation_plots_1/epoc_10_img47.png (deflated 2%)\r\n",
      "  adding: kaggle/working/test_evaluation_plots_1/epoc_10_img383.png (deflated 2%)\r\n",
      "  adding: kaggle/working/test_evaluation_plots_1/epoc_10_img219.png (deflated 2%)\r\n",
      "  adding: kaggle/working/test_evaluation_plots_1/epoc_10_img75.png (deflated 2%)\r\n",
      "  adding: kaggle/working/test_evaluation_plots_1/epoc_10_img421.png (deflated 2%)\r\n",
      "  adding: kaggle/working/test_evaluation_plots_1/epoc_10_img385.png (deflated 2%)\r\n",
      "  adding: kaggle/working/test_evaluation_plots_1/epoc_10_img257.png (deflated 2%)\r\n",
      "  adding: kaggle/working/test_evaluation_plots_1/epoc_10_img281.png (deflated 2%)\r\n",
      "  adding: kaggle/working/test_evaluation_plots_1/epoc_10_img593.png (deflated 2%)\r\n",
      "  adding: kaggle/working/test_evaluation_plots_1/epoc_10_img79.png (deflated 3%)\r\n",
      "  adding: kaggle/working/test_evaluation_plots_1/epoc_10_img253.png (deflated 2%)\r\n",
      "  adding: kaggle/working/test_evaluation_plots_1/epoc_10_img325.png (deflated 2%)\r\n",
      "  adding: kaggle/working/test_evaluation_plots_1/epoc_10_img233.png (deflated 2%)\r\n",
      "  adding: kaggle/working/test_evaluation_plots_1/epoc_10_img647.png (deflated 2%)\r\n",
      "  adding: kaggle/working/test_evaluation_plots_1/epoc_10_img263.png (deflated 2%)\r\n",
      "  adding: kaggle/working/test_evaluation_plots_1/epoc_10_img439.png (deflated 2%)\r\n",
      "  adding: kaggle/working/test_evaluation_plots_1/epoc_10_img165.png (deflated 2%)\r\n",
      "  adding: kaggle/working/test_evaluation_plots_1/epoc_10_img137.png (deflated 2%)\r\n",
      "  adding: kaggle/working/test_evaluation_plots_1/epoc_10_img339.png (deflated 2%)\r\n",
      "  adding: kaggle/working/test_evaluation_plots_1/epoc_10_img187.png (deflated 2%)\r\n",
      "  adding: kaggle/working/test_evaluation_plots_1/epoc_10_img127.png (deflated 2%)\r\n",
      "  adding: kaggle/working/test_evaluation_plots_1/epoc_10_img427.png (deflated 2%)\r\n",
      "  adding: kaggle/working/test_evaluation_plots_1/epoc_10_img529.png (deflated 2%)\r\n",
      "  adding: kaggle/working/test_evaluation_plots_1/epoc_10_img607.png (deflated 2%)\r\n",
      "  adding: kaggle/working/test_evaluation_plots_1/epoc_10_img45.png (deflated 2%)\r\n",
      "  adding: kaggle/working/test_evaluation_plots_1/epoc_10_img205.png (deflated 2%)\r\n",
      "  adding: kaggle/working/test_evaluation_plots_1/epoc_10_img59.png (deflated 2%)\r\n",
      "  adding: kaggle/working/test_evaluation_plots_1/epoc_10_img145.png (deflated 2%)\r\n",
      "  adding: kaggle/working/test_evaluation_plots_1/epoc_10_img377.png (deflated 2%)\r\n",
      "  adding: kaggle/working/test_evaluation_plots_1/epoc_10_img301.png (deflated 2%)\r\n",
      "  adding: kaggle/working/test_evaluation_plots_1/epoc_10_img273.png (deflated 2%)\r\n",
      "  adding: kaggle/working/test_evaluation_plots_1/epoc_10_img467.png (deflated 2%)\r\n",
      "  adding: kaggle/working/test_evaluation_plots_1/epoc_10_img55.png (deflated 2%)\r\n",
      "  adding: kaggle/working/test_evaluation_plots_1/epoc_10_img27.png (deflated 2%)\r\n",
      "  adding: kaggle/working/test_evaluation_plots_1/epoc_10_img625.png (deflated 2%)\r\n",
      "  adding: kaggle/working/test_evaluation_plots_1/epoc_10_img549.png (deflated 2%)\r\n",
      "  adding: kaggle/working/test_evaluation_plots_1/epoc_10_img671.png (deflated 2%)\r\n",
      "  adding: kaggle/working/test_evaluation_plots_1/epoc_10_img117.png (deflated 2%)\r\n",
      "  adding: kaggle/working/test_evaluation_plots_1/epoc_10_img353.png (deflated 2%)\r\n",
      "  adding: kaggle/working/test_evaluation_plots_1/epoc_10_img443.png (deflated 2%)\r\n",
      "  adding: kaggle/working/test_evaluation_plots_1/epoc_10_img221.png (deflated 2%)\r\n",
      "  adding: kaggle/working/test_evaluation_plots_1/epoc_10_img391.png (deflated 2%)\r\n",
      "  adding: kaggle/working/test_evaluation_plots_1/epoc_10_img357.png (deflated 2%)\r\n",
      "  adding: kaggle/working/test_evaluation_plots_1/epoc_10_img633.png (deflated 2%)\r\n",
      "  adding: kaggle/working/test_evaluation_plots_1/epoc_10_img261.png (deflated 2%)\r\n",
      "  adding: kaggle/working/test_evaluation_plots_1/epoc_10_img101.png (deflated 2%)\r\n",
      "  adding: kaggle/working/test_evaluation_plots_1/epoc_10_img583.png (deflated 2%)\r\n",
      "  adding: kaggle/working/test_evaluation_plots_1/epoc_10_img151.png (deflated 2%)\r\n",
      "  adding: kaggle/working/test_evaluation_plots_1/epoc_10_img153.png (deflated 2%)\r\n",
      "  adding: kaggle/working/test_evaluation_plots_1/epoc_10_img553.png (deflated 2%)\r\n",
      "  adding: kaggle/working/test_evaluation_plots_1/epoc_10_img203.png (deflated 2%)\r\n",
      "  adding: kaggle/working/test_evaluation_plots_1/epoc_10_img229.png (deflated 2%)\r\n",
      "  adding: kaggle/working/test_evaluation_plots_1/epoc_10_img429.png (deflated 2%)\r\n",
      "  adding: kaggle/working/test_evaluation_plots_1/epoc_10_img415.png (deflated 2%)\r\n",
      "  adding: kaggle/working/test_evaluation_plots_1/epoc_10_img487.png (deflated 2%)\r\n",
      "  adding: kaggle/working/test_evaluation_plots_1/epoc_10_img395.png (deflated 2%)\r\n",
      "  adding: kaggle/working/test_evaluation_plots_1/epoc_10_img401.png (deflated 2%)\r\n",
      "  adding: kaggle/working/test_evaluation_plots_1/epoc_10_img235.png (deflated 2%)\r\n",
      "  adding: kaggle/working/test_evaluation_plots_1/epoc_10_img287.png (deflated 2%)\r\n",
      "  adding: kaggle/working/test_evaluation_plots_1/epoc_10_img147.png (deflated 2%)\r\n",
      "  adding: kaggle/working/test_evaluation_plots_1/epoc_10_img629.png (deflated 2%)\r\n",
      "  adding: kaggle/working/test_evaluation_plots_1/epoc_10_img577.png (deflated 2%)\r\n",
      "  adding: kaggle/working/test_evaluation_plots_1/epoc_10_img131.png (deflated 2%)\r\n",
      "  adding: kaggle/working/test_evaluation_plots_1/epoc_10_img317.png (deflated 2%)\r\n",
      "  adding: kaggle/working/test_evaluation_plots_1/epoc_10_img365.png (deflated 2%)\r\n",
      "  adding: kaggle/working/test_evaluation_plots_1/epoc_10_img175.png (deflated 2%)\r\n",
      "  adding: kaggle/working/test_evaluation_plots_1/epoc_10_img341.png (deflated 2%)\r\n",
      "  adding: kaggle/working/test_evaluation_plots_1/epoc_10_img373.png (deflated 2%)\r\n",
      "  adding: kaggle/working/test_evaluation_plots_1/epoc_10_img613.png (deflated 2%)\r\n",
      "  adding: kaggle/working/test_evaluation_plots_1/epoc_10_img227.png (deflated 2%)\r\n",
      "  adding: kaggle/working/test_evaluation_plots_1/epoc_10_img539.png (deflated 2%)\r\n",
      "  adding: kaggle/working/test_evaluation_plots_1/epoc_10_img411.png (deflated 2%)\r\n",
      "  adding: kaggle/working/test_evaluation_plots_1/epoc_10_img103.png (deflated 2%)\r\n",
      "  adding: kaggle/working/test_evaluation_plots_1/epoc_10_img347.png (deflated 2%)\r\n",
      "  adding: kaggle/working/test_evaluation_plots_1/epoc_10_img521.png (deflated 2%)\r\n",
      "  adding: kaggle/working/test_evaluation_plots_1/epoc_10_img171.png (deflated 2%)\r\n",
      "  adding: kaggle/working/test_evaluation_plots_1/epoc_10_img93.png (deflated 2%)\r\n",
      "  adding: kaggle/working/test_evaluation_plots_1/epoc_10_img359.png (deflated 2%)\r\n",
      "  adding: kaggle/working/test_evaluation_plots_1/epoc_10_img665.png (deflated 2%)\r\n",
      "  adding: kaggle/working/test_evaluation_plots_1/epoc_10_img5.png (deflated 2%)\r\n",
      "  adding: kaggle/working/test_evaluation_plots_1/epoc_10_img29.png (deflated 2%)\r\n",
      "  adding: kaggle/working/test_evaluation_plots_1/epoc_10_img481.png (deflated 2%)\r\n",
      "  adding: kaggle/working/test_evaluation_plots_1/epoc_10_img197.png (deflated 2%)\r\n",
      "  adding: kaggle/working/test_evaluation_plots_1/epoc_10_img159.png (deflated 2%)\r\n",
      "  adding: kaggle/working/test_evaluation_plots_1/epoc_10_img673.png (deflated 2%)\r\n",
      "  adding: kaggle/working/test_evaluation_plots_1/epoc_10_img425.png (deflated 2%)\r\n",
      "  adding: kaggle/working/test_evaluation_plots_1/epoc_10_img283.png (deflated 2%)\r\n",
      "  adding: kaggle/working/test_evaluation_plots_1/epoc_10_img611.png (deflated 2%)\r\n",
      "  adding: kaggle/working/test_evaluation_plots_1/epoc_10_img655.png (deflated 2%)\r\n",
      "  adding: kaggle/working/test_evaluation_plots_1/epoc_10_img551.png (deflated 2%)\r\n",
      "  adding: kaggle/working/test_evaluation_plots_1/epoc_10_img399.png (deflated 2%)\r\n",
      "  adding: kaggle/working/test_evaluation_plots_1/epoc_10_img649.png (deflated 2%)\r\n",
      "  adding: kaggle/working/test_evaluation_plots_1/epoc_10_img149.png (deflated 2%)\r\n",
      "  adding: kaggle/working/test_evaluation_plots_1/epoc_10_img641.png (deflated 2%)\r\n",
      "  adding: kaggle/working/test_evaluation_plots_1/epoc_10_img431.png (deflated 2%)\r\n",
      "  adding: kaggle/working/test_evaluation_plots_1/epoc_10_img239.png (deflated 2%)\r\n",
      "  adding: kaggle/working/test_evaluation_plots_1/epoc_10_img669.png (deflated 2%)\r\n",
      "  adding: kaggle/working/test_evaluation_plots_1/epoc_10_img361.png (deflated 2%)\r\n",
      "  adding: kaggle/working/test_evaluation_plots_1/epoc_10_img241.png (deflated 2%)\r\n",
      "  adding: kaggle/working/test_evaluation_plots_1/epoc_10_img335.png (deflated 2%)\r\n",
      "  adding: kaggle/working/test_evaluation_plots_1/epoc_10_img405.png (deflated 2%)\r\n",
      "  adding: kaggle/working/test_evaluation_plots_1/epoc_10_img635.png (deflated 2%)\r\n",
      "  adding: kaggle/working/test_evaluation_plots_1/epoc_10_img525.png (deflated 2%)\r\n",
      "  adding: kaggle/working/test_evaluation_plots_1/epoc_10_img403.png (deflated 2%)\r\n",
      "  adding: kaggle/working/test_evaluation_plots_1/epoc_10_img119.png (deflated 2%)\r\n",
      "  adding: kaggle/working/test_evaluation_plots_1/epoc_10_img473.png (deflated 2%)\r\n",
      "  adding: kaggle/working/test_evaluation_plots_1/epoc_10_img91.png (deflated 2%)\r\n",
      "  adding: kaggle/working/test_evaluation_plots_1/epoc_10_img237.png (deflated 2%)\r\n",
      "  adding: kaggle/working/test_evaluation_plots_1/epoc_10_img455.png (deflated 2%)\r\n",
      "  adding: kaggle/working/test_evaluation_plots_1/epoc_10_img387.png (deflated 2%)\r\n",
      "  adding: kaggle/working/test_evaluation_plots_1/epoc_10_img543.png (deflated 2%)\r\n",
      "  adding: kaggle/working/test_evaluation_plots_1/epoc_10_img189.png (deflated 2%)\r\n",
      "  adding: kaggle/working/test_evaluation_plots_1/epoc_10_img297.png (deflated 2%)\r\n",
      "  adding: kaggle/working/test_evaluation_plots_1/epoc_10_img217.png (deflated 2%)\r\n",
      "  adding: kaggle/working/test_evaluation_plots_1/epoc_10_img369.png (deflated 2%)\r\n",
      "  adding: kaggle/working/test_evaluation_plots_1/epoc_10_img409.png (deflated 2%)\r\n",
      "  adding: kaggle/working/test_evaluation_plots_1/epoc_10_img223.png (deflated 2%)\r\n",
      "  adding: kaggle/working/test_evaluation_plots_1/epoc_10_img9.png (deflated 2%)\r\n",
      "  adding: kaggle/working/test_evaluation_plots_1/epoc_10_img39.png (deflated 2%)\r\n",
      "  adding: kaggle/working/test_evaluation_plots_1/epoc_10_img477.png (deflated 2%)\r\n",
      "  adding: kaggle/working/test_evaluation_plots_1/epoc_10_img255.png (deflated 2%)\r\n",
      "  adding: kaggle/working/test_evaluation_plots_1/epoc_10_img571.png (deflated 2%)\r\n",
      "  adding: kaggle/working/test_evaluation_plots_1/epoc_10_img637.png (deflated 2%)\r\n",
      "  adding: kaggle/working/test_evaluation_plots_1/epoc_10_img643.png (deflated 2%)\r\n",
      "  adding: kaggle/working/test_evaluation_plots_1/epoc_10_img517.png (deflated 2%)\r\n",
      "  adding: kaggle/working/test_evaluation_plots_1/epoc_10_img63.png (deflated 2%)\r\n",
      "  adding: kaggle/working/test_evaluation_plots_1/epoc_10_img245.png (deflated 2%)\r\n",
      "  adding: kaggle/working/test_evaluation_plots_1/epoc_10_img155.png (deflated 2%)\r\n",
      "  adding: kaggle/working/test_evaluation_plots_1/epoc_10_img537.png (deflated 2%)\r\n",
      "  adding: kaggle/working/test_evaluation_plots_1/epoc_10_img433.png (deflated 2%)\r\n",
      "  adding: kaggle/working/test_evaluation_plots_1/epoc_10_img503.png (deflated 2%)\r\n",
      "  adding: kaggle/working/test_evaluation_plots_1/epoc_10_img125.png (deflated 2%)\r\n",
      "  adding: kaggle/working/test_evaluation_plots_1/epoc_10_img495.png (deflated 2%)\r\n",
      "  adding: kaggle/working/test_evaluation_plots_1/epoc_10_img413.png (deflated 2%)\r\n",
      "  adding: kaggle/working/test_evaluation_plots_1/epoc_10_img557.png (deflated 2%)\r\n",
      "  adding: kaggle/working/test_evaluation_plots_1/epoc_10_img417.png (deflated 2%)\r\n",
      "  adding: kaggle/working/test_evaluation_plots_1/epoc_10_img181.png (deflated 2%)\r\n",
      "  adding: kaggle/working/test_evaluation_plots_1/epoc_10_img423.png (deflated 2%)\r\n",
      "  adding: kaggle/working/test_evaluation_plots_1/epoc_10_img33.png (deflated 2%)\r\n",
      "  adding: kaggle/working/test_evaluation_plots_1/epoc_10_img515.png (deflated 2%)\r\n",
      "  adding: kaggle/working/test_evaluation_plots_1/epoc_10_img83.png (deflated 2%)\r\n",
      "  adding: kaggle/working/test_evaluation_plots_1/epoc_10_img545.png (deflated 2%)\r\n",
      "  adding: kaggle/working/test_evaluation_plots_1/epoc_10_img319.png (deflated 2%)\r\n",
      "  adding: kaggle/working/test_evaluation_plots_1/epoc_10_img675.png (deflated 2%)\r\n",
      "  adding: kaggle/working/test_evaluation_plots_1/epoc_10_img367.png (deflated 2%)\r\n",
      "  adding: kaggle/working/test_evaluation_plots_1/epoc_10_img41.png (deflated 2%)\r\n",
      "  adding: kaggle/working/test_evaluation_plots_1/epoc_10_img129.png (deflated 2%)\r\n",
      "  adding: kaggle/working/test_evaluation_plots_1/epoc_10_img211.png (deflated 2%)\r\n",
      "  adding: kaggle/working/test_evaluation_plots_1/epoc_10_img513.png (deflated 2%)\r\n",
      "  adding: kaggle/working/test_evaluation_plots_1/epoc_10_img589.png (deflated 2%)\r\n",
      "  adding: kaggle/working/test_evaluation_plots_1/epoc_10_img333.png (deflated 2%)\r\n",
      "  adding: kaggle/working/test_evaluation_plots_1/epoc_10_img285.png (deflated 2%)\r\n",
      "  adding: kaggle/working/test_evaluation_plots_1/epoc_10_img111.png (deflated 2%)\r\n",
      "  adding: kaggle/working/test_evaluation_plots_1/epoc_10_img315.png (deflated 2%)\r\n",
      "  adding: kaggle/working/test_evaluation_plots_1/epoc_10_img563.png (deflated 2%)\r\n",
      "  adding: kaggle/working/test_evaluation_plots_1/epoc_10_img161.png (deflated 2%)\r\n",
      "  adding: kaggle/working/test_evaluation_plots_1/epoc_10_img445.png (deflated 2%)\r\n",
      "  adding: kaggle/working/test_evaluation_plots_1/epoc_10_img327.png (deflated 2%)\r\n",
      "  adding: kaggle/working/test_evaluation_plots_1/epoc_10_img459.png (deflated 2%)\r\n",
      "  adding: kaggle/working/test_evaluation_plots_1/epoc_10_img627.png (deflated 2%)\r\n",
      "  adding: kaggle/working/test_evaluation_plots_1/epoc_10_img393.png (deflated 2%)\r\n",
      "  adding: kaggle/working/test_evaluation_plots_1/epoc_10_img533.png (deflated 2%)\r\n",
      "  adding: kaggle/working/test_evaluation_plots_1/epoc_10_img397.png (deflated 2%)\r\n",
      "  adding: kaggle/working/test_evaluation_plots_1/epoc_10_img501.png (deflated 2%)\r\n",
      "  adding: kaggle/working/test_evaluation_plots_1/epoc_10_img379.png (deflated 2%)\r\n",
      "  adding: kaggle/working/test_evaluation_plots_1/epoc_10_img37.png (deflated 2%)\r\n",
      "  adding: kaggle/working/test_evaluation_plots_1/epoc_10_img631.png (deflated 2%)\r\n",
      "  adding: kaggle/working/test_evaluation_plots_1/epoc_10_img587.png (deflated 2%)\r\n",
      "  adding: kaggle/working/test_evaluation_plots_1/epoc_10_img291.png (deflated 2%)\r\n",
      "  adding: kaggle/working/test_evaluation_plots_1/epoc_10_img511.png (deflated 2%)\r\n",
      "  adding: kaggle/working/test_evaluation_plots_1/epoc_10_img43.png (deflated 2%)\r\n",
      "  adding: kaggle/working/test_evaluation_plots_1/epoc_10_img645.png (deflated 2%)\r\n",
      "  adding: kaggle/working/test_evaluation_plots_1/epoc_10_img469.png (deflated 2%)\r\n",
      "  adding: kaggle/working/test_evaluation_plots_1/epoc_10_img461.png (deflated 2%)\r\n",
      "  adding: kaggle/working/test_evaluation_plots_1/epoc_10_img449.png (deflated 2%)\r\n",
      "  adding: kaggle/working/test_evaluation_plots_1/epoc_10_img619.png (deflated 2%)\r\n",
      "  adding: kaggle/working/test_evaluation_plots_1/epoc_10_img509.png (deflated 2%)\r\n",
      "  adding: kaggle/working/test_evaluation_plots_1/epoc_10_img555.png (deflated 2%)\r\n",
      "  adding: kaggle/working/test_evaluation_plots_1/epoc_10_img345.png (deflated 2%)\r\n",
      "  adding: kaggle/working/test_evaluation_plots_1/epoc_10_img49.png (deflated 2%)\r\n",
      "  adding: kaggle/working/test_evaluation_plots_1/epoc_10_img609.png (deflated 2%)\r\n",
      "  adding: kaggle/working/test_evaluation_plots_1/epoc_10_img51.png (deflated 2%)\r\n",
      "  adding: kaggle/working/test_evaluation_plots_1/epoc_10_img507.png (deflated 2%)\r\n",
      "  adding: kaggle/working/test_evaluation_plots_1/epoc_10_img143.png (deflated 2%)\r\n",
      "  adding: kaggle/working/test_evaluation_plots_1/epoc_10_img35.png (deflated 2%)\r\n",
      "  adding: kaggle/working/test_evaluation_plots_1/epoc_10_img231.png (deflated 2%)\r\n",
      "  adding: kaggle/working/test_evaluation_plots_1/epoc_10_img389.png (deflated 2%)\r\n",
      "  adding: kaggle/working/test_evaluation_plots_1/epoc_10_img419.png (deflated 2%)\r\n",
      "  adding: kaggle/working/test_evaluation_plots_1/epoc_10_img133.png (deflated 2%)\r\n",
      "  adding: kaggle/working/test_evaluation_plots_1/epoc_10_img293.png (deflated 2%)\r\n",
      "  adding: kaggle/working/test_evaluation_plots_1/epoc_10_img249.png (deflated 2%)\r\n",
      "  adding: kaggle/working/test_evaluation_plots_1/epoc_10_img87.png (deflated 2%)\r\n",
      "  adding: kaggle/working/test_evaluation_plots_1/epoc_10_img73.png (deflated 2%)\r\n",
      "  adding: kaggle/working/test_evaluation_plots_1/epoc_10_img667.png (deflated 2%)\r\n",
      "  adding: kaggle/working/test_evaluation_plots_1/epoc_10_img81.png (deflated 2%)\r\n",
      "  adding: kaggle/working/test_evaluation_plots_1/epoc_10_img435.png (deflated 2%)\r\n",
      "  adding: kaggle/working/test_evaluation_plots_1/epoc_10_img661.png (deflated 2%)\r\n"
     ]
    }
   ],
   "source": [
    "for img_i in range(1,len(test_dataset)//2, 2):\n",
    "    save_some_examples(gen_model, test_dataset, NUM_EPOCHS, folder=\"test_evaluation_plots_1\",cm_input=INPUT_CHANGE_MAP, img_indx=img_i)\n",
    "!zip -r /kaggle/working/test_evalplot1.zip  /kaggle/working/test_evaluation_plots_1/"
   ]
  },
  {
   "cell_type": "code",
   "execution_count": 23,
   "id": "d145b421",
   "metadata": {
    "execution": {
     "iopub.execute_input": "2023-04-29T23:22:48.196531Z",
     "iopub.status.busy": "2023-04-29T23:22:48.196129Z",
     "iopub.status.idle": "2023-04-29T23:25:46.123054Z",
     "shell.execute_reply": "2023-04-29T23:25:46.121859Z"
    },
    "papermill": {
     "duration": 178.352367,
     "end_time": "2023-04-29T23:25:46.125718",
     "exception": false,
     "start_time": "2023-04-29T23:22:47.773351",
     "status": "completed"
    },
    "tags": []
   },
   "outputs": [
    {
     "name": "stdout",
     "output_type": "stream",
     "text": [
      "  adding: kaggle/working/test_evaluation_plots_2/ (stored 0%)\r\n",
      "  adding: kaggle/working/test_evaluation_plots_2/epoc_10_img1352.png (deflated 2%)\r\n",
      "  adding: kaggle/working/test_evaluation_plots_2/epoc_10_img1242.png (deflated 2%)\r\n",
      "  adding: kaggle/working/test_evaluation_plots_2/epoc_10_img850.png (deflated 2%)\r\n",
      "  adding: kaggle/working/test_evaluation_plots_2/epoc_10_img678.png (deflated 2%)\r\n",
      "  adding: kaggle/working/test_evaluation_plots_2/epoc_10_img786.png (deflated 2%)\r\n",
      "  adding: kaggle/working/test_evaluation_plots_2/epoc_10_img1056.png (deflated 2%)\r\n",
      "  adding: kaggle/working/test_evaluation_plots_2/epoc_10_img1180.png (deflated 2%)\r\n",
      "  adding: kaggle/working/test_evaluation_plots_2/epoc_10_img1222.png (deflated 2%)\r\n",
      "  adding: kaggle/working/test_evaluation_plots_2/epoc_10_img1168.png (deflated 2%)\r\n",
      "  adding: kaggle/working/test_evaluation_plots_2/epoc_10_img1114.png (deflated 2%)\r\n",
      "  adding: kaggle/working/test_evaluation_plots_2/epoc_10_img876.png (deflated 2%)\r\n",
      "  adding: kaggle/working/test_evaluation_plots_2/epoc_10_img704.png (deflated 2%)\r\n",
      "  adding: kaggle/working/test_evaluation_plots_2/epoc_10_img1294.png (deflated 2%)\r\n",
      "  adding: kaggle/working/test_evaluation_plots_2/epoc_10_img1190.png (deflated 2%)\r\n",
      "  adding: kaggle/working/test_evaluation_plots_2/epoc_10_img1102.png (deflated 2%)\r\n",
      "  adding: kaggle/working/test_evaluation_plots_2/epoc_10_img962.png (deflated 2%)\r\n",
      "  adding: kaggle/working/test_evaluation_plots_2/epoc_10_img1140.png (deflated 2%)\r\n",
      "  adding: kaggle/working/test_evaluation_plots_2/epoc_10_img686.png (deflated 2%)\r\n",
      "  adding: kaggle/working/test_evaluation_plots_2/epoc_10_img1316.png (deflated 2%)\r\n",
      "  adding: kaggle/working/test_evaluation_plots_2/epoc_10_img720.png (deflated 2%)\r\n",
      "  adding: kaggle/working/test_evaluation_plots_2/epoc_10_img904.png (deflated 2%)\r\n",
      "  adding: kaggle/working/test_evaluation_plots_2/epoc_10_img1198.png (deflated 2%)\r\n",
      "  adding: kaggle/working/test_evaluation_plots_2/epoc_10_img1060.png (deflated 2%)\r\n",
      "  adding: kaggle/working/test_evaluation_plots_2/epoc_10_img1150.png (deflated 2%)\r\n",
      "  adding: kaggle/working/test_evaluation_plots_2/epoc_10_img1192.png (deflated 2%)\r\n",
      "  adding: kaggle/working/test_evaluation_plots_2/epoc_10_img1142.png (deflated 2%)\r\n",
      "  adding: kaggle/working/test_evaluation_plots_2/epoc_10_img874.png (deflated 2%)\r\n",
      "  adding: kaggle/working/test_evaluation_plots_2/epoc_10_img1202.png (deflated 2%)\r\n",
      "  adding: kaggle/working/test_evaluation_plots_2/epoc_10_img1214.png (deflated 2%)\r\n",
      "  adding: kaggle/working/test_evaluation_plots_2/epoc_10_img716.png (deflated 2%)\r\n",
      "  adding: kaggle/working/test_evaluation_plots_2/epoc_10_img756.png (deflated 3%)\r\n",
      "  adding: kaggle/working/test_evaluation_plots_2/epoc_10_img732.png (deflated 2%)\r\n",
      "  adding: kaggle/working/test_evaluation_plots_2/epoc_10_img980.png (deflated 2%)\r\n",
      "  adding: kaggle/working/test_evaluation_plots_2/epoc_10_img1070.png (deflated 2%)\r\n",
      "  adding: kaggle/working/test_evaluation_plots_2/epoc_10_img934.png (deflated 2%)\r\n",
      "  adding: kaggle/working/test_evaluation_plots_2/epoc_10_img1238.png (deflated 2%)\r\n",
      "  adding: kaggle/working/test_evaluation_plots_2/epoc_10_img1128.png (deflated 2%)\r\n",
      "  adding: kaggle/working/test_evaluation_plots_2/epoc_10_img1304.png (deflated 2%)\r\n",
      "  adding: kaggle/working/test_evaluation_plots_2/epoc_10_img1170.png (deflated 2%)\r\n",
      "  adding: kaggle/working/test_evaluation_plots_2/epoc_10_img788.png (deflated 2%)\r\n",
      "  adding: kaggle/working/test_evaluation_plots_2/epoc_10_img852.png (deflated 2%)\r\n",
      "  adding: kaggle/working/test_evaluation_plots_2/epoc_10_img1258.png (deflated 2%)\r\n",
      "  adding: kaggle/working/test_evaluation_plots_2/epoc_10_img1018.png (deflated 2%)\r\n",
      "  adding: kaggle/working/test_evaluation_plots_2/epoc_10_img1204.png (deflated 2%)\r\n",
      "  adding: kaggle/working/test_evaluation_plots_2/epoc_10_img1278.png (deflated 2%)\r\n",
      "  adding: kaggle/working/test_evaluation_plots_2/epoc_10_img992.png (deflated 2%)\r\n",
      "  adding: kaggle/working/test_evaluation_plots_2/epoc_10_img1002.png (deflated 2%)\r\n",
      "  adding: kaggle/working/test_evaluation_plots_2/epoc_10_img1116.png (deflated 2%)\r\n",
      "  adding: kaggle/working/test_evaluation_plots_2/epoc_10_img726.png (deflated 2%)\r\n",
      "  adding: kaggle/working/test_evaluation_plots_2/epoc_10_img744.png (deflated 2%)\r\n",
      "  adding: kaggle/working/test_evaluation_plots_2/epoc_10_img764.png (deflated 2%)\r\n",
      "  adding: kaggle/working/test_evaluation_plots_2/epoc_10_img738.png (deflated 2%)\r\n",
      "  adding: kaggle/working/test_evaluation_plots_2/epoc_10_img940.png (deflated 2%)\r\n",
      "  adding: kaggle/working/test_evaluation_plots_2/epoc_10_img1234.png (deflated 2%)\r\n",
      "  adding: kaggle/working/test_evaluation_plots_2/epoc_10_img884.png (deflated 2%)\r\n",
      "  adding: kaggle/working/test_evaluation_plots_2/epoc_10_img990.png (deflated 2%)\r\n",
      "  adding: kaggle/working/test_evaluation_plots_2/epoc_10_img958.png (deflated 2%)\r\n",
      "  adding: kaggle/working/test_evaluation_plots_2/epoc_10_img1250.png (deflated 2%)\r\n",
      "  adding: kaggle/working/test_evaluation_plots_2/epoc_10_img708.png (deflated 2%)\r\n",
      "  adding: kaggle/working/test_evaluation_plots_2/epoc_10_img1236.png (deflated 2%)\r\n",
      "  adding: kaggle/working/test_evaluation_plots_2/epoc_10_img834.png (deflated 2%)\r\n",
      "  adding: kaggle/working/test_evaluation_plots_2/epoc_10_img810.png (deflated 2%)\r\n",
      "  adding: kaggle/working/test_evaluation_plots_2/epoc_10_img1350.png (deflated 2%)\r\n",
      "  adding: kaggle/working/test_evaluation_plots_2/epoc_10_img1058.png (deflated 2%)\r\n",
      "  adding: kaggle/working/test_evaluation_plots_2/epoc_10_img1260.png (deflated 2%)\r\n",
      "  adding: kaggle/working/test_evaluation_plots_2/epoc_10_img1138.png (deflated 2%)\r\n",
      "  adding: kaggle/working/test_evaluation_plots_2/epoc_10_img882.png (deflated 2%)\r\n",
      "  adding: kaggle/working/test_evaluation_plots_2/epoc_10_img828.png (deflated 2%)\r\n",
      "  adding: kaggle/working/test_evaluation_plots_2/epoc_10_img1044.png (deflated 2%)\r\n",
      "  adding: kaggle/working/test_evaluation_plots_2/epoc_10_img1276.png (deflated 2%)\r\n",
      "  adding: kaggle/working/test_evaluation_plots_2/epoc_10_img838.png (deflated 2%)\r\n",
      "  adding: kaggle/working/test_evaluation_plots_2/epoc_10_img926.png (deflated 2%)\r\n",
      "  adding: kaggle/working/test_evaluation_plots_2/epoc_10_img1240.png (deflated 2%)\r\n",
      "  adding: kaggle/working/test_evaluation_plots_2/epoc_10_img822.png (deflated 2%)\r\n",
      "  adding: kaggle/working/test_evaluation_plots_2/epoc_10_img1264.png (deflated 2%)\r\n",
      "  adding: kaggle/working/test_evaluation_plots_2/epoc_10_img994.png (deflated 2%)\r\n",
      "  adding: kaggle/working/test_evaluation_plots_2/epoc_10_img948.png (deflated 2%)\r\n",
      "  adding: kaggle/working/test_evaluation_plots_2/epoc_10_img1034.png (deflated 2%)\r\n",
      "  adding: kaggle/working/test_evaluation_plots_2/epoc_10_img898.png (deflated 2%)\r\n",
      "  adding: kaggle/working/test_evaluation_plots_2/epoc_10_img1016.png (deflated 2%)\r\n",
      "  adding: kaggle/working/test_evaluation_plots_2/epoc_10_img1272.png (deflated 2%)\r\n",
      "  adding: kaggle/working/test_evaluation_plots_2/epoc_10_img1100.png (deflated 2%)\r\n",
      "  adding: kaggle/working/test_evaluation_plots_2/epoc_10_img1130.png (deflated 2%)\r\n",
      "  adding: kaggle/working/test_evaluation_plots_2/epoc_10_img694.png (deflated 2%)\r\n",
      "  adding: kaggle/working/test_evaluation_plots_2/epoc_10_img800.png (deflated 2%)\r\n",
      "  adding: kaggle/working/test_evaluation_plots_2/epoc_10_img954.png (deflated 2%)\r\n",
      "  adding: kaggle/working/test_evaluation_plots_2/epoc_10_img840.png (deflated 2%)\r\n",
      "  adding: kaggle/working/test_evaluation_plots_2/epoc_10_img1186.png (deflated 2%)\r\n",
      "  adding: kaggle/working/test_evaluation_plots_2/epoc_10_img698.png (deflated 2%)\r\n",
      "  adding: kaggle/working/test_evaluation_plots_2/epoc_10_img950.png (deflated 2%)\r\n",
      "  adding: kaggle/working/test_evaluation_plots_2/epoc_10_img982.png (deflated 2%)\r\n",
      "  adding: kaggle/working/test_evaluation_plots_2/epoc_10_img946.png (deflated 2%)\r\n",
      "  adding: kaggle/working/test_evaluation_plots_2/epoc_10_img1312.png (deflated 2%)\r\n",
      "  adding: kaggle/working/test_evaluation_plots_2/epoc_10_img774.png (deflated 2%)\r\n",
      "  adding: kaggle/working/test_evaluation_plots_2/epoc_10_img1196.png (deflated 2%)\r\n",
      "  adding: kaggle/working/test_evaluation_plots_2/epoc_10_img1166.png (deflated 2%)\r\n",
      "  adding: kaggle/working/test_evaluation_plots_2/epoc_10_img1262.png (deflated 2%)\r\n",
      "  adding: kaggle/working/test_evaluation_plots_2/epoc_10_img1062.png (deflated 2%)\r\n",
      "  adding: kaggle/working/test_evaluation_plots_2/epoc_10_img714.png (deflated 2%)\r\n",
      "  adding: kaggle/working/test_evaluation_plots_2/epoc_10_img790.png (deflated 2%)\r\n",
      "  adding: kaggle/working/test_evaluation_plots_2/epoc_10_img1046.png (deflated 2%)\r\n",
      "  adding: kaggle/working/test_evaluation_plots_2/epoc_10_img1004.png (deflated 2%)\r\n",
      "  adding: kaggle/working/test_evaluation_plots_2/epoc_10_img1308.png (deflated 2%)\r\n",
      "  adding: kaggle/working/test_evaluation_plots_2/epoc_10_img1282.png (deflated 2%)\r\n",
      "  adding: kaggle/working/test_evaluation_plots_2/epoc_10_img1184.png (deflated 2%)\r\n",
      "  adding: kaggle/working/test_evaluation_plots_2/epoc_10_img1268.png (deflated 2%)\r\n",
      "  adding: kaggle/working/test_evaluation_plots_2/epoc_10_img1248.png (deflated 2%)\r\n",
      "  adding: kaggle/working/test_evaluation_plots_2/epoc_10_img1178.png (deflated 2%)\r\n",
      "  adding: kaggle/working/test_evaluation_plots_2/epoc_10_img1288.png (deflated 2%)\r\n",
      "  adding: kaggle/working/test_evaluation_plots_2/epoc_10_img734.png (deflated 2%)\r\n",
      "  adding: kaggle/working/test_evaluation_plots_2/epoc_10_img742.png (deflated 2%)\r\n",
      "  adding: kaggle/working/test_evaluation_plots_2/epoc_10_img1160.png (deflated 2%)\r\n",
      "  adding: kaggle/working/test_evaluation_plots_2/epoc_10_img842.png (deflated 2%)\r\n",
      "  adding: kaggle/working/test_evaluation_plots_2/epoc_10_img1052.png (deflated 2%)\r\n",
      "  adding: kaggle/working/test_evaluation_plots_2/epoc_10_img746.png (deflated 2%)\r\n",
      "  adding: kaggle/working/test_evaluation_plots_2/epoc_10_img978.png (deflated 2%)\r\n",
      "  adding: kaggle/working/test_evaluation_plots_2/epoc_10_img1292.png (deflated 2%)\r\n",
      "  adding: kaggle/working/test_evaluation_plots_2/epoc_10_img700.png (deflated 2%)\r\n",
      "  adding: kaggle/working/test_evaluation_plots_2/epoc_10_img706.png (deflated 2%)\r\n",
      "  adding: kaggle/working/test_evaluation_plots_2/epoc_10_img966.png (deflated 2%)\r\n",
      "  adding: kaggle/working/test_evaluation_plots_2/epoc_10_img1006.png (deflated 2%)\r\n",
      "  adding: kaggle/working/test_evaluation_plots_2/epoc_10_img1040.png (deflated 2%)\r\n",
      "  adding: kaggle/working/test_evaluation_plots_2/epoc_10_img902.png (deflated 2%)\r\n",
      "  adding: kaggle/working/test_evaluation_plots_2/epoc_10_img1200.png (deflated 2%)\r\n",
      "  adding: kaggle/working/test_evaluation_plots_2/epoc_10_img912.png (deflated 2%)\r\n",
      "  adding: kaggle/working/test_evaluation_plots_2/epoc_10_img996.png (deflated 2%)\r\n",
      "  adding: kaggle/working/test_evaluation_plots_2/epoc_10_img936.png (deflated 2%)\r\n",
      "  adding: kaggle/working/test_evaluation_plots_2/epoc_10_img1212.png (deflated 2%)\r\n",
      "  adding: kaggle/working/test_evaluation_plots_2/epoc_10_img846.png (deflated 2%)\r\n",
      "  adding: kaggle/working/test_evaluation_plots_2/epoc_10_img690.png (deflated 2%)\r\n",
      "  adding: kaggle/working/test_evaluation_plots_2/epoc_10_img1322.png (deflated 2%)\r\n",
      "  adding: kaggle/working/test_evaluation_plots_2/epoc_10_img1290.png (deflated 2%)\r\n",
      "  adding: kaggle/working/test_evaluation_plots_2/epoc_10_img1032.png (deflated 2%)\r\n",
      "  adding: kaggle/working/test_evaluation_plots_2/epoc_10_img972.png (deflated 2%)\r\n",
      "  adding: kaggle/working/test_evaluation_plots_2/epoc_10_img1012.png (deflated 2%)\r\n",
      "  adding: kaggle/working/test_evaluation_plots_2/epoc_10_img760.png (deflated 2%)\r\n",
      "  adding: kaggle/working/test_evaluation_plots_2/epoc_10_img910.png (deflated 2%)\r\n",
      "  adding: kaggle/working/test_evaluation_plots_2/epoc_10_img1104.png (deflated 2%)\r\n",
      "  adding: kaggle/working/test_evaluation_plots_2/epoc_10_img1030.png (deflated 2%)\r\n",
      "  adding: kaggle/working/test_evaluation_plots_2/epoc_10_img806.png (deflated 2%)\r\n",
      "  adding: kaggle/working/test_evaluation_plots_2/epoc_10_img808.png (deflated 2%)\r\n",
      "  adding: kaggle/working/test_evaluation_plots_2/epoc_10_img864.png (deflated 2%)\r\n",
      "  adding: kaggle/working/test_evaluation_plots_2/epoc_10_img792.png (deflated 2%)\r\n",
      "  adding: kaggle/working/test_evaluation_plots_2/epoc_10_img886.png (deflated 2%)\r\n",
      "  adding: kaggle/working/test_evaluation_plots_2/epoc_10_img1320.png (deflated 2%)\r\n",
      "  adding: kaggle/working/test_evaluation_plots_2/epoc_10_img968.png (deflated 2%)\r\n",
      "  adding: kaggle/working/test_evaluation_plots_2/epoc_10_img960.png (deflated 2%)\r\n",
      "  adding: kaggle/working/test_evaluation_plots_2/epoc_10_img1300.png (deflated 2%)\r\n",
      "  adding: kaggle/working/test_evaluation_plots_2/epoc_10_img1284.png (deflated 2%)\r\n",
      "  adding: kaggle/working/test_evaluation_plots_2/epoc_10_img868.png (deflated 2%)\r\n",
      "  adding: kaggle/working/test_evaluation_plots_2/epoc_10_img680.png (deflated 2%)\r\n",
      "  adding: kaggle/working/test_evaluation_plots_2/epoc_10_img740.png (deflated 2%)\r\n",
      "  adding: kaggle/working/test_evaluation_plots_2/epoc_10_img1054.png (deflated 2%)\r\n",
      "  adding: kaggle/working/test_evaluation_plots_2/epoc_10_img730.png (deflated 2%)\r\n",
      "  adding: kaggle/working/test_evaluation_plots_2/epoc_10_img892.png (deflated 2%)\r\n",
      "  adding: kaggle/working/test_evaluation_plots_2/epoc_10_img930.png (deflated 2%)\r\n",
      "  adding: kaggle/working/test_evaluation_plots_2/epoc_10_img702.png (deflated 2%)\r\n",
      "  adding: kaggle/working/test_evaluation_plots_2/epoc_10_img920.png (deflated 2%)\r\n",
      "  adding: kaggle/working/test_evaluation_plots_2/epoc_10_img754.png (deflated 2%)\r\n",
      "  adding: kaggle/working/test_evaluation_plots_2/epoc_10_img762.png (deflated 2%)\r\n",
      "  adding: kaggle/working/test_evaluation_plots_2/epoc_10_img776.png (deflated 3%)\r\n",
      "  adding: kaggle/working/test_evaluation_plots_2/epoc_10_img942.png (deflated 2%)\r\n",
      "  adding: kaggle/working/test_evaluation_plots_2/epoc_10_img1120.png (deflated 2%)\r\n",
      "  adding: kaggle/working/test_evaluation_plots_2/epoc_10_img1010.png (deflated 2%)\r\n",
      "  adding: kaggle/working/test_evaluation_plots_2/epoc_10_img984.png (deflated 2%)\r\n",
      "  adding: kaggle/working/test_evaluation_plots_2/epoc_10_img1176.png (deflated 2%)\r\n",
      "  adding: kaggle/working/test_evaluation_plots_2/epoc_10_img1132.png (deflated 2%)\r\n",
      "  adding: kaggle/working/test_evaluation_plots_2/epoc_10_img1218.png (deflated 2%)\r\n",
      "  adding: kaggle/working/test_evaluation_plots_2/epoc_10_img718.png (deflated 2%)\r\n",
      "  adding: kaggle/working/test_evaluation_plots_2/epoc_10_img1326.png (deflated 2%)\r\n",
      "  adding: kaggle/working/test_evaluation_plots_2/epoc_10_img1318.png (deflated 2%)\r\n",
      "  adding: kaggle/working/test_evaluation_plots_2/epoc_10_img1098.png (deflated 2%)\r\n",
      "  adding: kaggle/working/test_evaluation_plots_2/epoc_10_img1118.png (deflated 2%)\r\n",
      "  adding: kaggle/working/test_evaluation_plots_2/epoc_10_img1336.png (deflated 2%)\r\n",
      "  adding: kaggle/working/test_evaluation_plots_2/epoc_10_img1324.png (deflated 2%)\r\n",
      "  adding: kaggle/working/test_evaluation_plots_2/epoc_10_img1048.png (deflated 2%)\r\n",
      "  adding: kaggle/working/test_evaluation_plots_2/epoc_10_img692.png (deflated 2%)\r\n",
      "  adding: kaggle/working/test_evaluation_plots_2/epoc_10_img816.png (deflated 2%)\r\n",
      "  adding: kaggle/working/test_evaluation_plots_2/epoc_10_img684.png (deflated 2%)\r\n",
      "  adding: kaggle/working/test_evaluation_plots_2/epoc_10_img906.png (deflated 2%)\r\n",
      "  adding: kaggle/working/test_evaluation_plots_2/epoc_10_img688.png (deflated 2%)\r\n",
      "  adding: kaggle/working/test_evaluation_plots_2/epoc_10_img1252.png (deflated 2%)\r\n",
      "  adding: kaggle/working/test_evaluation_plots_2/epoc_10_img1328.png (deflated 2%)\r\n",
      "  adding: kaggle/working/test_evaluation_plots_2/epoc_10_img1270.png (deflated 2%)\r\n",
      "  adding: kaggle/working/test_evaluation_plots_2/epoc_10_img778.png (deflated 2%)\r\n",
      "  adding: kaggle/working/test_evaluation_plots_2/epoc_10_img1152.png (deflated 2%)\r\n",
      "  adding: kaggle/working/test_evaluation_plots_2/epoc_10_img888.png (deflated 2%)\r\n",
      "  adding: kaggle/working/test_evaluation_plots_2/epoc_10_img1172.png (deflated 2%)\r\n",
      "  adding: kaggle/working/test_evaluation_plots_2/epoc_10_img908.png (deflated 2%)\r\n",
      "  adding: kaggle/working/test_evaluation_plots_2/epoc_10_img1208.png (deflated 2%)\r\n",
      "  adding: kaggle/working/test_evaluation_plots_2/epoc_10_img1000.png (deflated 2%)\r\n",
      "  adding: kaggle/working/test_evaluation_plots_2/epoc_10_img1348.png (deflated 2%)\r\n",
      "  adding: kaggle/working/test_evaluation_plots_2/epoc_10_img750.png (deflated 2%)\r\n",
      "  adding: kaggle/working/test_evaluation_plots_2/epoc_10_img1136.png (deflated 2%)\r\n",
      "  adding: kaggle/working/test_evaluation_plots_2/epoc_10_img944.png (deflated 2%)\r\n",
      "  adding: kaggle/working/test_evaluation_plots_2/epoc_10_img1106.png (deflated 2%)\r\n",
      "  adding: kaggle/working/test_evaluation_plots_2/epoc_10_img1078.png (deflated 2%)\r\n",
      "  adding: kaggle/working/test_evaluation_plots_2/epoc_10_img1246.png (deflated 2%)\r\n",
      "  adding: kaggle/working/test_evaluation_plots_2/epoc_10_img724.png (deflated 2%)\r\n",
      "  adding: kaggle/working/test_evaluation_plots_2/epoc_10_img1274.png (deflated 2%)\r\n",
      "  adding: kaggle/working/test_evaluation_plots_2/epoc_10_img1126.png (deflated 2%)\r\n",
      "  adding: kaggle/working/test_evaluation_plots_2/epoc_10_img866.png (deflated 2%)\r\n",
      "  adding: kaggle/working/test_evaluation_plots_2/epoc_10_img1028.png (deflated 2%)\r\n",
      "  adding: kaggle/working/test_evaluation_plots_2/epoc_10_img784.png (deflated 2%)\r\n",
      "  adding: kaggle/working/test_evaluation_plots_2/epoc_10_img1148.png (deflated 2%)\r\n",
      "  adding: kaggle/working/test_evaluation_plots_2/epoc_10_img870.png (deflated 2%)\r\n",
      "  adding: kaggle/working/test_evaluation_plots_2/epoc_10_img1086.png (deflated 2%)\r\n",
      "  adding: kaggle/working/test_evaluation_plots_2/epoc_10_img1314.png (deflated 2%)\r\n",
      "  adding: kaggle/working/test_evaluation_plots_2/epoc_10_img826.png (deflated 2%)\r\n",
      "  adding: kaggle/working/test_evaluation_plots_2/epoc_10_img1256.png (deflated 2%)\r\n",
      "  adding: kaggle/working/test_evaluation_plots_2/epoc_10_img878.png (deflated 2%)\r\n",
      "  adding: kaggle/working/test_evaluation_plots_2/epoc_10_img918.png (deflated 2%)\r\n",
      "  adding: kaggle/working/test_evaluation_plots_2/epoc_10_img1084.png (deflated 2%)\r\n",
      "  adding: kaggle/working/test_evaluation_plots_2/epoc_10_img758.png (deflated 2%)\r\n",
      "  adding: kaggle/working/test_evaluation_plots_2/epoc_10_img1162.png (deflated 2%)\r\n",
      "  adding: kaggle/working/test_evaluation_plots_2/epoc_10_img1020.png (deflated 2%)\r\n",
      "  adding: kaggle/working/test_evaluation_plots_2/epoc_10_img736.png (deflated 2%)\r\n",
      "  adding: kaggle/working/test_evaluation_plots_2/epoc_10_img1110.png (deflated 2%)\r\n",
      "  adding: kaggle/working/test_evaluation_plots_2/epoc_10_img880.png (deflated 2%)\r\n",
      "  adding: kaggle/working/test_evaluation_plots_2/epoc_10_img1022.png (deflated 2%)\r\n",
      "  adding: kaggle/working/test_evaluation_plots_2/epoc_10_img914.png (deflated 2%)\r\n",
      "  adding: kaggle/working/test_evaluation_plots_2/epoc_10_img1156.png (deflated 2%)\r\n",
      "  adding: kaggle/working/test_evaluation_plots_2/epoc_10_img1216.png (deflated 2%)\r\n",
      "  adding: kaggle/working/test_evaluation_plots_2/epoc_10_img1280.png (deflated 2%)\r\n",
      "  adding: kaggle/working/test_evaluation_plots_2/epoc_10_img1298.png (deflated 2%)\r\n",
      "  adding: kaggle/working/test_evaluation_plots_2/epoc_10_img1076.png (deflated 2%)\r\n",
      "  adding: kaggle/working/test_evaluation_plots_2/epoc_10_img1038.png (deflated 2%)\r\n",
      "  adding: kaggle/working/test_evaluation_plots_2/epoc_10_img804.png (deflated 2%)\r\n",
      "  adding: kaggle/working/test_evaluation_plots_2/epoc_10_img832.png (deflated 2%)\r\n",
      "  adding: kaggle/working/test_evaluation_plots_2/epoc_10_img916.png (deflated 2%)\r\n",
      "  adding: kaggle/working/test_evaluation_plots_2/epoc_10_img770.png (deflated 2%)\r\n",
      "  adding: kaggle/working/test_evaluation_plots_2/epoc_10_img802.png (deflated 2%)\r\n",
      "  adding: kaggle/working/test_evaluation_plots_2/epoc_10_img1210.png (deflated 2%)\r\n",
      "  adding: kaggle/working/test_evaluation_plots_2/epoc_10_img766.png (deflated 2%)\r\n",
      "  adding: kaggle/working/test_evaluation_plots_2/epoc_10_img1206.png (deflated 2%)\r\n",
      "  adding: kaggle/working/test_evaluation_plots_2/epoc_10_img1220.png (deflated 2%)\r\n",
      "  adding: kaggle/working/test_evaluation_plots_2/epoc_10_img1338.png (deflated 2%)\r\n",
      "  adding: kaggle/working/test_evaluation_plots_2/epoc_10_img1024.png (deflated 2%)\r\n",
      "  adding: kaggle/working/test_evaluation_plots_2/epoc_10_img1230.png (deflated 2%)\r\n",
      "  adding: kaggle/working/test_evaluation_plots_2/epoc_10_img1164.png (deflated 2%)\r\n",
      "  adding: kaggle/working/test_evaluation_plots_2/epoc_10_img722.png (deflated 2%)\r\n",
      "  adding: kaggle/working/test_evaluation_plots_2/epoc_10_img872.png (deflated 2%)\r\n",
      "  adding: kaggle/working/test_evaluation_plots_2/epoc_10_img844.png (deflated 2%)\r\n",
      "  adding: kaggle/working/test_evaluation_plots_2/epoc_10_img814.png (deflated 2%)\r\n",
      "  adding: kaggle/working/test_evaluation_plots_2/epoc_10_img928.png (deflated 2%)\r\n",
      "  adding: kaggle/working/test_evaluation_plots_2/epoc_10_img860.png (deflated 2%)\r\n",
      "  adding: kaggle/working/test_evaluation_plots_2/epoc_10_img932.png (deflated 2%)\r\n",
      "  adding: kaggle/working/test_evaluation_plots_2/epoc_10_img938.png (deflated 2%)\r\n",
      "  adding: kaggle/working/test_evaluation_plots_2/epoc_10_img1342.png (deflated 2%)\r\n",
      "  adding: kaggle/working/test_evaluation_plots_2/epoc_10_img768.png (deflated 2%)\r\n",
      "  adding: kaggle/working/test_evaluation_plots_2/epoc_10_img812.png (deflated 2%)\r\n",
      "  adding: kaggle/working/test_evaluation_plots_2/epoc_10_img1080.png (deflated 2%)\r\n",
      "  adding: kaggle/working/test_evaluation_plots_2/epoc_10_img1042.png (deflated 2%)\r\n",
      "  adding: kaggle/working/test_evaluation_plots_2/epoc_10_img1026.png (deflated 2%)\r\n",
      "  adding: kaggle/working/test_evaluation_plots_2/epoc_10_img1158.png (deflated 2%)\r\n",
      "  adding: kaggle/working/test_evaluation_plots_2/epoc_10_img974.png (deflated 2%)\r\n",
      "  adding: kaggle/working/test_evaluation_plots_2/epoc_10_img858.png (deflated 2%)\r\n",
      "  adding: kaggle/working/test_evaluation_plots_2/epoc_10_img1064.png (deflated 2%)\r\n",
      "  adding: kaggle/working/test_evaluation_plots_2/epoc_10_img1072.png (deflated 2%)\r\n",
      "  adding: kaggle/working/test_evaluation_plots_2/epoc_10_img1226.png (deflated 2%)\r\n",
      "  adding: kaggle/working/test_evaluation_plots_2/epoc_10_img794.png (deflated 2%)\r\n",
      "  adding: kaggle/working/test_evaluation_plots_2/epoc_10_img836.png (deflated 2%)\r\n",
      "  adding: kaggle/working/test_evaluation_plots_2/epoc_10_img1244.png (deflated 2%)\r\n",
      "  adding: kaggle/working/test_evaluation_plots_2/epoc_10_img752.png (deflated 2%)\r\n",
      "  adding: kaggle/working/test_evaluation_plots_2/epoc_10_img922.png (deflated 2%)\r\n",
      "  adding: kaggle/working/test_evaluation_plots_2/epoc_10_img998.png (deflated 2%)\r\n",
      "  adding: kaggle/working/test_evaluation_plots_2/epoc_10_img1194.png (deflated 2%)\r\n",
      "  adding: kaggle/working/test_evaluation_plots_2/epoc_10_img856.png (deflated 2%)\r\n",
      "  adding: kaggle/working/test_evaluation_plots_2/epoc_10_img1188.png (deflated 2%)\r\n",
      "  adding: kaggle/working/test_evaluation_plots_2/epoc_10_img1146.png (deflated 2%)\r\n",
      "  adding: kaggle/working/test_evaluation_plots_2/epoc_10_img1334.png (deflated 2%)\r\n",
      "  adding: kaggle/working/test_evaluation_plots_2/epoc_10_img1332.png (deflated 2%)\r\n",
      "  adding: kaggle/working/test_evaluation_plots_2/epoc_10_img1108.png (deflated 2%)\r\n",
      "  adding: kaggle/working/test_evaluation_plots_2/epoc_10_img1066.png (deflated 2%)\r\n",
      "  adding: kaggle/working/test_evaluation_plots_2/epoc_10_img1096.png (deflated 2%)\r\n",
      "  adding: kaggle/working/test_evaluation_plots_2/epoc_10_img1228.png (deflated 2%)\r\n",
      "  adding: kaggle/working/test_evaluation_plots_2/epoc_10_img862.png (deflated 2%)\r\n",
      "  adding: kaggle/working/test_evaluation_plots_2/epoc_10_img830.png (deflated 2%)\r\n",
      "  adding: kaggle/working/test_evaluation_plots_2/epoc_10_img1036.png (deflated 2%)\r\n",
      "  adding: kaggle/working/test_evaluation_plots_2/epoc_10_img1124.png (deflated 2%)\r\n",
      "  adding: kaggle/working/test_evaluation_plots_2/epoc_10_img1074.png (deflated 2%)\r\n",
      "  adding: kaggle/working/test_evaluation_plots_2/epoc_10_img748.png (deflated 2%)\r\n",
      "  adding: kaggle/working/test_evaluation_plots_2/epoc_10_img1302.png (deflated 2%)\r\n",
      "  adding: kaggle/working/test_evaluation_plots_2/epoc_10_img1174.png (deflated 2%)\r\n",
      "  adding: kaggle/working/test_evaluation_plots_2/epoc_10_img956.png (deflated 2%)\r\n",
      "  adding: kaggle/working/test_evaluation_plots_2/epoc_10_img1346.png (deflated 2%)\r\n",
      "  adding: kaggle/working/test_evaluation_plots_2/epoc_10_img1306.png (deflated 2%)\r\n",
      "  adding: kaggle/working/test_evaluation_plots_2/epoc_10_img1330.png (deflated 2%)\r\n",
      "  adding: kaggle/working/test_evaluation_plots_2/epoc_10_img1068.png (deflated 2%)\r\n",
      "  adding: kaggle/working/test_evaluation_plots_2/epoc_10_img970.png (deflated 2%)\r\n",
      "  adding: kaggle/working/test_evaluation_plots_2/epoc_10_img1144.png (deflated 2%)\r\n",
      "  adding: kaggle/working/test_evaluation_plots_2/epoc_10_img894.png (deflated 2%)\r\n",
      "  adding: kaggle/working/test_evaluation_plots_2/epoc_10_img1082.png (deflated 2%)\r\n",
      "  adding: kaggle/working/test_evaluation_plots_2/epoc_10_img854.png (deflated 2%)\r\n",
      "  adding: kaggle/working/test_evaluation_plots_2/epoc_10_img1050.png (deflated 2%)\r\n",
      "  adding: kaggle/working/test_evaluation_plots_2/epoc_10_img1286.png (deflated 2%)\r\n",
      "  adding: kaggle/working/test_evaluation_plots_2/epoc_10_img1232.png (deflated 2%)\r\n",
      "  adding: kaggle/working/test_evaluation_plots_2/epoc_10_img710.png (deflated 2%)\r\n",
      "  adding: kaggle/working/test_evaluation_plots_2/epoc_10_img976.png (deflated 2%)\r\n",
      "  adding: kaggle/working/test_evaluation_plots_2/epoc_10_img820.png (deflated 2%)\r\n",
      "  adding: kaggle/working/test_evaluation_plots_2/epoc_10_img1112.png (deflated 2%)\r\n",
      "  adding: kaggle/working/test_evaluation_plots_2/epoc_10_img964.png (deflated 2%)\r\n",
      "  adding: kaggle/working/test_evaluation_plots_2/epoc_10_img782.png (deflated 2%)\r\n",
      "  adding: kaggle/working/test_evaluation_plots_2/epoc_10_img818.png (deflated 2%)\r\n",
      "  adding: kaggle/working/test_evaluation_plots_2/epoc_10_img1090.png (deflated 2%)\r\n",
      "  adding: kaggle/working/test_evaluation_plots_2/epoc_10_img780.png (deflated 2%)\r\n",
      "  adding: kaggle/working/test_evaluation_plots_2/epoc_10_img848.png (deflated 2%)\r\n",
      "  adding: kaggle/working/test_evaluation_plots_2/epoc_10_img900.png (deflated 2%)\r\n",
      "  adding: kaggle/working/test_evaluation_plots_2/epoc_10_img1088.png (deflated 2%)\r\n",
      "  adding: kaggle/working/test_evaluation_plots_2/epoc_10_img1254.png (deflated 2%)\r\n",
      "  adding: kaggle/working/test_evaluation_plots_2/epoc_10_img1266.png (deflated 2%)\r\n",
      "  adding: kaggle/working/test_evaluation_plots_2/epoc_10_img696.png (deflated 2%)\r\n",
      "  adding: kaggle/working/test_evaluation_plots_2/epoc_10_img1122.png (deflated 2%)\r\n",
      "  adding: kaggle/working/test_evaluation_plots_2/epoc_10_img796.png (deflated 2%)\r\n",
      "  adding: kaggle/working/test_evaluation_plots_2/epoc_10_img1182.png (deflated 2%)\r\n",
      "  adding: kaggle/working/test_evaluation_plots_2/epoc_10_img890.png (deflated 2%)\r\n",
      "  adding: kaggle/working/test_evaluation_plots_2/epoc_10_img1340.png (deflated 2%)\r\n",
      "  adding: kaggle/working/test_evaluation_plots_2/epoc_10_img712.png (deflated 2%)\r\n",
      "  adding: kaggle/working/test_evaluation_plots_2/epoc_10_img1344.png (deflated 2%)\r\n",
      "  adding: kaggle/working/test_evaluation_plots_2/epoc_10_img1134.png (deflated 2%)\r\n",
      "  adding: kaggle/working/test_evaluation_plots_2/epoc_10_img824.png (deflated 2%)\r\n",
      "  adding: kaggle/working/test_evaluation_plots_2/epoc_10_img896.png (deflated 2%)\r\n",
      "  adding: kaggle/working/test_evaluation_plots_2/epoc_10_img798.png (deflated 2%)\r\n",
      "  adding: kaggle/working/test_evaluation_plots_2/epoc_10_img1008.png (deflated 2%)\r\n",
      "  adding: kaggle/working/test_evaluation_plots_2/epoc_10_img1296.png (deflated 2%)\r\n",
      "  adding: kaggle/working/test_evaluation_plots_2/epoc_10_img924.png (deflated 2%)\r\n",
      "  adding: kaggle/working/test_evaluation_plots_2/epoc_10_img1310.png (deflated 2%)\r\n",
      "  adding: kaggle/working/test_evaluation_plots_2/epoc_10_img1014.png (deflated 2%)\r\n",
      "  adding: kaggle/working/test_evaluation_plots_2/epoc_10_img1154.png (deflated 2%)\r\n",
      "  adding: kaggle/working/test_evaluation_plots_2/epoc_10_img986.png (deflated 2%)\r\n",
      "  adding: kaggle/working/test_evaluation_plots_2/epoc_10_img1092.png (deflated 2%)\r\n",
      "  adding: kaggle/working/test_evaluation_plots_2/epoc_10_img772.png (deflated 2%)\r\n",
      "  adding: kaggle/working/test_evaluation_plots_2/epoc_10_img1224.png (deflated 2%)\r\n",
      "  adding: kaggle/working/test_evaluation_plots_2/epoc_10_img952.png (deflated 2%)\r\n",
      "  adding: kaggle/working/test_evaluation_plots_2/epoc_10_img1094.png (deflated 2%)\r\n",
      "  adding: kaggle/working/test_evaluation_plots_2/epoc_10_img988.png (deflated 2%)\r\n",
      "  adding: kaggle/working/test_evaluation_plots_2/epoc_10_img682.png (deflated 2%)\r\n",
      "  adding: kaggle/working/test_evaluation_plots_2/epoc_10_img728.png (deflated 2%)\r\n"
     ]
    }
   ],
   "source": [
    "for img_i in range((len(test_dataset)//2)+1,len(test_dataset), 2):\n",
    "    save_some_examples(gen_model, test_dataset, NUM_EPOCHS, folder=\"test_evaluation_plots_2\",cm_input=INPUT_CHANGE_MAP, img_indx=img_i)\n",
    "!zip -r /kaggle/working/test_evalplot2.zip  /kaggle/working/test_evaluation_plots_2/"
   ]
  },
  {
   "cell_type": "code",
   "execution_count": 24,
   "id": "900a36ef",
   "metadata": {
    "execution": {
     "iopub.execute_input": "2023-04-29T23:25:46.944236Z",
     "iopub.status.busy": "2023-04-29T23:25:46.943809Z",
     "iopub.status.idle": "2023-04-29T23:25:46.950437Z",
     "shell.execute_reply": "2023-04-29T23:25:46.949333Z"
    },
    "papermill": {
     "duration": 0.440504,
     "end_time": "2023-04-29T23:25:46.953093",
     "exception": false,
     "start_time": "2023-04-29T23:25:46.512589",
     "status": "completed"
    },
    "tags": []
   },
   "outputs": [],
   "source": [
    "# !zip -r /kaggle/working/train_evalplot.zip  /kaggle/working/train_evaluation_plots/"
   ]
  },
  {
   "cell_type": "code",
   "execution_count": 25,
   "id": "2b0df62b",
   "metadata": {
    "execution": {
     "iopub.execute_input": "2023-04-29T23:25:47.711407Z",
     "iopub.status.busy": "2023-04-29T23:25:47.711022Z",
     "iopub.status.idle": "2023-04-29T23:25:47.715785Z",
     "shell.execute_reply": "2023-04-29T23:25:47.714700Z"
    },
    "papermill": {
     "duration": 0.38756,
     "end_time": "2023-04-29T23:25:47.717965",
     "exception": false,
     "start_time": "2023-04-29T23:25:47.330405",
     "status": "completed"
    },
    "tags": []
   },
   "outputs": [],
   "source": [
    "# from IPython.display import FileLink\n",
    "# FileLink(r'/kaggle/working/evalplot.zip')"
   ]
  },
  {
   "cell_type": "code",
   "execution_count": 26,
   "id": "f3f0b8db",
   "metadata": {
    "execution": {
     "iopub.execute_input": "2023-04-29T23:25:48.524883Z",
     "iopub.status.busy": "2023-04-29T23:25:48.524174Z",
     "iopub.status.idle": "2023-04-29T23:25:48.529619Z",
     "shell.execute_reply": "2023-04-29T23:25:48.528546Z"
    },
    "papermill": {
     "duration": 0.436883,
     "end_time": "2023-04-29T23:25:48.531564",
     "exception": false,
     "start_time": "2023-04-29T23:25:48.094681",
     "status": "completed"
    },
    "tags": []
   },
   "outputs": [],
   "source": [
    "# def eval_graph_fn(gen, loader, ssim, psnr):\n",
    "#     gen.eval()\n",
    "#     loop = tqdm(loader, leave=True)\n",
    "    \n",
    "#     wssim_ratio_list = []\n",
    "#     wpsnr_ratio_list = []\n",
    "#     s1cm_mean_list   = []\n",
    "    \n",
    "#     for idx, (s2t2,s1t2,s2t1,s1t1,cm,rcm,s1cm) in enumerate(loop):\n",
    "#         s2t2,s1t2,s2t1,s1t1,cm,rcm,s1cm = s2t2.to(DEVICE),s1t2.to(DEVICE),s2t1.to(DEVICE),s1t1.to(DEVICE),cm.to(DEVICE),rcm.to(DEVICE),s1cm.to(DEVICE)\n",
    "#         s2t2,s1t2,s2t1,s1t1,cm,rcm,s1cm = s2t2.to(torch.float32),s1t2.to(torch.float32),s2t1.to(torch.float32),s1t1.to(torch.float32),cm.to(torch.float32),rcm.to(torch.float32),s1cm.to(torch.float32)\n",
    "#         if INPUT_CHANGE_MAP:\n",
    "#             s2t2 = torch.cat((s2t2, cm), dim=1)\n",
    "#             s1t1 = torch.cat((s1t1, rcm), dim=1)\n",
    "#         preds = gen(s2t2, s1t1)\n",
    "        \n",
    "#         s1t2_list = s1t2.to(\"cpu\").chunk(s1t2.size(0))\n",
    "#         preds_list = preds.to(\"cpu\").chunk(preds.size(0))\n",
    "#         s1cm_list = s1cm.to(\"cpu\").chunk(s1cm.size(0))\n",
    "        \n",
    "        \n",
    "#         wssim_ratio_batch_list = [ssim((s1t2, preds), s1cm)/ssim((s1t2, preds)) for s1t2, preds, s1cm in zip(s1t2_list, preds_list, s1cm_list)]\n",
    "#         wpsnr_ratio_batch_list = [psnr((s1t2, preds))-psnr((s1t2, preds), s1cm) for s1t2, preds, s1cm in zip(s1t2_list, preds_list, s1cm_list)]\n",
    "#         s1cm_mean_batch_list   = [s1cm.mean() for s1cm in s1cm_list]\n",
    "        \n",
    "#         wssim_ratio_list = wssim_ratio_list + wssim_ratio_batch_list\n",
    "#         wpsnr_ratio_list = wpsnr_ratio_list + wpsnr_ratio_batch_list\n",
    "#         s1cm_mean_list   = s1cm_mean_list   + s1cm_mean_batch_list  \n",
    "    \n",
    "#     return wssim_ratio_list, wpsnr_ratio_list, s1cm_mean_list"
   ]
  },
  {
   "cell_type": "code",
   "execution_count": 27,
   "id": "e852552f",
   "metadata": {
    "execution": {
     "iopub.execute_input": "2023-04-29T23:25:49.312207Z",
     "iopub.status.busy": "2023-04-29T23:25:49.311821Z",
     "iopub.status.idle": "2023-04-29T23:25:49.316275Z",
     "shell.execute_reply": "2023-04-29T23:25:49.315189Z"
    },
    "papermill": {
     "duration": 0.394297,
     "end_time": "2023-04-29T23:25:49.318475",
     "exception": false,
     "start_time": "2023-04-29T23:25:48.924178",
     "status": "completed"
    },
    "tags": []
   },
   "outputs": [],
   "source": [
    "# ssim_ratio_list, wpsnr_ratio_list, s1cm_mean_list = eval_graph_fn(gen_model, test_loader, wssim, wpsnr)"
   ]
  },
  {
   "cell_type": "code",
   "execution_count": 28,
   "id": "fdc21711",
   "metadata": {
    "execution": {
     "iopub.execute_input": "2023-04-29T23:25:50.127150Z",
     "iopub.status.busy": "2023-04-29T23:25:50.126133Z",
     "iopub.status.idle": "2023-04-29T23:25:50.131147Z",
     "shell.execute_reply": "2023-04-29T23:25:50.130155Z"
    },
    "papermill": {
     "duration": 0.438468,
     "end_time": "2023-04-29T23:25:50.133261",
     "exception": false,
     "start_time": "2023-04-29T23:25:49.694793",
     "status": "completed"
    },
    "tags": []
   },
   "outputs": [],
   "source": [
    "# plt.plot(ssim_ratio_list,s1cm_mean_list)"
   ]
  },
  {
   "cell_type": "code",
   "execution_count": null,
   "id": "f6f05740",
   "metadata": {
    "papermill": {
     "duration": 0.396407,
     "end_time": "2023-04-29T23:25:50.911383",
     "exception": false,
     "start_time": "2023-04-29T23:25:50.514976",
     "status": "completed"
    },
    "tags": []
   },
   "outputs": [],
   "source": []
  }
 ],
 "metadata": {
  "kernelspec": {
   "display_name": "Python 3",
   "language": "python",
   "name": "python3"
  },
  "language_info": {
   "codemirror_mode": {
    "name": "ipython",
    "version": 3
   },
   "file_extension": ".py",
   "mimetype": "text/x-python",
   "name": "python",
   "nbconvert_exporter": "python",
   "pygments_lexer": "ipython3",
   "version": "3.7.12"
  },
  "papermill": {
   "default_parameters": {},
   "duration": 3078.440448,
   "end_time": "2023-04-29T23:25:54.368556",
   "environment_variables": {},
   "exception": null,
   "input_path": "__notebook__.ipynb",
   "output_path": "__notebook__.ipynb",
   "parameters": {},
   "start_time": "2023-04-29T22:34:35.928108",
   "version": "2.4.0"
  }
 },
 "nbformat": 4,
 "nbformat_minor": 5
}
