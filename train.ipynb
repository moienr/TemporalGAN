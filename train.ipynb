{
 "cells": [
  {
   "cell_type": "code",
   "execution_count": 1,
   "id": "2ae04a98",
   "metadata": {
    "execution": {
     "iopub.execute_input": "2023-04-24T14:47:53.143735Z",
     "iopub.status.busy": "2023-04-24T14:47:53.142547Z",
     "iopub.status.idle": "2023-04-24T14:47:53.156562Z",
     "shell.execute_reply": "2023-04-24T14:47:53.155499Z"
    },
    "papermill": {
     "duration": 0.024931,
     "end_time": "2023-04-24T14:47:53.159567",
     "exception": false,
     "start_time": "2023-04-24T14:47:53.134636",
     "status": "completed"
    },
    "tags": []
   },
   "outputs": [
    {
     "data": {
      "text/plain": [
       "True"
      ]
     },
     "execution_count": 1,
     "metadata": {},
     "output_type": "execute_result"
    }
   ],
   "source": [
    "import os\n",
    "IN_KAGGLE = 'KAGGLE_URL_BASE' in os.environ\n",
    "IN_KAGGLE"
   ]
  },
  {
   "cell_type": "code",
   "execution_count": 2,
   "id": "ad5f4e4c",
   "metadata": {
    "execution": {
     "iopub.execute_input": "2023-04-24T14:47:53.171548Z",
     "iopub.status.busy": "2023-04-24T14:47:53.171272Z",
     "iopub.status.idle": "2023-04-24T14:47:58.537099Z",
     "shell.execute_reply": "2023-04-24T14:47:58.535875Z"
    },
    "papermill": {
     "duration": 5.374747,
     "end_time": "2023-04-24T14:47:58.539862",
     "exception": false,
     "start_time": "2023-04-24T14:47:53.165115",
     "status": "completed"
    },
    "tags": []
   },
   "outputs": [
    {
     "name": "stdout",
     "output_type": "stream",
     "text": [
      "Cloning into 'TemporalGAN'...\r\n",
      "remote: Enumerating objects: 1375, done.\u001b[K\r\n",
      "remote: Counting objects: 100% (286/286), done.\u001b[K\r\n",
      "remote: Compressing objects: 100% (146/146), done.\u001b[K\r\n",
      "remote: Total 1375 (delta 168), reused 252 (delta 136), pack-reused 1089\u001b[K\r\n",
      "Receiving objects: 100% (1375/1375), 85.11 MiB | 31.95 MiB/s, done.\r\n",
      "Resolving deltas: 100% (900/900), done.\r\n"
     ]
    }
   ],
   "source": [
    "if IN_KAGGLE:\n",
    "    from kaggle_secrets import UserSecretsClient\n",
    "    user_secrets = UserSecretsClient()\n",
    "    secret_value = user_secrets.get_secret(\"gittoken2\")\n",
    "\n",
    "    !git clone https://{secret_value}@github.com/moienr/TemporalGAN.git"
   ]
  },
  {
   "cell_type": "code",
   "execution_count": 3,
   "id": "4467e9c8",
   "metadata": {
    "execution": {
     "iopub.execute_input": "2023-04-24T14:47:58.555210Z",
     "iopub.status.busy": "2023-04-24T14:47:58.554873Z",
     "iopub.status.idle": "2023-04-24T14:47:58.561199Z",
     "shell.execute_reply": "2023-04-24T14:47:58.560202Z"
    },
    "papermill": {
     "duration": 0.016686,
     "end_time": "2023-04-24T14:47:58.563665",
     "exception": false,
     "start_time": "2023-04-24T14:47:58.546979",
     "status": "completed"
    },
    "tags": []
   },
   "outputs": [
    {
     "name": "stdout",
     "output_type": "stream",
     "text": [
      "path found...\n"
     ]
    }
   ],
   "source": [
    "if IN_KAGGLE:\n",
    "    import time\n",
    "    import os\n",
    "    sleep_time = 5\n",
    "    while not os.path.exists(\"/kaggle/working/TemporalGAN\"):\n",
    "        print(\"didn't find the path, wating {sleep_time} more seconds...\")\n",
    "        time.sleep(sleep_time)\n",
    "    print(\"path found...\")\n",
    "    import sys\n",
    "    sys.path.append(\"/kaggle/working/TemporalGAN\")"
   ]
  },
  {
   "cell_type": "code",
   "execution_count": 4,
   "id": "e9cffd31",
   "metadata": {
    "execution": {
     "iopub.execute_input": "2023-04-24T14:47:58.578411Z",
     "iopub.status.busy": "2023-04-24T14:47:58.577698Z",
     "iopub.status.idle": "2023-04-24T14:48:00.961094Z",
     "shell.execute_reply": "2023-04-24T14:48:00.958878Z"
    },
    "papermill": {
     "duration": 2.393237,
     "end_time": "2023-04-24T14:48:00.963497",
     "exception": false,
     "start_time": "2023-04-24T14:47:58.570260",
     "status": "completed"
    },
    "tags": []
   },
   "outputs": [
    {
     "data": {
      "text/plain": [
       "'1.13.0'"
      ]
     },
     "execution_count": 4,
     "metadata": {},
     "output_type": "execute_result"
    }
   ],
   "source": [
    "import torch\n",
    "torch.__version__"
   ]
  },
  {
   "cell_type": "code",
   "execution_count": 5,
   "id": "4b9f1b97",
   "metadata": {
    "execution": {
     "iopub.execute_input": "2023-04-24T14:48:00.982231Z",
     "iopub.status.busy": "2023-04-24T14:48:00.980327Z",
     "iopub.status.idle": "2023-04-24T14:48:01.683499Z",
     "shell.execute_reply": "2023-04-24T14:48:01.682410Z"
    },
    "papermill": {
     "duration": 0.714203,
     "end_time": "2023-04-24T14:48:01.686288",
     "exception": false,
     "start_time": "2023-04-24T14:48:00.972085",
     "status": "completed"
    },
    "tags": []
   },
   "outputs": [
    {
     "data": {
      "text/plain": [
       "2"
      ]
     },
     "execution_count": 5,
     "metadata": {},
     "output_type": "execute_result"
    }
   ],
   "source": [
    "import numpy as np\n",
    "from torch.utils.data import Dataset\n",
    "from glob import glob\n",
    "from skimage import io\n",
    "import os\n",
    "from torchvision import datasets, transforms\n",
    "import matplotlib\n",
    "import os\n",
    "import gc\n",
    "import random\n",
    "os.cpu_count()"
   ]
  },
  {
   "cell_type": "code",
   "execution_count": 6,
   "id": "99bcd589",
   "metadata": {
    "execution": {
     "iopub.execute_input": "2023-04-24T14:48:01.701573Z",
     "iopub.status.busy": "2023-04-24T14:48:01.701273Z",
     "iopub.status.idle": "2023-04-24T14:48:01.772450Z",
     "shell.execute_reply": "2023-04-24T14:48:01.771410Z"
    },
    "papermill": {
     "duration": 0.08135,
     "end_time": "2023-04-24T14:48:01.774678",
     "exception": false,
     "start_time": "2023-04-24T14:48:01.693328",
     "status": "completed"
    },
    "tags": []
   },
   "outputs": [
    {
     "data": {
      "text/plain": [
       "'cuda'"
      ]
     },
     "execution_count": 6,
     "metadata": {},
     "output_type": "execute_result"
    }
   ],
   "source": [
    "DEVICE = \"cuda\" if torch.cuda.is_available() else \"cpu\"\n",
    "DEVICE"
   ]
  },
  {
   "cell_type": "code",
   "execution_count": 7,
   "id": "e874a68b",
   "metadata": {
    "execution": {
     "iopub.execute_input": "2023-04-24T14:48:01.790499Z",
     "iopub.status.busy": "2023-04-24T14:48:01.789924Z",
     "iopub.status.idle": "2023-04-24T14:48:01.963556Z",
     "shell.execute_reply": "2023-04-24T14:48:01.962580Z"
    },
    "papermill": {
     "duration": 0.184086,
     "end_time": "2023-04-24T14:48:01.965944",
     "exception": false,
     "start_time": "2023-04-24T14:48:01.781858",
     "status": "completed"
    },
    "tags": []
   },
   "outputs": [],
   "source": [
    "from dataset.data_loaders import *\n",
    "from dataset.utils.plot_utils import plot_s1s2_tensors, save_s1s2_tensors_plot\n",
    "#from config import *\n",
    "from train_utils import *"
   ]
  },
  {
   "cell_type": "code",
   "execution_count": 8,
   "id": "eb3f70e0",
   "metadata": {
    "execution": {
     "iopub.execute_input": "2023-04-24T14:48:01.982571Z",
     "iopub.status.busy": "2023-04-24T14:48:01.982262Z",
     "iopub.status.idle": "2023-04-24T14:48:02.012747Z",
     "shell.execute_reply": "2023-04-24T14:48:02.011828Z"
    },
    "papermill": {
     "duration": 0.040683,
     "end_time": "2023-04-24T14:48:02.014938",
     "exception": false,
     "start_time": "2023-04-24T14:48:01.974255",
     "status": "completed"
    },
    "tags": []
   },
   "outputs": [],
   "source": [
    "from temporalgan.temporal_gan_v3_gen import Generator as GeneratorV3\n",
    "from temporalgan.temporal_gan_v2_1_gen import Generator as GeneratorV2_1\n",
    "from temporalgan.temporal_gan_v2_2_gen import Generator as GeneratorV2_2\n",
    "from temporalgan.temporal_gan_v2_3_gen import Generator as GeneratorV2_3\n",
    "from temporalgan.temporal_gan_v1_1_gen import Generator as GeneratorV1_1\n",
    "from temporalgan.temporal_gan_v1_2_gen import Generator as GeneratorV1_2\n",
    "from temporalgan.temporal_gan_v1_3_gen import Generator as GeneratorV1_3\n",
    "from temporalgan.temporal_gan_v1_4_gen import Generator as GeneratorV1_4\n",
    "from temporalgan.temporal_gan_v1_5_gen import Generator as GeneratorV1_5\n",
    "from temporalgan.temporal_gan_v2_disc import Discriminator as DiscriminatorV2\n",
    "from temporalgan.temporal_gan_v1_disc import Discriminator as DiscriminatorV1\n",
    "from temporalgan.lossfunciton.loss_function import WeightedL1Loss"
   ]
  },
  {
   "cell_type": "code",
   "execution_count": 9,
   "id": "a7877113",
   "metadata": {
    "execution": {
     "iopub.execute_input": "2023-04-24T14:48:02.030112Z",
     "iopub.status.busy": "2023-04-24T14:48:02.029779Z",
     "iopub.status.idle": "2023-04-24T14:48:02.034535Z",
     "shell.execute_reply": "2023-04-24T14:48:02.033423Z"
    },
    "papermill": {
     "duration": 0.015033,
     "end_time": "2023-04-24T14:48:02.036941",
     "exception": false,
     "start_time": "2023-04-24T14:48:02.021908",
     "status": "completed"
    },
    "tags": []
   },
   "outputs": [],
   "source": [
    "import torch.nn as nn\n",
    "import torch.optim as optim\n",
    "from torch.utils.data import DataLoader"
   ]
  },
  {
   "cell_type": "code",
   "execution_count": 10,
   "id": "1d38176b",
   "metadata": {
    "execution": {
     "iopub.execute_input": "2023-04-24T14:48:02.051795Z",
     "iopub.status.busy": "2023-04-24T14:48:02.051523Z",
     "iopub.status.idle": "2023-04-24T14:48:02.057127Z",
     "shell.execute_reply": "2023-04-24T14:48:02.056060Z"
    },
    "papermill": {
     "duration": 0.016098,
     "end_time": "2023-04-24T14:48:02.059866",
     "exception": false,
     "start_time": "2023-04-24T14:48:02.043768",
     "status": "completed"
    },
    "tags": []
   },
   "outputs": [],
   "source": [
    "if IN_KAGGLE:\n",
    "    s1_t1_dir_train= \"/kaggle/input/s1s2-2021-v2/2021/s1_imgs/train\"\n",
    "    s2_t1_dir_train= \"/kaggle/input/s1s2-2021-v2/2021/s2_imgs/train\"\n",
    "    s1_t2_dir_train= \"/kaggle/input/s1s2-2019-v2/2019/s1_imgs/train\"\n",
    "    s2_t2_dir_train= \"/kaggle/input/s1s2-2019-v2/2019/s2_imgs/train\"\n",
    "    s1_t1_dir_test = \"/kaggle/input/s1s2-2021-v2/2021/s1_imgs/test\"\n",
    "    s2_t1_dir_test = \"/kaggle/input/s1s2-2021-v2/2021/s2_imgs/test\"\n",
    "    s1_t2_dir_test = \"/kaggle/input/s1s2-2019-v2/2019/s1_imgs/test\"\n",
    "    s2_t2_dir_test = \"/kaggle/input/s1s2-2019-v2/2019/s2_imgs/test\"\n",
    "else:\n",
    "    s1_t1_dir_train=\"E:\\\\s1s2\\\\s1s2_patched_light\\\\s1s2_patched_extra_light\\\\2021\\\\s1_imgs\\\\test\"\n",
    "    s2_t1_dir_train=\"E:\\\\s1s2\\\\s1s2_patched_light\\\\s1s2_patched_extra_light\\\\2021\\\\s2_imgs\\\\test\"\n",
    "    s1_t2_dir_train=\"E:\\\\s1s2\\\\s1s2_patched_light\\\\s1s2_patched_extra_light\\\\2019\\\\s1_imgs\\\\test\"\n",
    "    s2_t2_dir_train=\"E:\\\\s1s2\\\\s1s2_patched_light\\\\s1s2_patched_extra_light\\\\2019\\\\s2_imgs\\\\test\"\n",
    "    s1_t1_dir_test=\"E:\\\\s1s2\\\\s1s2_patched_light\\\\s1s2_patched_extra_light\\\\2021\\\\s1_imgs\\\\test\"\n",
    "    s2_t1_dir_test=\"E:\\\\s1s2\\\\s1s2_patched_light\\\\s1s2_patched_extra_light\\\\2021\\\\s2_imgs\\\\test\"\n",
    "    s1_t2_dir_test=\"E:\\\\s1s2\\\\s1s2_patched_light\\\\s1s2_patched_extra_light\\\\2019\\\\s1_imgs\\\\test\"\n",
    "    s2_t2_dir_test=\"E:\\\\s1s2\\\\s1s2_patched_light\\\\s1s2_patched_extra_light\\\\2019\\\\s2_imgs\\\\test\""
   ]
  },
  {
   "cell_type": "code",
   "execution_count": 11,
   "id": "8845e543",
   "metadata": {
    "execution": {
     "iopub.execute_input": "2023-04-24T14:48:02.075053Z",
     "iopub.status.busy": "2023-04-24T14:48:02.074758Z",
     "iopub.status.idle": "2023-04-24T14:48:02.081288Z",
     "shell.execute_reply": "2023-04-24T14:48:02.080290Z"
    },
    "papermill": {
     "duration": 0.016324,
     "end_time": "2023-04-24T14:48:02.083329",
     "exception": false,
     "start_time": "2023-04-24T14:48:02.067005",
     "status": "completed"
    },
    "tags": []
   },
   "outputs": [],
   "source": [
    "TWO_WAY_DATASET = True if IN_KAGGLE else False\n",
    "INPUT_CHANGE_MAP = True if IN_KAGGLE else False\n",
    "S2_INCHANNELS = 12 if INPUT_CHANGE_MAP else 6\n",
    "S1_INCHANNELS = 7 if INPUT_CHANGE_MAP else 1\n",
    "\n",
    "LEARNING_RATE = 2e-4\n",
    "BATCH_SIZE = 4 if IN_KAGGLE else 1\n",
    "NUM_WORKERS = 2 if IN_KAGGLE else 8\n",
    "IMAGE_SIZE = 256\n",
    "WEIGHTED_LOSS = True\n",
    "L1_LAMBDA = 100\n",
    "NUM_EPOCHS = 10 if IN_KAGGLE else 2\n",
    "\n",
    "LOAD_MODEL = False\n",
    "SAVE_MODEL = True if IN_KAGGLE else False\n",
    "SAVE_MODEL_EVERY_EPOCH = 10\n",
    "SAVE_EXAMPLE_PLOTS = True\n",
    "EXAMPLES_TO_PLOT = [1,32,64,128,256,512,1024] if IN_KAGGLE else [1,2]\n",
    "CHECKPOINT_DISC = \"disc.pth.tar\"\n",
    "CHECKPOINT_GEN = \"gen.pth.tar\"\n",
    "\n",
    "RANDOM_SEED = 42"
   ]
  },
  {
   "cell_type": "code",
   "execution_count": 12,
   "id": "1faf1064",
   "metadata": {
    "execution": {
     "iopub.execute_input": "2023-04-24T14:48:02.098139Z",
     "iopub.status.busy": "2023-04-24T14:48:02.097870Z",
     "iopub.status.idle": "2023-04-24T14:48:02.109629Z",
     "shell.execute_reply": "2023-04-24T14:48:02.108752Z"
    },
    "papermill": {
     "duration": 0.021527,
     "end_time": "2023-04-24T14:48:02.111623",
     "exception": false,
     "start_time": "2023-04-24T14:48:02.090096",
     "status": "completed"
    },
    "tags": []
   },
   "outputs": [],
   "source": [
    "def main():\n",
    "    disc = DiscriminatorV1(s2_in_channels=S2_INCHANNELS, s1_in_channels=S1_INCHANNELS).to(DEVICE)\n",
    "#     gen = GeneratorV2(s2_in_channels=S2_INCHANNELS, s1_in_channels= S1_INCHANNELS, features=64,pam_downsample=2).to(DEVICE)\n",
    "    gen = GeneratorV1_3(s2_in_channels=S2_INCHANNELS, s1_in_channels= S1_INCHANNELS, features=64).to(DEVICE)\n",
    "#     gen = GeneratorV2_3(s2_in_channels=S2_INCHANNELS, s1_in_channels= S1_INCHANNELS, features=64).to(DEVICE)\n",
    "    opt_disc = optim.Adam(disc.parameters(), lr=LEARNING_RATE, betas=(0.5, 0.999),)\n",
    "    opt_gen = optim.Adam(gen.parameters(), lr=LEARNING_RATE, betas=(0.5, 0.999))\n",
    "    BCE = nn.BCEWithLogitsLoss()\n",
    "    if WEIGHTED_LOSS:\n",
    "        L1_LOSS = WeightedL1Loss(change_weight=5)\n",
    "    else:\n",
    "        L1_LOSS = nn.L1Loss()\n",
    "\n",
    "    if LOAD_MODEL:\n",
    "        load_checkpoint(\n",
    "            CHECKPOINT_GEN, gen, opt_gen, LEARNING_RATE,\n",
    "        )\n",
    "        load_checkpoint(\n",
    "            CHECKPOINT_DISC, disc, opt_disc, LEARNING_RATE,\n",
    "        )\n",
    "\n",
    "    transform = transforms.Compose([S2S1Normalize(),myToTensor(dtype=torch.float32)])\n",
    "\n",
    "\n",
    "    train_dataset = Sen12Dataset(s1_t1_dir=s1_t1_dir_train,\n",
    "                                 s2_t1_dir=s2_t1_dir_train,\n",
    "                                 s1_t2_dir=s1_t2_dir_train,\n",
    "                                 s2_t2_dir=s2_t2_dir_train,\n",
    "                                 transform=transform,\n",
    "                                 two_way=TWO_WAY_DATASET)\n",
    "    \n",
    "    train_loader = DataLoader(\n",
    "        train_dataset,\n",
    "        batch_size=BATCH_SIZE,\n",
    "        shuffle=True,\n",
    "        num_workers=NUM_WORKERS,\n",
    "    )\n",
    "    g_scaler = torch.cuda.amp.GradScaler()\n",
    "    d_scaler = torch.cuda.amp.GradScaler()\n",
    "#     val_dataset = MapDataset(root_dir=VAL_DIR)\n",
    "#     val_loader = DataLoader(val_dataset, batch_size=1, shuffle=False)\n",
    "\n",
    "    for epoch in range(1, NUM_EPOCHS+1):\n",
    "        print(\"\\n\\n\" , end=\"\")\n",
    "        print(f\"Epoch: {epoch}\")\n",
    "        print(\"\")\n",
    "        train_fn(\n",
    "            disc, gen, train_loader, opt_disc, opt_gen,\n",
    "            L1_LOSS, BCE, g_scaler, d_scaler, weighted_loss= WEIGHTED_LOSS,\n",
    "            cm_input=INPUT_CHANGE_MAP, grad_clip=False)\n",
    "\n",
    "        if SAVE_MODEL and epoch % SAVE_MODEL_EVERY_EPOCH == 0:\n",
    "            save_checkpoint(epoch,gen, opt_gen, filename=CHECKPOINT_GEN)\n",
    "            save_checkpoint(epoch,disc, opt_disc, filename=CHECKPOINT_DISC)\n",
    "\n",
    "\n",
    "        if SAVE_EXAMPLE_PLOTS:\n",
    "            for img_i in EXAMPLES_TO_PLOT:\n",
    "                save_some_examples(gen, train_dataset, epoch, folder=\"train_evaluation_plots\",cm_input=INPUT_CHANGE_MAP, img_indx=img_i)\n",
    "\n",
    "            \n",
    "        gc.collect()\n",
    "        torch.cuda.empty_cache()\n",
    "            \n",
    "    return gen\n"
   ]
  },
  {
   "cell_type": "code",
   "execution_count": 13,
   "id": "9fb83a56",
   "metadata": {
    "execution": {
     "iopub.execute_input": "2023-04-24T14:48:02.126385Z",
     "iopub.status.busy": "2023-04-24T14:48:02.126119Z",
     "iopub.status.idle": "2023-04-24T14:48:02.132838Z",
     "shell.execute_reply": "2023-04-24T14:48:02.131930Z"
    },
    "papermill": {
     "duration": 0.016419,
     "end_time": "2023-04-24T14:48:02.134893",
     "exception": false,
     "start_time": "2023-04-24T14:48:02.118474",
     "status": "completed"
    },
    "tags": []
   },
   "outputs": [],
   "source": [
    "torch.manual_seed(RANDOM_SEED)\n",
    "random.seed(RANDOM_SEED)\n",
    "np.random.seed(RANDOM_SEED)"
   ]
  },
  {
   "cell_type": "code",
   "execution_count": 14,
   "id": "ba4b5b98",
   "metadata": {
    "execution": {
     "iopub.execute_input": "2023-04-24T14:48:02.150329Z",
     "iopub.status.busy": "2023-04-24T14:48:02.149538Z",
     "iopub.status.idle": "2023-04-24T15:31:24.771926Z",
     "shell.execute_reply": "2023-04-24T15:31:24.770757Z"
    },
    "papermill": {
     "duration": 2602.633194,
     "end_time": "2023-04-24T15:31:24.774940",
     "exception": false,
     "start_time": "2023-04-24T14:48:02.141746",
     "status": "completed"
    },
    "tags": []
   },
   "outputs": [
    {
     "name": "stdout",
     "output_type": "stream",
     "text": [
      "\n",
      "\n",
      "Epoch: 1\n",
      "\n"
     ]
    },
    {
     "name": "stderr",
     "output_type": "stream",
     "text": [
      "100%|██████████| 663/663 [04:21<00:00,  2.54it/s, D_fake_mean=0.391, D_real_mean=0.569, G_loss_mean=19, L1_mean=17.9]\n"
     ]
    },
    {
     "name": "stdout",
     "output_type": "stream",
     "text": [
      "\n",
      "\n",
      "Epoch: 2\n",
      "\n"
     ]
    },
    {
     "name": "stderr",
     "output_type": "stream",
     "text": [
      "100%|██████████| 663/663 [04:15<00:00,  2.60it/s, D_fake_mean=0.347, D_real_mean=0.605, G_loss_mean=18.3, L1_mean=17]\n"
     ]
    },
    {
     "name": "stdout",
     "output_type": "stream",
     "text": [
      "\n",
      "\n",
      "Epoch: 3\n",
      "\n"
     ]
    },
    {
     "name": "stderr",
     "output_type": "stream",
     "text": [
      "100%|██████████| 663/663 [04:14<00:00,  2.60it/s, D_fake_mean=0.363, D_real_mean=0.598, G_loss_mean=18, L1_mean=16.8]\n"
     ]
    },
    {
     "name": "stdout",
     "output_type": "stream",
     "text": [
      "\n",
      "\n",
      "Epoch: 4\n",
      "\n"
     ]
    },
    {
     "name": "stderr",
     "output_type": "stream",
     "text": [
      "100%|██████████| 663/663 [04:14<00:00,  2.60it/s, D_fake_mean=0.368, D_real_mean=0.59, G_loss_mean=17.8, L1_mean=16.6]\n"
     ]
    },
    {
     "name": "stdout",
     "output_type": "stream",
     "text": [
      "\n",
      "\n",
      "Epoch: 5\n",
      "\n"
     ]
    },
    {
     "name": "stderr",
     "output_type": "stream",
     "text": [
      "100%|██████████| 663/663 [04:14<00:00,  2.61it/s, D_fake_mean=0.37, D_real_mean=0.587, G_loss_mean=17.7, L1_mean=16.5]\n"
     ]
    },
    {
     "name": "stdout",
     "output_type": "stream",
     "text": [
      "\n",
      "\n",
      "Epoch: 6\n",
      "\n"
     ]
    },
    {
     "name": "stderr",
     "output_type": "stream",
     "text": [
      "100%|██████████| 663/663 [04:14<00:00,  2.60it/s, D_fake_mean=0.374, D_real_mean=0.584, G_loss_mean=17.5, L1_mean=16.3]\n"
     ]
    },
    {
     "name": "stdout",
     "output_type": "stream",
     "text": [
      "\n",
      "\n",
      "Epoch: 7\n",
      "\n"
     ]
    },
    {
     "name": "stderr",
     "output_type": "stream",
     "text": [
      "100%|██████████| 663/663 [04:14<00:00,  2.60it/s, D_fake_mean=0.376, D_real_mean=0.581, G_loss_mean=17.3, L1_mean=16.2]\n"
     ]
    },
    {
     "name": "stdout",
     "output_type": "stream",
     "text": [
      "\n",
      "\n",
      "Epoch: 8\n",
      "\n"
     ]
    },
    {
     "name": "stderr",
     "output_type": "stream",
     "text": [
      "100%|██████████| 663/663 [04:14<00:00,  2.60it/s, D_fake_mean=0.378, D_real_mean=0.579, G_loss_mean=17.1, L1_mean=16]\n"
     ]
    },
    {
     "name": "stdout",
     "output_type": "stream",
     "text": [
      "\n",
      "\n",
      "Epoch: 9\n",
      "\n"
     ]
    },
    {
     "name": "stderr",
     "output_type": "stream",
     "text": [
      "100%|██████████| 663/663 [04:14<00:00,  2.60it/s, D_fake_mean=0.383, D_real_mean=0.577, G_loss_mean=16.8, L1_mean=15.7]\n"
     ]
    },
    {
     "name": "stdout",
     "output_type": "stream",
     "text": [
      "\n",
      "\n",
      "Epoch: 10\n",
      "\n"
     ]
    },
    {
     "name": "stderr",
     "output_type": "stream",
     "text": [
      "100%|██████████| 663/663 [04:14<00:00,  2.60it/s, D_fake_mean=0.384, D_real_mean=0.575, G_loss_mean=16.6, L1_mean=15.5]\n"
     ]
    },
    {
     "name": "stdout",
     "output_type": "stream",
     "text": [
      "=> Saving checkpoint\n",
      "=> Saving checkpoint\n"
     ]
    }
   ],
   "source": [
    "#matplotlib.use('Agg') # This refrains matplot lib form showing the plotted resualts below the cell\n",
    "gen_model = main()"
   ]
  },
  {
   "cell_type": "code",
   "execution_count": 15,
   "id": "0502c3f5",
   "metadata": {
    "execution": {
     "iopub.execute_input": "2023-04-24T15:31:25.549933Z",
     "iopub.status.busy": "2023-04-24T15:31:25.548818Z",
     "iopub.status.idle": "2023-04-24T15:31:25.554161Z",
     "shell.execute_reply": "2023-04-24T15:31:25.553152Z"
    },
    "papermill": {
     "duration": 0.368671,
     "end_time": "2023-04-24T15:31:25.556400",
     "exception": false,
     "start_time": "2023-04-24T15:31:25.187729",
     "status": "completed"
    },
    "tags": []
   },
   "outputs": [],
   "source": [
    "# transform = transforms.Compose([S2S1Normalize(),myToTensor(dtype=torch.float32)])\n",
    "# train_dataset = Sen12Dataset(s1_t1_dir=s1_t1_dir_train,\n",
    "#                              s2_t1_dir=s2_t1_dir_train,\n",
    "#                              s1_t2_dir=s1_t2_dir_train,\n",
    "#                              s2_t2_dir=s2_t2_dir_train,\n",
    "#                              transform=transform,\n",
    "#                              two_way=TWO_WAY_DATASET)\n",
    "# #plt.imshow(train_dataset[0][-1][0])\n",
    "\n",
    "# plt.imshow(torch.permute(train_dataset[123][4],(1,2,0))[:,:,0])\n",
    "# plt.colorbar()\n",
    "# plt.show()"
   ]
  },
  {
   "cell_type": "code",
   "execution_count": 16,
   "id": "2c2979f6",
   "metadata": {
    "execution": {
     "iopub.execute_input": "2023-04-24T15:31:26.274740Z",
     "iopub.status.busy": "2023-04-24T15:31:26.273561Z",
     "iopub.status.idle": "2023-04-24T15:31:26.999622Z",
     "shell.execute_reply": "2023-04-24T15:31:26.998523Z"
    },
    "papermill": {
     "duration": 1.089999,
     "end_time": "2023-04-24T15:31:27.002126",
     "exception": false,
     "start_time": "2023-04-24T15:31:25.912127",
     "status": "completed"
    },
    "tags": []
   },
   "outputs": [],
   "source": [
    "transform = transforms.Compose([S2S1Normalize(),myToTensor()])\n",
    "test_dataset = Sen12Dataset(s1_t1_dir=s1_t1_dir_test,\n",
    "                            s2_t1_dir=s2_t1_dir_test,\n",
    "                            s1_t2_dir=s1_t2_dir_test,\n",
    "                            s2_t2_dir=s2_t2_dir_test,\n",
    "                            transform=transform,\n",
    "                            two_way=TWO_WAY_DATASET)\n",
    "test_loader = DataLoader(\n",
    "        test_dataset,\n",
    "        batch_size=BATCH_SIZE,\n",
    "        shuffle=False,\n",
    "        num_workers=NUM_WORKERS,\n",
    "    )"
   ]
  },
  {
   "cell_type": "code",
   "execution_count": 17,
   "id": "f766c4f6",
   "metadata": {
    "execution": {
     "iopub.execute_input": "2023-04-24T15:31:27.777080Z",
     "iopub.status.busy": "2023-04-24T15:31:27.776372Z",
     "iopub.status.idle": "2023-04-24T15:31:27.781998Z",
     "shell.execute_reply": "2023-04-24T15:31:27.780858Z"
    },
    "papermill": {
     "duration": 0.368707,
     "end_time": "2023-04-24T15:31:27.784367",
     "exception": false,
     "start_time": "2023-04-24T15:31:27.415660",
     "status": "completed"
    },
    "tags": []
   },
   "outputs": [],
   "source": [
    "# save_some_examples(gen_model, test_dataset, NUM_EPOCHS, folder=\"evaluation\",cm_input=INPUT_CHANGE_MAP, img_indx=2)"
   ]
  },
  {
   "cell_type": "code",
   "execution_count": 18,
   "id": "7f3faa4c",
   "metadata": {
    "execution": {
     "iopub.execute_input": "2023-04-24T15:31:28.558678Z",
     "iopub.status.busy": "2023-04-24T15:31:28.557645Z",
     "iopub.status.idle": "2023-04-24T15:31:28.571051Z",
     "shell.execute_reply": "2023-04-24T15:31:28.569966Z"
    },
    "papermill": {
     "duration": 0.429094,
     "end_time": "2023-04-24T15:31:28.573479",
     "exception": false,
     "start_time": "2023-04-24T15:31:28.144385",
     "status": "completed"
    },
    "tags": []
   },
   "outputs": [],
   "source": [
    "def eval_fn(gen, loader, ssim, psnr):\n",
    "    gen.eval()\n",
    "    loop = tqdm(loader, leave=True)\n",
    "    weighted_ssim_list = []\n",
    "    normal_ssim_list = []\n",
    "    weighted_psnr_list = []\n",
    "    normal_psnr_list = []\n",
    "    \n",
    "    for idx, (s2t2,s1t2,s2t1,s1t1,cm,rcm,s1cm) in enumerate(loop):\n",
    "        s2t2,s1t2,s2t1,s1t1,cm,rcm,s1cm = s2t2.to(DEVICE),s1t2.to(DEVICE),s2t1.to(DEVICE),s1t1.to(DEVICE),cm.to(DEVICE),rcm.to(DEVICE),s1cm.to(DEVICE)\n",
    "        s2t2,s1t2,s2t1,s1t1,cm,rcm,s1cm = s2t2.to(torch.float32),s1t2.to(torch.float32),s2t1.to(torch.float32),s1t1.to(torch.float32),cm.to(torch.float32),rcm.to(torch.float32),s1cm.to(torch.float32)\n",
    "        if INPUT_CHANGE_MAP:\n",
    "            s2t2 = torch.cat((s2t2, cm), dim=1)\n",
    "            s1t1 = torch.cat((s1t1, rcm), dim=1)\n",
    "        preds = gen(s2t2, s1t1)\n",
    "        \n",
    "        weighted_ssim = ssim((s1t2, preds), s1cm)\n",
    "        weighted_ssim_list.append(weighted_ssim)\n",
    "        normal_ssim = ssim((s1t2, preds))\n",
    "        normal_ssim_list.append(normal_ssim)\n",
    "        weighted_psnr = psnr((s1t2, preds), s1cm)\n",
    "        weighted_psnr_list.append(weighted_psnr)\n",
    "        normal_psnr = psnr((s1t2, preds))\n",
    "        normal_psnr_list.append(normal_psnr)\n",
    "\n",
    "\n",
    "        if idx % 10 == 0:\n",
    "            loop.set_postfix(\n",
    "                wssim_mean = torch.tensor(weighted_ssim_list).mean().item(),\n",
    "                ssim_mean = torch.tensor(normal_ssim_list).mean().item(),\n",
    "                wpsnr_mean = torch.tensor(weighted_psnr_list).mean().item(),\n",
    "                psnr_mean = torch.tensor(normal_psnr_list).mean().item(),\n",
    "            )\n",
    "    print(\"wssim_mean: \" , torch.tensor(weighted_ssim_list).mean().item())\n",
    "    print(\"ssim_mean: \" , torch.tensor(normal_ssim_list).mean().item())\n",
    "    print(\"wpsnr_mean: \" , torch.tensor(weighted_psnr_list).mean().item())\n",
    "    print(\"psnr_mean: \" , torch.tensor(normal_psnr_list).mean().item())"
   ]
  },
  {
   "cell_type": "code",
   "execution_count": 19,
   "id": "ab30ea36",
   "metadata": {
    "execution": {
     "iopub.execute_input": "2023-04-24T15:31:29.304665Z",
     "iopub.status.busy": "2023-04-24T15:31:29.304011Z",
     "iopub.status.idle": "2023-04-24T15:31:29.308944Z",
     "shell.execute_reply": "2023-04-24T15:31:29.307939Z"
    },
    "papermill": {
     "duration": 0.367712,
     "end_time": "2023-04-24T15:31:29.311012",
     "exception": false,
     "start_time": "2023-04-24T15:31:28.943300",
     "status": "completed"
    },
    "tags": []
   },
   "outputs": [],
   "source": [
    "from eval_metrics import ssim\n",
    "from eval_metrics.psnr import wpsnr\n",
    "wssim = ssim.WSSIM(data_range=1.0)"
   ]
  },
  {
   "cell_type": "code",
   "execution_count": 20,
   "id": "fe6fae13",
   "metadata": {
    "execution": {
     "iopub.execute_input": "2023-04-24T15:31:30.088657Z",
     "iopub.status.busy": "2023-04-24T15:31:30.087659Z",
     "iopub.status.idle": "2023-04-24T15:32:51.311940Z",
     "shell.execute_reply": "2023-04-24T15:32:51.310333Z"
    },
    "papermill": {
     "duration": 81.642769,
     "end_time": "2023-04-24T15:32:51.314402",
     "exception": false,
     "start_time": "2023-04-24T15:31:29.671633",
     "status": "completed"
    },
    "tags": []
   },
   "outputs": [
    {
     "name": "stderr",
     "output_type": "stream",
     "text": [
      "100%|██████████| 339/339 [01:21<00:00,  4.17it/s, psnr_mean=16.3, ssim_mean=0.406, wpsnr_mean=13.2, wssim_mean=0.352]"
     ]
    },
    {
     "name": "stdout",
     "output_type": "stream",
     "text": [
      "wssim_mean:  0.3496755063533783\n",
      "ssim_mean:  0.40330997109413147\n",
      "wpsnr_mean:  13.215413093566895\n",
      "psnr_mean:  16.278182983398438\n"
     ]
    },
    {
     "name": "stderr",
     "output_type": "stream",
     "text": [
      "\n"
     ]
    }
   ],
   "source": [
    "eval_fn(gen_model, test_loader, wssim, wpsnr)"
   ]
  },
  {
   "cell_type": "code",
   "execution_count": 21,
   "id": "b70ebaa4",
   "metadata": {
    "execution": {
     "iopub.execute_input": "2023-04-24T15:32:52.126761Z",
     "iopub.status.busy": "2023-04-24T15:32:52.125786Z",
     "iopub.status.idle": "2023-04-24T15:32:52.131642Z",
     "shell.execute_reply": "2023-04-24T15:32:52.130428Z"
    },
    "papermill": {
     "duration": 0.441142,
     "end_time": "2023-04-24T15:32:52.134023",
     "exception": false,
     "start_time": "2023-04-24T15:32:51.692881",
     "status": "completed"
    },
    "tags": []
   },
   "outputs": [],
   "source": [
    "# import shutil\n",
    "# shutil.rmtree(\"test_evaluation_plots\")"
   ]
  },
  {
   "cell_type": "code",
   "execution_count": 22,
   "id": "69e424e0",
   "metadata": {
    "execution": {
     "iopub.execute_input": "2023-04-24T15:32:52.888304Z",
     "iopub.status.busy": "2023-04-24T15:32:52.887246Z",
     "iopub.status.idle": "2023-04-24T15:35:50.471060Z",
     "shell.execute_reply": "2023-04-24T15:35:50.469831Z"
    },
    "papermill": {
     "duration": 177.963276,
     "end_time": "2023-04-24T15:35:50.473237",
     "exception": false,
     "start_time": "2023-04-24T15:32:52.509961",
     "status": "completed"
    },
    "tags": []
   },
   "outputs": [
    {
     "name": "stdout",
     "output_type": "stream",
     "text": [
      "  adding: kaggle/working/test_evaluation_plots/ (stored 0%)\r\n",
      "  adding: kaggle/working/test_evaluation_plots/epoc_10_img431.png (deflated 2%)\r\n",
      "  adding: kaggle/working/test_evaluation_plots/epoc_10_img269.png (deflated 2%)\r\n",
      "  adding: kaggle/working/test_evaluation_plots/epoc_10_img95.png (deflated 2%)\r\n",
      "  adding: kaggle/working/test_evaluation_plots/epoc_10_img163.png (deflated 2%)\r\n",
      "  adding: kaggle/working/test_evaluation_plots/epoc_10_img165.png (deflated 2%)\r\n",
      "  adding: kaggle/working/test_evaluation_plots/epoc_10_img489.png (deflated 2%)\r\n",
      "  adding: kaggle/working/test_evaluation_plots/epoc_10_img25.png (deflated 2%)\r\n",
      "  adding: kaggle/working/test_evaluation_plots/epoc_10_img3.png (deflated 2%)\r\n",
      "  adding: kaggle/working/test_evaluation_plots/epoc_10_img397.png (deflated 2%)\r\n",
      "  adding: kaggle/working/test_evaluation_plots/epoc_10_img289.png (deflated 2%)\r\n",
      "  adding: kaggle/working/test_evaluation_plots/epoc_10_img259.png (deflated 2%)\r\n",
      "  adding: kaggle/working/test_evaluation_plots/epoc_10_img27.png (deflated 2%)\r\n",
      "  adding: kaggle/working/test_evaluation_plots/epoc_10_img591.png (deflated 2%)\r\n",
      "  adding: kaggle/working/test_evaluation_plots/epoc_10_img607.png (deflated 2%)\r\n",
      "  adding: kaggle/working/test_evaluation_plots/epoc_10_img525.png (deflated 2%)\r\n",
      "  adding: kaggle/working/test_evaluation_plots/epoc_10_img631.png (deflated 2%)\r\n",
      "  adding: kaggle/working/test_evaluation_plots/epoc_10_img309.png (deflated 2%)\r\n",
      "  adding: kaggle/working/test_evaluation_plots/epoc_10_img641.png (deflated 2%)\r\n",
      "  adding: kaggle/working/test_evaluation_plots/epoc_10_img181.png (deflated 2%)\r\n",
      "  adding: kaggle/working/test_evaluation_plots/epoc_10_img427.png (deflated 2%)\r\n",
      "  adding: kaggle/working/test_evaluation_plots/epoc_10_img619.png (deflated 2%)\r\n",
      "  adding: kaggle/working/test_evaluation_plots/epoc_10_img479.png (deflated 2%)\r\n",
      "  adding: kaggle/working/test_evaluation_plots/epoc_10_img277.png (deflated 2%)\r\n",
      "  adding: kaggle/working/test_evaluation_plots/epoc_10_img475.png (deflated 2%)\r\n",
      "  adding: kaggle/working/test_evaluation_plots/epoc_10_img599.png (deflated 2%)\r\n",
      "  adding: kaggle/working/test_evaluation_plots/epoc_10_img581.png (deflated 2%)\r\n",
      "  adding: kaggle/working/test_evaluation_plots/epoc_10_img361.png (deflated 2%)\r\n",
      "  adding: kaggle/working/test_evaluation_plots/epoc_10_img121.png (deflated 2%)\r\n",
      "  adding: kaggle/working/test_evaluation_plots/epoc_10_img113.png (deflated 2%)\r\n",
      "  adding: kaggle/working/test_evaluation_plots/epoc_10_img267.png (deflated 2%)\r\n",
      "  adding: kaggle/working/test_evaluation_plots/epoc_10_img287.png (deflated 2%)\r\n",
      "  adding: kaggle/working/test_evaluation_plots/epoc_10_img587.png (deflated 1%)\r\n",
      "  adding: kaggle/working/test_evaluation_plots/epoc_10_img295.png (deflated 2%)\r\n",
      "  adding: kaggle/working/test_evaluation_plots/epoc_10_img559.png (deflated 2%)\r\n",
      "  adding: kaggle/working/test_evaluation_plots/epoc_10_img233.png (deflated 2%)\r\n",
      "  adding: kaggle/working/test_evaluation_plots/epoc_10_img399.png (deflated 2%)\r\n",
      "  adding: kaggle/working/test_evaluation_plots/epoc_10_img359.png (deflated 2%)\r\n",
      "  adding: kaggle/working/test_evaluation_plots/epoc_10_img351.png (deflated 2%)\r\n",
      "  adding: kaggle/working/test_evaluation_plots/epoc_10_img373.png (deflated 2%)\r\n",
      "  adding: kaggle/working/test_evaluation_plots/epoc_10_img673.png (deflated 2%)\r\n",
      "  adding: kaggle/working/test_evaluation_plots/epoc_10_img251.png (deflated 2%)\r\n",
      "  adding: kaggle/working/test_evaluation_plots/epoc_10_img555.png (deflated 2%)\r\n",
      "  adding: kaggle/working/test_evaluation_plots/epoc_10_img613.png (deflated 2%)\r\n",
      "  adding: kaggle/working/test_evaluation_plots/epoc_10_img379.png (deflated 2%)\r\n",
      "  adding: kaggle/working/test_evaluation_plots/epoc_10_img633.png (deflated 2%)\r\n",
      "  adding: kaggle/working/test_evaluation_plots/epoc_10_img229.png (deflated 2%)\r\n",
      "  adding: kaggle/working/test_evaluation_plots/epoc_10_img625.png (deflated 2%)\r\n",
      "  adding: kaggle/working/test_evaluation_plots/epoc_10_img83.png (deflated 2%)\r\n",
      "  adding: kaggle/working/test_evaluation_plots/epoc_10_img583.png (deflated 2%)\r\n",
      "  adding: kaggle/working/test_evaluation_plots/epoc_10_img575.png (deflated 2%)\r\n",
      "  adding: kaggle/working/test_evaluation_plots/epoc_10_img13.png (deflated 2%)\r\n",
      "  adding: kaggle/working/test_evaluation_plots/epoc_10_img219.png (deflated 2%)\r\n",
      "  adding: kaggle/working/test_evaluation_plots/epoc_10_img299.png (deflated 2%)\r\n",
      "  adding: kaggle/working/test_evaluation_plots/epoc_10_img655.png (deflated 2%)\r\n",
      "  adding: kaggle/working/test_evaluation_plots/epoc_10_img563.png (deflated 2%)\r\n",
      "  adding: kaggle/working/test_evaluation_plots/epoc_10_img155.png (deflated 2%)\r\n",
      "  adding: kaggle/working/test_evaluation_plots/epoc_10_img577.png (deflated 2%)\r\n",
      "  adding: kaggle/working/test_evaluation_plots/epoc_10_img433.png (deflated 2%)\r\n",
      "  adding: kaggle/working/test_evaluation_plots/epoc_10_img149.png (deflated 2%)\r\n",
      "  adding: kaggle/working/test_evaluation_plots/epoc_10_img271.png (deflated 2%)\r\n",
      "  adding: kaggle/working/test_evaluation_plots/epoc_10_img441.png (deflated 2%)\r\n",
      "  adding: kaggle/working/test_evaluation_plots/epoc_10_img303.png (deflated 2%)\r\n",
      "  adding: kaggle/working/test_evaluation_plots/epoc_10_img311.png (deflated 2%)\r\n",
      "  adding: kaggle/working/test_evaluation_plots/epoc_10_img537.png (deflated 2%)\r\n",
      "  adding: kaggle/working/test_evaluation_plots/epoc_10_img133.png (deflated 2%)\r\n",
      "  adding: kaggle/working/test_evaluation_plots/epoc_10_img241.png (deflated 2%)\r\n",
      "  adding: kaggle/working/test_evaluation_plots/epoc_10_img609.png (deflated 2%)\r\n",
      "  adding: kaggle/working/test_evaluation_plots/epoc_10_img457.png (deflated 2%)\r\n",
      "  adding: kaggle/working/test_evaluation_plots/epoc_10_img521.png (deflated 2%)\r\n",
      "  adding: kaggle/working/test_evaluation_plots/epoc_10_img139.png (deflated 2%)\r\n",
      "  adding: kaggle/working/test_evaluation_plots/epoc_10_img455.png (deflated 2%)\r\n",
      "  adding: kaggle/working/test_evaluation_plots/epoc_10_img97.png (deflated 2%)\r\n",
      "  adding: kaggle/working/test_evaluation_plots/epoc_10_img131.png (deflated 2%)\r\n",
      "  adding: kaggle/working/test_evaluation_plots/epoc_10_img101.png (deflated 2%)\r\n",
      "  adding: kaggle/working/test_evaluation_plots/epoc_10_img215.png (deflated 2%)\r\n",
      "  adding: kaggle/working/test_evaluation_plots/epoc_10_img263.png (deflated 2%)\r\n",
      "  adding: kaggle/working/test_evaluation_plots/epoc_10_img33.png (deflated 2%)\r\n",
      "  adding: kaggle/working/test_evaluation_plots/epoc_10_img177.png (deflated 2%)\r\n",
      "  adding: kaggle/working/test_evaluation_plots/epoc_10_img567.png (deflated 2%)\r\n",
      "  adding: kaggle/working/test_evaluation_plots/epoc_10_img467.png (deflated 2%)\r\n",
      "  adding: kaggle/working/test_evaluation_plots/epoc_10_img347.png (deflated 2%)\r\n",
      "  adding: kaggle/working/test_evaluation_plots/epoc_10_img541.png (deflated 2%)\r\n",
      "  adding: kaggle/working/test_evaluation_plots/epoc_10_img349.png (deflated 2%)\r\n",
      "  adding: kaggle/working/test_evaluation_plots/epoc_10_img653.png (deflated 2%)\r\n",
      "  adding: kaggle/working/test_evaluation_plots/epoc_10_img317.png (deflated 2%)\r\n",
      "  adding: kaggle/working/test_evaluation_plots/epoc_10_img325.png (deflated 2%)\r\n",
      "  adding: kaggle/working/test_evaluation_plots/epoc_10_img89.png (deflated 2%)\r\n",
      "  adding: kaggle/working/test_evaluation_plots/epoc_10_img315.png (deflated 2%)\r\n",
      "  adding: kaggle/working/test_evaluation_plots/epoc_10_img385.png (deflated 2%)\r\n",
      "  adding: kaggle/working/test_evaluation_plots/epoc_10_img249.png (deflated 2%)\r\n",
      "  adding: kaggle/working/test_evaluation_plots/epoc_10_img463.png (deflated 2%)\r\n",
      "  adding: kaggle/working/test_evaluation_plots/epoc_10_img515.png (deflated 2%)\r\n",
      "  adding: kaggle/working/test_evaluation_plots/epoc_10_img465.png (deflated 2%)\r\n",
      "  adding: kaggle/working/test_evaluation_plots/epoc_10_img253.png (deflated 2%)\r\n",
      "  adding: kaggle/working/test_evaluation_plots/epoc_10_img209.png (deflated 2%)\r\n",
      "  adding: kaggle/working/test_evaluation_plots/epoc_10_img45.png (deflated 2%)\r\n",
      "  adding: kaggle/working/test_evaluation_plots/epoc_10_img535.png (deflated 2%)\r\n",
      "  adding: kaggle/working/test_evaluation_plots/epoc_10_img71.png (deflated 2%)\r\n",
      "  adding: kaggle/working/test_evaluation_plots/epoc_10_img153.png (deflated 2%)\r\n",
      "  adding: kaggle/working/test_evaluation_plots/epoc_10_img539.png (deflated 2%)\r\n",
      "  adding: kaggle/working/test_evaluation_plots/epoc_10_img119.png (deflated 2%)\r\n",
      "  adding: kaggle/working/test_evaluation_plots/epoc_10_img461.png (deflated 2%)\r\n",
      "  adding: kaggle/working/test_evaluation_plots/epoc_10_img345.png (deflated 2%)\r\n",
      "  adding: kaggle/working/test_evaluation_plots/epoc_10_img387.png (deflated 2%)\r\n",
      "  adding: kaggle/working/test_evaluation_plots/epoc_10_img31.png (deflated 2%)\r\n",
      "  adding: kaggle/working/test_evaluation_plots/epoc_10_img141.png (deflated 2%)\r\n",
      "  adding: kaggle/working/test_evaluation_plots/epoc_10_img509.png (deflated 2%)\r\n",
      "  adding: kaggle/working/test_evaluation_plots/epoc_10_img487.png (deflated 2%)\r\n",
      "  adding: kaggle/working/test_evaluation_plots/epoc_10_img41.png (deflated 2%)\r\n",
      "  adding: kaggle/working/test_evaluation_plots/epoc_10_img7.png (deflated 2%)\r\n",
      "  adding: kaggle/working/test_evaluation_plots/epoc_10_img293.png (deflated 2%)\r\n",
      "  adding: kaggle/working/test_evaluation_plots/epoc_10_img425.png (deflated 2%)\r\n",
      "  adding: kaggle/working/test_evaluation_plots/epoc_10_img341.png (deflated 2%)\r\n",
      "  adding: kaggle/working/test_evaluation_plots/epoc_10_img51.png (deflated 2%)\r\n",
      "  adding: kaggle/working/test_evaluation_plots/epoc_10_img47.png (deflated 2%)\r\n",
      "  adding: kaggle/working/test_evaluation_plots/epoc_10_img675.png (deflated 2%)\r\n",
      "  adding: kaggle/working/test_evaluation_plots/epoc_10_img57.png (deflated 2%)\r\n",
      "  adding: kaggle/working/test_evaluation_plots/epoc_10_img93.png (deflated 2%)\r\n",
      "  adding: kaggle/working/test_evaluation_plots/epoc_10_img243.png (deflated 2%)\r\n",
      "  adding: kaggle/working/test_evaluation_plots/epoc_10_img23.png (deflated 2%)\r\n",
      "  adding: kaggle/working/test_evaluation_plots/epoc_10_img297.png (deflated 2%)\r\n",
      "  adding: kaggle/working/test_evaluation_plots/epoc_10_img437.png (deflated 2%)\r\n",
      "  adding: kaggle/working/test_evaluation_plots/epoc_10_img211.png (deflated 2%)\r\n",
      "  adding: kaggle/working/test_evaluation_plots/epoc_10_img99.png (deflated 3%)\r\n",
      "  adding: kaggle/working/test_evaluation_plots/epoc_10_img573.png (deflated 2%)\r\n",
      "  adding: kaggle/working/test_evaluation_plots/epoc_10_img369.png (deflated 2%)\r\n",
      "  adding: kaggle/working/test_evaluation_plots/epoc_10_img231.png (deflated 2%)\r\n",
      "  adding: kaggle/working/test_evaluation_plots/epoc_10_img601.png (deflated 2%)\r\n",
      "  adding: kaggle/working/test_evaluation_plots/epoc_10_img329.png (deflated 2%)\r\n",
      "  adding: kaggle/working/test_evaluation_plots/epoc_10_img313.png (deflated 2%)\r\n",
      "  adding: kaggle/working/test_evaluation_plots/epoc_10_img497.png (deflated 2%)\r\n",
      "  adding: kaggle/working/test_evaluation_plots/epoc_10_img551.png (deflated 2%)\r\n",
      "  adding: kaggle/working/test_evaluation_plots/epoc_10_img419.png (deflated 2%)\r\n",
      "  adding: kaggle/working/test_evaluation_plots/epoc_10_img157.png (deflated 2%)\r\n",
      "  adding: kaggle/working/test_evaluation_plots/epoc_10_img217.png (deflated 2%)\r\n",
      "  adding: kaggle/working/test_evaluation_plots/epoc_10_img147.png (deflated 2%)\r\n",
      "  adding: kaggle/working/test_evaluation_plots/epoc_10_img545.png (deflated 2%)\r\n",
      "  adding: kaggle/working/test_evaluation_plots/epoc_10_img439.png (deflated 2%)\r\n",
      "  adding: kaggle/working/test_evaluation_plots/epoc_10_img301.png (deflated 2%)\r\n",
      "  adding: kaggle/working/test_evaluation_plots/epoc_10_img187.png (deflated 2%)\r\n",
      "  adding: kaggle/working/test_evaluation_plots/epoc_10_img247.png (deflated 2%)\r\n",
      "  adding: kaggle/working/test_evaluation_plots/epoc_10_img491.png (deflated 2%)\r\n",
      "  adding: kaggle/working/test_evaluation_plots/epoc_10_img75.png (deflated 2%)\r\n",
      "  adding: kaggle/working/test_evaluation_plots/epoc_10_img103.png (deflated 2%)\r\n",
      "  adding: kaggle/working/test_evaluation_plots/epoc_10_img617.png (deflated 2%)\r\n",
      "  adding: kaggle/working/test_evaluation_plots/epoc_10_img143.png (deflated 2%)\r\n",
      "  adding: kaggle/working/test_evaluation_plots/epoc_10_img169.png (deflated 2%)\r\n",
      "  adding: kaggle/working/test_evaluation_plots/epoc_10_img127.png (deflated 2%)\r\n",
      "  adding: kaggle/working/test_evaluation_plots/epoc_10_img11.png (deflated 2%)\r\n",
      "  adding: kaggle/working/test_evaluation_plots/epoc_10_img429.png (deflated 2%)\r\n",
      "  adding: kaggle/working/test_evaluation_plots/epoc_10_img499.png (deflated 2%)\r\n",
      "  adding: kaggle/working/test_evaluation_plots/epoc_10_img367.png (deflated 2%)\r\n",
      "  adding: kaggle/working/test_evaluation_plots/epoc_10_img365.png (deflated 2%)\r\n",
      "  adding: kaggle/working/test_evaluation_plots/epoc_10_img111.png (deflated 2%)\r\n",
      "  adding: kaggle/working/test_evaluation_plots/epoc_10_img377.png (deflated 2%)\r\n",
      "  adding: kaggle/working/test_evaluation_plots/epoc_10_img533.png (deflated 2%)\r\n",
      "  adding: kaggle/working/test_evaluation_plots/epoc_10_img657.png (deflated 2%)\r\n",
      "  adding: kaggle/working/test_evaluation_plots/epoc_10_img137.png (deflated 2%)\r\n",
      "  adding: kaggle/working/test_evaluation_plots/epoc_10_img91.png (deflated 2%)\r\n",
      "  adding: kaggle/working/test_evaluation_plots/epoc_10_img285.png (deflated 2%)\r\n",
      "  adding: kaggle/working/test_evaluation_plots/epoc_10_img645.png (deflated 2%)\r\n",
      "  adding: kaggle/working/test_evaluation_plots/epoc_10_img159.png (deflated 2%)\r\n",
      "  adding: kaggle/working/test_evaluation_plots/epoc_10_img125.png (deflated 2%)\r\n",
      "  adding: kaggle/working/test_evaluation_plots/epoc_10_img85.png (deflated 2%)\r\n",
      "  adding: kaggle/working/test_evaluation_plots/epoc_10_img547.png (deflated 2%)\r\n",
      "  adding: kaggle/working/test_evaluation_plots/epoc_10_img643.png (deflated 2%)\r\n",
      "  adding: kaggle/working/test_evaluation_plots/epoc_10_img663.png (deflated 2%)\r\n",
      "  adding: kaggle/working/test_evaluation_plots/epoc_10_img353.png (deflated 2%)\r\n",
      "  adding: kaggle/working/test_evaluation_plots/epoc_10_img407.png (deflated 2%)\r\n",
      "  adding: kaggle/working/test_evaluation_plots/epoc_10_img333.png (deflated 2%)\r\n",
      "  adding: kaggle/working/test_evaluation_plots/epoc_10_img205.png (deflated 2%)\r\n",
      "  adding: kaggle/working/test_evaluation_plots/epoc_10_img171.png (deflated 2%)\r\n",
      "  adding: kaggle/working/test_evaluation_plots/epoc_10_img225.png (deflated 2%)\r\n",
      "  adding: kaggle/working/test_evaluation_plots/epoc_10_img37.png (deflated 2%)\r\n",
      "  adding: kaggle/working/test_evaluation_plots/epoc_10_img445.png (deflated 2%)\r\n",
      "  adding: kaggle/working/test_evaluation_plots/epoc_10_img279.png (deflated 2%)\r\n",
      "  adding: kaggle/working/test_evaluation_plots/epoc_10_img339.png (deflated 2%)\r\n",
      "  adding: kaggle/working/test_evaluation_plots/epoc_10_img605.png (deflated 2%)\r\n",
      "  adding: kaggle/working/test_evaluation_plots/epoc_10_img411.png (deflated 2%)\r\n",
      "  adding: kaggle/working/test_evaluation_plots/epoc_10_img53.png (deflated 2%)\r\n",
      "  adding: kaggle/working/test_evaluation_plots/epoc_10_img635.png (deflated 2%)\r\n",
      "  adding: kaggle/working/test_evaluation_plots/epoc_10_img355.png (deflated 2%)\r\n",
      "  adding: kaggle/working/test_evaluation_plots/epoc_10_img393.png (deflated 2%)\r\n",
      "  adding: kaggle/working/test_evaluation_plots/epoc_10_img17.png (deflated 2%)\r\n",
      "  adding: kaggle/working/test_evaluation_plots/epoc_10_img115.png (deflated 2%)\r\n",
      "  adding: kaggle/working/test_evaluation_plots/epoc_10_img257.png (deflated 2%)\r\n",
      "  adding: kaggle/working/test_evaluation_plots/epoc_10_img321.png (deflated 2%)\r\n",
      "  adding: kaggle/working/test_evaluation_plots/epoc_10_img449.png (deflated 2%)\r\n",
      "  adding: kaggle/working/test_evaluation_plots/epoc_10_img29.png (deflated 2%)\r\n",
      "  adding: kaggle/working/test_evaluation_plots/epoc_10_img73.png (deflated 2%)\r\n",
      "  adding: kaggle/working/test_evaluation_plots/epoc_10_img235.png (deflated 2%)\r\n",
      "  adding: kaggle/working/test_evaluation_plots/epoc_10_img603.png (deflated 2%)\r\n",
      "  adding: kaggle/working/test_evaluation_plots/epoc_10_img1.png (deflated 2%)\r\n",
      "  adding: kaggle/working/test_evaluation_plots/epoc_10_img5.png (deflated 2%)\r\n",
      "  adding: kaggle/working/test_evaluation_plots/epoc_10_img135.png (deflated 2%)\r\n",
      "  adding: kaggle/working/test_evaluation_plots/epoc_10_img323.png (deflated 2%)\r\n",
      "  adding: kaggle/working/test_evaluation_plots/epoc_10_img291.png (deflated 2%)\r\n",
      "  adding: kaggle/working/test_evaluation_plots/epoc_10_img495.png (deflated 2%)\r\n",
      "  adding: kaggle/working/test_evaluation_plots/epoc_10_img513.png (deflated 2%)\r\n",
      "  adding: kaggle/working/test_evaluation_plots/epoc_10_img319.png (deflated 2%)\r\n",
      "  adding: kaggle/working/test_evaluation_plots/epoc_10_img637.png (deflated 2%)\r\n",
      "  adding: kaggle/working/test_evaluation_plots/epoc_10_img529.png (deflated 2%)\r\n",
      "  adding: kaggle/working/test_evaluation_plots/epoc_10_img503.png (deflated 2%)\r\n",
      "  adding: kaggle/working/test_evaluation_plots/epoc_10_img501.png (deflated 2%)\r\n",
      "  adding: kaggle/working/test_evaluation_plots/epoc_10_img561.png (deflated 2%)\r\n",
      "  adding: kaggle/working/test_evaluation_plots/epoc_10_img193.png (deflated 2%)\r\n",
      "  adding: kaggle/working/test_evaluation_plots/epoc_10_img659.png (deflated 2%)\r\n",
      "  adding: kaggle/working/test_evaluation_plots/epoc_10_img87.png (deflated 2%)\r\n",
      "  adding: kaggle/working/test_evaluation_plots/epoc_10_img15.png (deflated 2%)\r\n",
      "  adding: kaggle/working/test_evaluation_plots/epoc_10_img565.png (deflated 2%)\r\n",
      "  adding: kaggle/working/test_evaluation_plots/epoc_10_img43.png (deflated 2%)\r\n",
      "  adding: kaggle/working/test_evaluation_plots/epoc_10_img423.png (deflated 2%)\r\n",
      "  adding: kaggle/working/test_evaluation_plots/epoc_10_img597.png (deflated 2%)\r\n",
      "  adding: kaggle/working/test_evaluation_plots/epoc_10_img481.png (deflated 2%)\r\n",
      "  adding: kaggle/working/test_evaluation_plots/epoc_10_img639.png (deflated 2%)\r\n",
      "  adding: kaggle/working/test_evaluation_plots/epoc_10_img203.png (deflated 2%)\r\n",
      "  adding: kaggle/working/test_evaluation_plots/epoc_10_img185.png (deflated 2%)\r\n",
      "  adding: kaggle/working/test_evaluation_plots/epoc_10_img519.png (deflated 2%)\r\n",
      "  adding: kaggle/working/test_evaluation_plots/epoc_10_img557.png (deflated 2%)\r\n",
      "  adding: kaggle/working/test_evaluation_plots/epoc_10_img35.png (deflated 2%)\r\n",
      "  adding: kaggle/working/test_evaluation_plots/epoc_10_img275.png (deflated 2%)\r\n",
      "  adding: kaggle/working/test_evaluation_plots/epoc_10_img191.png (deflated 2%)\r\n",
      "  adding: kaggle/working/test_evaluation_plots/epoc_10_img589.png (deflated 2%)\r\n",
      "  adding: kaggle/working/test_evaluation_plots/epoc_10_img531.png (deflated 2%)\r\n",
      "  adding: kaggle/working/test_evaluation_plots/epoc_10_img391.png (deflated 2%)\r\n",
      "  adding: kaggle/working/test_evaluation_plots/epoc_10_img255.png (deflated 2%)\r\n",
      "  adding: kaggle/working/test_evaluation_plots/epoc_10_img81.png (deflated 2%)\r\n",
      "  adding: kaggle/working/test_evaluation_plots/epoc_10_img571.png (deflated 1%)\r\n",
      "  adding: kaggle/working/test_evaluation_plots/epoc_10_img413.png (deflated 2%)\r\n",
      "  adding: kaggle/working/test_evaluation_plots/epoc_10_img401.png (deflated 2%)\r\n",
      "  adding: kaggle/working/test_evaluation_plots/epoc_10_img21.png (deflated 2%)\r\n",
      "  adding: kaggle/working/test_evaluation_plots/epoc_10_img129.png (deflated 2%)\r\n",
      "  adding: kaggle/working/test_evaluation_plots/epoc_10_img549.png (deflated 2%)\r\n",
      "  adding: kaggle/working/test_evaluation_plots/epoc_10_img507.png (deflated 2%)\r\n",
      "  adding: kaggle/working/test_evaluation_plots/epoc_10_img183.png (deflated 2%)\r\n",
      "  adding: kaggle/working/test_evaluation_plots/epoc_10_img61.png (deflated 2%)\r\n",
      "  adding: kaggle/working/test_evaluation_plots/epoc_10_img227.png (deflated 2%)\r\n",
      "  adding: kaggle/working/test_evaluation_plots/epoc_10_img281.png (deflated 2%)\r\n",
      "  adding: kaggle/working/test_evaluation_plots/epoc_10_img477.png (deflated 2%)\r\n",
      "  adding: kaggle/working/test_evaluation_plots/epoc_10_img661.png (deflated 2%)\r\n",
      "  adding: kaggle/working/test_evaluation_plots/epoc_10_img611.png (deflated 2%)\r\n",
      "  adding: kaggle/working/test_evaluation_plots/epoc_10_img179.png (deflated 2%)\r\n",
      "  adding: kaggle/working/test_evaluation_plots/epoc_10_img471.png (deflated 2%)\r\n",
      "  adding: kaggle/working/test_evaluation_plots/epoc_10_img585.png (deflated 1%)\r\n",
      "  adding: kaggle/working/test_evaluation_plots/epoc_10_img239.png (deflated 2%)\r\n",
      "  adding: kaggle/working/test_evaluation_plots/epoc_10_img483.png (deflated 2%)\r\n",
      "  adding: kaggle/working/test_evaluation_plots/epoc_10_img63.png (deflated 2%)\r\n",
      "  adding: kaggle/working/test_evaluation_plots/epoc_10_img199.png (deflated 2%)\r\n",
      "  adding: kaggle/working/test_evaluation_plots/epoc_10_img67.png (deflated 2%)\r\n",
      "  adding: kaggle/working/test_evaluation_plots/epoc_10_img527.png (deflated 2%)\r\n",
      "  adding: kaggle/working/test_evaluation_plots/epoc_10_img649.png (deflated 2%)\r\n",
      "  adding: kaggle/working/test_evaluation_plots/epoc_10_img409.png (deflated 2%)\r\n",
      "  adding: kaggle/working/test_evaluation_plots/epoc_10_img109.png (deflated 2%)\r\n",
      "  adding: kaggle/working/test_evaluation_plots/epoc_10_img161.png (deflated 2%)\r\n",
      "  adding: kaggle/working/test_evaluation_plots/epoc_10_img223.png (deflated 2%)\r\n",
      "  adding: kaggle/working/test_evaluation_plots/epoc_10_img469.png (deflated 2%)\r\n",
      "  adding: kaggle/working/test_evaluation_plots/epoc_10_img523.png (deflated 2%)\r\n",
      "  adding: kaggle/working/test_evaluation_plots/epoc_10_img337.png (deflated 2%)\r\n",
      "  adding: kaggle/working/test_evaluation_plots/epoc_10_img485.png (deflated 2%)\r\n",
      "  adding: kaggle/working/test_evaluation_plots/epoc_10_img511.png (deflated 2%)\r\n",
      "  adding: kaggle/working/test_evaluation_plots/epoc_10_img201.png (deflated 2%)\r\n",
      "  adding: kaggle/working/test_evaluation_plots/epoc_10_img623.png (deflated 2%)\r\n",
      "  adding: kaggle/working/test_evaluation_plots/epoc_10_img65.png (deflated 2%)\r\n",
      "  adding: kaggle/working/test_evaluation_plots/epoc_10_img579.png (deflated 2%)\r\n",
      "  adding: kaggle/working/test_evaluation_plots/epoc_10_img245.png (deflated 2%)\r\n",
      "  adding: kaggle/working/test_evaluation_plots/epoc_10_img335.png (deflated 2%)\r\n",
      "  adding: kaggle/working/test_evaluation_plots/epoc_10_img405.png (deflated 2%)\r\n",
      "  adding: kaggle/working/test_evaluation_plots/epoc_10_img517.png (deflated 2%)\r\n",
      "  adding: kaggle/working/test_evaluation_plots/epoc_10_img265.png (deflated 2%)\r\n",
      "  adding: kaggle/working/test_evaluation_plots/epoc_10_img213.png (deflated 2%)\r\n",
      "  adding: kaggle/working/test_evaluation_plots/epoc_10_img651.png (deflated 2%)\r\n",
      "  adding: kaggle/working/test_evaluation_plots/epoc_10_img371.png (deflated 2%)\r\n",
      "  adding: kaggle/working/test_evaluation_plots/epoc_10_img417.png (deflated 2%)\r\n",
      "  adding: kaggle/working/test_evaluation_plots/epoc_10_img69.png (deflated 2%)\r\n",
      "  adding: kaggle/working/test_evaluation_plots/epoc_10_img283.png (deflated 2%)\r\n",
      "  adding: kaggle/working/test_evaluation_plots/epoc_10_img357.png (deflated 2%)\r\n",
      "  adding: kaggle/working/test_evaluation_plots/epoc_10_img443.png (deflated 2%)\r\n",
      "  adding: kaggle/working/test_evaluation_plots/epoc_10_img665.png (deflated 1%)\r\n",
      "  adding: kaggle/working/test_evaluation_plots/epoc_10_img117.png (deflated 2%)\r\n",
      "  adding: kaggle/working/test_evaluation_plots/epoc_10_img453.png (deflated 2%)\r\n",
      "  adding: kaggle/working/test_evaluation_plots/epoc_10_img107.png (deflated 2%)\r\n",
      "  adding: kaggle/working/test_evaluation_plots/epoc_10_img39.png (deflated 2%)\r\n",
      "  adding: kaggle/working/test_evaluation_plots/epoc_10_img145.png (deflated 2%)\r\n",
      "  adding: kaggle/working/test_evaluation_plots/epoc_10_img421.png (deflated 2%)\r\n",
      "  adding: kaggle/working/test_evaluation_plots/epoc_10_img415.png (deflated 2%)\r\n",
      "  adding: kaggle/working/test_evaluation_plots/epoc_10_img49.png (deflated 2%)\r\n",
      "  adding: kaggle/working/test_evaluation_plots/epoc_10_img327.png (deflated 2%)\r\n",
      "  adding: kaggle/working/test_evaluation_plots/epoc_10_img459.png (deflated 2%)\r\n",
      "  adding: kaggle/working/test_evaluation_plots/epoc_10_img395.png (deflated 2%)\r\n",
      "  adding: kaggle/working/test_evaluation_plots/epoc_10_img189.png (deflated 2%)\r\n",
      "  adding: kaggle/working/test_evaluation_plots/epoc_10_img629.png (deflated 2%)\r\n",
      "  adding: kaggle/working/test_evaluation_plots/epoc_10_img569.png (deflated 2%)\r\n",
      "  adding: kaggle/working/test_evaluation_plots/epoc_10_img375.png (deflated 2%)\r\n",
      "  adding: kaggle/working/test_evaluation_plots/epoc_10_img59.png (deflated 2%)\r\n",
      "  adding: kaggle/working/test_evaluation_plots/epoc_10_img55.png (deflated 2%)\r\n",
      "  adding: kaggle/working/test_evaluation_plots/epoc_10_img595.png (deflated 2%)\r\n",
      "  adding: kaggle/working/test_evaluation_plots/epoc_10_img19.png (deflated 2%)\r\n",
      "  adding: kaggle/working/test_evaluation_plots/epoc_10_img447.png (deflated 2%)\r\n",
      "  adding: kaggle/working/test_evaluation_plots/epoc_10_img669.png (deflated 2%)\r\n",
      "  adding: kaggle/working/test_evaluation_plots/epoc_10_img343.png (deflated 2%)\r\n",
      "  adding: kaggle/working/test_evaluation_plots/epoc_10_img647.png (deflated 2%)\r\n",
      "  adding: kaggle/working/test_evaluation_plots/epoc_10_img451.png (deflated 2%)\r\n",
      "  adding: kaggle/working/test_evaluation_plots/epoc_10_img389.png (deflated 2%)\r\n",
      "  adding: kaggle/working/test_evaluation_plots/epoc_10_img331.png (deflated 2%)\r\n",
      "  adding: kaggle/working/test_evaluation_plots/epoc_10_img123.png (deflated 2%)\r\n",
      "  adding: kaggle/working/test_evaluation_plots/epoc_10_img403.png (deflated 2%)\r\n",
      "  adding: kaggle/working/test_evaluation_plots/epoc_10_img381.png (deflated 2%)\r\n",
      "  adding: kaggle/working/test_evaluation_plots/epoc_10_img197.png (deflated 2%)\r\n",
      "  adding: kaggle/working/test_evaluation_plots/epoc_10_img473.png (deflated 2%)\r\n",
      "  adding: kaggle/working/test_evaluation_plots/epoc_10_img173.png (deflated 2%)\r\n",
      "  adding: kaggle/working/test_evaluation_plots/epoc_10_img195.png (deflated 2%)\r\n",
      "  adding: kaggle/working/test_evaluation_plots/epoc_10_img175.png (deflated 2%)\r\n",
      "  adding: kaggle/working/test_evaluation_plots/epoc_10_img615.png (deflated 2%)\r\n",
      "  adding: kaggle/working/test_evaluation_plots/epoc_10_img221.png (deflated 2%)\r\n",
      "  adding: kaggle/working/test_evaluation_plots/epoc_10_img167.png (deflated 2%)\r\n",
      "  adding: kaggle/working/test_evaluation_plots/epoc_10_img307.png (deflated 2%)\r\n",
      "  adding: kaggle/working/test_evaluation_plots/epoc_10_img627.png (deflated 2%)\r\n",
      "  adding: kaggle/working/test_evaluation_plots/epoc_10_img261.png (deflated 2%)\r\n",
      "  adding: kaggle/working/test_evaluation_plots/epoc_10_img505.png (deflated 2%)\r\n",
      "  adding: kaggle/working/test_evaluation_plots/epoc_10_img621.png (deflated 2%)\r\n",
      "  adding: kaggle/working/test_evaluation_plots/epoc_10_img493.png (deflated 2%)\r\n",
      "  adding: kaggle/working/test_evaluation_plots/epoc_10_img79.png (deflated 3%)\r\n",
      "  adding: kaggle/working/test_evaluation_plots/epoc_10_img553.png (deflated 2%)\r\n",
      "  adding: kaggle/working/test_evaluation_plots/epoc_10_img151.png (deflated 2%)\r\n",
      "  adding: kaggle/working/test_evaluation_plots/epoc_10_img667.png (deflated 2%)\r\n",
      "  adding: kaggle/working/test_evaluation_plots/epoc_10_img305.png (deflated 2%)\r\n",
      "  adding: kaggle/working/test_evaluation_plots/epoc_10_img77.png (deflated 3%)\r\n",
      "  adding: kaggle/working/test_evaluation_plots/epoc_10_img363.png (deflated 2%)\r\n",
      "  adding: kaggle/working/test_evaluation_plots/epoc_10_img9.png (deflated 2%)\r\n",
      "  adding: kaggle/working/test_evaluation_plots/epoc_10_img543.png (deflated 2%)\r\n",
      "  adding: kaggle/working/test_evaluation_plots/epoc_10_img207.png (deflated 2%)\r\n",
      "  adding: kaggle/working/test_evaluation_plots/epoc_10_img671.png (deflated 2%)\r\n",
      "  adding: kaggle/working/test_evaluation_plots/epoc_10_img105.png (deflated 2%)\r\n",
      "  adding: kaggle/working/test_evaluation_plots/epoc_10_img237.png (deflated 2%)\r\n",
      "  adding: kaggle/working/test_evaluation_plots/epoc_10_img383.png (deflated 2%)\r\n",
      "  adding: kaggle/working/test_evaluation_plots/epoc_10_img273.png (deflated 2%)\r\n",
      "  adding: kaggle/working/test_evaluation_plots/epoc_10_img593.png (deflated 2%)\r\n",
      "  adding: kaggle/working/test_evaluation_plots/epoc_10_img435.png (deflated 2%)\r\n"
     ]
    }
   ],
   "source": [
    "for img_i in range(1,len(test_dataset)//2,2):\n",
    "    save_some_examples(gen_model, test_dataset, NUM_EPOCHS, folder=\"test_evaluation_plots\",cm_input=INPUT_CHANGE_MAP, img_indx=img_i)\n",
    "!zip -r /kaggle/working/test_evalplot.zip  /kaggle/working/test_evaluation_plots/"
   ]
  },
  {
   "cell_type": "code",
   "execution_count": 23,
   "id": "4acb4a3e",
   "metadata": {
    "execution": {
     "iopub.execute_input": "2023-04-24T15:35:51.304817Z",
     "iopub.status.busy": "2023-04-24T15:35:51.304408Z",
     "iopub.status.idle": "2023-04-24T15:35:54.090457Z",
     "shell.execute_reply": "2023-04-24T15:35:54.089200Z"
    },
    "papermill": {
     "duration": 3.171316,
     "end_time": "2023-04-24T15:35:54.094514",
     "exception": false,
     "start_time": "2023-04-24T15:35:50.923198",
     "status": "completed"
    },
    "tags": []
   },
   "outputs": [
    {
     "name": "stdout",
     "output_type": "stream",
     "text": [
      "  adding: kaggle/working/train_evaluation_plots/ (stored 0%)\r\n",
      "  adding: kaggle/working/train_evaluation_plots/epoc_7_img512.png (deflated 2%)\r\n",
      "  adding: kaggle/working/train_evaluation_plots/epoc_7_img32.png (deflated 2%)\r\n",
      "  adding: kaggle/working/train_evaluation_plots/epoc_10_img256.png (deflated 2%)\r\n",
      "  adding: kaggle/working/train_evaluation_plots/epoc_8_img128.png (deflated 2%)\r\n",
      "  adding: kaggle/working/train_evaluation_plots/epoc_5_img64.png (deflated 2%)\r\n",
      "  adding: kaggle/working/train_evaluation_plots/epoc_9_img64.png (deflated 2%)\r\n",
      "  adding: kaggle/working/train_evaluation_plots/epoc_8_img64.png (deflated 2%)\r\n",
      "  adding: kaggle/working/train_evaluation_plots/epoc_1_img256.png (deflated 2%)\r\n",
      "  adding: kaggle/working/train_evaluation_plots/epoc_4_img256.png (deflated 2%)\r\n",
      "  adding: kaggle/working/train_evaluation_plots/epoc_1_img512.png (deflated 1%)\r\n",
      "  adding: kaggle/working/train_evaluation_plots/epoc_6_img512.png (deflated 2%)\r\n",
      "  adding: kaggle/working/train_evaluation_plots/epoc_7_img64.png (deflated 2%)\r\n",
      "  adding: kaggle/working/train_evaluation_plots/epoc_2_img1024.png (deflated 2%)\r\n",
      "  adding: kaggle/working/train_evaluation_plots/epoc_8_img512.png (deflated 2%)\r\n",
      "  adding: kaggle/working/train_evaluation_plots/epoc_7_img1024.png (deflated 2%)\r\n",
      "  adding: kaggle/working/train_evaluation_plots/epoc_10_img64.png (deflated 2%)\r\n",
      "  adding: kaggle/working/train_evaluation_plots/epoc_1_img1024.png (deflated 2%)\r\n",
      "  adding: kaggle/working/train_evaluation_plots/epoc_6_img32.png (deflated 2%)\r\n",
      "  adding: kaggle/working/train_evaluation_plots/epoc_5_img32.png (deflated 2%)\r\n",
      "  adding: kaggle/working/train_evaluation_plots/epoc_9_img1024.png (deflated 2%)\r\n",
      "  adding: kaggle/working/train_evaluation_plots/epoc_3_img64.png (deflated 2%)\r\n",
      "  adding: kaggle/working/train_evaluation_plots/epoc_3_img128.png (deflated 2%)\r\n",
      "  adding: kaggle/working/train_evaluation_plots/epoc_9_img512.png (deflated 2%)\r\n",
      "  adding: kaggle/working/train_evaluation_plots/epoc_4_img64.png (deflated 2%)\r\n",
      "  adding: kaggle/working/train_evaluation_plots/epoc_9_img1.png (deflated 2%)\r\n",
      "  adding: kaggle/working/train_evaluation_plots/epoc_10_img128.png (deflated 2%)\r\n",
      "  adding: kaggle/working/train_evaluation_plots/epoc_5_img1.png (deflated 2%)\r\n",
      "  adding: kaggle/working/train_evaluation_plots/epoc_3_img1.png (deflated 2%)\r\n",
      "  adding: kaggle/working/train_evaluation_plots/epoc_6_img64.png (deflated 2%)\r\n",
      "  adding: kaggle/working/train_evaluation_plots/epoc_2_img32.png (deflated 2%)\r\n",
      "  adding: kaggle/working/train_evaluation_plots/epoc_6_img1.png (deflated 2%)\r\n",
      "  adding: kaggle/working/train_evaluation_plots/epoc_7_img256.png (deflated 2%)\r\n",
      "  adding: kaggle/working/train_evaluation_plots/epoc_4_img32.png (deflated 2%)\r\n",
      "  adding: kaggle/working/train_evaluation_plots/epoc_2_img128.png (deflated 2%)\r\n",
      "  adding: kaggle/working/train_evaluation_plots/epoc_9_img256.png (deflated 2%)\r\n",
      "  adding: kaggle/working/train_evaluation_plots/epoc_10_img1.png (deflated 2%)\r\n",
      "  adding: kaggle/working/train_evaluation_plots/epoc_1_img1.png (deflated 2%)\r\n",
      "  adding: kaggle/working/train_evaluation_plots/epoc_10_img512.png (deflated 2%)\r\n",
      "  adding: kaggle/working/train_evaluation_plots/epoc_6_img1024.png (deflated 2%)\r\n",
      "  adding: kaggle/working/train_evaluation_plots/epoc_7_img128.png (deflated 2%)\r\n",
      "  adding: kaggle/working/train_evaluation_plots/epoc_2_img256.png (deflated 2%)\r\n",
      "  adding: kaggle/working/train_evaluation_plots/epoc_1_img128.png (deflated 2%)\r\n",
      "  adding: kaggle/working/train_evaluation_plots/epoc_5_img256.png (deflated 2%)\r\n",
      "  adding: kaggle/working/train_evaluation_plots/epoc_3_img32.png (deflated 2%)\r\n",
      "  adding: kaggle/working/train_evaluation_plots/epoc_4_img512.png (deflated 2%)\r\n",
      "  adding: kaggle/working/train_evaluation_plots/epoc_3_img1024.png (deflated 2%)\r\n",
      "  adding: kaggle/working/train_evaluation_plots/epoc_3_img256.png (deflated 2%)\r\n",
      "  adding: kaggle/working/train_evaluation_plots/epoc_5_img1024.png (deflated 2%)\r\n",
      "  adding: kaggle/working/train_evaluation_plots/epoc_7_img1.png (deflated 2%)\r\n",
      "  adding: kaggle/working/train_evaluation_plots/epoc_2_img64.png (deflated 2%)\r\n",
      "  adding: kaggle/working/train_evaluation_plots/epoc_5_img128.png (deflated 2%)\r\n",
      "  adding: kaggle/working/train_evaluation_plots/epoc_10_img32.png (deflated 2%)\r\n",
      "  adding: kaggle/working/train_evaluation_plots/epoc_10_img1024.png (deflated 2%)\r\n",
      "  adding: kaggle/working/train_evaluation_plots/epoc_4_img1024.png (deflated 2%)\r\n",
      "  adding: kaggle/working/train_evaluation_plots/epoc_9_img32.png (deflated 2%)\r\n",
      "  adding: kaggle/working/train_evaluation_plots/epoc_8_img256.png (deflated 2%)\r\n",
      "  adding: kaggle/working/train_evaluation_plots/epoc_8_img32.png (deflated 2%)\r\n",
      "  adding: kaggle/working/train_evaluation_plots/epoc_8_img1024.png (deflated 2%)\r\n",
      "  adding: kaggle/working/train_evaluation_plots/epoc_1_img64.png (deflated 2%)\r\n",
      "  adding: kaggle/working/train_evaluation_plots/epoc_6_img256.png (deflated 2%)\r\n",
      "  adding: kaggle/working/train_evaluation_plots/epoc_4_img1.png (deflated 2%)\r\n",
      "  adding: kaggle/working/train_evaluation_plots/epoc_4_img128.png (deflated 2%)\r\n",
      "  adding: kaggle/working/train_evaluation_plots/epoc_9_img128.png (deflated 2%)\r\n",
      "  adding: kaggle/working/train_evaluation_plots/epoc_1_img32.png (deflated 2%)\r\n",
      "  adding: kaggle/working/train_evaluation_plots/epoc_2_img512.png (deflated 2%)\r\n",
      "  adding: kaggle/working/train_evaluation_plots/epoc_6_img128.png (deflated 2%)\r\n",
      "  adding: kaggle/working/train_evaluation_plots/epoc_5_img512.png (deflated 2%)\r\n",
      "  adding: kaggle/working/train_evaluation_plots/epoc_2_img1.png (deflated 2%)\r\n",
      "  adding: kaggle/working/train_evaluation_plots/epoc_8_img1.png (deflated 2%)\r\n",
      "  adding: kaggle/working/train_evaluation_plots/epoc_3_img512.png (deflated 2%)\r\n"
     ]
    }
   ],
   "source": [
    "!zip -r /kaggle/working/train_evalplot.zip  /kaggle/working/train_evaluation_plots/"
   ]
  },
  {
   "cell_type": "code",
   "execution_count": 24,
   "id": "2860c1fd",
   "metadata": {
    "execution": {
     "iopub.execute_input": "2023-04-24T15:35:55.233534Z",
     "iopub.status.busy": "2023-04-24T15:35:55.233127Z",
     "iopub.status.idle": "2023-04-24T15:35:55.237963Z",
     "shell.execute_reply": "2023-04-24T15:35:55.236884Z"
    },
    "papermill": {
     "duration": 0.484021,
     "end_time": "2023-04-24T15:35:55.240107",
     "exception": false,
     "start_time": "2023-04-24T15:35:54.756086",
     "status": "completed"
    },
    "tags": []
   },
   "outputs": [],
   "source": [
    "# from IPython.display import FileLink\n",
    "# FileLink(r'/kaggle/working/evalplot.zip')"
   ]
  },
  {
   "cell_type": "code",
   "execution_count": 25,
   "id": "78bcba1f",
   "metadata": {
    "execution": {
     "iopub.execute_input": "2023-04-24T15:35:56.103616Z",
     "iopub.status.busy": "2023-04-24T15:35:56.102631Z",
     "iopub.status.idle": "2023-04-24T15:35:56.115824Z",
     "shell.execute_reply": "2023-04-24T15:35:56.114762Z"
    },
    "papermill": {
     "duration": 0.424422,
     "end_time": "2023-04-24T15:35:56.118010",
     "exception": false,
     "start_time": "2023-04-24T15:35:55.693588",
     "status": "completed"
    },
    "tags": []
   },
   "outputs": [],
   "source": [
    "def eval_graph_fn(gen, loader, ssim, psnr):\n",
    "    gen.eval()\n",
    "    loop = tqdm(loader, leave=True)\n",
    "    \n",
    "    wssim_ratio_list = []\n",
    "    wpsnr_ratio_list = []\n",
    "    s1cm_mean_list   = []\n",
    "    \n",
    "    for idx, (s2t2,s1t2,s2t1,s1t1,cm,rcm,s1cm) in enumerate(loop):\n",
    "        s2t2,s1t2,s2t1,s1t1,cm,rcm,s1cm = s2t2.to(DEVICE),s1t2.to(DEVICE),s2t1.to(DEVICE),s1t1.to(DEVICE),cm.to(DEVICE),rcm.to(DEVICE),s1cm.to(DEVICE)\n",
    "        s2t2,s1t2,s2t1,s1t1,cm,rcm,s1cm = s2t2.to(torch.float32),s1t2.to(torch.float32),s2t1.to(torch.float32),s1t1.to(torch.float32),cm.to(torch.float32),rcm.to(torch.float32),s1cm.to(torch.float32)\n",
    "        if INPUT_CHANGE_MAP:\n",
    "            s2t2 = torch.cat((s2t2, cm), dim=1)\n",
    "            s1t1 = torch.cat((s1t1, rcm), dim=1)\n",
    "        preds = gen(s2t2, s1t1)\n",
    "        \n",
    "        s1t2_list = s1t2.to(\"cpu\").chunk(s1t2.size(0))\n",
    "        preds_list = preds.to(\"cpu\").chunk(preds.size(0))\n",
    "        s1cm_list = s1cm.to(\"cpu\").chunk(s1cm.size(0))\n",
    "        \n",
    "        \n",
    "        wssim_ratio_batch_list = [ssim((s1t2, preds), s1cm)/ssim((s1t2, preds)) for s1t2, preds, s1cm in zip(s1t2_list, preds_list, s1cm_list)]\n",
    "        wpsnr_ratio_batch_list = [psnr((s1t2, preds))-psnr((s1t2, preds), s1cm) for s1t2, preds, s1cm in zip(s1t2_list, preds_list, s1cm_list)]\n",
    "        s1cm_mean_batch_list   = [s1cm.mean() for s1cm in s1cm_list]\n",
    "        \n",
    "        wssim_ratio_list = wssim_ratio_list + wssim_ratio_batch_list\n",
    "        wpsnr_ratio_list = wpsnr_ratio_list + wpsnr_ratio_batch_list\n",
    "        s1cm_mean_list   = s1cm_mean_list   + s1cm_mean_batch_list  \n",
    "    \n",
    "    return wssim_ratio_list, wpsnr_ratio_list, s1cm_mean_list"
   ]
  },
  {
   "cell_type": "code",
   "execution_count": 26,
   "id": "1aa51ac0",
   "metadata": {
    "execution": {
     "iopub.execute_input": "2023-04-24T15:35:56.893859Z",
     "iopub.status.busy": "2023-04-24T15:35:56.892917Z",
     "iopub.status.idle": "2023-04-24T15:37:23.869311Z",
     "shell.execute_reply": "2023-04-24T15:37:23.866907Z"
    },
    "papermill": {
     "duration": 87.366486,
     "end_time": "2023-04-24T15:37:23.871654",
     "exception": false,
     "start_time": "2023-04-24T15:35:56.505168",
     "status": "completed"
    },
    "tags": []
   },
   "outputs": [
    {
     "name": "stderr",
     "output_type": "stream",
     "text": [
      "100%|██████████| 339/339 [01:26<00:00,  3.90it/s]\n"
     ]
    }
   ],
   "source": [
    "ssim_ratio_list, wpsnr_ratio_list, s1cm_mean_list = eval_graph_fn(gen_model, test_loader, wssim, wpsnr)"
   ]
  },
  {
   "cell_type": "code",
   "execution_count": 27,
   "id": "7c1d59f3",
   "metadata": {
    "execution": {
     "iopub.execute_input": "2023-04-24T15:37:24.748418Z",
     "iopub.status.busy": "2023-04-24T15:37:24.747301Z",
     "iopub.status.idle": "2023-04-24T15:37:25.005779Z",
     "shell.execute_reply": "2023-04-24T15:37:25.004762Z"
    },
    "papermill": {
     "duration": 0.668077,
     "end_time": "2023-04-24T15:37:25.008051",
     "exception": false,
     "start_time": "2023-04-24T15:37:24.339974",
     "status": "completed"
    },
    "tags": []
   },
   "outputs": [
    {
     "data": {
      "text/plain": [
       "[<matplotlib.lines.Line2D at 0x75b7cb053250>]"
      ]
     },
     "execution_count": 27,
     "metadata": {},
     "output_type": "execute_result"
    },
    {
     "data": {
      "image/png": "[encoded data removed]",
      "text/plain": [
       "<Figure size 640x480 with 1 Axes>"
      ]
     },
     "metadata": {},
     "output_type": "display_data"
    }
   ],
   "source": [
    "plt.plot(ssim_ratio_list,s1cm_mean_list)"
   ]
  },
  {
   "cell_type": "code",
   "execution_count": null,
   "id": "9023db26",
   "metadata": {
    "papermill": {
     "duration": 0.447115,
     "end_time": "2023-04-24T15:37:25.854649",
     "exception": false,
     "start_time": "2023-04-24T15:37:25.407534",
     "status": "completed"
    },
    "tags": []
   },
   "outputs": [],
   "source": []
  }
 ],
 "metadata": {
  "kernelspec": {
   "display_name": "Python 3",
   "language": "python",
   "name": "python3"
  },
  "language_info": {
   "codemirror_mode": {
    "name": "ipython",
    "version": 3
   },
   "file_extension": ".py",
   "mimetype": "text/x-python",
   "name": "python",
   "nbconvert_exporter": "python",
   "pygments_lexer": "ipython3",
   "version": "3.7.12"
  },
  "papermill": {
   "default_parameters": {},
   "duration": 2985.284311,
   "end_time": "2023-04-24T15:37:29.293552",
   "environment_variables": {},
   "exception": null,
   "input_path": "__notebook__.ipynb",
   "output_path": "__notebook__.ipynb",
   "parameters": {},
   "start_time": "2023-04-24T14:47:44.009241",
   "version": "2.4.0"
  }
 },
 "nbformat": 4,
 "nbformat_minor": 5
}
