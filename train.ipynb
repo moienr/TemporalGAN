{
 "cells": [
  {
   "cell_type": "code",
   "execution_count": 1,
   "id": "051d3171",
   "metadata": {
    "execution": {
     "iopub.execute_input": "2023-04-30T09:36:10.852077Z",
     "iopub.status.busy": "2023-04-30T09:36:10.851597Z",
     "iopub.status.idle": "2023-04-30T09:36:10.866089Z",
     "shell.execute_reply": "2023-04-30T09:36:10.864955Z"
    },
    "papermill": {
     "duration": 0.026661,
     "end_time": "2023-04-30T09:36:10.869353",
     "exception": false,
     "start_time": "2023-04-30T09:36:10.842692",
     "status": "completed"
    },
    "tags": []
   },
   "outputs": [
    {
     "data": {
      "text/plain": [
       "True"
      ]
     },
     "execution_count": 1,
     "metadata": {},
     "output_type": "execute_result"
    }
   ],
   "source": [
    "import os\n",
    "IN_KAGGLE = 'KAGGLE_URL_BASE' in os.environ\n",
    "IN_KAGGLE"
   ]
  },
  {
   "cell_type": "code",
   "execution_count": 2,
   "id": "ec11ad2d",
   "metadata": {
    "execution": {
     "iopub.execute_input": "2023-04-30T09:36:10.884919Z",
     "iopub.status.busy": "2023-04-30T09:36:10.883995Z",
     "iopub.status.idle": "2023-04-30T09:36:16.440212Z",
     "shell.execute_reply": "2023-04-30T09:36:16.439027Z"
    },
    "papermill": {
     "duration": 5.566441,
     "end_time": "2023-04-30T09:36:16.442784",
     "exception": false,
     "start_time": "2023-04-30T09:36:10.876343",
     "status": "completed"
    },
    "tags": []
   },
   "outputs": [
    {
     "name": "stdout",
     "output_type": "stream",
     "text": [
      "Cloning into 'TemporalGAN'...\r\n",
      "remote: Enumerating objects: 1455, done.\u001b[K\r\n",
      "remote: Counting objects: 100% (366/366), done.\u001b[K\r\n",
      "remote: Compressing objects: 100% (207/207), done.\u001b[K\r\n",
      "remote: Total 1455 (delta 222), reused 289 (delta 155), pack-reused 1089\u001b[K\r\n",
      "Receiving objects: 100% (1455/1455), 85.25 MiB | 31.03 MiB/s, done.\r\n",
      "Resolving deltas: 100% (954/954), done.\r\n"
     ]
    }
   ],
   "source": [
    "if IN_KAGGLE:\n",
    "    from kaggle_secrets import UserSecretsClient\n",
    "    user_secrets = UserSecretsClient()\n",
    "    secret_value = user_secrets.get_secret(\"gittoken2\")\n",
    "\n",
    "    !git clone https://{secret_value}@github.com/moienr/TemporalGAN.git"
   ]
  },
  {
   "cell_type": "code",
   "execution_count": 3,
   "id": "deccdc37",
   "metadata": {
    "execution": {
     "iopub.execute_input": "2023-04-30T09:36:16.460359Z",
     "iopub.status.busy": "2023-04-30T09:36:16.459321Z",
     "iopub.status.idle": "2023-04-30T09:36:16.466780Z",
     "shell.execute_reply": "2023-04-30T09:36:16.465333Z"
    },
    "papermill": {
     "duration": 0.018263,
     "end_time": "2023-04-30T09:36:16.468912",
     "exception": false,
     "start_time": "2023-04-30T09:36:16.450649",
     "status": "completed"
    },
    "tags": []
   },
   "outputs": [
    {
     "name": "stdout",
     "output_type": "stream",
     "text": [
      "path found...\n"
     ]
    }
   ],
   "source": [
    "if IN_KAGGLE:\n",
    "    import time\n",
    "    import os\n",
    "    sleep_time = 5\n",
    "    while not os.path.exists(\"/kaggle/working/TemporalGAN\"):\n",
    "        print(\"didn't find the path, wating {sleep_time} more seconds...\")\n",
    "        time.sleep(sleep_time)\n",
    "    print(\"path found...\")\n",
    "    import sys\n",
    "    sys.path.append(\"/kaggle/working/TemporalGAN\")"
   ]
  },
  {
   "cell_type": "code",
   "execution_count": 4,
   "id": "cf51fd02",
   "metadata": {
    "execution": {
     "iopub.execute_input": "2023-04-30T09:36:16.484621Z",
     "iopub.status.busy": "2023-04-30T09:36:16.484345Z",
     "iopub.status.idle": "2023-04-30T09:36:18.846540Z",
     "shell.execute_reply": "2023-04-30T09:36:18.845097Z"
    },
    "papermill": {
     "duration": 2.372981,
     "end_time": "2023-04-30T09:36:18.849201",
     "exception": false,
     "start_time": "2023-04-30T09:36:16.476220",
     "status": "completed"
    },
    "tags": []
   },
   "outputs": [
    {
     "data": {
      "text/plain": [
       "'1.13.0'"
      ]
     },
     "execution_count": 4,
     "metadata": {},
     "output_type": "execute_result"
    }
   ],
   "source": [
    "import torch\n",
    "torch.__version__"
   ]
  },
  {
   "cell_type": "code",
   "execution_count": 5,
   "id": "03f2ae2d",
   "metadata": {
    "execution": {
     "iopub.execute_input": "2023-04-30T09:36:18.867745Z",
     "iopub.status.busy": "2023-04-30T09:36:18.865862Z",
     "iopub.status.idle": "2023-04-30T09:36:19.574189Z",
     "shell.execute_reply": "2023-04-30T09:36:19.573011Z"
    },
    "papermill": {
     "duration": 0.719386,
     "end_time": "2023-04-30T09:36:19.576747",
     "exception": false,
     "start_time": "2023-04-30T09:36:18.857361",
     "status": "completed"
    },
    "tags": []
   },
   "outputs": [
    {
     "data": {
      "text/plain": [
       "2"
      ]
     },
     "execution_count": 5,
     "metadata": {},
     "output_type": "execute_result"
    }
   ],
   "source": [
    "import numpy as np\n",
    "from torch.utils.data import Dataset\n",
    "from glob import glob\n",
    "from skimage import io\n",
    "import os\n",
    "from torchvision import datasets, transforms\n",
    "import matplotlib\n",
    "import os\n",
    "import gc\n",
    "import random\n",
    "os.cpu_count()"
   ]
  },
  {
   "cell_type": "code",
   "execution_count": 6,
   "id": "d4140584",
   "metadata": {
    "execution": {
     "iopub.execute_input": "2023-04-30T09:36:19.593928Z",
     "iopub.status.busy": "2023-04-30T09:36:19.593136Z",
     "iopub.status.idle": "2023-04-30T09:36:19.663800Z",
     "shell.execute_reply": "2023-04-30T09:36:19.662903Z"
    },
    "papermill": {
     "duration": 0.081391,
     "end_time": "2023-04-30T09:36:19.665906",
     "exception": false,
     "start_time": "2023-04-30T09:36:19.584515",
     "status": "completed"
    },
    "tags": []
   },
   "outputs": [
    {
     "data": {
      "text/plain": [
       "'cuda'"
      ]
     },
     "execution_count": 6,
     "metadata": {},
     "output_type": "execute_result"
    }
   ],
   "source": [
    "DEVICE = \"cuda\" if torch.cuda.is_available() else \"cpu\"\n",
    "DEVICE"
   ]
  },
  {
   "cell_type": "code",
   "execution_count": 7,
   "id": "8a5e885c",
   "metadata": {
    "execution": {
     "iopub.execute_input": "2023-04-30T09:36:19.682760Z",
     "iopub.status.busy": "2023-04-30T09:36:19.682464Z",
     "iopub.status.idle": "2023-04-30T09:36:19.842541Z",
     "shell.execute_reply": "2023-04-30T09:36:19.841380Z"
    },
    "papermill": {
     "duration": 0.171448,
     "end_time": "2023-04-30T09:36:19.845204",
     "exception": false,
     "start_time": "2023-04-30T09:36:19.673756",
     "status": "completed"
    },
    "tags": []
   },
   "outputs": [],
   "source": [
    "from dataset.data_loaders import *\n",
    "from dataset.utils.plot_utils import plot_s1s2_tensors, save_s1s2_tensors_plot\n",
    "#from config import *\n",
    "from train_utils import *"
   ]
  },
  {
   "cell_type": "code",
   "execution_count": 8,
   "id": "1431944b",
   "metadata": {
    "execution": {
     "iopub.execute_input": "2023-04-30T09:36:19.862903Z",
     "iopub.status.busy": "2023-04-30T09:36:19.862616Z",
     "iopub.status.idle": "2023-04-30T09:36:19.897827Z",
     "shell.execute_reply": "2023-04-30T09:36:19.896933Z"
    },
    "papermill": {
     "duration": 0.046115,
     "end_time": "2023-04-30T09:36:19.899964",
     "exception": false,
     "start_time": "2023-04-30T09:36:19.853849",
     "status": "completed"
    },
    "tags": []
   },
   "outputs": [],
   "source": [
    "from temporalgan.gen_v3 import Generator as GeneratorV3\n",
    "from temporalgan.gen_v2_1 import Generator as GeneratorV2_1\n",
    "from temporalgan.gen_v2_2 import Generator as GeneratorV2_2\n",
    "from temporalgan.gen_v2_3 import Generator as GeneratorV2_3\n",
    "from temporalgan.gen_v1_1 import Generator as GeneratorV1_1\n",
    "from temporalgan.gen_v1_2 import Generator as GeneratorV1_2\n",
    "from temporalgan.gen_v1_3 import Generator as GeneratorV1_3\n",
    "from temporalgan.gen_v1_4 import Generator as GeneratorV1_4\n",
    "from temporalgan.gen_v1_5 import Generator as GeneratorV1_5\n",
    "from temporalgan.gen_v1_6 import Generator as GeneratorV1_6\n",
    "from temporalgan.gen_v1_7 import Generator as GeneratorV1_7\n",
    "from temporalgan.disc_v2 import Discriminator as DiscriminatorV2\n",
    "from temporalgan.disc_v1 import Discriminator as DiscriminatorV1\n",
    "from eval_metrics.loss_function import WeightedL1Loss"
   ]
  },
  {
   "cell_type": "code",
   "execution_count": 9,
   "id": "56e21d00",
   "metadata": {
    "execution": {
     "iopub.execute_input": "2023-04-30T09:36:19.916763Z",
     "iopub.status.busy": "2023-04-30T09:36:19.916049Z",
     "iopub.status.idle": "2023-04-30T09:36:19.921859Z",
     "shell.execute_reply": "2023-04-30T09:36:19.920985Z"
    },
    "papermill": {
     "duration": 0.01641,
     "end_time": "2023-04-30T09:36:19.923956",
     "exception": false,
     "start_time": "2023-04-30T09:36:19.907546",
     "status": "completed"
    },
    "tags": []
   },
   "outputs": [],
   "source": [
    "import torch.nn as nn\n",
    "import torch.optim as optim\n",
    "from torch.utils.data import DataLoader"
   ]
  },
  {
   "cell_type": "code",
   "execution_count": 10,
   "id": "3230a437",
   "metadata": {
    "execution": {
     "iopub.execute_input": "2023-04-30T09:36:19.941737Z",
     "iopub.status.busy": "2023-04-30T09:36:19.940316Z",
     "iopub.status.idle": "2023-04-30T09:36:19.946601Z",
     "shell.execute_reply": "2023-04-30T09:36:19.945697Z"
    },
    "papermill": {
     "duration": 0.016927,
     "end_time": "2023-04-30T09:36:19.948635",
     "exception": false,
     "start_time": "2023-04-30T09:36:19.931708",
     "status": "completed"
    },
    "tags": []
   },
   "outputs": [],
   "source": [
    "if IN_KAGGLE:\n",
    "    s1_t1_dir_train= \"/kaggle/input/s1s2-2021-v2/2021/s1_imgs/train\"\n",
    "    s2_t1_dir_train= \"/kaggle/input/s1s2-2021-v2/2021/s2_imgs/train\"\n",
    "    s1_t2_dir_train= \"/kaggle/input/s1s2-2019-v2/2019/s1_imgs/train\"\n",
    "    s2_t2_dir_train= \"/kaggle/input/s1s2-2019-v2/2019/s2_imgs/train\"\n",
    "    s1_t1_dir_test = \"/kaggle/input/s1s2-2021-v2/2021/s1_imgs/test\"\n",
    "    s2_t1_dir_test = \"/kaggle/input/s1s2-2021-v2/2021/s2_imgs/test\"\n",
    "    s1_t2_dir_test = \"/kaggle/input/s1s2-2019-v2/2019/s1_imgs/test\"\n",
    "    s2_t2_dir_test = \"/kaggle/input/s1s2-2019-v2/2019/s2_imgs/test\"\n",
    "else:\n",
    "    s1_t1_dir_train=\"E:\\\\s1s2\\\\s1s2_patched_light\\\\s1s2_patched_extra_light\\\\2021\\\\s1_imgs\\\\test\"\n",
    "    s2_t1_dir_train=\"E:\\\\s1s2\\\\s1s2_patched_light\\\\s1s2_patched_extra_light\\\\2021\\\\s2_imgs\\\\test\"\n",
    "    s1_t2_dir_train=\"E:\\\\s1s2\\\\s1s2_patched_light\\\\s1s2_patched_extra_light\\\\2019\\\\s1_imgs\\\\test\"\n",
    "    s2_t2_dir_train=\"E:\\\\s1s2\\\\s1s2_patched_light\\\\s1s2_patched_extra_light\\\\2019\\\\s2_imgs\\\\test\"\n",
    "    s1_t1_dir_test=\"E:\\\\s1s2\\\\s1s2_patched_light\\\\s1s2_patched_extra_light\\\\2021\\\\s1_imgs\\\\test\"\n",
    "    s2_t1_dir_test=\"E:\\\\s1s2\\\\s1s2_patched_light\\\\s1s2_patched_extra_light\\\\2021\\\\s2_imgs\\\\test\"\n",
    "    s1_t2_dir_test=\"E:\\\\s1s2\\\\s1s2_patched_light\\\\s1s2_patched_extra_light\\\\2019\\\\s1_imgs\\\\test\"\n",
    "    s2_t2_dir_test=\"E:\\\\s1s2\\\\s1s2_patched_light\\\\s1s2_patched_extra_light\\\\2019\\\\s2_imgs\\\\test\""
   ]
  },
  {
   "cell_type": "code",
   "execution_count": 11,
   "id": "7f9f39f8",
   "metadata": {
    "execution": {
     "iopub.execute_input": "2023-04-30T09:36:19.966238Z",
     "iopub.status.busy": "2023-04-30T09:36:19.964703Z",
     "iopub.status.idle": "2023-04-30T09:36:19.972325Z",
     "shell.execute_reply": "2023-04-30T09:36:19.971371Z"
    },
    "papermill": {
     "duration": 0.017904,
     "end_time": "2023-04-30T09:36:19.974376",
     "exception": false,
     "start_time": "2023-04-30T09:36:19.956472",
     "status": "completed"
    },
    "tags": []
   },
   "outputs": [],
   "source": [
    "TWO_WAY_DATASET = True if IN_KAGGLE else False\n",
    "INPUT_CHANGE_MAP = True if IN_KAGGLE else False\n",
    "S2_INCHANNELS = 12 if INPUT_CHANGE_MAP else 6\n",
    "S1_INCHANNELS = 7 if INPUT_CHANGE_MAP else 1\n",
    "\n",
    "LEARNING_RATE = 2e-4\n",
    "BATCH_SIZE = 4 if IN_KAGGLE else 1\n",
    "NUM_WORKERS = 2 if IN_KAGGLE else 8\n",
    "IMAGE_SIZE = 256\n",
    "WEIGHTED_LOSS = True\n",
    "L1_LAMBDA = 100\n",
    "NUM_EPOCHS = 10 if IN_KAGGLE else 2\n",
    "\n",
    "LOAD_MODEL = False\n",
    "SAVE_MODEL = True if IN_KAGGLE else False\n",
    "SAVE_MODEL_EVERY_EPOCH = 10\n",
    "SAVE_EXAMPLE_PLOTS = True\n",
    "EXAMPLES_TO_PLOT = [1,32,64,128,256,512,1024] if IN_KAGGLE else [1,2]\n",
    "CHECKPOINT_DISC = \"disc.pth.tar\"\n",
    "CHECKPOINT_GEN = \"gen.pth.tar\"\n",
    "\n",
    "RANDOM_SEED = 42"
   ]
  },
  {
   "cell_type": "code",
   "execution_count": 12,
   "id": "ac3bfcd9",
   "metadata": {
    "execution": {
     "iopub.execute_input": "2023-04-30T09:36:19.991126Z",
     "iopub.status.busy": "2023-04-30T09:36:19.990842Z",
     "iopub.status.idle": "2023-04-30T09:36:20.002423Z",
     "shell.execute_reply": "2023-04-30T09:36:20.001478Z"
    },
    "papermill": {
     "duration": 0.022506,
     "end_time": "2023-04-30T09:36:20.004517",
     "exception": false,
     "start_time": "2023-04-30T09:36:19.982011",
     "status": "completed"
    },
    "tags": []
   },
   "outputs": [],
   "source": [
    "def main():\n",
    "    disc = DiscriminatorV1(s2_in_channels=S2_INCHANNELS, s1_in_channels=S1_INCHANNELS).to(DEVICE)\n",
    "#     gen = GeneratorV2(s2_in_channels=S2_INCHANNELS, s1_in_channels= S1_INCHANNELS, features=64,pam_downsample=2).to(DEVICE)\n",
    "    gen = GeneratorV1_2(s2_in_channels=S2_INCHANNELS, s1_in_channels= S1_INCHANNELS, features=64).to(DEVICE)\n",
    "#     gen = GeneratorV2_3(s2_in_channels=S2_INCHANNELS, s1_in_channels= S1_INCHANNELS, features=64).to(DEVICE)\n",
    "    opt_disc = optim.Adam(disc.parameters(), lr=LEARNING_RATE, betas=(0.5, 0.999),)\n",
    "    opt_gen = optim.Adam(gen.parameters(), lr=LEARNING_RATE, betas=(0.5, 0.999))\n",
    "    BCE = nn.BCEWithLogitsLoss()\n",
    "    if WEIGHTED_LOSS:\n",
    "        L1_LOSS = WeightedL1Loss(change_weight=5)\n",
    "    else:\n",
    "        L1_LOSS = nn.L1Loss()\n",
    "\n",
    "    if LOAD_MODEL:\n",
    "        load_checkpoint(\n",
    "            CHECKPOINT_GEN, gen, opt_gen, LEARNING_RATE,\n",
    "        )\n",
    "        load_checkpoint(\n",
    "            CHECKPOINT_DISC, disc, opt_disc, LEARNING_RATE,\n",
    "        )\n",
    "\n",
    "    transform = transforms.Compose([S2S1Normalize(),myToTensor(dtype=torch.float32)])\n",
    "\n",
    "\n",
    "    train_dataset = Sen12Dataset(s1_t1_dir=s1_t1_dir_train,\n",
    "                                 s2_t1_dir=s2_t1_dir_train,\n",
    "                                 s1_t2_dir=s1_t2_dir_train,\n",
    "                                 s2_t2_dir=s2_t2_dir_train,\n",
    "                                 transform=transform,\n",
    "                                 two_way=TWO_WAY_DATASET)\n",
    "    \n",
    "    train_loader = DataLoader(\n",
    "        train_dataset,\n",
    "        batch_size=BATCH_SIZE,\n",
    "        shuffle=True,\n",
    "        num_workers=NUM_WORKERS,\n",
    "    )\n",
    "    g_scaler = torch.cuda.amp.GradScaler()\n",
    "    d_scaler = torch.cuda.amp.GradScaler()\n",
    "#     val_dataset = MapDataset(root_dir=VAL_DIR)\n",
    "#     val_loader = DataLoader(val_dataset, batch_size=1, shuffle=False)\n",
    "\n",
    "    for epoch in range(1, NUM_EPOCHS+1):\n",
    "        print(\"\\n\\n\" , end=\"\")\n",
    "        print(f\"Epoch: {epoch}\")\n",
    "        print(\"\")\n",
    "        train_fn(\n",
    "            disc, gen, train_loader, opt_disc, opt_gen,\n",
    "            L1_LOSS, BCE, g_scaler, d_scaler, weighted_loss= WEIGHTED_LOSS,\n",
    "            cm_input=INPUT_CHANGE_MAP, grad_clip=False)\n",
    "\n",
    "        if SAVE_MODEL and epoch % SAVE_MODEL_EVERY_EPOCH == 0:\n",
    "            save_checkpoint(epoch,gen, opt_gen, filename=CHECKPOINT_GEN)\n",
    "            save_checkpoint(epoch,disc, opt_disc, filename=CHECKPOINT_DISC)\n",
    "\n",
    "\n",
    "        if SAVE_EXAMPLE_PLOTS:\n",
    "            for img_i in EXAMPLES_TO_PLOT:\n",
    "                save_some_examples(gen, train_dataset, epoch, folder=\"train_evaluation_plots\",cm_input=INPUT_CHANGE_MAP, img_indx=img_i)\n",
    "\n",
    "            \n",
    "        gc.collect()\n",
    "        torch.cuda.empty_cache()\n",
    "            \n",
    "    return gen\n"
   ]
  },
  {
   "cell_type": "code",
   "execution_count": 13,
   "id": "01f134d0",
   "metadata": {
    "execution": {
     "iopub.execute_input": "2023-04-30T09:36:20.021135Z",
     "iopub.status.busy": "2023-04-30T09:36:20.020324Z",
     "iopub.status.idle": "2023-04-30T09:36:20.027127Z",
     "shell.execute_reply": "2023-04-30T09:36:20.026278Z"
    },
    "papermill": {
     "duration": 0.016972,
     "end_time": "2023-04-30T09:36:20.028994",
     "exception": false,
     "start_time": "2023-04-30T09:36:20.012022",
     "status": "completed"
    },
    "tags": []
   },
   "outputs": [],
   "source": [
    "torch.manual_seed(RANDOM_SEED)\n",
    "random.seed(RANDOM_SEED)\n",
    "np.random.seed(RANDOM_SEED)"
   ]
  },
  {
   "cell_type": "code",
   "execution_count": 14,
   "id": "ea321c0d",
   "metadata": {
    "execution": {
     "iopub.execute_input": "2023-04-30T09:36:20.046233Z",
     "iopub.status.busy": "2023-04-30T09:36:20.045337Z",
     "iopub.status.idle": "2023-04-30T10:20:07.538260Z",
     "shell.execute_reply": "2023-04-30T10:20:07.536971Z"
    },
    "papermill": {
     "duration": 2627.504168,
     "end_time": "2023-04-30T10:20:07.541081",
     "exception": false,
     "start_time": "2023-04-30T09:36:20.036913",
     "status": "completed"
    },
    "tags": []
   },
   "outputs": [
    {
     "name": "stdout",
     "output_type": "stream",
     "text": [
      "\n",
      "\n",
      "Epoch: 1\n",
      "\n"
     ]
    },
    {
     "name": "stderr",
     "output_type": "stream",
     "text": [
      "100%|██████████| 663/663 [04:21<00:00,  2.53it/s, D_fake_mean=0.385, D_real_mean=0.58, G_loss_mean=19.2, L1_mean=18]\n"
     ]
    },
    {
     "name": "stdout",
     "output_type": "stream",
     "text": [
      "\n",
      "\n",
      "Epoch: 2\n",
      "\n"
     ]
    },
    {
     "name": "stderr",
     "output_type": "stream",
     "text": [
      "100%|██████████| 663/663 [04:17<00:00,  2.58it/s, D_fake_mean=0.346, D_real_mean=0.605, G_loss_mean=18.4, L1_mean=17.1]\n"
     ]
    },
    {
     "name": "stdout",
     "output_type": "stream",
     "text": [
      "\n",
      "\n",
      "Epoch: 3\n",
      "\n"
     ]
    },
    {
     "name": "stderr",
     "output_type": "stream",
     "text": [
      "100%|██████████| 663/663 [04:16<00:00,  2.58it/s, D_fake_mean=0.355, D_real_mean=0.598, G_loss_mean=18.2, L1_mean=16.9]\n"
     ]
    },
    {
     "name": "stdout",
     "output_type": "stream",
     "text": [
      "\n",
      "\n",
      "Epoch: 4\n",
      "\n"
     ]
    },
    {
     "name": "stderr",
     "output_type": "stream",
     "text": [
      "100%|██████████| 663/663 [04:16<00:00,  2.58it/s, D_fake_mean=0.361, D_real_mean=0.592, G_loss_mean=18, L1_mean=16.8]\n"
     ]
    },
    {
     "name": "stdout",
     "output_type": "stream",
     "text": [
      "\n",
      "\n",
      "Epoch: 5\n",
      "\n"
     ]
    },
    {
     "name": "stderr",
     "output_type": "stream",
     "text": [
      "100%|██████████| 663/663 [04:16<00:00,  2.59it/s, D_fake_mean=0.369, D_real_mean=0.586, G_loss_mean=17.8, L1_mean=16.6]\n"
     ]
    },
    {
     "name": "stdout",
     "output_type": "stream",
     "text": [
      "\n",
      "\n",
      "Epoch: 6\n",
      "\n"
     ]
    },
    {
     "name": "stderr",
     "output_type": "stream",
     "text": [
      "100%|██████████| 663/663 [04:16<00:00,  2.58it/s, D_fake_mean=0.371, D_real_mean=0.585, G_loss_mean=17.6, L1_mean=16.4]\n"
     ]
    },
    {
     "name": "stdout",
     "output_type": "stream",
     "text": [
      "\n",
      "\n",
      "Epoch: 7\n",
      "\n"
     ]
    },
    {
     "name": "stderr",
     "output_type": "stream",
     "text": [
      "100%|██████████| 663/663 [04:16<00:00,  2.58it/s, D_fake_mean=0.371, D_real_mean=0.585, G_loss_mean=17.4, L1_mean=16.3]\n"
     ]
    },
    {
     "name": "stdout",
     "output_type": "stream",
     "text": [
      "\n",
      "\n",
      "Epoch: 8\n",
      "\n"
     ]
    },
    {
     "name": "stderr",
     "output_type": "stream",
     "text": [
      "100%|██████████| 663/663 [04:17<00:00,  2.58it/s, D_fake_mean=0.37, D_real_mean=0.585, G_loss_mean=17.3, L1_mean=16.1]\n"
     ]
    },
    {
     "name": "stdout",
     "output_type": "stream",
     "text": [
      "\n",
      "\n",
      "Epoch: 9\n",
      "\n"
     ]
    },
    {
     "name": "stderr",
     "output_type": "stream",
     "text": [
      "100%|██████████| 663/663 [04:16<00:00,  2.58it/s, D_fake_mean=0.375, D_real_mean=0.583, G_loss_mean=17, L1_mean=15.9]\n"
     ]
    },
    {
     "name": "stdout",
     "output_type": "stream",
     "text": [
      "\n",
      "\n",
      "Epoch: 10\n",
      "\n"
     ]
    },
    {
     "name": "stderr",
     "output_type": "stream",
     "text": [
      "100%|██████████| 663/663 [04:16<00:00,  2.58it/s, D_fake_mean=0.374, D_real_mean=0.584, G_loss_mean=16.8, L1_mean=15.6]\n"
     ]
    },
    {
     "name": "stdout",
     "output_type": "stream",
     "text": [
      "=> Saving checkpoint\n",
      "=> Saving checkpoint\n"
     ]
    }
   ],
   "source": [
    "#matplotlib.use('Agg') # This refrains matplot lib form showing the plotted resualts below the cell\n",
    "gen_model = main()"
   ]
  },
  {
   "cell_type": "code",
   "execution_count": 15,
   "id": "8e8a4f07",
   "metadata": {
    "execution": {
     "iopub.execute_input": "2023-04-30T10:20:08.330238Z",
     "iopub.status.busy": "2023-04-30T10:20:08.329541Z",
     "iopub.status.idle": "2023-04-30T10:20:08.334864Z",
     "shell.execute_reply": "2023-04-30T10:20:08.333831Z"
    },
    "papermill": {
     "duration": 0.398677,
     "end_time": "2023-04-30T10:20:08.337013",
     "exception": false,
     "start_time": "2023-04-30T10:20:07.938336",
     "status": "completed"
    },
    "tags": []
   },
   "outputs": [],
   "source": [
    "# transform = transforms.Compose([S2S1Normalize(),myToTensor(dtype=torch.float32)])\n",
    "# train_dataset = Sen12Dataset(s1_t1_dir=s1_t1_dir_train,\n",
    "#                              s2_t1_dir=s2_t1_dir_train,\n",
    "#                              s1_t2_dir=s1_t2_dir_train,\n",
    "#                              s2_t2_dir=s2_t2_dir_train,\n",
    "#                              transform=transform,\n",
    "#                              two_way=TWO_WAY_DATASET)\n",
    "# #plt.imshow(train_dataset[0][-1][0])\n",
    "\n",
    "# plt.imshow(torch.permute(train_dataset[123][4],(1,2,0))[:,:,0])\n",
    "# plt.colorbar()\n",
    "# plt.show()"
   ]
  },
  {
   "cell_type": "code",
   "execution_count": 16,
   "id": "f0161c23",
   "metadata": {
    "execution": {
     "iopub.execute_input": "2023-04-30T10:20:09.183631Z",
     "iopub.status.busy": "2023-04-30T10:20:09.182783Z",
     "iopub.status.idle": "2023-04-30T10:20:10.302180Z",
     "shell.execute_reply": "2023-04-30T10:20:10.301081Z"
    },
    "papermill": {
     "duration": 1.520044,
     "end_time": "2023-04-30T10:20:10.304703",
     "exception": false,
     "start_time": "2023-04-30T10:20:08.784659",
     "status": "completed"
    },
    "tags": []
   },
   "outputs": [],
   "source": [
    "transform = transforms.Compose([S2S1Normalize(),myToTensor()])\n",
    "test_dataset = Sen12Dataset(s1_t1_dir=s1_t1_dir_test,\n",
    "                            s2_t1_dir=s2_t1_dir_test,\n",
    "                            s1_t2_dir=s1_t2_dir_test,\n",
    "                            s2_t2_dir=s2_t2_dir_test,\n",
    "                            transform=transform,\n",
    "                            two_way=TWO_WAY_DATASET)\n",
    "test_loader = DataLoader(\n",
    "        test_dataset,\n",
    "        batch_size=BATCH_SIZE,\n",
    "        shuffle=False,\n",
    "        num_workers=NUM_WORKERS,\n",
    "    )"
   ]
  },
  {
   "cell_type": "code",
   "execution_count": 17,
   "id": "bc008a21",
   "metadata": {
    "execution": {
     "iopub.execute_input": "2023-04-30T10:20:11.037055Z",
     "iopub.status.busy": "2023-04-30T10:20:11.036424Z",
     "iopub.status.idle": "2023-04-30T10:20:11.041990Z",
     "shell.execute_reply": "2023-04-30T10:20:11.040815Z"
    },
    "papermill": {
     "duration": 0.373895,
     "end_time": "2023-04-30T10:20:11.044694",
     "exception": false,
     "start_time": "2023-04-30T10:20:10.670799",
     "status": "completed"
    },
    "tags": []
   },
   "outputs": [],
   "source": [
    "# save_some_examples(gen_model, test_dataset, NUM_EPOCHS, folder=\"evaluation\",cm_input=INPUT_CHANGE_MAP, img_indx=2)"
   ]
  },
  {
   "cell_type": "code",
   "execution_count": 18,
   "id": "b9ce4902",
   "metadata": {
    "execution": {
     "iopub.execute_input": "2023-04-30T10:20:11.818587Z",
     "iopub.status.busy": "2023-04-30T10:20:11.817535Z",
     "iopub.status.idle": "2023-04-30T10:20:11.830924Z",
     "shell.execute_reply": "2023-04-30T10:20:11.829946Z"
    },
    "papermill": {
     "duration": 0.374998,
     "end_time": "2023-04-30T10:20:11.832991",
     "exception": false,
     "start_time": "2023-04-30T10:20:11.457993",
     "status": "completed"
    },
    "tags": []
   },
   "outputs": [],
   "source": [
    "def eval_fn(gen, loader, ssim, psnr):\n",
    "    gen.eval()\n",
    "    loop = tqdm(loader, leave=True)\n",
    "    weighted_ssim_list = []\n",
    "    normal_ssim_list = []\n",
    "    weighted_psnr_list = []\n",
    "    normal_psnr_list = []\n",
    "    \n",
    "    for idx, (s2t2,s1t2,s2t1,s1t1,cm,rcm,s1cm) in enumerate(loop):\n",
    "        s2t2,s1t2,s2t1,s1t1,cm,rcm,s1cm = s2t2.to(DEVICE),s1t2.to(DEVICE),s2t1.to(DEVICE),s1t1.to(DEVICE),cm.to(DEVICE),rcm.to(DEVICE),s1cm.to(DEVICE)\n",
    "        s2t2,s1t2,s2t1,s1t1,cm,rcm,s1cm = s2t2.to(torch.float32),s1t2.to(torch.float32),s2t1.to(torch.float32),s1t1.to(torch.float32),cm.to(torch.float32),rcm.to(torch.float32),s1cm.to(torch.float32)\n",
    "        if INPUT_CHANGE_MAP:\n",
    "            s2t2 = torch.cat((s2t2, cm), dim=1)\n",
    "            s1t1 = torch.cat((s1t1, rcm), dim=1)\n",
    "        preds = gen(s2t2, s1t1)\n",
    "        \n",
    "        weighted_ssim = ssim((s1t2, preds), s1cm)\n",
    "        weighted_ssim_list.append(weighted_ssim)\n",
    "        normal_ssim = ssim((s1t2, preds))\n",
    "        normal_ssim_list.append(normal_ssim)\n",
    "        weighted_psnr = psnr((s1t2, preds), s1cm)\n",
    "        weighted_psnr_list.append(weighted_psnr)\n",
    "        normal_psnr = psnr((s1t2, preds))\n",
    "        normal_psnr_list.append(normal_psnr)\n",
    "\n",
    "\n",
    "        if idx % 10 == 0:\n",
    "            loop.set_postfix(\n",
    "                wssim_mean = torch.tensor(weighted_ssim_list).mean().item(),\n",
    "                ssim_mean = torch.tensor(normal_ssim_list).mean().item(),\n",
    "                wpsnr_mean = torch.tensor(weighted_psnr_list).mean().item(),\n",
    "                psnr_mean = torch.tensor(normal_psnr_list).mean().item(),\n",
    "            )\n",
    "    print(\"wssim_mean: \" , torch.tensor(weighted_ssim_list).mean().item())\n",
    "    print(\"ssim_mean: \" , torch.tensor(normal_ssim_list).mean().item())\n",
    "    print(\"wpsnr_mean: \" , torch.tensor(weighted_psnr_list).mean().item())\n",
    "    print(\"psnr_mean: \" , torch.tensor(normal_psnr_list).mean().item())"
   ]
  },
  {
   "cell_type": "code",
   "execution_count": 19,
   "id": "7dab77f7",
   "metadata": {
    "execution": {
     "iopub.execute_input": "2023-04-30T10:20:12.553224Z",
     "iopub.status.busy": "2023-04-30T10:20:12.552605Z",
     "iopub.status.idle": "2023-04-30T10:20:12.557700Z",
     "shell.execute_reply": "2023-04-30T10:20:12.556598Z"
    },
    "papermill": {
     "duration": 0.369915,
     "end_time": "2023-04-30T10:20:12.560013",
     "exception": false,
     "start_time": "2023-04-30T10:20:12.190098",
     "status": "completed"
    },
    "tags": []
   },
   "outputs": [],
   "source": [
    "from eval_metrics import ssim\n",
    "from eval_metrics.psnr import wpsnr\n",
    "wssim = ssim.WSSIM(data_range=1.0)"
   ]
  },
  {
   "cell_type": "code",
   "execution_count": 20,
   "id": "c6e54373",
   "metadata": {
    "execution": {
     "iopub.execute_input": "2023-04-30T10:20:13.371463Z",
     "iopub.status.busy": "2023-04-30T10:20:13.370419Z",
     "iopub.status.idle": "2023-04-30T10:21:41.870083Z",
     "shell.execute_reply": "2023-04-30T10:21:41.868362Z"
    },
    "papermill": {
     "duration": 88.878686,
     "end_time": "2023-04-30T10:21:41.873428",
     "exception": false,
     "start_time": "2023-04-30T10:20:12.994742",
     "status": "completed"
    },
    "tags": []
   },
   "outputs": [
    {
     "name": "stderr",
     "output_type": "stream",
     "text": [
      "100%|██████████| 339/339 [01:28<00:00,  3.83it/s, psnr_mean=16.1, ssim_mean=0.414, wpsnr_mean=13, wssim_mean=0.356]"
     ]
    },
    {
     "name": "stdout",
     "output_type": "stream",
     "text": [
      "wssim_mean:  0.35363954305648804\n",
      "ssim_mean:  0.4113965928554535\n",
      "wpsnr_mean:  13.019262313842773\n",
      "psnr_mean:  16.062644958496094\n"
     ]
    },
    {
     "name": "stderr",
     "output_type": "stream",
     "text": [
      "\n"
     ]
    }
   ],
   "source": [
    "eval_fn(gen_model, test_loader, wssim, wpsnr)"
   ]
  },
  {
   "cell_type": "code",
   "execution_count": 21,
   "id": "aaaaed6d",
   "metadata": {
    "execution": {
     "iopub.execute_input": "2023-04-30T10:21:42.680095Z",
     "iopub.status.busy": "2023-04-30T10:21:42.678914Z",
     "iopub.status.idle": "2023-04-30T10:21:42.684371Z",
     "shell.execute_reply": "2023-04-30T10:21:42.683289Z"
    },
    "papermill": {
     "duration": 0.385432,
     "end_time": "2023-04-30T10:21:42.686630",
     "exception": false,
     "start_time": "2023-04-30T10:21:42.301198",
     "status": "completed"
    },
    "tags": []
   },
   "outputs": [],
   "source": [
    "# import shutil\n",
    "# shutil.rmtree(\"test_evaluation_plots\")"
   ]
  },
  {
   "cell_type": "code",
   "execution_count": 22,
   "id": "935777f8",
   "metadata": {
    "execution": {
     "iopub.execute_input": "2023-04-30T10:21:43.439913Z",
     "iopub.status.busy": "2023-04-30T10:21:43.438940Z",
     "iopub.status.idle": "2023-04-30T10:24:44.077467Z",
     "shell.execute_reply": "2023-04-30T10:24:44.076099Z"
    },
    "papermill": {
     "duration": 181.020488,
     "end_time": "2023-04-30T10:24:44.080066",
     "exception": false,
     "start_time": "2023-04-30T10:21:43.059578",
     "status": "completed"
    },
    "tags": []
   },
   "outputs": [
    {
     "name": "stdout",
     "output_type": "stream",
     "text": [
      "  adding: kaggle/working/test_evaluation_plots_1/ (stored 0%)\r\n",
      "  adding: kaggle/working/test_evaluation_plots_1/epoc_10_img515.png (deflated 2%)\r\n",
      "  adding: kaggle/working/test_evaluation_plots_1/epoc_10_img295.png (deflated 2%)\r\n",
      "  adding: kaggle/working/test_evaluation_plots_1/epoc_10_img635.png (deflated 2%)\r\n",
      "  adding: kaggle/working/test_evaluation_plots_1/epoc_10_img155.png (deflated 2%)\r\n",
      "  adding: kaggle/working/test_evaluation_plots_1/epoc_10_img549.png (deflated 2%)\r\n",
      "  adding: kaggle/working/test_evaluation_plots_1/epoc_10_img539.png (deflated 2%)\r\n",
      "  adding: kaggle/working/test_evaluation_plots_1/epoc_10_img355.png (deflated 2%)\r\n",
      "  adding: kaggle/working/test_evaluation_plots_1/epoc_10_img267.png (deflated 2%)\r\n",
      "  adding: kaggle/working/test_evaluation_plots_1/epoc_10_img223.png (deflated 2%)\r\n",
      "  adding: kaggle/working/test_evaluation_plots_1/epoc_10_img241.png (deflated 2%)\r\n",
      "  adding: kaggle/working/test_evaluation_plots_1/epoc_10_img669.png (deflated 2%)\r\n",
      "  adding: kaggle/working/test_evaluation_plots_1/epoc_10_img237.png (deflated 2%)\r\n",
      "  adding: kaggle/working/test_evaluation_plots_1/epoc_10_img117.png (deflated 2%)\r\n",
      "  adding: kaggle/working/test_evaluation_plots_1/epoc_10_img239.png (deflated 2%)\r\n",
      "  adding: kaggle/working/test_evaluation_plots_1/epoc_10_img651.png (deflated 2%)\r\n",
      "  adding: kaggle/working/test_evaluation_plots_1/epoc_10_img393.png (deflated 2%)\r\n",
      "  adding: kaggle/working/test_evaluation_plots_1/epoc_10_img27.png (deflated 2%)\r\n",
      "  adding: kaggle/working/test_evaluation_plots_1/epoc_10_img551.png (deflated 2%)\r\n",
      "  adding: kaggle/working/test_evaluation_plots_1/epoc_10_img103.png (deflated 2%)\r\n",
      "  adding: kaggle/working/test_evaluation_plots_1/epoc_10_img21.png (deflated 2%)\r\n",
      "  adding: kaggle/working/test_evaluation_plots_1/epoc_10_img517.png (deflated 2%)\r\n",
      "  adding: kaggle/working/test_evaluation_plots_1/epoc_10_img165.png (deflated 2%)\r\n",
      "  adding: kaggle/working/test_evaluation_plots_1/epoc_10_img119.png (deflated 2%)\r\n",
      "  adding: kaggle/working/test_evaluation_plots_1/epoc_10_img141.png (deflated 2%)\r\n",
      "  adding: kaggle/working/test_evaluation_plots_1/epoc_10_img315.png (deflated 2%)\r\n",
      "  adding: kaggle/working/test_evaluation_plots_1/epoc_10_img421.png (deflated 2%)\r\n",
      "  adding: kaggle/working/test_evaluation_plots_1/epoc_10_img643.png (deflated 2%)\r\n",
      "  adding: kaggle/working/test_evaluation_plots_1/epoc_10_img569.png (deflated 2%)\r\n",
      "  adding: kaggle/working/test_evaluation_plots_1/epoc_10_img143.png (deflated 2%)\r\n",
      "  adding: kaggle/working/test_evaluation_plots_1/epoc_10_img453.png (deflated 2%)\r\n",
      "  adding: kaggle/working/test_evaluation_plots_1/epoc_10_img29.png (deflated 2%)\r\n",
      "  adding: kaggle/working/test_evaluation_plots_1/epoc_10_img605.png (deflated 2%)\r\n",
      "  adding: kaggle/working/test_evaluation_plots_1/epoc_10_img427.png (deflated 2%)\r\n",
      "  adding: kaggle/working/test_evaluation_plots_1/epoc_10_img259.png (deflated 2%)\r\n",
      "  adding: kaggle/working/test_evaluation_plots_1/epoc_10_img537.png (deflated 2%)\r\n",
      "  adding: kaggle/working/test_evaluation_plots_1/epoc_10_img89.png (deflated 2%)\r\n",
      "  adding: kaggle/working/test_evaluation_plots_1/epoc_10_img663.png (deflated 2%)\r\n",
      "  adding: kaggle/working/test_evaluation_plots_1/epoc_10_img11.png (deflated 2%)\r\n",
      "  adding: kaggle/working/test_evaluation_plots_1/epoc_10_img671.png (deflated 2%)\r\n",
      "  adding: kaggle/working/test_evaluation_plots_1/epoc_10_img211.png (deflated 2%)\r\n",
      "  adding: kaggle/working/test_evaluation_plots_1/epoc_10_img561.png (deflated 2%)\r\n",
      "  adding: kaggle/working/test_evaluation_plots_1/epoc_10_img101.png (deflated 2%)\r\n",
      "  adding: kaggle/working/test_evaluation_plots_1/epoc_10_img59.png (deflated 2%)\r\n",
      "  adding: kaggle/working/test_evaluation_plots_1/epoc_10_img409.png (deflated 2%)\r\n",
      "  adding: kaggle/working/test_evaluation_plots_1/epoc_10_img371.png (deflated 2%)\r\n",
      "  adding: kaggle/working/test_evaluation_plots_1/epoc_10_img565.png (deflated 2%)\r\n",
      "  adding: kaggle/working/test_evaluation_plots_1/epoc_10_img523.png (deflated 2%)\r\n",
      "  adding: kaggle/working/test_evaluation_plots_1/epoc_10_img485.png (deflated 2%)\r\n",
      "  adding: kaggle/working/test_evaluation_plots_1/epoc_10_img475.png (deflated 2%)\r\n",
      "  adding: kaggle/working/test_evaluation_plots_1/epoc_10_img323.png (deflated 2%)\r\n",
      "  adding: kaggle/working/test_evaluation_plots_1/epoc_10_img285.png (deflated 2%)\r\n",
      "  adding: kaggle/working/test_evaluation_plots_1/epoc_10_img441.png (deflated 2%)\r\n",
      "  adding: kaggle/working/test_evaluation_plots_1/epoc_10_img571.png (deflated 2%)\r\n",
      "  adding: kaggle/working/test_evaluation_plots_1/epoc_10_img335.png (deflated 2%)\r\n",
      "  adding: kaggle/working/test_evaluation_plots_1/epoc_10_img45.png (deflated 2%)\r\n",
      "  adding: kaggle/working/test_evaluation_plots_1/epoc_10_img373.png (deflated 2%)\r\n",
      "  adding: kaggle/working/test_evaluation_plots_1/epoc_10_img87.png (deflated 2%)\r\n",
      "  adding: kaggle/working/test_evaluation_plots_1/epoc_10_img125.png (deflated 2%)\r\n",
      "  adding: kaggle/working/test_evaluation_plots_1/epoc_10_img665.png (deflated 2%)\r\n",
      "  adding: kaggle/working/test_evaluation_plots_1/epoc_10_img467.png (deflated 2%)\r\n",
      "  adding: kaggle/working/test_evaluation_plots_1/epoc_10_img505.png (deflated 2%)\r\n",
      "  adding: kaggle/working/test_evaluation_plots_1/epoc_10_img17.png (deflated 2%)\r\n",
      "  adding: kaggle/working/test_evaluation_plots_1/epoc_10_img311.png (deflated 2%)\r\n",
      "  adding: kaggle/working/test_evaluation_plots_1/epoc_10_img357.png (deflated 2%)\r\n",
      "  adding: kaggle/working/test_evaluation_plots_1/epoc_10_img487.png (deflated 2%)\r\n",
      "  adding: kaggle/working/test_evaluation_plots_1/epoc_10_img163.png (deflated 2%)\r\n",
      "  adding: kaggle/working/test_evaluation_plots_1/epoc_10_img581.png (deflated 2%)\r\n",
      "  adding: kaggle/working/test_evaluation_plots_1/epoc_10_img495.png (deflated 2%)\r\n",
      "  adding: kaggle/working/test_evaluation_plots_1/epoc_10_img307.png (deflated 2%)\r\n",
      "  adding: kaggle/working/test_evaluation_plots_1/epoc_10_img35.png (deflated 2%)\r\n",
      "  adding: kaggle/working/test_evaluation_plots_1/epoc_10_img135.png (deflated 2%)\r\n",
      "  adding: kaggle/working/test_evaluation_plots_1/epoc_10_img173.png (deflated 2%)\r\n",
      "  adding: kaggle/working/test_evaluation_plots_1/epoc_10_img197.png (deflated 2%)\r\n",
      "  adding: kaggle/working/test_evaluation_plots_1/epoc_10_img397.png (deflated 2%)\r\n",
      "  adding: kaggle/working/test_evaluation_plots_1/epoc_10_img261.png (deflated 2%)\r\n",
      "  adding: kaggle/working/test_evaluation_plots_1/epoc_10_img33.png (deflated 2%)\r\n",
      "  adding: kaggle/working/test_evaluation_plots_1/epoc_10_img529.png (deflated 2%)\r\n",
      "  adding: kaggle/working/test_evaluation_plots_1/epoc_10_img499.png (deflated 2%)\r\n",
      "  adding: kaggle/working/test_evaluation_plots_1/epoc_10_img647.png (deflated 2%)\r\n",
      "  adding: kaggle/working/test_evaluation_plots_1/epoc_10_img127.png (deflated 2%)\r\n",
      "  adding: kaggle/working/test_evaluation_plots_1/epoc_10_img253.png (deflated 2%)\r\n",
      "  adding: kaggle/working/test_evaluation_plots_1/epoc_10_img23.png (deflated 2%)\r\n",
      "  adding: kaggle/working/test_evaluation_plots_1/epoc_10_img293.png (deflated 2%)\r\n",
      "  adding: kaggle/working/test_evaluation_plots_1/epoc_10_img299.png (deflated 2%)\r\n",
      "  adding: kaggle/working/test_evaluation_plots_1/epoc_10_img121.png (deflated 2%)\r\n",
      "  adding: kaggle/working/test_evaluation_plots_1/epoc_10_img525.png (deflated 2%)\r\n",
      "  adding: kaggle/working/test_evaluation_plots_1/epoc_10_img97.png (deflated 2%)\r\n",
      "  adding: kaggle/working/test_evaluation_plots_1/epoc_10_img215.png (deflated 2%)\r\n",
      "  adding: kaggle/working/test_evaluation_plots_1/epoc_10_img547.png (deflated 2%)\r\n",
      "  adding: kaggle/working/test_evaluation_plots_1/epoc_10_img381.png (deflated 2%)\r\n",
      "  adding: kaggle/working/test_evaluation_plots_1/epoc_10_img419.png (deflated 2%)\r\n",
      "  adding: kaggle/working/test_evaluation_plots_1/epoc_10_img667.png (deflated 2%)\r\n",
      "  adding: kaggle/working/test_evaluation_plots_1/epoc_10_img109.png (deflated 2%)\r\n",
      "  adding: kaggle/working/test_evaluation_plots_1/epoc_10_img469.png (deflated 2%)\r\n",
      "  adding: kaggle/working/test_evaluation_plots_1/epoc_10_img649.png (deflated 2%)\r\n",
      "  adding: kaggle/working/test_evaluation_plots_1/epoc_10_img255.png (deflated 2%)\r\n",
      "  adding: kaggle/working/test_evaluation_plots_1/epoc_10_img507.png (deflated 2%)\r\n",
      "  adding: kaggle/working/test_evaluation_plots_1/epoc_10_img67.png (deflated 2%)\r\n",
      "  adding: kaggle/working/test_evaluation_plots_1/epoc_10_img461.png (deflated 2%)\r\n",
      "  adding: kaggle/working/test_evaluation_plots_1/epoc_10_img631.png (deflated 2%)\r\n",
      "  adding: kaggle/working/test_evaluation_plots_1/epoc_10_img511.png (deflated 2%)\r\n",
      "  adding: kaggle/working/test_evaluation_plots_1/epoc_10_img435.png (deflated 2%)\r\n",
      "  adding: kaggle/working/test_evaluation_plots_1/epoc_10_img527.png (deflated 2%)\r\n",
      "  adding: kaggle/working/test_evaluation_plots_1/epoc_10_img137.png (deflated 2%)\r\n",
      "  adding: kaggle/working/test_evaluation_plots_1/epoc_10_img423.png (deflated 2%)\r\n",
      "  adding: kaggle/working/test_evaluation_plots_1/epoc_10_img639.png (deflated 2%)\r\n",
      "  adding: kaggle/working/test_evaluation_plots_1/epoc_10_img217.png (deflated 2%)\r\n",
      "  adding: kaggle/working/test_evaluation_plots_1/epoc_10_img433.png (deflated 2%)\r\n",
      "  adding: kaggle/working/test_evaluation_plots_1/epoc_10_img167.png (deflated 2%)\r\n",
      "  adding: kaggle/working/test_evaluation_plots_1/epoc_10_img7.png (deflated 2%)\r\n",
      "  adding: kaggle/working/test_evaluation_plots_1/epoc_10_img471.png (deflated 2%)\r\n",
      "  adding: kaggle/working/test_evaluation_plots_1/epoc_10_img169.png (deflated 2%)\r\n",
      "  adding: kaggle/working/test_evaluation_plots_1/epoc_10_img183.png (deflated 2%)\r\n",
      "  adding: kaggle/working/test_evaluation_plots_1/epoc_10_img39.png (deflated 2%)\r\n",
      "  adding: kaggle/working/test_evaluation_plots_1/epoc_10_img83.png (deflated 2%)\r\n",
      "  adding: kaggle/working/test_evaluation_plots_1/epoc_10_img579.png (deflated 2%)\r\n",
      "  adding: kaggle/working/test_evaluation_plots_1/epoc_10_img5.png (deflated 2%)\r\n",
      "  adding: kaggle/working/test_evaluation_plots_1/epoc_10_img585.png (deflated 1%)\r\n",
      "  adding: kaggle/working/test_evaluation_plots_1/epoc_10_img589.png (deflated 2%)\r\n",
      "  adding: kaggle/working/test_evaluation_plots_1/epoc_10_img79.png (deflated 3%)\r\n",
      "  adding: kaggle/working/test_evaluation_plots_1/epoc_10_img147.png (deflated 2%)\r\n",
      "  adding: kaggle/working/test_evaluation_plots_1/epoc_10_img177.png (deflated 2%)\r\n",
      "  adding: kaggle/working/test_evaluation_plots_1/epoc_10_img599.png (deflated 2%)\r\n",
      "  adding: kaggle/working/test_evaluation_plots_1/epoc_10_img637.png (deflated 2%)\r\n",
      "  adding: kaggle/working/test_evaluation_plots_1/epoc_10_img185.png (deflated 2%)\r\n",
      "  adding: kaggle/working/test_evaluation_plots_1/epoc_10_img201.png (deflated 2%)\r\n",
      "  adding: kaggle/working/test_evaluation_plots_1/epoc_10_img367.png (deflated 2%)\r\n",
      "  adding: kaggle/working/test_evaluation_plots_1/epoc_10_img49.png (deflated 2%)\r\n",
      "  adding: kaggle/working/test_evaluation_plots_1/epoc_10_img337.png (deflated 2%)\r\n",
      "  adding: kaggle/working/test_evaluation_plots_1/epoc_10_img493.png (deflated 2%)\r\n",
      "  adding: kaggle/working/test_evaluation_plots_1/epoc_10_img233.png (deflated 2%)\r\n",
      "  adding: kaggle/working/test_evaluation_plots_1/epoc_10_img535.png (deflated 2%)\r\n",
      "  adding: kaggle/working/test_evaluation_plots_1/epoc_10_img75.png (deflated 2%)\r\n",
      "  adding: kaggle/working/test_evaluation_plots_1/epoc_10_img621.png (deflated 2%)\r\n",
      "  adding: kaggle/working/test_evaluation_plots_1/epoc_10_img37.png (deflated 2%)\r\n",
      "  adding: kaggle/working/test_evaluation_plots_1/epoc_10_img65.png (deflated 2%)\r\n",
      "  adding: kaggle/working/test_evaluation_plots_1/epoc_10_img195.png (deflated 2%)\r\n",
      "  adding: kaggle/working/test_evaluation_plots_1/epoc_10_img531.png (deflated 2%)\r\n",
      "  adding: kaggle/working/test_evaluation_plots_1/epoc_10_img219.png (deflated 2%)\r\n",
      "  adding: kaggle/working/test_evaluation_plots_1/epoc_10_img591.png (deflated 2%)\r\n",
      "  adding: kaggle/working/test_evaluation_plots_1/epoc_10_img15.png (deflated 2%)\r\n",
      "  adding: kaggle/working/test_evaluation_plots_1/epoc_10_img619.png (deflated 2%)\r\n",
      "  adding: kaggle/working/test_evaluation_plots_1/epoc_10_img221.png (deflated 2%)\r\n",
      "  adding: kaggle/working/test_evaluation_plots_1/epoc_10_img63.png (deflated 2%)\r\n",
      "  adding: kaggle/working/test_evaluation_plots_1/epoc_10_img673.png (deflated 2%)\r\n",
      "  adding: kaggle/working/test_evaluation_plots_1/epoc_10_img391.png (deflated 2%)\r\n",
      "  adding: kaggle/working/test_evaluation_plots_1/epoc_10_img575.png (deflated 2%)\r\n",
      "  adding: kaggle/working/test_evaluation_plots_1/epoc_10_img51.png (deflated 2%)\r\n",
      "  adding: kaggle/working/test_evaluation_plots_1/epoc_10_img81.png (deflated 2%)\r\n",
      "  adding: kaggle/working/test_evaluation_plots_1/epoc_10_img245.png (deflated 2%)\r\n",
      "  adding: kaggle/working/test_evaluation_plots_1/epoc_10_img73.png (deflated 2%)\r\n",
      "  adding: kaggle/working/test_evaluation_plots_1/epoc_10_img329.png (deflated 2%)\r\n",
      "  adding: kaggle/working/test_evaluation_plots_1/epoc_10_img625.png (deflated 2%)\r\n",
      "  adding: kaggle/working/test_evaluation_plots_1/epoc_10_img301.png (deflated 2%)\r\n",
      "  adding: kaggle/working/test_evaluation_plots_1/epoc_10_img247.png (deflated 2%)\r\n",
      "  adding: kaggle/working/test_evaluation_plots_1/epoc_10_img279.png (deflated 2%)\r\n",
      "  adding: kaggle/working/test_evaluation_plots_1/epoc_10_img325.png (deflated 2%)\r\n",
      "  adding: kaggle/working/test_evaluation_plots_1/epoc_10_img657.png (deflated 2%)\r\n",
      "  adding: kaggle/working/test_evaluation_plots_1/epoc_10_img55.png (deflated 2%)\r\n",
      "  adding: kaggle/working/test_evaluation_plots_1/epoc_10_img449.png (deflated 2%)\r\n",
      "  adding: kaggle/working/test_evaluation_plots_1/epoc_10_img347.png (deflated 2%)\r\n",
      "  adding: kaggle/working/test_evaluation_plots_1/epoc_10_img93.png (deflated 2%)\r\n",
      "  adding: kaggle/working/test_evaluation_plots_1/epoc_10_img251.png (deflated 2%)\r\n",
      "  adding: kaggle/working/test_evaluation_plots_1/epoc_10_img353.png (deflated 2%)\r\n",
      "  adding: kaggle/working/test_evaluation_plots_1/epoc_10_img477.png (deflated 2%)\r\n",
      "  adding: kaggle/working/test_evaluation_plots_1/epoc_10_img407.png (deflated 2%)\r\n",
      "  adding: kaggle/working/test_evaluation_plots_1/epoc_10_img203.png (deflated 2%)\r\n",
      "  adding: kaggle/working/test_evaluation_plots_1/epoc_10_img603.png (deflated 2%)\r\n",
      "  adding: kaggle/working/test_evaluation_plots_1/epoc_10_img189.png (deflated 2%)\r\n",
      "  adding: kaggle/working/test_evaluation_plots_1/epoc_10_img31.png (deflated 2%)\r\n",
      "  adding: kaggle/working/test_evaluation_plots_1/epoc_10_img257.png (deflated 2%)\r\n",
      "  adding: kaggle/working/test_evaluation_plots_1/epoc_10_img139.png (deflated 2%)\r\n",
      "  adding: kaggle/working/test_evaluation_plots_1/epoc_10_img417.png (deflated 2%)\r\n",
      "  adding: kaggle/working/test_evaluation_plots_1/epoc_10_img597.png (deflated 2%)\r\n",
      "  adding: kaggle/working/test_evaluation_plots_1/epoc_10_img249.png (deflated 2%)\r\n",
      "  adding: kaggle/working/test_evaluation_plots_1/epoc_10_img287.png (deflated 2%)\r\n",
      "  adding: kaggle/working/test_evaluation_plots_1/epoc_10_img235.png (deflated 2%)\r\n",
      "  adding: kaggle/working/test_evaluation_plots_1/epoc_10_img149.png (deflated 2%)\r\n",
      "  adding: kaggle/working/test_evaluation_plots_1/epoc_10_img269.png (deflated 2%)\r\n",
      "  adding: kaggle/working/test_evaluation_plots_1/epoc_10_img573.png (deflated 2%)\r\n",
      "  adding: kaggle/working/test_evaluation_plots_1/epoc_10_img481.png (deflated 2%)\r\n",
      "  adding: kaggle/working/test_evaluation_plots_1/epoc_10_img607.png (deflated 2%)\r\n",
      "  adding: kaggle/working/test_evaluation_plots_1/epoc_10_img627.png (deflated 2%)\r\n",
      "  adding: kaggle/working/test_evaluation_plots_1/epoc_10_img91.png (deflated 2%)\r\n",
      "  adding: kaggle/working/test_evaluation_plots_1/epoc_10_img349.png (deflated 2%)\r\n",
      "  adding: kaggle/working/test_evaluation_plots_1/epoc_10_img543.png (deflated 2%)\r\n",
      "  adding: kaggle/working/test_evaluation_plots_1/epoc_10_img399.png (deflated 2%)\r\n",
      "  adding: kaggle/working/test_evaluation_plots_1/epoc_10_img131.png (deflated 2%)\r\n",
      "  adding: kaggle/working/test_evaluation_plots_1/epoc_10_img327.png (deflated 2%)\r\n",
      "  adding: kaggle/working/test_evaluation_plots_1/epoc_10_img375.png (deflated 2%)\r\n",
      "  adding: kaggle/working/test_evaluation_plots_1/epoc_10_img207.png (deflated 2%)\r\n",
      "  adding: kaggle/working/test_evaluation_plots_1/epoc_10_img629.png (deflated 2%)\r\n",
      "  adding: kaggle/working/test_evaluation_plots_1/epoc_10_img519.png (deflated 2%)\r\n",
      "  adding: kaggle/working/test_evaluation_plots_1/epoc_10_img319.png (deflated 2%)\r\n",
      "  adding: kaggle/working/test_evaluation_plots_1/epoc_10_img447.png (deflated 2%)\r\n",
      "  adding: kaggle/working/test_evaluation_plots_1/epoc_10_img227.png (deflated 2%)\r\n",
      "  adding: kaggle/working/test_evaluation_plots_1/epoc_10_img473.png (deflated 2%)\r\n",
      "  adding: kaggle/working/test_evaluation_plots_1/epoc_10_img395.png (deflated 2%)\r\n",
      "  adding: kaggle/working/test_evaluation_plots_1/epoc_10_img341.png (deflated 2%)\r\n",
      "  adding: kaggle/working/test_evaluation_plots_1/epoc_10_img107.png (deflated 2%)\r\n",
      "  adding: kaggle/working/test_evaluation_plots_1/epoc_10_img587.png (deflated 2%)\r\n",
      "  adding: kaggle/working/test_evaluation_plots_1/epoc_10_img321.png (deflated 2%)\r\n",
      "  adding: kaggle/working/test_evaluation_plots_1/epoc_10_img213.png (deflated 2%)\r\n",
      "  adding: kaggle/working/test_evaluation_plots_1/epoc_10_img61.png (deflated 2%)\r\n",
      "  adding: kaggle/working/test_evaluation_plots_1/epoc_10_img403.png (deflated 2%)\r\n",
      "  adding: kaggle/working/test_evaluation_plots_1/epoc_10_img19.png (deflated 2%)\r\n",
      "  adding: kaggle/working/test_evaluation_plots_1/epoc_10_img545.png (deflated 2%)\r\n",
      "  adding: kaggle/working/test_evaluation_plots_1/epoc_10_img303.png (deflated 2%)\r\n",
      "  adding: kaggle/working/test_evaluation_plots_1/epoc_10_img95.png (deflated 2%)\r\n",
      "  adding: kaggle/working/test_evaluation_plots_1/epoc_10_img509.png (deflated 2%)\r\n",
      "  adding: kaggle/working/test_evaluation_plots_1/epoc_10_img225.png (deflated 2%)\r\n",
      "  adding: kaggle/working/test_evaluation_plots_1/epoc_10_img153.png (deflated 2%)\r\n",
      "  adding: kaggle/working/test_evaluation_plots_1/epoc_10_img129.png (deflated 2%)\r\n",
      "  adding: kaggle/working/test_evaluation_plots_1/epoc_10_img457.png (deflated 2%)\r\n",
      "  adding: kaggle/working/test_evaluation_plots_1/epoc_10_img271.png (deflated 2%)\r\n",
      "  adding: kaggle/working/test_evaluation_plots_1/epoc_10_img563.png (deflated 2%)\r\n",
      "  adding: kaggle/working/test_evaluation_plots_1/epoc_10_img503.png (deflated 2%)\r\n",
      "  adding: kaggle/working/test_evaluation_plots_1/epoc_10_img583.png (deflated 2%)\r\n",
      "  adding: kaggle/working/test_evaluation_plots_1/epoc_10_img623.png (deflated 2%)\r\n",
      "  adding: kaggle/working/test_evaluation_plots_1/epoc_10_img263.png (deflated 2%)\r\n",
      "  adding: kaggle/working/test_evaluation_plots_1/epoc_10_img1.png (deflated 2%)\r\n",
      "  adding: kaggle/working/test_evaluation_plots_1/epoc_10_img187.png (deflated 2%)\r\n",
      "  adding: kaggle/working/test_evaluation_plots_1/epoc_10_img559.png (deflated 2%)\r\n",
      "  adding: kaggle/working/test_evaluation_plots_1/epoc_10_img459.png (deflated 2%)\r\n",
      "  adding: kaggle/working/test_evaluation_plots_1/epoc_10_img369.png (deflated 2%)\r\n",
      "  adding: kaggle/working/test_evaluation_plots_1/epoc_10_img343.png (deflated 2%)\r\n",
      "  adding: kaggle/working/test_evaluation_plots_1/epoc_10_img445.png (deflated 2%)\r\n",
      "  adding: kaggle/working/test_evaluation_plots_1/epoc_10_img491.png (deflated 2%)\r\n",
      "  adding: kaggle/working/test_evaluation_plots_1/epoc_10_img567.png (deflated 2%)\r\n",
      "  adding: kaggle/working/test_evaluation_plots_1/epoc_10_img291.png (deflated 2%)\r\n",
      "  adding: kaggle/working/test_evaluation_plots_1/epoc_10_img289.png (deflated 2%)\r\n",
      "  adding: kaggle/working/test_evaluation_plots_1/epoc_10_img159.png (deflated 2%)\r\n",
      "  adding: kaggle/working/test_evaluation_plots_1/epoc_10_img465.png (deflated 2%)\r\n",
      "  adding: kaggle/working/test_evaluation_plots_1/epoc_10_img351.png (deflated 2%)\r\n",
      "  adding: kaggle/working/test_evaluation_plots_1/epoc_10_img401.png (deflated 2%)\r\n",
      "  adding: kaggle/working/test_evaluation_plots_1/epoc_10_img385.png (deflated 2%)\r\n",
      "  adding: kaggle/working/test_evaluation_plots_1/epoc_10_img71.png (deflated 2%)\r\n",
      "  adding: kaggle/working/test_evaluation_plots_1/epoc_10_img429.png (deflated 2%)\r\n",
      "  adding: kaggle/working/test_evaluation_plots_1/epoc_10_img179.png (deflated 2%)\r\n",
      "  adding: kaggle/working/test_evaluation_plots_1/epoc_10_img281.png (deflated 2%)\r\n",
      "  adding: kaggle/working/test_evaluation_plots_1/epoc_10_img555.png (deflated 2%)\r\n",
      "  adding: kaggle/working/test_evaluation_plots_1/epoc_10_img277.png (deflated 2%)\r\n",
      "  adding: kaggle/working/test_evaluation_plots_1/epoc_10_img3.png (deflated 2%)\r\n",
      "  adding: kaggle/working/test_evaluation_plots_1/epoc_10_img615.png (deflated 2%)\r\n",
      "  adding: kaggle/working/test_evaluation_plots_1/epoc_10_img611.png (deflated 2%)\r\n",
      "  adding: kaggle/working/test_evaluation_plots_1/epoc_10_img171.png (deflated 2%)\r\n",
      "  adding: kaggle/working/test_evaluation_plots_1/epoc_10_img675.png (deflated 2%)\r\n",
      "  adding: kaggle/working/test_evaluation_plots_1/epoc_10_img339.png (deflated 2%)\r\n",
      "  adding: kaggle/working/test_evaluation_plots_1/epoc_10_img533.png (deflated 2%)\r\n",
      "  adding: kaggle/working/test_evaluation_plots_1/epoc_10_img305.png (deflated 2%)\r\n",
      "  adding: kaggle/working/test_evaluation_plots_1/epoc_10_img317.png (deflated 2%)\r\n",
      "  adding: kaggle/working/test_evaluation_plots_1/epoc_10_img333.png (deflated 2%)\r\n",
      "  adding: kaggle/working/test_evaluation_plots_1/epoc_10_img379.png (deflated 2%)\r\n",
      "  adding: kaggle/working/test_evaluation_plots_1/epoc_10_img501.png (deflated 2%)\r\n",
      "  adding: kaggle/working/test_evaluation_plots_1/epoc_10_img283.png (deflated 2%)\r\n",
      "  adding: kaggle/working/test_evaluation_plots_1/epoc_10_img633.png (deflated 2%)\r\n",
      "  adding: kaggle/working/test_evaluation_plots_1/epoc_10_img489.png (deflated 2%)\r\n",
      "  adding: kaggle/working/test_evaluation_plots_1/epoc_10_img411.png (deflated 2%)\r\n",
      "  adding: kaggle/working/test_evaluation_plots_1/epoc_10_img77.png (deflated 3%)\r\n",
      "  adding: kaggle/working/test_evaluation_plots_1/epoc_10_img115.png (deflated 2%)\r\n",
      "  adding: kaggle/working/test_evaluation_plots_1/epoc_10_img365.png (deflated 2%)\r\n",
      "  adding: kaggle/working/test_evaluation_plots_1/epoc_10_img181.png (deflated 2%)\r\n",
      "  adding: kaggle/working/test_evaluation_plots_1/epoc_10_img113.png (deflated 2%)\r\n",
      "  adding: kaggle/working/test_evaluation_plots_1/epoc_10_img405.png (deflated 2%)\r\n",
      "  adding: kaggle/working/test_evaluation_plots_1/epoc_10_img479.png (deflated 2%)\r\n",
      "  adding: kaggle/working/test_evaluation_plots_1/epoc_10_img613.png (deflated 2%)\r\n",
      "  adding: kaggle/working/test_evaluation_plots_1/epoc_10_img41.png (deflated 2%)\r\n",
      "  adding: kaggle/working/test_evaluation_plots_1/epoc_10_img209.png (deflated 2%)\r\n",
      "  adding: kaggle/working/test_evaluation_plots_1/epoc_10_img309.png (deflated 2%)\r\n",
      "  adding: kaggle/working/test_evaluation_plots_1/epoc_10_img617.png (deflated 2%)\r\n",
      "  adding: kaggle/working/test_evaluation_plots_1/epoc_10_img577.png (deflated 2%)\r\n",
      "  adding: kaggle/working/test_evaluation_plots_1/epoc_10_img175.png (deflated 2%)\r\n",
      "  adding: kaggle/working/test_evaluation_plots_1/epoc_10_img497.png (deflated 2%)\r\n",
      "  adding: kaggle/working/test_evaluation_plots_1/epoc_10_img193.png (deflated 2%)\r\n",
      "  adding: kaggle/working/test_evaluation_plots_1/epoc_10_img69.png (deflated 2%)\r\n",
      "  adding: kaggle/working/test_evaluation_plots_1/epoc_10_img431.png (deflated 2%)\r\n",
      "  adding: kaggle/working/test_evaluation_plots_1/epoc_10_img593.png (deflated 2%)\r\n",
      "  adding: kaggle/working/test_evaluation_plots_1/epoc_10_img595.png (deflated 2%)\r\n",
      "  adding: kaggle/working/test_evaluation_plots_1/epoc_10_img513.png (deflated 2%)\r\n",
      "  adding: kaggle/working/test_evaluation_plots_1/epoc_10_img557.png (deflated 2%)\r\n",
      "  adding: kaggle/working/test_evaluation_plots_1/epoc_10_img443.png (deflated 2%)\r\n",
      "  adding: kaggle/working/test_evaluation_plots_1/epoc_10_img413.png (deflated 2%)\r\n",
      "  adding: kaggle/working/test_evaluation_plots_1/epoc_10_img463.png (deflated 2%)\r\n",
      "  adding: kaggle/working/test_evaluation_plots_1/epoc_10_img43.png (deflated 2%)\r\n",
      "  adding: kaggle/working/test_evaluation_plots_1/epoc_10_img359.png (deflated 2%)\r\n",
      "  adding: kaggle/working/test_evaluation_plots_1/epoc_10_img275.png (deflated 2%)\r\n",
      "  adding: kaggle/working/test_evaluation_plots_1/epoc_10_img451.png (deflated 2%)\r\n",
      "  adding: kaggle/working/test_evaluation_plots_1/epoc_10_img653.png (deflated 2%)\r\n",
      "  adding: kaggle/working/test_evaluation_plots_1/epoc_10_img541.png (deflated 2%)\r\n",
      "  adding: kaggle/working/test_evaluation_plots_1/epoc_10_img609.png (deflated 2%)\r\n",
      "  adding: kaggle/working/test_evaluation_plots_1/epoc_10_img199.png (deflated 2%)\r\n",
      "  adding: kaggle/working/test_evaluation_plots_1/epoc_10_img601.png (deflated 2%)\r\n",
      "  adding: kaggle/working/test_evaluation_plots_1/epoc_10_img85.png (deflated 2%)\r\n",
      "  adding: kaggle/working/test_evaluation_plots_1/epoc_10_img361.png (deflated 2%)\r\n",
      "  adding: kaggle/working/test_evaluation_plots_1/epoc_10_img363.png (deflated 2%)\r\n",
      "  adding: kaggle/working/test_evaluation_plots_1/epoc_10_img205.png (deflated 2%)\r\n",
      "  adding: kaggle/working/test_evaluation_plots_1/epoc_10_img439.png (deflated 2%)\r\n",
      "  adding: kaggle/working/test_evaluation_plots_1/epoc_10_img191.png (deflated 2%)\r\n",
      "  adding: kaggle/working/test_evaluation_plots_1/epoc_10_img345.png (deflated 2%)\r\n",
      "  adding: kaggle/working/test_evaluation_plots_1/epoc_10_img659.png (deflated 2%)\r\n",
      "  adding: kaggle/working/test_evaluation_plots_1/epoc_10_img99.png (deflated 3%)\r\n",
      "  adding: kaggle/working/test_evaluation_plots_1/epoc_10_img331.png (deflated 2%)\r\n",
      "  adding: kaggle/working/test_evaluation_plots_1/epoc_10_img313.png (deflated 2%)\r\n",
      "  adding: kaggle/working/test_evaluation_plots_1/epoc_10_img265.png (deflated 2%)\r\n",
      "  adding: kaggle/working/test_evaluation_plots_1/epoc_10_img377.png (deflated 2%)\r\n",
      "  adding: kaggle/working/test_evaluation_plots_1/epoc_10_img25.png (deflated 2%)\r\n",
      "  adding: kaggle/working/test_evaluation_plots_1/epoc_10_img645.png (deflated 2%)\r\n",
      "  adding: kaggle/working/test_evaluation_plots_1/epoc_10_img111.png (deflated 2%)\r\n",
      "  adding: kaggle/working/test_evaluation_plots_1/epoc_10_img145.png (deflated 2%)\r\n",
      "  adding: kaggle/working/test_evaluation_plots_1/epoc_10_img483.png (deflated 2%)\r\n",
      "  adding: kaggle/working/test_evaluation_plots_1/epoc_10_img9.png (deflated 2%)\r\n",
      "  adding: kaggle/working/test_evaluation_plots_1/epoc_10_img437.png (deflated 2%)\r\n",
      "  adding: kaggle/working/test_evaluation_plots_1/epoc_10_img389.png (deflated 2%)\r\n",
      "  adding: kaggle/working/test_evaluation_plots_1/epoc_10_img273.png (deflated 2%)\r\n",
      "  adding: kaggle/working/test_evaluation_plots_1/epoc_10_img151.png (deflated 2%)\r\n",
      "  adding: kaggle/working/test_evaluation_plots_1/epoc_10_img455.png (deflated 2%)\r\n",
      "  adding: kaggle/working/test_evaluation_plots_1/epoc_10_img297.png (deflated 2%)\r\n",
      "  adding: kaggle/working/test_evaluation_plots_1/epoc_10_img231.png (deflated 2%)\r\n",
      "  adding: kaggle/working/test_evaluation_plots_1/epoc_10_img415.png (deflated 2%)\r\n",
      "  adding: kaggle/working/test_evaluation_plots_1/epoc_10_img53.png (deflated 2%)\r\n",
      "  adding: kaggle/working/test_evaluation_plots_1/epoc_10_img641.png (deflated 2%)\r\n",
      "  adding: kaggle/working/test_evaluation_plots_1/epoc_10_img243.png (deflated 2%)\r\n",
      "  adding: kaggle/working/test_evaluation_plots_1/epoc_10_img161.png (deflated 2%)\r\n",
      "  adding: kaggle/working/test_evaluation_plots_1/epoc_10_img105.png (deflated 2%)\r\n",
      "  adding: kaggle/working/test_evaluation_plots_1/epoc_10_img661.png (deflated 2%)\r\n",
      "  adding: kaggle/working/test_evaluation_plots_1/epoc_10_img13.png (deflated 2%)\r\n",
      "  adding: kaggle/working/test_evaluation_plots_1/epoc_10_img133.png (deflated 2%)\r\n",
      "  adding: kaggle/working/test_evaluation_plots_1/epoc_10_img57.png (deflated 2%)\r\n",
      "  adding: kaggle/working/test_evaluation_plots_1/epoc_10_img47.png (deflated 2%)\r\n",
      "  adding: kaggle/working/test_evaluation_plots_1/epoc_10_img425.png (deflated 2%)\r\n",
      "  adding: kaggle/working/test_evaluation_plots_1/epoc_10_img655.png (deflated 2%)\r\n",
      "  adding: kaggle/working/test_evaluation_plots_1/epoc_10_img383.png (deflated 2%)\r\n",
      "  adding: kaggle/working/test_evaluation_plots_1/epoc_10_img123.png (deflated 2%)\r\n",
      "  adding: kaggle/working/test_evaluation_plots_1/epoc_10_img387.png (deflated 2%)\r\n",
      "  adding: kaggle/working/test_evaluation_plots_1/epoc_10_img229.png (deflated 2%)\r\n",
      "  adding: kaggle/working/test_evaluation_plots_1/epoc_10_img157.png (deflated 2%)\r\n",
      "  adding: kaggle/working/test_evaluation_plots_1/epoc_10_img521.png (deflated 2%)\r\n",
      "  adding: kaggle/working/test_evaluation_plots_1/epoc_10_img553.png (deflated 2%)\r\n"
     ]
    }
   ],
   "source": [
    "for img_i in range(1,len(test_dataset)//2, 2):\n",
    "    save_some_examples(gen_model, test_dataset, NUM_EPOCHS, folder=\"test_evaluation_plots_1\",cm_input=INPUT_CHANGE_MAP, img_indx=img_i)\n",
    "!zip -r /kaggle/working/test_evalplot1.zip  /kaggle/working/test_evaluation_plots_1/"
   ]
  },
  {
   "cell_type": "code",
   "execution_count": 23,
   "id": "588ce5e4",
   "metadata": {
    "execution": {
     "iopub.execute_input": "2023-04-30T10:24:44.911934Z",
     "iopub.status.busy": "2023-04-30T10:24:44.908242Z",
     "iopub.status.idle": "2023-04-30T10:27:47.081493Z",
     "shell.execute_reply": "2023-04-30T10:27:47.080288Z"
    },
    "papermill": {
     "duration": 182.560891,
     "end_time": "2023-04-30T10:27:47.084158",
     "exception": false,
     "start_time": "2023-04-30T10:24:44.523267",
     "status": "completed"
    },
    "tags": []
   },
   "outputs": [
    {
     "name": "stdout",
     "output_type": "stream",
     "text": [
      "  adding: kaggle/working/test_evaluation_plots_2/ (stored 0%)\r\n",
      "  adding: kaggle/working/test_evaluation_plots_2/epoc_10_img978.png (deflated 2%)\r\n",
      "  adding: kaggle/working/test_evaluation_plots_2/epoc_10_img1244.png (deflated 2%)\r\n",
      "  adding: kaggle/working/test_evaluation_plots_2/epoc_10_img1058.png (deflated 2%)\r\n",
      "  adding: kaggle/working/test_evaluation_plots_2/epoc_10_img924.png (deflated 2%)\r\n",
      "  adding: kaggle/working/test_evaluation_plots_2/epoc_10_img1318.png (deflated 2%)\r\n",
      "  adding: kaggle/working/test_evaluation_plots_2/epoc_10_img980.png (deflated 2%)\r\n",
      "  adding: kaggle/working/test_evaluation_plots_2/epoc_10_img1000.png (deflated 2%)\r\n",
      "  adding: kaggle/working/test_evaluation_plots_2/epoc_10_img1306.png (deflated 2%)\r\n",
      "  adding: kaggle/working/test_evaluation_plots_2/epoc_10_img764.png (deflated 2%)\r\n",
      "  adding: kaggle/working/test_evaluation_plots_2/epoc_10_img920.png (deflated 2%)\r\n",
      "  adding: kaggle/working/test_evaluation_plots_2/epoc_10_img1066.png (deflated 2%)\r\n",
      "  adding: kaggle/working/test_evaluation_plots_2/epoc_10_img1196.png (deflated 2%)\r\n",
      "  adding: kaggle/working/test_evaluation_plots_2/epoc_10_img1014.png (deflated 2%)\r\n",
      "  adding: kaggle/working/test_evaluation_plots_2/epoc_10_img1258.png (deflated 2%)\r\n",
      "  adding: kaggle/working/test_evaluation_plots_2/epoc_10_img1232.png (deflated 2%)\r\n",
      "  adding: kaggle/working/test_evaluation_plots_2/epoc_10_img1112.png (deflated 2%)\r\n",
      "  adding: kaggle/working/test_evaluation_plots_2/epoc_10_img1304.png (deflated 2%)\r\n",
      "  adding: kaggle/working/test_evaluation_plots_2/epoc_10_img790.png (deflated 2%)\r\n",
      "  adding: kaggle/working/test_evaluation_plots_2/epoc_10_img696.png (deflated 2%)\r\n",
      "  adding: kaggle/working/test_evaluation_plots_2/epoc_10_img1224.png (deflated 2%)\r\n",
      "  adding: kaggle/working/test_evaluation_plots_2/epoc_10_img808.png (deflated 2%)\r\n",
      "  adding: kaggle/working/test_evaluation_plots_2/epoc_10_img1130.png (deflated 2%)\r\n",
      "  adding: kaggle/working/test_evaluation_plots_2/epoc_10_img944.png (deflated 2%)\r\n",
      "  adding: kaggle/working/test_evaluation_plots_2/epoc_10_img912.png (deflated 2%)\r\n",
      "  adding: kaggle/working/test_evaluation_plots_2/epoc_10_img806.png (deflated 2%)\r\n",
      "  adding: kaggle/working/test_evaluation_plots_2/epoc_10_img788.png (deflated 2%)\r\n",
      "  adding: kaggle/working/test_evaluation_plots_2/epoc_10_img904.png (deflated 2%)\r\n",
      "  adding: kaggle/working/test_evaluation_plots_2/epoc_10_img952.png (deflated 2%)\r\n",
      "  adding: kaggle/working/test_evaluation_plots_2/epoc_10_img1010.png (deflated 2%)\r\n",
      "  adding: kaggle/working/test_evaluation_plots_2/epoc_10_img746.png (deflated 2%)\r\n",
      "  adding: kaggle/working/test_evaluation_plots_2/epoc_10_img1348.png (deflated 2%)\r\n",
      "  adding: kaggle/working/test_evaluation_plots_2/epoc_10_img902.png (deflated 2%)\r\n",
      "  adding: kaggle/working/test_evaluation_plots_2/epoc_10_img700.png (deflated 2%)\r\n",
      "  adding: kaggle/working/test_evaluation_plots_2/epoc_10_img858.png (deflated 2%)\r\n",
      "  adding: kaggle/working/test_evaluation_plots_2/epoc_10_img1052.png (deflated 2%)\r\n",
      "  adding: kaggle/working/test_evaluation_plots_2/epoc_10_img1256.png (deflated 2%)\r\n",
      "  adding: kaggle/working/test_evaluation_plots_2/epoc_10_img722.png (deflated 2%)\r\n",
      "  adding: kaggle/working/test_evaluation_plots_2/epoc_10_img1176.png (deflated 2%)\r\n",
      "  adding: kaggle/working/test_evaluation_plots_2/epoc_10_img1150.png (deflated 2%)\r\n",
      "  adding: kaggle/working/test_evaluation_plots_2/epoc_10_img802.png (deflated 2%)\r\n",
      "  adding: kaggle/working/test_evaluation_plots_2/epoc_10_img994.png (deflated 2%)\r\n",
      "  adding: kaggle/working/test_evaluation_plots_2/epoc_10_img1152.png (deflated 2%)\r\n",
      "  adding: kaggle/working/test_evaluation_plots_2/epoc_10_img1126.png (deflated 2%)\r\n",
      "  adding: kaggle/working/test_evaluation_plots_2/epoc_10_img1024.png (deflated 2%)\r\n",
      "  adding: kaggle/working/test_evaluation_plots_2/epoc_10_img1298.png (deflated 2%)\r\n",
      "  adding: kaggle/working/test_evaluation_plots_2/epoc_10_img798.png (deflated 2%)\r\n",
      "  adding: kaggle/working/test_evaluation_plots_2/epoc_10_img1198.png (deflated 2%)\r\n",
      "  adding: kaggle/working/test_evaluation_plots_2/epoc_10_img976.png (deflated 2%)\r\n",
      "  adding: kaggle/working/test_evaluation_plots_2/epoc_10_img818.png (deflated 2%)\r\n",
      "  adding: kaggle/working/test_evaluation_plots_2/epoc_10_img1226.png (deflated 2%)\r\n",
      "  adding: kaggle/working/test_evaluation_plots_2/epoc_10_img1002.png (deflated 2%)\r\n",
      "  adding: kaggle/working/test_evaluation_plots_2/epoc_10_img724.png (deflated 2%)\r\n",
      "  adding: kaggle/working/test_evaluation_plots_2/epoc_10_img1278.png (deflated 2%)\r\n",
      "  adding: kaggle/working/test_evaluation_plots_2/epoc_10_img1116.png (deflated 2%)\r\n",
      "  adding: kaggle/working/test_evaluation_plots_2/epoc_10_img736.png (deflated 2%)\r\n",
      "  adding: kaggle/working/test_evaluation_plots_2/epoc_10_img760.png (deflated 2%)\r\n",
      "  adding: kaggle/working/test_evaluation_plots_2/epoc_10_img856.png (deflated 2%)\r\n",
      "  adding: kaggle/working/test_evaluation_plots_2/epoc_10_img854.png (deflated 2%)\r\n",
      "  adding: kaggle/working/test_evaluation_plots_2/epoc_10_img678.png (deflated 2%)\r\n",
      "  adding: kaggle/working/test_evaluation_plots_2/epoc_10_img962.png (deflated 2%)\r\n",
      "  adding: kaggle/working/test_evaluation_plots_2/epoc_10_img848.png (deflated 2%)\r\n",
      "  adding: kaggle/working/test_evaluation_plots_2/epoc_10_img990.png (deflated 2%)\r\n",
      "  adding: kaggle/working/test_evaluation_plots_2/epoc_10_img1046.png (deflated 2%)\r\n",
      "  adding: kaggle/working/test_evaluation_plots_2/epoc_10_img1078.png (deflated 2%)\r\n",
      "  adding: kaggle/working/test_evaluation_plots_2/epoc_10_img880.png (deflated 2%)\r\n",
      "  adding: kaggle/working/test_evaluation_plots_2/epoc_10_img1054.png (deflated 2%)\r\n",
      "  adding: kaggle/working/test_evaluation_plots_2/epoc_10_img1092.png (deflated 2%)\r\n",
      "  adding: kaggle/working/test_evaluation_plots_2/epoc_10_img1088.png (deflated 2%)\r\n",
      "  adding: kaggle/working/test_evaluation_plots_2/epoc_10_img1338.png (deflated 2%)\r\n",
      "  adding: kaggle/working/test_evaluation_plots_2/epoc_10_img1230.png (deflated 2%)\r\n",
      "  adding: kaggle/working/test_evaluation_plots_2/epoc_10_img1202.png (deflated 2%)\r\n",
      "  adding: kaggle/working/test_evaluation_plots_2/epoc_10_img906.png (deflated 2%)\r\n",
      "  adding: kaggle/working/test_evaluation_plots_2/epoc_10_img686.png (deflated 2%)\r\n",
      "  adding: kaggle/working/test_evaluation_plots_2/epoc_10_img842.png (deflated 2%)\r\n",
      "  adding: kaggle/working/test_evaluation_plots_2/epoc_10_img964.png (deflated 2%)\r\n",
      "  adding: kaggle/working/test_evaluation_plots_2/epoc_10_img742.png (deflated 2%)\r\n",
      "  adding: kaggle/working/test_evaluation_plots_2/epoc_10_img1094.png (deflated 2%)\r\n",
      "  adding: kaggle/working/test_evaluation_plots_2/epoc_10_img998.png (deflated 2%)\r\n",
      "  adding: kaggle/working/test_evaluation_plots_2/epoc_10_img846.png (deflated 2%)\r\n",
      "  adding: kaggle/working/test_evaluation_plots_2/epoc_10_img838.png (deflated 2%)\r\n",
      "  adding: kaggle/working/test_evaluation_plots_2/epoc_10_img956.png (deflated 2%)\r\n",
      "  adding: kaggle/working/test_evaluation_plots_2/epoc_10_img1280.png (deflated 2%)\r\n",
      "  adding: kaggle/working/test_evaluation_plots_2/epoc_10_img1086.png (deflated 2%)\r\n",
      "  adding: kaggle/working/test_evaluation_plots_2/epoc_10_img1262.png (deflated 2%)\r\n",
      "  adding: kaggle/working/test_evaluation_plots_2/epoc_10_img836.png (deflated 2%)\r\n",
      "  adding: kaggle/working/test_evaluation_plots_2/epoc_10_img1120.png (deflated 2%)\r\n",
      "  adding: kaggle/working/test_evaluation_plots_2/epoc_10_img1170.png (deflated 2%)\r\n",
      "  adding: kaggle/working/test_evaluation_plots_2/epoc_10_img1156.png (deflated 2%)\r\n",
      "  adding: kaggle/working/test_evaluation_plots_2/epoc_10_img1352.png (deflated 2%)\r\n",
      "  adding: kaggle/working/test_evaluation_plots_2/epoc_10_img1260.png (deflated 2%)\r\n",
      "  adding: kaggle/working/test_evaluation_plots_2/epoc_10_img800.png (deflated 2%)\r\n",
      "  adding: kaggle/working/test_evaluation_plots_2/epoc_10_img1266.png (deflated 2%)\r\n",
      "  adding: kaggle/working/test_evaluation_plots_2/epoc_10_img1250.png (deflated 2%)\r\n",
      "  adding: kaggle/working/test_evaluation_plots_2/epoc_10_img968.png (deflated 2%)\r\n",
      "  adding: kaggle/working/test_evaluation_plots_2/epoc_10_img1118.png (deflated 2%)\r\n",
      "  adding: kaggle/working/test_evaluation_plots_2/epoc_10_img1188.png (deflated 2%)\r\n",
      "  adding: kaggle/working/test_evaluation_plots_2/epoc_10_img1204.png (deflated 2%)\r\n",
      "  adding: kaggle/working/test_evaluation_plots_2/epoc_10_img730.png (deflated 2%)\r\n",
      "  adding: kaggle/working/test_evaluation_plots_2/epoc_10_img1042.png (deflated 2%)\r\n",
      "  adding: kaggle/working/test_evaluation_plots_2/epoc_10_img1216.png (deflated 2%)\r\n",
      "  adding: kaggle/working/test_evaluation_plots_2/epoc_10_img1148.png (deflated 2%)\r\n",
      "  adding: kaggle/working/test_evaluation_plots_2/epoc_10_img758.png (deflated 2%)\r\n",
      "  adding: kaggle/working/test_evaluation_plots_2/epoc_10_img1238.png (deflated 2%)\r\n",
      "  adding: kaggle/working/test_evaluation_plots_2/epoc_10_img728.png (deflated 2%)\r\n",
      "  adding: kaggle/working/test_evaluation_plots_2/epoc_10_img834.png (deflated 2%)\r\n",
      "  adding: kaggle/working/test_evaluation_plots_2/epoc_10_img1060.png (deflated 2%)\r\n",
      "  adding: kaggle/working/test_evaluation_plots_2/epoc_10_img738.png (deflated 2%)\r\n",
      "  adding: kaggle/working/test_evaluation_plots_2/epoc_10_img1008.png (deflated 2%)\r\n",
      "  adding: kaggle/working/test_evaluation_plots_2/epoc_10_img1328.png (deflated 2%)\r\n",
      "  adding: kaggle/working/test_evaluation_plots_2/epoc_10_img822.png (deflated 2%)\r\n",
      "  adding: kaggle/working/test_evaluation_plots_2/epoc_10_img814.png (deflated 2%)\r\n",
      "  adding: kaggle/working/test_evaluation_plots_2/epoc_10_img1252.png (deflated 2%)\r\n",
      "  adding: kaggle/working/test_evaluation_plots_2/epoc_10_img1282.png (deflated 2%)\r\n",
      "  adding: kaggle/working/test_evaluation_plots_2/epoc_10_img970.png (deflated 2%)\r\n",
      "  adding: kaggle/working/test_evaluation_plots_2/epoc_10_img1090.png (deflated 2%)\r\n",
      "  adding: kaggle/working/test_evaluation_plots_2/epoc_10_img694.png (deflated 2%)\r\n",
      "  adding: kaggle/working/test_evaluation_plots_2/epoc_10_img1276.png (deflated 2%)\r\n",
      "  adding: kaggle/working/test_evaluation_plots_2/epoc_10_img776.png (deflated 3%)\r\n",
      "  adding: kaggle/working/test_evaluation_plots_2/epoc_10_img1290.png (deflated 2%)\r\n",
      "  adding: kaggle/working/test_evaluation_plots_2/epoc_10_img1270.png (deflated 2%)\r\n",
      "  adding: kaggle/working/test_evaluation_plots_2/epoc_10_img1346.png (deflated 2%)\r\n",
      "  adding: kaggle/working/test_evaluation_plots_2/epoc_10_img930.png (deflated 2%)\r\n",
      "  adding: kaggle/working/test_evaluation_plots_2/epoc_10_img1124.png (deflated 2%)\r\n",
      "  adding: kaggle/working/test_evaluation_plots_2/epoc_10_img1044.png (deflated 2%)\r\n",
      "  adding: kaggle/working/test_evaluation_plots_2/epoc_10_img1050.png (deflated 2%)\r\n",
      "  adding: kaggle/working/test_evaluation_plots_2/epoc_10_img1018.png (deflated 2%)\r\n",
      "  adding: kaggle/working/test_evaluation_plots_2/epoc_10_img712.png (deflated 2%)\r\n",
      "  adding: kaggle/working/test_evaluation_plots_2/epoc_10_img1146.png (deflated 2%)\r\n",
      "  adding: kaggle/working/test_evaluation_plots_2/epoc_10_img698.png (deflated 2%)\r\n",
      "  adding: kaggle/working/test_evaluation_plots_2/epoc_10_img754.png (deflated 2%)\r\n",
      "  adding: kaggle/working/test_evaluation_plots_2/epoc_10_img972.png (deflated 2%)\r\n",
      "  adding: kaggle/working/test_evaluation_plots_2/epoc_10_img768.png (deflated 2%)\r\n",
      "  adding: kaggle/working/test_evaluation_plots_2/epoc_10_img982.png (deflated 2%)\r\n",
      "  adding: kaggle/working/test_evaluation_plots_2/epoc_10_img1158.png (deflated 2%)\r\n",
      "  adding: kaggle/working/test_evaluation_plots_2/epoc_10_img916.png (deflated 2%)\r\n",
      "  adding: kaggle/working/test_evaluation_plots_2/epoc_10_img1340.png (deflated 2%)\r\n",
      "  adding: kaggle/working/test_evaluation_plots_2/epoc_10_img1344.png (deflated 2%)\r\n",
      "  adding: kaggle/working/test_evaluation_plots_2/epoc_10_img688.png (deflated 2%)\r\n",
      "  adding: kaggle/working/test_evaluation_plots_2/epoc_10_img928.png (deflated 2%)\r\n",
      "  adding: kaggle/working/test_evaluation_plots_2/epoc_10_img832.png (deflated 2%)\r\n",
      "  adding: kaggle/working/test_evaluation_plots_2/epoc_10_img1164.png (deflated 2%)\r\n",
      "  adding: kaggle/working/test_evaluation_plots_2/epoc_10_img750.png (deflated 2%)\r\n",
      "  adding: kaggle/working/test_evaluation_plots_2/epoc_10_img878.png (deflated 2%)\r\n",
      "  adding: kaggle/working/test_evaluation_plots_2/epoc_10_img830.png (deflated 2%)\r\n",
      "  adding: kaggle/working/test_evaluation_plots_2/epoc_10_img1026.png (deflated 2%)\r\n",
      "  adding: kaggle/working/test_evaluation_plots_2/epoc_10_img1036.png (deflated 2%)\r\n",
      "  adding: kaggle/working/test_evaluation_plots_2/epoc_10_img1068.png (deflated 2%)\r\n",
      "  adding: kaggle/working/test_evaluation_plots_2/epoc_10_img1030.png (deflated 2%)\r\n",
      "  adding: kaggle/working/test_evaluation_plots_2/epoc_10_img684.png (deflated 2%)\r\n",
      "  adding: kaggle/working/test_evaluation_plots_2/epoc_10_img744.png (deflated 2%)\r\n",
      "  adding: kaggle/working/test_evaluation_plots_2/epoc_10_img1274.png (deflated 2%)\r\n",
      "  adding: kaggle/working/test_evaluation_plots_2/epoc_10_img894.png (deflated 2%)\r\n",
      "  adding: kaggle/working/test_evaluation_plots_2/epoc_10_img950.png (deflated 2%)\r\n",
      "  adding: kaggle/working/test_evaluation_plots_2/epoc_10_img1182.png (deflated 2%)\r\n",
      "  adding: kaggle/working/test_evaluation_plots_2/epoc_10_img882.png (deflated 2%)\r\n",
      "  adding: kaggle/working/test_evaluation_plots_2/epoc_10_img1072.png (deflated 2%)\r\n",
      "  adding: kaggle/working/test_evaluation_plots_2/epoc_10_img1028.png (deflated 2%)\r\n",
      "  adding: kaggle/working/test_evaluation_plots_2/epoc_10_img1316.png (deflated 2%)\r\n",
      "  adding: kaggle/working/test_evaluation_plots_2/epoc_10_img1040.png (deflated 2%)\r\n",
      "  adding: kaggle/working/test_evaluation_plots_2/epoc_10_img940.png (deflated 2%)\r\n",
      "  adding: kaggle/working/test_evaluation_plots_2/epoc_10_img794.png (deflated 2%)\r\n",
      "  adding: kaggle/working/test_evaluation_plots_2/epoc_10_img966.png (deflated 2%)\r\n",
      "  adding: kaggle/working/test_evaluation_plots_2/epoc_10_img872.png (deflated 2%)\r\n",
      "  adding: kaggle/working/test_evaluation_plots_2/epoc_10_img1222.png (deflated 2%)\r\n",
      "  adding: kaggle/working/test_evaluation_plots_2/epoc_10_img1064.png (deflated 2%)\r\n",
      "  adding: kaggle/working/test_evaluation_plots_2/epoc_10_img1080.png (deflated 2%)\r\n",
      "  adding: kaggle/working/test_evaluation_plots_2/epoc_10_img1310.png (deflated 2%)\r\n",
      "  adding: kaggle/working/test_evaluation_plots_2/epoc_10_img1136.png (deflated 2%)\r\n",
      "  adding: kaggle/working/test_evaluation_plots_2/epoc_10_img710.png (deflated 2%)\r\n",
      "  adding: kaggle/working/test_evaluation_plots_2/epoc_10_img932.png (deflated 2%)\r\n",
      "  adding: kaggle/working/test_evaluation_plots_2/epoc_10_img1190.png (deflated 2%)\r\n",
      "  adding: kaggle/working/test_evaluation_plots_2/epoc_10_img1284.png (deflated 2%)\r\n",
      "  adding: kaggle/working/test_evaluation_plots_2/epoc_10_img1034.png (deflated 2%)\r\n",
      "  adding: kaggle/working/test_evaluation_plots_2/epoc_10_img1102.png (deflated 2%)\r\n",
      "  adding: kaggle/working/test_evaluation_plots_2/epoc_10_img692.png (deflated 2%)\r\n",
      "  adding: kaggle/working/test_evaluation_plots_2/epoc_10_img1142.png (deflated 2%)\r\n",
      "  adding: kaggle/working/test_evaluation_plots_2/epoc_10_img762.png (deflated 2%)\r\n",
      "  adding: kaggle/working/test_evaluation_plots_2/epoc_10_img1324.png (deflated 2%)\r\n",
      "  adding: kaggle/working/test_evaluation_plots_2/epoc_10_img1100.png (deflated 2%)\r\n",
      "  adding: kaggle/working/test_evaluation_plots_2/epoc_10_img934.png (deflated 2%)\r\n",
      "  adding: kaggle/working/test_evaluation_plots_2/epoc_10_img1096.png (deflated 2%)\r\n",
      "  adding: kaggle/working/test_evaluation_plots_2/epoc_10_img840.png (deflated 2%)\r\n",
      "  adding: kaggle/working/test_evaluation_plots_2/epoc_10_img988.png (deflated 2%)\r\n",
      "  adding: kaggle/working/test_evaluation_plots_2/epoc_10_img986.png (deflated 2%)\r\n",
      "  adding: kaggle/working/test_evaluation_plots_2/epoc_10_img896.png (deflated 2%)\r\n",
      "  adding: kaggle/working/test_evaluation_plots_2/epoc_10_img1272.png (deflated 2%)\r\n",
      "  adding: kaggle/working/test_evaluation_plots_2/epoc_10_img1240.png (deflated 2%)\r\n",
      "  adding: kaggle/working/test_evaluation_plots_2/epoc_10_img1012.png (deflated 2%)\r\n",
      "  adding: kaggle/working/test_evaluation_plots_2/epoc_10_img1038.png (deflated 2%)\r\n",
      "  adding: kaggle/working/test_evaluation_plots_2/epoc_10_img704.png (deflated 2%)\r\n",
      "  adding: kaggle/working/test_evaluation_plots_2/epoc_10_img680.png (deflated 2%)\r\n",
      "  adding: kaggle/working/test_evaluation_plots_2/epoc_10_img1076.png (deflated 2%)\r\n",
      "  adding: kaggle/working/test_evaluation_plots_2/epoc_10_img824.png (deflated 2%)\r\n",
      "  adding: kaggle/working/test_evaluation_plots_2/epoc_10_img816.png (deflated 2%)\r\n",
      "  adding: kaggle/working/test_evaluation_plots_2/epoc_10_img1228.png (deflated 2%)\r\n",
      "  adding: kaggle/working/test_evaluation_plots_2/epoc_10_img752.png (deflated 2%)\r\n",
      "  adding: kaggle/working/test_evaluation_plots_2/epoc_10_img1140.png (deflated 2%)\r\n",
      "  adding: kaggle/working/test_evaluation_plots_2/epoc_10_img1180.png (deflated 2%)\r\n",
      "  adding: kaggle/working/test_evaluation_plots_2/epoc_10_img1106.png (deflated 2%)\r\n",
      "  adding: kaggle/working/test_evaluation_plots_2/epoc_10_img984.png (deflated 2%)\r\n",
      "  adding: kaggle/working/test_evaluation_plots_2/epoc_10_img1322.png (deflated 2%)\r\n",
      "  adding: kaggle/working/test_evaluation_plots_2/epoc_10_img1246.png (deflated 2%)\r\n",
      "  adding: kaggle/working/test_evaluation_plots_2/epoc_10_img914.png (deflated 2%)\r\n",
      "  adding: kaggle/working/test_evaluation_plots_2/epoc_10_img1084.png (deflated 2%)\r\n",
      "  adding: kaggle/working/test_evaluation_plots_2/epoc_10_img1336.png (deflated 2%)\r\n",
      "  adding: kaggle/working/test_evaluation_plots_2/epoc_10_img706.png (deflated 2%)\r\n",
      "  adding: kaggle/working/test_evaluation_plots_2/epoc_10_img1048.png (deflated 2%)\r\n",
      "  adding: kaggle/working/test_evaluation_plots_2/epoc_10_img1168.png (deflated 2%)\r\n",
      "  adding: kaggle/working/test_evaluation_plots_2/epoc_10_img820.png (deflated 2%)\r\n",
      "  adding: kaggle/working/test_evaluation_plots_2/epoc_10_img910.png (deflated 2%)\r\n",
      "  adding: kaggle/working/test_evaluation_plots_2/epoc_10_img1314.png (deflated 2%)\r\n",
      "  adding: kaggle/working/test_evaluation_plots_2/epoc_10_img708.png (deflated 2%)\r\n",
      "  adding: kaggle/working/test_evaluation_plots_2/epoc_10_img992.png (deflated 2%)\r\n",
      "  adding: kaggle/working/test_evaluation_plots_2/epoc_10_img1268.png (deflated 2%)\r\n",
      "  adding: kaggle/working/test_evaluation_plots_2/epoc_10_img938.png (deflated 2%)\r\n",
      "  adding: kaggle/working/test_evaluation_plots_2/epoc_10_img1022.png (deflated 2%)\r\n",
      "  adding: kaggle/working/test_evaluation_plots_2/epoc_10_img1288.png (deflated 2%)\r\n",
      "  adding: kaggle/working/test_evaluation_plots_2/epoc_10_img1286.png (deflated 2%)\r\n",
      "  adding: kaggle/working/test_evaluation_plots_2/epoc_10_img732.png (deflated 2%)\r\n",
      "  adding: kaggle/working/test_evaluation_plots_2/epoc_10_img862.png (deflated 2%)\r\n",
      "  adding: kaggle/working/test_evaluation_plots_2/epoc_10_img1144.png (deflated 2%)\r\n",
      "  adding: kaggle/working/test_evaluation_plots_2/epoc_10_img1004.png (deflated 2%)\r\n",
      "  adding: kaggle/working/test_evaluation_plots_2/epoc_10_img1006.png (deflated 2%)\r\n",
      "  adding: kaggle/working/test_evaluation_plots_2/epoc_10_img850.png (deflated 2%)\r\n",
      "  adding: kaggle/working/test_evaluation_plots_2/epoc_10_img898.png (deflated 2%)\r\n",
      "  adding: kaggle/working/test_evaluation_plots_2/epoc_10_img1186.png (deflated 2%)\r\n",
      "  adding: kaggle/working/test_evaluation_plots_2/epoc_10_img716.png (deflated 2%)\r\n",
      "  adding: kaggle/working/test_evaluation_plots_2/epoc_10_img718.png (deflated 2%)\r\n",
      "  adding: kaggle/working/test_evaluation_plots_2/epoc_10_img690.png (deflated 2%)\r\n",
      "  adding: kaggle/working/test_evaluation_plots_2/epoc_10_img1134.png (deflated 2%)\r\n",
      "  adding: kaggle/working/test_evaluation_plots_2/epoc_10_img774.png (deflated 2%)\r\n",
      "  adding: kaggle/working/test_evaluation_plots_2/epoc_10_img886.png (deflated 2%)\r\n",
      "  adding: kaggle/working/test_evaluation_plots_2/epoc_10_img1248.png (deflated 2%)\r\n",
      "  adding: kaggle/working/test_evaluation_plots_2/epoc_10_img804.png (deflated 2%)\r\n",
      "  adding: kaggle/working/test_evaluation_plots_2/epoc_10_img868.png (deflated 2%)\r\n",
      "  adding: kaggle/working/test_evaluation_plots_2/epoc_10_img996.png (deflated 2%)\r\n",
      "  adding: kaggle/working/test_evaluation_plots_2/epoc_10_img874.png (deflated 2%)\r\n",
      "  adding: kaggle/working/test_evaluation_plots_2/epoc_10_img720.png (deflated 2%)\r\n",
      "  adding: kaggle/working/test_evaluation_plots_2/epoc_10_img772.png (deflated 2%)\r\n",
      "  adding: kaggle/working/test_evaluation_plots_2/epoc_10_img1350.png (deflated 2%)\r\n",
      "  adding: kaggle/working/test_evaluation_plots_2/epoc_10_img844.png (deflated 2%)\r\n",
      "  adding: kaggle/working/test_evaluation_plots_2/epoc_10_img778.png (deflated 2%)\r\n",
      "  adding: kaggle/working/test_evaluation_plots_2/epoc_10_img828.png (deflated 2%)\r\n",
      "  adding: kaggle/working/test_evaluation_plots_2/epoc_10_img870.png (deflated 2%)\r\n",
      "  adding: kaggle/working/test_evaluation_plots_2/epoc_10_img922.png (deflated 2%)\r\n",
      "  adding: kaggle/working/test_evaluation_plots_2/epoc_10_img900.png (deflated 2%)\r\n",
      "  adding: kaggle/working/test_evaluation_plots_2/epoc_10_img1062.png (deflated 2%)\r\n",
      "  adding: kaggle/working/test_evaluation_plots_2/epoc_10_img1206.png (deflated 2%)\r\n",
      "  adding: kaggle/working/test_evaluation_plots_2/epoc_10_img958.png (deflated 2%)\r\n",
      "  adding: kaggle/working/test_evaluation_plots_2/epoc_10_img1300.png (deflated 2%)\r\n",
      "  adding: kaggle/working/test_evaluation_plots_2/epoc_10_img1128.png (deflated 2%)\r\n",
      "  adding: kaggle/working/test_evaluation_plots_2/epoc_10_img1154.png (deflated 2%)\r\n",
      "  adding: kaggle/working/test_evaluation_plots_2/epoc_10_img1210.png (deflated 2%)\r\n",
      "  adding: kaggle/working/test_evaluation_plots_2/epoc_10_img860.png (deflated 2%)\r\n",
      "  adding: kaggle/working/test_evaluation_plots_2/epoc_10_img766.png (deflated 2%)\r\n",
      "  adding: kaggle/working/test_evaluation_plots_2/epoc_10_img1070.png (deflated 2%)\r\n",
      "  adding: kaggle/working/test_evaluation_plots_2/epoc_10_img1200.png (deflated 2%)\r\n",
      "  adding: kaggle/working/test_evaluation_plots_2/epoc_10_img1016.png (deflated 2%)\r\n",
      "  adding: kaggle/working/test_evaluation_plots_2/epoc_10_img714.png (deflated 2%)\r\n",
      "  adding: kaggle/working/test_evaluation_plots_2/epoc_10_img796.png (deflated 2%)\r\n",
      "  adding: kaggle/working/test_evaluation_plots_2/epoc_10_img974.png (deflated 2%)\r\n",
      "  adding: kaggle/working/test_evaluation_plots_2/epoc_10_img740.png (deflated 2%)\r\n",
      "  adding: kaggle/working/test_evaluation_plots_2/epoc_10_img770.png (deflated 2%)\r\n",
      "  adding: kaggle/working/test_evaluation_plots_2/epoc_10_img748.png (deflated 2%)\r\n",
      "  adding: kaggle/working/test_evaluation_plots_2/epoc_10_img810.png (deflated 2%)\r\n",
      "  adding: kaggle/working/test_evaluation_plots_2/epoc_10_img1082.png (deflated 2%)\r\n",
      "  adding: kaggle/working/test_evaluation_plots_2/epoc_10_img1122.png (deflated 2%)\r\n",
      "  adding: kaggle/working/test_evaluation_plots_2/epoc_10_img1032.png (deflated 2%)\r\n",
      "  adding: kaggle/working/test_evaluation_plots_2/epoc_10_img908.png (deflated 2%)\r\n",
      "  adding: kaggle/working/test_evaluation_plots_2/epoc_10_img1296.png (deflated 2%)\r\n",
      "  adding: kaggle/working/test_evaluation_plots_2/epoc_10_img1326.png (deflated 2%)\r\n",
      "  adding: kaggle/working/test_evaluation_plots_2/epoc_10_img792.png (deflated 2%)\r\n",
      "  adding: kaggle/working/test_evaluation_plots_2/epoc_10_img1020.png (deflated 2%)\r\n",
      "  adding: kaggle/working/test_evaluation_plots_2/epoc_10_img948.png (deflated 2%)\r\n",
      "  adding: kaggle/working/test_evaluation_plots_2/epoc_10_img1108.png (deflated 2%)\r\n",
      "  adding: kaggle/working/test_evaluation_plots_2/epoc_10_img780.png (deflated 2%)\r\n",
      "  adding: kaggle/working/test_evaluation_plots_2/epoc_10_img1342.png (deflated 2%)\r\n",
      "  adding: kaggle/working/test_evaluation_plots_2/epoc_10_img1160.png (deflated 2%)\r\n",
      "  adding: kaggle/working/test_evaluation_plots_2/epoc_10_img786.png (deflated 2%)\r\n",
      "  adding: kaggle/working/test_evaluation_plots_2/epoc_10_img702.png (deflated 2%)\r\n",
      "  adding: kaggle/working/test_evaluation_plots_2/epoc_10_img1098.png (deflated 2%)\r\n",
      "  adding: kaggle/working/test_evaluation_plots_2/epoc_10_img1114.png (deflated 2%)\r\n",
      "  adding: kaggle/working/test_evaluation_plots_2/epoc_10_img1320.png (deflated 2%)\r\n",
      "  adding: kaggle/working/test_evaluation_plots_2/epoc_10_img784.png (deflated 2%)\r\n",
      "  adding: kaggle/working/test_evaluation_plots_2/epoc_10_img1194.png (deflated 2%)\r\n",
      "  adding: kaggle/working/test_evaluation_plots_2/epoc_10_img1254.png (deflated 2%)\r\n",
      "  adding: kaggle/working/test_evaluation_plots_2/epoc_10_img1056.png (deflated 2%)\r\n",
      "  adding: kaggle/working/test_evaluation_plots_2/epoc_10_img1172.png (deflated 2%)\r\n",
      "  adding: kaggle/working/test_evaluation_plots_2/epoc_10_img1208.png (deflated 2%)\r\n",
      "  adding: kaggle/working/test_evaluation_plots_2/epoc_10_img1212.png (deflated 2%)\r\n",
      "  adding: kaggle/working/test_evaluation_plots_2/epoc_10_img926.png (deflated 2%)\r\n",
      "  adding: kaggle/working/test_evaluation_plots_2/epoc_10_img1302.png (deflated 2%)\r\n",
      "  adding: kaggle/working/test_evaluation_plots_2/epoc_10_img726.png (deflated 2%)\r\n",
      "  adding: kaggle/working/test_evaluation_plots_2/epoc_10_img734.png (deflated 2%)\r\n",
      "  adding: kaggle/working/test_evaluation_plots_2/epoc_10_img866.png (deflated 2%)\r\n",
      "  adding: kaggle/working/test_evaluation_plots_2/epoc_10_img876.png (deflated 2%)\r\n",
      "  adding: kaggle/working/test_evaluation_plots_2/epoc_10_img826.png (deflated 2%)\r\n",
      "  adding: kaggle/working/test_evaluation_plots_2/epoc_10_img1214.png (deflated 2%)\r\n",
      "  adding: kaggle/working/test_evaluation_plots_2/epoc_10_img1110.png (deflated 2%)\r\n",
      "  adding: kaggle/working/test_evaluation_plots_2/epoc_10_img864.png (deflated 2%)\r\n",
      "  adding: kaggle/working/test_evaluation_plots_2/epoc_10_img954.png (deflated 2%)\r\n",
      "  adding: kaggle/working/test_evaluation_plots_2/epoc_10_img1308.png (deflated 2%)\r\n",
      "  adding: kaggle/working/test_evaluation_plots_2/epoc_10_img1178.png (deflated 2%)\r\n",
      "  adding: kaggle/working/test_evaluation_plots_2/epoc_10_img682.png (deflated 2%)\r\n",
      "  adding: kaggle/working/test_evaluation_plots_2/epoc_10_img884.png (deflated 2%)\r\n",
      "  adding: kaggle/working/test_evaluation_plots_2/epoc_10_img1264.png (deflated 2%)\r\n",
      "  adding: kaggle/working/test_evaluation_plots_2/epoc_10_img890.png (deflated 2%)\r\n",
      "  adding: kaggle/working/test_evaluation_plots_2/epoc_10_img946.png (deflated 2%)\r\n",
      "  adding: kaggle/working/test_evaluation_plots_2/epoc_10_img812.png (deflated 2%)\r\n",
      "  adding: kaggle/working/test_evaluation_plots_2/epoc_10_img1132.png (deflated 2%)\r\n",
      "  adding: kaggle/working/test_evaluation_plots_2/epoc_10_img1242.png (deflated 2%)\r\n",
      "  adding: kaggle/working/test_evaluation_plots_2/epoc_10_img1162.png (deflated 2%)\r\n",
      "  adding: kaggle/working/test_evaluation_plots_2/epoc_10_img1312.png (deflated 2%)\r\n",
      "  adding: kaggle/working/test_evaluation_plots_2/epoc_10_img936.png (deflated 2%)\r\n",
      "  adding: kaggle/working/test_evaluation_plots_2/epoc_10_img1294.png (deflated 2%)\r\n",
      "  adding: kaggle/working/test_evaluation_plots_2/epoc_10_img1174.png (deflated 2%)\r\n",
      "  adding: kaggle/working/test_evaluation_plots_2/epoc_10_img1292.png (deflated 2%)\r\n",
      "  adding: kaggle/working/test_evaluation_plots_2/epoc_10_img1332.png (deflated 2%)\r\n",
      "  adding: kaggle/working/test_evaluation_plots_2/epoc_10_img1334.png (deflated 2%)\r\n",
      "  adding: kaggle/working/test_evaluation_plots_2/epoc_10_img1192.png (deflated 2%)\r\n",
      "  adding: kaggle/working/test_evaluation_plots_2/epoc_10_img756.png (deflated 3%)\r\n",
      "  adding: kaggle/working/test_evaluation_plots_2/epoc_10_img852.png (deflated 2%)\r\n",
      "  adding: kaggle/working/test_evaluation_plots_2/epoc_10_img1220.png (deflated 2%)\r\n",
      "  adding: kaggle/working/test_evaluation_plots_2/epoc_10_img960.png (deflated 2%)\r\n",
      "  adding: kaggle/working/test_evaluation_plots_2/epoc_10_img1166.png (deflated 2%)\r\n",
      "  adding: kaggle/working/test_evaluation_plots_2/epoc_10_img892.png (deflated 2%)\r\n",
      "  adding: kaggle/working/test_evaluation_plots_2/epoc_10_img1236.png (deflated 2%)\r\n",
      "  adding: kaggle/working/test_evaluation_plots_2/epoc_10_img1184.png (deflated 2%)\r\n",
      "  adding: kaggle/working/test_evaluation_plots_2/epoc_10_img888.png (deflated 2%)\r\n",
      "  adding: kaggle/working/test_evaluation_plots_2/epoc_10_img782.png (deflated 2%)\r\n",
      "  adding: kaggle/working/test_evaluation_plots_2/epoc_10_img1104.png (deflated 2%)\r\n",
      "  adding: kaggle/working/test_evaluation_plots_2/epoc_10_img1330.png (deflated 2%)\r\n",
      "  adding: kaggle/working/test_evaluation_plots_2/epoc_10_img918.png (deflated 2%)\r\n",
      "  adding: kaggle/working/test_evaluation_plots_2/epoc_10_img1074.png (deflated 2%)\r\n",
      "  adding: kaggle/working/test_evaluation_plots_2/epoc_10_img1138.png (deflated 2%)\r\n",
      "  adding: kaggle/working/test_evaluation_plots_2/epoc_10_img942.png (deflated 2%)\r\n",
      "  adding: kaggle/working/test_evaluation_plots_2/epoc_10_img1234.png (deflated 2%)\r\n",
      "  adding: kaggle/working/test_evaluation_plots_2/epoc_10_img1218.png (deflated 2%)\r\n"
     ]
    }
   ],
   "source": [
    "for img_i in range((len(test_dataset)//2)+1,len(test_dataset), 2):\n",
    "    save_some_examples(gen_model, test_dataset, NUM_EPOCHS, folder=\"test_evaluation_plots_2\",cm_input=INPUT_CHANGE_MAP, img_indx=img_i)\n",
    "!zip -r /kaggle/working/test_evalplot2.zip  /kaggle/working/test_evaluation_plots_2/"
   ]
  },
  {
   "cell_type": "code",
   "execution_count": 24,
   "id": "b9d82215",
   "metadata": {
    "execution": {
     "iopub.execute_input": "2023-04-30T10:27:47.940129Z",
     "iopub.status.busy": "2023-04-30T10:27:47.939453Z",
     "iopub.status.idle": "2023-04-30T10:27:47.944824Z",
     "shell.execute_reply": "2023-04-30T10:27:47.943710Z"
    },
    "papermill": {
     "duration": 0.414271,
     "end_time": "2023-04-30T10:27:47.947490",
     "exception": false,
     "start_time": "2023-04-30T10:27:47.533219",
     "status": "completed"
    },
    "tags": []
   },
   "outputs": [],
   "source": [
    "# !zip -r /kaggle/working/train_evalplot.zip  /kaggle/working/train_evaluation_plots/"
   ]
  },
  {
   "cell_type": "code",
   "execution_count": 25,
   "id": "c0d02ebb",
   "metadata": {
    "execution": {
     "iopub.execute_input": "2023-04-30T10:27:48.740738Z",
     "iopub.status.busy": "2023-04-30T10:27:48.740120Z",
     "iopub.status.idle": "2023-04-30T10:27:48.745087Z",
     "shell.execute_reply": "2023-04-30T10:27:48.744002Z"
    },
    "papermill": {
     "duration": 0.405887,
     "end_time": "2023-04-30T10:27:48.747483",
     "exception": false,
     "start_time": "2023-04-30T10:27:48.341596",
     "status": "completed"
    },
    "tags": []
   },
   "outputs": [],
   "source": [
    "# from IPython.display import FileLink\n",
    "# FileLink(r'/kaggle/working/evalplot.zip')"
   ]
  },
  {
   "cell_type": "code",
   "execution_count": 26,
   "id": "d3fdd577",
   "metadata": {
    "execution": {
     "iopub.execute_input": "2023-04-30T10:27:49.583303Z",
     "iopub.status.busy": "2023-04-30T10:27:49.582236Z",
     "iopub.status.idle": "2023-04-30T10:27:49.588207Z",
     "shell.execute_reply": "2023-04-30T10:27:49.587111Z"
    },
    "papermill": {
     "duration": 0.402573,
     "end_time": "2023-04-30T10:27:49.590411",
     "exception": false,
     "start_time": "2023-04-30T10:27:49.187838",
     "status": "completed"
    },
    "tags": []
   },
   "outputs": [],
   "source": [
    "# def eval_graph_fn(gen, loader, ssim, psnr):\n",
    "#     gen.eval()\n",
    "#     loop = tqdm(loader, leave=True)\n",
    "    \n",
    "#     wssim_ratio_list = []\n",
    "#     wpsnr_ratio_list = []\n",
    "#     s1cm_mean_list   = []\n",
    "    \n",
    "#     for idx, (s2t2,s1t2,s2t1,s1t1,cm,rcm,s1cm) in enumerate(loop):\n",
    "#         s2t2,s1t2,s2t1,s1t1,cm,rcm,s1cm = s2t2.to(DEVICE),s1t2.to(DEVICE),s2t1.to(DEVICE),s1t1.to(DEVICE),cm.to(DEVICE),rcm.to(DEVICE),s1cm.to(DEVICE)\n",
    "#         s2t2,s1t2,s2t1,s1t1,cm,rcm,s1cm = s2t2.to(torch.float32),s1t2.to(torch.float32),s2t1.to(torch.float32),s1t1.to(torch.float32),cm.to(torch.float32),rcm.to(torch.float32),s1cm.to(torch.float32)\n",
    "#         if INPUT_CHANGE_MAP:\n",
    "#             s2t2 = torch.cat((s2t2, cm), dim=1)\n",
    "#             s1t1 = torch.cat((s1t1, rcm), dim=1)\n",
    "#         preds = gen(s2t2, s1t1)\n",
    "        \n",
    "#         s1t2_list = s1t2.to(\"cpu\").chunk(s1t2.size(0))\n",
    "#         preds_list = preds.to(\"cpu\").chunk(preds.size(0))\n",
    "#         s1cm_list = s1cm.to(\"cpu\").chunk(s1cm.size(0))\n",
    "        \n",
    "        \n",
    "#         wssim_ratio_batch_list = [ssim((s1t2, preds), s1cm)/ssim((s1t2, preds)) for s1t2, preds, s1cm in zip(s1t2_list, preds_list, s1cm_list)]\n",
    "#         wpsnr_ratio_batch_list = [psnr((s1t2, preds))-psnr((s1t2, preds), s1cm) for s1t2, preds, s1cm in zip(s1t2_list, preds_list, s1cm_list)]\n",
    "#         s1cm_mean_batch_list   = [s1cm.mean() for s1cm in s1cm_list]\n",
    "        \n",
    "#         wssim_ratio_list = wssim_ratio_list + wssim_ratio_batch_list\n",
    "#         wpsnr_ratio_list = wpsnr_ratio_list + wpsnr_ratio_batch_list\n",
    "#         s1cm_mean_list   = s1cm_mean_list   + s1cm_mean_batch_list  \n",
    "    \n",
    "#     return wssim_ratio_list, wpsnr_ratio_list, s1cm_mean_list"
   ]
  },
  {
   "cell_type": "code",
   "execution_count": 27,
   "id": "85869983",
   "metadata": {
    "execution": {
     "iopub.execute_input": "2023-04-30T10:27:50.382903Z",
     "iopub.status.busy": "2023-04-30T10:27:50.382527Z",
     "iopub.status.idle": "2023-04-30T10:27:50.387139Z",
     "shell.execute_reply": "2023-04-30T10:27:50.386110Z"
    },
    "papermill": {
     "duration": 0.410704,
     "end_time": "2023-04-30T10:27:50.389253",
     "exception": false,
     "start_time": "2023-04-30T10:27:49.978549",
     "status": "completed"
    },
    "tags": []
   },
   "outputs": [],
   "source": [
    "# ssim_ratio_list, wpsnr_ratio_list, s1cm_mean_list = eval_graph_fn(gen_model, test_loader, wssim, wpsnr)"
   ]
  },
  {
   "cell_type": "code",
   "execution_count": 28,
   "id": "5de6f208",
   "metadata": {
    "execution": {
     "iopub.execute_input": "2023-04-30T10:27:51.549294Z",
     "iopub.status.busy": "2023-04-30T10:27:51.548831Z",
     "iopub.status.idle": "2023-04-30T10:27:51.553255Z",
     "shell.execute_reply": "2023-04-30T10:27:51.552342Z"
    },
    "papermill": {
     "duration": 0.635741,
     "end_time": "2023-04-30T10:27:51.557893",
     "exception": false,
     "start_time": "2023-04-30T10:27:50.922152",
     "status": "completed"
    },
    "tags": []
   },
   "outputs": [],
   "source": [
    "# plt.plot(ssim_ratio_list,s1cm_mean_list)"
   ]
  },
  {
   "cell_type": "code",
   "execution_count": null,
   "id": "9202434c",
   "metadata": {
    "papermill": {
     "duration": 0.406746,
     "end_time": "2023-04-30T10:27:52.646803",
     "exception": false,
     "start_time": "2023-04-30T10:27:52.240057",
     "status": "completed"
    },
    "tags": []
   },
   "outputs": [],
   "source": []
  }
 ],
 "metadata": {
  "kernelspec": {
   "display_name": "Python 3",
   "language": "python",
   "name": "python3"
  },
  "language_info": {
   "codemirror_mode": {
    "name": "ipython",
    "version": 3
   },
   "file_extension": ".py",
   "mimetype": "text/x-python",
   "name": "python",
   "nbconvert_exporter": "python",
   "pygments_lexer": "ipython3",
   "version": "3.7.12"
  },
  "papermill": {
   "default_parameters": {},
   "duration": 3114.753341,
   "end_time": "2023-04-30T10:27:56.131958",
   "environment_variables": {},
   "exception": null,
   "input_path": "__notebook__.ipynb",
   "output_path": "__notebook__.ipynb",
   "parameters": {},
   "start_time": "2023-04-30T09:36:01.378617",
   "version": "2.4.0"
  }
 },
 "nbformat": 4,
 "nbformat_minor": 5
}
