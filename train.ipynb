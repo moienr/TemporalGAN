{
 "cells": [
  {
   "cell_type": "code",
   "execution_count": 1,
   "metadata": {},
   "outputs": [
    {
     "data": {
      "text/plain": [
       "20"
      ]
     },
     "execution_count": 1,
     "metadata": {},
     "output_type": "execute_result"
    }
   ],
   "source": [
    "import os\n",
    "os.cpu_count()"
   ]
  },
  {
   "cell_type": "code",
   "execution_count": null,
   "metadata": {},
   "outputs": [],
   "source": [
    "try:\n",
    "    import gdown\n",
    "except:\n",
    "    "
   ]
  },
  {
   "cell_type": "code",
   "execution_count": 2,
   "metadata": {},
   "outputs": [
    {
     "name": "stderr",
     "output_type": "stream",
     "text": [
      "c:\\Users\\moi3n\\miniconda3\\envs\\pytorchGPU\\lib\\site-packages\\tqdm\\auto.py:21: TqdmWarning: IProgress not found. Please update jupyter and ipywidgets. See https://ipywidgets.readthedocs.io/en/stable/user_install.html\n",
      "  from .autonotebook import tqdm as notebook_tqdm\n"
     ]
    }
   ],
   "source": [
    "import torch\n",
    "import numpy as np\n",
    "from torch.utils.data import Dataset\n",
    "from glob import glob\n",
    "from skimage import io\n",
    "import os\n",
    "from torchvision import datasets, transforms"
   ]
  },
  {
   "cell_type": "code",
   "execution_count": 3,
   "metadata": {},
   "outputs": [
    {
     "data": {
      "text/plain": [
       "'cuda'"
      ]
     },
     "execution_count": 3,
     "metadata": {},
     "output_type": "execute_result"
    }
   ],
   "source": [
    "DEVICE = \"cuda\" if torch.cuda.is_available() else \"cpu\"\n",
    "DEVICE"
   ]
  },
  {
   "cell_type": "code",
   "execution_count": 4,
   "metadata": {},
   "outputs": [],
   "source": [
    "from dataset.data_loaders import *\n",
    "from dataset.utils.plot_utils import plot_s1s2_tensors"
   ]
  },
  {
   "cell_type": "code",
   "execution_count": 5,
   "metadata": {},
   "outputs": [],
   "source": [
    "# transform = transforms.Compose([S2S1Normalize(),myToTensor()])\n",
    "\n",
    "# print(\"Reading only S1 2021 train data...\")\n",
    "# s1s2_dataset = Sen12Dataset(s1_t1_dir=\"E:\\\\s1s2\\\\s1s2_patched_light\\\\s1s2_patched_light\\\\2021\\\\s1_imgs\\\\train\",\n",
    "#                             s2_t1_dir=\"E:\\\\s1s2\\\\s1s2_patched_light\\\\s1s2_patched_light\\\\2021\\\\s2_imgs\\\\train\",\n",
    "#                             s1_t2_dir=\"E:\\\\s1s2\\\\s1s2_patched_light\\\\s1s2_patched_light\\\\2019\\\\s1_imgs\\\\train\",\n",
    "#                             s2_t2_dir=\"E:\\\\s1s2\\\\s1s2_patched_light\\\\s1s2_patched_light\\\\2019\\\\s2_imgs\\\\train\",\n",
    "#                             transform=transform,\n",
    "#                             two_way=False)\n",
    "# print(\"len(s1s2_dataset): \",len(s1s2_dataset))\n",
    "# print(\"s1s2_dataset[0][0]shape: \",s1s2_dataset[0][1].shape)"
   ]
  },
  {
   "cell_type": "code",
   "execution_count": 6,
   "metadata": {},
   "outputs": [],
   "source": [
    "# plot_s1s2_tensors(s1s2_dataset[1], [\"s2t2\", \"s1t2\", \"s2t1\", \"s1t1\", \"change map\", \"reversed change map\"], 3,2)"
   ]
  },
  {
   "cell_type": "code",
   "execution_count": 7,
   "metadata": {},
   "outputs": [],
   "source": [
    "S2_INCHANNELS = 6\n",
    "S1_INCHANNELS = 1\n",
    "LEARNING_RATE = 2e-4\n",
    "BATCH_SIZE = 1\n",
    "NUM_WORKERS = 8\n",
    "IMAGE_SIZE = 256\n",
    "WEIGHTED_LOSS = True\n",
    "INPUT_CHANGE_MAP = False\n",
    "L1_LAMBDA = 100\n",
    "LAMBDA_GP = 10\n",
    "NUM_EPOCHS = 5\n",
    "LOAD_MODEL = False\n",
    "SAVE_MODEL = False\n",
    "SAVE_EVERY_EPOCH = 1\n",
    "CHECKPOINT_DISC = \"disc.pth.tar\"\n",
    "CHECKPOINT_GEN = \"gen.pth.tar\""
   ]
  },
  {
   "cell_type": "code",
   "execution_count": 8,
   "metadata": {},
   "outputs": [],
   "source": [
    "import torch\n",
    "\n",
    "from torchvision.utils import save_image\n",
    "\n",
    "def save_some_examples(gen, val_loader, epoch, folder):\n",
    "    x, y = next(iter(val_loader))\n",
    "    x, y = x.to(DEVICE), y.to(DEVICE)\n",
    "    gen.eval()\n",
    "    with torch.no_grad():\n",
    "        y_fake = gen(x)\n",
    "        y_fake = y_fake * 0.5 + 0.5  # remove normalization#\n",
    "        save_image(y_fake, folder + f\"/y_gen_{epoch}.png\")\n",
    "        save_image(x * 0.5 + 0.5, folder + f\"/input_{epoch}.png\")\n",
    "        if epoch == 1:\n",
    "            save_image(y * 0.5 + 0.5, folder + f\"/label_{epoch}.png\")\n",
    "    gen.train()\n",
    "\n",
    "\n",
    "def save_checkpoint(model, optimizer, filename=\"my_checkpoint.pth.tar\"):\n",
    "    print(\"=> Saving checkpoint\")\n",
    "    checkpoint = {\n",
    "        \"state_dict\": model.state_dict(),\n",
    "        \"optimizer\": optimizer.state_dict(),\n",
    "    }\n",
    "    torch.save(checkpoint, filename)\n",
    "\n",
    "\n",
    "def load_checkpoint(checkpoint_file, model, optimizer, lr):\n",
    "    print(\"=> Loading checkpoint\")\n",
    "    checkpoint = torch.load(checkpoint_file, map_location=DEVICE)\n",
    "    model.load_state_dict(checkpoint[\"state_dict\"])\n",
    "    optimizer.load_state_dict(checkpoint[\"optimizer\"])\n",
    "\n",
    "    # If we don't do this then it will just have learning rate of old checkpoint\n",
    "    # and it will lead to many hours of debugging \\:\n",
    "    for param_group in optimizer.param_groups:\n",
    "        param_group[\"lr\"] = lr"
   ]
  },
  {
   "cell_type": "code",
   "execution_count": 9,
   "metadata": {},
   "outputs": [],
   "source": [
    "import torch.nn as nn\n",
    "import torch.optim as optim\n",
    "from torch.utils.data import DataLoader\n",
    "from tqdm import tqdm\n",
    "\n",
    "\n",
    "torch.backends.cudnn.benchmark = True\n",
    "\n",
    "\n",
    "def train_fn(disc, gen, loader, opt_disc, opt_gen, l1_loss, bce, g_scaler, d_scaler, weighted_loss = WEIGHTED_LOSS, cm_input = INPUT_CHANGE_MAP):\n",
    "    loop = tqdm(loader, leave=True)\n",
    "\n",
    "    for idx, (s2t1,s1t1,s2t2,s1t2,cm,rcm) in enumerate(loop):\n",
    "        s2t1,s1t1,s2t2,s1t2,cm,rcm = s2t1.to(DEVICE),s1t1.to(DEVICE),s2t2.to(DEVICE),s1t2.to(DEVICE),cm.to(DEVICE),rcm.to(DEVICE)\n",
    "        if cm_input:\n",
    "            s2t2 = torch.cat((s2t2, cm), dim=1)\n",
    "            s1t1 = torch.cat((s1t1, rcm), dim=1)\n",
    "        # Train Discriminator\n",
    "        with torch.cuda.amp.autocast():\n",
    "            s1t2_fake = gen(s2t2, s1t1)\n",
    "            D_real = disc(s2t2, s1t1, s1t2)\n",
    "            D_real_loss = bce(D_real, torch.ones_like(D_real))\n",
    "            D_fake = disc(s2t2, s1t1, s1t2_fake.detach())\n",
    "            D_fake_loss = bce(D_fake, torch.zeros_like(D_fake))\n",
    "            D_loss = (D_real_loss + D_fake_loss) / 2\n",
    "\n",
    "        disc.zero_grad()\n",
    "        d_scaler.scale(D_loss).backward()\n",
    "        d_scaler.step(opt_disc)\n",
    "        d_scaler.update()\n",
    "\n",
    "        # Train generator\n",
    "        with torch.cuda.amp.autocast():\n",
    "            D_fake = disc(s2t2, s1t1, s1t2_fake)\n",
    "            G_fake_loss = bce(D_fake, torch.ones_like(D_fake))\n",
    "            if weighted_loss:\n",
    "                L1 = l1_loss(s1t2_fake, s1t2, cm, rcm) * L1_LAMBDA\n",
    "            else:\n",
    "                L1 = l1_loss(s1t2_fake, s1t2) * L1_LAMBDA\n",
    "            G_loss = G_fake_loss + L1\n",
    "\n",
    "        opt_gen.zero_grad()\n",
    "        g_scaler.scale(G_loss).backward()\n",
    "        g_scaler.step(opt_gen)\n",
    "        g_scaler.update()\n",
    "\n",
    "        if idx % 10 == 0:\n",
    "            loop.set_postfix(\n",
    "                D_real=torch.sigmoid(D_real).mean().item(),\n",
    "                D_fake=torch.sigmoid(D_fake).mean().item(),\n",
    "            )\n",
    "\n",
    "\n"
   ]
  },
  {
   "cell_type": "code",
   "execution_count": 10,
   "metadata": {},
   "outputs": [],
   "source": [
    "from temporalgan.temporal_gan_v3_gen import Generator as GeneratorV3\n",
    "from temporalgan.temporal_gan_v2_gen import Generator as GeneratorV2\n",
    "from temporalgan.temporal_gan_v1_gen import Generator as GeneratorV1\n",
    "from temporalgan.temporal_gan_v2_disc import Discriminator as DiscriminatorV2\n",
    "from temporalgan.temporal_gan_v1_disc import Discriminator as DiscriminatorV1\n",
    "from temporalgan.lossfunciton.loss_function import WeightedL1Loss"
   ]
  },
  {
   "cell_type": "code",
   "execution_count": 11,
   "metadata": {},
   "outputs": [
    {
     "name": "stdout",
     "output_type": "stream",
     "text": [
      "Reading only S1 2021 train data...\n",
      "Epoch: 1\n"
     ]
    },
    {
     "name": "stderr",
     "output_type": "stream",
     "text": [
      "  2%|▏         | 1/50 [00:09<07:38,  9.35s/it, D_fake=0.251, D_real=0.521]\n"
     ]
    },
    {
     "ename": "OutOfMemoryError",
     "evalue": "CUDA out of memory. Tried to allocate 1024.00 MiB (GPU 0; 8.00 GiB total capacity; 5.95 GiB already allocated; 0 bytes free; 6.55 GiB reserved in total by PyTorch) If reserved memory is >> allocated memory try setting max_split_size_mb to avoid fragmentation.  See documentation for Memory Management and PYTORCH_CUDA_ALLOC_CONF",
     "output_type": "error",
     "traceback": [
      "\u001b[1;31m---------------------------------------------------------------------------\u001b[0m",
      "\u001b[1;31mOutOfMemoryError\u001b[0m                          Traceback (most recent call last)",
      "Cell \u001b[1;32mIn[11], line 52\u001b[0m\n\u001b[0;32m     49\u001b[0m             save_checkpoint(epoch,disc, opt_disc, filename\u001b[39m=\u001b[39mCHECKPOINT_DISC)\n\u001b[0;32m     51\u001b[0m \u001b[39m#         save_some_examples(gen, val_loader, epoch, folder=\"evaluation\")\u001b[39;00m\n\u001b[1;32m---> 52\u001b[0m main()\n",
      "Cell \u001b[1;32mIn[11], line 43\u001b[0m, in \u001b[0;36mmain\u001b[1;34m()\u001b[0m\n\u001b[0;32m     41\u001b[0m \u001b[39mfor\u001b[39;00m epoch \u001b[39min\u001b[39;00m \u001b[39mrange\u001b[39m(\u001b[39m1\u001b[39m, NUM_EPOCHS\u001b[39m+\u001b[39m\u001b[39m1\u001b[39m):\n\u001b[0;32m     42\u001b[0m     \u001b[39mprint\u001b[39m(\u001b[39mf\u001b[39m\u001b[39m\"\u001b[39m\u001b[39mEpoch: \u001b[39m\u001b[39m{\u001b[39;00mepoch\u001b[39m}\u001b[39;00m\u001b[39m\"\u001b[39m)\n\u001b[1;32m---> 43\u001b[0m     train_fn(\n\u001b[0;32m     44\u001b[0m         disc, gen, train_loader, opt_disc, opt_gen, L1_LOSS, BCE, g_scaler, d_scaler,\n\u001b[0;32m     45\u001b[0m     )\n\u001b[0;32m     47\u001b[0m     \u001b[39mif\u001b[39;00m SAVE_MODEL \u001b[39mand\u001b[39;00m epoch \u001b[39m%\u001b[39m SAVE_EVERY_EPOCH \u001b[39m==\u001b[39m \u001b[39m0\u001b[39m:\n\u001b[0;32m     48\u001b[0m         save_checkpoint(epoch,gen, opt_gen, filename\u001b[39m=\u001b[39mCHECKPOINT_GEN)\n",
      "Cell \u001b[1;32mIn[9], line 43\u001b[0m, in \u001b[0;36mtrain_fn\u001b[1;34m(disc, gen, loader, opt_disc, opt_gen, l1_loss, bce, g_scaler, d_scaler, weighted_loss, cm_input)\u001b[0m\n\u001b[0;32m     40\u001b[0m     G_loss \u001b[39m=\u001b[39m G_fake_loss \u001b[39m+\u001b[39m L1\n\u001b[0;32m     42\u001b[0m opt_gen\u001b[39m.\u001b[39mzero_grad()\n\u001b[1;32m---> 43\u001b[0m g_scaler\u001b[39m.\u001b[39;49mscale(G_loss)\u001b[39m.\u001b[39;49mbackward()\n\u001b[0;32m     44\u001b[0m g_scaler\u001b[39m.\u001b[39mstep(opt_gen)\n\u001b[0;32m     45\u001b[0m g_scaler\u001b[39m.\u001b[39mupdate()\n",
      "File \u001b[1;32mc:\\Users\\moi3n\\miniconda3\\envs\\pytorchGPU\\lib\\site-packages\\torch\\_tensor.py:488\u001b[0m, in \u001b[0;36mTensor.backward\u001b[1;34m(self, gradient, retain_graph, create_graph, inputs)\u001b[0m\n\u001b[0;32m    478\u001b[0m \u001b[39mif\u001b[39;00m has_torch_function_unary(\u001b[39mself\u001b[39m):\n\u001b[0;32m    479\u001b[0m     \u001b[39mreturn\u001b[39;00m handle_torch_function(\n\u001b[0;32m    480\u001b[0m         Tensor\u001b[39m.\u001b[39mbackward,\n\u001b[0;32m    481\u001b[0m         (\u001b[39mself\u001b[39m,),\n\u001b[1;32m   (...)\u001b[0m\n\u001b[0;32m    486\u001b[0m         inputs\u001b[39m=\u001b[39minputs,\n\u001b[0;32m    487\u001b[0m     )\n\u001b[1;32m--> 488\u001b[0m torch\u001b[39m.\u001b[39;49mautograd\u001b[39m.\u001b[39;49mbackward(\n\u001b[0;32m    489\u001b[0m     \u001b[39mself\u001b[39;49m, gradient, retain_graph, create_graph, inputs\u001b[39m=\u001b[39;49minputs\n\u001b[0;32m    490\u001b[0m )\n",
      "File \u001b[1;32mc:\\Users\\moi3n\\miniconda3\\envs\\pytorchGPU\\lib\\site-packages\\torch\\autograd\\__init__.py:197\u001b[0m, in \u001b[0;36mbackward\u001b[1;34m(tensors, grad_tensors, retain_graph, create_graph, grad_variables, inputs)\u001b[0m\n\u001b[0;32m    192\u001b[0m     retain_graph \u001b[39m=\u001b[39m create_graph\n\u001b[0;32m    194\u001b[0m \u001b[39m# The reason we repeat same the comment below is that\u001b[39;00m\n\u001b[0;32m    195\u001b[0m \u001b[39m# some Python versions print out the first line of a multi-line function\u001b[39;00m\n\u001b[0;32m    196\u001b[0m \u001b[39m# calls in the traceback and some print out the last line\u001b[39;00m\n\u001b[1;32m--> 197\u001b[0m Variable\u001b[39m.\u001b[39;49m_execution_engine\u001b[39m.\u001b[39;49mrun_backward(  \u001b[39m# Calls into the C++ engine to run the backward pass\u001b[39;49;00m\n\u001b[0;32m    198\u001b[0m     tensors, grad_tensors_, retain_graph, create_graph, inputs,\n\u001b[0;32m    199\u001b[0m     allow_unreachable\u001b[39m=\u001b[39;49m\u001b[39mTrue\u001b[39;49;00m, accumulate_grad\u001b[39m=\u001b[39;49m\u001b[39mTrue\u001b[39;49;00m)\n",
      "\u001b[1;31mOutOfMemoryError\u001b[0m: CUDA out of memory. Tried to allocate 1024.00 MiB (GPU 0; 8.00 GiB total capacity; 5.95 GiB already allocated; 0 bytes free; 6.55 GiB reserved in total by PyTorch) If reserved memory is >> allocated memory try setting max_split_size_mb to avoid fragmentation.  See documentation for Memory Management and PYTORCH_CUDA_ALLOC_CONF"
     ]
    }
   ],
   "source": [
    "def main():\n",
    "    disc = DiscriminatorV1(s2_in_channels=S2_INCHANNELS, s1_in_channels=S1_INCHANNELS).to(DEVICE)\n",
    "    gen = GeneratorV2(s2_in_channels=S2_INCHANNELS, s1_in_channels= S1_INCHANNELS, features=64).to(DEVICE)\n",
    "    opt_disc = optim.Adam(disc.parameters(), lr=LEARNING_RATE, betas=(0.5, 0.999),)\n",
    "    opt_gen = optim.Adam(gen.parameters(), lr=LEARNING_RATE, betas=(0.5, 0.999))\n",
    "    BCE = nn.BCEWithLogitsLoss()\n",
    "    if WEIGHTED_LOSS:\n",
    "        L1_LOSS = WeightedL1Loss(change_weight=5)\n",
    "    else:\n",
    "        L1_LOSS = nn.L1Loss()\n",
    "\n",
    "    if LOAD_MODEL:\n",
    "        load_checkpoint(\n",
    "            CHECKPOINT_GEN, gen, opt_gen, LEARNING_RATE,\n",
    "        )\n",
    "        load_checkpoint(\n",
    "            CHECKPOINT_DISC, disc, opt_disc, LEARNING_RATE,\n",
    "        )\n",
    "\n",
    "    transform = transforms.Compose([S2S1Normalize(),myToTensor()])\n",
    "\n",
    "    print(\"Reading only S1 2021 train data...\")\n",
    "    train_dataset = Sen12Dataset(s1_t1_dir=\"E:\\\\s1s2\\\\s1s2_patched_light\\\\s1s2_patched_light\\\\2021\\\\s1_imgs\\\\train\",\n",
    "                                s2_t1_dir=\"E:\\\\s1s2\\\\s1s2_patched_light\\\\s1s2_patched_light\\\\2021\\\\s2_imgs\\\\train\",\n",
    "                                s1_t2_dir=\"E:\\\\s1s2\\\\s1s2_patched_light\\\\s1s2_patched_light\\\\2019\\\\s1_imgs\\\\train\",\n",
    "                                s2_t2_dir=\"E:\\\\s1s2\\\\s1s2_patched_light\\\\s1s2_patched_light\\\\2019\\\\s2_imgs\\\\train\",\n",
    "                                transform=transform,\n",
    "                                two_way=False)\n",
    "    \n",
    "    train_loader = DataLoader(\n",
    "        train_dataset,\n",
    "        batch_size=BATCH_SIZE,\n",
    "        shuffle=True,\n",
    "        num_workers=NUM_WORKERS,\n",
    "    )\n",
    "    g_scaler = torch.cuda.amp.GradScaler()\n",
    "    d_scaler = torch.cuda.amp.GradScaler()\n",
    "#     val_dataset = MapDataset(root_dir=VAL_DIR)\n",
    "#     val_loader = DataLoader(val_dataset, batch_size=1, shuffle=False)\n",
    "\n",
    "    for epoch in range(1, NUM_EPOCHS+1):\n",
    "        print(f\"Epoch: {epoch}\")\n",
    "        train_fn(\n",
    "            disc, gen, train_loader, opt_disc, opt_gen, L1_LOSS, BCE, g_scaler, d_scaler,\n",
    "        )\n",
    "\n",
    "        if SAVE_MODEL and epoch % SAVE_EVERY_EPOCH == 0:\n",
    "            save_checkpoint(epoch,gen, opt_gen, filename=CHECKPOINT_GEN)\n",
    "            save_checkpoint(epoch,disc, opt_disc, filename=CHECKPOINT_DISC)\n",
    "\n",
    "#         save_some_examples(gen, val_loader, epoch, folder=\"evaluation\")\n",
    "main()"
   ]
  },
  {
   "cell_type": "code",
   "execution_count": null,
   "metadata": {},
   "outputs": [],
   "source": []
  },
  {
   "cell_type": "code",
   "execution_count": null,
   "metadata": {},
   "outputs": [],
   "source": []
  }
 ],
 "metadata": {
  "kernelspec": {
   "display_name": "pytorchGPU",
   "language": "python",
   "name": "python3"
  },
  "language_info": {
   "codemirror_mode": {
    "name": "ipython",
    "version": 3
   },
   "file_extension": ".py",
   "mimetype": "text/x-python",
   "name": "python",
   "nbconvert_exporter": "python",
   "pygments_lexer": "ipython3",
   "version": "3.9.16"
  },
  "orig_nbformat": 4
 },
 "nbformat": 4,
 "nbformat_minor": 2
}
