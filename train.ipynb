{
 "cells": [
  {
   "cell_type": "code",
   "execution_count": 1,
   "metadata": {},
   "outputs": [
    {
     "data": {
      "text/plain": [
       "20"
      ]
     },
     "execution_count": 1,
     "metadata": {},
     "output_type": "execute_result"
    }
   ],
   "source": [
    "import os\n",
    "os.cpu_count()"
   ]
  },
  {
   "cell_type": "code",
   "execution_count": 2,
   "metadata": {},
   "outputs": [
    {
     "name": "stderr",
     "output_type": "stream",
     "text": [
      "c:\\Users\\moi3n\\miniconda3\\envs\\pytorchGPU\\lib\\site-packages\\tqdm\\auto.py:21: TqdmWarning: IProgress not found. Please update jupyter and ipywidgets. See https://ipywidgets.readthedocs.io/en/stable/user_install.html\n",
      "  from .autonotebook import tqdm as notebook_tqdm\n"
     ]
    }
   ],
   "source": [
    "import torch\n",
    "import numpy as np\n",
    "from torch.utils.data import Dataset\n",
    "from glob import glob\n",
    "from skimage import io\n",
    "import os\n",
    "from torchvision import datasets, transforms"
   ]
  },
  {
   "cell_type": "code",
   "execution_count": 3,
   "metadata": {},
   "outputs": [
    {
     "data": {
      "text/plain": [
       "'cuda'"
      ]
     },
     "execution_count": 3,
     "metadata": {},
     "output_type": "execute_result"
    }
   ],
   "source": [
    "DEVICE = \"cuda\" if torch.cuda.is_available() else \"cpu\"\n",
    "DEVICE"
   ]
  },
  {
   "cell_type": "code",
   "execution_count": 4,
   "metadata": {},
   "outputs": [],
   "source": [
    "from dataset.data_loaders import *\n",
    "from dataset.utils.plot_utils import plot_s1s2_tensors, save_s1s2_tensors_plot"
   ]
  },
  {
   "cell_type": "code",
   "execution_count": 5,
   "metadata": {},
   "outputs": [],
   "source": [
    "# transform = transforms.Compose([S2S1Normalize(),myToTensor()])\n",
    "\n",
    "# print(\"Reading only S1 2021 train data...\")\n",
    "# s1s2_dataset = Sen12Dataset(s1_t1_dir=\"E:\\\\s1s2\\\\s1s2_patched_light\\\\s1s2_patched_light\\\\2021\\\\s1_imgs\\\\train\",\n",
    "#                             s2_t1_dir=\"E:\\\\s1s2\\\\s1s2_patched_light\\\\s1s2_patched_light\\\\2021\\\\s2_imgs\\\\train\",\n",
    "#                             s1_t2_dir=\"E:\\\\s1s2\\\\s1s2_patched_light\\\\s1s2_patched_light\\\\2019\\\\s1_imgs\\\\train\",\n",
    "#                             s2_t2_dir=\"E:\\\\s1s2\\\\s1s2_patched_light\\\\s1s2_patched_light\\\\2019\\\\s2_imgs\\\\train\",\n",
    "#                             transform=transform,\n",
    "#                             two_way=False)\n",
    "# print(\"len(s1s2_dataset): \",len(s1s2_dataset))\n",
    "# print(\"s1s2_dataset[0][0]shape: \",s1s2_dataset[0][1].shape)"
   ]
  },
  {
   "cell_type": "code",
   "execution_count": 6,
   "metadata": {},
   "outputs": [],
   "source": [
    "# save_s1s2_tensors_plot(s1s2_dataset[1], [\"s2t2\", \"s1t2\", \"s2t1\", \"s1t1\", \"change map\", \"reversed change map\"], 3,2,filename=\"test.png\", fig_size=(8,10))"
   ]
  },
  {
   "cell_type": "code",
   "execution_count": 7,
   "metadata": {},
   "outputs": [],
   "source": [
    "S2_INCHANNELS = 6\n",
    "S1_INCHANNELS = 1\n",
    "LEARNING_RATE = 2e-4\n",
    "BATCH_SIZE = 1\n",
    "NUM_WORKERS = 8\n",
    "IMAGE_SIZE = 256\n",
    "WEIGHTED_LOSS = True\n",
    "INPUT_CHANGE_MAP = False\n",
    "L1_LAMBDA = 100\n",
    "LAMBDA_GP = 10\n",
    "NUM_EPOCHS = 2\n",
    "LOAD_MODEL = False\n",
    "SAVE_MODEL = False\n",
    "SAVE_EVERY_EPOCH = 1\n",
    "CHECKPOINT_DISC = \"disc.pth.tar\"\n",
    "CHECKPOINT_GEN = \"gen.pth.tar\""
   ]
  },
  {
   "cell_type": "code",
   "execution_count": 8,
   "metadata": {},
   "outputs": [],
   "source": [
    "import torch\n",
    "\n",
    "def save_some_examples(gen, val_dataset ,epoch, folder, cm_input, img_indx = 1):\n",
    "    s2t2,s1t2,s2t1,s1t1,cm,rcm  = val_dataset[img_indx]\n",
    "    s2t2,s1t2,s2t1,s1t1,cm,rcm = s2t2.to(DEVICE),s1t2.to(DEVICE),s2t1.to(DEVICE),s1t1.to(DEVICE),cm.to(DEVICE),rcm.to(DEVICE)\n",
    "    if cm_input:\n",
    "        s2t2 = torch.cat((s2t2, cm), dim=1)\n",
    "        s1t1 = torch.cat((s1t1, rcm), dim=1)\n",
    "    \n",
    "    if os.path.exists(folder) == False:\n",
    "        os.mkdir(f\"{folder}/\")\n",
    "        \n",
    "    gen.eval()\n",
    "    with torch.no_grad():\n",
    "        s1t2_generated = gen(s2t2.unsqueeze(0).to(torch.float32), s1t1.unsqueeze(0).to(torch.float32))\n",
    "        s1t2_generated = s1t2_generated * 0.5 + 0.5  # remove normalization#\n",
    "        \n",
    "        save_s1s2_tensors_plot([s2t1,s1t1,s2t2,s1t2,cm,s1t2_generated[0]],\n",
    "                               [\"s2t1\", \"s1t1\", \"s2t2\", \"s1t2\", \"change map\", \"Generated s1t2\"],\n",
    "                               n_rows=3,\n",
    "                               n_cols=2,\n",
    "                               filename=f\"{folder}//img_{img_indx}_epoc{epoch}.png\",\n",
    "                               fig_size=(8,10))\n",
    "    gen.train()\n",
    "\n",
    "\n",
    "def save_checkpoint(epoc,model, optimizer, filename=\"my_checkpoint.pth.tar\"):\n",
    "    print(\"=> Saving checkpoint\")\n",
    "    checkpoint = {\n",
    "        \"state_dict\": model.state_dict(),\n",
    "        \"optimizer\": optimizer.state_dict(),\n",
    "    }\n",
    "    filename =f\"epoc{epoc}_\" + filename  \n",
    "    torch.save(checkpoint, filename)\n",
    "\n",
    "\n",
    "def load_checkpoint(checkpoint_file, model, optimizer, lr):\n",
    "    print(\"=> Loading checkpoint\")\n",
    "    checkpoint = torch.load(checkpoint_file, map_location=DEVICE)\n",
    "    model.load_state_dict(checkpoint[\"state_dict\"])\n",
    "    optimizer.load_state_dict(checkpoint[\"optimizer\"])\n",
    "\n",
    "    # If we don't do this then it will just have learning rate of old checkpoint\n",
    "    # and it will lead to many hours of debugging \\:\n",
    "    for param_group in optimizer.param_groups:\n",
    "        param_group[\"lr\"] = lr"
   ]
  },
  {
   "cell_type": "code",
   "execution_count": 9,
   "metadata": {},
   "outputs": [],
   "source": [
    "import torch.nn as nn\n",
    "import torch.optim as optim\n",
    "from torch.utils.data import DataLoader\n",
    "from tqdm import tqdm\n",
    "\n",
    "\n",
    "torch.backends.cudnn.benchmark = True\n",
    "\n",
    "\n",
    "def train_fn(disc, gen, loader, opt_disc, opt_gen, l1_loss, bce, g_scaler, d_scaler, weighted_loss = WEIGHTED_LOSS, cm_input = INPUT_CHANGE_MAP):\n",
    "    loop = tqdm(loader, leave=True)\n",
    "\n",
    "    for idx, (s2t2,s1t2,s2t1,s1t1,cm,rcm) in enumerate(loop):\n",
    "        s2t2,s1t2,s2t1,s1t1,cm,rcm = s2t2.to(DEVICE),s1t2.to(DEVICE),s2t1.to(DEVICE),s1t1.to(DEVICE),cm.to(DEVICE),rcm.to(DEVICE)\n",
    "        if cm_input:\n",
    "            s2t2 = torch.cat((s2t2, cm), dim=1)\n",
    "            s1t1 = torch.cat((s1t1, rcm), dim=1)\n",
    "        # Train Discriminator\n",
    "        with torch.cuda.amp.autocast():\n",
    "            s1t2_fake = gen(s2t2, s1t1)\n",
    "            D_real = disc(s2t2, s1t1, s1t2)\n",
    "            D_real_loss = bce(D_real, torch.ones_like(D_real))\n",
    "            D_fake = disc(s2t2, s1t1, s1t2_fake.detach())\n",
    "            D_fake_loss = bce(D_fake, torch.zeros_like(D_fake))\n",
    "            D_loss = (D_real_loss + D_fake_loss) / 2\n",
    "\n",
    "        disc.zero_grad()\n",
    "        d_scaler.scale(D_loss).backward()\n",
    "        d_scaler.step(opt_disc)\n",
    "        d_scaler.update()\n",
    "\n",
    "        # Train generator\n",
    "        with torch.cuda.amp.autocast():\n",
    "            D_fake = disc(s2t2, s1t1, s1t2_fake)\n",
    "            G_fake_loss = bce(D_fake, torch.ones_like(D_fake))\n",
    "            if weighted_loss:\n",
    "                L1 = l1_loss(s1t2_fake, s1t2, cm, rcm) * L1_LAMBDA\n",
    "            else:\n",
    "                L1 = l1_loss(s1t2_fake, s1t2) * L1_LAMBDA\n",
    "            G_loss = G_fake_loss + L1\n",
    "\n",
    "        opt_gen.zero_grad()\n",
    "        g_scaler.scale(G_loss).backward()\n",
    "        g_scaler.step(opt_gen)\n",
    "        g_scaler.update()\n",
    "\n",
    "        if idx % 10 == 0:\n",
    "            loop.set_postfix(\n",
    "                D_real=torch.sigmoid(D_real).mean().item(),\n",
    "                D_fake=torch.sigmoid(D_fake).mean().item(),\n",
    "                G_loss = G_loss.item(),\n",
    "                L1 = L1.item(),\n",
    "            )\n",
    "\n",
    "\n"
   ]
  },
  {
   "cell_type": "code",
   "execution_count": 10,
   "metadata": {},
   "outputs": [],
   "source": [
    "from temporalgan.temporal_gan_v3_gen import Generator as GeneratorV3\n",
    "from temporalgan.temporal_gan_v2_gen import Generator as GeneratorV2\n",
    "from temporalgan.temporal_gan_v1_gen import Generator as GeneratorV1\n",
    "from temporalgan.temporal_gan_v2_disc import Discriminator as DiscriminatorV2\n",
    "from temporalgan.temporal_gan_v1_disc import Discriminator as DiscriminatorV1\n",
    "from temporalgan.lossfunciton.loss_function import WeightedL1Loss"
   ]
  },
  {
   "cell_type": "code",
   "execution_count": 11,
   "metadata": {},
   "outputs": [],
   "source": [
    "def main():\n",
    "    disc = DiscriminatorV1(s2_in_channels=S2_INCHANNELS, s1_in_channels=S1_INCHANNELS).to(DEVICE)\n",
    "    gen = GeneratorV2(s2_in_channels=S2_INCHANNELS, s1_in_channels= S1_INCHANNELS, features=64,pam_downsample=2).to(DEVICE)\n",
    "    opt_disc = optim.Adam(disc.parameters(), lr=LEARNING_RATE, betas=(0.5, 0.999),)\n",
    "    opt_gen = optim.Adam(gen.parameters(), lr=LEARNING_RATE, betas=(0.5, 0.999))\n",
    "    BCE = nn.BCEWithLogitsLoss()\n",
    "    if WEIGHTED_LOSS:\n",
    "        L1_LOSS = WeightedL1Loss(change_weight=5)\n",
    "    else:\n",
    "        L1_LOSS = nn.L1Loss()\n",
    "\n",
    "    if LOAD_MODEL:\n",
    "        load_checkpoint(\n",
    "            CHECKPOINT_GEN, gen, opt_gen, LEARNING_RATE,\n",
    "        )\n",
    "        load_checkpoint(\n",
    "            CHECKPOINT_DISC, disc, opt_disc, LEARNING_RATE,\n",
    "        )\n",
    "\n",
    "    transform = transforms.Compose([S2S1Normalize(),myToTensor()])\n",
    "\n",
    "\n",
    "    train_dataset = Sen12Dataset(s1_t1_dir=\"E:\\\\s1s2\\\\s1s2_patched_light\\\\s1s2_patched_extra_light\\\\2021\\\\s1_imgs\\\\test\",\n",
    "                                s2_t1_dir=\"E:\\\\s1s2\\\\s1s2_patched_light\\\\s1s2_patched_extra_light\\\\2021\\\\s2_imgs\\\\test\",\n",
    "                                s1_t2_dir=\"E:\\\\s1s2\\\\s1s2_patched_light\\\\s1s2_patched_extra_light\\\\2019\\\\s1_imgs\\\\test\",\n",
    "                                s2_t2_dir=\"E:\\\\s1s2\\\\s1s2_patched_light\\\\s1s2_patched_extra_light\\\\2019\\\\s2_imgs\\\\test\",\n",
    "                                transform=transform,\n",
    "                                two_way=False)\n",
    "    \n",
    "    train_loader = DataLoader(\n",
    "        train_dataset,\n",
    "        batch_size=BATCH_SIZE,\n",
    "        shuffle=True,\n",
    "        num_workers=NUM_WORKERS,\n",
    "    )\n",
    "    g_scaler = torch.cuda.amp.GradScaler()\n",
    "    d_scaler = torch.cuda.amp.GradScaler()\n",
    "#     val_dataset = MapDataset(root_dir=VAL_DIR)\n",
    "#     val_loader = DataLoader(val_dataset, batch_size=1, shuffle=False)\n",
    "\n",
    "    for epoch in range(1, NUM_EPOCHS+1):\n",
    "        print(f\"Epoch: {epoch}\")\n",
    "        train_fn(\n",
    "            disc, gen, train_loader, opt_disc, opt_gen, L1_LOSS, BCE, g_scaler, d_scaler,\n",
    "        )\n",
    "\n",
    "        if SAVE_MODEL and epoch % SAVE_EVERY_EPOCH == 0 or True:\n",
    "            #save_checkpoint(epoch,gen, opt_gen, filename=CHECKPOINT_GEN)\n",
    "            #save_checkpoint(epoch,disc, opt_disc, filename=CHECKPOINT_DISC)\n",
    "            save_some_examples(gen, train_dataset, epoch, folder=\"evaluation\",cm_input=INPUT_CHANGE_MAP, img_indx=1)\n",
    "\n",
    "#         save_some_examples(gen, val_loader, epoch, folder=\"evaluation\")\n"
   ]
  },
  {
   "cell_type": "code",
   "execution_count": 12,
   "metadata": {},
   "outputs": [
    {
     "name": "stdout",
     "output_type": "stream",
     "text": [
      "Epoch: 1\n"
     ]
    },
    {
     "name": "stderr",
     "output_type": "stream",
     "text": [
      "100%|██████████| 4/4 [00:08<00:00,  2.09s/it, D_fake=0.654, D_real=0.452, G_loss=454, L1=454]\n"
     ]
    },
    {
     "name": "stdout",
     "output_type": "stream",
     "text": [
      "Epoch: 2\n"
     ]
    },
    {
     "name": "stderr",
     "output_type": "stream",
     "text": [
      "100%|██████████| 4/4 [00:03<00:00,  1.02it/s, D_fake=0.421, D_real=0.508, G_loss=468, L1=467]\n"
     ]
    }
   ],
   "source": [
    "import matplotlib\n",
    "matplotlib.use('Agg')\n",
    "main()"
   ]
  },
  {
   "cell_type": "code",
   "execution_count": null,
   "metadata": {},
   "outputs": [],
   "source": []
  }
 ],
 "metadata": {
  "kernelspec": {
   "display_name": "pytorchGPU",
   "language": "python",
   "name": "python3"
  },
  "language_info": {
   "codemirror_mode": {
    "name": "ipython",
    "version": 3
   },
   "file_extension": ".py",
   "mimetype": "text/x-python",
   "name": "python",
   "nbconvert_exporter": "python",
   "pygments_lexer": "ipython3",
   "version": "3.9.16"
  },
  "orig_nbformat": 4
 },
 "nbformat": 4,
 "nbformat_minor": 2
}
