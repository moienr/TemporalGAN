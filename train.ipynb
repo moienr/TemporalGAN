{
 "cells": [
  {
   "cell_type": "code",
   "execution_count": 1,
   "id": "82a81843",
   "metadata": {
    "execution": {
     "iopub.execute_input": "2023-04-24T15:53:33.572258Z",
     "iopub.status.busy": "2023-04-24T15:53:33.571770Z",
     "iopub.status.idle": "2023-04-24T15:53:33.586206Z",
     "shell.execute_reply": "2023-04-24T15:53:33.585080Z"
    },
    "papermill": {
     "duration": 0.026203,
     "end_time": "2023-04-24T15:53:33.589390",
     "exception": false,
     "start_time": "2023-04-24T15:53:33.563187",
     "status": "completed"
    },
    "tags": []
   },
   "outputs": [
    {
     "data": {
      "text/plain": [
       "True"
      ]
     },
     "execution_count": 1,
     "metadata": {},
     "output_type": "execute_result"
    }
   ],
   "source": [
    "import os\n",
    "IN_KAGGLE = 'KAGGLE_URL_BASE' in os.environ\n",
    "IN_KAGGLE"
   ]
  },
  {
   "cell_type": "code",
   "execution_count": 2,
   "id": "56f3d55c",
   "metadata": {
    "execution": {
     "iopub.execute_input": "2023-04-24T15:53:33.601777Z",
     "iopub.status.busy": "2023-04-24T15:53:33.601468Z",
     "iopub.status.idle": "2023-04-24T15:53:39.065821Z",
     "shell.execute_reply": "2023-04-24T15:53:39.064512Z"
    },
    "papermill": {
     "duration": 5.4735,
     "end_time": "2023-04-24T15:53:39.068613",
     "exception": false,
     "start_time": "2023-04-24T15:53:33.595113",
     "status": "completed"
    },
    "tags": []
   },
   "outputs": [
    {
     "name": "stdout",
     "output_type": "stream",
     "text": [
      "Cloning into 'TemporalGAN'...\r\n",
      "remote: Enumerating objects: 1378, done.\u001b[K\r\n",
      "remote: Counting objects: 100% (289/289), done.\u001b[K\r\n",
      "remote: Compressing objects: 100% (149/149), done.\u001b[K\r\n",
      "remote: Total 1378 (delta 170), reused 252 (delta 136), pack-reused 1089\u001b[K\r\n",
      "Receiving objects: 100% (1378/1378), 85.17 MiB | 32.25 MiB/s, done.\r\n",
      "Resolving deltas: 100% (902/902), done.\r\n"
     ]
    }
   ],
   "source": [
    "if IN_KAGGLE:\n",
    "    from kaggle_secrets import UserSecretsClient\n",
    "    user_secrets = UserSecretsClient()\n",
    "    secret_value = user_secrets.get_secret(\"gittoken2\")\n",
    "\n",
    "    !git clone https://{secret_value}@github.com/moienr/TemporalGAN.git"
   ]
  },
  {
   "cell_type": "code",
   "execution_count": 3,
   "id": "c6bc6c4d",
   "metadata": {
    "execution": {
     "iopub.execute_input": "2023-04-24T15:53:39.084923Z",
     "iopub.status.busy": "2023-04-24T15:53:39.084517Z",
     "iopub.status.idle": "2023-04-24T15:53:39.091102Z",
     "shell.execute_reply": "2023-04-24T15:53:39.090050Z"
    },
    "papermill": {
     "duration": 0.017533,
     "end_time": "2023-04-24T15:53:39.093535",
     "exception": false,
     "start_time": "2023-04-24T15:53:39.076002",
     "status": "completed"
    },
    "tags": []
   },
   "outputs": [
    {
     "name": "stdout",
     "output_type": "stream",
     "text": [
      "path found...\n"
     ]
    }
   ],
   "source": [
    "if IN_KAGGLE:\n",
    "    import time\n",
    "    import os\n",
    "    sleep_time = 5\n",
    "    while not os.path.exists(\"/kaggle/working/TemporalGAN\"):\n",
    "        print(\"didn't find the path, wating {sleep_time} more seconds...\")\n",
    "        time.sleep(sleep_time)\n",
    "    print(\"path found...\")\n",
    "    import sys\n",
    "    sys.path.append(\"/kaggle/working/TemporalGAN\")"
   ]
  },
  {
   "cell_type": "code",
   "execution_count": 4,
   "id": "45bb8f46",
   "metadata": {
    "execution": {
     "iopub.execute_input": "2023-04-24T15:53:39.109272Z",
     "iopub.status.busy": "2023-04-24T15:53:39.108809Z",
     "iopub.status.idle": "2023-04-24T15:53:41.523957Z",
     "shell.execute_reply": "2023-04-24T15:53:41.522990Z"
    },
    "papermill": {
     "duration": 2.425562,
     "end_time": "2023-04-24T15:53:41.526151",
     "exception": false,
     "start_time": "2023-04-24T15:53:39.100589",
     "status": "completed"
    },
    "tags": []
   },
   "outputs": [
    {
     "data": {
      "text/plain": [
       "'1.13.0'"
      ]
     },
     "execution_count": 4,
     "metadata": {},
     "output_type": "execute_result"
    }
   ],
   "source": [
    "import torch\n",
    "torch.__version__"
   ]
  },
  {
   "cell_type": "code",
   "execution_count": 5,
   "id": "e663e328",
   "metadata": {
    "execution": {
     "iopub.execute_input": "2023-04-24T15:53:41.542080Z",
     "iopub.status.busy": "2023-04-24T15:53:41.541530Z",
     "iopub.status.idle": "2023-04-24T15:53:42.240009Z",
     "shell.execute_reply": "2023-04-24T15:53:42.239004Z"
    },
    "papermill": {
     "duration": 0.709015,
     "end_time": "2023-04-24T15:53:42.242503",
     "exception": false,
     "start_time": "2023-04-24T15:53:41.533488",
     "status": "completed"
    },
    "tags": []
   },
   "outputs": [
    {
     "data": {
      "text/plain": [
       "2"
      ]
     },
     "execution_count": 5,
     "metadata": {},
     "output_type": "execute_result"
    }
   ],
   "source": [
    "import numpy as np\n",
    "from torch.utils.data import Dataset\n",
    "from glob import glob\n",
    "from skimage import io\n",
    "import os\n",
    "from torchvision import datasets, transforms\n",
    "import matplotlib\n",
    "import os\n",
    "import gc\n",
    "import random\n",
    "os.cpu_count()"
   ]
  },
  {
   "cell_type": "code",
   "execution_count": 6,
   "id": "e6b8f9ff",
   "metadata": {
    "execution": {
     "iopub.execute_input": "2023-04-24T15:53:42.257929Z",
     "iopub.status.busy": "2023-04-24T15:53:42.257604Z",
     "iopub.status.idle": "2023-04-24T15:53:42.324592Z",
     "shell.execute_reply": "2023-04-24T15:53:42.323541Z"
    },
    "papermill": {
     "duration": 0.077137,
     "end_time": "2023-04-24T15:53:42.326838",
     "exception": false,
     "start_time": "2023-04-24T15:53:42.249701",
     "status": "completed"
    },
    "tags": []
   },
   "outputs": [
    {
     "data": {
      "text/plain": [
       "'cuda'"
      ]
     },
     "execution_count": 6,
     "metadata": {},
     "output_type": "execute_result"
    }
   ],
   "source": [
    "DEVICE = \"cuda\" if torch.cuda.is_available() else \"cpu\"\n",
    "DEVICE"
   ]
  },
  {
   "cell_type": "code",
   "execution_count": 7,
   "id": "188fb010",
   "metadata": {
    "execution": {
     "iopub.execute_input": "2023-04-24T15:53:42.344615Z",
     "iopub.status.busy": "2023-04-24T15:53:42.344242Z",
     "iopub.status.idle": "2023-04-24T15:53:42.530746Z",
     "shell.execute_reply": "2023-04-24T15:53:42.529736Z"
    },
    "papermill": {
     "duration": 0.199238,
     "end_time": "2023-04-24T15:53:42.533334",
     "exception": false,
     "start_time": "2023-04-24T15:53:42.334096",
     "status": "completed"
    },
    "tags": []
   },
   "outputs": [],
   "source": [
    "from dataset.data_loaders import *\n",
    "from dataset.utils.plot_utils import plot_s1s2_tensors, save_s1s2_tensors_plot\n",
    "#from config import *\n",
    "from train_utils import *"
   ]
  },
  {
   "cell_type": "code",
   "execution_count": 8,
   "id": "9ac43534",
   "metadata": {
    "execution": {
     "iopub.execute_input": "2023-04-24T15:53:42.550097Z",
     "iopub.status.busy": "2023-04-24T15:53:42.549765Z",
     "iopub.status.idle": "2023-04-24T15:53:42.580891Z",
     "shell.execute_reply": "2023-04-24T15:53:42.579914Z"
    },
    "papermill": {
     "duration": 0.041741,
     "end_time": "2023-04-24T15:53:42.583250",
     "exception": false,
     "start_time": "2023-04-24T15:53:42.541509",
     "status": "completed"
    },
    "tags": []
   },
   "outputs": [],
   "source": [
    "from temporalgan.gen_v3 import Generator as GeneratorV3\n",
    "from temporalgan.gen_v2_1 import Generator as GeneratorV2_1\n",
    "from temporalgan.gen_v2_2 import Generator as GeneratorV2_2\n",
    "from temporalgan.gen_v2_3 import Generator as GeneratorV2_3\n",
    "from temporalgan.gen_v1_1 import Generator as GeneratorV1_1\n",
    "from temporalgan.gen_v1_2 import Generator as GeneratorV1_2\n",
    "from temporalgan.gen_v1_3 import Generator as GeneratorV1_3\n",
    "from temporalgan.gen_v1_4 import Generator as GeneratorV1_4\n",
    "from temporalgan.gen_v1_5 import Generator as GeneratorV1_5\n",
    "from temporalgan.gen_v1_6 import Generator as GeneratorV1_6\n",
    "from temporalgan.disc_v2 import Discriminator as DiscriminatorV2\n",
    "from temporalgan.disc_v1 import Discriminator as DiscriminatorV1\n",
    "from eval_metrics.loss_function import WeightedL1Loss"
   ]
  },
  {
   "cell_type": "code",
   "execution_count": 9,
   "id": "6f7e7f9e",
   "metadata": {
    "execution": {
     "iopub.execute_input": "2023-04-24T15:53:42.599155Z",
     "iopub.status.busy": "2023-04-24T15:53:42.598836Z",
     "iopub.status.idle": "2023-04-24T15:53:42.603590Z",
     "shell.execute_reply": "2023-04-24T15:53:42.602486Z"
    },
    "papermill": {
     "duration": 0.015243,
     "end_time": "2023-04-24T15:53:42.605747",
     "exception": false,
     "start_time": "2023-04-24T15:53:42.590504",
     "status": "completed"
    },
    "tags": []
   },
   "outputs": [],
   "source": [
    "import torch.nn as nn\n",
    "import torch.optim as optim\n",
    "from torch.utils.data import DataLoader"
   ]
  },
  {
   "cell_type": "code",
   "execution_count": 10,
   "id": "1de54a21",
   "metadata": {
    "execution": {
     "iopub.execute_input": "2023-04-24T15:53:42.620856Z",
     "iopub.status.busy": "2023-04-24T15:53:42.620552Z",
     "iopub.status.idle": "2023-04-24T15:53:42.626383Z",
     "shell.execute_reply": "2023-04-24T15:53:42.625395Z"
    },
    "papermill": {
     "duration": 0.015837,
     "end_time": "2023-04-24T15:53:42.628500",
     "exception": false,
     "start_time": "2023-04-24T15:53:42.612663",
     "status": "completed"
    },
    "tags": []
   },
   "outputs": [],
   "source": [
    "if IN_KAGGLE:\n",
    "    s1_t1_dir_train= \"/kaggle/input/s1s2-2021-v2/2021/s1_imgs/train\"\n",
    "    s2_t1_dir_train= \"/kaggle/input/s1s2-2021-v2/2021/s2_imgs/train\"\n",
    "    s1_t2_dir_train= \"/kaggle/input/s1s2-2019-v2/2019/s1_imgs/train\"\n",
    "    s2_t2_dir_train= \"/kaggle/input/s1s2-2019-v2/2019/s2_imgs/train\"\n",
    "    s1_t1_dir_test = \"/kaggle/input/s1s2-2021-v2/2021/s1_imgs/test\"\n",
    "    s2_t1_dir_test = \"/kaggle/input/s1s2-2021-v2/2021/s2_imgs/test\"\n",
    "    s1_t2_dir_test = \"/kaggle/input/s1s2-2019-v2/2019/s1_imgs/test\"\n",
    "    s2_t2_dir_test = \"/kaggle/input/s1s2-2019-v2/2019/s2_imgs/test\"\n",
    "else:\n",
    "    s1_t1_dir_train=\"E:\\\\s1s2\\\\s1s2_patched_light\\\\s1s2_patched_extra_light\\\\2021\\\\s1_imgs\\\\test\"\n",
    "    s2_t1_dir_train=\"E:\\\\s1s2\\\\s1s2_patched_light\\\\s1s2_patched_extra_light\\\\2021\\\\s2_imgs\\\\test\"\n",
    "    s1_t2_dir_train=\"E:\\\\s1s2\\\\s1s2_patched_light\\\\s1s2_patched_extra_light\\\\2019\\\\s1_imgs\\\\test\"\n",
    "    s2_t2_dir_train=\"E:\\\\s1s2\\\\s1s2_patched_light\\\\s1s2_patched_extra_light\\\\2019\\\\s2_imgs\\\\test\"\n",
    "    s1_t1_dir_test=\"E:\\\\s1s2\\\\s1s2_patched_light\\\\s1s2_patched_extra_light\\\\2021\\\\s1_imgs\\\\test\"\n",
    "    s2_t1_dir_test=\"E:\\\\s1s2\\\\s1s2_patched_light\\\\s1s2_patched_extra_light\\\\2021\\\\s2_imgs\\\\test\"\n",
    "    s1_t2_dir_test=\"E:\\\\s1s2\\\\s1s2_patched_light\\\\s1s2_patched_extra_light\\\\2019\\\\s1_imgs\\\\test\"\n",
    "    s2_t2_dir_test=\"E:\\\\s1s2\\\\s1s2_patched_light\\\\s1s2_patched_extra_light\\\\2019\\\\s2_imgs\\\\test\""
   ]
  },
  {
   "cell_type": "code",
   "execution_count": 11,
   "id": "7954d000",
   "metadata": {
    "execution": {
     "iopub.execute_input": "2023-04-24T15:53:42.644793Z",
     "iopub.status.busy": "2023-04-24T15:53:42.643306Z",
     "iopub.status.idle": "2023-04-24T15:53:42.650623Z",
     "shell.execute_reply": "2023-04-24T15:53:42.649692Z"
    },
    "papermill": {
     "duration": 0.01743,
     "end_time": "2023-04-24T15:53:42.652812",
     "exception": false,
     "start_time": "2023-04-24T15:53:42.635382",
     "status": "completed"
    },
    "tags": []
   },
   "outputs": [],
   "source": [
    "TWO_WAY_DATASET = True if IN_KAGGLE else False\n",
    "INPUT_CHANGE_MAP = True if IN_KAGGLE else False\n",
    "S2_INCHANNELS = 12 if INPUT_CHANGE_MAP else 6\n",
    "S1_INCHANNELS = 7 if INPUT_CHANGE_MAP else 1\n",
    "\n",
    "LEARNING_RATE = 2e-4\n",
    "BATCH_SIZE = 4 if IN_KAGGLE else 1\n",
    "NUM_WORKERS = 2 if IN_KAGGLE else 8\n",
    "IMAGE_SIZE = 256\n",
    "WEIGHTED_LOSS = True\n",
    "L1_LAMBDA = 100\n",
    "NUM_EPOCHS = 20 if IN_KAGGLE else 2\n",
    "\n",
    "LOAD_MODEL = False\n",
    "SAVE_MODEL = True if IN_KAGGLE else False\n",
    "SAVE_MODEL_EVERY_EPOCH = 10\n",
    "SAVE_EXAMPLE_PLOTS = True\n",
    "EXAMPLES_TO_PLOT = [1,32,64,128,256,512,1024] if IN_KAGGLE else [1,2]\n",
    "CHECKPOINT_DISC = \"disc.pth.tar\"\n",
    "CHECKPOINT_GEN = \"gen.pth.tar\"\n",
    "\n",
    "RANDOM_SEED = 42"
   ]
  },
  {
   "cell_type": "code",
   "execution_count": 12,
   "id": "73566f50",
   "metadata": {
    "execution": {
     "iopub.execute_input": "2023-04-24T15:53:42.668371Z",
     "iopub.status.busy": "2023-04-24T15:53:42.667645Z",
     "iopub.status.idle": "2023-04-24T15:53:42.679080Z",
     "shell.execute_reply": "2023-04-24T15:53:42.678083Z"
    },
    "papermill": {
     "duration": 0.021279,
     "end_time": "2023-04-24T15:53:42.680994",
     "exception": false,
     "start_time": "2023-04-24T15:53:42.659715",
     "status": "completed"
    },
    "tags": []
   },
   "outputs": [],
   "source": [
    "def main():\n",
    "    disc = DiscriminatorV1(s2_in_channels=S2_INCHANNELS, s1_in_channels=S1_INCHANNELS).to(DEVICE)\n",
    "#     gen = GeneratorV2(s2_in_channels=S2_INCHANNELS, s1_in_channels= S1_INCHANNELS, features=64,pam_downsample=2).to(DEVICE)\n",
    "    gen = GeneratorV1_6(s2_in_channels=S2_INCHANNELS, s1_in_channels= S1_INCHANNELS, features=64).to(DEVICE)\n",
    "#     gen = GeneratorV2_3(s2_in_channels=S2_INCHANNELS, s1_in_channels= S1_INCHANNELS, features=64).to(DEVICE)\n",
    "    opt_disc = optim.Adam(disc.parameters(), lr=LEARNING_RATE, betas=(0.5, 0.999),)\n",
    "    opt_gen = optim.Adam(gen.parameters(), lr=LEARNING_RATE, betas=(0.5, 0.999))\n",
    "    BCE = nn.BCEWithLogitsLoss()\n",
    "    if WEIGHTED_LOSS:\n",
    "        L1_LOSS = WeightedL1Loss(change_weight=5)\n",
    "    else:\n",
    "        L1_LOSS = nn.L1Loss()\n",
    "\n",
    "    if LOAD_MODEL:\n",
    "        load_checkpoint(\n",
    "            CHECKPOINT_GEN, gen, opt_gen, LEARNING_RATE,\n",
    "        )\n",
    "        load_checkpoint(\n",
    "            CHECKPOINT_DISC, disc, opt_disc, LEARNING_RATE,\n",
    "        )\n",
    "\n",
    "    transform = transforms.Compose([S2S1Normalize(),myToTensor(dtype=torch.float32)])\n",
    "\n",
    "\n",
    "    train_dataset = Sen12Dataset(s1_t1_dir=s1_t1_dir_train,\n",
    "                                 s2_t1_dir=s2_t1_dir_train,\n",
    "                                 s1_t2_dir=s1_t2_dir_train,\n",
    "                                 s2_t2_dir=s2_t2_dir_train,\n",
    "                                 transform=transform,\n",
    "                                 two_way=TWO_WAY_DATASET)\n",
    "    \n",
    "    train_loader = DataLoader(\n",
    "        train_dataset,\n",
    "        batch_size=BATCH_SIZE,\n",
    "        shuffle=True,\n",
    "        num_workers=NUM_WORKERS,\n",
    "    )\n",
    "    g_scaler = torch.cuda.amp.GradScaler()\n",
    "    d_scaler = torch.cuda.amp.GradScaler()\n",
    "#     val_dataset = MapDataset(root_dir=VAL_DIR)\n",
    "#     val_loader = DataLoader(val_dataset, batch_size=1, shuffle=False)\n",
    "\n",
    "    for epoch in range(1, NUM_EPOCHS+1):\n",
    "        print(\"\\n\\n\" , end=\"\")\n",
    "        print(f\"Epoch: {epoch}\")\n",
    "        print(\"\")\n",
    "        train_fn(\n",
    "            disc, gen, train_loader, opt_disc, opt_gen,\n",
    "            L1_LOSS, BCE, g_scaler, d_scaler, weighted_loss= WEIGHTED_LOSS,\n",
    "            cm_input=INPUT_CHANGE_MAP, grad_clip=False)\n",
    "\n",
    "        if SAVE_MODEL and epoch % SAVE_MODEL_EVERY_EPOCH == 0:\n",
    "            save_checkpoint(epoch,gen, opt_gen, filename=CHECKPOINT_GEN)\n",
    "            save_checkpoint(epoch,disc, opt_disc, filename=CHECKPOINT_DISC)\n",
    "\n",
    "\n",
    "        if SAVE_EXAMPLE_PLOTS:\n",
    "            for img_i in EXAMPLES_TO_PLOT:\n",
    "                save_some_examples(gen, train_dataset, epoch, folder=\"train_evaluation_plots\",cm_input=INPUT_CHANGE_MAP, img_indx=img_i)\n",
    "\n",
    "            \n",
    "        gc.collect()\n",
    "        torch.cuda.empty_cache()\n",
    "            \n",
    "    return gen\n"
   ]
  },
  {
   "cell_type": "code",
   "execution_count": 13,
   "id": "f4ef8dae",
   "metadata": {
    "execution": {
     "iopub.execute_input": "2023-04-24T15:53:42.696784Z",
     "iopub.status.busy": "2023-04-24T15:53:42.696480Z",
     "iopub.status.idle": "2023-04-24T15:53:42.702604Z",
     "shell.execute_reply": "2023-04-24T15:53:42.701732Z"
    },
    "papermill": {
     "duration": 0.01638,
     "end_time": "2023-04-24T15:53:42.704686",
     "exception": false,
     "start_time": "2023-04-24T15:53:42.688306",
     "status": "completed"
    },
    "tags": []
   },
   "outputs": [],
   "source": [
    "torch.manual_seed(RANDOM_SEED)\n",
    "random.seed(RANDOM_SEED)\n",
    "np.random.seed(RANDOM_SEED)"
   ]
  },
  {
   "cell_type": "code",
   "execution_count": 14,
   "id": "1dc4e617",
   "metadata": {
    "execution": {
     "iopub.execute_input": "2023-04-24T15:53:42.720220Z",
     "iopub.status.busy": "2023-04-24T15:53:42.719419Z",
     "iopub.status.idle": "2023-04-24T17:20:53.612237Z",
     "shell.execute_reply": "2023-04-24T17:20:53.611072Z"
    },
    "papermill": {
     "duration": 5230.903782,
     "end_time": "2023-04-24T17:20:53.615391",
     "exception": false,
     "start_time": "2023-04-24T15:53:42.711609",
     "status": "completed"
    },
    "tags": []
   },
   "outputs": [
    {
     "name": "stdout",
     "output_type": "stream",
     "text": [
      "\n",
      "\n",
      "Epoch: 1\n",
      "\n"
     ]
    },
    {
     "name": "stderr",
     "output_type": "stream",
     "text": [
      "100%|██████████| 663/663 [04:32<00:00,  2.43it/s, D_fake_mean=0.381, D_real_mean=0.578, G_loss_mean=19.2, L1_mean=18]\n"
     ]
    },
    {
     "name": "stdout",
     "output_type": "stream",
     "text": [
      "\n",
      "\n",
      "Epoch: 2\n",
      "\n"
     ]
    },
    {
     "name": "stderr",
     "output_type": "stream",
     "text": [
      "100%|██████████| 663/663 [04:15<00:00,  2.59it/s, D_fake_mean=0.347, D_real_mean=0.604, G_loss_mean=18.3, L1_mean=17.1]\n"
     ]
    },
    {
     "name": "stdout",
     "output_type": "stream",
     "text": [
      "\n",
      "\n",
      "Epoch: 3\n",
      "\n"
     ]
    },
    {
     "name": "stderr",
     "output_type": "stream",
     "text": [
      "100%|██████████| 663/663 [04:15<00:00,  2.60it/s, D_fake_mean=0.362, D_real_mean=0.597, G_loss_mean=18, L1_mean=16.8]\n"
     ]
    },
    {
     "name": "stdout",
     "output_type": "stream",
     "text": [
      "\n",
      "\n",
      "Epoch: 4\n",
      "\n"
     ]
    },
    {
     "name": "stderr",
     "output_type": "stream",
     "text": [
      "100%|██████████| 663/663 [04:15<00:00,  2.60it/s, D_fake_mean=0.369, D_real_mean=0.59, G_loss_mean=17.8, L1_mean=16.6]\n"
     ]
    },
    {
     "name": "stdout",
     "output_type": "stream",
     "text": [
      "\n",
      "\n",
      "Epoch: 5\n",
      "\n"
     ]
    },
    {
     "name": "stderr",
     "output_type": "stream",
     "text": [
      "100%|██████████| 663/663 [04:15<00:00,  2.60it/s, D_fake_mean=0.371, D_real_mean=0.586, G_loss_mean=17.7, L1_mean=16.6]\n"
     ]
    },
    {
     "name": "stdout",
     "output_type": "stream",
     "text": [
      "\n",
      "\n",
      "Epoch: 6\n",
      "\n"
     ]
    },
    {
     "name": "stderr",
     "output_type": "stream",
     "text": [
      "100%|██████████| 663/663 [04:15<00:00,  2.60it/s, D_fake_mean=0.373, D_real_mean=0.584, G_loss_mean=17.5, L1_mean=16.4]\n"
     ]
    },
    {
     "name": "stdout",
     "output_type": "stream",
     "text": [
      "\n",
      "\n",
      "Epoch: 7\n",
      "\n"
     ]
    },
    {
     "name": "stderr",
     "output_type": "stream",
     "text": [
      "100%|██████████| 663/663 [04:15<00:00,  2.59it/s, D_fake_mean=0.377, D_real_mean=0.58, G_loss_mean=17.3, L1_mean=16.2]\n"
     ]
    },
    {
     "name": "stdout",
     "output_type": "stream",
     "text": [
      "\n",
      "\n",
      "Epoch: 8\n",
      "\n"
     ]
    },
    {
     "name": "stderr",
     "output_type": "stream",
     "text": [
      "100%|██████████| 663/663 [04:15<00:00,  2.60it/s, D_fake_mean=0.376, D_real_mean=0.58, G_loss_mean=17.1, L1_mean=16]\n"
     ]
    },
    {
     "name": "stdout",
     "output_type": "stream",
     "text": [
      "\n",
      "\n",
      "Epoch: 9\n",
      "\n"
     ]
    },
    {
     "name": "stderr",
     "output_type": "stream",
     "text": [
      "100%|██████████| 663/663 [04:15<00:00,  2.60it/s, D_fake_mean=0.378, D_real_mean=0.579, G_loss_mean=16.9, L1_mean=15.8]\n"
     ]
    },
    {
     "name": "stdout",
     "output_type": "stream",
     "text": [
      "\n",
      "\n",
      "Epoch: 10\n",
      "\n"
     ]
    },
    {
     "name": "stderr",
     "output_type": "stream",
     "text": [
      "100%|██████████| 663/663 [04:15<00:00,  2.59it/s, D_fake_mean=0.381, D_real_mean=0.577, G_loss_mean=16.7, L1_mean=15.6]\n"
     ]
    },
    {
     "name": "stdout",
     "output_type": "stream",
     "text": [
      "=> Saving checkpoint\n",
      "=> Saving checkpoint\n",
      "\n",
      "\n",
      "Epoch: 11\n",
      "\n"
     ]
    },
    {
     "name": "stderr",
     "output_type": "stream",
     "text": [
      "100%|██████████| 663/663 [04:15<00:00,  2.59it/s, D_fake_mean=0.379, D_real_mean=0.576, G_loss_mean=16.3, L1_mean=15.2]\n"
     ]
    },
    {
     "name": "stdout",
     "output_type": "stream",
     "text": [
      "\n",
      "\n",
      "Epoch: 12\n",
      "\n"
     ]
    },
    {
     "name": "stderr",
     "output_type": "stream",
     "text": [
      "100%|██████████| 663/663 [04:16<00:00,  2.59it/s, D_fake_mean=0.381, D_real_mean=0.575, G_loss_mean=16.1, L1_mean=14.9]\n"
     ]
    },
    {
     "name": "stdout",
     "output_type": "stream",
     "text": [
      "\n",
      "\n",
      "Epoch: 13\n",
      "\n"
     ]
    },
    {
     "name": "stderr",
     "output_type": "stream",
     "text": [
      "100%|██████████| 663/663 [04:16<00:00,  2.58it/s, D_fake_mean=0.38, D_real_mean=0.574, G_loss_mean=15.8, L1_mean=14.7]\n"
     ]
    },
    {
     "name": "stdout",
     "output_type": "stream",
     "text": [
      "\n",
      "\n",
      "Epoch: 14\n",
      "\n"
     ]
    },
    {
     "name": "stderr",
     "output_type": "stream",
     "text": [
      "100%|██████████| 663/663 [04:16<00:00,  2.58it/s, D_fake_mean=0.382, D_real_mean=0.574, G_loss_mean=15.5, L1_mean=14.4]\n"
     ]
    },
    {
     "name": "stdout",
     "output_type": "stream",
     "text": [
      "\n",
      "\n",
      "Epoch: 15\n",
      "\n"
     ]
    },
    {
     "name": "stderr",
     "output_type": "stream",
     "text": [
      "100%|██████████| 663/663 [04:16<00:00,  2.58it/s, D_fake_mean=0.376, D_real_mean=0.574, G_loss_mean=15.2, L1_mean=14.1]\n"
     ]
    },
    {
     "name": "stdout",
     "output_type": "stream",
     "text": [
      "\n",
      "\n",
      "Epoch: 16\n",
      "\n"
     ]
    },
    {
     "name": "stderr",
     "output_type": "stream",
     "text": [
      "100%|██████████| 663/663 [04:15<00:00,  2.59it/s, D_fake_mean=0.368, D_real_mean=0.575, G_loss_mean=15, L1_mean=13.8]\n"
     ]
    },
    {
     "name": "stdout",
     "output_type": "stream",
     "text": [
      "\n",
      "\n",
      "Epoch: 17\n",
      "\n"
     ]
    },
    {
     "name": "stderr",
     "output_type": "stream",
     "text": [
      "100%|██████████| 663/663 [04:16<00:00,  2.58it/s, D_fake_mean=0.373, D_real_mean=0.573, G_loss_mean=14.6, L1_mean=13.5]\n"
     ]
    },
    {
     "name": "stdout",
     "output_type": "stream",
     "text": [
      "\n",
      "\n",
      "Epoch: 18\n",
      "\n"
     ]
    },
    {
     "name": "stderr",
     "output_type": "stream",
     "text": [
      "100%|██████████| 663/663 [04:16<00:00,  2.58it/s, D_fake_mean=0.376, D_real_mean=0.572, G_loss_mean=14.4, L1_mean=13.3]\n"
     ]
    },
    {
     "name": "stdout",
     "output_type": "stream",
     "text": [
      "\n",
      "\n",
      "Epoch: 19\n",
      "\n"
     ]
    },
    {
     "name": "stderr",
     "output_type": "stream",
     "text": [
      "100%|██████████| 663/663 [04:16<00:00,  2.59it/s, D_fake_mean=0.377, D_real_mean=0.572, G_loss_mean=14, L1_mean=12.9]\n"
     ]
    },
    {
     "name": "stdout",
     "output_type": "stream",
     "text": [
      "\n",
      "\n",
      "Epoch: 20\n",
      "\n"
     ]
    },
    {
     "name": "stderr",
     "output_type": "stream",
     "text": [
      "100%|██████████| 663/663 [04:16<00:00,  2.58it/s, D_fake_mean=0.373, D_real_mean=0.572, G_loss_mean=13.8, L1_mean=12.7]\n"
     ]
    },
    {
     "name": "stdout",
     "output_type": "stream",
     "text": [
      "=> Saving checkpoint\n",
      "=> Saving checkpoint\n"
     ]
    }
   ],
   "source": [
    "#matplotlib.use('Agg') # This refrains matplot lib form showing the plotted resualts below the cell\n",
    "gen_model = main()"
   ]
  },
  {
   "cell_type": "code",
   "execution_count": 15,
   "id": "adfde1ba",
   "metadata": {
    "execution": {
     "iopub.execute_input": "2023-04-24T17:20:55.127255Z",
     "iopub.status.busy": "2023-04-24T17:20:55.126141Z",
     "iopub.status.idle": "2023-04-24T17:20:55.132352Z",
     "shell.execute_reply": "2023-04-24T17:20:55.131322Z"
    },
    "papermill": {
     "duration": 0.790808,
     "end_time": "2023-04-24T17:20:55.134558",
     "exception": false,
     "start_time": "2023-04-24T17:20:54.343750",
     "status": "completed"
    },
    "tags": []
   },
   "outputs": [],
   "source": [
    "# transform = transforms.Compose([S2S1Normalize(),myToTensor(dtype=torch.float32)])\n",
    "# train_dataset = Sen12Dataset(s1_t1_dir=s1_t1_dir_train,\n",
    "#                              s2_t1_dir=s2_t1_dir_train,\n",
    "#                              s1_t2_dir=s1_t2_dir_train,\n",
    "#                              s2_t2_dir=s2_t2_dir_train,\n",
    "#                              transform=transform,\n",
    "#                              two_way=TWO_WAY_DATASET)\n",
    "# #plt.imshow(train_dataset[0][-1][0])\n",
    "\n",
    "# plt.imshow(torch.permute(train_dataset[123][4],(1,2,0))[:,:,0])\n",
    "# plt.colorbar()\n",
    "# plt.show()"
   ]
  },
  {
   "cell_type": "code",
   "execution_count": 16,
   "id": "9f8e62b1",
   "metadata": {
    "execution": {
     "iopub.execute_input": "2023-04-24T17:20:56.636139Z",
     "iopub.status.busy": "2023-04-24T17:20:56.635758Z",
     "iopub.status.idle": "2023-04-24T17:20:57.577972Z",
     "shell.execute_reply": "2023-04-24T17:20:57.576980Z"
    },
    "papermill": {
     "duration": 1.730905,
     "end_time": "2023-04-24T17:20:57.580704",
     "exception": false,
     "start_time": "2023-04-24T17:20:55.849799",
     "status": "completed"
    },
    "tags": []
   },
   "outputs": [],
   "source": [
    "transform = transforms.Compose([S2S1Normalize(),myToTensor()])\n",
    "test_dataset = Sen12Dataset(s1_t1_dir=s1_t1_dir_test,\n",
    "                            s2_t1_dir=s2_t1_dir_test,\n",
    "                            s1_t2_dir=s1_t2_dir_test,\n",
    "                            s2_t2_dir=s2_t2_dir_test,\n",
    "                            transform=transform,\n",
    "                            two_way=TWO_WAY_DATASET)\n",
    "test_loader = DataLoader(\n",
    "        test_dataset,\n",
    "        batch_size=BATCH_SIZE,\n",
    "        shuffle=False,\n",
    "        num_workers=NUM_WORKERS,\n",
    "    )"
   ]
  },
  {
   "cell_type": "code",
   "execution_count": 17,
   "id": "90031411",
   "metadata": {
    "execution": {
     "iopub.execute_input": "2023-04-24T17:20:59.117041Z",
     "iopub.status.busy": "2023-04-24T17:20:59.116617Z",
     "iopub.status.idle": "2023-04-24T17:20:59.121516Z",
     "shell.execute_reply": "2023-04-24T17:20:59.120508Z"
    },
    "papermill": {
     "duration": 0.818725,
     "end_time": "2023-04-24T17:20:59.123653",
     "exception": false,
     "start_time": "2023-04-24T17:20:58.304928",
     "status": "completed"
    },
    "tags": []
   },
   "outputs": [],
   "source": [
    "# save_some_examples(gen_model, test_dataset, NUM_EPOCHS, folder=\"evaluation\",cm_input=INPUT_CHANGE_MAP, img_indx=2)"
   ]
  },
  {
   "cell_type": "code",
   "execution_count": 18,
   "id": "1b7311fe",
   "metadata": {
    "execution": {
     "iopub.execute_input": "2023-04-24T17:21:00.723811Z",
     "iopub.status.busy": "2023-04-24T17:21:00.723319Z",
     "iopub.status.idle": "2023-04-24T17:21:00.736833Z",
     "shell.execute_reply": "2023-04-24T17:21:00.735796Z"
    },
    "papermill": {
     "duration": 0.84903,
     "end_time": "2023-04-24T17:21:00.739099",
     "exception": false,
     "start_time": "2023-04-24T17:20:59.890069",
     "status": "completed"
    },
    "tags": []
   },
   "outputs": [],
   "source": [
    "def eval_fn(gen, loader, ssim, psnr):\n",
    "    gen.eval()\n",
    "    loop = tqdm(loader, leave=True)\n",
    "    weighted_ssim_list = []\n",
    "    normal_ssim_list = []\n",
    "    weighted_psnr_list = []\n",
    "    normal_psnr_list = []\n",
    "    \n",
    "    for idx, (s2t2,s1t2,s2t1,s1t1,cm,rcm,s1cm) in enumerate(loop):\n",
    "        s2t2,s1t2,s2t1,s1t1,cm,rcm,s1cm = s2t2.to(DEVICE),s1t2.to(DEVICE),s2t1.to(DEVICE),s1t1.to(DEVICE),cm.to(DEVICE),rcm.to(DEVICE),s1cm.to(DEVICE)\n",
    "        s2t2,s1t2,s2t1,s1t1,cm,rcm,s1cm = s2t2.to(torch.float32),s1t2.to(torch.float32),s2t1.to(torch.float32),s1t1.to(torch.float32),cm.to(torch.float32),rcm.to(torch.float32),s1cm.to(torch.float32)\n",
    "        if INPUT_CHANGE_MAP:\n",
    "            s2t2 = torch.cat((s2t2, cm), dim=1)\n",
    "            s1t1 = torch.cat((s1t1, rcm), dim=1)\n",
    "        preds = gen(s2t2, s1t1)\n",
    "        \n",
    "        weighted_ssim = ssim((s1t2, preds), s1cm)\n",
    "        weighted_ssim_list.append(weighted_ssim)\n",
    "        normal_ssim = ssim((s1t2, preds))\n",
    "        normal_ssim_list.append(normal_ssim)\n",
    "        weighted_psnr = psnr((s1t2, preds), s1cm)\n",
    "        weighted_psnr_list.append(weighted_psnr)\n",
    "        normal_psnr = psnr((s1t2, preds))\n",
    "        normal_psnr_list.append(normal_psnr)\n",
    "\n",
    "\n",
    "        if idx % 10 == 0:\n",
    "            loop.set_postfix(\n",
    "                wssim_mean = torch.tensor(weighted_ssim_list).mean().item(),\n",
    "                ssim_mean = torch.tensor(normal_ssim_list).mean().item(),\n",
    "                wpsnr_mean = torch.tensor(weighted_psnr_list).mean().item(),\n",
    "                psnr_mean = torch.tensor(normal_psnr_list).mean().item(),\n",
    "            )\n",
    "    print(\"wssim_mean: \" , torch.tensor(weighted_ssim_list).mean().item())\n",
    "    print(\"ssim_mean: \" , torch.tensor(normal_ssim_list).mean().item())\n",
    "    print(\"wpsnr_mean: \" , torch.tensor(weighted_psnr_list).mean().item())\n",
    "    print(\"psnr_mean: \" , torch.tensor(normal_psnr_list).mean().item())"
   ]
  },
  {
   "cell_type": "code",
   "execution_count": 19,
   "id": "24f16648",
   "metadata": {
    "execution": {
     "iopub.execute_input": "2023-04-24T17:21:02.306129Z",
     "iopub.status.busy": "2023-04-24T17:21:02.305083Z",
     "iopub.status.idle": "2023-04-24T17:21:02.310622Z",
     "shell.execute_reply": "2023-04-24T17:21:02.309455Z"
    },
    "papermill": {
     "duration": 0.722911,
     "end_time": "2023-04-24T17:21:02.312778",
     "exception": false,
     "start_time": "2023-04-24T17:21:01.589867",
     "status": "completed"
    },
    "tags": []
   },
   "outputs": [],
   "source": [
    "from eval_metrics import ssim\n",
    "from eval_metrics.psnr import wpsnr\n",
    "wssim = ssim.WSSIM(data_range=1.0)"
   ]
  },
  {
   "cell_type": "code",
   "execution_count": 20,
   "id": "1bbc5592",
   "metadata": {
    "execution": {
     "iopub.execute_input": "2023-04-24T17:21:03.781232Z",
     "iopub.status.busy": "2023-04-24T17:21:03.780842Z",
     "iopub.status.idle": "2023-04-24T17:22:41.037210Z",
     "shell.execute_reply": "2023-04-24T17:22:41.035389Z"
    },
    "papermill": {
     "duration": 98.021228,
     "end_time": "2023-04-24T17:22:41.039671",
     "exception": false,
     "start_time": "2023-04-24T17:21:03.018443",
     "status": "completed"
    },
    "tags": []
   },
   "outputs": [
    {
     "name": "stderr",
     "output_type": "stream",
     "text": [
      "100%|██████████| 339/339 [01:37<00:00,  3.49it/s, psnr_mean=15.9, ssim_mean=0.389, wpsnr_mean=13, wssim_mean=0.335]"
     ]
    },
    {
     "name": "stdout",
     "output_type": "stream",
     "text": [
      "wssim_mean:  0.33269694447517395\n",
      "ssim_mean:  0.38640689849853516\n",
      "wpsnr_mean:  13.00674057006836\n",
      "psnr_mean:  15.937871932983398\n"
     ]
    },
    {
     "name": "stderr",
     "output_type": "stream",
     "text": [
      "\n"
     ]
    }
   ],
   "source": [
    "eval_fn(gen_model, test_loader, wssim, wpsnr)"
   ]
  },
  {
   "cell_type": "code",
   "execution_count": 21,
   "id": "e56e9e18",
   "metadata": {
    "execution": {
     "iopub.execute_input": "2023-04-24T17:22:42.549015Z",
     "iopub.status.busy": "2023-04-24T17:22:42.548234Z",
     "iopub.status.idle": "2023-04-24T17:22:42.553415Z",
     "shell.execute_reply": "2023-04-24T17:22:42.552259Z"
    },
    "papermill": {
     "duration": 0.732096,
     "end_time": "2023-04-24T17:22:42.556051",
     "exception": false,
     "start_time": "2023-04-24T17:22:41.823955",
     "status": "completed"
    },
    "tags": []
   },
   "outputs": [],
   "source": [
    "# import shutil\n",
    "# shutil.rmtree(\"test_evaluation_plots\")"
   ]
  },
  {
   "cell_type": "code",
   "execution_count": 22,
   "id": "bc429b11",
   "metadata": {
    "execution": {
     "iopub.execute_input": "2023-04-24T17:22:44.071578Z",
     "iopub.status.busy": "2023-04-24T17:22:44.070553Z",
     "iopub.status.idle": "2023-04-24T17:25:41.354222Z",
     "shell.execute_reply": "2023-04-24T17:25:41.352903Z"
    },
    "papermill": {
     "duration": 178.020697,
     "end_time": "2023-04-24T17:25:41.356843",
     "exception": false,
     "start_time": "2023-04-24T17:22:43.336146",
     "status": "completed"
    },
    "tags": []
   },
   "outputs": [
    {
     "name": "stdout",
     "output_type": "stream",
     "text": [
      "  adding: kaggle/working/test_evaluation_plots/ (stored 0%)\r\n",
      "  adding: kaggle/working/test_evaluation_plots/epoc_20_img511.png (deflated 2%)\r\n",
      "  adding: kaggle/working/test_evaluation_plots/epoc_20_img53.png (deflated 2%)\r\n",
      "  adding: kaggle/working/test_evaluation_plots/epoc_20_img409.png (deflated 2%)\r\n",
      "  adding: kaggle/working/test_evaluation_plots/epoc_20_img183.png (deflated 2%)\r\n",
      "  adding: kaggle/working/test_evaluation_plots/epoc_20_img441.png (deflated 2%)\r\n",
      "  adding: kaggle/working/test_evaluation_plots/epoc_20_img637.png (deflated 2%)\r\n",
      "  adding: kaggle/working/test_evaluation_plots/epoc_20_img643.png (deflated 2%)\r\n",
      "  adding: kaggle/working/test_evaluation_plots/epoc_20_img553.png (deflated 2%)\r\n",
      "  adding: kaggle/working/test_evaluation_plots/epoc_20_img207.png (deflated 2%)\r\n",
      "  adding: kaggle/working/test_evaluation_plots/epoc_20_img463.png (deflated 2%)\r\n",
      "  adding: kaggle/working/test_evaluation_plots/epoc_20_img495.png (deflated 2%)\r\n",
      "  adding: kaggle/working/test_evaluation_plots/epoc_20_img49.png (deflated 2%)\r\n",
      "  adding: kaggle/working/test_evaluation_plots/epoc_20_img665.png (deflated 2%)\r\n",
      "  adding: kaggle/working/test_evaluation_plots/epoc_20_img299.png (deflated 2%)\r\n",
      "  adding: kaggle/working/test_evaluation_plots/epoc_20_img517.png (deflated 2%)\r\n",
      "  adding: kaggle/working/test_evaluation_plots/epoc_20_img599.png (deflated 2%)\r\n",
      "  adding: kaggle/working/test_evaluation_plots/epoc_20_img167.png (deflated 2%)\r\n",
      "  adding: kaggle/working/test_evaluation_plots/epoc_20_img217.png (deflated 2%)\r\n",
      "  adding: kaggle/working/test_evaluation_plots/epoc_20_img125.png (deflated 2%)\r\n",
      "  adding: kaggle/working/test_evaluation_plots/epoc_20_img647.png (deflated 2%)\r\n",
      "  adding: kaggle/working/test_evaluation_plots/epoc_20_img201.png (deflated 2%)\r\n",
      "  adding: kaggle/working/test_evaluation_plots/epoc_20_img279.png (deflated 2%)\r\n",
      "  adding: kaggle/working/test_evaluation_plots/epoc_20_img155.png (deflated 2%)\r\n",
      "  adding: kaggle/working/test_evaluation_plots/epoc_20_img513.png (deflated 2%)\r\n",
      "  adding: kaggle/working/test_evaluation_plots/epoc_20_img609.png (deflated 2%)\r\n",
      "  adding: kaggle/working/test_evaluation_plots/epoc_20_img573.png (deflated 2%)\r\n",
      "  adding: kaggle/working/test_evaluation_plots/epoc_20_img323.png (deflated 2%)\r\n",
      "  adding: kaggle/working/test_evaluation_plots/epoc_20_img77.png (deflated 3%)\r\n",
      "  adding: kaggle/working/test_evaluation_plots/epoc_20_img305.png (deflated 2%)\r\n",
      "  adding: kaggle/working/test_evaluation_plots/epoc_20_img283.png (deflated 2%)\r\n",
      "  adding: kaggle/working/test_evaluation_plots/epoc_20_img341.png (deflated 2%)\r\n",
      "  adding: kaggle/working/test_evaluation_plots/epoc_20_img529.png (deflated 2%)\r\n",
      "  adding: kaggle/working/test_evaluation_plots/epoc_20_img325.png (deflated 2%)\r\n",
      "  adding: kaggle/working/test_evaluation_plots/epoc_20_img389.png (deflated 2%)\r\n",
      "  adding: kaggle/working/test_evaluation_plots/epoc_20_img61.png (deflated 2%)\r\n",
      "  adding: kaggle/working/test_evaluation_plots/epoc_20_img473.png (deflated 2%)\r\n",
      "  adding: kaggle/working/test_evaluation_plots/epoc_20_img245.png (deflated 2%)\r\n",
      "  adding: kaggle/working/test_evaluation_plots/epoc_20_img613.png (deflated 2%)\r\n",
      "  adding: kaggle/working/test_evaluation_plots/epoc_20_img621.png (deflated 2%)\r\n",
      "  adding: kaggle/working/test_evaluation_plots/epoc_20_img343.png (deflated 2%)\r\n",
      "  adding: kaggle/working/test_evaluation_plots/epoc_20_img241.png (deflated 2%)\r\n",
      "  adding: kaggle/working/test_evaluation_plots/epoc_20_img225.png (deflated 2%)\r\n",
      "  adding: kaggle/working/test_evaluation_plots/epoc_20_img507.png (deflated 2%)\r\n",
      "  adding: kaggle/working/test_evaluation_plots/epoc_20_img39.png (deflated 2%)\r\n",
      "  adding: kaggle/working/test_evaluation_plots/epoc_20_img525.png (deflated 2%)\r\n",
      "  adding: kaggle/working/test_evaluation_plots/epoc_20_img491.png (deflated 2%)\r\n",
      "  adding: kaggle/working/test_evaluation_plots/epoc_20_img651.png (deflated 2%)\r\n",
      "  adding: kaggle/working/test_evaluation_plots/epoc_20_img301.png (deflated 2%)\r\n",
      "  adding: kaggle/working/test_evaluation_plots/epoc_20_img239.png (deflated 2%)\r\n",
      "  adding: kaggle/working/test_evaluation_plots/epoc_20_img591.png (deflated 2%)\r\n",
      "  adding: kaggle/working/test_evaluation_plots/epoc_20_img355.png (deflated 2%)\r\n",
      "  adding: kaggle/working/test_evaluation_plots/epoc_20_img631.png (deflated 2%)\r\n",
      "  adding: kaggle/working/test_evaluation_plots/epoc_20_img275.png (deflated 2%)\r\n",
      "  adding: kaggle/working/test_evaluation_plots/epoc_20_img309.png (deflated 2%)\r\n",
      "  adding: kaggle/working/test_evaluation_plots/epoc_20_img41.png (deflated 2%)\r\n",
      "  adding: kaggle/working/test_evaluation_plots/epoc_20_img181.png (deflated 2%)\r\n",
      "  adding: kaggle/working/test_evaluation_plots/epoc_20_img559.png (deflated 2%)\r\n",
      "  adding: kaggle/working/test_evaluation_plots/epoc_20_img367.png (deflated 2%)\r\n",
      "  adding: kaggle/working/test_evaluation_plots/epoc_20_img267.png (deflated 2%)\r\n",
      "  adding: kaggle/working/test_evaluation_plots/epoc_20_img565.png (deflated 2%)\r\n",
      "  adding: kaggle/working/test_evaluation_plots/epoc_20_img531.png (deflated 2%)\r\n",
      "  adding: kaggle/working/test_evaluation_plots/epoc_20_img51.png (deflated 2%)\r\n",
      "  adding: kaggle/working/test_evaluation_plots/epoc_20_img327.png (deflated 2%)\r\n",
      "  adding: kaggle/working/test_evaluation_plots/epoc_20_img147.png (deflated 2%)\r\n",
      "  adding: kaggle/working/test_evaluation_plots/epoc_20_img557.png (deflated 2%)\r\n",
      "  adding: kaggle/working/test_evaluation_plots/epoc_20_img271.png (deflated 2%)\r\n",
      "  adding: kaggle/working/test_evaluation_plots/epoc_20_img657.png (deflated 2%)\r\n",
      "  adding: kaggle/working/test_evaluation_plots/epoc_20_img433.png (deflated 2%)\r\n",
      "  adding: kaggle/working/test_evaluation_plots/epoc_20_img47.png (deflated 2%)\r\n",
      "  adding: kaggle/working/test_evaluation_plots/epoc_20_img653.png (deflated 2%)\r\n",
      "  adding: kaggle/working/test_evaluation_plots/epoc_20_img145.png (deflated 2%)\r\n",
      "  adding: kaggle/working/test_evaluation_plots/epoc_20_img581.png (deflated 2%)\r\n",
      "  adding: kaggle/working/test_evaluation_plots/epoc_20_img25.png (deflated 2%)\r\n",
      "  adding: kaggle/working/test_evaluation_plots/epoc_20_img351.png (deflated 2%)\r\n",
      "  adding: kaggle/working/test_evaluation_plots/epoc_20_img307.png (deflated 2%)\r\n",
      "  adding: kaggle/working/test_evaluation_plots/epoc_20_img501.png (deflated 2%)\r\n",
      "  adding: kaggle/working/test_evaluation_plots/epoc_20_img671.png (deflated 2%)\r\n",
      "  adding: kaggle/working/test_evaluation_plots/epoc_20_img105.png (deflated 2%)\r\n",
      "  adding: kaggle/working/test_evaluation_plots/epoc_20_img459.png (deflated 2%)\r\n",
      "  adding: kaggle/working/test_evaluation_plots/epoc_20_img471.png (deflated 2%)\r\n",
      "  adding: kaggle/working/test_evaluation_plots/epoc_20_img369.png (deflated 2%)\r\n",
      "  adding: kaggle/working/test_evaluation_plots/epoc_20_img403.png (deflated 2%)\r\n",
      "  adding: kaggle/working/test_evaluation_plots/epoc_20_img221.png (deflated 2%)\r\n",
      "  adding: kaggle/working/test_evaluation_plots/epoc_20_img365.png (deflated 2%)\r\n",
      "  adding: kaggle/working/test_evaluation_plots/epoc_20_img157.png (deflated 2%)\r\n",
      "  adding: kaggle/working/test_evaluation_plots/epoc_20_img461.png (deflated 2%)\r\n",
      "  adding: kaggle/working/test_evaluation_plots/epoc_20_img257.png (deflated 2%)\r\n",
      "  adding: kaggle/working/test_evaluation_plots/epoc_20_img293.png (deflated 2%)\r\n",
      "  adding: kaggle/working/test_evaluation_plots/epoc_20_img17.png (deflated 2%)\r\n",
      "  adding: kaggle/working/test_evaluation_plots/epoc_20_img91.png (deflated 2%)\r\n",
      "  adding: kaggle/working/test_evaluation_plots/epoc_20_img397.png (deflated 2%)\r\n",
      "  adding: kaggle/working/test_evaluation_plots/epoc_20_img371.png (deflated 2%)\r\n",
      "  adding: kaggle/working/test_evaluation_plots/epoc_20_img247.png (deflated 2%)\r\n",
      "  adding: kaggle/working/test_evaluation_plots/epoc_20_img417.png (deflated 2%)\r\n",
      "  adding: kaggle/working/test_evaluation_plots/epoc_20_img315.png (deflated 2%)\r\n",
      "  adding: kaggle/working/test_evaluation_plots/epoc_20_img81.png (deflated 2%)\r\n",
      "  adding: kaggle/working/test_evaluation_plots/epoc_20_img193.png (deflated 2%)\r\n",
      "  adding: kaggle/working/test_evaluation_plots/epoc_20_img139.png (deflated 2%)\r\n",
      "  adding: kaggle/working/test_evaluation_plots/epoc_20_img547.png (deflated 2%)\r\n",
      "  adding: kaggle/working/test_evaluation_plots/epoc_20_img97.png (deflated 2%)\r\n",
      "  adding: kaggle/working/test_evaluation_plots/epoc_20_img253.png (deflated 2%)\r\n",
      "  adding: kaggle/working/test_evaluation_plots/epoc_20_img505.png (deflated 2%)\r\n",
      "  adding: kaggle/working/test_evaluation_plots/epoc_20_img211.png (deflated 2%)\r\n",
      "  adding: kaggle/working/test_evaluation_plots/epoc_20_img191.png (deflated 2%)\r\n",
      "  adding: kaggle/working/test_evaluation_plots/epoc_20_img445.png (deflated 2%)\r\n",
      "  adding: kaggle/working/test_evaluation_plots/epoc_20_img163.png (deflated 2%)\r\n",
      "  adding: kaggle/working/test_evaluation_plots/epoc_20_img635.png (deflated 2%)\r\n",
      "  adding: kaggle/working/test_evaluation_plots/epoc_20_img173.png (deflated 2%)\r\n",
      "  adding: kaggle/working/test_evaluation_plots/epoc_20_img641.png (deflated 2%)\r\n",
      "  adding: kaggle/working/test_evaluation_plots/epoc_20_img479.png (deflated 2%)\r\n",
      "  adding: kaggle/working/test_evaluation_plots/epoc_20_img133.png (deflated 2%)\r\n",
      "  adding: kaggle/working/test_evaluation_plots/epoc_20_img185.png (deflated 2%)\r\n",
      "  adding: kaggle/working/test_evaluation_plots/epoc_20_img113.png (deflated 2%)\r\n",
      "  adding: kaggle/working/test_evaluation_plots/epoc_20_img625.png (deflated 2%)\r\n",
      "  adding: kaggle/working/test_evaluation_plots/epoc_20_img215.png (deflated 2%)\r\n",
      "  adding: kaggle/working/test_evaluation_plots/epoc_20_img453.png (deflated 2%)\r\n",
      "  adding: kaggle/working/test_evaluation_plots/epoc_20_img449.png (deflated 2%)\r\n",
      "  adding: kaggle/working/test_evaluation_plots/epoc_20_img585.png (deflated 2%)\r\n",
      "  adding: kaggle/working/test_evaluation_plots/epoc_20_img255.png (deflated 2%)\r\n",
      "  adding: kaggle/working/test_evaluation_plots/epoc_20_img93.png (deflated 2%)\r\n",
      "  adding: kaggle/working/test_evaluation_plots/epoc_20_img545.png (deflated 2%)\r\n",
      "  adding: kaggle/working/test_evaluation_plots/epoc_20_img451.png (deflated 2%)\r\n",
      "  adding: kaggle/working/test_evaluation_plots/epoc_20_img523.png (deflated 2%)\r\n",
      "  adding: kaggle/working/test_evaluation_plots/epoc_20_img527.png (deflated 2%)\r\n",
      "  adding: kaggle/working/test_evaluation_plots/epoc_20_img497.png (deflated 2%)\r\n",
      "  adding: kaggle/working/test_evaluation_plots/epoc_20_img661.png (deflated 2%)\r\n",
      "  adding: kaggle/working/test_evaluation_plots/epoc_20_img619.png (deflated 2%)\r\n",
      "  adding: kaggle/working/test_evaluation_plots/epoc_20_img3.png (deflated 2%)\r\n",
      "  adding: kaggle/working/test_evaluation_plots/epoc_20_img663.png (deflated 2%)\r\n",
      "  adding: kaggle/working/test_evaluation_plots/epoc_20_img119.png (deflated 2%)\r\n",
      "  adding: kaggle/working/test_evaluation_plots/epoc_20_img569.png (deflated 2%)\r\n",
      "  adding: kaggle/working/test_evaluation_plots/epoc_20_img457.png (deflated 2%)\r\n",
      "  adding: kaggle/working/test_evaluation_plots/epoc_20_img405.png (deflated 2%)\r\n",
      "  adding: kaggle/working/test_evaluation_plots/epoc_20_img63.png (deflated 2%)\r\n",
      "  adding: kaggle/working/test_evaluation_plots/epoc_20_img311.png (deflated 2%)\r\n",
      "  adding: kaggle/working/test_evaluation_plots/epoc_20_img419.png (deflated 2%)\r\n",
      "  adding: kaggle/working/test_evaluation_plots/epoc_20_img659.png (deflated 2%)\r\n",
      "  adding: kaggle/working/test_evaluation_plots/epoc_20_img537.png (deflated 2%)\r\n",
      "  adding: kaggle/working/test_evaluation_plots/epoc_20_img189.png (deflated 2%)\r\n",
      "  adding: kaggle/working/test_evaluation_plots/epoc_20_img539.png (deflated 2%)\r\n",
      "  adding: kaggle/working/test_evaluation_plots/epoc_20_img229.png (deflated 2%)\r\n",
      "  adding: kaggle/working/test_evaluation_plots/epoc_20_img607.png (deflated 2%)\r\n",
      "  adding: kaggle/working/test_evaluation_plots/epoc_20_img465.png (deflated 2%)\r\n",
      "  adding: kaggle/working/test_evaluation_plots/epoc_20_img499.png (deflated 2%)\r\n",
      "  adding: kaggle/working/test_evaluation_plots/epoc_20_img29.png (deflated 2%)\r\n",
      "  adding: kaggle/working/test_evaluation_plots/epoc_20_img493.png (deflated 2%)\r\n",
      "  adding: kaggle/working/test_evaluation_plots/epoc_20_img429.png (deflated 2%)\r\n",
      "  adding: kaggle/working/test_evaluation_plots/epoc_20_img127.png (deflated 2%)\r\n",
      "  adding: kaggle/working/test_evaluation_plots/epoc_20_img639.png (deflated 2%)\r\n",
      "  adding: kaggle/working/test_evaluation_plots/epoc_20_img179.png (deflated 2%)\r\n",
      "  adding: kaggle/working/test_evaluation_plots/epoc_20_img617.png (deflated 2%)\r\n",
      "  adding: kaggle/working/test_evaluation_plots/epoc_20_img151.png (deflated 2%)\r\n",
      "  adding: kaggle/working/test_evaluation_plots/epoc_20_img567.png (deflated 2%)\r\n",
      "  adding: kaggle/working/test_evaluation_plots/epoc_20_img333.png (deflated 2%)\r\n",
      "  adding: kaggle/working/test_evaluation_plots/epoc_20_img435.png (deflated 2%)\r\n",
      "  adding: kaggle/working/test_evaluation_plots/epoc_20_img303.png (deflated 2%)\r\n",
      "  adding: kaggle/working/test_evaluation_plots/epoc_20_img575.png (deflated 2%)\r\n",
      "  adding: kaggle/working/test_evaluation_plots/epoc_20_img289.png (deflated 2%)\r\n",
      "  adding: kaggle/working/test_evaluation_plots/epoc_20_img11.png (deflated 2%)\r\n",
      "  adding: kaggle/working/test_evaluation_plots/epoc_20_img287.png (deflated 2%)\r\n",
      "  adding: kaggle/working/test_evaluation_plots/epoc_20_img19.png (deflated 2%)\r\n",
      "  adding: kaggle/working/test_evaluation_plots/epoc_20_img265.png (deflated 2%)\r\n",
      "  adding: kaggle/working/test_evaluation_plots/epoc_20_img421.png (deflated 2%)\r\n",
      "  adding: kaggle/working/test_evaluation_plots/epoc_20_img345.png (deflated 2%)\r\n",
      "  adding: kaggle/working/test_evaluation_plots/epoc_20_img159.png (deflated 2%)\r\n",
      "  adding: kaggle/working/test_evaluation_plots/epoc_20_img177.png (deflated 2%)\r\n",
      "  adding: kaggle/working/test_evaluation_plots/epoc_20_img291.png (deflated 2%)\r\n",
      "  adding: kaggle/working/test_evaluation_plots/epoc_20_img533.png (deflated 2%)\r\n",
      "  adding: kaggle/working/test_evaluation_plots/epoc_20_img169.png (deflated 2%)\r\n",
      "  adding: kaggle/working/test_evaluation_plots/epoc_20_img73.png (deflated 2%)\r\n",
      "  adding: kaggle/working/test_evaluation_plots/epoc_20_img317.png (deflated 2%)\r\n",
      "  adding: kaggle/working/test_evaluation_plots/epoc_20_img75.png (deflated 2%)\r\n",
      "  adding: kaggle/working/test_evaluation_plots/epoc_20_img161.png (deflated 2%)\r\n",
      "  adding: kaggle/working/test_evaluation_plots/epoc_20_img629.png (deflated 2%)\r\n",
      "  adding: kaggle/working/test_evaluation_plots/epoc_20_img415.png (deflated 2%)\r\n",
      "  adding: kaggle/working/test_evaluation_plots/epoc_20_img399.png (deflated 2%)\r\n",
      "  adding: kaggle/working/test_evaluation_plots/epoc_20_img285.png (deflated 2%)\r\n",
      "  adding: kaggle/working/test_evaluation_plots/epoc_20_img135.png (deflated 2%)\r\n",
      "  adding: kaggle/working/test_evaluation_plots/epoc_20_img37.png (deflated 2%)\r\n",
      "  adding: kaggle/working/test_evaluation_plots/epoc_20_img597.png (deflated 2%)\r\n",
      "  adding: kaggle/working/test_evaluation_plots/epoc_20_img393.png (deflated 2%)\r\n",
      "  adding: kaggle/working/test_evaluation_plots/epoc_20_img231.png (deflated 2%)\r\n",
      "  adding: kaggle/working/test_evaluation_plots/epoc_20_img503.png (deflated 2%)\r\n",
      "  adding: kaggle/working/test_evaluation_plots/epoc_20_img259.png (deflated 2%)\r\n",
      "  adding: kaggle/working/test_evaluation_plots/epoc_20_img673.png (deflated 2%)\r\n",
      "  adding: kaggle/working/test_evaluation_plots/epoc_20_img101.png (deflated 2%)\r\n",
      "  adding: kaggle/working/test_evaluation_plots/epoc_20_img171.png (deflated 2%)\r\n",
      "  adding: kaggle/working/test_evaluation_plots/epoc_20_img273.png (deflated 2%)\r\n",
      "  adding: kaggle/working/test_evaluation_plots/epoc_20_img243.png (deflated 2%)\r\n",
      "  adding: kaggle/working/test_evaluation_plots/epoc_20_img477.png (deflated 2%)\r\n",
      "  adding: kaggle/working/test_evaluation_plots/epoc_20_img519.png (deflated 2%)\r\n",
      "  adding: kaggle/working/test_evaluation_plots/epoc_20_img443.png (deflated 2%)\r\n",
      "  adding: kaggle/working/test_evaluation_plots/epoc_20_img379.png (deflated 2%)\r\n",
      "  adding: kaggle/working/test_evaluation_plots/epoc_20_img269.png (deflated 2%)\r\n",
      "  adding: kaggle/working/test_evaluation_plots/epoc_20_img23.png (deflated 2%)\r\n",
      "  adding: kaggle/working/test_evaluation_plots/epoc_20_img669.png (deflated 2%)\r\n",
      "  adding: kaggle/working/test_evaluation_plots/epoc_20_img187.png (deflated 2%)\r\n",
      "  adding: kaggle/working/test_evaluation_plots/epoc_20_img209.png (deflated 2%)\r\n",
      "  adding: kaggle/working/test_evaluation_plots/epoc_20_img27.png (deflated 2%)\r\n",
      "  adding: kaggle/working/test_evaluation_plots/epoc_20_img137.png (deflated 2%)\r\n",
      "  adding: kaggle/working/test_evaluation_plots/epoc_20_img107.png (deflated 2%)\r\n",
      "  adding: kaggle/working/test_evaluation_plots/epoc_20_img87.png (deflated 2%)\r\n",
      "  adding: kaggle/working/test_evaluation_plots/epoc_20_img413.png (deflated 2%)\r\n",
      "  adding: kaggle/working/test_evaluation_plots/epoc_20_img359.png (deflated 2%)\r\n",
      "  adding: kaggle/working/test_evaluation_plots/epoc_20_img149.png (deflated 2%)\r\n",
      "  adding: kaggle/working/test_evaluation_plots/epoc_20_img7.png (deflated 2%)\r\n",
      "  adding: kaggle/working/test_evaluation_plots/epoc_20_img165.png (deflated 2%)\r\n",
      "  adding: kaggle/working/test_evaluation_plots/epoc_20_img15.png (deflated 2%)\r\n",
      "  adding: kaggle/working/test_evaluation_plots/epoc_20_img627.png (deflated 2%)\r\n",
      "  adding: kaggle/working/test_evaluation_plots/epoc_20_img5.png (deflated 2%)\r\n",
      "  adding: kaggle/working/test_evaluation_plots/epoc_20_img353.png (deflated 2%)\r\n",
      "  adding: kaggle/working/test_evaluation_plots/epoc_20_img357.png (deflated 2%)\r\n",
      "  adding: kaggle/working/test_evaluation_plots/epoc_20_img551.png (deflated 2%)\r\n",
      "  adding: kaggle/working/test_evaluation_plots/epoc_20_img9.png (deflated 2%)\r\n",
      "  adding: kaggle/working/test_evaluation_plots/epoc_20_img213.png (deflated 2%)\r\n",
      "  adding: kaggle/working/test_evaluation_plots/epoc_20_img395.png (deflated 2%)\r\n",
      "  adding: kaggle/working/test_evaluation_plots/epoc_20_img21.png (deflated 2%)\r\n",
      "  adding: kaggle/working/test_evaluation_plots/epoc_20_img71.png (deflated 2%)\r\n",
      "  adding: kaggle/working/test_evaluation_plots/epoc_20_img123.png (deflated 2%)\r\n",
      "  adding: kaggle/working/test_evaluation_plots/epoc_20_img235.png (deflated 2%)\r\n",
      "  adding: kaggle/working/test_evaluation_plots/epoc_20_img43.png (deflated 2%)\r\n",
      "  adding: kaggle/working/test_evaluation_plots/epoc_20_img391.png (deflated 2%)\r\n",
      "  adding: kaggle/working/test_evaluation_plots/epoc_20_img219.png (deflated 2%)\r\n",
      "  adding: kaggle/working/test_evaluation_plots/epoc_20_img83.png (deflated 2%)\r\n",
      "  adding: kaggle/working/test_evaluation_plots/epoc_20_img535.png (deflated 2%)\r\n",
      "  adding: kaggle/working/test_evaluation_plots/epoc_20_img175.png (deflated 2%)\r\n",
      "  adding: kaggle/working/test_evaluation_plots/epoc_20_img227.png (deflated 2%)\r\n",
      "  adding: kaggle/working/test_evaluation_plots/epoc_20_img439.png (deflated 2%)\r\n",
      "  adding: kaggle/working/test_evaluation_plots/epoc_20_img655.png (deflated 2%)\r\n",
      "  adding: kaggle/working/test_evaluation_plots/epoc_20_img153.png (deflated 2%)\r\n",
      "  adding: kaggle/working/test_evaluation_plots/epoc_20_img363.png (deflated 2%)\r\n",
      "  adding: kaggle/working/test_evaluation_plots/epoc_20_img483.png (deflated 2%)\r\n",
      "  adding: kaggle/working/test_evaluation_plots/epoc_20_img455.png (deflated 2%)\r\n",
      "  adding: kaggle/working/test_evaluation_plots/epoc_20_img31.png (deflated 2%)\r\n",
      "  adding: kaggle/working/test_evaluation_plots/epoc_20_img541.png (deflated 2%)\r\n",
      "  adding: kaggle/working/test_evaluation_plots/epoc_20_img489.png (deflated 2%)\r\n",
      "  adding: kaggle/working/test_evaluation_plots/epoc_20_img251.png (deflated 2%)\r\n",
      "  adding: kaggle/working/test_evaluation_plots/epoc_20_img579.png (deflated 2%)\r\n",
      "  adding: kaggle/working/test_evaluation_plots/epoc_20_img633.png (deflated 2%)\r\n",
      "  adding: kaggle/working/test_evaluation_plots/epoc_20_img249.png (deflated 2%)\r\n",
      "  adding: kaggle/working/test_evaluation_plots/epoc_20_img611.png (deflated 2%)\r\n",
      "  adding: kaggle/working/test_evaluation_plots/epoc_20_img95.png (deflated 2%)\r\n",
      "  adding: kaggle/working/test_evaluation_plots/epoc_20_img35.png (deflated 2%)\r\n",
      "  adding: kaggle/working/test_evaluation_plots/epoc_20_img263.png (deflated 2%)\r\n",
      "  adding: kaggle/working/test_evaluation_plots/epoc_20_img277.png (deflated 2%)\r\n",
      "  adding: kaggle/working/test_evaluation_plots/epoc_20_img321.png (deflated 2%)\r\n",
      "  adding: kaggle/working/test_evaluation_plots/epoc_20_img121.png (deflated 2%)\r\n",
      "  adding: kaggle/working/test_evaluation_plots/epoc_20_img481.png (deflated 2%)\r\n",
      "  adding: kaggle/working/test_evaluation_plots/epoc_20_img111.png (deflated 2%)\r\n",
      "  adding: kaggle/working/test_evaluation_plots/epoc_20_img373.png (deflated 2%)\r\n",
      "  adding: kaggle/working/test_evaluation_plots/epoc_20_img469.png (deflated 2%)\r\n",
      "  adding: kaggle/working/test_evaluation_plots/epoc_20_img295.png (deflated 2%)\r\n",
      "  adding: kaggle/working/test_evaluation_plots/epoc_20_img117.png (deflated 2%)\r\n",
      "  adding: kaggle/working/test_evaluation_plots/epoc_20_img521.png (deflated 2%)\r\n",
      "  adding: kaggle/working/test_evaluation_plots/epoc_20_img195.png (deflated 2%)\r\n",
      "  adding: kaggle/working/test_evaluation_plots/epoc_20_img385.png (deflated 2%)\r\n",
      "  adding: kaggle/working/test_evaluation_plots/epoc_20_img347.png (deflated 2%)\r\n",
      "  adding: kaggle/working/test_evaluation_plots/epoc_20_img487.png (deflated 2%)\r\n",
      "  adding: kaggle/working/test_evaluation_plots/epoc_20_img427.png (deflated 2%)\r\n",
      "  adding: kaggle/working/test_evaluation_plots/epoc_20_img667.png (deflated 2%)\r\n",
      "  adding: kaggle/working/test_evaluation_plots/epoc_20_img475.png (deflated 2%)\r\n",
      "  adding: kaggle/working/test_evaluation_plots/epoc_20_img431.png (deflated 2%)\r\n",
      "  adding: kaggle/working/test_evaluation_plots/epoc_20_img65.png (deflated 2%)\r\n",
      "  adding: kaggle/working/test_evaluation_plots/epoc_20_img407.png (deflated 2%)\r\n",
      "  adding: kaggle/working/test_evaluation_plots/epoc_20_img13.png (deflated 2%)\r\n",
      "  adding: kaggle/working/test_evaluation_plots/epoc_20_img103.png (deflated 2%)\r\n",
      "  adding: kaggle/working/test_evaluation_plots/epoc_20_img675.png (deflated 2%)\r\n",
      "  adding: kaggle/working/test_evaluation_plots/epoc_20_img67.png (deflated 2%)\r\n",
      "  adding: kaggle/working/test_evaluation_plots/epoc_20_img561.png (deflated 2%)\r\n",
      "  adding: kaggle/working/test_evaluation_plots/epoc_20_img593.png (deflated 2%)\r\n",
      "  adding: kaggle/working/test_evaluation_plots/epoc_20_img361.png (deflated 2%)\r\n",
      "  adding: kaggle/working/test_evaluation_plots/epoc_20_img649.png (deflated 2%)\r\n",
      "  adding: kaggle/working/test_evaluation_plots/epoc_20_img281.png (deflated 2%)\r\n",
      "  adding: kaggle/working/test_evaluation_plots/epoc_20_img549.png (deflated 2%)\r\n",
      "  adding: kaggle/working/test_evaluation_plots/epoc_20_img115.png (deflated 2%)\r\n",
      "  adding: kaggle/working/test_evaluation_plots/epoc_20_img587.png (deflated 2%)\r\n",
      "  adding: kaggle/working/test_evaluation_plots/epoc_20_img199.png (deflated 2%)\r\n",
      "  adding: kaggle/working/test_evaluation_plots/epoc_20_img337.png (deflated 2%)\r\n",
      "  adding: kaggle/working/test_evaluation_plots/epoc_20_img233.png (deflated 2%)\r\n",
      "  adding: kaggle/working/test_evaluation_plots/epoc_20_img467.png (deflated 2%)\r\n",
      "  adding: kaggle/working/test_evaluation_plots/epoc_20_img349.png (deflated 2%)\r\n",
      "  adding: kaggle/working/test_evaluation_plots/epoc_20_img603.png (deflated 2%)\r\n",
      "  adding: kaggle/working/test_evaluation_plots/epoc_20_img313.png (deflated 2%)\r\n",
      "  adding: kaggle/working/test_evaluation_plots/epoc_20_img335.png (deflated 2%)\r\n",
      "  adding: kaggle/working/test_evaluation_plots/epoc_20_img447.png (deflated 2%)\r\n",
      "  adding: kaggle/working/test_evaluation_plots/epoc_20_img1.png (deflated 2%)\r\n",
      "  adding: kaggle/working/test_evaluation_plots/epoc_20_img197.png (deflated 2%)\r\n",
      "  adding: kaggle/working/test_evaluation_plots/epoc_20_img339.png (deflated 2%)\r\n",
      "  adding: kaggle/working/test_evaluation_plots/epoc_20_img377.png (deflated 2%)\r\n",
      "  adding: kaggle/working/test_evaluation_plots/epoc_20_img623.png (deflated 2%)\r\n",
      "  adding: kaggle/working/test_evaluation_plots/epoc_20_img509.png (deflated 2%)\r\n",
      "  adding: kaggle/working/test_evaluation_plots/epoc_20_img605.png (deflated 2%)\r\n",
      "  adding: kaggle/working/test_evaluation_plots/epoc_20_img425.png (deflated 2%)\r\n",
      "  adding: kaggle/working/test_evaluation_plots/epoc_20_img571.png (deflated 2%)\r\n",
      "  adding: kaggle/working/test_evaluation_plots/epoc_20_img381.png (deflated 2%)\r\n",
      "  adding: kaggle/working/test_evaluation_plots/epoc_20_img589.png (deflated 2%)\r\n",
      "  adding: kaggle/working/test_evaluation_plots/epoc_20_img85.png (deflated 2%)\r\n",
      "  adding: kaggle/working/test_evaluation_plots/epoc_20_img601.png (deflated 2%)\r\n",
      "  adding: kaggle/working/test_evaluation_plots/epoc_20_img577.png (deflated 2%)\r\n",
      "  adding: kaggle/working/test_evaluation_plots/epoc_20_img203.png (deflated 2%)\r\n",
      "  adding: kaggle/working/test_evaluation_plots/epoc_20_img543.png (deflated 2%)\r\n",
      "  adding: kaggle/working/test_evaluation_plots/epoc_20_img45.png (deflated 2%)\r\n",
      "  adding: kaggle/working/test_evaluation_plots/epoc_20_img89.png (deflated 2%)\r\n",
      "  adding: kaggle/working/test_evaluation_plots/epoc_20_img109.png (deflated 2%)\r\n",
      "  adding: kaggle/working/test_evaluation_plots/epoc_20_img595.png (deflated 2%)\r\n",
      "  adding: kaggle/working/test_evaluation_plots/epoc_20_img423.png (deflated 2%)\r\n",
      "  adding: kaggle/working/test_evaluation_plots/epoc_20_img485.png (deflated 2%)\r\n",
      "  adding: kaggle/working/test_evaluation_plots/epoc_20_img237.png (deflated 2%)\r\n",
      "  adding: kaggle/working/test_evaluation_plots/epoc_20_img99.png (deflated 3%)\r\n",
      "  adding: kaggle/working/test_evaluation_plots/epoc_20_img583.png (deflated 2%)\r\n",
      "  adding: kaggle/working/test_evaluation_plots/epoc_20_img69.png (deflated 2%)\r\n",
      "  adding: kaggle/working/test_evaluation_plots/epoc_20_img401.png (deflated 2%)\r\n",
      "  adding: kaggle/working/test_evaluation_plots/epoc_20_img615.png (deflated 2%)\r\n",
      "  adding: kaggle/working/test_evaluation_plots/epoc_20_img319.png (deflated 2%)\r\n",
      "  adding: kaggle/working/test_evaluation_plots/epoc_20_img129.png (deflated 2%)\r\n",
      "  adding: kaggle/working/test_evaluation_plots/epoc_20_img375.png (deflated 2%)\r\n",
      "  adding: kaggle/working/test_evaluation_plots/epoc_20_img57.png (deflated 2%)\r\n",
      "  adding: kaggle/working/test_evaluation_plots/epoc_20_img329.png (deflated 2%)\r\n",
      "  adding: kaggle/working/test_evaluation_plots/epoc_20_img59.png (deflated 2%)\r\n",
      "  adding: kaggle/working/test_evaluation_plots/epoc_20_img141.png (deflated 2%)\r\n",
      "  adding: kaggle/working/test_evaluation_plots/epoc_20_img555.png (deflated 2%)\r\n",
      "  adding: kaggle/working/test_evaluation_plots/epoc_20_img387.png (deflated 2%)\r\n",
      "  adding: kaggle/working/test_evaluation_plots/epoc_20_img223.png (deflated 2%)\r\n",
      "  adding: kaggle/working/test_evaluation_plots/epoc_20_img33.png (deflated 2%)\r\n",
      "  adding: kaggle/working/test_evaluation_plots/epoc_20_img261.png (deflated 2%)\r\n",
      "  adding: kaggle/working/test_evaluation_plots/epoc_20_img437.png (deflated 2%)\r\n",
      "  adding: kaggle/working/test_evaluation_plots/epoc_20_img411.png (deflated 2%)\r\n",
      "  adding: kaggle/working/test_evaluation_plots/epoc_20_img131.png (deflated 2%)\r\n",
      "  adding: kaggle/working/test_evaluation_plots/epoc_20_img205.png (deflated 2%)\r\n",
      "  adding: kaggle/working/test_evaluation_plots/epoc_20_img563.png (deflated 2%)\r\n",
      "  adding: kaggle/working/test_evaluation_plots/epoc_20_img297.png (deflated 2%)\r\n",
      "  adding: kaggle/working/test_evaluation_plots/epoc_20_img383.png (deflated 2%)\r\n",
      "  adding: kaggle/working/test_evaluation_plots/epoc_20_img515.png (deflated 2%)\r\n",
      "  adding: kaggle/working/test_evaluation_plots/epoc_20_img79.png (deflated 3%)\r\n",
      "  adding: kaggle/working/test_evaluation_plots/epoc_20_img645.png (deflated 2%)\r\n",
      "  adding: kaggle/working/test_evaluation_plots/epoc_20_img143.png (deflated 2%)\r\n",
      "  adding: kaggle/working/test_evaluation_plots/epoc_20_img55.png (deflated 2%)\r\n",
      "  adding: kaggle/working/test_evaluation_plots/epoc_20_img331.png (deflated 2%)\r\n"
     ]
    }
   ],
   "source": [
    "for img_i in range(1,len(test_dataset)//2,2):\n",
    "    save_some_examples(gen_model, test_dataset, NUM_EPOCHS, folder=\"test_evaluation_plots\",cm_input=INPUT_CHANGE_MAP, img_indx=img_i)\n",
    "!zip -r /kaggle/working/test_evalplot.zip  /kaggle/working/test_evaluation_plots/"
   ]
  },
  {
   "cell_type": "code",
   "execution_count": 23,
   "id": "5aba9d77",
   "metadata": {
    "execution": {
     "iopub.execute_input": "2023-04-24T17:25:42.908168Z",
     "iopub.status.busy": "2023-04-24T17:25:42.907775Z",
     "iopub.status.idle": "2023-04-24T17:25:47.072832Z",
     "shell.execute_reply": "2023-04-24T17:25:47.071580Z"
    },
    "papermill": {
     "duration": 4.958538,
     "end_time": "2023-04-24T17:25:47.075635",
     "exception": false,
     "start_time": "2023-04-24T17:25:42.117097",
     "status": "completed"
    },
    "tags": []
   },
   "outputs": [
    {
     "name": "stdout",
     "output_type": "stream",
     "text": [
      "  adding: kaggle/working/train_evaluation_plots/ (stored 0%)\r\n",
      "  adding: kaggle/working/train_evaluation_plots/epoc_16_img1.png (deflated 2%)\r\n",
      "  adding: kaggle/working/train_evaluation_plots/epoc_20_img64.png (deflated 2%)\r\n",
      "  adding: kaggle/working/train_evaluation_plots/epoc_8_img256.png (deflated 2%)\r\n",
      "  adding: kaggle/working/train_evaluation_plots/epoc_15_img32.png (deflated 2%)\r\n",
      "  adding: kaggle/working/train_evaluation_plots/epoc_20_img512.png (deflated 2%)\r\n",
      "  adding: kaggle/working/train_evaluation_plots/epoc_12_img512.png (deflated 2%)\r\n",
      "  adding: kaggle/working/train_evaluation_plots/epoc_8_img128.png (deflated 2%)\r\n",
      "  adding: kaggle/working/train_evaluation_plots/epoc_1_img64.png (deflated 2%)\r\n",
      "  adding: kaggle/working/train_evaluation_plots/epoc_8_img32.png (deflated 2%)\r\n",
      "  adding: kaggle/working/train_evaluation_plots/epoc_4_img128.png (deflated 2%)\r\n",
      "  adding: kaggle/working/train_evaluation_plots/epoc_5_img1024.png (deflated 2%)\r\n",
      "  adding: kaggle/working/train_evaluation_plots/epoc_2_img128.png (deflated 2%)\r\n",
      "  adding: kaggle/working/train_evaluation_plots/epoc_18_img128.png (deflated 2%)\r\n",
      "  adding: kaggle/working/train_evaluation_plots/epoc_18_img64.png (deflated 2%)\r\n",
      "  adding: kaggle/working/train_evaluation_plots/epoc_3_img512.png (deflated 2%)\r\n",
      "  adding: kaggle/working/train_evaluation_plots/epoc_1_img32.png (deflated 2%)\r\n",
      "  adding: kaggle/working/train_evaluation_plots/epoc_3_img1.png (deflated 2%)\r\n",
      "  adding: kaggle/working/train_evaluation_plots/epoc_8_img1024.png (deflated 2%)\r\n",
      "  adding: kaggle/working/train_evaluation_plots/epoc_17_img32.png (deflated 2%)\r\n",
      "  adding: kaggle/working/train_evaluation_plots/epoc_7_img512.png (deflated 2%)\r\n",
      "  adding: kaggle/working/train_evaluation_plots/epoc_20_img1024.png (deflated 2%)\r\n",
      "  adding: kaggle/working/train_evaluation_plots/epoc_13_img128.png (deflated 2%)\r\n",
      "  adding: kaggle/working/train_evaluation_plots/epoc_19_img1.png (deflated 2%)\r\n",
      "  adding: kaggle/working/train_evaluation_plots/epoc_11_img64.png (deflated 2%)\r\n",
      "  adding: kaggle/working/train_evaluation_plots/epoc_12_img256.png (deflated 2%)\r\n",
      "  adding: kaggle/working/train_evaluation_plots/epoc_7_img1024.png (deflated 2%)\r\n",
      "  adding: kaggle/working/train_evaluation_plots/epoc_19_img512.png (deflated 2%)\r\n",
      "  adding: kaggle/working/train_evaluation_plots/epoc_19_img32.png (deflated 2%)\r\n",
      "  adding: kaggle/working/train_evaluation_plots/epoc_1_img1.png (deflated 2%)\r\n",
      "  adding: kaggle/working/train_evaluation_plots/epoc_13_img1.png (deflated 2%)\r\n",
      "  adding: kaggle/working/train_evaluation_plots/epoc_10_img256.png (deflated 2%)\r\n",
      "  adding: kaggle/working/train_evaluation_plots/epoc_10_img64.png (deflated 2%)\r\n",
      "  adding: kaggle/working/train_evaluation_plots/epoc_8_img1.png (deflated 2%)\r\n",
      "  adding: kaggle/working/train_evaluation_plots/epoc_17_img1.png (deflated 2%)\r\n",
      "  adding: kaggle/working/train_evaluation_plots/epoc_9_img64.png (deflated 2%)\r\n",
      "  adding: kaggle/working/train_evaluation_plots/epoc_18_img32.png (deflated 2%)\r\n",
      "  adding: kaggle/working/train_evaluation_plots/epoc_11_img1.png (deflated 2%)\r\n",
      "  adding: kaggle/working/train_evaluation_plots/epoc_4_img256.png (deflated 2%)\r\n",
      "  adding: kaggle/working/train_evaluation_plots/epoc_12_img1.png (deflated 2%)\r\n",
      "  adding: kaggle/working/train_evaluation_plots/epoc_15_img64.png (deflated 2%)\r\n",
      "  adding: kaggle/working/train_evaluation_plots/epoc_17_img128.png (deflated 2%)\r\n",
      "  adding: kaggle/working/train_evaluation_plots/epoc_9_img1.png (deflated 2%)\r\n",
      "  adding: kaggle/working/train_evaluation_plots/epoc_14_img1024.png (deflated 2%)\r\n",
      "  adding: kaggle/working/train_evaluation_plots/epoc_15_img256.png (deflated 2%)\r\n",
      "  adding: kaggle/working/train_evaluation_plots/epoc_13_img512.png (deflated 2%)\r\n",
      "  adding: kaggle/working/train_evaluation_plots/epoc_5_img64.png (deflated 2%)\r\n",
      "  adding: kaggle/working/train_evaluation_plots/epoc_1_img256.png (deflated 2%)\r\n",
      "  adding: kaggle/working/train_evaluation_plots/epoc_18_img512.png (deflated 2%)\r\n",
      "  adding: kaggle/working/train_evaluation_plots/epoc_7_img64.png (deflated 2%)\r\n",
      "  adding: kaggle/working/train_evaluation_plots/epoc_17_img512.png (deflated 2%)\r\n",
      "  adding: kaggle/working/train_evaluation_plots/epoc_9_img1024.png (deflated 2%)\r\n",
      "  adding: kaggle/working/train_evaluation_plots/epoc_2_img32.png (deflated 2%)\r\n",
      "  adding: kaggle/working/train_evaluation_plots/epoc_20_img32.png (deflated 2%)\r\n",
      "  adding: kaggle/working/train_evaluation_plots/epoc_9_img128.png (deflated 2%)\r\n",
      "  adding: kaggle/working/train_evaluation_plots/epoc_20_img256.png (deflated 2%)\r\n",
      "  adding: kaggle/working/train_evaluation_plots/epoc_15_img1.png (deflated 2%)\r\n",
      "  adding: kaggle/working/train_evaluation_plots/epoc_16_img128.png (deflated 2%)\r\n",
      "  adding: kaggle/working/train_evaluation_plots/epoc_11_img256.png (deflated 2%)\r\n",
      "  adding: kaggle/working/train_evaluation_plots/epoc_2_img1.png (deflated 2%)\r\n",
      "  adding: kaggle/working/train_evaluation_plots/epoc_5_img128.png (deflated 2%)\r\n",
      "  adding: kaggle/working/train_evaluation_plots/epoc_14_img32.png (deflated 2%)\r\n",
      "  adding: kaggle/working/train_evaluation_plots/epoc_16_img256.png (deflated 2%)\r\n",
      "  adding: kaggle/working/train_evaluation_plots/epoc_5_img256.png (deflated 2%)\r\n",
      "  adding: kaggle/working/train_evaluation_plots/epoc_12_img32.png (deflated 2%)\r\n",
      "  adding: kaggle/working/train_evaluation_plots/epoc_7_img32.png (deflated 2%)\r\n",
      "  adding: kaggle/working/train_evaluation_plots/epoc_6_img512.png (deflated 2%)\r\n",
      "  adding: kaggle/working/train_evaluation_plots/epoc_16_img32.png (deflated 2%)\r\n",
      "  adding: kaggle/working/train_evaluation_plots/epoc_9_img256.png (deflated 2%)\r\n",
      "  adding: kaggle/working/train_evaluation_plots/epoc_14_img1.png (deflated 2%)\r\n",
      "  adding: kaggle/working/train_evaluation_plots/epoc_15_img1024.png (deflated 2%)\r\n",
      "  adding: kaggle/working/train_evaluation_plots/epoc_1_img1024.png (deflated 2%)\r\n",
      "  adding: kaggle/working/train_evaluation_plots/epoc_15_img512.png (deflated 2%)\r\n",
      "  adding: kaggle/working/train_evaluation_plots/epoc_6_img1024.png (deflated 2%)\r\n",
      "  adding: kaggle/working/train_evaluation_plots/epoc_13_img32.png (deflated 2%)\r\n",
      "  adding: kaggle/working/train_evaluation_plots/epoc_18_img256.png (deflated 2%)\r\n",
      "  adding: kaggle/working/train_evaluation_plots/epoc_1_img128.png (deflated 2%)\r\n",
      "  adding: kaggle/working/train_evaluation_plots/epoc_12_img64.png (deflated 2%)\r\n",
      "  adding: kaggle/working/train_evaluation_plots/epoc_4_img1.png (deflated 2%)\r\n",
      "  adding: kaggle/working/train_evaluation_plots/epoc_6_img64.png (deflated 2%)\r\n",
      "  adding: kaggle/working/train_evaluation_plots/epoc_10_img32.png (deflated 2%)\r\n",
      "  adding: kaggle/working/train_evaluation_plots/epoc_17_img256.png (deflated 2%)\r\n",
      "  adding: kaggle/working/train_evaluation_plots/epoc_14_img64.png (deflated 2%)\r\n",
      "  adding: kaggle/working/train_evaluation_plots/epoc_3_img1024.png (deflated 2%)\r\n",
      "  adding: kaggle/working/train_evaluation_plots/epoc_3_img64.png (deflated 2%)\r\n",
      "  adding: kaggle/working/train_evaluation_plots/epoc_5_img32.png (deflated 2%)\r\n",
      "  adding: kaggle/working/train_evaluation_plots/epoc_5_img512.png (deflated 2%)\r\n",
      "  adding: kaggle/working/train_evaluation_plots/epoc_13_img256.png (deflated 2%)\r\n",
      "  adding: kaggle/working/train_evaluation_plots/epoc_2_img1024.png (deflated 2%)\r\n",
      "  adding: kaggle/working/train_evaluation_plots/epoc_14_img128.png (deflated 2%)\r\n",
      "  adding: kaggle/working/train_evaluation_plots/epoc_17_img64.png (deflated 2%)\r\n",
      "  adding: kaggle/working/train_evaluation_plots/epoc_7_img1.png (deflated 2%)\r\n",
      "  adding: kaggle/working/train_evaluation_plots/epoc_16_img64.png (deflated 2%)\r\n",
      "  adding: kaggle/working/train_evaluation_plots/epoc_9_img32.png (deflated 2%)\r\n",
      "  adding: kaggle/working/train_evaluation_plots/epoc_17_img1024.png (deflated 2%)\r\n",
      "  adding: kaggle/working/train_evaluation_plots/epoc_7_img256.png (deflated 2%)\r\n",
      "  adding: kaggle/working/train_evaluation_plots/epoc_14_img512.png (deflated 2%)\r\n",
      "  adding: kaggle/working/train_evaluation_plots/epoc_4_img64.png (deflated 2%)\r\n",
      "  adding: kaggle/working/train_evaluation_plots/epoc_19_img128.png (deflated 2%)\r\n",
      "  adding: kaggle/working/train_evaluation_plots/epoc_19_img64.png (deflated 2%)\r\n",
      "  adding: kaggle/working/train_evaluation_plots/epoc_3_img128.png (deflated 2%)\r\n",
      "  adding: kaggle/working/train_evaluation_plots/epoc_1_img512.png (deflated 2%)\r\n",
      "  adding: kaggle/working/train_evaluation_plots/epoc_10_img128.png (deflated 2%)\r\n",
      "  adding: kaggle/working/train_evaluation_plots/epoc_4_img32.png (deflated 2%)\r\n",
      "  adding: kaggle/working/train_evaluation_plots/epoc_11_img1024.png (deflated 2%)\r\n",
      "  adding: kaggle/working/train_evaluation_plots/epoc_13_img64.png (deflated 2%)\r\n",
      "  adding: kaggle/working/train_evaluation_plots/epoc_5_img1.png (deflated 2%)\r\n",
      "  adding: kaggle/working/train_evaluation_plots/epoc_2_img512.png (deflated 2%)\r\n",
      "  adding: kaggle/working/train_evaluation_plots/epoc_19_img256.png (deflated 2%)\r\n",
      "  adding: kaggle/working/train_evaluation_plots/epoc_18_img1.png (deflated 2%)\r\n",
      "  adding: kaggle/working/train_evaluation_plots/epoc_7_img128.png (deflated 2%)\r\n",
      "  adding: kaggle/working/train_evaluation_plots/epoc_20_img1.png (deflated 2%)\r\n",
      "  adding: kaggle/working/train_evaluation_plots/epoc_6_img32.png (deflated 2%)\r\n",
      "  adding: kaggle/working/train_evaluation_plots/epoc_18_img1024.png (deflated 2%)\r\n",
      "  adding: kaggle/working/train_evaluation_plots/epoc_20_img128.png (deflated 2%)\r\n",
      "  adding: kaggle/working/train_evaluation_plots/epoc_13_img1024.png (deflated 2%)\r\n",
      "  adding: kaggle/working/train_evaluation_plots/epoc_10_img512.png (deflated 2%)\r\n",
      "  adding: kaggle/working/train_evaluation_plots/epoc_11_img512.png (deflated 2%)\r\n",
      "  adding: kaggle/working/train_evaluation_plots/epoc_2_img64.png (deflated 2%)\r\n",
      "  adding: kaggle/working/train_evaluation_plots/epoc_11_img32.png (deflated 2%)\r\n",
      "  adding: kaggle/working/train_evaluation_plots/epoc_6_img128.png (deflated 2%)\r\n",
      "  adding: kaggle/working/train_evaluation_plots/epoc_15_img128.png (deflated 2%)\r\n",
      "  adding: kaggle/working/train_evaluation_plots/epoc_4_img512.png (deflated 2%)\r\n",
      "  adding: kaggle/working/train_evaluation_plots/epoc_8_img512.png (deflated 2%)\r\n",
      "  adding: kaggle/working/train_evaluation_plots/epoc_3_img256.png (deflated 2%)\r\n",
      "  adding: kaggle/working/train_evaluation_plots/epoc_9_img512.png (deflated 2%)\r\n",
      "  adding: kaggle/working/train_evaluation_plots/epoc_12_img1024.png (deflated 2%)\r\n",
      "  adding: kaggle/working/train_evaluation_plots/epoc_3_img32.png (deflated 2%)\r\n",
      "  adding: kaggle/working/train_evaluation_plots/epoc_8_img64.png (deflated 2%)\r\n",
      "  adding: kaggle/working/train_evaluation_plots/epoc_4_img1024.png (deflated 2%)\r\n",
      "  adding: kaggle/working/train_evaluation_plots/epoc_10_img1024.png (deflated 2%)\r\n",
      "  adding: kaggle/working/train_evaluation_plots/epoc_16_img1024.png (deflated 2%)\r\n",
      "  adding: kaggle/working/train_evaluation_plots/epoc_14_img256.png (deflated 2%)\r\n",
      "  adding: kaggle/working/train_evaluation_plots/epoc_10_img1.png (deflated 2%)\r\n",
      "  adding: kaggle/working/train_evaluation_plots/epoc_2_img256.png (deflated 2%)\r\n",
      "  adding: kaggle/working/train_evaluation_plots/epoc_11_img128.png (deflated 2%)\r\n",
      "  adding: kaggle/working/train_evaluation_plots/epoc_6_img1.png (deflated 2%)\r\n",
      "  adding: kaggle/working/train_evaluation_plots/epoc_19_img1024.png (deflated 2%)\r\n",
      "  adding: kaggle/working/train_evaluation_plots/epoc_12_img128.png (deflated 2%)\r\n",
      "  adding: kaggle/working/train_evaluation_plots/epoc_6_img256.png (deflated 2%)\r\n",
      "  adding: kaggle/working/train_evaluation_plots/epoc_16_img512.png (deflated 2%)\r\n"
     ]
    }
   ],
   "source": [
    "!zip -r /kaggle/working/train_evalplot.zip  /kaggle/working/train_evaluation_plots/"
   ]
  },
  {
   "cell_type": "code",
   "execution_count": 24,
   "id": "40dff03f",
   "metadata": {
    "execution": {
     "iopub.execute_input": "2023-04-24T17:25:48.623122Z",
     "iopub.status.busy": "2023-04-24T17:25:48.622700Z",
     "iopub.status.idle": "2023-04-24T17:25:48.627615Z",
     "shell.execute_reply": "2023-04-24T17:25:48.626450Z"
    },
    "papermill": {
     "duration": 0.80494,
     "end_time": "2023-04-24T17:25:48.629824",
     "exception": false,
     "start_time": "2023-04-24T17:25:47.824884",
     "status": "completed"
    },
    "tags": []
   },
   "outputs": [],
   "source": [
    "# from IPython.display import FileLink\n",
    "# FileLink(r'/kaggle/working/evalplot.zip')"
   ]
  },
  {
   "cell_type": "code",
   "execution_count": 25,
   "id": "bb85c195",
   "metadata": {
    "execution": {
     "iopub.execute_input": "2023-04-24T17:25:50.183623Z",
     "iopub.status.busy": "2023-04-24T17:25:50.182615Z",
     "iopub.status.idle": "2023-04-24T17:25:50.195420Z",
     "shell.execute_reply": "2023-04-24T17:25:50.194422Z"
    },
    "papermill": {
     "duration": 0.829803,
     "end_time": "2023-04-24T17:25:50.197549",
     "exception": false,
     "start_time": "2023-04-24T17:25:49.367746",
     "status": "completed"
    },
    "tags": []
   },
   "outputs": [],
   "source": [
    "def eval_graph_fn(gen, loader, ssim, psnr):\n",
    "    gen.eval()\n",
    "    loop = tqdm(loader, leave=True)\n",
    "    \n",
    "    wssim_ratio_list = []\n",
    "    wpsnr_ratio_list = []\n",
    "    s1cm_mean_list   = []\n",
    "    \n",
    "    for idx, (s2t2,s1t2,s2t1,s1t1,cm,rcm,s1cm) in enumerate(loop):\n",
    "        s2t2,s1t2,s2t1,s1t1,cm,rcm,s1cm = s2t2.to(DEVICE),s1t2.to(DEVICE),s2t1.to(DEVICE),s1t1.to(DEVICE),cm.to(DEVICE),rcm.to(DEVICE),s1cm.to(DEVICE)\n",
    "        s2t2,s1t2,s2t1,s1t1,cm,rcm,s1cm = s2t2.to(torch.float32),s1t2.to(torch.float32),s2t1.to(torch.float32),s1t1.to(torch.float32),cm.to(torch.float32),rcm.to(torch.float32),s1cm.to(torch.float32)\n",
    "        if INPUT_CHANGE_MAP:\n",
    "            s2t2 = torch.cat((s2t2, cm), dim=1)\n",
    "            s1t1 = torch.cat((s1t1, rcm), dim=1)\n",
    "        preds = gen(s2t2, s1t1)\n",
    "        \n",
    "        s1t2_list = s1t2.to(\"cpu\").chunk(s1t2.size(0))\n",
    "        preds_list = preds.to(\"cpu\").chunk(preds.size(0))\n",
    "        s1cm_list = s1cm.to(\"cpu\").chunk(s1cm.size(0))\n",
    "        \n",
    "        \n",
    "        wssim_ratio_batch_list = [ssim((s1t2, preds), s1cm)/ssim((s1t2, preds)) for s1t2, preds, s1cm in zip(s1t2_list, preds_list, s1cm_list)]\n",
    "        wpsnr_ratio_batch_list = [psnr((s1t2, preds))-psnr((s1t2, preds), s1cm) for s1t2, preds, s1cm in zip(s1t2_list, preds_list, s1cm_list)]\n",
    "        s1cm_mean_batch_list   = [s1cm.mean() for s1cm in s1cm_list]\n",
    "        \n",
    "        wssim_ratio_list = wssim_ratio_list + wssim_ratio_batch_list\n",
    "        wpsnr_ratio_list = wpsnr_ratio_list + wpsnr_ratio_batch_list\n",
    "        s1cm_mean_list   = s1cm_mean_list   + s1cm_mean_batch_list  \n",
    "    \n",
    "    return wssim_ratio_list, wpsnr_ratio_list, s1cm_mean_list"
   ]
  },
  {
   "cell_type": "code",
   "execution_count": 26,
   "id": "04a41ffb",
   "metadata": {
    "execution": {
     "iopub.execute_input": "2023-04-24T17:25:51.746078Z",
     "iopub.status.busy": "2023-04-24T17:25:51.745638Z",
     "iopub.status.idle": "2023-04-24T17:27:20.545169Z",
     "shell.execute_reply": "2023-04-24T17:27:20.542404Z"
    },
    "papermill": {
     "duration": 89.609414,
     "end_time": "2023-04-24T17:27:20.547702",
     "exception": false,
     "start_time": "2023-04-24T17:25:50.938288",
     "status": "completed"
    },
    "tags": []
   },
   "outputs": [
    {
     "name": "stderr",
     "output_type": "stream",
     "text": [
      "100%|██████████| 339/339 [01:28<00:00,  3.82it/s]\n"
     ]
    }
   ],
   "source": [
    "ssim_ratio_list, wpsnr_ratio_list, s1cm_mean_list = eval_graph_fn(gen_model, test_loader, wssim, wpsnr)"
   ]
  },
  {
   "cell_type": "code",
   "execution_count": 27,
   "id": "564d4ca3",
   "metadata": {
    "execution": {
     "iopub.execute_input": "2023-04-24T17:27:22.149522Z",
     "iopub.status.busy": "2023-04-24T17:27:22.149124Z",
     "iopub.status.idle": "2023-04-24T17:27:22.406558Z",
     "shell.execute_reply": "2023-04-24T17:27:22.405568Z"
    },
    "papermill": {
     "duration": 1.076536,
     "end_time": "2023-04-24T17:27:22.408742",
     "exception": false,
     "start_time": "2023-04-24T17:27:21.332206",
     "status": "completed"
    },
    "tags": []
   },
   "outputs": [
    {
     "data": {
      "text/plain": [
       "[<matplotlib.lines.Line2D at 0x718e115caed0>]"
      ]
     },
     "execution_count": 27,
     "metadata": {},
     "output_type": "execute_result"
    },
    {
     "data": {
      "image/png": "[encoded data removed]",
      "text/plain": [
       "<Figure size 640x480 with 1 Axes>"
      ]
     },
     "metadata": {},
     "output_type": "display_data"
    }
   ],
   "source": [
    "plt.plot(ssim_ratio_list,s1cm_mean_list)"
   ]
  },
  {
   "cell_type": "code",
   "execution_count": null,
   "id": "8b24a7ee",
   "metadata": {
    "papermill": {
     "duration": 0.806894,
     "end_time": "2023-04-24T17:27:23.971071",
     "exception": false,
     "start_time": "2023-04-24T17:27:23.164177",
     "status": "completed"
    },
    "tags": []
   },
   "outputs": [],
   "source": []
  }
 ],
 "metadata": {
  "kernelspec": {
   "display_name": "Python 3",
   "language": "python",
   "name": "python3"
  },
  "language_info": {
   "codemirror_mode": {
    "name": "ipython",
    "version": 3
   },
   "file_extension": ".py",
   "mimetype": "text/x-python",
   "name": "python",
   "nbconvert_exporter": "python",
   "pygments_lexer": "ipython3",
   "version": "3.9.16"
  },
  "papermill": {
   "default_parameters": {},
   "duration": 5643.277396,
   "end_time": "2023-04-24T17:27:27.658023",
   "environment_variables": {},
   "exception": null,
   "input_path": "__notebook__.ipynb",
   "output_path": "__notebook__.ipynb",
   "parameters": {},
   "start_time": "2023-04-24T15:53:24.380627",
   "version": "2.4.0"
  }
 },
 "nbformat": 4,
 "nbformat_minor": 5
}
