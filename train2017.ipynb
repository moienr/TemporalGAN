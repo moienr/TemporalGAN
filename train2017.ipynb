{
 "cells": [
  {
   "cell_type": "code",
   "execution_count": 1,
   "id": "c1d195fa",
   "metadata": {
    "execution": {
     "iopub.execute_input": "2023-04-26T06:52:46.141162Z",
     "iopub.status.busy": "2023-04-26T06:52:46.140640Z",
     "iopub.status.idle": "2023-04-26T06:52:46.154473Z",
     "shell.execute_reply": "2023-04-26T06:52:46.153448Z"
    },
    "papermill": {
     "duration": 0.025279,
     "end_time": "2023-04-26T06:52:46.156765",
     "exception": false,
     "start_time": "2023-04-26T06:52:46.131486",
     "status": "completed"
    },
    "tags": []
   },
   "outputs": [
    {
     "data": {
      "text/plain": [
       "True"
      ]
     },
     "execution_count": 1,
     "metadata": {},
     "output_type": "execute_result"
    }
   ],
   "source": [
    "import os\n",
    "IN_KAGGLE = 'KAGGLE_URL_BASE' in os.environ\n",
    "IN_KAGGLE"
   ]
  },
  {
   "cell_type": "code",
   "execution_count": 2,
   "id": "5e2def0f",
   "metadata": {
    "execution": {
     "iopub.execute_input": "2023-04-26T06:52:46.171097Z",
     "iopub.status.busy": "2023-04-26T06:52:46.170143Z",
     "iopub.status.idle": "2023-04-26T06:52:54.059402Z",
     "shell.execute_reply": "2023-04-26T06:52:54.058160Z"
    },
    "papermill": {
     "duration": 7.898973,
     "end_time": "2023-04-26T06:52:54.062077",
     "exception": false,
     "start_time": "2023-04-26T06:52:46.163104",
     "status": "completed"
    },
    "tags": []
   },
   "outputs": [
    {
     "name": "stdout",
     "output_type": "stream",
     "text": [
      "Cloning into 'TemporalGAN'...\r\n",
      "remote: Enumerating objects: 1442, done.\u001b[K\r\n",
      "remote: Counting objects: 100% (353/353), done.\u001b[K\r\n",
      "remote: Compressing objects: 100% (197/197), done.\u001b[K\r\n",
      "remote: Total 1442 (delta 213), reused 284 (delta 152), pack-reused 1089\u001b[K\r\n",
      "Receiving objects: 100% (1442/1442), 85.24 MiB | 17.21 MiB/s, done.\r\n",
      "Resolving deltas: 100% (945/945), done.\r\n"
     ]
    }
   ],
   "source": [
    "if IN_KAGGLE:\n",
    "    from kaggle_secrets import UserSecretsClient\n",
    "    user_secrets = UserSecretsClient()\n",
    "    secret_value = user_secrets.get_secret(\"gittoken2\")\n",
    "\n",
    "    !git clone https://{secret_value}@github.com/moienr/TemporalGAN.git"
   ]
  },
  {
   "cell_type": "code",
   "execution_count": 3,
   "id": "cb0985cf",
   "metadata": {
    "execution": {
     "iopub.execute_input": "2023-04-26T06:52:54.079834Z",
     "iopub.status.busy": "2023-04-26T06:52:54.079463Z",
     "iopub.status.idle": "2023-04-26T06:52:54.086022Z",
     "shell.execute_reply": "2023-04-26T06:52:54.084976Z"
    },
    "papermill": {
     "duration": 0.017903,
     "end_time": "2023-04-26T06:52:54.088408",
     "exception": false,
     "start_time": "2023-04-26T06:52:54.070505",
     "status": "completed"
    },
    "tags": []
   },
   "outputs": [
    {
     "name": "stdout",
     "output_type": "stream",
     "text": [
      "path found...\n"
     ]
    }
   ],
   "source": [
    "if IN_KAGGLE:\n",
    "    import time\n",
    "    import os\n",
    "    sleep_time = 5\n",
    "    while not os.path.exists(\"/kaggle/working/TemporalGAN\"):\n",
    "        print(\"didn't find the path, wating {sleep_time} more seconds...\")\n",
    "        time.sleep(sleep_time)\n",
    "    print(\"path found...\")\n",
    "    import sys\n",
    "    sys.path.append(\"/kaggle/working/TemporalGAN\")"
   ]
  },
  {
   "cell_type": "code",
   "execution_count": 4,
   "id": "c72871a3",
   "metadata": {
    "execution": {
     "iopub.execute_input": "2023-04-26T06:52:54.105919Z",
     "iopub.status.busy": "2023-04-26T06:52:54.104895Z",
     "iopub.status.idle": "2023-04-26T06:52:56.566951Z",
     "shell.execute_reply": "2023-04-26T06:52:56.565998Z"
    },
    "papermill": {
     "duration": 2.473237,
     "end_time": "2023-04-26T06:52:56.569239",
     "exception": false,
     "start_time": "2023-04-26T06:52:54.096002",
     "status": "completed"
    },
    "tags": []
   },
   "outputs": [
    {
     "data": {
      "text/plain": [
       "'1.13.0'"
      ]
     },
     "execution_count": 4,
     "metadata": {},
     "output_type": "execute_result"
    }
   ],
   "source": [
    "import torch\n",
    "torch.__version__"
   ]
  },
  {
   "cell_type": "code",
   "execution_count": 5,
   "id": "0ccf6697",
   "metadata": {
    "execution": {
     "iopub.execute_input": "2023-04-26T06:52:56.587437Z",
     "iopub.status.busy": "2023-04-26T06:52:56.585734Z",
     "iopub.status.idle": "2023-04-26T06:52:57.275922Z",
     "shell.execute_reply": "2023-04-26T06:52:57.274961Z"
    },
    "papermill": {
     "duration": 0.701256,
     "end_time": "2023-04-26T06:52:57.278362",
     "exception": false,
     "start_time": "2023-04-26T06:52:56.577106",
     "status": "completed"
    },
    "tags": []
   },
   "outputs": [
    {
     "data": {
      "text/plain": [
       "2"
      ]
     },
     "execution_count": 5,
     "metadata": {},
     "output_type": "execute_result"
    }
   ],
   "source": [
    "import numpy as np\n",
    "from torch.utils.data import Dataset\n",
    "from glob import glob\n",
    "from skimage import io\n",
    "import os\n",
    "from torchvision import datasets, transforms\n",
    "import matplotlib\n",
    "import os\n",
    "import gc\n",
    "import random\n",
    "os.cpu_count()"
   ]
  },
  {
   "cell_type": "code",
   "execution_count": 6,
   "id": "e379f81f",
   "metadata": {
    "execution": {
     "iopub.execute_input": "2023-04-26T06:52:57.296323Z",
     "iopub.status.busy": "2023-04-26T06:52:57.295394Z",
     "iopub.status.idle": "2023-04-26T06:52:57.366489Z",
     "shell.execute_reply": "2023-04-26T06:52:57.365464Z"
    },
    "papermill": {
     "duration": 0.082451,
     "end_time": "2023-04-26T06:52:57.368723",
     "exception": false,
     "start_time": "2023-04-26T06:52:57.286272",
     "status": "completed"
    },
    "tags": []
   },
   "outputs": [
    {
     "data": {
      "text/plain": [
       "'cuda'"
      ]
     },
     "execution_count": 6,
     "metadata": {},
     "output_type": "execute_result"
    }
   ],
   "source": [
    "DEVICE = \"cuda\" if torch.cuda.is_available() else \"cpu\"\n",
    "DEVICE"
   ]
  },
  {
   "cell_type": "code",
   "execution_count": 7,
   "id": "da77b101",
   "metadata": {
    "execution": {
     "iopub.execute_input": "2023-04-26T06:52:57.399852Z",
     "iopub.status.busy": "2023-04-26T06:52:57.399200Z",
     "iopub.status.idle": "2023-04-26T06:52:57.623044Z",
     "shell.execute_reply": "2023-04-26T06:52:57.621924Z"
    },
    "papermill": {
     "duration": 0.244875,
     "end_time": "2023-04-26T06:52:57.626546",
     "exception": false,
     "start_time": "2023-04-26T06:52:57.381671",
     "status": "completed"
    },
    "tags": []
   },
   "outputs": [],
   "source": [
    "from dataset.data_loaders import *\n",
    "from dataset.utils.plot_utils import plot_s1s2_tensors, save_s1s2_tensors_plot\n",
    "#from config import *\n",
    "from train_utils import *"
   ]
  },
  {
   "cell_type": "code",
   "execution_count": 8,
   "id": "e410009b",
   "metadata": {
    "execution": {
     "iopub.execute_input": "2023-04-26T06:52:57.666001Z",
     "iopub.status.busy": "2023-04-26T06:52:57.665583Z",
     "iopub.status.idle": "2023-04-26T06:52:57.714101Z",
     "shell.execute_reply": "2023-04-26T06:52:57.713018Z"
    },
    "papermill": {
     "duration": 0.070063,
     "end_time": "2023-04-26T06:52:57.717412",
     "exception": false,
     "start_time": "2023-04-26T06:52:57.647349",
     "status": "completed"
    },
    "tags": []
   },
   "outputs": [],
   "source": [
    "from temporalgan.gen_v3 import Generator as GeneratorV3\n",
    "from temporalgan.gen_v2_1 import Generator as GeneratorV2_1\n",
    "from temporalgan.gen_v2_2 import Generator as GeneratorV2_2\n",
    "from temporalgan.gen_v2_3 import Generator as GeneratorV2_3\n",
    "from temporalgan.gen_v1_1 import Generator as GeneratorV1_1\n",
    "from temporalgan.gen_v1_2 import Generator as GeneratorV1_2\n",
    "from temporalgan.gen_v1_3 import Generator as GeneratorV1_3\n",
    "from temporalgan.gen_v1_4 import Generator as GeneratorV1_4\n",
    "from temporalgan.gen_v1_5 import Generator as GeneratorV1_5\n",
    "from temporalgan.gen_v1_6 import Generator as GeneratorV1_6\n",
    "from temporalgan.gen_v1_7 import Generator as GeneratorV1_7\n",
    "from temporalgan.disc_v2 import Discriminator as DiscriminatorV2\n",
    "from temporalgan.disc_v1 import Discriminator as DiscriminatorV1\n",
    "from eval_metrics.loss_function import WeightedL1Loss"
   ]
  },
  {
   "cell_type": "code",
   "execution_count": 9,
   "id": "51db82b5",
   "metadata": {
    "execution": {
     "iopub.execute_input": "2023-04-26T06:52:57.754623Z",
     "iopub.status.busy": "2023-04-26T06:52:57.754146Z",
     "iopub.status.idle": "2023-04-26T06:52:57.764332Z",
     "shell.execute_reply": "2023-04-26T06:52:57.761920Z"
    },
    "papermill": {
     "duration": 0.033529,
     "end_time": "2023-04-26T06:52:57.771583",
     "exception": false,
     "start_time": "2023-04-26T06:52:57.738054",
     "status": "completed"
    },
    "tags": []
   },
   "outputs": [],
   "source": [
    "import torch.nn as nn\n",
    "import torch.optim as optim\n",
    "from torch.utils.data import DataLoader"
   ]
  },
  {
   "cell_type": "code",
   "execution_count": 10,
   "id": "60c3d55f",
   "metadata": {
    "execution": {
     "iopub.execute_input": "2023-04-26T06:52:57.803705Z",
     "iopub.status.busy": "2023-04-26T06:52:57.803228Z",
     "iopub.status.idle": "2023-04-26T06:52:57.823131Z",
     "shell.execute_reply": "2023-04-26T06:52:57.821882Z"
    },
    "papermill": {
     "duration": 0.044947,
     "end_time": "2023-04-26T06:52:57.829623",
     "exception": false,
     "start_time": "2023-04-26T06:52:57.784676",
     "status": "completed"
    },
    "tags": []
   },
   "outputs": [],
   "source": [
    "if IN_KAGGLE:\n",
    "    s1_t1_dir_train= \"/kaggle/input/s1s2-2021-v2/2021/s1_imgs/\"\n",
    "    s2_t1_dir_train= \"/kaggle/input/s1s2-2021-v2/2021/s2_imgs/\"\n",
    "    s1_t2_dir_train= \"/kaggle/input/s1s2-2019-v2/2019/s1_imgs/\"\n",
    "    s2_t2_dir_train= \"/kaggle/input/s1s2-2019-v2/2019/s2_imgs/\"\n",
    "    s1_t1_dir_test = \"/kaggle/input/s1s2-2021-v2/2021/s1_imgs/\"\n",
    "    s2_t1_dir_test = \"/kaggle/input/s1s2-2021-v2/2021/s2_imgs/\"\n",
    "    s1_t2_dir_test = \"/kaggle/input/s1s2-2017-v2/2017/s1_imgs/\"\n",
    "    s2_t2_dir_test = \"/kaggle/input/s1s2-2017-v2/2017/s2_imgs/\"\n",
    "else:\n",
    "    s1_t1_dir_train=\"E:\\\\s1s2\\\\s1s2_patched_light\\\\s1s2_patched_extra_light\\\\2021\\\\s1_imgs\\\\\"\n",
    "    s2_t1_dir_train=\"E:\\\\s1s2\\\\s1s2_patched_light\\\\s1s2_patched_extra_light\\\\2021\\\\s2_imgs\\\\\"\n",
    "    s1_t2_dir_train=\"E:\\\\s1s2\\\\s1s2_patched_light\\\\s1s2_patched_extra_light\\\\2019\\\\s1_imgs\\\\\"\n",
    "    s2_t2_dir_train=\"E:\\\\s1s2\\\\s1s2_patched_light\\\\s1s2_patched_extra_light\\\\2019\\\\s2_imgs\\\\\"\n",
    "    s1_t1_dir_test=\"E:\\\\s1s2\\\\s1s2_patched_light\\\\s1s2_patched_extra_light\\\\2021\\\\s1_imgs\\\\\"\n",
    "    s2_t1_dir_test=\"E:\\\\s1s2\\\\s1s2_patched_light\\\\s1s2_patched_extra_light\\\\2021\\\\s2_imgs\\\\\"\n",
    "    s1_t2_dir_test=\"E:\\\\s1s2\\\\s1s2_patched_light\\\\s1s2_patched_extra_light\\\\2019\\\\s1_imgs\\\\\"\n",
    "    s2_t2_dir_test=\"E:\\\\s1s2\\\\s1s2_patched_light\\\\s1s2_patched_extra_light\\\\2019\\\\s2_imgs\\\\\""
   ]
  },
  {
   "cell_type": "code",
   "execution_count": 11,
   "id": "4c9b4b1f",
   "metadata": {
    "execution": {
     "iopub.execute_input": "2023-04-26T06:52:57.874177Z",
     "iopub.status.busy": "2023-04-26T06:52:57.872277Z",
     "iopub.status.idle": "2023-04-26T06:52:57.888603Z",
     "shell.execute_reply": "2023-04-26T06:52:57.885955Z"
    },
    "papermill": {
     "duration": 0.044101,
     "end_time": "2023-04-26T06:52:57.893438",
     "exception": false,
     "start_time": "2023-04-26T06:52:57.849337",
     "status": "completed"
    },
    "tags": []
   },
   "outputs": [],
   "source": [
    "from dataset.utils.utils import count_files"
   ]
  },
  {
   "cell_type": "code",
   "execution_count": 12,
   "id": "ce5c8564",
   "metadata": {
    "execution": {
     "iopub.execute_input": "2023-04-26T06:52:57.936323Z",
     "iopub.status.busy": "2023-04-26T06:52:57.935785Z",
     "iopub.status.idle": "2023-04-26T06:52:57.955199Z",
     "shell.execute_reply": "2023-04-26T06:52:57.951267Z"
    },
    "papermill": {
     "duration": 0.047703,
     "end_time": "2023-04-26T06:52:57.959702",
     "exception": false,
     "start_time": "2023-04-26T06:52:57.911999",
     "status": "completed"
    },
    "tags": []
   },
   "outputs": [],
   "source": [
    "TWO_WAY_DATASET = True if IN_KAGGLE else False\n",
    "INPUT_CHANGE_MAP = True if IN_KAGGLE else False\n",
    "S2_INCHANNELS = 12 if INPUT_CHANGE_MAP else 6\n",
    "S1_INCHANNELS = 7 if INPUT_CHANGE_MAP else 1\n",
    "\n",
    "LEARNING_RATE = 2e-4\n",
    "BATCH_SIZE = 4 if IN_KAGGLE else 1\n",
    "NUM_WORKERS = 2 if IN_KAGGLE else 8\n",
    "IMAGE_SIZE = 256\n",
    "WEIGHTED_LOSS = True\n",
    "L1_LAMBDA = 100\n",
    "NUM_EPOCHS = 10 if IN_KAGGLE else 2\n",
    "\n",
    "LOAD_MODEL = False\n",
    "SAVE_MODEL = True if IN_KAGGLE else False\n",
    "SAVE_MODEL_EVERY_EPOCH = 10\n",
    "SAVE_EXAMPLE_PLOTS = True\n",
    "EXAMPLES_TO_PLOT = [1,32,64,128,256,512,1024] if IN_KAGGLE else [1,2]\n",
    "CHECKPOINT_DISC = \"disc.pth.tar\"\n",
    "CHECKPOINT_GEN = \"gen.pth.tar\"\n",
    "\n",
    "RANDOM_SEED = 42"
   ]
  },
  {
   "cell_type": "code",
   "execution_count": 13,
   "id": "3e7c80c8",
   "metadata": {
    "execution": {
     "iopub.execute_input": "2023-04-26T06:52:58.035969Z",
     "iopub.status.busy": "2023-04-26T06:52:58.035535Z",
     "iopub.status.idle": "2023-04-26T06:52:58.053798Z",
     "shell.execute_reply": "2023-04-26T06:52:58.052815Z"
    },
    "papermill": {
     "duration": 0.043507,
     "end_time": "2023-04-26T06:52:58.056573",
     "exception": false,
     "start_time": "2023-04-26T06:52:58.013066",
     "status": "completed"
    },
    "tags": []
   },
   "outputs": [],
   "source": [
    "def main():\n",
    "    disc = DiscriminatorV1(s2_in_channels=S2_INCHANNELS, s1_in_channels=S1_INCHANNELS).to(DEVICE)\n",
    "#     gen = GeneratorV2(s2_in_channels=S2_INCHANNELS, s1_in_channels= S1_INCHANNELS, features=64,pam_downsample=2).to(DEVICE)\n",
    "    gen = GeneratorV1_7(s2_in_channels=S2_INCHANNELS, s1_in_channels= S1_INCHANNELS, features=64).to(DEVICE)\n",
    "#     gen = GeneratorV2_3(s2_in_channels=S2_INCHANNELS, s1_in_channels= S1_INCHANNELS, features=64).to(DEVICE)\n",
    "    opt_disc = optim.Adam(disc.parameters(), lr=LEARNING_RATE, betas=(0.5, 0.999),)\n",
    "    opt_gen = optim.Adam(gen.parameters(), lr=LEARNING_RATE, betas=(0.5, 0.999))\n",
    "    BCE = nn.BCEWithLogitsLoss()\n",
    "    if WEIGHTED_LOSS:\n",
    "        L1_LOSS = WeightedL1Loss(change_weight=5)\n",
    "    else:\n",
    "        L1_LOSS = nn.L1Loss()\n",
    "\n",
    "    if LOAD_MODEL:\n",
    "        load_checkpoint(\n",
    "            CHECKPOINT_GEN, gen, opt_gen, LEARNING_RATE,\n",
    "        )\n",
    "        load_checkpoint(\n",
    "            CHECKPOINT_DISC, disc, opt_disc, LEARNING_RATE,\n",
    "        )\n",
    "\n",
    "    transform = transforms.Compose([S2S1Normalize(),myToTensor(dtype=torch.float32)])\n",
    "\n",
    "\n",
    "    train_dataset = Sen12Dataset(s1_t1_dir=s1_t1_dir_train,\n",
    "                                 s2_t1_dir=s2_t1_dir_train,\n",
    "                                 s1_t2_dir=s1_t2_dir_train,\n",
    "                                 s2_t2_dir=s2_t2_dir_train,\n",
    "                                 transform=transform,\n",
    "                                 two_way=TWO_WAY_DATASET,\n",
    "                                 hist_match=True)\n",
    "    \n",
    "    train_loader = DataLoader(\n",
    "        train_dataset,\n",
    "        batch_size=BATCH_SIZE,\n",
    "        shuffle=True,\n",
    "        num_workers=NUM_WORKERS,\n",
    "    )\n",
    "    g_scaler = torch.cuda.amp.GradScaler()\n",
    "    d_scaler = torch.cuda.amp.GradScaler()\n",
    "#     val_dataset = MapDataset(root_dir=VAL_DIR)\n",
    "#     val_loader = DataLoader(val_dataset, batch_size=1, shuffle=False)\n",
    "\n",
    "    for epoch in range(1, NUM_EPOCHS+1):\n",
    "        print(\"\\n\\n\" , end=\"\")\n",
    "        print(f\"Epoch: {epoch}\")\n",
    "        print(\"\")\n",
    "        train_fn(\n",
    "            disc, gen, train_loader, opt_disc, opt_gen,\n",
    "            L1_LOSS, BCE, g_scaler, d_scaler, weighted_loss= WEIGHTED_LOSS,\n",
    "            cm_input=INPUT_CHANGE_MAP, grad_clip=False)\n",
    "\n",
    "        if SAVE_MODEL and epoch % SAVE_MODEL_EVERY_EPOCH == 0:\n",
    "            save_checkpoint(epoch,gen, opt_gen, filename=CHECKPOINT_GEN)\n",
    "            save_checkpoint(epoch,disc, opt_disc, filename=CHECKPOINT_DISC)\n",
    "\n",
    "\n",
    "        if SAVE_EXAMPLE_PLOTS:\n",
    "            for img_i in EXAMPLES_TO_PLOT:\n",
    "                save_some_examples(gen, train_dataset, epoch, folder=\"train_evaluation_plots\",cm_input=INPUT_CHANGE_MAP, img_indx=img_i)\n",
    "\n",
    "            \n",
    "        gc.collect()\n",
    "        torch.cuda.empty_cache()\n",
    "            \n",
    "    return gen\n"
   ]
  },
  {
   "cell_type": "code",
   "execution_count": 14,
   "id": "f1b84cac",
   "metadata": {
    "execution": {
     "iopub.execute_input": "2023-04-26T06:52:58.082777Z",
     "iopub.status.busy": "2023-04-26T06:52:58.082319Z",
     "iopub.status.idle": "2023-04-26T06:52:58.092216Z",
     "shell.execute_reply": "2023-04-26T06:52:58.091292Z"
    },
    "papermill": {
     "duration": 0.027422,
     "end_time": "2023-04-26T06:52:58.096179",
     "exception": false,
     "start_time": "2023-04-26T06:52:58.068757",
     "status": "completed"
    },
    "tags": []
   },
   "outputs": [],
   "source": [
    "torch.manual_seed(RANDOM_SEED)\n",
    "random.seed(RANDOM_SEED)\n",
    "np.random.seed(RANDOM_SEED)"
   ]
  },
  {
   "cell_type": "code",
   "execution_count": 15,
   "id": "5a39285f",
   "metadata": {
    "execution": {
     "iopub.execute_input": "2023-04-26T06:52:58.122309Z",
     "iopub.status.busy": "2023-04-26T06:52:58.121637Z",
     "iopub.status.idle": "2023-04-26T08:05:41.021288Z",
     "shell.execute_reply": "2023-04-26T08:05:41.020148Z"
    },
    "papermill": {
     "duration": 4362.916009,
     "end_time": "2023-04-26T08:05:41.024174",
     "exception": false,
     "start_time": "2023-04-26T06:52:58.108165",
     "status": "completed"
    },
    "tags": []
   },
   "outputs": [
    {
     "name": "stdout",
     "output_type": "stream",
     "text": [
      "\n",
      "\n",
      "Epoch: 1\n",
      "\n"
     ]
    },
    {
     "name": "stderr",
     "output_type": "stream",
     "text": [
      "100%|██████████| 1002/1002 [07:17<00:00,  2.29it/s, D_fake_mean=0.386, D_real_mean=0.573, G_loss_mean=18.5, L1_mean=17.4]\n"
     ]
    },
    {
     "name": "stdout",
     "output_type": "stream",
     "text": [
      "\n",
      "\n",
      "Epoch: 2\n",
      "\n"
     ]
    },
    {
     "name": "stderr",
     "output_type": "stream",
     "text": [
      "100%|██████████| 1002/1002 [07:07<00:00,  2.34it/s, D_fake_mean=0.363, D_real_mean=0.594, G_loss_mean=17.9, L1_mean=16.7]\n"
     ]
    },
    {
     "name": "stdout",
     "output_type": "stream",
     "text": [
      "\n",
      "\n",
      "Epoch: 3\n",
      "\n"
     ]
    },
    {
     "name": "stderr",
     "output_type": "stream",
     "text": [
      "100%|██████████| 1002/1002 [07:08<00:00,  2.34it/s, D_fake_mean=0.367, D_real_mean=0.589, G_loss_mean=17.8, L1_mean=16.6]\n"
     ]
    },
    {
     "name": "stdout",
     "output_type": "stream",
     "text": [
      "\n",
      "\n",
      "Epoch: 4\n",
      "\n"
     ]
    },
    {
     "name": "stderr",
     "output_type": "stream",
     "text": [
      "100%|██████████| 1002/1002 [07:08<00:00,  2.34it/s, D_fake_mean=0.373, D_real_mean=0.581, G_loss_mean=17.5, L1_mean=16.4]\n"
     ]
    },
    {
     "name": "stdout",
     "output_type": "stream",
     "text": [
      "\n",
      "\n",
      "Epoch: 5\n",
      "\n"
     ]
    },
    {
     "name": "stderr",
     "output_type": "stream",
     "text": [
      "100%|██████████| 1002/1002 [07:10<00:00,  2.33it/s, D_fake_mean=0.378, D_real_mean=0.58, G_loss_mean=17.3, L1_mean=16.2]\n"
     ]
    },
    {
     "name": "stdout",
     "output_type": "stream",
     "text": [
      "\n",
      "\n",
      "Epoch: 6\n",
      "\n"
     ]
    },
    {
     "name": "stderr",
     "output_type": "stream",
     "text": [
      "100%|██████████| 1002/1002 [07:10<00:00,  2.33it/s, D_fake_mean=0.379, D_real_mean=0.577, G_loss_mean=17.1, L1_mean=16]\n"
     ]
    },
    {
     "name": "stdout",
     "output_type": "stream",
     "text": [
      "\n",
      "\n",
      "Epoch: 7\n",
      "\n"
     ]
    },
    {
     "name": "stderr",
     "output_type": "stream",
     "text": [
      "100%|██████████| 1002/1002 [07:10<00:00,  2.33it/s, D_fake_mean=0.381, D_real_mean=0.576, G_loss_mean=16.9, L1_mean=15.8]\n"
     ]
    },
    {
     "name": "stdout",
     "output_type": "stream",
     "text": [
      "\n",
      "\n",
      "Epoch: 8\n",
      "\n"
     ]
    },
    {
     "name": "stderr",
     "output_type": "stream",
     "text": [
      "100%|██████████| 1002/1002 [07:10<00:00,  2.33it/s, D_fake_mean=0.382, D_real_mean=0.576, G_loss_mean=16.7, L1_mean=15.6]\n"
     ]
    },
    {
     "name": "stdout",
     "output_type": "stream",
     "text": [
      "\n",
      "\n",
      "Epoch: 9\n",
      "\n"
     ]
    },
    {
     "name": "stderr",
     "output_type": "stream",
     "text": [
      "100%|██████████| 1002/1002 [07:15<00:00,  2.30it/s, D_fake_mean=0.383, D_real_mean=0.574, G_loss_mean=16.4, L1_mean=15.3]\n"
     ]
    },
    {
     "name": "stdout",
     "output_type": "stream",
     "text": [
      "\n",
      "\n",
      "Epoch: 10\n",
      "\n"
     ]
    },
    {
     "name": "stderr",
     "output_type": "stream",
     "text": [
      "100%|██████████| 1002/1002 [07:09<00:00,  2.33it/s, D_fake_mean=0.382, D_real_mean=0.573, G_loss_mean=16.1, L1_mean=15]\n"
     ]
    },
    {
     "name": "stdout",
     "output_type": "stream",
     "text": [
      "=> Saving checkpoint\n",
      "=> Saving checkpoint\n"
     ]
    }
   ],
   "source": [
    "#matplotlib.use('Agg') # This refrains matplot lib form showing the plotted resualts below the cell\n",
    "gen_model = main()"
   ]
  },
  {
   "cell_type": "code",
   "execution_count": 16,
   "id": "4309b382",
   "metadata": {
    "execution": {
     "iopub.execute_input": "2023-04-26T08:05:42.171325Z",
     "iopub.status.busy": "2023-04-26T08:05:42.170180Z",
     "iopub.status.idle": "2023-04-26T08:05:42.175728Z",
     "shell.execute_reply": "2023-04-26T08:05:42.174665Z"
    },
    "papermill": {
     "duration": 0.550014,
     "end_time": "2023-04-26T08:05:42.177939",
     "exception": false,
     "start_time": "2023-04-26T08:05:41.627925",
     "status": "completed"
    },
    "tags": []
   },
   "outputs": [],
   "source": [
    "# transform = transforms.Compose([S2S1Normalize(),myToTensor(dtype=torch.float32)])\n",
    "# train_dataset = Sen12Dataset(s1_t1_dir=s1_t1_dir_train,\n",
    "#                              s2_t1_dir=s2_t1_dir_train,\n",
    "#                              s1_t2_dir=s1_t2_dir_train,\n",
    "#                              s2_t2_dir=s2_t2_dir_train,\n",
    "#                              transform=transform,\n",
    "#                              two_way=TWO_WAY_DATASET)\n",
    "# #plt.imshow(train_dataset[0][-1][0])\n",
    "\n",
    "# plt.imshow(torch.permute(train_dataset[123][4],(1,2,0))[:,:,0])\n",
    "# plt.colorbar()\n",
    "# plt.show()"
   ]
  },
  {
   "cell_type": "code",
   "execution_count": 17,
   "id": "09dc1ef2",
   "metadata": {
    "execution": {
     "iopub.execute_input": "2023-04-26T08:05:43.695123Z",
     "iopub.status.busy": "2023-04-26T08:05:43.694665Z",
     "iopub.status.idle": "2023-04-26T08:05:48.444059Z",
     "shell.execute_reply": "2023-04-26T08:05:48.442941Z"
    },
    "papermill": {
     "duration": 5.652301,
     "end_time": "2023-04-26T08:05:48.447066",
     "exception": false,
     "start_time": "2023-04-26T08:05:42.794765",
     "status": "completed"
    },
    "tags": []
   },
   "outputs": [],
   "source": [
    "transform = transforms.Compose([S2S1Normalize(),myToTensor()])\n",
    "test_dataset = Sen12Dataset(s1_t1_dir=s1_t1_dir_test,\n",
    "                            s2_t1_dir=s2_t1_dir_test,\n",
    "                            s1_t2_dir=s1_t2_dir_test,\n",
    "                            s2_t2_dir=s2_t2_dir_test,\n",
    "                            transform=transform,\n",
    "                            two_way=False)\n",
    "test_loader = DataLoader(\n",
    "        test_dataset,\n",
    "        batch_size=BATCH_SIZE,\n",
    "        shuffle=False,\n",
    "        num_workers=NUM_WORKERS,\n",
    "    )"
   ]
  },
  {
   "cell_type": "code",
   "execution_count": 18,
   "id": "c54857b7",
   "metadata": {
    "execution": {
     "iopub.execute_input": "2023-04-26T08:05:49.558609Z",
     "iopub.status.busy": "2023-04-26T08:05:49.558234Z",
     "iopub.status.idle": "2023-04-26T08:05:49.563012Z",
     "shell.execute_reply": "2023-04-26T08:05:49.561985Z"
    },
    "papermill": {
     "duration": 0.549541,
     "end_time": "2023-04-26T08:05:49.565200",
     "exception": false,
     "start_time": "2023-04-26T08:05:49.015659",
     "status": "completed"
    },
    "tags": []
   },
   "outputs": [],
   "source": [
    "# save_some_examples(gen_model, test_dataset, NUM_EPOCHS, folder=\"evaluation\",cm_input=INPUT_CHANGE_MAP, img_indx=2)"
   ]
  },
  {
   "cell_type": "code",
   "execution_count": 19,
   "id": "10435dc3",
   "metadata": {
    "execution": {
     "iopub.execute_input": "2023-04-26T08:05:50.714732Z",
     "iopub.status.busy": "2023-04-26T08:05:50.713698Z",
     "iopub.status.idle": "2023-04-26T08:05:50.727159Z",
     "shell.execute_reply": "2023-04-26T08:05:50.726158Z"
    },
    "papermill": {
     "duration": 0.563135,
     "end_time": "2023-04-26T08:05:50.729514",
     "exception": false,
     "start_time": "2023-04-26T08:05:50.166379",
     "status": "completed"
    },
    "tags": []
   },
   "outputs": [],
   "source": [
    "def eval_fn(gen, loader, ssim, psnr):\n",
    "    gen.eval()\n",
    "    loop = tqdm(loader, leave=True)\n",
    "    weighted_ssim_list = []\n",
    "    normal_ssim_list = []\n",
    "    weighted_psnr_list = []\n",
    "    normal_psnr_list = []\n",
    "    \n",
    "    for idx, (s2t2,s1t2,s2t1,s1t1,cm,rcm,s1cm) in enumerate(loop):\n",
    "        s2t2,s1t2,s2t1,s1t1,cm,rcm,s1cm = s2t2.to(DEVICE),s1t2.to(DEVICE),s2t1.to(DEVICE),s1t1.to(DEVICE),cm.to(DEVICE),rcm.to(DEVICE),s1cm.to(DEVICE)\n",
    "        s2t2,s1t2,s2t1,s1t1,cm,rcm,s1cm = s2t2.to(torch.float32),s1t2.to(torch.float32),s2t1.to(torch.float32),s1t1.to(torch.float32),cm.to(torch.float32),rcm.to(torch.float32),s1cm.to(torch.float32)\n",
    "        if INPUT_CHANGE_MAP:\n",
    "            s2t2 = torch.cat((s2t2, cm), dim=1)\n",
    "            s1t1 = torch.cat((s1t1, rcm), dim=1)\n",
    "        preds = gen(s2t2, s1t1)\n",
    "        \n",
    "        weighted_ssim = ssim((s1t2, preds), s1cm)\n",
    "        weighted_ssim_list.append(weighted_ssim)\n",
    "        normal_ssim = ssim((s1t2, preds))\n",
    "        normal_ssim_list.append(normal_ssim)\n",
    "        weighted_psnr = psnr((s1t2, preds), s1cm)\n",
    "        weighted_psnr_list.append(weighted_psnr)\n",
    "        normal_psnr = psnr((s1t2, preds))\n",
    "        normal_psnr_list.append(normal_psnr)\n",
    "\n",
    "\n",
    "        if idx % 10 == 0:\n",
    "            loop.set_postfix(\n",
    "                wssim_mean = torch.tensor(weighted_ssim_list).mean().item(),\n",
    "                ssim_mean = torch.tensor(normal_ssim_list).mean().item(),\n",
    "                wpsnr_mean = torch.tensor(weighted_psnr_list).mean().item(),\n",
    "                psnr_mean = torch.tensor(normal_psnr_list).mean().item(),\n",
    "            )\n",
    "    print(\"wssim_mean: \" , torch.tensor(weighted_ssim_list).mean().item())\n",
    "    print(\"ssim_mean: \" , torch.tensor(normal_ssim_list).mean().item())\n",
    "    print(\"wpsnr_mean: \" , torch.tensor(weighted_psnr_list).mean().item())\n",
    "    print(\"psnr_mean: \" , torch.tensor(normal_psnr_list).mean().item())"
   ]
  },
  {
   "cell_type": "code",
   "execution_count": 20,
   "id": "e88007be",
   "metadata": {
    "execution": {
     "iopub.execute_input": "2023-04-26T08:05:51.882548Z",
     "iopub.status.busy": "2023-04-26T08:05:51.882180Z",
     "iopub.status.idle": "2023-04-26T08:05:51.887286Z",
     "shell.execute_reply": "2023-04-26T08:05:51.886151Z"
    },
    "papermill": {
     "duration": 0.61219,
     "end_time": "2023-04-26T08:05:51.889668",
     "exception": false,
     "start_time": "2023-04-26T08:05:51.277478",
     "status": "completed"
    },
    "tags": []
   },
   "outputs": [],
   "source": [
    "from eval_metrics import ssim\n",
    "from eval_metrics.psnr import wpsnr\n",
    "wssim = ssim.WSSIM(data_range=1.0)"
   ]
  },
  {
   "cell_type": "code",
   "execution_count": 21,
   "id": "d21791cc",
   "metadata": {
    "execution": {
     "iopub.execute_input": "2023-04-26T08:05:52.979950Z",
     "iopub.status.busy": "2023-04-26T08:05:52.979572Z",
     "iopub.status.idle": "2023-04-26T08:07:49.118255Z",
     "shell.execute_reply": "2023-04-26T08:07:49.116833Z"
    },
    "papermill": {
     "duration": 116.688722,
     "end_time": "2023-04-26T08:07:49.120612",
     "exception": false,
     "start_time": "2023-04-26T08:05:52.431890",
     "status": "completed"
    },
    "tags": []
   },
   "outputs": [
    {
     "name": "stderr",
     "output_type": "stream",
     "text": [
      " 97%|█████████▋| 486/501 [01:52<00:03,  3.94it/s, psnr_mean=15.3, ssim_mean=0.363, wpsnr_mean=12.7, wssim_mean=0.312]/kaggle/working/TemporalGAN/dataset/data_loaders.py:267: RuntimeWarning: invalid value encountered in true_divide\n",
      "  s1_img = (s1_img - np.min(s1_img)) / (np.max(s1_img) - np.min(s1_img))\n",
      "/kaggle/working/TemporalGAN/dataset/data_loaders.py:267: RuntimeWarning: invalid value encountered in true_divide\n",
      "  s1_img = (s1_img - np.min(s1_img)) / (np.max(s1_img) - np.min(s1_img))\n",
      "100%|██████████| 501/501 [01:56<00:00,  4.31it/s, psnr_mean=nan, ssim_mean=nan, wpsnr_mean=nan, wssim_mean=nan]"
     ]
    },
    {
     "name": "stdout",
     "output_type": "stream",
     "text": [
      "wssim_mean:  nan\n",
      "ssim_mean:  nan\n",
      "wpsnr_mean:  nan\n",
      "psnr_mean:  nan\n"
     ]
    },
    {
     "name": "stderr",
     "output_type": "stream",
     "text": [
      "\n"
     ]
    }
   ],
   "source": [
    "eval_fn(gen_model, test_loader, wssim, wpsnr)"
   ]
  },
  {
   "cell_type": "code",
   "execution_count": 22,
   "id": "3da486ad",
   "metadata": {
    "execution": {
     "iopub.execute_input": "2023-04-26T08:07:50.722614Z",
     "iopub.status.busy": "2023-04-26T08:07:50.721419Z",
     "iopub.status.idle": "2023-04-26T08:07:50.727205Z",
     "shell.execute_reply": "2023-04-26T08:07:50.726007Z"
    },
    "papermill": {
     "duration": 0.743111,
     "end_time": "2023-04-26T08:07:50.729429",
     "exception": false,
     "start_time": "2023-04-26T08:07:49.986318",
     "status": "completed"
    },
    "tags": []
   },
   "outputs": [],
   "source": [
    "# import shutil\n",
    "# shutil.rmtree(\"test_evaluation_plots\")"
   ]
  },
  {
   "cell_type": "code",
   "execution_count": 23,
   "id": "45bf018d",
   "metadata": {
    "execution": {
     "iopub.execute_input": "2023-04-26T08:07:51.911752Z",
     "iopub.status.busy": "2023-04-26T08:07:51.911368Z",
     "iopub.status.idle": "2023-04-26T08:08:51.506981Z",
     "shell.execute_reply": "2023-04-26T08:08:51.505756Z"
    },
    "papermill": {
     "duration": 60.163767,
     "end_time": "2023-04-26T08:08:51.509485",
     "exception": false,
     "start_time": "2023-04-26T08:07:51.345718",
     "status": "completed"
    },
    "tags": []
   },
   "outputs": [
    {
     "name": "stdout",
     "output_type": "stream",
     "text": [
      "  adding: kaggle/working/test_evaluation_plots_1/ (stored 0%)\r\n",
      "  adding: kaggle/working/test_evaluation_plots_1/epoc_10_img870.png (deflated 2%)\r\n",
      "  adding: kaggle/working/test_evaluation_plots_1/epoc_10_img0.png (deflated 2%)\r\n",
      "  adding: kaggle/working/test_evaluation_plots_1/epoc_10_img290.png (deflated 2%)\r\n",
      "  adding: kaggle/working/test_evaluation_plots_1/epoc_10_img200.png (deflated 2%)\r\n",
      "  adding: kaggle/working/test_evaluation_plots_1/epoc_10_img820.png (deflated 2%)\r\n",
      "  adding: kaggle/working/test_evaluation_plots_1/epoc_10_img840.png (deflated 2%)\r\n",
      "  adding: kaggle/working/test_evaluation_plots_1/epoc_10_img100.png (deflated 3%)\r\n",
      "  adding: kaggle/working/test_evaluation_plots_1/epoc_10_img400.png (deflated 2%)\r\n",
      "  adding: kaggle/working/test_evaluation_plots_1/epoc_10_img170.png (deflated 2%)\r\n",
      "  adding: kaggle/working/test_evaluation_plots_1/epoc_10_img240.png (deflated 2%)\r\n",
      "  adding: kaggle/working/test_evaluation_plots_1/epoc_10_img760.png (deflated 2%)\r\n",
      "  adding: kaggle/working/test_evaluation_plots_1/epoc_10_img80.png (deflated 2%)\r\n",
      "  adding: kaggle/working/test_evaluation_plots_1/epoc_10_img940.png (deflated 2%)\r\n",
      "  adding: kaggle/working/test_evaluation_plots_1/epoc_10_img250.png (deflated 2%)\r\n",
      "  adding: kaggle/working/test_evaluation_plots_1/epoc_10_img900.png (deflated 2%)\r\n",
      "  adding: kaggle/working/test_evaluation_plots_1/epoc_10_img950.png (deflated 2%)\r\n",
      "  adding: kaggle/working/test_evaluation_plots_1/epoc_10_img370.png (deflated 2%)\r\n",
      "  adding: kaggle/working/test_evaluation_plots_1/epoc_10_img40.png (deflated 2%)\r\n",
      "  adding: kaggle/working/test_evaluation_plots_1/epoc_10_img390.png (deflated 2%)\r\n",
      "  adding: kaggle/working/test_evaluation_plots_1/epoc_10_img660.png (deflated 2%)\r\n",
      "  adding: kaggle/working/test_evaluation_plots_1/epoc_10_img440.png (deflated 2%)\r\n",
      "  adding: kaggle/working/test_evaluation_plots_1/epoc_10_img920.png (deflated 2%)\r\n",
      "  adding: kaggle/working/test_evaluation_plots_1/epoc_10_img700.png (deflated 2%)\r\n",
      "  adding: kaggle/working/test_evaluation_plots_1/epoc_10_img970.png (deflated 2%)\r\n",
      "  adding: kaggle/working/test_evaluation_plots_1/epoc_10_img750.png (deflated 2%)\r\n",
      "  adding: kaggle/working/test_evaluation_plots_1/epoc_10_img600.png (deflated 2%)\r\n",
      "  adding: kaggle/working/test_evaluation_plots_1/epoc_10_img270.png (deflated 2%)\r\n",
      "  adding: kaggle/working/test_evaluation_plots_1/epoc_10_img340.png (deflated 2%)\r\n",
      "  adding: kaggle/working/test_evaluation_plots_1/epoc_10_img480.png (deflated 2%)\r\n",
      "  adding: kaggle/working/test_evaluation_plots_1/epoc_10_img510.png (deflated 2%)\r\n",
      "  adding: kaggle/working/test_evaluation_plots_1/epoc_10_img180.png (deflated 2%)\r\n",
      "  adding: kaggle/working/test_evaluation_plots_1/epoc_10_img90.png (deflated 2%)\r\n",
      "  adding: kaggle/working/test_evaluation_plots_1/epoc_10_img110.png (deflated 2%)\r\n",
      "  adding: kaggle/working/test_evaluation_plots_1/epoc_10_img450.png (deflated 2%)\r\n",
      "  adding: kaggle/working/test_evaluation_plots_1/epoc_10_img1000.png (deflated 2%)\r\n",
      "  adding: kaggle/working/test_evaluation_plots_1/epoc_10_img330.png (deflated 2%)\r\n",
      "  adding: kaggle/working/test_evaluation_plots_1/epoc_10_img10.png (deflated 2%)\r\n",
      "  adding: kaggle/working/test_evaluation_plots_1/epoc_10_img910.png (deflated 2%)\r\n",
      "  adding: kaggle/working/test_evaluation_plots_1/epoc_10_img780.png (deflated 2%)\r\n",
      "  adding: kaggle/working/test_evaluation_plots_1/epoc_10_img670.png (deflated 2%)\r\n",
      "  adding: kaggle/working/test_evaluation_plots_1/epoc_10_img500.png (deflated 2%)\r\n",
      "  adding: kaggle/working/test_evaluation_plots_1/epoc_10_img830.png (deflated 2%)\r\n",
      "  adding: kaggle/working/test_evaluation_plots_1/epoc_10_img730.png (deflated 2%)\r\n",
      "  adding: kaggle/working/test_evaluation_plots_1/epoc_10_img530.png (deflated 2%)\r\n",
      "  adding: kaggle/working/test_evaluation_plots_1/epoc_10_img50.png (deflated 2%)\r\n",
      "  adding: kaggle/working/test_evaluation_plots_1/epoc_10_img410.png (deflated 2%)\r\n",
      "  adding: kaggle/working/test_evaluation_plots_1/epoc_10_img140.png (deflated 2%)\r\n",
      "  adding: kaggle/working/test_evaluation_plots_1/epoc_10_img790.png (deflated 2%)\r\n",
      "  adding: kaggle/working/test_evaluation_plots_1/epoc_10_img130.png (deflated 2%)\r\n",
      "  adding: kaggle/working/test_evaluation_plots_1/epoc_10_img150.png (deflated 2%)\r\n",
      "  adding: kaggle/working/test_evaluation_plots_1/epoc_10_img890.png (deflated 2%)\r\n",
      "  adding: kaggle/working/test_evaluation_plots_1/epoc_10_img490.png (deflated 2%)\r\n",
      "  adding: kaggle/working/test_evaluation_plots_1/epoc_10_img860.png (deflated 2%)\r\n",
      "  adding: kaggle/working/test_evaluation_plots_1/epoc_10_img930.png (deflated 1%)\r\n",
      "  adding: kaggle/working/test_evaluation_plots_1/epoc_10_img430.png (deflated 2%)\r\n",
      "  adding: kaggle/working/test_evaluation_plots_1/epoc_10_img560.png (deflated 2%)\r\n",
      "  adding: kaggle/working/test_evaluation_plots_1/epoc_10_img640.png (deflated 2%)\r\n",
      "  adding: kaggle/working/test_evaluation_plots_1/epoc_10_img550.png (deflated 2%)\r\n",
      "  adding: kaggle/working/test_evaluation_plots_1/epoc_10_img960.png (deflated 2%)\r\n",
      "  adding: kaggle/working/test_evaluation_plots_1/epoc_10_img990.png (deflated 2%)\r\n",
      "  adding: kaggle/working/test_evaluation_plots_1/epoc_10_img720.png (deflated 2%)\r\n",
      "  adding: kaggle/working/test_evaluation_plots_1/epoc_10_img800.png (deflated 2%)\r\n",
      "  adding: kaggle/working/test_evaluation_plots_1/epoc_10_img810.png (deflated 2%)\r\n",
      "  adding: kaggle/working/test_evaluation_plots_1/epoc_10_img260.png (deflated 2%)\r\n",
      "  adding: kaggle/working/test_evaluation_plots_1/epoc_10_img710.png (deflated 2%)\r\n",
      "  adding: kaggle/working/test_evaluation_plots_1/epoc_10_img310.png (deflated 2%)\r\n",
      "  adding: kaggle/working/test_evaluation_plots_1/epoc_10_img20.png (deflated 2%)\r\n",
      "  adding: kaggle/working/test_evaluation_plots_1/epoc_10_img630.png (deflated 2%)\r\n",
      "  adding: kaggle/working/test_evaluation_plots_1/epoc_10_img280.png (deflated 2%)\r\n",
      "  adding: kaggle/working/test_evaluation_plots_1/epoc_10_img160.png (deflated 2%)\r\n",
      "  adding: kaggle/working/test_evaluation_plots_1/epoc_10_img520.png (deflated 2%)\r\n",
      "  adding: kaggle/working/test_evaluation_plots_1/epoc_10_img570.png (deflated 2%)\r\n",
      "  adding: kaggle/working/test_evaluation_plots_1/epoc_10_img880.png (deflated 2%)\r\n",
      "  adding: kaggle/working/test_evaluation_plots_1/epoc_10_img590.png (deflated 2%)\r\n",
      "  adding: kaggle/working/test_evaluation_plots_1/epoc_10_img460.png (deflated 2%)\r\n",
      "  adding: kaggle/working/test_evaluation_plots_1/epoc_10_img680.png (deflated 2%)\r\n",
      "  adding: kaggle/working/test_evaluation_plots_1/epoc_10_img220.png (deflated 2%)\r\n",
      "  adding: kaggle/working/test_evaluation_plots_1/epoc_10_img580.png (deflated 2%)\r\n",
      "  adding: kaggle/working/test_evaluation_plots_1/epoc_10_img740.png (deflated 2%)\r\n",
      "  adding: kaggle/working/test_evaluation_plots_1/epoc_10_img470.png (deflated 2%)\r\n",
      "  adding: kaggle/working/test_evaluation_plots_1/epoc_10_img190.png (deflated 2%)\r\n",
      "  adding: kaggle/working/test_evaluation_plots_1/epoc_10_img350.png (deflated 2%)\r\n",
      "  adding: kaggle/working/test_evaluation_plots_1/epoc_10_img980.png (deflated 2%)\r\n",
      "  adding: kaggle/working/test_evaluation_plots_1/epoc_10_img70.png (deflated 2%)\r\n",
      "  adding: kaggle/working/test_evaluation_plots_1/epoc_10_img420.png (deflated 2%)\r\n",
      "  adding: kaggle/working/test_evaluation_plots_1/epoc_10_img610.png (deflated 2%)\r\n",
      "  adding: kaggle/working/test_evaluation_plots_1/epoc_10_img540.png (deflated 2%)\r\n",
      "  adding: kaggle/working/test_evaluation_plots_1/epoc_10_img850.png (deflated 2%)\r\n",
      "  adding: kaggle/working/test_evaluation_plots_1/epoc_10_img620.png (deflated 2%)\r\n",
      "  adding: kaggle/working/test_evaluation_plots_1/epoc_10_img210.png (deflated 2%)\r\n",
      "  adding: kaggle/working/test_evaluation_plots_1/epoc_10_img770.png (deflated 2%)\r\n",
      "  adding: kaggle/working/test_evaluation_plots_1/epoc_10_img60.png (deflated 2%)\r\n",
      "  adding: kaggle/working/test_evaluation_plots_1/epoc_10_img120.png (deflated 2%)\r\n",
      "  adding: kaggle/working/test_evaluation_plots_1/epoc_10_img690.png (deflated 2%)\r\n",
      "  adding: kaggle/working/test_evaluation_plots_1/epoc_10_img30.png (deflated 2%)\r\n",
      "  adding: kaggle/working/test_evaluation_plots_1/epoc_10_img650.png (deflated 2%)\r\n",
      "  adding: kaggle/working/test_evaluation_plots_1/epoc_10_img320.png (deflated 2%)\r\n",
      "  adding: kaggle/working/test_evaluation_plots_1/epoc_10_img230.png (deflated 2%)\r\n",
      "  adding: kaggle/working/test_evaluation_plots_1/epoc_10_img360.png (deflated 2%)\r\n",
      "  adding: kaggle/working/test_evaluation_plots_1/epoc_10_img300.png (deflated 2%)\r\n",
      "  adding: kaggle/working/test_evaluation_plots_1/epoc_10_img380.png (deflated 2%)\r\n"
     ]
    }
   ],
   "source": [
    "for img_i in range(0,len(test_dataset)//2, 10):\n",
    "    save_some_examples(gen_model, test_dataset, NUM_EPOCHS, folder=\"test_evaluation_plots_1\",cm_input=INPUT_CHANGE_MAP, img_indx=img_i)\n",
    "!zip -r /kaggle/working/test_evalplot1.zip  /kaggle/working/test_evaluation_plots_1/"
   ]
  },
  {
   "cell_type": "code",
   "execution_count": 24,
   "id": "f07afcb8",
   "metadata": {
    "execution": {
     "iopub.execute_input": "2023-04-26T08:08:53.005486Z",
     "iopub.status.busy": "2023-04-26T08:08:53.004969Z",
     "iopub.status.idle": "2023-04-26T08:09:54.568588Z",
     "shell.execute_reply": "2023-04-26T08:09:54.567094Z"
    },
    "papermill": {
     "duration": 62.396869,
     "end_time": "2023-04-26T08:09:54.571606",
     "exception": false,
     "start_time": "2023-04-26T08:08:52.174737",
     "status": "completed"
    },
    "tags": []
   },
   "outputs": [
    {
     "name": "stdout",
     "output_type": "stream",
     "text": [
      "  adding: kaggle/working/test_evaluation_plots_2/ (stored 0%)\r\n",
      "  adding: kaggle/working/test_evaluation_plots_2/epoc_10_img1581.png (deflated 2%)\r\n",
      "  adding: kaggle/working/test_evaluation_plots_2/epoc_10_img1751.png (deflated 2%)\r\n",
      "  adding: kaggle/working/test_evaluation_plots_2/epoc_10_img1471.png (deflated 2%)\r\n",
      "  adding: kaggle/working/test_evaluation_plots_2/epoc_10_img1671.png (deflated 2%)\r\n",
      "  adding: kaggle/working/test_evaluation_plots_2/epoc_10_img1311.png (deflated 2%)\r\n",
      "  adding: kaggle/working/test_evaluation_plots_2/epoc_10_img2001.png (deflated 2%)\r\n",
      "  adding: kaggle/working/test_evaluation_plots_2/epoc_10_img1051.png (deflated 2%)\r\n",
      "  adding: kaggle/working/test_evaluation_plots_2/epoc_10_img1651.png (deflated 2%)\r\n",
      "  adding: kaggle/working/test_evaluation_plots_2/epoc_10_img1381.png (deflated 2%)\r\n",
      "  adding: kaggle/working/test_evaluation_plots_2/epoc_10_img1881.png (deflated 2%)\r\n",
      "  adding: kaggle/working/test_evaluation_plots_2/epoc_10_img1331.png (deflated 2%)\r\n",
      "  adding: kaggle/working/test_evaluation_plots_2/epoc_10_img1131.png (deflated 2%)\r\n",
      "  adding: kaggle/working/test_evaluation_plots_2/epoc_10_img1941.png (deflated 2%)\r\n",
      "  adding: kaggle/working/test_evaluation_plots_2/epoc_10_img1791.png (deflated 2%)\r\n",
      "  adding: kaggle/working/test_evaluation_plots_2/epoc_10_img1321.png (deflated 2%)\r\n",
      "  adding: kaggle/working/test_evaluation_plots_2/epoc_10_img1351.png (deflated 2%)\r\n",
      "  adding: kaggle/working/test_evaluation_plots_2/epoc_10_img1121.png (deflated 2%)\r\n",
      "  adding: kaggle/working/test_evaluation_plots_2/epoc_10_img1621.png (deflated 2%)\r\n",
      "  adding: kaggle/working/test_evaluation_plots_2/epoc_10_img1961.png (deflated 2%)\r\n",
      "  adding: kaggle/working/test_evaluation_plots_2/epoc_10_img1341.png (deflated 2%)\r\n",
      "  adding: kaggle/working/test_evaluation_plots_2/epoc_10_img1551.png (deflated 2%)\r\n",
      "  adding: kaggle/working/test_evaluation_plots_2/epoc_10_img1891.png (deflated 2%)\r\n",
      "  adding: kaggle/working/test_evaluation_plots_2/epoc_10_img1211.png (deflated 2%)\r\n",
      "  adding: kaggle/working/test_evaluation_plots_2/epoc_10_img1501.png (deflated 2%)\r\n",
      "  adding: kaggle/working/test_evaluation_plots_2/epoc_10_img1391.png (deflated 2%)\r\n",
      "  adding: kaggle/working/test_evaluation_plots_2/epoc_10_img1991.png (deflated 2%)\r\n",
      "  adding: kaggle/working/test_evaluation_plots_2/epoc_10_img1241.png (deflated 2%)\r\n",
      "  adding: kaggle/working/test_evaluation_plots_2/epoc_10_img1061.png (deflated 2%)\r\n",
      "  adding: kaggle/working/test_evaluation_plots_2/epoc_10_img1631.png (deflated 2%)\r\n",
      "  adding: kaggle/working/test_evaluation_plots_2/epoc_10_img1111.png (deflated 2%)\r\n",
      "  adding: kaggle/working/test_evaluation_plots_2/epoc_10_img1281.png (deflated 2%)\r\n",
      "  adding: kaggle/working/test_evaluation_plots_2/epoc_10_img1861.png (deflated 2%)\r\n",
      "  adding: kaggle/working/test_evaluation_plots_2/epoc_10_img1491.png (deflated 2%)\r\n",
      "  adding: kaggle/working/test_evaluation_plots_2/epoc_10_img1871.png (deflated 2%)\r\n",
      "  adding: kaggle/working/test_evaluation_plots_2/epoc_10_img1451.png (deflated 2%)\r\n",
      "  adding: kaggle/working/test_evaluation_plots_2/epoc_10_img1461.png (deflated 2%)\r\n",
      "  adding: kaggle/working/test_evaluation_plots_2/epoc_10_img1801.png (deflated 2%)\r\n",
      "  adding: kaggle/working/test_evaluation_plots_2/epoc_10_img1081.png (deflated 2%)\r\n",
      "  adding: kaggle/working/test_evaluation_plots_2/epoc_10_img1561.png (deflated 2%)\r\n",
      "  adding: kaggle/working/test_evaluation_plots_2/epoc_10_img1221.png (deflated 2%)\r\n",
      "  adding: kaggle/working/test_evaluation_plots_2/epoc_10_img1411.png (deflated 2%)\r\n",
      "  adding: kaggle/working/test_evaluation_plots_2/epoc_10_img1841.png (deflated 2%)\r\n",
      "  adding: kaggle/working/test_evaluation_plots_2/epoc_10_img1011.png (deflated 2%)\r\n",
      "  adding: kaggle/working/test_evaluation_plots_2/epoc_10_img1091.png (deflated 2%)\r\n",
      "  adding: kaggle/working/test_evaluation_plots_2/epoc_10_img1401.png (deflated 2%)\r\n",
      "  adding: kaggle/working/test_evaluation_plots_2/epoc_10_img1951.png (deflated 2%)\r\n",
      "  adding: kaggle/working/test_evaluation_plots_2/epoc_10_img1251.png (deflated 2%)\r\n",
      "  adding: kaggle/working/test_evaluation_plots_2/epoc_10_img1481.png (deflated 2%)\r\n",
      "  adding: kaggle/working/test_evaluation_plots_2/epoc_10_img1151.png (deflated 2%)\r\n",
      "  adding: kaggle/working/test_evaluation_plots_2/epoc_10_img1821.png (deflated 2%)\r\n",
      "  adding: kaggle/working/test_evaluation_plots_2/epoc_10_img1721.png (deflated 2%)\r\n",
      "  adding: kaggle/working/test_evaluation_plots_2/epoc_10_img1571.png (deflated 2%)\r\n",
      "  adding: kaggle/working/test_evaluation_plots_2/epoc_10_img1771.png (deflated 2%)\r\n",
      "  adding: kaggle/working/test_evaluation_plots_2/epoc_10_img1071.png (deflated 2%)\r\n",
      "  adding: kaggle/working/test_evaluation_plots_2/epoc_10_img1531.png (deflated 3%)\r\n",
      "  adding: kaggle/working/test_evaluation_plots_2/epoc_10_img1161.png (deflated 2%)\r\n",
      "  adding: kaggle/working/test_evaluation_plots_2/epoc_10_img1971.png (deflated 2%)\r\n",
      "  adding: kaggle/working/test_evaluation_plots_2/epoc_10_img1431.png (deflated 2%)\r\n",
      "  adding: kaggle/working/test_evaluation_plots_2/epoc_10_img1711.png (deflated 2%)\r\n",
      "  adding: kaggle/working/test_evaluation_plots_2/epoc_10_img1171.png (deflated 2%)\r\n",
      "  adding: kaggle/working/test_evaluation_plots_2/epoc_10_img1181.png (deflated 2%)\r\n",
      "  adding: kaggle/working/test_evaluation_plots_2/epoc_10_img1101.png (deflated 2%)\r\n",
      "  adding: kaggle/working/test_evaluation_plots_2/epoc_10_img1371.png (deflated 2%)\r\n",
      "  adding: kaggle/working/test_evaluation_plots_2/epoc_10_img1641.png (deflated 2%)\r\n",
      "  adding: kaggle/working/test_evaluation_plots_2/epoc_10_img1731.png (deflated 2%)\r\n",
      "  adding: kaggle/working/test_evaluation_plots_2/epoc_10_img1201.png (deflated 2%)\r\n",
      "  adding: kaggle/working/test_evaluation_plots_2/epoc_10_img1291.png (deflated 2%)\r\n",
      "  adding: kaggle/working/test_evaluation_plots_2/epoc_10_img1611.png (deflated 2%)\r\n",
      "  adding: kaggle/working/test_evaluation_plots_2/epoc_10_img1691.png (deflated 2%)\r\n",
      "  adding: kaggle/working/test_evaluation_plots_2/epoc_10_img1031.png (deflated 2%)\r\n",
      "  adding: kaggle/working/test_evaluation_plots_2/epoc_10_img1981.png (deflated 2%)\r\n",
      "  adding: kaggle/working/test_evaluation_plots_2/epoc_10_img1021.png (deflated 2%)\r\n",
      "  adding: kaggle/working/test_evaluation_plots_2/epoc_10_img1851.png (deflated 2%)\r\n",
      "  adding: kaggle/working/test_evaluation_plots_2/epoc_10_img1831.png (deflated 2%)\r\n",
      "  adding: kaggle/working/test_evaluation_plots_2/epoc_10_img1141.png (deflated 2%)\r\n",
      "  adding: kaggle/working/test_evaluation_plots_2/epoc_10_img1301.png (deflated 2%)\r\n",
      "  adding: kaggle/working/test_evaluation_plots_2/epoc_10_img1361.png (deflated 2%)\r\n",
      "  adding: kaggle/working/test_evaluation_plots_2/epoc_10_img1271.png (deflated 2%)\r\n",
      "  adding: kaggle/working/test_evaluation_plots_2/epoc_10_img1811.png (deflated 2%)\r\n",
      "  adding: kaggle/working/test_evaluation_plots_2/epoc_10_img1591.png (deflated 2%)\r\n",
      "  adding: kaggle/working/test_evaluation_plots_2/epoc_10_img1421.png (deflated 2%)\r\n",
      "  adding: kaggle/working/test_evaluation_plots_2/epoc_10_img1931.png (deflated 2%)\r\n",
      "  adding: kaggle/working/test_evaluation_plots_2/epoc_10_img1261.png (deflated 2%)\r\n",
      "  adding: kaggle/working/test_evaluation_plots_2/epoc_10_img1911.png (deflated 2%)\r\n",
      "  adding: kaggle/working/test_evaluation_plots_2/epoc_10_img1701.png (deflated 2%)\r\n",
      "  adding: kaggle/working/test_evaluation_plots_2/epoc_10_img1741.png (deflated 2%)\r\n",
      "  adding: kaggle/working/test_evaluation_plots_2/epoc_10_img1001.png (deflated 2%)\r\n",
      "  adding: kaggle/working/test_evaluation_plots_2/epoc_10_img1781.png (deflated 2%)\r\n",
      "  adding: kaggle/working/test_evaluation_plots_2/epoc_10_img1231.png (deflated 2%)\r\n",
      "  adding: kaggle/working/test_evaluation_plots_2/epoc_10_img1191.png (deflated 2%)\r\n",
      "  adding: kaggle/working/test_evaluation_plots_2/epoc_10_img1661.png (deflated 2%)\r\n",
      "  adding: kaggle/working/test_evaluation_plots_2/epoc_10_img1681.png (deflated 2%)\r\n",
      "  adding: kaggle/working/test_evaluation_plots_2/epoc_10_img1041.png (deflated 2%)\r\n",
      "  adding: kaggle/working/test_evaluation_plots_2/epoc_10_img1901.png (deflated 2%)\r\n",
      "  adding: kaggle/working/test_evaluation_plots_2/epoc_10_img1511.png (deflated 2%)\r\n",
      "  adding: kaggle/working/test_evaluation_plots_2/epoc_10_img1761.png (deflated 2%)\r\n",
      "  adding: kaggle/working/test_evaluation_plots_2/epoc_10_img1541.png (deflated 2%)\r\n",
      "  adding: kaggle/working/test_evaluation_plots_2/epoc_10_img1921.png (deflated 2%)\r\n",
      "  adding: kaggle/working/test_evaluation_plots_2/epoc_10_img1441.png (deflated 2%)\r\n",
      "  adding: kaggle/working/test_evaluation_plots_2/epoc_10_img1601.png (deflated 2%)\r\n",
      "  adding: kaggle/working/test_evaluation_plots_2/epoc_10_img1521.png (deflated 2%)\r\n"
     ]
    }
   ],
   "source": [
    "for img_i in range(len(test_dataset)//2,len(test_dataset), 10):\n",
    "    save_some_examples(gen_model, test_dataset, NUM_EPOCHS, folder=\"test_evaluation_plots_2\",cm_input=INPUT_CHANGE_MAP, img_indx=img_i)\n",
    "!zip -r /kaggle/working/test_evalplot2.zip  /kaggle/working/test_evaluation_plots_2/"
   ]
  },
  {
   "cell_type": "code",
   "execution_count": 25,
   "id": "e98965e6",
   "metadata": {
    "execution": {
     "iopub.execute_input": "2023-04-26T08:09:55.890653Z",
     "iopub.status.busy": "2023-04-26T08:09:55.890165Z",
     "iopub.status.idle": "2023-04-26T08:09:55.895874Z",
     "shell.execute_reply": "2023-04-26T08:09:55.894813Z"
    },
    "papermill": {
     "duration": 0.745392,
     "end_time": "2023-04-26T08:09:55.899714",
     "exception": false,
     "start_time": "2023-04-26T08:09:55.154322",
     "status": "completed"
    },
    "tags": []
   },
   "outputs": [],
   "source": [
    "# !zip -r /kaggle/working/train_evalplot.zip  /kaggle/working/train_evaluation_plots/"
   ]
  },
  {
   "cell_type": "code",
   "execution_count": 26,
   "id": "861a59c6",
   "metadata": {
    "execution": {
     "iopub.execute_input": "2023-04-26T08:09:57.418521Z",
     "iopub.status.busy": "2023-04-26T08:09:57.418153Z",
     "iopub.status.idle": "2023-04-26T08:09:57.422672Z",
     "shell.execute_reply": "2023-04-26T08:09:57.421624Z"
    },
    "papermill": {
     "duration": 0.578129,
     "end_time": "2023-04-26T08:09:57.424807",
     "exception": false,
     "start_time": "2023-04-26T08:09:56.846678",
     "status": "completed"
    },
    "tags": []
   },
   "outputs": [],
   "source": [
    "# from IPython.display import FileLink\n",
    "# FileLink(r'/kaggle/working/evalplot.zip')"
   ]
  },
  {
   "cell_type": "code",
   "execution_count": 27,
   "id": "8a327707",
   "metadata": {
    "execution": {
     "iopub.execute_input": "2023-04-26T08:09:58.742382Z",
     "iopub.status.busy": "2023-04-26T08:09:58.741873Z",
     "iopub.status.idle": "2023-04-26T08:09:58.747417Z",
     "shell.execute_reply": "2023-04-26T08:09:58.746351Z"
    },
    "papermill": {
     "duration": 0.647194,
     "end_time": "2023-04-26T08:09:58.749824",
     "exception": false,
     "start_time": "2023-04-26T08:09:58.102630",
     "status": "completed"
    },
    "tags": []
   },
   "outputs": [],
   "source": [
    "# def eval_graph_fn(gen, loader, ssim, psnr):\n",
    "#     gen.eval()\n",
    "#     loop = tqdm(loader, leave=True)\n",
    "    \n",
    "#     wssim_ratio_list = []\n",
    "#     wpsnr_ratio_list = []\n",
    "#     s1cm_mean_list   = []\n",
    "    \n",
    "#     for idx, (s2t2,s1t2,s2t1,s1t1,cm,rcm,s1cm) in enumerate(loop):\n",
    "#         s2t2,s1t2,s2t1,s1t1,cm,rcm,s1cm = s2t2.to(DEVICE),s1t2.to(DEVICE),s2t1.to(DEVICE),s1t1.to(DEVICE),cm.to(DEVICE),rcm.to(DEVICE),s1cm.to(DEVICE)\n",
    "#         s2t2,s1t2,s2t1,s1t1,cm,rcm,s1cm = s2t2.to(torch.float32),s1t2.to(torch.float32),s2t1.to(torch.float32),s1t1.to(torch.float32),cm.to(torch.float32),rcm.to(torch.float32),s1cm.to(torch.float32)\n",
    "#         if INPUT_CHANGE_MAP:\n",
    "#             s2t2 = torch.cat((s2t2, cm), dim=1)\n",
    "#             s1t1 = torch.cat((s1t1, rcm), dim=1)\n",
    "#         preds = gen(s2t2, s1t1)\n",
    "        \n",
    "#         s1t2_list = s1t2.to(\"cpu\").chunk(s1t2.size(0))\n",
    "#         preds_list = preds.to(\"cpu\").chunk(preds.size(0))\n",
    "#         s1cm_list = s1cm.to(\"cpu\").chunk(s1cm.size(0))\n",
    "        \n",
    "        \n",
    "#         wssim_ratio_batch_list = [ssim((s1t2, preds), s1cm)/ssim((s1t2, preds)) for s1t2, preds, s1cm in zip(s1t2_list, preds_list, s1cm_list)]\n",
    "#         wpsnr_ratio_batch_list = [psnr((s1t2, preds))-psnr((s1t2, preds), s1cm) for s1t2, preds, s1cm in zip(s1t2_list, preds_list, s1cm_list)]\n",
    "#         s1cm_mean_batch_list   = [s1cm.mean() for s1cm in s1cm_list]\n",
    "        \n",
    "#         wssim_ratio_list = wssim_ratio_list + wssim_ratio_batch_list\n",
    "#         wpsnr_ratio_list = wpsnr_ratio_list + wpsnr_ratio_batch_list\n",
    "#         s1cm_mean_list   = s1cm_mean_list   + s1cm_mean_batch_list  \n",
    "    \n",
    "#     return wssim_ratio_list, wpsnr_ratio_list, s1cm_mean_list"
   ]
  },
  {
   "cell_type": "code",
   "execution_count": 28,
   "id": "2aca8aae",
   "metadata": {
    "execution": {
     "iopub.execute_input": "2023-04-26T08:09:59.904227Z",
     "iopub.status.busy": "2023-04-26T08:09:59.903833Z",
     "iopub.status.idle": "2023-04-26T08:09:59.908723Z",
     "shell.execute_reply": "2023-04-26T08:09:59.907409Z"
    },
    "papermill": {
     "duration": 0.583905,
     "end_time": "2023-04-26T08:09:59.910787",
     "exception": false,
     "start_time": "2023-04-26T08:09:59.326882",
     "status": "completed"
    },
    "tags": []
   },
   "outputs": [],
   "source": [
    "# ssim_ratio_list, wpsnr_ratio_list, s1cm_mean_list = eval_graph_fn(gen_model, test_loader, wssim, wpsnr)"
   ]
  },
  {
   "cell_type": "code",
   "execution_count": 29,
   "id": "10c2d03c",
   "metadata": {
    "execution": {
     "iopub.execute_input": "2023-04-26T08:10:01.111060Z",
     "iopub.status.busy": "2023-04-26T08:10:01.110672Z",
     "iopub.status.idle": "2023-04-26T08:10:01.115370Z",
     "shell.execute_reply": "2023-04-26T08:10:01.114325Z"
    },
    "papermill": {
     "duration": 0.577592,
     "end_time": "2023-04-26T08:10:01.117578",
     "exception": false,
     "start_time": "2023-04-26T08:10:00.539986",
     "status": "completed"
    },
    "tags": []
   },
   "outputs": [],
   "source": [
    "# plt.plot(ssim_ratio_list,s1cm_mean_list)"
   ]
  },
  {
   "cell_type": "code",
   "execution_count": null,
   "id": "2b114378",
   "metadata": {
    "papermill": {
     "duration": 0.62613,
     "end_time": "2023-04-26T08:10:02.322378",
     "exception": false,
     "start_time": "2023-04-26T08:10:01.696248",
     "status": "completed"
    },
    "tags": []
   },
   "outputs": [],
   "source": []
  }
 ],
 "metadata": {
  "kernelspec": {
   "display_name": "Python 3",
   "language": "python",
   "name": "python3"
  },
  "language_info": {
   "codemirror_mode": {
    "name": "ipython",
    "version": 3
   },
   "file_extension": ".py",
   "mimetype": "text/x-python",
   "name": "python",
   "nbconvert_exporter": "python",
   "pygments_lexer": "ipython3",
   "version": "3.7.12"
  },
  "papermill": {
   "default_parameters": {},
   "duration": 4648.410062,
   "end_time": "2023-04-26T08:10:05.739775",
   "environment_variables": {},
   "exception": null,
   "input_path": "__notebook__.ipynb",
   "output_path": "__notebook__.ipynb",
   "parameters": {},
   "start_time": "2023-04-26T06:52:37.329713",
   "version": "2.4.0"
  }
 },
 "nbformat": 4,
 "nbformat_minor": 5
}
